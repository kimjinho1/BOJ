{
 "cells": [
  {
   "cell_type": "code",
   "execution_count": 21,
   "metadata": {
    "ExecuteTime": {
     "end_time": "2021-02-09T01:30:09.835573Z",
     "start_time": "2021-02-09T01:30:08.850209Z"
    }
   },
   "outputs": [
    {
     "name": "stdout",
     "output_type": "stream",
     "text": [
      "5 3\n",
      "unsatisfactory\n"
     ]
    }
   ],
   "source": [
    "m, n = map(int, input().split())\n",
    "print(\"satisfactory\" if m >= 8 else \"unsatisfactory\")"
   ]
  },
  {
   "cell_type": "code",
   "execution_count": 22,
   "metadata": {
    "ExecuteTime": {
     "end_time": "2021-02-09T01:33:30.762335Z",
     "start_time": "2021-02-09T01:33:29.769989Z"
    }
   },
   "outputs": [
    {
     "name": "stdout",
     "output_type": "stream",
     "text": [
      "8 3\n",
      "satisfactory\n"
     ]
    }
   ],
   "source": [
    "m, n = map(int, input().split())\n",
    "print(\"satisfactory\" if m >= 8 else \"unsatisfactory\")"
   ]
  },
  {
   "cell_type": "code",
   "execution_count": 19,
   "metadata": {
    "ExecuteTime": {
     "end_time": "2021-02-09T01:27:25.167002Z",
     "start_time": "2021-02-09T01:26:56.886616Z"
    }
   },
   "outputs": [
    {
     "name": "stdout",
     "output_type": "stream",
     "text": [
      "5 3\n",
      "-1 2 3\n",
      "-1 -2 3\n",
      "1 -2 3\n",
      "1 -2 -3\n",
      "1 2 -3\n",
      "unsatisfactory\n"
     ]
    }
   ],
   "source": [
    "m, n = map(int, input().split())\n",
    "check = 0\n",
    "for _ in range(m):\n",
    "    a, b, c = map(int, input().split())\n",
    "    a = 1 if a > 0 else 0\n",
    "    b = 1 if a > 0 else 0\n",
    "    c = 1 if a > 0 else 0    \n",
    "    if (not a or b or c) and (not a or not b or c) and (a or not b or c) \\\n",
    "        and (a or not b or not c) and (a or b or c) and m >= 8:\n",
    "        check = 1\n",
    "print(\"satisfactory\" if check else \"unsatisfactory\")"
   ]
  },
  {
   "cell_type": "code",
   "execution_count": 20,
   "metadata": {
    "ExecuteTime": {
     "end_time": "2021-02-09T01:28:08.662701Z",
     "start_time": "2021-02-09T01:27:43.541871Z"
    }
   },
   "outputs": [
    {
     "name": "stdout",
     "output_type": "stream",
     "text": [
      "8 3\n",
      "1 2 3\n",
      "1 2 -3\n",
      "1 -2 -3\n",
      "-1 2 3\n",
      "-1 2 -3\n",
      "-1 -2 3\n",
      "-1 -2 -3\n",
      "1 -2 3\n",
      "satisfactory\n"
     ]
    }
   ],
   "source": [
    "m, n = map(int, input().split())\n",
    "check = 0\n",
    "for _ in range(m):\n",
    "    a, b, c = map(int, input().split())\n",
    "    a = 1 if a > 0 else 0\n",
    "    b = 1 if a > 0 else 0\n",
    "    c = 1 if a > 0 else 0    \n",
    "    if (not a or b or c) and (not a or not b or c) and (a or not b or c) \\\n",
    "        and (a or not b or not c) and (a or b or c) and m >= 8:\n",
    "        check = 1\n",
    "print(\"satisfactory\" if check else \"unsatisfactory\")"
   ]
  },
  {
   "cell_type": "code",
   "execution_count": null,
   "metadata": {},
   "outputs": [],
   "source": []
  }
 ],
 "metadata": {
  "kernelspec": {
   "display_name": "Python 3",
   "language": "python",
   "name": "python3"
  },
  "language_info": {
   "codemirror_mode": {
    "name": "ipython",
    "version": 3
   },
   "file_extension": ".py",
   "mimetype": "text/x-python",
   "name": "python",
   "nbconvert_exporter": "python",
   "pygments_lexer": "ipython3",
   "version": "3.8.5"
  },
  "toc": {
   "base_numbering": 1,
   "nav_menu": {},
   "number_sections": true,
   "sideBar": true,
   "skip_h1_title": false,
   "title_cell": "Table of Contents",
   "title_sidebar": "Contents",
   "toc_cell": false,
   "toc_position": {},
   "toc_section_display": true,
   "toc_window_display": false
  },
  "varInspector": {
   "cols": {
    "lenName": 16,
    "lenType": 16,
    "lenVar": 40
   },
   "kernels_config": {
    "python": {
     "delete_cmd_postfix": "",
     "delete_cmd_prefix": "del ",
     "library": "var_list.py",
     "varRefreshCmd": "print(var_dic_list())"
    },
    "r": {
     "delete_cmd_postfix": ") ",
     "delete_cmd_prefix": "rm(",
     "library": "var_list.r",
     "varRefreshCmd": "cat(var_dic_list()) "
    }
   },
   "types_to_exclude": [
    "module",
    "function",
    "builtin_function_or_method",
    "instance",
    "_Feature"
   ],
   "window_display": false
  }
 },
 "nbformat": 4,
 "nbformat_minor": 4
}
