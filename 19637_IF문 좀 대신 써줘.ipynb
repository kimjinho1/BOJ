{
 "cells": [
  {
   "cell_type": "code",
   "execution_count": null,
   "metadata": {},
   "outputs": [],
   "source": [
    "import sys\n",
    "\n",
    "def bs(li, n):\n",
    "    s, e = 0, len(li)-1\n",
    "    res = 0\n",
    "    while s <= e:\n",
    "        m = (s+e)//2\n",
    "        if int(li[m][1]) >= n:\n",
    "            e = m-1\n",
    "            res = m\n",
    "        else:\n",
    "            s = m+1\n",
    "    return res\n",
    "\n",
    "N, M = map(int, sys.stdin.readline().split())\n",
    "li = [sys.stdin.readline().split() for _ in range(N)]\n",
    "for _ in range(M):\n",
    "    n = int(sys.stdin.readline())\n",
    "    print(li[bs(li, n)][0])"
   ]
  },
  {
   "cell_type": "code",
   "execution_count": 9,
   "metadata": {
    "ExecuteTime": {
     "end_time": "2021-02-28T09:20:30.977386Z",
     "start_time": "2021-02-28T09:20:00.709702Z"
    }
   },
   "outputs": [
    {
     "name": "stdout",
     "output_type": "stream",
     "text": [
      "3 8\n",
      "WEAK 10000\n",
      "NORMAL 100000\n",
      "STRONG 100000000\n",
      "0\n",
      "WEAK\n",
      "9999\n",
      "WEAK\n",
      "10000\n",
      "WEAK\n",
      "10001\n",
      "NORMAL\n",
      "50000\n",
      "NORMAL\n",
      "100000\n",
      "NORMAL\n",
      "500000\n",
      "STRONG\n",
      "1000000\n",
      "STRONG\n"
     ]
    }
   ],
   "source": [
    "def bs(li, n):\n",
    "    s, e = 0, len(li)-1\n",
    "    res = 0\n",
    "    while s <= e:\n",
    "        m = (s+e)//2\n",
    "        if int(li[m][1]) >= n:\n",
    "            e = m-1\n",
    "            res = m\n",
    "        else:\n",
    "            s = m+1\n",
    "    return res\n",
    "\n",
    "N, M = map(int, input().split())\n",
    "li = [input().split() for _ in range(N)]\n",
    "for _ in range(M):\n",
    "    n = int(input())\n",
    "    print(li[bs(li, n)][0])"
   ]
  },
  {
   "cell_type": "code",
   "execution_count": null,
   "metadata": {},
   "outputs": [],
   "source": []
  }
 ],
 "metadata": {
  "kernelspec": {
   "display_name": "Python 3",
   "language": "python",
   "name": "python3"
  },
  "language_info": {
   "codemirror_mode": {
    "name": "ipython",
    "version": 3
   },
   "file_extension": ".py",
   "mimetype": "text/x-python",
   "name": "python",
   "nbconvert_exporter": "python",
   "pygments_lexer": "ipython3",
   "version": "3.8.5"
  },
  "toc": {
   "base_numbering": 1,
   "nav_menu": {},
   "number_sections": true,
   "sideBar": true,
   "skip_h1_title": false,
   "title_cell": "Table of Contents",
   "title_sidebar": "Contents",
   "toc_cell": false,
   "toc_position": {},
   "toc_section_display": true,
   "toc_window_display": false
  },
  "varInspector": {
   "cols": {
    "lenName": 16,
    "lenType": 16,
    "lenVar": 40
   },
   "kernels_config": {
    "python": {
     "delete_cmd_postfix": "",
     "delete_cmd_prefix": "del ",
     "library": "var_list.py",
     "varRefreshCmd": "print(var_dic_list())"
    },
    "r": {
     "delete_cmd_postfix": ") ",
     "delete_cmd_prefix": "rm(",
     "library": "var_list.r",
     "varRefreshCmd": "cat(var_dic_list()) "
    }
   },
   "types_to_exclude": [
    "module",
    "function",
    "builtin_function_or_method",
    "instance",
    "_Feature"
   ],
   "window_display": false
  }
 },
 "nbformat": 4,
 "nbformat_minor": 4
}
