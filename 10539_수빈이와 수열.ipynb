{
 "cells": [
  {
   "cell_type": "code",
   "execution_count": 3,
   "id": "powered-gazette",
   "metadata": {
    "ExecuteTime": {
     "end_time": "2021-02-18T02:17:14.265229Z",
     "start_time": "2021-02-18T02:17:13.486602Z"
    }
   },
   "outputs": [
    {
     "name": "stdout",
     "output_type": "stream",
     "text": [
      "1\n",
      "2\n",
      "2\n"
     ]
    }
   ],
   "source": [
    "N = int(input())\n",
    "li = list(map(int, input().split()))\n",
    "res = [li[0]]\n",
    "for i in range(1, N):\n",
    "    res.append(li[i]*(i+1) - sum(res))\n",
    "print(*res)"
   ]
  },
  {
   "cell_type": "code",
   "execution_count": 2,
   "id": "balanced-baseball",
   "metadata": {
    "ExecuteTime": {
     "end_time": "2021-02-18T02:17:05.685790Z",
     "start_time": "2021-02-18T02:17:03.159057Z"
    }
   },
   "outputs": [
    {
     "name": "stdout",
     "output_type": "stream",
     "text": [
      "4\n",
      "3 2 3 5\n",
      "3 1 5 11\n"
     ]
    }
   ],
   "source": [
    "N = int(input())\n",
    "li = list(map(int, input().split()))\n",
    "res = [li[0]]\n",
    "for i in range(1, N):\n",
    "    res.append(li[i]*(i+1) - sum(res))\n",
    "print(*res)"
   ]
  },
  {
   "cell_type": "code",
   "execution_count": 4,
   "id": "french-reason",
   "metadata": {
    "ExecuteTime": {
     "end_time": "2021-02-18T02:17:24.478132Z",
     "start_time": "2021-02-18T02:17:22.020151Z"
    }
   },
   "outputs": [
    {
     "name": "stdout",
     "output_type": "stream",
     "text": [
      "5\n",
      "1 2 2 3 4\n",
      "1 3 2 6 8\n"
     ]
    }
   ],
   "source": [
    "N = int(input())\n",
    "li = list(map(int, input().split()))\n",
    "res = [li[0]]\n",
    "for i in range(1, N):\n",
    "    res.append(li[i]*(i+1) - sum(res))\n",
    "print(*res)"
   ]
  },
  {
   "cell_type": "code",
   "execution_count": null,
   "id": "optical-hampton",
   "metadata": {},
   "outputs": [],
   "source": []
  }
 ],
 "metadata": {
  "kernelspec": {
   "display_name": "Python 3",
   "language": "python",
   "name": "python3"
  },
  "language_info": {
   "codemirror_mode": {
    "name": "ipython",
    "version": 3
   },
   "file_extension": ".py",
   "mimetype": "text/x-python",
   "name": "python",
   "nbconvert_exporter": "python",
   "pygments_lexer": "ipython3",
   "version": "3.7.9"
  },
  "toc": {
   "base_numbering": 1,
   "nav_menu": {},
   "number_sections": true,
   "sideBar": true,
   "skip_h1_title": false,
   "title_cell": "Table of Contents",
   "title_sidebar": "Contents",
   "toc_cell": false,
   "toc_position": {},
   "toc_section_display": true,
   "toc_window_display": false
  },
  "varInspector": {
   "cols": {
    "lenName": 16,
    "lenType": 16,
    "lenVar": 40
   },
   "kernels_config": {
    "python": {
     "delete_cmd_postfix": "",
     "delete_cmd_prefix": "del ",
     "library": "var_list.py",
     "varRefreshCmd": "print(var_dic_list())"
    },
    "r": {
     "delete_cmd_postfix": ") ",
     "delete_cmd_prefix": "rm(",
     "library": "var_list.r",
     "varRefreshCmd": "cat(var_dic_list()) "
    }
   },
   "types_to_exclude": [
    "module",
    "function",
    "builtin_function_or_method",
    "instance",
    "_Feature"
   ],
   "window_display": false
  }
 },
 "nbformat": 4,
 "nbformat_minor": 5
}
