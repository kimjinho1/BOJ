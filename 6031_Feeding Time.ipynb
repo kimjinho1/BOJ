{
 "cells": [
  {
   "cell_type": "code",
   "execution_count": 8,
   "metadata": {
    "ExecuteTime": {
     "end_time": "2021-03-14T10:41:10.111692Z",
     "start_time": "2021-03-14T10:40:52.651845Z"
    }
   },
   "outputs": [
    {
     "name": "stdout",
     "output_type": "stream",
     "text": [
      "10 8\n",
      "...*....**\n",
      "..**....**\n",
      "...*....**\n",
      "...**.*.**\n",
      "***.**.***\n",
      "...**.*.**\n",
      "...*.*****\n",
      "...***..**\n",
      "21\n"
     ]
    }
   ],
   "source": [
    "from collections import deque\n",
    "\n",
    "def bfs(y, x, t):\n",
    "    q = deque()\n",
    "    q.append((y, x))\n",
    "    graph[y][x] = t\n",
    "    cnt = 0\n",
    "    while q:\n",
    "        y, x = q.popleft()\n",
    "        cnt += 1\n",
    "        for dy, dx in d:\n",
    "            Y, X = y+dy, x+dx\n",
    "            if (0 <= Y < H) and (0 <= X < W) and graph[Y][X] == '.':\n",
    "                q.append((Y, X))\n",
    "                graph[Y][X] = t\n",
    "    return cnt\n",
    "    \n",
    "W, H = map(int, input().split())\n",
    "graph = [list(input()) for _ in range(H)]\n",
    "d = [(-1, -1), (-1, 1), (1, -1), (1, 1), (-1, 0), (1, 0), (0, -1), (0, 1)]\n",
    "cnt, res = 1, 0\n",
    "for i in range(H):\n",
    "    for j in range(W):\n",
    "        if graph[i][j] == '.':\n",
    "            res = max(res, bfs(i, j, cnt))\n",
    "            cnt += 1\n",
    "print(res)"
   ]
  },
  {
   "cell_type": "code",
   "execution_count": null,
   "metadata": {},
   "outputs": [],
   "source": []
  }
 ],
 "metadata": {
  "kernelspec": {
   "display_name": "Python 3",
   "language": "python",
   "name": "python3"
  },
  "language_info": {
   "codemirror_mode": {
    "name": "ipython",
    "version": 3
   },
   "file_extension": ".py",
   "mimetype": "text/x-python",
   "name": "python",
   "nbconvert_exporter": "python",
   "pygments_lexer": "ipython3",
   "version": "3.8.5"
  },
  "toc": {
   "base_numbering": 1,
   "nav_menu": {},
   "number_sections": true,
   "sideBar": true,
   "skip_h1_title": false,
   "title_cell": "Table of Contents",
   "title_sidebar": "Contents",
   "toc_cell": false,
   "toc_position": {},
   "toc_section_display": true,
   "toc_window_display": false
  },
  "varInspector": {
   "cols": {
    "lenName": 16,
    "lenType": 16,
    "lenVar": 40
   },
   "kernels_config": {
    "python": {
     "delete_cmd_postfix": "",
     "delete_cmd_prefix": "del ",
     "library": "var_list.py",
     "varRefreshCmd": "print(var_dic_list())"
    },
    "r": {
     "delete_cmd_postfix": ") ",
     "delete_cmd_prefix": "rm(",
     "library": "var_list.r",
     "varRefreshCmd": "cat(var_dic_list()) "
    }
   },
   "types_to_exclude": [
    "module",
    "function",
    "builtin_function_or_method",
    "instance",
    "_Feature"
   ],
   "window_display": false
  }
 },
 "nbformat": 4,
 "nbformat_minor": 4
}
