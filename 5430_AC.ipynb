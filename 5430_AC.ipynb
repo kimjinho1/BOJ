{
 "cells": [
  {
   "cell_type": "code",
   "execution_count": null,
   "metadata": {
    "ExecuteTime": {
     "end_time": "2021-03-06T08:41:29.072639Z",
     "start_time": "2021-03-06T08:41:29.047718Z"
    }
   },
   "outputs": [],
   "source": [
    "from collections import deque\n",
    "import sys\n",
    "\n",
    "for _ in range(int(sys.stdin.readline().rstrip())):\n",
    "    p = sys.stdin.readline().rstrip()\n",
    "    n = int(sys.stdin.readline().rstrip())\n",
    "    t = sys.stdin.readline().rstrip()[1:-1]\n",
    "    if not t:\n",
    "        queue = deque()\n",
    "    else:\n",
    "        queue = deque(map(int, t.split(',')))\n",
    "    ok = 1\n",
    "    is_rev = False\n",
    "    for c in p:\n",
    "        if c == 'R':\n",
    "            is_rev = not is_rev\n",
    "        elif queue and c == 'D':\n",
    "            if is_rev:\n",
    "                queue.pop()\n",
    "            else:\n",
    "                queue.popleft()\n",
    "        else:\n",
    "            ok = 0\n",
    "            break\n",
    "    if is_rev:\n",
    "        queue.reverse()\n",
    "    if ok:\n",
    "        print('[', end='')\n",
    "        print(*queue, sep=',', end='')\n",
    "        print(']')\n",
    "    else:\n",
    "        print(\"error\")"
   ]
  },
  {
   "cell_type": "code",
   "execution_count": 19,
   "metadata": {
    "ExecuteTime": {
     "end_time": "2021-03-06T08:41:14.592171Z",
     "start_time": "2021-03-06T08:40:57.089039Z"
    }
   },
   "outputs": [
    {
     "name": "stdout",
     "output_type": "stream",
     "text": [
      "4\n",
      "RDD\n",
      "4\n",
      "[1,2,3,4]\n",
      "[2,1]\n",
      "DD\n",
      "1\n",
      "[42]\n",
      "error\n",
      "RRD\n",
      "6\n",
      "[1,1,2,3,5,8]\n",
      "[1,2,3,5,8]\n",
      "D\n",
      "0\n",
      "[]\n",
      "error\n"
     ]
    }
   ],
   "source": [
    "from collections import deque\n",
    "\n",
    "for _ in range(int(input())):\n",
    "    p = input()\n",
    "    n = int(input())\n",
    "    t = input()[1:-1]\n",
    "    if not t:\n",
    "        queue = deque()\n",
    "    else:\n",
    "        queue = deque(map(int, t.split(',')))\n",
    "    ok = 1\n",
    "    is_rev = False\n",
    "    for c in p:\n",
    "        if c == 'R':\n",
    "            is_rev = not is_rev\n",
    "        elif queue and c == 'D':\n",
    "            if is_rev:\n",
    "                queue.pop()\n",
    "            else:\n",
    "                queue.popleft()\n",
    "        else:\n",
    "            ok = 0\n",
    "            break\n",
    "    if is_rev:\n",
    "        queue.reverse()\n",
    "    if ok:\n",
    "        print('[', end='')\n",
    "        print(*queue, sep=',', end='')\n",
    "        print(']')\n",
    "    else:\n",
    "        print(\"error\")"
   ]
  },
  {
   "cell_type": "code",
   "execution_count": null,
   "metadata": {},
   "outputs": [],
   "source": []
  }
 ],
 "metadata": {
  "kernelspec": {
   "display_name": "Python 3",
   "language": "python",
   "name": "python3"
  },
  "language_info": {
   "codemirror_mode": {
    "name": "ipython",
    "version": 3
   },
   "file_extension": ".py",
   "mimetype": "text/x-python",
   "name": "python",
   "nbconvert_exporter": "python",
   "pygments_lexer": "ipython3",
   "version": "3.8.5"
  },
  "toc": {
   "base_numbering": 1,
   "nav_menu": {},
   "number_sections": true,
   "sideBar": true,
   "skip_h1_title": false,
   "title_cell": "Table of Contents",
   "title_sidebar": "Contents",
   "toc_cell": false,
   "toc_position": {},
   "toc_section_display": true,
   "toc_window_display": false
  },
  "varInspector": {
   "cols": {
    "lenName": 16,
    "lenType": 16,
    "lenVar": 40
   },
   "kernels_config": {
    "python": {
     "delete_cmd_postfix": "",
     "delete_cmd_prefix": "del ",
     "library": "var_list.py",
     "varRefreshCmd": "print(var_dic_list())"
    },
    "r": {
     "delete_cmd_postfix": ") ",
     "delete_cmd_prefix": "rm(",
     "library": "var_list.r",
     "varRefreshCmd": "cat(var_dic_list()) "
    }
   },
   "types_to_exclude": [
    "module",
    "function",
    "builtin_function_or_method",
    "instance",
    "_Feature"
   ],
   "window_display": false
  }
 },
 "nbformat": 4,
 "nbformat_minor": 4
}
