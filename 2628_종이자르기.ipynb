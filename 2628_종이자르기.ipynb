{
 "cells": [
  {
   "cell_type": "code",
   "execution_count": 18,
   "id": "horizontal-swiss",
   "metadata": {
    "ExecuteTime": {
     "end_time": "2021-02-20T09:05:53.035904Z",
     "start_time": "2021-02-20T09:05:48.340397Z"
    }
   },
   "outputs": [
    {
     "name": "stdout",
     "output_type": "stream",
     "text": [
      "10 8\n",
      "3\n",
      "0 3\n",
      "1 4\n",
      "0 2\n",
      "30\n"
     ]
    }
   ],
   "source": [
    "n, m = map(int, input().split())\n",
    "x = [0, n]; y = [0, m]\n",
    "for _ in range(int(input())):\n",
    "    t, a = map(int, input().split())\n",
    "    if t == 0:\n",
    "        y.append(a)\n",
    "    elif t == 1:\n",
    "        x.append(a)\n",
    "x.sort(); y.sort()\n",
    "max_x = max_y = 0\n",
    "for i in range(len(x)-1):\n",
    "    if max_x < x[i+1]-x[i]:\n",
    "        max_x = x[i+1]-x[i]\n",
    "for i in range(len(y)-1):\n",
    "    if max_y < y[i+1]-y[i]:\n",
    "        max_y = y[i+1]-y[i]\n",
    "print(max_x*max_y)"
   ]
  },
  {
   "cell_type": "code",
   "execution_count": null,
   "id": "threaded-stocks",
   "metadata": {},
   "outputs": [],
   "source": []
  }
 ],
 "metadata": {
  "kernelspec": {
   "display_name": "Python 3",
   "language": "python",
   "name": "python3"
  },
  "language_info": {
   "codemirror_mode": {
    "name": "ipython",
    "version": 3
   },
   "file_extension": ".py",
   "mimetype": "text/x-python",
   "name": "python",
   "nbconvert_exporter": "python",
   "pygments_lexer": "ipython3",
   "version": "3.7.9"
  },
  "toc": {
   "base_numbering": 1,
   "nav_menu": {},
   "number_sections": true,
   "sideBar": true,
   "skip_h1_title": false,
   "title_cell": "Table of Contents",
   "title_sidebar": "Contents",
   "toc_cell": false,
   "toc_position": {},
   "toc_section_display": true,
   "toc_window_display": false
  },
  "varInspector": {
   "cols": {
    "lenName": 16,
    "lenType": 16,
    "lenVar": 40
   },
   "kernels_config": {
    "python": {
     "delete_cmd_postfix": "",
     "delete_cmd_prefix": "del ",
     "library": "var_list.py",
     "varRefreshCmd": "print(var_dic_list())"
    },
    "r": {
     "delete_cmd_postfix": ") ",
     "delete_cmd_prefix": "rm(",
     "library": "var_list.r",
     "varRefreshCmd": "cat(var_dic_list()) "
    }
   },
   "types_to_exclude": [
    "module",
    "function",
    "builtin_function_or_method",
    "instance",
    "_Feature"
   ],
   "window_display": false
  }
 },
 "nbformat": 4,
 "nbformat_minor": 5
}
