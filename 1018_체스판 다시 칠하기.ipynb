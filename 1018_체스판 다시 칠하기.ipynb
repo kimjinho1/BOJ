{
 "cells": [
  {
   "cell_type": "code",
   "execution_count": 4,
   "metadata": {},
   "outputs": [
    {
     "name": "stdout",
     "output_type": "stream",
     "text": [
      "10 13\n",
      "BBBBBBBBWBWBW\n",
      "BBBBBBBBBWBWB\n",
      "BBBBBBBBWBWBW\n",
      "BBBBBBBBBWBWB\n",
      "BBBBBBBBWBWBW\n",
      "BBBBBBBBBWBWB\n",
      "BBBBBBBBWBWBW\n",
      "BBBBBBBBBWBWB\n",
      "WWWWWWWWWWBWB\n",
      "WWWWWWWWWWBWB\n",
      "12\n"
     ]
    }
   ],
   "source": [
    "# 상당히 시간이 오래걸릴줄 알았는데 시간초과가 뜨지 않았다.\n",
    "# 바로 통과했다.\n",
    "def jinho(li):\n",
    "    c1 = ['WBWBWBWB', 'BWBWBWBW', 'WBWBWBWB', 'BWBWBWBW', 'WBWBWBWB', \n",
    "              'BWBWBWBW', 'WBWBWBWB', 'BWBWBWBW']\n",
    "    c2 = ['BWBWBWBW', 'WBWBWBWB', 'BWBWBWBW', 'WBWBWBWB', \n",
    "              'BWBWBWBW', 'WBWBWBWB', 'BWBWBWBW', 'WBWBWBWB']\n",
    "    n1 = 0\n",
    "    n2 = 0\n",
    "    for i in range(8):\n",
    "        for j in range(8):\n",
    "            if c1[i][j] != li[i][j]:\n",
    "                n1 += 1\n",
    "            if c2[i][j] != li[i][j]:\n",
    "                n2 += 1\n",
    "    return min(n1, n2)\n",
    "\n",
    "N, M = map(int, input().split())\n",
    "li = []\n",
    "for i in range(N):\n",
    "    li.append(input())\n",
    "\n",
    "ans = N*M\n",
    "for n in range(N-7):\n",
    "    for m in range(M-7):\n",
    "        t_li = []\n",
    "        for i in range(8):\n",
    "            t = []\n",
    "            for j in range(8):\n",
    "                t.append(li[i+n][j+m])\n",
    "            t_li.append(t)\n",
    "        ans = min(ans, jinho(t_li))\n",
    "print(ans)\n"
   ]
  }
 ],
 "metadata": {
  "kernelspec": {
   "display_name": "Python 3",
   "language": "python",
   "name": "python3"
  },
  "language_info": {
   "codemirror_mode": {
    "name": "ipython",
    "version": 3
   },
   "file_extension": ".py",
   "mimetype": "text/x-python",
   "name": "python",
   "nbconvert_exporter": "python",
   "pygments_lexer": "ipython3",
   "version": "3.6.8"
  }
 },
 "nbformat": 4,
 "nbformat_minor": 2
}
