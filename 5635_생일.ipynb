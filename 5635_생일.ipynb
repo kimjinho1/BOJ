{
 "cells": [
  {
   "cell_type": "code",
   "execution_count": 24,
   "id": "incorporated-fence",
   "metadata": {
    "ExecuteTime": {
     "end_time": "2021-02-22T19:01:49.497030Z",
     "start_time": "2021-02-22T19:01:38.739811Z"
    }
   },
   "outputs": [
    {
     "name": "stdout",
     "output_type": "stream",
     "text": [
      "5\n",
      "Mickey 1 10 1991\n",
      "Alice 30 12 1990\n",
      "Tom 15 8 1993\n",
      "Jerry 18 9 1990\n",
      "Garfield 20 9 1990\n",
      "Tom\n",
      "Jerry\n"
     ]
    }
   ],
   "source": [
    "li = []\n",
    "for _ in range(int(input())):\n",
    "    n, d, m, y = input().split()\n",
    "    li.append([n, int(d), int(m), int(y)])\n",
    "li.sort(key=lambda x:(x[3],x[2],x[1]))\n",
    "print(li[-1][0])\n",
    "print(li[0][0])"
   ]
  },
  {
   "cell_type": "code",
   "execution_count": null,
   "id": "conscious-recovery",
   "metadata": {},
   "outputs": [],
   "source": []
  },
  {
   "cell_type": "code",
   "execution_count": null,
   "id": "abandoned-slovakia",
   "metadata": {},
   "outputs": [],
   "source": []
  }
 ],
 "metadata": {
  "kernelspec": {
   "display_name": "Python 3",
   "language": "python",
   "name": "python3"
  },
  "language_info": {
   "codemirror_mode": {
    "name": "ipython",
    "version": 3
   },
   "file_extension": ".py",
   "mimetype": "text/x-python",
   "name": "python",
   "nbconvert_exporter": "python",
   "pygments_lexer": "ipython3",
   "version": "3.7.9"
  },
  "toc": {
   "base_numbering": 1,
   "nav_menu": {},
   "number_sections": true,
   "sideBar": true,
   "skip_h1_title": false,
   "title_cell": "Table of Contents",
   "title_sidebar": "Contents",
   "toc_cell": false,
   "toc_position": {},
   "toc_section_display": true,
   "toc_window_display": false
  },
  "varInspector": {
   "cols": {
    "lenName": 16,
    "lenType": 16,
    "lenVar": 40
   },
   "kernels_config": {
    "python": {
     "delete_cmd_postfix": "",
     "delete_cmd_prefix": "del ",
     "library": "var_list.py",
     "varRefreshCmd": "print(var_dic_list())"
    },
    "r": {
     "delete_cmd_postfix": ") ",
     "delete_cmd_prefix": "rm(",
     "library": "var_list.r",
     "varRefreshCmd": "cat(var_dic_list()) "
    }
   },
   "types_to_exclude": [
    "module",
    "function",
    "builtin_function_or_method",
    "instance",
    "_Feature"
   ],
   "window_display": false
  }
 },
 "nbformat": 4,
 "nbformat_minor": 5
}
