{
 "cells": [
  {
   "cell_type": "code",
   "execution_count": 28,
   "metadata": {
    "ExecuteTime": {
     "end_time": "2021-03-25T13:18:43.355683Z",
     "start_time": "2021-03-25T13:18:43.016386Z"
    }
   },
   "outputs": [
    {
     "name": "stdout",
     "output_type": "stream",
     "text": [
      "1\n",
      "baby\n"
     ]
    }
   ],
   "source": [
    "li = [\"baby\", \"sukhwan\", \"tururu\", \"turu\", \"very\", \"cute\", \"tururu\", \n",
    "      \"turu\", \"in\", \"bed\", \"tururu\", \"turu\", \"baby\", \"sukhwan\"]\n",
    "N = int(input())-1\n",
    "k = N//14\n",
    "if N%14 in [3, 7, 11]:\n",
    "    print(f\"tu+ru*{k+1}\" if k >= 4 else \"turu\"+\"ru\"*k)    \n",
    "elif N%14 in [2, 6, 10]:\n",
    "    print(f\"tu+ru*{k+2}\" if k >= 3 else \"tururu\"+\"ru\"*k)    \n",
    "else:\n",
    "    print(li[N%14])"
   ]
  },
  {
   "cell_type": "code",
   "execution_count": 27,
   "metadata": {
    "ExecuteTime": {
     "end_time": "2021-03-25T13:18:41.554895Z",
     "start_time": "2021-03-25T13:18:40.948716Z"
    }
   },
   "outputs": [
    {
     "name": "stdout",
     "output_type": "stream",
     "text": [
      "17\n",
      "turururu\n"
     ]
    }
   ],
   "source": [
    "li = [\"baby\", \"sukhwan\", \"tururu\", \"turu\", \"very\", \"cute\", \"tururu\", \n",
    "      \"turu\", \"in\", \"bed\", \"tururu\", \"turu\", \"baby\", \"sukhwan\"]\n",
    "N = int(input())-1\n",
    "k = N//14\n",
    "if N%14 in [3, 7, 11]:\n",
    "    print(f\"tu+ru*{k+1}\" if k >= 4 else \"turu\"+\"ru\"*k)    \n",
    "elif N%14 in [2, 6, 10]:\n",
    "    print(f\"tu+ru*{k+2}\" if k >= 3 else \"tururu\"+\"ru\"*k)    \n",
    "else:\n",
    "    print(li[N%14])"
   ]
  },
  {
   "cell_type": "code",
   "execution_count": 26,
   "metadata": {
    "ExecuteTime": {
     "end_time": "2021-03-25T13:18:38.776633Z",
     "start_time": "2021-03-25T13:18:38.185341Z"
    }
   },
   "outputs": [
    {
     "name": "stdout",
     "output_type": "stream",
     "text": [
      "45\n",
      "tu+ru*5\n"
     ]
    }
   ],
   "source": [
    "li = [\"baby\", \"sukhwan\", \"tururu\", \"turu\", \"very\", \"cute\", \"tururu\", \n",
    "      \"turu\", \"in\", \"bed\", \"tururu\", \"turu\", \"baby\", \"sukhwan\"]\n",
    "N = int(input())-1\n",
    "k = N//14\n",
    "if N%14 in [3, 7, 11]:\n",
    "    print(f\"tu+ru*{k+1}\" if k >= 4 else \"turu\"+\"ru\"*k)    \n",
    "elif N%14 in [2, 6, 10]:\n",
    "    print(f\"tu+ru*{k+2}\" if k >= 3 else \"tururu\"+\"ru\"*k)    \n",
    "else:\n",
    "    print(li[N%14])"
   ]
  },
  {
   "cell_type": "code",
   "execution_count": null,
   "metadata": {},
   "outputs": [],
   "source": []
  }
 ],
 "metadata": {
  "kernelspec": {
   "display_name": "Python 3",
   "language": "python",
   "name": "python3"
  },
  "language_info": {
   "codemirror_mode": {
    "name": "ipython",
    "version": 3
   },
   "file_extension": ".py",
   "mimetype": "text/x-python",
   "name": "python",
   "nbconvert_exporter": "python",
   "pygments_lexer": "ipython3",
   "version": "3.8.5"
  },
  "toc": {
   "base_numbering": 1,
   "nav_menu": {},
   "number_sections": true,
   "sideBar": true,
   "skip_h1_title": false,
   "title_cell": "Table of Contents",
   "title_sidebar": "Contents",
   "toc_cell": false,
   "toc_position": {},
   "toc_section_display": true,
   "toc_window_display": false
  },
  "varInspector": {
   "cols": {
    "lenName": 16,
    "lenType": 16,
    "lenVar": 40
   },
   "kernels_config": {
    "python": {
     "delete_cmd_postfix": "",
     "delete_cmd_prefix": "del ",
     "library": "var_list.py",
     "varRefreshCmd": "print(var_dic_list())"
    },
    "r": {
     "delete_cmd_postfix": ") ",
     "delete_cmd_prefix": "rm(",
     "library": "var_list.r",
     "varRefreshCmd": "cat(var_dic_list()) "
    }
   },
   "types_to_exclude": [
    "module",
    "function",
    "builtin_function_or_method",
    "instance",
    "_Feature"
   ],
   "window_display": false
  }
 },
 "nbformat": 4,
 "nbformat_minor": 4
}
