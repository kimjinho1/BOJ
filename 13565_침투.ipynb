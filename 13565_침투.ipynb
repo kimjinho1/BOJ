{
 "cells": [
  {
   "cell_type": "code",
   "execution_count": 17,
   "metadata": {
    "ExecuteTime": {
     "end_time": "2021-03-13T10:52:56.879317Z",
     "start_time": "2021-03-13T10:52:48.686858Z"
    },
    "scrolled": true
   },
   "outputs": [
    {
     "name": "stdout",
     "output_type": "stream",
     "text": [
      "5 6\n",
      "010101\n",
      "010000\n",
      "011101\n",
      "100011\n",
      "001011\n",
      "NO\n"
     ]
    }
   ],
   "source": [
    "import sys\n",
    "sys.setrecursionlimit(3000000)\n",
    "\n",
    "def dfs(y, x):\n",
    "    graph[y][x] = 2\n",
    "    for dy, dx in d:\n",
    "        Y, X = y+dy, x+dx\n",
    "        if (0 <= Y < M) and (0 <= X < N) and graph[Y][X] == 0:\n",
    "            dfs(Y, X)\n",
    "            \n",
    "M, N = map(int, input().split())\n",
    "graph = [list(map(int, list(input()))) for _ in range(M)]\n",
    "d = [(-1, 0), (1, 0), (0, -1), (0, 1)]\n",
    "for j in range(N):\n",
    "    if graph[0][j] == 0:\n",
    "        dfs(0, j)\n",
    "print(\"YES\" if 2 in graph[-1] else \"NO\")"
   ]
  },
  {
   "cell_type": "code",
   "execution_count": 19,
   "metadata": {
    "ExecuteTime": {
     "end_time": "2021-03-13T10:58:16.208056Z",
     "start_time": "2021-03-13T10:57:55.247261Z"
    }
   },
   "outputs": [
    {
     "name": "stdout",
     "output_type": "stream",
     "text": [
      "8 8\n",
      "11000111\n",
      "01100000\n",
      "00011001\n",
      "11001000\n",
      "10001001\n",
      "10111100\n",
      "01010000\n",
      "00001011\n",
      "YES\n"
     ]
    }
   ],
   "source": [
    "from collections import deque\n",
    "def bfs(y, x):\n",
    "    q = deque()\n",
    "    q.append((y, x))\n",
    "    graph[y][x] = 2\n",
    "    while q:\n",
    "        y, x = q.popleft()    \n",
    "        for dy, dx in d:\n",
    "            Y, X = y+dy, x+dx\n",
    "            if (0 <= Y < M) and (0 <= X < N) and graph[Y][X] == 0:\n",
    "                q.append((Y, X))\n",
    "                graph[Y][X] = 2\n",
    "            \n",
    "M, N = map(int, input().split())\n",
    "graph = [list(map(int, list(input()))) for _ in range(M)]\n",
    "d = [(-1, 0), (1, 0), (0, -1), (0, 1)]\n",
    "for j in range(N):\n",
    "    if graph[0][j] == 0:\n",
    "        bfs(0, j)\n",
    "print(\"YES\" if 2 in graph[-1] else \"NO\")"
   ]
  },
  {
   "cell_type": "code",
   "execution_count": null,
   "metadata": {},
   "outputs": [],
   "source": []
  }
 ],
 "metadata": {
  "kernelspec": {
   "display_name": "Python 3",
   "language": "python",
   "name": "python3"
  },
  "language_info": {
   "codemirror_mode": {
    "name": "ipython",
    "version": 3
   },
   "file_extension": ".py",
   "mimetype": "text/x-python",
   "name": "python",
   "nbconvert_exporter": "python",
   "pygments_lexer": "ipython3",
   "version": "3.8.5"
  },
  "toc": {
   "base_numbering": 1,
   "nav_menu": {},
   "number_sections": true,
   "sideBar": true,
   "skip_h1_title": false,
   "title_cell": "Table of Contents",
   "title_sidebar": "Contents",
   "toc_cell": false,
   "toc_position": {},
   "toc_section_display": true,
   "toc_window_display": false
  },
  "varInspector": {
   "cols": {
    "lenName": 16,
    "lenType": 16,
    "lenVar": 40
   },
   "kernels_config": {
    "python": {
     "delete_cmd_postfix": "",
     "delete_cmd_prefix": "del ",
     "library": "var_list.py",
     "varRefreshCmd": "print(var_dic_list())"
    },
    "r": {
     "delete_cmd_postfix": ") ",
     "delete_cmd_prefix": "rm(",
     "library": "var_list.r",
     "varRefreshCmd": "cat(var_dic_list()) "
    }
   },
   "types_to_exclude": [
    "module",
    "function",
    "builtin_function_or_method",
    "instance",
    "_Feature"
   ],
   "window_display": false
  }
 },
 "nbformat": 4,
 "nbformat_minor": 4
}
