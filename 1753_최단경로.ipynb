{
 "cells": [
  {
   "cell_type": "code",
   "execution_count": null,
   "metadata": {},
   "outputs": [],
   "source": [
    "import heapq\n",
    "import sys\n",
    "input = sys.stdin.readline\n",
    "\n",
    "def dijkstra(start):\n",
    "    q = []\n",
    "    heapq.heappush(q, (0, start))\n",
    "    dis[start] = 0\n",
    "    while q:\n",
    "        d, now = heapq.heappop(q)\n",
    "        if dis[now] < d:\n",
    "            continue\n",
    "        for v, w in graph[now]:\n",
    "            cost = d + w\n",
    "            if cost < dis[v]:\n",
    "                dis[v] = cost\n",
    "                heapq.heappush(q, (cost, v))\n",
    "\n",
    "V, E = map(int, input().split())\n",
    "start = int(input())\n",
    "INF = 10**9\n",
    "dis = [INF]*(V+1)\n",
    "graph = [[] for _ in range(V+1)]\n",
    "for _ in range(E):\n",
    "    u, v, w = map(int, input().split())\n",
    "    graph[u].append((v, w))\n",
    "dijkstra(start)\n",
    "for n in dis[1:]:\n",
    "    print(n if n != INF else \"INF\")"
   ]
  },
  {
   "cell_type": "code",
   "execution_count": 5,
   "metadata": {
    "ExecuteTime": {
     "end_time": "2021-03-22T12:34:55.088136Z",
     "start_time": "2021-03-22T12:34:10.460211Z"
    },
    "scrolled": true
   },
   "outputs": [
    {
     "name": "stdout",
     "output_type": "stream",
     "text": [
      "5 6\n",
      "1\n",
      "5 1 1\n",
      "1 2 2\n",
      "1 3 3\n",
      "2 3 4\n",
      "2 4 5\n",
      "3 4 6\n",
      "0\n",
      "2\n",
      "3\n",
      "7\n",
      "INF\n"
     ]
    }
   ],
   "source": [
    "import heapq\n",
    "\n",
    "def dijkstra(start):\n",
    "    q = []\n",
    "    heapq.heappush(q, (0, start))\n",
    "    dis[start] = 0\n",
    "    while q:\n",
    "        d, now = heapq.heappop(q)\n",
    "        if dis[now] < d:\n",
    "            continue\n",
    "        for v, w in graph[now]:\n",
    "            cost = d + w\n",
    "            if cost < dis[v]:\n",
    "                dis[v] = cost\n",
    "                heapq.heappush(q, (cost, v))\n",
    "\n",
    "V, E = map(int, input().split())\n",
    "start = int(input())\n",
    "INF = 10**9\n",
    "dis = [INF]*(V+1)\n",
    "graph = [[] for _ in range(V+1)]\n",
    "for _ in range(E):\n",
    "    u, v, w = map(int, input().split())\n",
    "    graph[u].append((v, w))\n",
    "dijkstra(start)\n",
    "for n in dis[1:]:\n",
    "    print(n if n != INF else \"INF\")"
   ]
  },
  {
   "cell_type": "code",
   "execution_count": null,
   "metadata": {},
   "outputs": [],
   "source": []
  }
 ],
 "metadata": {
  "kernelspec": {
   "display_name": "Python 3",
   "language": "python",
   "name": "python3"
  },
  "language_info": {
   "codemirror_mode": {
    "name": "ipython",
    "version": 3
   },
   "file_extension": ".py",
   "mimetype": "text/x-python",
   "name": "python",
   "nbconvert_exporter": "python",
   "pygments_lexer": "ipython3",
   "version": "3.8.5"
  },
  "toc": {
   "base_numbering": 1,
   "nav_menu": {},
   "number_sections": true,
   "sideBar": true,
   "skip_h1_title": false,
   "title_cell": "Table of Contents",
   "title_sidebar": "Contents",
   "toc_cell": false,
   "toc_position": {},
   "toc_section_display": true,
   "toc_window_display": false
  },
  "varInspector": {
   "cols": {
    "lenName": 16,
    "lenType": 16,
    "lenVar": 40
   },
   "kernels_config": {
    "python": {
     "delete_cmd_postfix": "",
     "delete_cmd_prefix": "del ",
     "library": "var_list.py",
     "varRefreshCmd": "print(var_dic_list())"
    },
    "r": {
     "delete_cmd_postfix": ") ",
     "delete_cmd_prefix": "rm(",
     "library": "var_list.r",
     "varRefreshCmd": "cat(var_dic_list()) "
    }
   },
   "types_to_exclude": [
    "module",
    "function",
    "builtin_function_or_method",
    "instance",
    "_Feature"
   ],
   "window_display": false
  }
 },
 "nbformat": 4,
 "nbformat_minor": 4
}
