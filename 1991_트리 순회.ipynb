{
 "cells": [
  {
   "cell_type": "code",
   "execution_count": 25,
   "metadata": {
    "ExecuteTime": {
     "end_time": "2021-03-17T05:52:18.374792Z",
     "start_time": "2021-03-17T05:52:05.951680Z"
    }
   },
   "outputs": [
    {
     "name": "stdout",
     "output_type": "stream",
     "text": [
      "7\n",
      "A B C\n",
      "B D .\n",
      "C E F\n",
      "E . .\n",
      "F . G\n",
      "D . .\n",
      "G . .\n",
      "ABDCEFG\n",
      "DBAECFG\n",
      "DBEGFCA\n"
     ]
    }
   ],
   "source": [
    "def preorder(node):\n",
    "    print(node, end='')\n",
    "    left, right = tree[node][0], tree[node][1]\n",
    "    if left != '.':\n",
    "        preorder(left)\n",
    "    if right != '.':\n",
    "        preorder(right)\n",
    "\n",
    "def inorder(node):\n",
    "    left, right = tree[node][0], tree[node][1]\n",
    "    if left != '.':\n",
    "        inorder(left)\n",
    "    print(node, end='')\n",
    "    if right != '.':\n",
    "        inorder(right)\n",
    "        \n",
    "def postorder(node):\n",
    "    left, right = tree[node][0], tree[node][1]\n",
    "    if left != '.':\n",
    "        postorder(left)\n",
    "    if right != '.':\n",
    "        postorder(right)\n",
    "    print(node, end='')\n",
    "                        \n",
    "N = int(input())\n",
    "tree = {}\n",
    "for i in range(1, N+1):\n",
    "    node, left, right = input().split()\n",
    "    tree[node] = [left, right]\n",
    "preorder('A'); print()\n",
    "inorder('A'); print()\n",
    "postorder('A'); print()"
   ]
  },
  {
   "cell_type": "code",
   "execution_count": null,
   "metadata": {},
   "outputs": [],
   "source": []
  }
 ],
 "metadata": {
  "kernelspec": {
   "display_name": "Python 3",
   "language": "python",
   "name": "python3"
  },
  "language_info": {
   "codemirror_mode": {
    "name": "ipython",
    "version": 3
   },
   "file_extension": ".py",
   "mimetype": "text/x-python",
   "name": "python",
   "nbconvert_exporter": "python",
   "pygments_lexer": "ipython3",
   "version": "3.8.5"
  },
  "toc": {
   "base_numbering": 1,
   "nav_menu": {},
   "number_sections": true,
   "sideBar": true,
   "skip_h1_title": false,
   "title_cell": "Table of Contents",
   "title_sidebar": "Contents",
   "toc_cell": false,
   "toc_position": {},
   "toc_section_display": true,
   "toc_window_display": false
  },
  "varInspector": {
   "cols": {
    "lenName": 16,
    "lenType": 16,
    "lenVar": 40
   },
   "kernels_config": {
    "python": {
     "delete_cmd_postfix": "",
     "delete_cmd_prefix": "del ",
     "library": "var_list.py",
     "varRefreshCmd": "print(var_dic_list())"
    },
    "r": {
     "delete_cmd_postfix": ") ",
     "delete_cmd_prefix": "rm(",
     "library": "var_list.r",
     "varRefreshCmd": "cat(var_dic_list()) "
    }
   },
   "types_to_exclude": [
    "module",
    "function",
    "builtin_function_or_method",
    "instance",
    "_Feature"
   ],
   "window_display": false
  }
 },
 "nbformat": 4,
 "nbformat_minor": 4
}
