{
 "cells": [
  {
   "cell_type": "code",
   "execution_count": 24,
   "id": "portable-lesson",
   "metadata": {
    "ExecuteTime": {
     "end_time": "2021-02-14T10:29:01.371938Z",
     "start_time": "2021-02-14T10:28:54.003484Z"
    }
   },
   "outputs": [
    {
     "name": "stdout",
     "output_type": "stream",
     "text": [
      "5\n",
      "1....\n",
      "..3..\n",
      ".....\n",
      ".4...\n",
      "...9.\n",
      "*4330\n",
      "14*30\n",
      "47730\n",
      "4*M99\n",
      "44M*9\n"
     ]
    }
   ],
   "source": [
    "N = int(input())\n",
    "li = ['.'*(N+2)] + ['.'+input()+'.' for _ in range(N)] + ['.'*(N+2)]\n",
    "res = []\n",
    "for i in range(N):\n",
    "    i += 1\n",
    "    s = ''\n",
    "    for j in range(N):\n",
    "        j += 1\n",
    "        if ord('0') <= ord(li[i][j]) <= ord('9'):\n",
    "            s += '*'\n",
    "        else:\n",
    "            bomb = 0\n",
    "            for a in range(i-1, i+2):\n",
    "                for b in range(j-1, j+2):\n",
    "                    if ord('0') <= ord(li[a][b]) <= ord('9'):\n",
    "                        bomb += int(li[a][b])\n",
    "            s += str(bomb) if bomb < 10 else \"M\"\n",
    "    res.append(s)\n",
    "for s in res:\n",
    "    print(s)"
   ]
  },
  {
   "cell_type": "code",
   "execution_count": null,
   "id": "potential-performance",
   "metadata": {},
   "outputs": [],
   "source": []
  }
 ],
 "metadata": {
  "kernelspec": {
   "display_name": "Python 3",
   "language": "python",
   "name": "python3"
  },
  "language_info": {
   "codemirror_mode": {
    "name": "ipython",
    "version": 3
   },
   "file_extension": ".py",
   "mimetype": "text/x-python",
   "name": "python",
   "nbconvert_exporter": "python",
   "pygments_lexer": "ipython3",
   "version": "3.7.9"
  },
  "toc": {
   "base_numbering": 1,
   "nav_menu": {},
   "number_sections": true,
   "sideBar": true,
   "skip_h1_title": false,
   "title_cell": "Table of Contents",
   "title_sidebar": "Contents",
   "toc_cell": false,
   "toc_position": {},
   "toc_section_display": true,
   "toc_window_display": false
  },
  "varInspector": {
   "cols": {
    "lenName": 16,
    "lenType": 16,
    "lenVar": 40
   },
   "kernels_config": {
    "python": {
     "delete_cmd_postfix": "",
     "delete_cmd_prefix": "del ",
     "library": "var_list.py",
     "varRefreshCmd": "print(var_dic_list())"
    },
    "r": {
     "delete_cmd_postfix": ") ",
     "delete_cmd_prefix": "rm(",
     "library": "var_list.r",
     "varRefreshCmd": "cat(var_dic_list()) "
    }
   },
   "types_to_exclude": [
    "module",
    "function",
    "builtin_function_or_method",
    "instance",
    "_Feature"
   ],
   "window_display": false
  }
 },
 "nbformat": 4,
 "nbformat_minor": 5
}
