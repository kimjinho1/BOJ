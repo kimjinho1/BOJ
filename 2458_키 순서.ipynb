{
 "cells": [
  {
   "cell_type": "code",
   "execution_count": null,
   "metadata": {},
   "outputs": [],
   "source": [
    "import sys\n",
    "input = sys.stdin.readline\n",
    "\n",
    "N, M = map(int, input().split())\n",
    "graph = [[0]*N for _ in range(N)]\n",
    "for _ in range(M):\n",
    "    a, b = map(int, input().split())\n",
    "    graph[a-1][b-1] = 1\n",
    "for k in range(N):\n",
    "    for a in range(N):\n",
    "        for b in range(N):\n",
    "            if graph[a][k] == 1 and graph[k][b] == 1:\n",
    "                graph[a][b] = 1\n",
    "res = 0\n",
    "for i in range(N):\n",
    "    t = 0\n",
    "    for j in range(N):\n",
    "        t += graph[i][j] + graph[j][i]\n",
    "    if t == N-1:\n",
    "        res += 1\n",
    "print(res)"
   ]
  },
  {
   "cell_type": "code",
   "execution_count": 7,
   "metadata": {
    "ExecuteTime": {
     "end_time": "2021-03-22T15:16:53.252094Z",
     "start_time": "2021-03-22T15:16:48.156352Z"
    },
    "scrolled": true
   },
   "outputs": [
    {
     "name": "stdout",
     "output_type": "stream",
     "text": [
      "6 6\n",
      "1 5\n",
      "3 4\n",
      "5 4\n",
      "4 2\n",
      "4 6\n",
      "5 2\n",
      "1\n"
     ]
    }
   ],
   "source": [
    "N, M = map(int, input().split())\n",
    "graph = [[0]*N for _ in range(N)]\n",
    "for _ in range(M):\n",
    "    a, b = map(int, input().split())\n",
    "    graph[a-1][b-1] = 1\n",
    "for k in range(N):\n",
    "    for a in range(N):\n",
    "        for b in range(N):\n",
    "            if graph[a][k] == 1 and graph[k][b] == 1:\n",
    "                graph[a][b] = 1\n",
    "res = 0\n",
    "for i in range(N):\n",
    "    t = 0\n",
    "    for j in range(N):\n",
    "        t += graph[i][j] + graph[j][i]\n",
    "    if t == N-1:\n",
    "        res += 1\n",
    "print(res)"
   ]
  },
  {
   "cell_type": "code",
   "execution_count": null,
   "metadata": {},
   "outputs": [],
   "source": []
  }
 ],
 "metadata": {
  "kernelspec": {
   "display_name": "Python 3",
   "language": "python",
   "name": "python3"
  },
  "language_info": {
   "codemirror_mode": {
    "name": "ipython",
    "version": 3
   },
   "file_extension": ".py",
   "mimetype": "text/x-python",
   "name": "python",
   "nbconvert_exporter": "python",
   "pygments_lexer": "ipython3",
   "version": "3.8.5"
  },
  "toc": {
   "base_numbering": 1,
   "nav_menu": {},
   "number_sections": true,
   "sideBar": true,
   "skip_h1_title": false,
   "title_cell": "Table of Contents",
   "title_sidebar": "Contents",
   "toc_cell": false,
   "toc_position": {},
   "toc_section_display": true,
   "toc_window_display": false
  },
  "varInspector": {
   "cols": {
    "lenName": 16,
    "lenType": 16,
    "lenVar": 40
   },
   "kernels_config": {
    "python": {
     "delete_cmd_postfix": "",
     "delete_cmd_prefix": "del ",
     "library": "var_list.py",
     "varRefreshCmd": "print(var_dic_list())"
    },
    "r": {
     "delete_cmd_postfix": ") ",
     "delete_cmd_prefix": "rm(",
     "library": "var_list.r",
     "varRefreshCmd": "cat(var_dic_list()) "
    }
   },
   "types_to_exclude": [
    "module",
    "function",
    "builtin_function_or_method",
    "instance",
    "_Feature"
   ],
   "window_display": false
  }
 },
 "nbformat": 4,
 "nbformat_minor": 4
}
