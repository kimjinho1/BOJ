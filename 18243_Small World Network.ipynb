{
 "cells": [
  {
   "cell_type": "code",
   "execution_count": 33,
   "metadata": {
    "ExecuteTime": {
     "end_time": "2021-03-14T08:39:35.705677Z",
     "start_time": "2021-03-14T08:39:32.311266Z"
    }
   },
   "outputs": [
    {
     "name": "stdout",
     "output_type": "stream",
     "text": [
      "5 5\n",
      "1 2\n",
      "2 3\n",
      "3 5\n",
      "1 4\n",
      "1 3\n",
      "Small World!\n"
     ]
    }
   ],
   "source": [
    "from collections import deque\n",
    "\n",
    "def bfs(node):\n",
    "    q = deque()\n",
    "    q.append(node)\n",
    "    check[node] = 0\n",
    "    while q:\n",
    "        node = q.popleft()\n",
    "        for n in graph[node]:\n",
    "            if check[n] == -1:\n",
    "                q.append(n)\n",
    "                check[n] = check[node]+1\n",
    "\n",
    "N, K = map(int, input().split())\n",
    "graph = [[] for _ in range(N+1)]\n",
    "check = [-1]*(N+1)\n",
    "for _ in range(K):\n",
    "    u, v = map(int, input().split())\n",
    "    graph[u].append(v)\n",
    "    graph[v].append(u)\n",
    "ok = 1\n",
    "for i in range(1, N+1):\n",
    "    check = [-1]*(N+1)\n",
    "    bfs(i)\n",
    "    if (max(check) > 6) or (-1 in check[1:]):\n",
    "        ok = 0\n",
    "        break\n",
    "print(\"Small World!\" if ok else \"Big World!\")"
   ]
  },
  {
   "cell_type": "code",
   "execution_count": 31,
   "metadata": {
    "ExecuteTime": {
     "end_time": "2021-03-14T08:39:06.571698Z",
     "start_time": "2021-03-14T08:38:59.857328Z"
    }
   },
   "outputs": [
    {
     "name": "stdout",
     "output_type": "stream",
     "text": [
      "10 8\n",
      "1 2\n",
      "2 3\n",
      "3 4\n",
      "4 5\n",
      "6 7\n",
      "7 8\n",
      "8 9\n",
      "9 10\n",
      "Big World!\n"
     ]
    }
   ],
   "source": [
    "from collections import deque\n",
    "\n",
    "def bfs(node):\n",
    "    q = deque()\n",
    "    q.append(node)\n",
    "    check[node] = 0\n",
    "    while q:\n",
    "        node = q.popleft()\n",
    "        for n in graph[node]:\n",
    "            if check[n] == -1:\n",
    "                q.append(n)\n",
    "                check[n] = check[node]+1\n",
    "\n",
    "N, K = map(int, input().split())\n",
    "graph = [[] for _ in range(N+1)]\n",
    "check = [-1]*(N+1)\n",
    "for _ in range(K):\n",
    "    u, v = map(int, input().split())\n",
    "    graph[u].append(v)\n",
    "    graph[v].append(u)\n",
    "ok = 1\n",
    "for i in range(1, N+1):\n",
    "    check = [-1]*(N+1)\n",
    "    bfs(i)\n",
    "    if (max(check) > 6) or (-1 in check[1:]):\n",
    "        ok = 0\n",
    "        break\n",
    "print(\"Small World!\" if ok else \"Big World!\")"
   ]
  },
  {
   "cell_type": "code",
   "execution_count": 32,
   "metadata": {
    "ExecuteTime": {
     "end_time": "2021-03-14T08:39:23.858227Z",
     "start_time": "2021-03-14T08:39:16.838325Z"
    },
    "scrolled": true
   },
   "outputs": [
    {
     "name": "stdout",
     "output_type": "stream",
     "text": [
      "10 9\n",
      "1 2\n",
      "2 3\n",
      "3 4\n",
      "4 5\n",
      "1 6\n",
      "6 7\n",
      "7 8\n",
      " 8 9\n",
      "9 10\n",
      "Big World!\n"
     ]
    }
   ],
   "source": [
    "from collections import deque\n",
    "\n",
    "def bfs(node):\n",
    "    q = deque()\n",
    "    q.append(node)\n",
    "    check[node] = 0\n",
    "    while q:\n",
    "        node = q.popleft()\n",
    "        for n in graph[node]:\n",
    "            if check[n] == -1:\n",
    "                q.append(n)\n",
    "                check[n] = check[node]+1\n",
    "\n",
    "N, K = map(int, input().split())\n",
    "graph = [[] for _ in range(N+1)]\n",
    "check = [-1]*(N+1)\n",
    "for _ in range(K):\n",
    "    u, v = map(int, input().split())\n",
    "    graph[u].append(v)\n",
    "    graph[v].append(u)\n",
    "ok = 1\n",
    "for i in range(1, N+1):\n",
    "    check = [-1]*(N+1)\n",
    "    bfs(i)\n",
    "    if (max(check) > 6) or (-1 in check[1:]):\n",
    "        ok = 0\n",
    "        break\n",
    "print(\"Small World!\" if ok else \"Big World!\")"
   ]
  },
  {
   "cell_type": "code",
   "execution_count": null,
   "metadata": {},
   "outputs": [],
   "source": []
  }
 ],
 "metadata": {
  "kernelspec": {
   "display_name": "Python 3",
   "language": "python",
   "name": "python3"
  },
  "language_info": {
   "codemirror_mode": {
    "name": "ipython",
    "version": 3
   },
   "file_extension": ".py",
   "mimetype": "text/x-python",
   "name": "python",
   "nbconvert_exporter": "python",
   "pygments_lexer": "ipython3",
   "version": "3.8.5"
  },
  "toc": {
   "base_numbering": 1,
   "nav_menu": {},
   "number_sections": true,
   "sideBar": true,
   "skip_h1_title": false,
   "title_cell": "Table of Contents",
   "title_sidebar": "Contents",
   "toc_cell": false,
   "toc_position": {},
   "toc_section_display": true,
   "toc_window_display": false
  },
  "varInspector": {
   "cols": {
    "lenName": 16,
    "lenType": 16,
    "lenVar": 40
   },
   "kernels_config": {
    "python": {
     "delete_cmd_postfix": "",
     "delete_cmd_prefix": "del ",
     "library": "var_list.py",
     "varRefreshCmd": "print(var_dic_list())"
    },
    "r": {
     "delete_cmd_postfix": ") ",
     "delete_cmd_prefix": "rm(",
     "library": "var_list.r",
     "varRefreshCmd": "cat(var_dic_list()) "
    }
   },
   "types_to_exclude": [
    "module",
    "function",
    "builtin_function_or_method",
    "instance",
    "_Feature"
   ],
   "window_display": false
  }
 },
 "nbformat": 4,
 "nbformat_minor": 4
}
