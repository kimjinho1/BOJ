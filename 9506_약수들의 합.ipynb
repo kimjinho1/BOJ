{
 "cells": [
  {
   "cell_type": "code",
   "execution_count": 11,
   "metadata": {},
   "outputs": [
    {
     "name": "stdout",
     "output_type": "stream",
     "text": [
      "6\n",
      "6 = 1 + 2 + 3 12\n",
      "12 is NOT perfect. \n",
      "28\n",
      "28 = 1 + 2 + 4 + 7 + 14 -1\n"
     ]
    }
   ],
   "source": [
    "while 1:\n",
    "    n = int(input())\n",
    "    if n == -1:\n",
    "        break\n",
    "    li = []\n",
    "    for i in range(2, n//2+1):\n",
    "        if n % i == 0:\n",
    "            li.append(i)\n",
    "    if sum(li) + 1 == n:\n",
    "        print('{0} = 1 '.format(n), end = '')\n",
    "        for j in li:\n",
    "            print('+ {0} '.format(j) ,end = '')\n",
    "    else:\n",
    "        print('{0} is NOT perfect. '.format(n))"
   ]
  },
  {
   "cell_type": "code",
   "execution_count": null,
   "metadata": {},
   "outputs": [],
   "source": []
  }
 ],
 "metadata": {
  "kernelspec": {
   "display_name": "Python 3",
   "language": "python",
   "name": "python3"
  },
  "language_info": {
   "codemirror_mode": {
    "name": "ipython",
    "version": 3
   },
   "file_extension": ".py",
   "mimetype": "text/x-python",
   "name": "python",
   "nbconvert_exporter": "python",
   "pygments_lexer": "ipython3",
   "version": "3.6.8"
  }
 },
 "nbformat": 4,
 "nbformat_minor": 2
}
