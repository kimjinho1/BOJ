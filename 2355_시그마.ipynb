{
 "cells": [
  {
   "cell_type": "code",
   "execution_count": 41,
   "metadata": {},
   "outputs": [
    {
     "name": "stdout",
     "output_type": "stream",
     "text": [
      "1 3\n",
      "6\n"
     ]
    }
   ],
   "source": [
    "a, b = map(int, input().split())\n",
    "a, b = min(a, b), max(a, b)\n",
    "\n",
    "def f(n):\n",
    "    return (n*(n+1))//2\n",
    "\n",
    "if a == b:\n",
    "    print(a)\n",
    "elif a <= 0 and b >= 0:\n",
    "    print(f(b) - f(-a))\n",
    "elif b <= 0:\n",
    "    print(-(f(-a) - f(-b-1)))\n",
    "else:\n",
    "    print(f(b) - f(a-1))"
   ]
  },
  {
   "cell_type": "code",
   "execution_count": 43,
   "metadata": {},
   "outputs": [
    {
     "name": "stdout",
     "output_type": "stream",
     "text": [
      "-4 2\n",
      "-7\n"
     ]
    }
   ],
   "source": [
    "a, b = map(int, input().split())\n",
    "a, b = min(a, b), max(a, b)\n",
    "n = b - a\n",
    "s = (n * (n + 1)) // 2\n",
    "print(s + (a * (n + 1)))"
   ]
  },
  {
   "cell_type": "code",
   "execution_count": null,
   "metadata": {},
   "outputs": [],
   "source": []
  }
 ],
 "metadata": {
  "kernelspec": {
   "display_name": "Python 3",
   "language": "python",
   "name": "python3"
  },
  "language_info": {
   "codemirror_mode": {
    "name": "ipython",
    "version": 3
   },
   "file_extension": ".py",
   "mimetype": "text/x-python",
   "name": "python",
   "nbconvert_exporter": "python",
   "pygments_lexer": "ipython3",
   "version": "3.6.8"
  }
 },
 "nbformat": 4,
 "nbformat_minor": 2
}
