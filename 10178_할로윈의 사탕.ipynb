{
 "cells": [
  {
   "cell_type": "code",
   "execution_count": 1,
   "id": "opposed-director",
   "metadata": {
    "ExecuteTime": {
     "end_time": "2021-02-18T03:23:31.735159Z",
     "start_time": "2021-02-18T03:23:24.086480Z"
    }
   },
   "outputs": [
    {
     "name": "stdout",
     "output_type": "stream",
     "text": [
      "5\n",
      "22 3\n",
      "You get 7 piece(s) and your dad gets 1 piece(s).\n",
      "15 5\n",
      "You get 3 piece(s) and your dad gets 0 piece(s).\n",
      "99 8\n",
      "You get 12 piece(s) and your dad gets 3 piece(s).\n",
      "7 4\n",
      "You get 1 piece(s) and your dad gets 3 piece(s).\n",
      "101 5\n",
      "You get 20 piece(s) and your dad gets 1 piece(s).\n"
     ]
    }
   ],
   "source": [
    "for _ in range(int(input())):\n",
    "    c, v = map(int, input().split())\n",
    "    print(f\"You get {c//v} piece(s) and your dad gets {c%v} piece(s).\")"
   ]
  },
  {
   "cell_type": "code",
   "execution_count": null,
   "id": "universal-registration",
   "metadata": {},
   "outputs": [],
   "source": []
  }
 ],
 "metadata": {
  "kernelspec": {
   "display_name": "Python 3",
   "language": "python",
   "name": "python3"
  },
  "language_info": {
   "codemirror_mode": {
    "name": "ipython",
    "version": 3
   },
   "file_extension": ".py",
   "mimetype": "text/x-python",
   "name": "python",
   "nbconvert_exporter": "python",
   "pygments_lexer": "ipython3",
   "version": "3.7.9"
  },
  "toc": {
   "base_numbering": 1,
   "nav_menu": {},
   "number_sections": true,
   "sideBar": true,
   "skip_h1_title": false,
   "title_cell": "Table of Contents",
   "title_sidebar": "Contents",
   "toc_cell": false,
   "toc_position": {},
   "toc_section_display": true,
   "toc_window_display": false
  },
  "varInspector": {
   "cols": {
    "lenName": 16,
    "lenType": 16,
    "lenVar": 40
   },
   "kernels_config": {
    "python": {
     "delete_cmd_postfix": "",
     "delete_cmd_prefix": "del ",
     "library": "var_list.py",
     "varRefreshCmd": "print(var_dic_list())"
    },
    "r": {
     "delete_cmd_postfix": ") ",
     "delete_cmd_prefix": "rm(",
     "library": "var_list.r",
     "varRefreshCmd": "cat(var_dic_list()) "
    }
   },
   "types_to_exclude": [
    "module",
    "function",
    "builtin_function_or_method",
    "instance",
    "_Feature"
   ],
   "window_display": false
  }
 },
 "nbformat": 4,
 "nbformat_minor": 5
}
