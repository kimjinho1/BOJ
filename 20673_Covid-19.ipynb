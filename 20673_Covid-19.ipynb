{
 "cells": [
  {
   "cell_type": "code",
   "execution_count": 13,
   "id": "affected-accent",
   "metadata": {
    "ExecuteTime": {
     "end_time": "2021-02-09T10:42:34.987776Z",
     "start_time": "2021-02-09T10:42:33.183513Z"
    }
   },
   "outputs": [
    {
     "name": "stdout",
     "output_type": "stream",
     "text": [
      "50\n",
      "7\n",
      "White\n"
     ]
    }
   ],
   "source": [
    "p = int(input())\n",
    "q = int(input())\n",
    "if p <= 50 and q <= 10:\n",
    "    print(\"White\")\n",
    "elif q > 30:\n",
    "    print(\"Red\")\n",
    "else:\n",
    "    print(\"Yellow\")"
   ]
  },
  {
   "cell_type": "code",
   "execution_count": 12,
   "id": "accompanied-minutes",
   "metadata": {
    "ExecuteTime": {
     "end_time": "2021-02-09T10:42:31.503675Z",
     "start_time": "2021-02-09T10:42:30.396590Z"
    }
   },
   "outputs": [
    {
     "name": "stdout",
     "output_type": "stream",
     "text": [
      "60\n",
      "40\n",
      "Red\n"
     ]
    }
   ],
   "source": [
    "p = int(input())\n",
    "q = int(input())\n",
    "if p <= 50 and q <= 10:\n",
    "    print(\"White\")\n",
    "elif q > 30:\n",
    "    print(\"Red\")\n",
    "else:\n",
    "    print(\"Yellow\")"
   ]
  },
  {
   "cell_type": "code",
   "execution_count": 11,
   "id": "understanding-advancement",
   "metadata": {
    "ExecuteTime": {
     "end_time": "2021-02-09T10:42:28.328848Z",
     "start_time": "2021-02-09T10:42:27.005987Z"
    }
   },
   "outputs": [
    {
     "name": "stdout",
     "output_type": "stream",
     "text": [
      "15\n",
      "12\n",
      "Yellow\n"
     ]
    }
   ],
   "source": [
    "p = int(input())\n",
    "q = int(input())\n",
    "if p <= 50 and q <= 10:\n",
    "    print(\"White\")\n",
    "elif q > 30:\n",
    "    print(\"Red\")\n",
    "else:\n",
    "    print(\"Yellow\")"
   ]
  },
  {
   "cell_type": "code",
   "execution_count": null,
   "id": "peaceful-stress",
   "metadata": {},
   "outputs": [],
   "source": []
  }
 ],
 "metadata": {
  "kernelspec": {
   "display_name": "Python 3",
   "language": "python",
   "name": "python3"
  },
  "language_info": {
   "codemirror_mode": {
    "name": "ipython",
    "version": 3
   },
   "file_extension": ".py",
   "mimetype": "text/x-python",
   "name": "python",
   "nbconvert_exporter": "python",
   "pygments_lexer": "ipython3",
   "version": "3.7.9"
  },
  "toc": {
   "base_numbering": 1,
   "nav_menu": {},
   "number_sections": true,
   "sideBar": true,
   "skip_h1_title": false,
   "title_cell": "Table of Contents",
   "title_sidebar": "Contents",
   "toc_cell": false,
   "toc_position": {},
   "toc_section_display": true,
   "toc_window_display": false
  },
  "varInspector": {
   "cols": {
    "lenName": 16,
    "lenType": 16,
    "lenVar": 40
   },
   "kernels_config": {
    "python": {
     "delete_cmd_postfix": "",
     "delete_cmd_prefix": "del ",
     "library": "var_list.py",
     "varRefreshCmd": "print(var_dic_list())"
    },
    "r": {
     "delete_cmd_postfix": ") ",
     "delete_cmd_prefix": "rm(",
     "library": "var_list.r",
     "varRefreshCmd": "cat(var_dic_list()) "
    }
   },
   "types_to_exclude": [
    "module",
    "function",
    "builtin_function_or_method",
    "instance",
    "_Feature"
   ],
   "window_display": false
  }
 },
 "nbformat": 4,
 "nbformat_minor": 5
}
