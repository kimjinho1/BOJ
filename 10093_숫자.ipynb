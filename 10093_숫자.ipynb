{
 "cells": [
  {
   "cell_type": "code",
   "execution_count": 5,
   "metadata": {},
   "outputs": [
    {
     "name": "stdout",
     "output_type": "stream",
     "text": [
      "8 14\n",
      "5\n",
      "9 10 11 12 13 "
     ]
    }
   ],
   "source": [
    "a, b = map(int, input().split())\n",
    "n1 = min(a, b)\n",
    "n2 = max(a, b)\n",
    "n = n2-n1-1\n",
    "if n1 == n2 or n1+1 == n2:\n",
    "    n = 0    \n",
    "print(n)\n",
    "for i in range(n1+1, n2):\n",
    "    print(i, end = ' ')"
   ]
  }
 ],
 "metadata": {
  "kernelspec": {
   "display_name": "Python 3",
   "language": "python",
   "name": "python3"
  },
  "language_info": {
   "codemirror_mode": {
    "name": "ipython",
    "version": 3
   },
   "file_extension": ".py",
   "mimetype": "text/x-python",
   "name": "python",
   "nbconvert_exporter": "python",
   "pygments_lexer": "ipython3",
   "version": "3.6.8"
  }
 },
 "nbformat": 4,
 "nbformat_minor": 2
}
