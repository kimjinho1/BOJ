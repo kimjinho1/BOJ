{
 "cells": [
  {
   "cell_type": "code",
   "execution_count": null,
   "metadata": {
    "ExecuteTime": {
     "end_time": "2021-03-05T08:33:14.666814Z",
     "start_time": "2021-03-05T08:33:14.640840Z"
    }
   },
   "outputs": [],
   "source": [
    "import sys\n",
    "\n",
    "class Queue():\n",
    "    def __init__(self):\n",
    "        self.li = []\n",
    "    \n",
    "    def push(self, n):\n",
    "        self.li.append(n)\n",
    "\n",
    "    def pop(self):\n",
    "        print(self.li.pop(0) if self.li else -1)\n",
    "    \n",
    "    def size(self):\n",
    "        print(len(self.li))\n",
    "\n",
    "    def empty(self):\n",
    "        print(0 if self.li else 1)\n",
    "        \n",
    "    def front(self):\n",
    "        print(self.li[0] if self.li else -1)\n",
    "        \n",
    "    def back(self):\n",
    "        print(self.li[-1] if self.li else -1)\n",
    "\n",
    "queue = Queue()\n",
    "for _ in range(int(sys.stdin.readline())):\n",
    "    s = sys.stdin.readline().split()\n",
    "    if s[0] == \"push\":\n",
    "        queue.push(int(s[1]))\n",
    "    elif s[0] == \"pop\":\n",
    "        queue.pop()\n",
    "    elif s[0] == \"size\":\n",
    "        queue.size()\n",
    "    elif s[0] == \"empty\":\n",
    "        queue.empty()\n",
    "    elif s[0] == \"front\":\n",
    "        queue.front()\n",
    "    elif s[0] == \"back\":\n",
    "        queue.back()"
   ]
  },
  {
   "cell_type": "code",
   "execution_count": 7,
   "metadata": {
    "ExecuteTime": {
     "end_time": "2021-03-05T08:32:49.055351Z",
     "start_time": "2021-03-05T08:32:22.807605Z"
    }
   },
   "outputs": [
    {
     "name": "stdout",
     "output_type": "stream",
     "text": [
      "15\n",
      "push 1\n",
      "push 2\n",
      "front\n",
      "1\n",
      "back\n",
      "2\n",
      "size\n",
      "2\n",
      "empty\n",
      "0\n",
      "pop\n",
      "1\n",
      "pop\n",
      "2\n",
      "pop\n",
      "-1\n",
      "size\n",
      "0\n",
      "empty\n",
      "1\n",
      "pop\n",
      "-1\n",
      "push 3\n",
      "empty\n",
      "0\n",
      "front\n",
      "3\n"
     ]
    }
   ],
   "source": [
    "class Queue():\n",
    "    def __init__(self):\n",
    "        self.li = []\n",
    "    \n",
    "    def push(self, n):\n",
    "        self.li.append(n)\n",
    "\n",
    "    def pop(self):\n",
    "        print(self.li.pop(0) if self.li else -1)\n",
    "    \n",
    "    def size(self):\n",
    "        print(len(self.li))\n",
    "\n",
    "    def empty(self):\n",
    "        print(0 if self.li else 1)\n",
    "        \n",
    "    def front(self):\n",
    "        print(self.li[0] if self.li else -1)\n",
    "        \n",
    "    def back(self):\n",
    "        print(self.li[-1] if self.li else -1)\n",
    "\n",
    "queue = Queue()\n",
    "for _ in range(int(input())):\n",
    "    s = input().split()\n",
    "    if s[0] == \"push\":\n",
    "        queue.push(int(s[1]))\n",
    "    elif s[0] == \"pop\":\n",
    "        queue.pop()\n",
    "    elif s[0] == \"size\":\n",
    "        queue.size()\n",
    "    elif s[0] == \"empty\":\n",
    "        queue.empty()\n",
    "    elif s[0] == \"front\":\n",
    "        queue.front()\n",
    "    elif s[0] == \"back\":\n",
    "        queue.back()"
   ]
  },
  {
   "cell_type": "code",
   "execution_count": null,
   "metadata": {},
   "outputs": [],
   "source": []
  }
 ],
 "metadata": {
  "kernelspec": {
   "display_name": "Python 3",
   "language": "python",
   "name": "python3"
  },
  "language_info": {
   "codemirror_mode": {
    "name": "ipython",
    "version": 3
   },
   "file_extension": ".py",
   "mimetype": "text/x-python",
   "name": "python",
   "nbconvert_exporter": "python",
   "pygments_lexer": "ipython3",
   "version": "3.8.5"
  },
  "toc": {
   "base_numbering": 1,
   "nav_menu": {},
   "number_sections": true,
   "sideBar": true,
   "skip_h1_title": false,
   "title_cell": "Table of Contents",
   "title_sidebar": "Contents",
   "toc_cell": false,
   "toc_position": {},
   "toc_section_display": true,
   "toc_window_display": false
  },
  "varInspector": {
   "cols": {
    "lenName": 16,
    "lenType": 16,
    "lenVar": 40
   },
   "kernels_config": {
    "python": {
     "delete_cmd_postfix": "",
     "delete_cmd_prefix": "del ",
     "library": "var_list.py",
     "varRefreshCmd": "print(var_dic_list())"
    },
    "r": {
     "delete_cmd_postfix": ") ",
     "delete_cmd_prefix": "rm(",
     "library": "var_list.r",
     "varRefreshCmd": "cat(var_dic_list()) "
    }
   },
   "types_to_exclude": [
    "module",
    "function",
    "builtin_function_or_method",
    "instance",
    "_Feature"
   ],
   "window_display": false
  }
 },
 "nbformat": 4,
 "nbformat_minor": 4
}
