{
 "cells": [
  {
   "cell_type": "code",
   "execution_count": 3,
   "metadata": {
    "ExecuteTime": {
     "end_time": "2021-03-14T09:20:44.821637Z",
     "start_time": "2021-03-14T09:20:36.191840Z"
    },
    "scrolled": true
   },
   "outputs": [
    {
     "name": "stdout",
     "output_type": "stream",
     "text": [
      "4 7\n",
      "0000000\n",
      "0111000\n",
      "0111010\n",
      "0000000\n",
      "0 0 3\n",
      "3333333\n",
      "3111333\n",
      "3111313\n",
      "3333333\n"
     ]
    }
   ],
   "source": [
    "import sys\n",
    "sys.setrecursionlimit(3000000)\n",
    "\n",
    "def dfs(y, x, K, n):\n",
    "    graph[y][x] = K\n",
    "    for dy, dx in d:\n",
    "        Y, X = y+dy, x+dx\n",
    "        if (0 <= Y < R) and (0 <= X < C) and graph[Y][X] == n:\n",
    "            dfs(Y, X, K, n)\n",
    "            \n",
    "R, C = map(int, input().split())\n",
    "graph = [list(input()) for _ in range(R)]\n",
    "Y, X, K = map(int, input().split())\n",
    "d = [(-1, 0), (1, 0), (0, -1), (0, 1)]\n",
    "dfs(Y, X, str(K), graph[Y][X])\n",
    "for line in graph:\n",
    "    print(''.join(line))"
   ]
  },
  {
   "cell_type": "code",
   "execution_count": 2,
   "metadata": {
    "ExecuteTime": {
     "end_time": "2021-03-14T09:19:02.755199Z",
     "start_time": "2021-03-14T09:18:41.409802Z"
    }
   },
   "outputs": [
    {
     "name": "stdout",
     "output_type": "stream",
     "text": [
      "9 9\n",
      "000000000\n",
      "011101110\n",
      "011101110\n",
      "011011110\n",
      "000111000\n",
      "011110110\n",
      "011101110\n",
      "011101110\n",
      "000000000\n",
      "4 4 2\n",
      "000000000\n",
      "011102220\n",
      "011102220\n",
      "011022220\n",
      "000222000\n",
      "022220110\n",
      "022201110\n",
      "022201110\n",
      "000000000\n"
     ]
    }
   ],
   "source": [
    "from collections import deque\n",
    "\n",
    "def bfs(y, x, K):\n",
    "    q = deque()\n",
    "    q.append((y, x))\n",
    "    n = graph[y][x]\n",
    "    graph[y][x] = K\n",
    "    while q:\n",
    "        y, x = q.popleft()\n",
    "        for dy, dx in d:\n",
    "            Y, X = y+dy, x+dx\n",
    "            if (0 <= Y < R) and (0 <= X < C) and graph[Y][X] == n:\n",
    "                q.append((Y, X))\n",
    "                graph[Y][X] = K\n",
    "\n",
    "R, C = map(int, input().split())\n",
    "graph = [list(input()) for _ in range(R)]\n",
    "Y, X, K = map(int, input().split())\n",
    "d = [(-1, 0), (1, 0), (0, -1), (0, 1)]\n",
    "bfs(Y, X, str(K))\n",
    "for line in graph:\n",
    "    print(''.join(line))"
   ]
  },
  {
   "cell_type": "code",
   "execution_count": null,
   "metadata": {},
   "outputs": [],
   "source": []
  }
 ],
 "metadata": {
  "kernelspec": {
   "display_name": "Python 3",
   "language": "python",
   "name": "python3"
  },
  "language_info": {
   "codemirror_mode": {
    "name": "ipython",
    "version": 3
   },
   "file_extension": ".py",
   "mimetype": "text/x-python",
   "name": "python",
   "nbconvert_exporter": "python",
   "pygments_lexer": "ipython3",
   "version": "3.8.5"
  },
  "toc": {
   "base_numbering": 1,
   "nav_menu": {},
   "number_sections": true,
   "sideBar": true,
   "skip_h1_title": false,
   "title_cell": "Table of Contents",
   "title_sidebar": "Contents",
   "toc_cell": false,
   "toc_position": {},
   "toc_section_display": true,
   "toc_window_display": false
  },
  "varInspector": {
   "cols": {
    "lenName": 16,
    "lenType": 16,
    "lenVar": 40
   },
   "kernels_config": {
    "python": {
     "delete_cmd_postfix": "",
     "delete_cmd_prefix": "del ",
     "library": "var_list.py",
     "varRefreshCmd": "print(var_dic_list())"
    },
    "r": {
     "delete_cmd_postfix": ") ",
     "delete_cmd_prefix": "rm(",
     "library": "var_list.r",
     "varRefreshCmd": "cat(var_dic_list()) "
    }
   },
   "types_to_exclude": [
    "module",
    "function",
    "builtin_function_or_method",
    "instance",
    "_Feature"
   ],
   "window_display": false
  }
 },
 "nbformat": 4,
 "nbformat_minor": 4
}
