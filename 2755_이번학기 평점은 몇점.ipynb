{
 "cells": [
  {
   "cell_type": "code",
   "execution_count": 30,
   "id": "handmade-check",
   "metadata": {
    "ExecuteTime": {
     "end_time": "2021-02-24T02:31:52.338795Z",
     "start_time": "2021-02-24T02:31:16.894838Z"
    }
   },
   "outputs": [
    {
     "name": "stdout",
     "output_type": "stream",
     "text": [
      "7\n",
      "General_Physics_1 3 A+\n",
      "Introduction_to_Computer_Science_and_Eng 3 B0\n",
      "Reading_And_Writing 2 C0\n",
      "English_1 3 C+\n",
      "Analytic_Geometry_and_Calculus_1 3 B+\n",
      "Fortran_Programming 3 B+\n",
      "C_Language_Programming 3 A+\n",
      "3.28\n"
     ]
    }
   ],
   "source": [
    "d = {\"A+\": 4.3, \"A0\": 4.0, \"A-\": 3.7, \"B+\": 3.3, \"B0\": 3.0, \n",
    "     \"B-\": 2.7, \"C+\": 2.3, \"C0\": 2.0, \"C-\": 1.7, \"D+\": 1.3, \n",
    "     \"D0\": 1.0, \"D-\": 0.7, \"F\": 0.0}\n",
    "N = t = 0\n",
    "for _ in range(int(input())):\n",
    "    s, n, g = input().split()\n",
    "    n = int(n) \n",
    "    N += n\n",
    "    t += n*d[g]\n",
    "print(\"%.2f\" % (round(t/N + 10**-10, 2)))"
   ]
  },
  {
   "cell_type": "code",
   "execution_count": null,
   "id": "retained-reset",
   "metadata": {},
   "outputs": [],
   "source": []
  }
 ],
 "metadata": {
  "kernelspec": {
   "display_name": "Python 3",
   "language": "python",
   "name": "python3"
  },
  "language_info": {
   "codemirror_mode": {
    "name": "ipython",
    "version": 3
   },
   "file_extension": ".py",
   "mimetype": "text/x-python",
   "name": "python",
   "nbconvert_exporter": "python",
   "pygments_lexer": "ipython3",
   "version": "3.7.9"
  },
  "toc": {
   "base_numbering": 1,
   "nav_menu": {},
   "number_sections": true,
   "sideBar": true,
   "skip_h1_title": false,
   "title_cell": "Table of Contents",
   "title_sidebar": "Contents",
   "toc_cell": false,
   "toc_position": {},
   "toc_section_display": true,
   "toc_window_display": false
  },
  "varInspector": {
   "cols": {
    "lenName": 16,
    "lenType": 16,
    "lenVar": 40
   },
   "kernels_config": {
    "python": {
     "delete_cmd_postfix": "",
     "delete_cmd_prefix": "del ",
     "library": "var_list.py",
     "varRefreshCmd": "print(var_dic_list())"
    },
    "r": {
     "delete_cmd_postfix": ") ",
     "delete_cmd_prefix": "rm(",
     "library": "var_list.r",
     "varRefreshCmd": "cat(var_dic_list()) "
    }
   },
   "types_to_exclude": [
    "module",
    "function",
    "builtin_function_or_method",
    "instance",
    "_Feature"
   ],
   "window_display": false
  }
 },
 "nbformat": 4,
 "nbformat_minor": 5
}
