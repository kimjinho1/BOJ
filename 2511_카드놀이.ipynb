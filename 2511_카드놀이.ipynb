{
 "cells": [
  {
   "cell_type": "code",
   "execution_count": 8,
   "id": "detected-fiction",
   "metadata": {
    "ExecuteTime": {
     "end_time": "2021-02-11T08:40:19.571009Z",
     "start_time": "2021-02-11T08:40:06.305589Z"
    }
   },
   "outputs": [
    {
     "name": "stdout",
     "output_type": "stream",
     "text": [
      "4 5 6 7 0 1 2 3 9 8\n",
      "1 2 3 4 5 6 7 8 9 0\n",
      "16 13\n",
      "A\n"
     ]
    }
   ],
   "source": [
    "A = list(map(int, input().split()))\n",
    "B = list(map(int, input().split()))\n",
    "\n",
    "if A == B:\n",
    "    print(10, 10); \n",
    "    print(\"D\")\n",
    "else:\n",
    "    a = b = 0\n",
    "    for i in range(10):\n",
    "        if A[i] > B[i]:\n",
    "            a += 3; win = 'A'\n",
    "        elif A[i] < B[i]:\n",
    "            b += 3; win = 'B'\n",
    "        else:\n",
    "            a += 1; b += 1;    \n",
    "    print(a, b)\n",
    "    if a == b:\n",
    "        print(win)\n",
    "    else:\n",
    "        print('A' if a > b else 'B')"
   ]
  },
  {
   "cell_type": "code",
   "execution_count": null,
   "id": "disciplinary-yacht",
   "metadata": {},
   "outputs": [],
   "source": []
  }
 ],
 "metadata": {
  "kernelspec": {
   "display_name": "Python 3",
   "language": "python",
   "name": "python3"
  },
  "language_info": {
   "codemirror_mode": {
    "name": "ipython",
    "version": 3
   },
   "file_extension": ".py",
   "mimetype": "text/x-python",
   "name": "python",
   "nbconvert_exporter": "python",
   "pygments_lexer": "ipython3",
   "version": "3.7.9"
  },
  "toc": {
   "base_numbering": 1,
   "nav_menu": {},
   "number_sections": true,
   "sideBar": true,
   "skip_h1_title": false,
   "title_cell": "Table of Contents",
   "title_sidebar": "Contents",
   "toc_cell": false,
   "toc_position": {},
   "toc_section_display": true,
   "toc_window_display": false
  },
  "varInspector": {
   "cols": {
    "lenName": 16,
    "lenType": 16,
    "lenVar": 40
   },
   "kernels_config": {
    "python": {
     "delete_cmd_postfix": "",
     "delete_cmd_prefix": "del ",
     "library": "var_list.py",
     "varRefreshCmd": "print(var_dic_list())"
    },
    "r": {
     "delete_cmd_postfix": ") ",
     "delete_cmd_prefix": "rm(",
     "library": "var_list.r",
     "varRefreshCmd": "cat(var_dic_list()) "
    }
   },
   "types_to_exclude": [
    "module",
    "function",
    "builtin_function_or_method",
    "instance",
    "_Feature"
   ],
   "window_display": false
  }
 },
 "nbformat": 4,
 "nbformat_minor": 5
}
