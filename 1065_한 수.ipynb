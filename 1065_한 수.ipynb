{
 "cells": [
  {
   "cell_type": "code",
   "execution_count": 4,
   "metadata": {},
   "outputs": [
    {
     "name": "stdout",
     "output_type": "stream",
     "text": [
      "1000\n",
      "144\n"
     ]
    }
   ],
   "source": [
    "cnt = 0\n",
    "for i in range(1, int(input())+1):\n",
    "    if i < 100:\n",
    "        cnt += 1\n",
    "    else:\n",
    "        i = str(i)\n",
    "        diff = int(i[0]) - int(i[1])\n",
    "        ok = 1\n",
    "        for j in range(1, len(i)-1):\n",
    "            if int(i[j]) - int(i[j+1]) != diff:\n",
    "                ok = 0\n",
    "                break\n",
    "        if ok:\n",
    "            cnt += 1\n",
    "print(cnt)"
   ]
  },
  {
   "cell_type": "code",
   "execution_count": null,
   "metadata": {},
   "outputs": [],
   "source": []
  }
 ],
 "metadata": {
  "kernelspec": {
   "display_name": "Python 3",
   "language": "python",
   "name": "python3"
  },
  "language_info": {
   "codemirror_mode": {
    "name": "ipython",
    "version": 3
   },
   "file_extension": ".py",
   "mimetype": "text/x-python",
   "name": "python",
   "nbconvert_exporter": "python",
   "pygments_lexer": "ipython3",
   "version": "3.6.8"
  }
 },
 "nbformat": 4,
 "nbformat_minor": 2
}
