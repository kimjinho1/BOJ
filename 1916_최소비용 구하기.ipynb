{
 "cells": [
  {
   "cell_type": "code",
   "execution_count": null,
   "metadata": {},
   "outputs": [],
   "source": [
    "import heapq\n",
    "import sys\n",
    "INF = sys.maxsize\n",
    "input = sys.stdin.readline\n",
    "\n",
    "def dijkstra(start):\n",
    "    q = []\n",
    "    heapq.heappush(q, (0, start))\n",
    "    dis[start] = 0\n",
    "    while q:\n",
    "        d, now = heapq.heappop(q)\n",
    "        if dis[now] < d:\n",
    "            continue\n",
    "        for v, w in graph[now]:\n",
    "            cost = d + w\n",
    "            if cost < dis[v]:\n",
    "                dis[v] = cost\n",
    "                heapq.heappush(q, (cost, v))\n",
    "                \n",
    "N, M = int(input()), int(input())\n",
    "graph = [[] for _ in range(N+1)]\n",
    "dis = [INF]*(N+1)\n",
    "for _ in range(M):\n",
    "    a, b, w = map(int, input().split())\n",
    "    graph[a].append((b, w))\n",
    "s, e = map(int, input().split())\n",
    "dijkstra(s)\n",
    "print(dis[e])"
   ]
  },
  {
   "cell_type": "code",
   "execution_count": 9,
   "metadata": {
    "ExecuteTime": {
     "end_time": "2021-03-22T13:30:34.736897Z",
     "start_time": "2021-03-22T13:30:08.237355Z"
    }
   },
   "outputs": [
    {
     "name": "stdout",
     "output_type": "stream",
     "text": [
      "5\n",
      "8\n",
      "1 2 2\n",
      "1 3 3\n",
      "1 4 1\n",
      "1 5 10\n",
      "2 4 2\n",
      "3 4 1\n",
      "3 5 1\n",
      "4 5 3\n",
      "1 5\n",
      "4\n"
     ]
    }
   ],
   "source": [
    "import heapq\n",
    "import sys\n",
    "INF = sys.maxsize\n",
    "\n",
    "def dijkstra(start):\n",
    "    q = []\n",
    "    heapq.heappush(q, (0, start))\n",
    "    dis[start] = 0\n",
    "    while q:\n",
    "        d, now = heapq.heappop(q)\n",
    "        if dis[now] < d:\n",
    "            continue\n",
    "        for v, w in graph[now]:\n",
    "            cost = d + w\n",
    "            if cost < dis[v]:\n",
    "                dis[v] = cost\n",
    "                heapq.heappush(q, (cost, v))\n",
    "                \n",
    "N, M = int(input()), int(input())\n",
    "graph = [[] for _ in range(N+1)]\n",
    "dis = [INF]*(N+1)\n",
    "for _ in range(M):\n",
    "    a, b, w = map(int, input().split())\n",
    "    graph[a].append((b, w))\n",
    "s, e = map(int, input().split())\n",
    "dijkstra(s)\n",
    "print(dis[e])"
   ]
  },
  {
   "cell_type": "code",
   "execution_count": null,
   "metadata": {},
   "outputs": [],
   "source": []
  }
 ],
 "metadata": {
  "kernelspec": {
   "display_name": "Python 3",
   "language": "python",
   "name": "python3"
  },
  "language_info": {
   "codemirror_mode": {
    "name": "ipython",
    "version": 3
   },
   "file_extension": ".py",
   "mimetype": "text/x-python",
   "name": "python",
   "nbconvert_exporter": "python",
   "pygments_lexer": "ipython3",
   "version": "3.8.5"
  },
  "toc": {
   "base_numbering": 1,
   "nav_menu": {},
   "number_sections": true,
   "sideBar": true,
   "skip_h1_title": false,
   "title_cell": "Table of Contents",
   "title_sidebar": "Contents",
   "toc_cell": false,
   "toc_position": {},
   "toc_section_display": true,
   "toc_window_display": false
  },
  "varInspector": {
   "cols": {
    "lenName": 16,
    "lenType": 16,
    "lenVar": 40
   },
   "kernels_config": {
    "python": {
     "delete_cmd_postfix": "",
     "delete_cmd_prefix": "del ",
     "library": "var_list.py",
     "varRefreshCmd": "print(var_dic_list())"
    },
    "r": {
     "delete_cmd_postfix": ") ",
     "delete_cmd_prefix": "rm(",
     "library": "var_list.r",
     "varRefreshCmd": "cat(var_dic_list()) "
    }
   },
   "types_to_exclude": [
    "module",
    "function",
    "builtin_function_or_method",
    "instance",
    "_Feature"
   ],
   "window_display": false
  }
 },
 "nbformat": 4,
 "nbformat_minor": 4
}
