{
 "cells": [
  {
   "cell_type": "code",
   "execution_count": 5,
   "id": "built-portable",
   "metadata": {
    "ExecuteTime": {
     "end_time": "2021-02-11T17:01:50.668029Z",
     "start_time": "2021-02-11T17:01:39.485937Z"
    }
   },
   "outputs": [
    {
     "name": "stdout",
     "output_type": "stream",
     "text": [
      "10000 W 10\n",
      "9990\n",
      "-200 D 300\n",
      "100\n",
      "50 W 300\n",
      "Not allowed\n",
      "0 W 0\n"
     ]
    }
   ],
   "source": [
    "while 1:\n",
    "    a, op, b = input().split()\n",
    "    if a == b == '0':\n",
    "        break\n",
    "    if op == 'W':\n",
    "        s = int(a) - int(b)\n",
    "    else:\n",
    "        s = int(a) + int(b)\n",
    "    print(\"Not allowed\" if s < -200 else s)"
   ]
  },
  {
   "cell_type": "code",
   "execution_count": 6,
   "id": "smoking-killer",
   "metadata": {
    "ExecuteTime": {
     "end_time": "2021-02-11T17:02:17.421480Z",
     "start_time": "2021-02-11T17:02:07.828139Z"
    }
   },
   "outputs": [
    {
     "name": "stdout",
     "output_type": "stream",
     "text": [
      "10000 W 10\n",
      "9990\n",
      "-200 D 300\n",
      "100\n",
      "50 W 300\n",
      "Not allowed\n",
      "0 W 0\n"
     ]
    }
   ],
   "source": [
    "while 1:\n",
    "    a, op, b = input().split()\n",
    "    if a == b == '0':\n",
    "        break\n",
    "    s = int(a)-int(b) if op == 'W' else int(a)+int(b)\n",
    "    print(\"Not allowed\" if s < -200 else s)"
   ]
  },
  {
   "cell_type": "code",
   "execution_count": null,
   "id": "exceptional-ability",
   "metadata": {},
   "outputs": [],
   "source": []
  }
 ],
 "metadata": {
  "kernelspec": {
   "display_name": "Python 3",
   "language": "python",
   "name": "python3"
  },
  "language_info": {
   "codemirror_mode": {
    "name": "ipython",
    "version": 3
   },
   "file_extension": ".py",
   "mimetype": "text/x-python",
   "name": "python",
   "nbconvert_exporter": "python",
   "pygments_lexer": "ipython3",
   "version": "3.7.9"
  },
  "toc": {
   "base_numbering": 1,
   "nav_menu": {},
   "number_sections": true,
   "sideBar": true,
   "skip_h1_title": false,
   "title_cell": "Table of Contents",
   "title_sidebar": "Contents",
   "toc_cell": false,
   "toc_position": {},
   "toc_section_display": true,
   "toc_window_display": false
  },
  "varInspector": {
   "cols": {
    "lenName": 16,
    "lenType": 16,
    "lenVar": 40
   },
   "kernels_config": {
    "python": {
     "delete_cmd_postfix": "",
     "delete_cmd_prefix": "del ",
     "library": "var_list.py",
     "varRefreshCmd": "print(var_dic_list())"
    },
    "r": {
     "delete_cmd_postfix": ") ",
     "delete_cmd_prefix": "rm(",
     "library": "var_list.r",
     "varRefreshCmd": "cat(var_dic_list()) "
    }
   },
   "types_to_exclude": [
    "module",
    "function",
    "builtin_function_or_method",
    "instance",
    "_Feature"
   ],
   "window_display": false
  }
 },
 "nbformat": 4,
 "nbformat_minor": 5
}
