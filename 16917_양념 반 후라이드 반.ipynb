{
 "cells": [
  {
   "cell_type": "code",
   "execution_count": 3,
   "metadata": {
    "ExecuteTime": {
     "end_time": "2021-03-01T03:15:21.264616Z",
     "start_time": "2021-03-01T03:15:20.906183Z"
    }
   },
   "outputs": [
    {
     "name": "stdout",
     "output_type": "stream",
     "text": [
      "1500 2000 1600 3 2\n",
      "7900\n"
     ]
    }
   ],
   "source": [
    "A, B, C, X, Y = map(int, input().split())\n",
    "if A+B < C*2:\n",
    "    print(A*X + B*Y)\n",
    "else:\n",
    "    m=min(X,Y)\n",
    "    print(C*m*2 + min(C*2, A)*max(0, X-m) + min(C*2, B)*max(0, Y-m))"
   ]
  },
  {
   "cell_type": "code",
   "execution_count": 4,
   "metadata": {
    "ExecuteTime": {
     "end_time": "2021-03-01T03:15:28.581191Z",
     "start_time": "2021-03-01T03:15:28.273498Z"
    }
   },
   "outputs": [
    {
     "name": "stdout",
     "output_type": "stream",
     "text": [
      "1500 2000 1900 3 2\n",
      "8500\n"
     ]
    }
   ],
   "source": [
    "A, B, C, X, Y = map(int, input().split())\n",
    "if A+B < C*2:\n",
    "    print(A*X + B*Y)\n",
    "else:\n",
    "    m=min(X,Y)\n",
    "    print(C*m*2 + min(C*2, A)*max(0, X-m) + min(C*2, B)*max(0, Y-m))"
   ]
  },
  {
   "cell_type": "code",
   "execution_count": 2,
   "metadata": {
    "ExecuteTime": {
     "end_time": "2021-03-01T03:14:03.219975Z",
     "start_time": "2021-03-01T03:14:01.256211Z"
    }
   },
   "outputs": [
    {
     "name": "stdout",
     "output_type": "stream",
     "text": [
      "1500 2000 500 90000 100000\n",
      "100000000\n"
     ]
    }
   ],
   "source": [
    "A, B, C, X, Y = map(int, input().split())\n",
    "if A+B < C*2:\n",
    "    print(A*X + B*Y)\n",
    "else:\n",
    "    m=min(X,Y)\n",
    "    print(C*m*2 + min(C*2, A)*max(0, X-m) + min(C*2, B)*max(0, Y-m))"
   ]
  },
  {
   "cell_type": "code",
   "execution_count": null,
   "metadata": {},
   "outputs": [],
   "source": []
  }
 ],
 "metadata": {
  "kernelspec": {
   "display_name": "Python 3",
   "language": "python",
   "name": "python3"
  },
  "language_info": {
   "codemirror_mode": {
    "name": "ipython",
    "version": 3
   },
   "file_extension": ".py",
   "mimetype": "text/x-python",
   "name": "python",
   "nbconvert_exporter": "python",
   "pygments_lexer": "ipython3",
   "version": "3.8.5"
  },
  "toc": {
   "base_numbering": 1,
   "nav_menu": {},
   "number_sections": true,
   "sideBar": true,
   "skip_h1_title": false,
   "title_cell": "Table of Contents",
   "title_sidebar": "Contents",
   "toc_cell": false,
   "toc_position": {},
   "toc_section_display": true,
   "toc_window_display": false
  },
  "varInspector": {
   "cols": {
    "lenName": 16,
    "lenType": 16,
    "lenVar": 40
   },
   "kernels_config": {
    "python": {
     "delete_cmd_postfix": "",
     "delete_cmd_prefix": "del ",
     "library": "var_list.py",
     "varRefreshCmd": "print(var_dic_list())"
    },
    "r": {
     "delete_cmd_postfix": ") ",
     "delete_cmd_prefix": "rm(",
     "library": "var_list.r",
     "varRefreshCmd": "cat(var_dic_list()) "
    }
   },
   "types_to_exclude": [
    "module",
    "function",
    "builtin_function_or_method",
    "instance",
    "_Feature"
   ],
   "window_display": false
  }
 },
 "nbformat": 4,
 "nbformat_minor": 4
}
