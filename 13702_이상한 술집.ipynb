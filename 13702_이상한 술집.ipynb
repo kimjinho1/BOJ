{
 "cells": [
  {
   "cell_type": "code",
   "execution_count": 2,
   "metadata": {
    "ExecuteTime": {
     "end_time": "2021-02-25T11:05:50.340554Z",
     "start_time": "2021-02-25T11:05:47.283363Z"
    }
   },
   "outputs": [
    {
     "name": "stdout",
     "output_type": "stream",
     "text": [
      "2 3\n",
      "702\n",
      "429\n",
      "351\n"
     ]
    }
   ],
   "source": [
    "N, K = map(int, input().split())\n",
    "li = [int(input()) for _ in range(N)]\n",
    "s, e = 1, max(li)\n",
    "res = 0\n",
    "while s <= e:\n",
    "    m = (s+e)//2\n",
    "    t = sum(n//m for n in li)\n",
    "    if t >= K:\n",
    "        res = m\n",
    "        s = m+1\n",
    "    else:\n",
    "        e = m-1\n",
    "print(res)"
   ]
  },
  {
   "cell_type": "code",
   "execution_count": 3,
   "metadata": {
    "ExecuteTime": {
     "end_time": "2021-02-25T11:06:01.200457Z",
     "start_time": "2021-02-25T11:05:54.997281Z"
    }
   },
   "outputs": [
    {
     "name": "stdout",
     "output_type": "stream",
     "text": [
      "4 11\n",
      "427\n",
      "541\n",
      "774\n",
      "822\n",
      "205\n"
     ]
    }
   ],
   "source": [
    "N, K = map(int, input().split())\n",
    "li = [int(input()) for _ in range(N)]\n",
    "s, e = 1, max(li)\n",
    "res = 0\n",
    "while s <= e:\n",
    "    m = (s+e)//2\n",
    "    t = sum(n//m for n in li)\n",
    "    if t >= K:\n",
    "        res = m\n",
    "        s = m+1\n",
    "    else:\n",
    "        e = m-1\n",
    "print(res)"
   ]
  },
  {
   "cell_type": "code",
   "execution_count": null,
   "metadata": {},
   "outputs": [],
   "source": []
  }
 ],
 "metadata": {
  "kernelspec": {
   "display_name": "Python 3",
   "language": "python",
   "name": "python3"
  },
  "language_info": {
   "codemirror_mode": {
    "name": "ipython",
    "version": 3
   },
   "file_extension": ".py",
   "mimetype": "text/x-python",
   "name": "python",
   "nbconvert_exporter": "python",
   "pygments_lexer": "ipython3",
   "version": "3.8.5"
  },
  "toc": {
   "base_numbering": 1,
   "nav_menu": {},
   "number_sections": true,
   "sideBar": true,
   "skip_h1_title": false,
   "title_cell": "Table of Contents",
   "title_sidebar": "Contents",
   "toc_cell": false,
   "toc_position": {},
   "toc_section_display": true,
   "toc_window_display": false
  },
  "varInspector": {
   "cols": {
    "lenName": 16,
    "lenType": 16,
    "lenVar": 40
   },
   "kernels_config": {
    "python": {
     "delete_cmd_postfix": "",
     "delete_cmd_prefix": "del ",
     "library": "var_list.py",
     "varRefreshCmd": "print(var_dic_list())"
    },
    "r": {
     "delete_cmd_postfix": ") ",
     "delete_cmd_prefix": "rm(",
     "library": "var_list.r",
     "varRefreshCmd": "cat(var_dic_list()) "
    }
   },
   "types_to_exclude": [
    "module",
    "function",
    "builtin_function_or_method",
    "instance",
    "_Feature"
   ],
   "window_display": false
  }
 },
 "nbformat": 4,
 "nbformat_minor": 4
}
