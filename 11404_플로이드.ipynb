{
 "cells": [
  {
   "cell_type": "code",
   "execution_count": null,
   "metadata": {},
   "outputs": [],
   "source": [
    "import sys\n",
    "INF = sys.maxsize\n",
    "input = sys.stdin.readline\n",
    "\n",
    "n, m = int(input()), int(input())\n",
    "dis = [[INF]*n for _ in range(n)]\n",
    "for _ in range(m):\n",
    "    a, b, c = map(int, input().split())\n",
    "    if c < dis[a-1][b-1]:\n",
    "        dis[a-1][b-1] = c\n",
    "for k in range(n):\n",
    "    for a in range(n):\n",
    "        for b in range(n):\n",
    "            if a != b:\n",
    "                dis[a][b] = min(dis[a][b], dis[a][k]+dis[k][b])\n",
    "for i in range(n):\n",
    "    for j in range(n):\n",
    "        if dis[i][j] == INF:\n",
    "            dis[i][j] = 0\n",
    "for t in dis:\n",
    "    print(*t)"
   ]
  },
  {
   "cell_type": "code",
   "execution_count": 35,
   "metadata": {
    "ExecuteTime": {
     "end_time": "2021-03-22T14:41:02.057931Z",
     "start_time": "2021-03-22T14:40:45.126668Z"
    }
   },
   "outputs": [
    {
     "name": "stdout",
     "output_type": "stream",
     "text": [
      "5 \n",
      "14\n",
      "1 2 2\n",
      "1 3 3\n",
      "1 4 1\n",
      "1 5 10\n",
      "2 4 2\n",
      "3 4 1\n",
      "3 5 1\n",
      "4 5 3\n",
      "3 5 10\n",
      "3 1 8\n",
      "1 4 2\n",
      "5 1 7\n",
      "3 4 2\n",
      "5 2 4\n",
      "0 2 3 1 4\n",
      "12 0 15 2 5\n",
      "8 5 0 1 1\n",
      "10 7 13 0 3\n",
      "7 4 10 6 0\n"
     ]
    }
   ],
   "source": [
    "import sys\n",
    "INF = sys.maxsize\n",
    "\n",
    "n, m = int(input()), int(input())\n",
    "dis = [[INF]*n for _ in range(n)]\n",
    "for _ in range(m):\n",
    "    a, b, c = map(int, input().split())\n",
    "    if c < dis[a-1][b-1]:\n",
    "        dis[a-1][b-1] = c\n",
    "for k in range(n):\n",
    "    for a in range(n):\n",
    "        for b in range(n):\n",
    "            if a != b:\n",
    "                dis[a][b] = min(dis[a][b], dis[a][k]+dis[k][b])\n",
    "for i in range(n):\n",
    "    for j in range(n):\n",
    "        if dis[i][j] == INF:\n",
    "            dis[i][j] = 0\n",
    "for t in dis:\n",
    "    print(*t)"
   ]
  },
  {
   "cell_type": "code",
   "execution_count": null,
   "metadata": {},
   "outputs": [],
   "source": []
  }
 ],
 "metadata": {
  "kernelspec": {
   "display_name": "Python 3",
   "language": "python",
   "name": "python3"
  },
  "language_info": {
   "codemirror_mode": {
    "name": "ipython",
    "version": 3
   },
   "file_extension": ".py",
   "mimetype": "text/x-python",
   "name": "python",
   "nbconvert_exporter": "python",
   "pygments_lexer": "ipython3",
   "version": "3.8.5"
  },
  "toc": {
   "base_numbering": 1,
   "nav_menu": {},
   "number_sections": true,
   "sideBar": true,
   "skip_h1_title": false,
   "title_cell": "Table of Contents",
   "title_sidebar": "Contents",
   "toc_cell": false,
   "toc_position": {},
   "toc_section_display": true,
   "toc_window_display": false
  },
  "varInspector": {
   "cols": {
    "lenName": 16,
    "lenType": 16,
    "lenVar": 40
   },
   "kernels_config": {
    "python": {
     "delete_cmd_postfix": "",
     "delete_cmd_prefix": "del ",
     "library": "var_list.py",
     "varRefreshCmd": "print(var_dic_list())"
    },
    "r": {
     "delete_cmd_postfix": ") ",
     "delete_cmd_prefix": "rm(",
     "library": "var_list.r",
     "varRefreshCmd": "cat(var_dic_list()) "
    }
   },
   "types_to_exclude": [
    "module",
    "function",
    "builtin_function_or_method",
    "instance",
    "_Feature"
   ],
   "window_display": false
  }
 },
 "nbformat": 4,
 "nbformat_minor": 4
}
