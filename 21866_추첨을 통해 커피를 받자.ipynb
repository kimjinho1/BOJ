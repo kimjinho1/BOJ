{
 "cells": [
  {
   "cell_type": "code",
   "execution_count": 2,
   "metadata": {
    "ExecuteTime": {
     "end_time": "2021-06-06T11:59:18.421410Z",
     "start_time": "2021-06-06T11:59:17.913930Z"
    }
   },
   "outputs": [
    {
     "name": "stdout",
     "output_type": "stream",
     "text": [
      "100 0 0 0 0 0 0 0 0\n",
      "draw\n"
     ]
    }
   ],
   "source": [
    "max_score = [100, 100, 200, 200, 300, 300, 400, 400, 500]\n",
    "score = list(map(int, input().split()))\n",
    "total_score, hacker = 0, 0\n",
    "for i in range(9):\n",
    "    if score[i] > max_score[i]:\n",
    "        hacker = 1\n",
    "    total_score += score[i]\n",
    "if hacker:\n",
    "    print(\"hacker\")\n",
    "else:\n",
    "    print(\"draw\" if total_score >= 100 else \"none\")"
   ]
  },
  {
   "cell_type": "code",
   "execution_count": 3,
   "metadata": {
    "ExecuteTime": {
     "end_time": "2021-06-06T11:59:28.328772Z",
     "start_time": "2021-06-06T11:59:24.605492Z"
    }
   },
   "outputs": [
    {
     "name": "stdout",
     "output_type": "stream",
     "text": [
      "0 50 0 0 0 0 0 0 0\n",
      "none\n"
     ]
    }
   ],
   "source": [
    "max_score = [100, 100, 200, 200, 300, 300, 400, 400, 500]\n",
    "score = list(map(int, input().split()))\n",
    "total_score, hacker = 0, 0\n",
    "for i in range(9):\n",
    "    if score[i] > max_score[i]:\n",
    "        hacker = 1\n",
    "    total_score += score[i]\n",
    "if hacker:\n",
    "    print(\"hacker\")\n",
    "else:\n",
    "    print(\"draw\" if total_score >= 100 else \"none\")"
   ]
  },
  {
   "cell_type": "code",
   "execution_count": 4,
   "metadata": {
    "ExecuteTime": {
     "end_time": "2021-06-06T11:59:33.926150Z",
     "start_time": "2021-06-06T11:59:33.508542Z"
    }
   },
   "outputs": [
    {
     "name": "stdout",
     "output_type": "stream",
     "text": [
      "101 101 201 201 301 301 401 401 501\n",
      "hacker\n"
     ]
    }
   ],
   "source": [
    "max_score = [100, 100, 200, 200, 300, 300, 400, 400, 500]\n",
    "score = list(map(int, input().split()))\n",
    "total_score, hacker = 0, 0\n",
    "for i in range(9):\n",
    "    if score[i] > max_score[i]:\n",
    "        hacker = 1\n",
    "    total_score += score[i]\n",
    "if hacker:\n",
    "    print(\"hacker\")\n",
    "else:\n",
    "    print(\"draw\" if total_score >= 100 else \"none\")"
   ]
  },
  {
   "cell_type": "code",
   "execution_count": null,
   "metadata": {},
   "outputs": [],
   "source": []
  }
 ],
 "metadata": {
  "kernelspec": {
   "display_name": "Python 3",
   "language": "python",
   "name": "python3"
  },
  "language_info": {
   "codemirror_mode": {
    "name": "ipython",
    "version": 3
   },
   "file_extension": ".py",
   "mimetype": "text/x-python",
   "name": "python",
   "nbconvert_exporter": "python",
   "pygments_lexer": "ipython3",
   "version": "3.8.5"
  },
  "toc": {
   "base_numbering": 1,
   "nav_menu": {},
   "number_sections": true,
   "sideBar": true,
   "skip_h1_title": false,
   "title_cell": "Table of Contents",
   "title_sidebar": "Contents",
   "toc_cell": false,
   "toc_position": {},
   "toc_section_display": true,
   "toc_window_display": false
  },
  "varInspector": {
   "cols": {
    "lenName": 16,
    "lenType": 16,
    "lenVar": 40
   },
   "kernels_config": {
    "python": {
     "delete_cmd_postfix": "",
     "delete_cmd_prefix": "del ",
     "library": "var_list.py",
     "varRefreshCmd": "print(var_dic_list())"
    },
    "r": {
     "delete_cmd_postfix": ") ",
     "delete_cmd_prefix": "rm(",
     "library": "var_list.r",
     "varRefreshCmd": "cat(var_dic_list()) "
    }
   },
   "types_to_exclude": [
    "module",
    "function",
    "builtin_function_or_method",
    "instance",
    "_Feature"
   ],
   "window_display": false
  }
 },
 "nbformat": 4,
 "nbformat_minor": 4
}
