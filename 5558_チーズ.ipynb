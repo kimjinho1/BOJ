{
 "cells": [
  {
   "cell_type": "code",
   "execution_count": 69,
   "metadata": {
    "ExecuteTime": {
     "end_time": "2021-03-20T10:16:29.208572Z",
     "start_time": "2021-03-20T10:16:21.741423Z"
    }
   },
   "outputs": [
    {
     "name": "stdout",
     "output_type": "stream",
     "text": [
      "3 3 1\n",
      "S..\n",
      "...\n",
      "..1\n",
      "4\n"
     ]
    }
   ],
   "source": [
    "from collections import deque\n",
    "from copy import deepcopy\n",
    "\n",
    "def clear(target):\n",
    "    for i in range(H):\n",
    "        for j in range(W):\n",
    "            if graph[i][j] == 'X':\n",
    "                t[i][j] = -2\n",
    "            else:\n",
    "                t[i][j] = -1\n",
    "\n",
    "def bfs(y, x, target):\n",
    "    q = deque()\n",
    "    q.append((y, x))\n",
    "    clear(target)\n",
    "    t[y][x] = 0\n",
    "    while q:\n",
    "        y, x = q.popleft()\n",
    "        for dy, dx in d:\n",
    "            Y, X = y+dy, x+dx\n",
    "            if (0 <= Y < H) and (0 <= X < W) and t[Y][X] == -1:\n",
    "                if graph[Y][X] == target: \n",
    "                    return t[y][x] + 1, Y, X\n",
    "                else:\n",
    "                    t[Y][X] = t[y][x] + 1\n",
    "                    q.append((Y, X))\n",
    "        \n",
    "H, W, N = map(int, input().split())\n",
    "graph = [list(input()) for _ in range(H)]\n",
    "t = deepcopy(graph)\n",
    "d = [(-1, 0), (1, 0), (0, -1), (0, 1)]\n",
    "res = 0\n",
    "for i in range(H):\n",
    "    for j in range(W):\n",
    "        if graph[i][j] == 'S':\n",
    "            y, x = i, j\n",
    "            for n in range(1, N+1):\n",
    "                z, y, x = bfs(y, x, str(n))\n",
    "                res += z \n",
    "print(res)"
   ]
  },
  {
   "cell_type": "code",
   "execution_count": 70,
   "metadata": {
    "ExecuteTime": {
     "end_time": "2021-03-20T10:16:38.244388Z",
     "start_time": "2021-03-20T10:16:32.539993Z"
    }
   },
   "outputs": [
    {
     "name": "stdout",
     "output_type": "stream",
     "text": [
      "4 5 2\n",
      ".X..1\n",
      "....X\n",
      ".XX.S\n",
      ".2.X.\n",
      "12\n"
     ]
    }
   ],
   "source": [
    "from collections import deque\n",
    "from copy import deepcopy\n",
    "\n",
    "def clear(target):\n",
    "    for i in range(H):\n",
    "        for j in range(W):\n",
    "            if graph[i][j] == 'X':\n",
    "                t[i][j] = -2\n",
    "            else:\n",
    "                t[i][j] = -1\n",
    "\n",
    "def bfs(y, x, target):\n",
    "    q = deque()\n",
    "    q.append((y, x))\n",
    "    clear(target)\n",
    "    t[y][x] = 0\n",
    "    while q:\n",
    "        y, x = q.popleft()\n",
    "        for dy, dx in d:\n",
    "            Y, X = y+dy, x+dx\n",
    "            if (0 <= Y < H) and (0 <= X < W) and t[Y][X] == -1:\n",
    "                if graph[Y][X] == target: \n",
    "                    return t[y][x] + 1, Y, X\n",
    "                else:\n",
    "                    t[Y][X] = t[y][x] + 1\n",
    "                    q.append((Y, X))\n",
    "        \n",
    "H, W, N = map(int, input().split())\n",
    "graph = [list(input()) for _ in range(H)]\n",
    "t = deepcopy(graph)\n",
    "d = [(-1, 0), (1, 0), (0, -1), (0, 1)]\n",
    "res = 0\n",
    "for i in range(H):\n",
    "    for j in range(W):\n",
    "        if graph[i][j] == 'S':\n",
    "            y, x = i, j\n",
    "            for n in range(1, N+1):\n",
    "                z, y, x = bfs(y, x, str(n))\n",
    "                res += z \n",
    "print(res)"
   ]
  },
  {
   "cell_type": "code",
   "execution_count": 71,
   "metadata": {
    "ExecuteTime": {
     "end_time": "2021-03-20T10:20:10.119468Z",
     "start_time": "2021-03-20T10:19:26.666121Z"
    }
   },
   "outputs": [
    {
     "name": "stdout",
     "output_type": "stream",
     "text": [
      "10 10 9\n",
      ".X...X.S.X\n",
      "6..5X..X1X\n",
      "...XXXX..X\n",
      "X..9X...X.\n",
      "8.X2X..X3X\n",
      "...XX.X4..\n",
      "XX....7X..\n",
      "X..X..XX..\n",
      "X...X.XX..\n",
      "..X.......\n",
      "91\n"
     ]
    }
   ],
   "source": [
    "from collections import deque\n",
    "from copy import deepcopy\n",
    "\n",
    "def clear(target):\n",
    "    for i in range(H):\n",
    "        for j in range(W):\n",
    "            if graph[i][j] == 'X':\n",
    "                t[i][j] = -2\n",
    "            else:\n",
    "                t[i][j] = -1\n",
    "\n",
    "def bfs(y, x, target):\n",
    "    q = deque()\n",
    "    q.append((y, x))\n",
    "    clear(target)\n",
    "    t[y][x] = 0\n",
    "    while q:\n",
    "        y, x = q.popleft()\n",
    "        for dy, dx in d:\n",
    "            Y, X = y+dy, x+dx\n",
    "            if (0 <= Y < H) and (0 <= X < W) and t[Y][X] == -1:\n",
    "                if graph[Y][X] == target: \n",
    "                    return t[y][x] + 1, Y, X\n",
    "                else:\n",
    "                    t[Y][X] = t[y][x] + 1\n",
    "                    q.append((Y, X))\n",
    "        \n",
    "H, W, N = map(int, input().split())\n",
    "graph = [list(input()) for _ in range(H)]\n",
    "t = deepcopy(graph)\n",
    "d = [(-1, 0), (1, 0), (0, -1), (0, 1)]\n",
    "res = 0\n",
    "for i in range(H):\n",
    "    for j in range(W):\n",
    "        if graph[i][j] == 'S':\n",
    "            y, x = i, j\n",
    "            for n in range(1, N+1):\n",
    "                z, y, x = bfs(y, x, str(n))\n",
    "                res += z \n",
    "print(res)"
   ]
  },
  {
   "cell_type": "code",
   "execution_count": null,
   "metadata": {},
   "outputs": [],
   "source": []
  }
 ],
 "metadata": {
  "kernelspec": {
   "display_name": "Python 3",
   "language": "python",
   "name": "python3"
  },
  "language_info": {
   "codemirror_mode": {
    "name": "ipython",
    "version": 3
   },
   "file_extension": ".py",
   "mimetype": "text/x-python",
   "name": "python",
   "nbconvert_exporter": "python",
   "pygments_lexer": "ipython3",
   "version": "3.8.5"
  },
  "toc": {
   "base_numbering": 1,
   "nav_menu": {},
   "number_sections": true,
   "sideBar": true,
   "skip_h1_title": false,
   "title_cell": "Table of Contents",
   "title_sidebar": "Contents",
   "toc_cell": false,
   "toc_position": {},
   "toc_section_display": true,
   "toc_window_display": false
  },
  "varInspector": {
   "cols": {
    "lenName": 16,
    "lenType": 16,
    "lenVar": 40
   },
   "kernels_config": {
    "python": {
     "delete_cmd_postfix": "",
     "delete_cmd_prefix": "del ",
     "library": "var_list.py",
     "varRefreshCmd": "print(var_dic_list())"
    },
    "r": {
     "delete_cmd_postfix": ") ",
     "delete_cmd_prefix": "rm(",
     "library": "var_list.r",
     "varRefreshCmd": "cat(var_dic_list()) "
    }
   },
   "types_to_exclude": [
    "module",
    "function",
    "builtin_function_or_method",
    "instance",
    "_Feature"
   ],
   "window_display": false
  }
 },
 "nbformat": 4,
 "nbformat_minor": 4
}
