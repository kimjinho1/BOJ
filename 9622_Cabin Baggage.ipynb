{
 "cells": [
  {
   "cell_type": "code",
   "execution_count": 6,
   "id": "lined-celebration",
   "metadata": {
    "ExecuteTime": {
     "end_time": "2021-02-21T17:40:03.823070Z",
     "start_time": "2021-02-21T17:39:51.215553Z"
    }
   },
   "outputs": [
    {
     "name": "stdout",
     "output_type": "stream",
     "text": [
      "4\n",
      "51.23 40.12 21.20 3.45\n",
      "1\n",
      "60.00 30.00 20.00 7.00\n",
      "1\n",
      "52.03 41.25 23.50 7.01\n",
      "0\n",
      "50.00 45.00 30.10 6.02\n",
      "0\n",
      "2\n"
     ]
    }
   ],
   "source": [
    "cnt = 0\n",
    "for _ in range(int(input())):\n",
    "    y, x, d, w = map(float, input().split())\n",
    "    if (y > 56 or x > 45 or d > 25) and y+x+d > 125 or w > 7:\n",
    "        print(0)\n",
    "        continue\n",
    "    print(1)\n",
    "    cnt += 1    \n",
    "print(cnt)"
   ]
  },
  {
   "cell_type": "code",
   "execution_count": null,
   "id": "martial-induction",
   "metadata": {},
   "outputs": [],
   "source": []
  }
 ],
 "metadata": {
  "kernelspec": {
   "display_name": "Python 3",
   "language": "python",
   "name": "python3"
  },
  "language_info": {
   "codemirror_mode": {
    "name": "ipython",
    "version": 3
   },
   "file_extension": ".py",
   "mimetype": "text/x-python",
   "name": "python",
   "nbconvert_exporter": "python",
   "pygments_lexer": "ipython3",
   "version": "3.7.9"
  },
  "toc": {
   "base_numbering": 1,
   "nav_menu": {},
   "number_sections": true,
   "sideBar": true,
   "skip_h1_title": false,
   "title_cell": "Table of Contents",
   "title_sidebar": "Contents",
   "toc_cell": false,
   "toc_position": {},
   "toc_section_display": true,
   "toc_window_display": false
  },
  "varInspector": {
   "cols": {
    "lenName": 16,
    "lenType": 16,
    "lenVar": 40
   },
   "kernels_config": {
    "python": {
     "delete_cmd_postfix": "",
     "delete_cmd_prefix": "del ",
     "library": "var_list.py",
     "varRefreshCmd": "print(var_dic_list())"
    },
    "r": {
     "delete_cmd_postfix": ") ",
     "delete_cmd_prefix": "rm(",
     "library": "var_list.r",
     "varRefreshCmd": "cat(var_dic_list()) "
    }
   },
   "types_to_exclude": [
    "module",
    "function",
    "builtin_function_or_method",
    "instance",
    "_Feature"
   ],
   "window_display": false
  }
 },
 "nbformat": 4,
 "nbformat_minor": 5
}
