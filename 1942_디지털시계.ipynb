{
 "cells": [
  {
   "cell_type": "code",
   "execution_count": 10,
   "id": "interracial-inspector",
   "metadata": {
    "ExecuteTime": {
     "end_time": "2021-02-10T06:13:18.700986Z",
     "start_time": "2021-02-10T06:13:08.523120Z"
    }
   },
   "outputs": [
    {
     "name": "stdout",
     "output_type": "stream",
     "text": [
      "00:59:58 01:01:24\n",
      "29\n",
      "22:47:03 01:03:24\n",
      "2727\n",
      "00:00:09 00:03:37\n",
      "70\n"
     ]
    }
   ],
   "source": [
    "for _ in range(3):\n",
    "    start, end = input().split()\n",
    "    h1, m1, s1 = map(int, start.split(':'))\n",
    "    h2, m2, s2 = map(int, end.split(':'))\n",
    "    h = h2-h1 if h2>=h1 else h2-h1+24\n",
    "    if m1 > m2:\n",
    "        m = m2-m1+60\n",
    "        h -= 1\n",
    "    else:\n",
    "        m = m2-m1\n",
    "\n",
    "    if s1 > s2:\n",
    "        s = s2-s1+60\n",
    "        m -= 1\n",
    "    else:\n",
    "        s = s2-s1\n",
    "\n",
    "    cnt = m*20 + h*20*60\n",
    "    if s1 > s2:\n",
    "        for n in range(s1, 60):\n",
    "            if n%3 == 0:\n",
    "                cnt += 1\n",
    "        for n in range(0, s2+1):\n",
    "            if n%3 == 0:\n",
    "                cnt += 1\n",
    "    else:\n",
    "        for n in range(s1, s2+1):\n",
    "            if n%3 == 0:\n",
    "                cnt += 1\n",
    "    if start > end:\n",
    "        cnt -= 1\n",
    "    print(cnt)"
   ]
  },
  {
   "cell_type": "code",
   "execution_count": 11,
   "id": "excellent-senegal",
   "metadata": {
    "ExecuteTime": {
     "end_time": "2021-02-10T06:18:51.001229Z",
     "start_time": "2021-02-10T06:18:38.829511Z"
    }
   },
   "outputs": [
    {
     "name": "stdout",
     "output_type": "stream",
     "text": [
      "00:00:00 00:00:3\n",
      "2\n",
      "1\n"
     ]
    },
    {
     "ename": "ValueError",
     "evalue": "not enough values to unpack (expected 2, got 1)",
     "output_type": "error",
     "traceback": [
      "\u001b[1;31m---------------------------------------------------------------------------\u001b[0m",
      "\u001b[1;31mValueError\u001b[0m                                Traceback (most recent call last)",
      "\u001b[1;32m<ipython-input-11-7443742e20ad>\u001b[0m in \u001b[0;36m<module>\u001b[1;34m\u001b[0m\n\u001b[0;32m      1\u001b[0m \u001b[1;32mfor\u001b[0m \u001b[0m_\u001b[0m \u001b[1;32min\u001b[0m \u001b[0mrange\u001b[0m\u001b[1;33m(\u001b[0m\u001b[1;36m3\u001b[0m\u001b[1;33m)\u001b[0m\u001b[1;33m:\u001b[0m\u001b[1;33m\u001b[0m\u001b[1;33m\u001b[0m\u001b[0m\n\u001b[1;32m----> 2\u001b[1;33m     \u001b[0mstart\u001b[0m\u001b[1;33m,\u001b[0m \u001b[0mend\u001b[0m \u001b[1;33m=\u001b[0m \u001b[0minput\u001b[0m\u001b[1;33m(\u001b[0m\u001b[1;33m)\u001b[0m\u001b[1;33m.\u001b[0m\u001b[0msplit\u001b[0m\u001b[1;33m(\u001b[0m\u001b[1;33m)\u001b[0m\u001b[1;33m\u001b[0m\u001b[1;33m\u001b[0m\u001b[0m\n\u001b[0m\u001b[0;32m      3\u001b[0m     \u001b[0mh1\u001b[0m\u001b[1;33m,\u001b[0m \u001b[0mm1\u001b[0m\u001b[1;33m,\u001b[0m \u001b[0ms1\u001b[0m \u001b[1;33m=\u001b[0m \u001b[0mmap\u001b[0m\u001b[1;33m(\u001b[0m\u001b[0mint\u001b[0m\u001b[1;33m,\u001b[0m \u001b[0mstart\u001b[0m\u001b[1;33m.\u001b[0m\u001b[0msplit\u001b[0m\u001b[1;33m(\u001b[0m\u001b[1;34m':'\u001b[0m\u001b[1;33m)\u001b[0m\u001b[1;33m)\u001b[0m\u001b[1;33m\u001b[0m\u001b[1;33m\u001b[0m\u001b[0m\n\u001b[0;32m      4\u001b[0m     \u001b[0mh2\u001b[0m\u001b[1;33m,\u001b[0m \u001b[0mm2\u001b[0m\u001b[1;33m,\u001b[0m \u001b[0ms2\u001b[0m \u001b[1;33m=\u001b[0m \u001b[0mmap\u001b[0m\u001b[1;33m(\u001b[0m\u001b[0mint\u001b[0m\u001b[1;33m,\u001b[0m \u001b[0mend\u001b[0m\u001b[1;33m.\u001b[0m\u001b[0msplit\u001b[0m\u001b[1;33m(\u001b[0m\u001b[1;34m':'\u001b[0m\u001b[1;33m)\u001b[0m\u001b[1;33m)\u001b[0m\u001b[1;33m\u001b[0m\u001b[1;33m\u001b[0m\u001b[0m\n\u001b[0;32m      5\u001b[0m     \u001b[0mh\u001b[0m \u001b[1;33m=\u001b[0m \u001b[0mh2\u001b[0m\u001b[1;33m-\u001b[0m\u001b[0mh1\u001b[0m \u001b[1;32mif\u001b[0m \u001b[0mh2\u001b[0m\u001b[1;33m>=\u001b[0m\u001b[0mh1\u001b[0m \u001b[1;32melse\u001b[0m \u001b[0mh2\u001b[0m\u001b[1;33m-\u001b[0m\u001b[0mh1\u001b[0m\u001b[1;33m+\u001b[0m\u001b[1;36m24\u001b[0m\u001b[1;33m\u001b[0m\u001b[1;33m\u001b[0m\u001b[0m\n",
      "\u001b[1;31mValueError\u001b[0m: not enough values to unpack (expected 2, got 1)"
     ]
    }
   ],
   "source": [
    "for _ in range(3):\n",
    "    start, end = input().split()\n",
    "    h1, m1, s1 = map(int, start.split(':'))\n",
    "    h2, m2, s2 = map(int, end.split(':'))\n",
    "    h = h2-h1 if h2>=h1 else h2-h1+24\n",
    "    if m1 > m2:\n",
    "        m = m2-m1+60\n",
    "        h -= 1\n",
    "    else:\n",
    "        m = m2-m1\n",
    "\n",
    "    if s1 > s2:\n",
    "        s = s2-s1+60\n",
    "        m -= 1\n",
    "    else:\n",
    "        s = s2-s1\n",
    "\n",
    "    cnt = m*20 + h*20*60\n",
    "    if s1 > s2:\n",
    "        for n in range(s1, 60):\n",
    "            if n%3 == 0:\n",
    "                cnt += 1\n",
    "        for n in range(0, s2+1):\n",
    "            if n%3 == 0:\n",
    "                cnt += 1\n",
    "    else:\n",
    "        for n in range(s1, s2+1):\n",
    "            if n%3 == 0:\n",
    "                cnt += 1\n",
    "    if start > end:\n",
    "        cnt -= 1\n",
    "    print(cnt)"
   ]
  },
  {
   "cell_type": "code",
   "execution_count": null,
   "id": "distinguished-expansion",
   "metadata": {},
   "outputs": [],
   "source": []
  }
 ],
 "metadata": {
  "kernelspec": {
   "display_name": "Python 3",
   "language": "python",
   "name": "python3"
  },
  "language_info": {
   "codemirror_mode": {
    "name": "ipython",
    "version": 3
   },
   "file_extension": ".py",
   "mimetype": "text/x-python",
   "name": "python",
   "nbconvert_exporter": "python",
   "pygments_lexer": "ipython3",
   "version": "3.7.9"
  },
  "toc": {
   "base_numbering": 1,
   "nav_menu": {},
   "number_sections": true,
   "sideBar": true,
   "skip_h1_title": false,
   "title_cell": "Table of Contents",
   "title_sidebar": "Contents",
   "toc_cell": false,
   "toc_position": {},
   "toc_section_display": true,
   "toc_window_display": false
  },
  "varInspector": {
   "cols": {
    "lenName": 16,
    "lenType": 16,
    "lenVar": 40
   },
   "kernels_config": {
    "python": {
     "delete_cmd_postfix": "",
     "delete_cmd_prefix": "del ",
     "library": "var_list.py",
     "varRefreshCmd": "print(var_dic_list())"
    },
    "r": {
     "delete_cmd_postfix": ") ",
     "delete_cmd_prefix": "rm(",
     "library": "var_list.r",
     "varRefreshCmd": "cat(var_dic_list()) "
    }
   },
   "types_to_exclude": [
    "module",
    "function",
    "builtin_function_or_method",
    "instance",
    "_Feature"
   ],
   "window_display": false
  }
 },
 "nbformat": 4,
 "nbformat_minor": 5
}
