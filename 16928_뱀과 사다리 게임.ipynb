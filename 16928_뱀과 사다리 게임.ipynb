{
 "cells": [
  {
   "cell_type": "code",
   "execution_count": 31,
   "metadata": {
    "ExecuteTime": {
     "end_time": "2021-03-13T09:16:51.724940Z",
     "start_time": "2021-03-13T09:16:32.793338Z"
    },
    "scrolled": true
   },
   "outputs": [
    {
     "name": "stdout",
     "output_type": "stream",
     "text": [
      "3 7\n",
      "32 62\n",
      "42 68\n",
      "12 98\n",
      "95 13\n",
      "97 25\n",
      "93 37\n",
      "79 27\n",
      "75 19\n",
      "49 47\n",
      "67 17\n",
      "3\n"
     ]
    }
   ],
   "source": [
    "from collections import deque\n",
    "\n",
    "def bfs(node):\n",
    "    q = deque()\n",
    "    q.append(node)\n",
    "    check[node] = 0\n",
    "    while q:\n",
    "        node = q.popleft()\n",
    "        for i in range(1, 7):\n",
    "            n = node+i\n",
    "            if n > 100:\n",
    "                continue\n",
    "            t = graph[n]\n",
    "            if check[t] == -1 or check[t] > graph[n]+1:\n",
    "                q.append(t)\n",
    "                check[t] = check[node]+1\n",
    "                \n",
    "N, M = map(int, input().split())\n",
    "graph = [i for i in range(101)]\n",
    "check = [-1]*101\n",
    "for _ in range(N):\n",
    "    u, v = map(int, input().split())\n",
    "    graph[u] = v\n",
    "for _ in range(M):\n",
    "    u, v = map(int, input().split())\n",
    "    graph[u] = v\n",
    "bfs(1)\n",
    "print(check[100])"
   ]
  },
  {
   "cell_type": "code",
   "execution_count": 32,
   "metadata": {
    "ExecuteTime": {
     "end_time": "2021-03-13T09:17:19.290157Z",
     "start_time": "2021-03-13T09:16:56.466529Z"
    }
   },
   "outputs": [
    {
     "name": "stdout",
     "output_type": "stream",
     "text": [
      "4 9\n",
      "8 52\n",
      "6 80\n",
      "26 42\n",
      "2 72\n",
      "51 19\n",
      "39 11\n",
      "37 29\n",
      "81 3\n",
      "59 5\n",
      "79 23\n",
      "53 7\n",
      "43 33\n",
      "77 21\n",
      "5\n"
     ]
    }
   ],
   "source": [
    "from collections import deque\n",
    "\n",
    "def bfs(node):\n",
    "    q = deque()\n",
    "    q.append(node)\n",
    "    check[node] = 0\n",
    "    while q:\n",
    "        node = q.popleft()\n",
    "        for i in range(1, 7):\n",
    "            n = node+i\n",
    "            if n > 100:\n",
    "                continue\n",
    "            t = graph[n]\n",
    "            if check[t] == -1 or check[t] > graph[n]+1:\n",
    "                q.append(t)\n",
    "                check[t] = check[node]+1\n",
    "                \n",
    "N, M = map(int, input().split())\n",
    "graph = [i for i in range(101)]\n",
    "check = [-1]*101\n",
    "for _ in range(N):\n",
    "    u, v = map(int, input().split())\n",
    "    graph[u] = v\n",
    "for _ in range(M):\n",
    "    u, v = map(int, input().split())\n",
    "    graph[u] = v\n",
    "bfs(1)\n",
    "print(check[100])"
   ]
  },
  {
   "cell_type": "code",
   "execution_count": null,
   "metadata": {},
   "outputs": [],
   "source": []
  }
 ],
 "metadata": {
  "kernelspec": {
   "display_name": "Python 3",
   "language": "python",
   "name": "python3"
  },
  "language_info": {
   "codemirror_mode": {
    "name": "ipython",
    "version": 3
   },
   "file_extension": ".py",
   "mimetype": "text/x-python",
   "name": "python",
   "nbconvert_exporter": "python",
   "pygments_lexer": "ipython3",
   "version": "3.8.5"
  },
  "toc": {
   "base_numbering": 1,
   "nav_menu": {},
   "number_sections": true,
   "sideBar": true,
   "skip_h1_title": false,
   "title_cell": "Table of Contents",
   "title_sidebar": "Contents",
   "toc_cell": false,
   "toc_position": {},
   "toc_section_display": true,
   "toc_window_display": false
  },
  "varInspector": {
   "cols": {
    "lenName": 16,
    "lenType": 16,
    "lenVar": 40
   },
   "kernels_config": {
    "python": {
     "delete_cmd_postfix": "",
     "delete_cmd_prefix": "del ",
     "library": "var_list.py",
     "varRefreshCmd": "print(var_dic_list())"
    },
    "r": {
     "delete_cmd_postfix": ") ",
     "delete_cmd_prefix": "rm(",
     "library": "var_list.r",
     "varRefreshCmd": "cat(var_dic_list()) "
    }
   },
   "types_to_exclude": [
    "module",
    "function",
    "builtin_function_or_method",
    "instance",
    "_Feature"
   ],
   "window_display": false
  }
 },
 "nbformat": 4,
 "nbformat_minor": 4
}
