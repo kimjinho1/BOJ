{
 "cells": [
  {
   "cell_type": "code",
   "execution_count": 3,
   "metadata": {
    "ExecuteTime": {
     "end_time": "2021-03-16T06:03:35.435448Z",
     "start_time": "2021-03-16T06:03:30.367426Z"
    }
   },
   "outputs": [
    {
     "name": "stdout",
     "output_type": "stream",
     "text": [
      "4 5\n",
      "11011\n",
      "11000\n",
      "00001\n",
      "10011\n",
      "44022\n",
      "44000\n",
      "00003\n",
      "10033\n"
     ]
    }
   ],
   "source": [
    "import sys\n",
    "from copy import deepcopy\n",
    "sys.setrecursionlimit(30000000)\n",
    "\n",
    "def dfs_check(y, x, cnt):\n",
    "    a[y][x] = '0'\n",
    "    for dy, dx in d:\n",
    "        Y, X = y+dy, x+dx\n",
    "        if (0 <= Y < R) and (0 <= X < S) and a[Y][X] == '1':\n",
    "            cnt = dfs_check(Y, X, cnt+1)\n",
    "    return cnt\n",
    "\n",
    "def dfs(y, x, n):\n",
    "    graph[y][x] = n\n",
    "    for dy, dx in d:\n",
    "        Y, X = y+dy, x+dx\n",
    "        if (0 <= Y < R) and (0 <= X < S) and graph[Y][X] == '1':\n",
    "            dfs(Y, X, n)\n",
    "\n",
    "R, S = map(int, input().split())\n",
    "graph = [list(input()) for _ in range(R)]\n",
    "d = [(-1, 0), (1, 0), (0, -1), (0, 1)]\n",
    "li = []\n",
    "a = deepcopy(graph)\n",
    "for i in range(R):\n",
    "    for j in range(S):\n",
    "        if a[i][j] == '1':\n",
    "            li.append((i, j, dfs_check(i, j, 1)))\n",
    "li.sort(key=lambda x:x[2])\n",
    "for i in range(len(li)):\n",
    "    dfs(li[i][0], li[i][1], i+1)\n",
    "for line in graph:\n",
    "    print(''.join(map(str, line)))"
   ]
  },
  {
   "cell_type": "code",
   "execution_count": 4,
   "metadata": {
    "ExecuteTime": {
     "end_time": "2021-03-16T06:04:25.412912Z",
     "start_time": "2021-03-16T06:04:13.465962Z"
    }
   },
   "outputs": [
    {
     "name": "stdout",
     "output_type": "stream",
     "text": [
      "5 8\n",
      "11111101\n",
      "11001100\n",
      "10110111\n",
      "10000111\n",
      "11111111\n",
      "33333301\n",
      "33003300\n",
      "30220333\n",
      "30000333\n",
      "33333333\n"
     ]
    }
   ],
   "source": [
    "from collections import deque\n",
    "from copy import deepcopy\n",
    "\n",
    "def bfs_check(i, j):\n",
    "    q = deque()\n",
    "    q.append((i, j))\n",
    "    a[i][j] = '0'\n",
    "    cnt = 0\n",
    "    while q:\n",
    "        y, x = q.popleft()\n",
    "        cnt += 1\n",
    "        for dy, dx in d:\n",
    "            Y, X = y+dy, x+dx\n",
    "            if (0 <= Y < R) and (0 <= X < S) and a[Y][X] == '1':\n",
    "                a[Y][X] = '0'\n",
    "                q.append((Y, X))\n",
    "    return i, j, cnt\n",
    "\n",
    "def bfs(y, x, n):\n",
    "    q = deque()\n",
    "    q.append((y, x))\n",
    "    graph[y][x] = n\n",
    "    while q:\n",
    "        y, x = q.popleft()\n",
    "        for dy, dx in d:\n",
    "            Y, X = y+dy, x+dx\n",
    "            if (0 <= Y < R) and (0 <= X < S) and graph[Y][X] == '1':\n",
    "                graph[Y][X] = n\n",
    "                q.append((Y, X))\n",
    "\n",
    "R, S = map(int, input().split())\n",
    "graph = [list(input()) for _ in range(R)]\n",
    "d = [(-1, 0), (1, 0), (0, -1), (0, 1)]\n",
    "li = []\n",
    "a = deepcopy(graph)\n",
    "for i in range(R):\n",
    "    for j in range(S):\n",
    "        if a[i][j] == '1':\n",
    "            li.append(bfs_check(i, j))\n",
    "li.sort(key=lambda x:x[2])\n",
    "for i in range(len(li)):\n",
    "    bfs(li[i][0], li[i][1], i+1)\n",
    "for line in graph:\n",
    "    print(''.join(map(str, line)))"
   ]
  },
  {
   "cell_type": "code",
   "execution_count": null,
   "metadata": {},
   "outputs": [],
   "source": []
  }
 ],
 "metadata": {
  "kernelspec": {
   "display_name": "Python 3",
   "language": "python",
   "name": "python3"
  },
  "language_info": {
   "codemirror_mode": {
    "name": "ipython",
    "version": 3
   },
   "file_extension": ".py",
   "mimetype": "text/x-python",
   "name": "python",
   "nbconvert_exporter": "python",
   "pygments_lexer": "ipython3",
   "version": "3.8.5"
  },
  "toc": {
   "base_numbering": 1,
   "nav_menu": {},
   "number_sections": true,
   "sideBar": true,
   "skip_h1_title": false,
   "title_cell": "Table of Contents",
   "title_sidebar": "Contents",
   "toc_cell": false,
   "toc_position": {},
   "toc_section_display": true,
   "toc_window_display": false
  },
  "varInspector": {
   "cols": {
    "lenName": 16,
    "lenType": 16,
    "lenVar": 40
   },
   "kernels_config": {
    "python": {
     "delete_cmd_postfix": "",
     "delete_cmd_prefix": "del ",
     "library": "var_list.py",
     "varRefreshCmd": "print(var_dic_list())"
    },
    "r": {
     "delete_cmd_postfix": ") ",
     "delete_cmd_prefix": "rm(",
     "library": "var_list.r",
     "varRefreshCmd": "cat(var_dic_list()) "
    }
   },
   "types_to_exclude": [
    "module",
    "function",
    "builtin_function_or_method",
    "instance",
    "_Feature"
   ],
   "window_display": false
  }
 },
 "nbformat": 4,
 "nbformat_minor": 4
}
