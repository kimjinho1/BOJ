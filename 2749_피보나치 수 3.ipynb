{
 "cells": [
  {
   "cell_type": "markdown",
   "metadata": {},
   "source": [
    "### 피보나치 수를 나눈 수는 항상 주기를 가진다.\n",
    "### 피보나치 수를 나눌 수를 k라고 할 때, k = 10^n 이면\n",
    "### 피사노 주기는 15* 10^(n-1)이다"
   ]
  },
  {
   "cell_type": "code",
   "execution_count": 3,
   "metadata": {},
   "outputs": [
    {
     "name": "stdout",
     "output_type": "stream",
     "text": [
      "1000\n",
      "228875\n"
     ]
    }
   ],
   "source": [
    "n = int(input())\n",
    "a, b = 0, 1\n",
    "n = n % (15*100000)\n",
    "for i in range(n):\n",
    "    a, b = b%1000000, (a+b)%1000000\n",
    "print(a)"
   ]
  },
  {
   "cell_type": "code",
   "execution_count": null,
   "metadata": {},
   "outputs": [],
   "source": []
  }
 ],
 "metadata": {
  "kernelspec": {
   "display_name": "Python 3",
   "language": "python",
   "name": "python3"
  },
  "language_info": {
   "codemirror_mode": {
    "name": "ipython",
    "version": 3
   },
   "file_extension": ".py",
   "mimetype": "text/x-python",
   "name": "python",
   "nbconvert_exporter": "python",
   "pygments_lexer": "ipython3",
   "version": "3.6.8"
  }
 },
 "nbformat": 4,
 "nbformat_minor": 2
}
