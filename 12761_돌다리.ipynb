{
 "cells": [
  {
   "cell_type": "code",
   "execution_count": 15,
   "metadata": {
    "ExecuteTime": {
     "end_time": "2021-03-13T14:33:55.419867Z",
     "start_time": "2021-03-13T14:33:54.238942Z"
    }
   },
   "outputs": [
    {
     "name": "stdout",
     "output_type": "stream",
     "text": [
      "2 3 1 20\n",
      "4\n"
     ]
    }
   ],
   "source": [
    "from collections import deque\n",
    "\n",
    "def bfs(node):\n",
    "    q = deque()\n",
    "    q.append(node)\n",
    "    graph[node] = 0\n",
    "    while q:\n",
    "        node = q.popleft()\n",
    "        for n in [node-1, node+1, node+A, node-A, node+B, node-B, node*A, node*B]:\n",
    "            if (0 <= n <= 100000) and graph[n] == -1:\n",
    "                q.append(n)\n",
    "                graph[n] = graph[node]+1\n",
    "                if n == M:\n",
    "                    return ;\n",
    "\n",
    "A, B, N, M = map(int, input().split())\n",
    "graph = [-1]*100001 \n",
    "bfs(N)\n",
    "print(graph[M])"
   ]
  },
  {
   "cell_type": "code",
   "execution_count": 14,
   "metadata": {
    "ExecuteTime": {
     "end_time": "2021-03-13T14:33:50.623189Z",
     "start_time": "2021-03-13T14:33:47.306821Z"
    }
   },
   "outputs": [
    {
     "name": "stdout",
     "output_type": "stream",
     "text": [
      "3 7 2 98500\n",
      "10\n"
     ]
    }
   ],
   "source": [
    "from collections import deque\n",
    "\n",
    "def bfs(node):\n",
    "    q = deque()\n",
    "    q.append(node)\n",
    "    graph[node] = 0\n",
    "    while q:\n",
    "        node = q.popleft()\n",
    "        for n in [node-1, node+1, node+A, node-A, node+B, node-B, node*A, node*B]:\n",
    "            if (0 <= n <= 100000) and graph[n] == -1:\n",
    "                q.append(n)\n",
    "                graph[n] = graph[node]+1\n",
    "                if n == M:\n",
    "                    return ;\n",
    "\n",
    "A, B, N, M = map(int, input().split())\n",
    "graph = [-1]*100001 \n",
    "bfs(N)\n",
    "print(graph[M])"
   ]
  },
  {
   "cell_type": "code",
   "execution_count": null,
   "metadata": {},
   "outputs": [],
   "source": []
  }
 ],
 "metadata": {
  "kernelspec": {
   "display_name": "Python 3",
   "language": "python",
   "name": "python3"
  },
  "language_info": {
   "codemirror_mode": {
    "name": "ipython",
    "version": 3
   },
   "file_extension": ".py",
   "mimetype": "text/x-python",
   "name": "python",
   "nbconvert_exporter": "python",
   "pygments_lexer": "ipython3",
   "version": "3.8.5"
  },
  "toc": {
   "base_numbering": 1,
   "nav_menu": {},
   "number_sections": true,
   "sideBar": true,
   "skip_h1_title": false,
   "title_cell": "Table of Contents",
   "title_sidebar": "Contents",
   "toc_cell": false,
   "toc_position": {},
   "toc_section_display": true,
   "toc_window_display": false
  },
  "varInspector": {
   "cols": {
    "lenName": 16,
    "lenType": 16,
    "lenVar": 40
   },
   "kernels_config": {
    "python": {
     "delete_cmd_postfix": "",
     "delete_cmd_prefix": "del ",
     "library": "var_list.py",
     "varRefreshCmd": "print(var_dic_list())"
    },
    "r": {
     "delete_cmd_postfix": ") ",
     "delete_cmd_prefix": "rm(",
     "library": "var_list.r",
     "varRefreshCmd": "cat(var_dic_list()) "
    }
   },
   "types_to_exclude": [
    "module",
    "function",
    "builtin_function_or_method",
    "instance",
    "_Feature"
   ],
   "window_display": false
  }
 },
 "nbformat": 4,
 "nbformat_minor": 4
}
