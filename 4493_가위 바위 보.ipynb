{
 "cells": [
  {
   "cell_type": "code",
   "execution_count": 5,
   "id": "amber-polyester",
   "metadata": {
    "ExecuteTime": {
     "end_time": "2021-02-13T09:24:18.714123Z",
     "start_time": "2021-02-13T09:24:05.614127Z"
    }
   },
   "outputs": [
    {
     "name": "stdout",
     "output_type": "stream",
     "text": [
      "3\n",
      "2\n",
      "R P\n",
      "S R\n",
      "Player 2\n",
      "3\n",
      "P P\n",
      "R S\n",
      "S R\n",
      "TIE\n",
      "1\n",
      "P R\n",
      "Player 1\n"
     ]
    }
   ],
   "source": [
    "for _ in range(int(input())):\n",
    "    n = int(input())\n",
    "    p1 = p2 = 0\n",
    "    for i in range(n):\n",
    "        a, b = input().split()\n",
    "        if a == b:\n",
    "            continue\n",
    "        elif (a == 'R' and b == 'S') or (a == 'P' and b == 'R') or (a == 'S' and b == 'P'):\n",
    "            p1 += 1\n",
    "        else:\n",
    "            p2 += 1\n",
    "    if p1 > p2:\n",
    "        print(\"Player 1\")\n",
    "    elif p1 < p2:\n",
    "        print(\"Player 2\")\n",
    "    else:\n",
    "        print(\"TIE\")"
   ]
  },
  {
   "cell_type": "code",
   "execution_count": null,
   "id": "ongoing-exposure",
   "metadata": {},
   "outputs": [],
   "source": []
  }
 ],
 "metadata": {
  "kernelspec": {
   "display_name": "Python 3",
   "language": "python",
   "name": "python3"
  },
  "language_info": {
   "codemirror_mode": {
    "name": "ipython",
    "version": 3
   },
   "file_extension": ".py",
   "mimetype": "text/x-python",
   "name": "python",
   "nbconvert_exporter": "python",
   "pygments_lexer": "ipython3",
   "version": "3.7.9"
  },
  "toc": {
   "base_numbering": 1,
   "nav_menu": {},
   "number_sections": true,
   "sideBar": true,
   "skip_h1_title": false,
   "title_cell": "Table of Contents",
   "title_sidebar": "Contents",
   "toc_cell": false,
   "toc_position": {},
   "toc_section_display": true,
   "toc_window_display": false
  },
  "varInspector": {
   "cols": {
    "lenName": 16,
    "lenType": 16,
    "lenVar": 40
   },
   "kernels_config": {
    "python": {
     "delete_cmd_postfix": "",
     "delete_cmd_prefix": "del ",
     "library": "var_list.py",
     "varRefreshCmd": "print(var_dic_list())"
    },
    "r": {
     "delete_cmd_postfix": ") ",
     "delete_cmd_prefix": "rm(",
     "library": "var_list.r",
     "varRefreshCmd": "cat(var_dic_list()) "
    }
   },
   "types_to_exclude": [
    "module",
    "function",
    "builtin_function_or_method",
    "instance",
    "_Feature"
   ],
   "window_display": false
  }
 },
 "nbformat": 4,
 "nbformat_minor": 5
}
