{
 "cells": [
  {
   "cell_type": "code",
   "execution_count": 4,
   "metadata": {},
   "outputs": [
    {
     "name": "stdout",
     "output_type": "stream",
     "text": [
      "30 20\n",
      "10 10 \n",
      "10 20\n",
      "30 10 "
     ]
    }
   ],
   "source": [
    "# xor 을 사용해서 풀었다. 그런데 처음보는 사람은 이해가 안될수도 있다.\n",
    "v = []\n",
    "for _ in range(3):\n",
    "    v.append(list(input().split()))\n",
    "ans = [0,0]  \n",
    "for i in range(3):  \n",
    "    ans[0] ^= int(v[i][0])  \n",
    "    ans[1] ^= int(v[i][1])\n",
    "for n in ans:\n",
    "    print(n, end = ' ')"
   ]
  },
  {
   "cell_type": "code",
   "execution_count": 5,
   "metadata": {},
   "outputs": [
    {
     "name": "stdout",
     "output_type": "stream",
     "text": [
      "30 20\n",
      "10 10\n",
      "10 20\n",
      "30 10\n"
     ]
    }
   ],
   "source": [
    "# 비교적 보기? 좋지는 않지만 이해가 갈만한 코드다.\n",
    "li1 = []\n",
    "li2 = []\n",
    "for _ in range(3):\n",
    "    n1, n2 = input().split()\n",
    "    li1.append(n1)\n",
    "    li2.append(n2)\n",
    "for i in range(3):\n",
    "    if li1.count(li1[i]) == 1:\n",
    "        n1 = li1[i]\n",
    "    if li2.count(li2[i]) == 1:\n",
    "        n2 = li2[i]\n",
    "print(n1, n2)"
   ]
  },
  {
   "cell_type": "code",
   "execution_count": null,
   "metadata": {},
   "outputs": [],
   "source": []
  }
 ],
 "metadata": {
  "kernelspec": {
   "display_name": "Python 3",
   "language": "python",
   "name": "python3"
  },
  "language_info": {
   "codemirror_mode": {
    "name": "ipython",
    "version": 3
   },
   "file_extension": ".py",
   "mimetype": "text/x-python",
   "name": "python",
   "nbconvert_exporter": "python",
   "pygments_lexer": "ipython3",
   "version": "3.6.8"
  }
 },
 "nbformat": 4,
 "nbformat_minor": 2
}
