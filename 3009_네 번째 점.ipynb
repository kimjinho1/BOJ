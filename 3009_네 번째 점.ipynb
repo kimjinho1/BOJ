{
 "cells": [
  {
   "cell_type": "code",
   "execution_count": 4,
   "metadata": {},
   "outputs": [
    {
     "name": "stdout",
     "output_type": "stream",
     "text": [
      "30 20\n",
      "10 10 \n",
      "10 20\n",
      "30 10 "
     ]
    }
   ],
   "source": [
    "# xor 을 사용해서 풀었다. 그런데 처음보는 사람은 이해가 안될수도 있다.\n",
    "v = []\n",
    "for _ in range(3):\n",
    "    v.append(list(input().split()))\n",
    "ans = [0,0]  \n",
    "for i in range(3):  \n",
    "    ans[0] ^= int(v[i][0])  \n",
    "    ans[1] ^= int(v[i][1])\n",
    "for n in ans:\n",
    "    print(n, end = ' ')"
   ]
  },
  {
   "cell_type": "code",
   "execution_count": 1,
   "metadata": {},
   "outputs": [
    {
     "name": "stdout",
     "output_type": "stream",
     "text": [
      "30 20\n",
      "10 10\n",
      "10 20\n",
      "30 10\n"
     ]
    }
   ],
   "source": [
    "X = []\n",
    "Y = []\n",
    "for _ in range(3):\n",
    "    x, y = input().split()\n",
    "    X.append(x)\n",
    "    Y.append(y)\n",
    "for i in range(3):\n",
    "    if X.count(X[i]) == 1:\n",
    "        x = X[i]\n",
    "    if Y.count(Y[i]) == 1:\n",
    "        y = Y[i]\n",
    "print(x, y)"
   ]
  }
 ],
 "metadata": {
  "kernelspec": {
   "display_name": "Python 3",
   "language": "python",
   "name": "python3"
  },
  "language_info": {
   "codemirror_mode": {
    "name": "ipython",
    "version": 3
   },
   "file_extension": ".py",
   "mimetype": "text/x-python",
   "name": "python",
   "nbconvert_exporter": "python",
   "pygments_lexer": "ipython3",
   "version": "3.6.8"
  }
 },
 "nbformat": 4,
 "nbformat_minor": 2
}
