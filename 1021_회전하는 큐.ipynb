{
 "cells": [
  {
   "cell_type": "code",
   "execution_count": 28,
   "metadata": {
    "ExecuteTime": {
     "end_time": "2021-03-05T17:02:47.232354Z",
     "start_time": "2021-03-05T17:02:45.728317Z"
    }
   },
   "outputs": [
    {
     "name": "stdout",
     "output_type": "stream",
     "text": [
      "10 3\n",
      "1 2 3\n",
      "0\n"
     ]
    }
   ],
   "source": [
    "from collections import deque\n",
    "\n",
    "N, M = map(int, input().split())\n",
    "li = list(map(int, input().split()))\n",
    "queue = deque(range(1, N+1))\n",
    "cnt = 0\n",
    "for n in li:\n",
    "    while queue[0] != n:\n",
    "        t = queue.index(n)\n",
    "        if t <= len(queue)-t-1:\n",
    "            queue.append(queue.popleft())\n",
    "        else:\n",
    "            queue.appendleft(queue.pop())\n",
    "        cnt += 1\n",
    "    queue.popleft()\n",
    "print(cnt)"
   ]
  },
  {
   "cell_type": "code",
   "execution_count": 29,
   "metadata": {
    "ExecuteTime": {
     "end_time": "2021-03-05T17:02:54.322798Z",
     "start_time": "2021-03-05T17:02:51.928592Z"
    }
   },
   "outputs": [
    {
     "name": "stdout",
     "output_type": "stream",
     "text": [
      "10 3\n",
      "2 9 5\n",
      "8\n"
     ]
    }
   ],
   "source": [
    "from collections import deque\n",
    "\n",
    "N, M = map(int, input().split())\n",
    "li = list(map(int, input().split()))\n",
    "queue = deque(range(1, N+1))\n",
    "cnt = 0\n",
    "for n in li:\n",
    "    while queue[0] != n:\n",
    "        t = queue.index(n)\n",
    "        if t <= len(queue)-t-1:\n",
    "            queue.append(queue.popleft())\n",
    "        else:\n",
    "            queue.appendleft(queue.pop())\n",
    "        cnt += 1\n",
    "    queue.popleft()\n",
    "print(cnt)"
   ]
  },
  {
   "cell_type": "code",
   "execution_count": 26,
   "metadata": {
    "ExecuteTime": {
     "end_time": "2021-03-05T17:02:34.952092Z",
     "start_time": "2021-03-05T17:02:33.558589Z"
    }
   },
   "outputs": [
    {
     "name": "stdout",
     "output_type": "stream",
     "text": [
      "32 6\n",
      "27 16 30 11 6 23\n",
      "59\n"
     ]
    }
   ],
   "source": [
    "from collections import deque\n",
    "\n",
    "N, M = map(int, input().split())\n",
    "li = list(map(int, input().split()))\n",
    "queue = deque(range(1, N+1))\n",
    "cnt = 0\n",
    "for n in li:\n",
    "    while queue[0] != n:\n",
    "        t = queue.index(n)\n",
    "        if t <= len(queue)-t-1:\n",
    "            queue.append(queue.popleft())\n",
    "        else:\n",
    "            queue.appendleft(queue.pop())\n",
    "        cnt += 1\n",
    "    queue.popleft()\n",
    "print(cnt)"
   ]
  },
  {
   "cell_type": "code",
   "execution_count": 27,
   "metadata": {
    "ExecuteTime": {
     "end_time": "2021-03-05T17:02:40.990399Z",
     "start_time": "2021-03-05T17:02:39.490370Z"
    }
   },
   "outputs": [
    {
     "name": "stdout",
     "output_type": "stream",
     "text": [
      "10 10\n",
      "1 6 3 2 7 9 8 4 10 5\n",
      "14\n"
     ]
    }
   ],
   "source": [
    "from collections import deque\n",
    "\n",
    "N, M = map(int, input().split())\n",
    "li = list(map(int, input().split()))\n",
    "queue = deque(range(1, N+1))\n",
    "cnt = 0\n",
    "for n in li:\n",
    "    while queue[0] != n:\n",
    "        t = queue.index(n)\n",
    "        if t <= len(queue)-t-1:\n",
    "            queue.append(queue.popleft())\n",
    "        else:\n",
    "            queue.appendleft(queue.pop())\n",
    "        cnt += 1\n",
    "    queue.popleft()\n",
    "print(cnt)"
   ]
  },
  {
   "cell_type": "code",
   "execution_count": null,
   "metadata": {},
   "outputs": [],
   "source": []
  }
 ],
 "metadata": {
  "kernelspec": {
   "display_name": "Python 3",
   "language": "python",
   "name": "python3"
  },
  "language_info": {
   "codemirror_mode": {
    "name": "ipython",
    "version": 3
   },
   "file_extension": ".py",
   "mimetype": "text/x-python",
   "name": "python",
   "nbconvert_exporter": "python",
   "pygments_lexer": "ipython3",
   "version": "3.8.5"
  },
  "toc": {
   "base_numbering": 1,
   "nav_menu": {},
   "number_sections": true,
   "sideBar": true,
   "skip_h1_title": false,
   "title_cell": "Table of Contents",
   "title_sidebar": "Contents",
   "toc_cell": false,
   "toc_position": {},
   "toc_section_display": true,
   "toc_window_display": false
  },
  "varInspector": {
   "cols": {
    "lenName": 16,
    "lenType": 16,
    "lenVar": 40
   },
   "kernels_config": {
    "python": {
     "delete_cmd_postfix": "",
     "delete_cmd_prefix": "del ",
     "library": "var_list.py",
     "varRefreshCmd": "print(var_dic_list())"
    },
    "r": {
     "delete_cmd_postfix": ") ",
     "delete_cmd_prefix": "rm(",
     "library": "var_list.r",
     "varRefreshCmd": "cat(var_dic_list()) "
    }
   },
   "types_to_exclude": [
    "module",
    "function",
    "builtin_function_or_method",
    "instance",
    "_Feature"
   ],
   "window_display": false
  }
 },
 "nbformat": 4,
 "nbformat_minor": 4
}
