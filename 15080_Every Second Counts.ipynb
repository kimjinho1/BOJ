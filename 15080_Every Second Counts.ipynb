{
 "cells": [
  {
   "cell_type": "code",
   "execution_count": 11,
   "metadata": {
    "ExecuteTime": {
     "end_time": "2021-02-06T03:40:38.577016Z",
     "start_time": "2021-02-06T03:40:32.868046Z"
    }
   },
   "outputs": [
    {
     "name": "stdout",
     "output_type": "stream",
     "text": [
      "10 : 0 : 0\n",
      "11 : 0 : 0\n",
      "3600\n"
     ]
    }
   ],
   "source": [
    "h1, m1, s1 = map(int, input().split(':'))\n",
    "h2, m2, s2 = map(int, input().split(':'))\n",
    "t1 = h1*3600 + m1*60 + s1\n",
    "t2 = h2*3600 + m2*60 + s2\n",
    "if t1 > t2:\n",
    "    print(t2-t1+3600*24)\n",
    "else:\n",
    "    print(t2-t1)"
   ]
  },
  {
   "cell_type": "code",
   "execution_count": 10,
   "metadata": {
    "ExecuteTime": {
     "end_time": "2021-02-06T03:40:25.347469Z",
     "start_time": "2021-02-06T03:40:22.087100Z"
    }
   },
   "outputs": [
    {
     "name": "stdout",
     "output_type": "stream",
     "text": [
      "13 : 30 : 52\n",
      "13 : 31 : 7\n",
      "15\n"
     ]
    }
   ],
   "source": [
    "h1, m1, s1 = map(int, input().split(':'))\n",
    "h2, m2, s2 = map(int, input().split(':'))\n",
    "t1 = h1*3600 + m1*60 + s1\n",
    "t2 = h2*3600 + m2*60 + s2\n",
    "if t1 > t2:\n",
    "    print(t2-t1+3600*24)\n",
    "else:\n",
    "    print(t2-t1)"
   ]
  },
  {
   "cell_type": "code",
   "execution_count": 12,
   "metadata": {
    "ExecuteTime": {
     "end_time": "2021-02-06T03:40:50.160288Z",
     "start_time": "2021-02-06T03:40:43.972007Z"
    }
   },
   "outputs": [
    {
     "name": "stdout",
     "output_type": "stream",
     "text": [
      "23 : 0 : 0\n",
      "1 : 30 : 0\n",
      "9000\n"
     ]
    }
   ],
   "source": [
    "h1, m1, s1 = map(int, input().split(':'))\n",
    "h2, m2, s2 = map(int, input().split(':'))\n",
    "t1 = h1*3600 + m1*60 + s1\n",
    "t2 = h2*3600 + m2*60 + s2\n",
    "if t1 > t2:\n",
    "    print(t2-t1+3600*24)\n",
    "else:\n",
    "    print(t2-t1)"
   ]
  },
  {
   "cell_type": "code",
   "execution_count": 14,
   "metadata": {
    "ExecuteTime": {
     "end_time": "2021-02-06T03:41:46.532243Z",
     "start_time": "2021-02-06T03:41:41.971242Z"
    }
   },
   "outputs": [
    {
     "name": "stdout",
     "output_type": "stream",
     "text": [
      "23 : 0 : 0\n",
      "1 : 30 : 0\n",
      "9000\n"
     ]
    }
   ],
   "source": [
    "h1, m1, s1 = map(int, input().split(':'))\n",
    "h2, m2, s2 = map(int, input().split(':'))\n",
    "t1 = h1*3600 + m1*60 + s1\n",
    "t2 = h2*3600 + m2*60 + s2\n",
    "print(t2-t1+3600*24 if t1 > t2 else t2-t1)"
   ]
  },
  {
   "cell_type": "code",
   "execution_count": null,
   "metadata": {},
   "outputs": [],
   "source": []
  }
 ],
 "metadata": {
  "kernelspec": {
   "display_name": "Python 3",
   "language": "python",
   "name": "python3"
  },
  "language_info": {
   "codemirror_mode": {
    "name": "ipython",
    "version": 3
   },
   "file_extension": ".py",
   "mimetype": "text/x-python",
   "name": "python",
   "nbconvert_exporter": "python",
   "pygments_lexer": "ipython3",
   "version": "3.6.10"
  },
  "toc": {
   "base_numbering": 1,
   "nav_menu": {},
   "number_sections": true,
   "sideBar": true,
   "skip_h1_title": false,
   "title_cell": "Table of Contents",
   "title_sidebar": "Contents",
   "toc_cell": false,
   "toc_position": {},
   "toc_section_display": true,
   "toc_window_display": false
  },
  "varInspector": {
   "cols": {
    "lenName": 16,
    "lenType": 16,
    "lenVar": 40
   },
   "kernels_config": {
    "python": {
     "delete_cmd_postfix": "",
     "delete_cmd_prefix": "del ",
     "library": "var_list.py",
     "varRefreshCmd": "print(var_dic_list())"
    },
    "r": {
     "delete_cmd_postfix": ") ",
     "delete_cmd_prefix": "rm(",
     "library": "var_list.r",
     "varRefreshCmd": "cat(var_dic_list()) "
    }
   },
   "types_to_exclude": [
    "module",
    "function",
    "builtin_function_or_method",
    "instance",
    "_Feature"
   ],
   "window_display": false
  }
 },
 "nbformat": 4,
 "nbformat_minor": 4
}
