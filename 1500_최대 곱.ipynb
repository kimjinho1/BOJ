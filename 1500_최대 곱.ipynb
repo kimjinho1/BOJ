{
 "cells": [
  {
   "cell_type": "code",
   "execution_count": 7,
   "id": "looking-compound",
   "metadata": {
    "ExecuteTime": {
     "end_time": "2021-02-20T16:22:03.270877Z",
     "start_time": "2021-02-20T16:22:02.601671Z"
    }
   },
   "outputs": [
    {
     "name": "stdout",
     "output_type": "stream",
     "text": [
      "10 3\n",
      "36\n"
     ]
    }
   ],
   "source": [
    "s, k = map(int, input().split())\n",
    "print((s//k)**(k-s%k) * (s//k+1)**(s%k))"
   ]
  },
  {
   "cell_type": "code",
   "execution_count": 4,
   "id": "creative-coalition",
   "metadata": {
    "ExecuteTime": {
     "end_time": "2021-02-20T16:08:33.216210Z",
     "start_time": "2021-02-20T16:08:32.559963Z"
    }
   },
   "outputs": [
    {
     "name": "stdout",
     "output_type": "stream",
     "text": [
      "10 3\n",
      "36\n"
     ]
    }
   ],
   "source": [
    "s, k = map(int, input().split())\n",
    "li = [s//k for _ in range(k)]\n",
    "for i in range(s%k):\n",
    "    li[i] += 1\n",
    "res = 1\n",
    "for n in li:\n",
    "    res *= n\n",
    "print(res)"
   ]
  },
  {
   "cell_type": "code",
   "execution_count": null,
   "id": "persistent-copyright",
   "metadata": {},
   "outputs": [],
   "source": []
  }
 ],
 "metadata": {
  "kernelspec": {
   "display_name": "Python 3",
   "language": "python",
   "name": "python3"
  },
  "language_info": {
   "codemirror_mode": {
    "name": "ipython",
    "version": 3
   },
   "file_extension": ".py",
   "mimetype": "text/x-python",
   "name": "python",
   "nbconvert_exporter": "python",
   "pygments_lexer": "ipython3",
   "version": "3.7.9"
  },
  "toc": {
   "base_numbering": 1,
   "nav_menu": {},
   "number_sections": true,
   "sideBar": true,
   "skip_h1_title": false,
   "title_cell": "Table of Contents",
   "title_sidebar": "Contents",
   "toc_cell": false,
   "toc_position": {},
   "toc_section_display": true,
   "toc_window_display": false
  },
  "varInspector": {
   "cols": {
    "lenName": 16,
    "lenType": 16,
    "lenVar": 40
   },
   "kernels_config": {
    "python": {
     "delete_cmd_postfix": "",
     "delete_cmd_prefix": "del ",
     "library": "var_list.py",
     "varRefreshCmd": "print(var_dic_list())"
    },
    "r": {
     "delete_cmd_postfix": ") ",
     "delete_cmd_prefix": "rm(",
     "library": "var_list.r",
     "varRefreshCmd": "cat(var_dic_list()) "
    }
   },
   "types_to_exclude": [
    "module",
    "function",
    "builtin_function_or_method",
    "instance",
    "_Feature"
   ],
   "window_display": false
  }
 },
 "nbformat": 4,
 "nbformat_minor": 5
}
