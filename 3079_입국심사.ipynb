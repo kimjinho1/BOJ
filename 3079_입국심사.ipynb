{
 "cells": [
  {
   "cell_type": "code",
   "execution_count": 11,
   "metadata": {
    "ExecuteTime": {
     "end_time": "2021-02-25T10:13:37.374282Z",
     "start_time": "2021-02-25T10:13:35.819676Z"
    }
   },
   "outputs": [
    {
     "name": "stdout",
     "output_type": "stream",
     "text": [
      "2 6\n",
      "7\n",
      "10\n",
      "28\n"
     ]
    }
   ],
   "source": [
    "N, M = map(int, input().split())\n",
    "li = [int(input()) for _ in range(N)]\n",
    "s, e = 0, max(li)*M\n",
    "res = 0\n",
    "while s <= e:\n",
    "    m = (s+e)//2\n",
    "    t = sum([m//n for n in li])\n",
    "    if t >= M:\n",
    "        res = m\n",
    "        e = m-1\n",
    "    else:\n",
    "        s = m+1\n",
    "print(res)"
   ]
  },
  {
   "cell_type": "code",
   "execution_count": 12,
   "metadata": {
    "ExecuteTime": {
     "end_time": "2021-02-25T10:13:47.110128Z",
     "start_time": "2021-02-25T10:13:39.941471Z"
    }
   },
   "outputs": [
    {
     "name": "stdout",
     "output_type": "stream",
     "text": [
      "7 10\n",
      "3\n",
      "8\n",
      "3\n",
      "6\n",
      "9\n",
      "2\n",
      "4\n",
      "8\n"
     ]
    }
   ],
   "source": [
    "N, M = map(int, input().split())\n",
    "li = [int(input()) for _ in range(N)]\n",
    "s, e = 0, max(li)*M\n",
    "res = 0\n",
    "while s <= e:\n",
    "    m = (s+e)//2\n",
    "    t = sum([m//n for n in li])\n",
    "    if t >= M:\n",
    "        res = m\n",
    "        e = m-1\n",
    "    else:\n",
    "        s = m+1\n",
    "print(res)"
   ]
  },
  {
   "cell_type": "code",
   "execution_count": null,
   "metadata": {},
   "outputs": [],
   "source": []
  }
 ],
 "metadata": {
  "kernelspec": {
   "display_name": "Python 3",
   "language": "python",
   "name": "python3"
  },
  "language_info": {
   "codemirror_mode": {
    "name": "ipython",
    "version": 3
   },
   "file_extension": ".py",
   "mimetype": "text/x-python",
   "name": "python",
   "nbconvert_exporter": "python",
   "pygments_lexer": "ipython3",
   "version": "3.8.5"
  },
  "toc": {
   "base_numbering": 1,
   "nav_menu": {},
   "number_sections": true,
   "sideBar": true,
   "skip_h1_title": false,
   "title_cell": "Table of Contents",
   "title_sidebar": "Contents",
   "toc_cell": false,
   "toc_position": {},
   "toc_section_display": true,
   "toc_window_display": false
  },
  "varInspector": {
   "cols": {
    "lenName": 16,
    "lenType": 16,
    "lenVar": 40
   },
   "kernels_config": {
    "python": {
     "delete_cmd_postfix": "",
     "delete_cmd_prefix": "del ",
     "library": "var_list.py",
     "varRefreshCmd": "print(var_dic_list())"
    },
    "r": {
     "delete_cmd_postfix": ") ",
     "delete_cmd_prefix": "rm(",
     "library": "var_list.r",
     "varRefreshCmd": "cat(var_dic_list()) "
    }
   },
   "types_to_exclude": [
    "module",
    "function",
    "builtin_function_or_method",
    "instance",
    "_Feature"
   ],
   "window_display": false
  }
 },
 "nbformat": 4,
 "nbformat_minor": 4
}
