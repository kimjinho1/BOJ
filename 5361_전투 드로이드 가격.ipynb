{
 "cells": [
  {
   "cell_type": "code",
   "execution_count": 1,
   "id": "executed-france",
   "metadata": {
    "ExecuteTime": {
     "end_time": "2021-02-13T16:21:42.534033Z",
     "start_time": "2021-02-13T16:21:30.350798Z"
    }
   },
   "outputs": [
    {
     "name": "stdout",
     "output_type": "stream",
     "text": [
      "3\n",
      "20 10 14 3 9\n",
      "$13987.50\n",
      "19 17 12 8 10\n",
      "$15679.76\n",
      "11 9 8 22 33\n",
      "$16182.54\n"
     ]
    }
   ],
   "source": [
    "for _ in range(int(input())):\n",
    "    a, b, c, d, e = map(int, input().split())\n",
    "    res = a*350.34 + b*230.9 + c*190.55 + d*125.3 + e*180.9\n",
    "    print(\"$%.2f\" % (res))"
   ]
  },
  {
   "cell_type": "code",
   "execution_count": null,
   "id": "productive-modeling",
   "metadata": {},
   "outputs": [],
   "source": []
  }
 ],
 "metadata": {
  "kernelspec": {
   "display_name": "Python 3",
   "language": "python",
   "name": "python3"
  },
  "language_info": {
   "codemirror_mode": {
    "name": "ipython",
    "version": 3
   },
   "file_extension": ".py",
   "mimetype": "text/x-python",
   "name": "python",
   "nbconvert_exporter": "python",
   "pygments_lexer": "ipython3",
   "version": "3.7.9"
  },
  "toc": {
   "base_numbering": 1,
   "nav_menu": {},
   "number_sections": true,
   "sideBar": true,
   "skip_h1_title": false,
   "title_cell": "Table of Contents",
   "title_sidebar": "Contents",
   "toc_cell": false,
   "toc_position": {},
   "toc_section_display": true,
   "toc_window_display": false
  },
  "varInspector": {
   "cols": {
    "lenName": 16,
    "lenType": 16,
    "lenVar": 40
   },
   "kernels_config": {
    "python": {
     "delete_cmd_postfix": "",
     "delete_cmd_prefix": "del ",
     "library": "var_list.py",
     "varRefreshCmd": "print(var_dic_list())"
    },
    "r": {
     "delete_cmd_postfix": ") ",
     "delete_cmd_prefix": "rm(",
     "library": "var_list.r",
     "varRefreshCmd": "cat(var_dic_list()) "
    }
   },
   "types_to_exclude": [
    "module",
    "function",
    "builtin_function_or_method",
    "instance",
    "_Feature"
   ],
   "window_display": false
  }
 },
 "nbformat": 4,
 "nbformat_minor": 5
}
