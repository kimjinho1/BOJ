{
 "cells": [
  {
   "cell_type": "code",
   "execution_count": 23,
   "metadata": {
    "ExecuteTime": {
     "end_time": "2021-03-19T05:52:19.617659Z",
     "start_time": "2021-03-19T05:52:19.310153Z"
    }
   },
   "outputs": [
    {
     "name": "stdout",
     "output_type": "stream",
     "text": [
      "3\n",
      "5\n"
     ]
    }
   ],
   "source": [
    "n = int(input())\n",
    "dp = [0]*(36)\n",
    "dp[0] = 1\n",
    "dp[1] = 1\n",
    "dp[2] = 2\n",
    "for i in range(3, n+1):\n",
    "    t = 0\n",
    "    if i%2:\n",
    "        for j in range(i//2):\n",
    "            t += 2*dp[j]*dp[i-j-1]\n",
    "        dp[i] = t + dp[i//2]**2\n",
    "    else:\n",
    "        for j in range(i//2):\n",
    "            t += 2*dp[j]*dp[i-j-1]\n",
    "        dp[i] = t\n",
    "print(dp[n])"
   ]
  },
  {
   "cell_type": "code",
   "execution_count": 25,
   "metadata": {
    "ExecuteTime": {
     "end_time": "2021-03-19T05:52:28.200752Z",
     "start_time": "2021-03-19T05:52:27.433870Z"
    }
   },
   "outputs": [
    {
     "name": "stdout",
     "output_type": "stream",
     "text": [
      "25\n",
      "4861946401452\n"
     ]
    }
   ],
   "source": [
    "n = int(input())\n",
    "dp = [0]*(36)\n",
    "dp[0] = 1\n",
    "dp[1] = 1\n",
    "dp[2] = 2\n",
    "for i in range(3, n+1):\n",
    "    t = 0\n",
    "    if i%2:\n",
    "        for j in range(i//2):\n",
    "            t += 2*dp[j]*dp[i-j-1]\n",
    "        dp[i] = t + dp[i//2]**2\n",
    "    else:\n",
    "        for j in range(i//2):\n",
    "            t += 2*dp[j]*dp[i-j-1]\n",
    "        dp[i] = t\n",
    "print(dp[n])"
   ]
  },
  {
   "cell_type": "code",
   "execution_count": 26,
   "metadata": {
    "ExecuteTime": {
     "end_time": "2021-03-19T05:52:32.003233Z",
     "start_time": "2021-03-19T05:52:31.710084Z"
    }
   },
   "outputs": [
    {
     "name": "stdout",
     "output_type": "stream",
     "text": [
      "1\n",
      "1\n"
     ]
    }
   ],
   "source": [
    "n = int(input())\n",
    "dp = [0]*(36)\n",
    "dp[0] = 1\n",
    "dp[1] = 1\n",
    "dp[2] = 2\n",
    "for i in range(3, n+1):\n",
    "    t = 0\n",
    "    if i%2:\n",
    "        for j in range(i//2):\n",
    "            t += 2*dp[j]*dp[i-j-1]\n",
    "        dp[i] = t + dp[i//2]**2\n",
    "    else:\n",
    "        for j in range(i//2):\n",
    "            t += 2*dp[j]*dp[i-j-1]\n",
    "        dp[i] = t\n",
    "print(dp[n])"
   ]
  },
  {
   "cell_type": "code",
   "execution_count": null,
   "metadata": {},
   "outputs": [],
   "source": []
  }
 ],
 "metadata": {
  "kernelspec": {
   "display_name": "Python 3",
   "language": "python",
   "name": "python3"
  },
  "language_info": {
   "codemirror_mode": {
    "name": "ipython",
    "version": 3
   },
   "file_extension": ".py",
   "mimetype": "text/x-python",
   "name": "python",
   "nbconvert_exporter": "python",
   "pygments_lexer": "ipython3",
   "version": "3.8.5"
  },
  "toc": {
   "base_numbering": 1,
   "nav_menu": {},
   "number_sections": true,
   "sideBar": true,
   "skip_h1_title": false,
   "title_cell": "Table of Contents",
   "title_sidebar": "Contents",
   "toc_cell": false,
   "toc_position": {},
   "toc_section_display": true,
   "toc_window_display": false
  },
  "varInspector": {
   "cols": {
    "lenName": 16,
    "lenType": 16,
    "lenVar": 40
   },
   "kernels_config": {
    "python": {
     "delete_cmd_postfix": "",
     "delete_cmd_prefix": "del ",
     "library": "var_list.py",
     "varRefreshCmd": "print(var_dic_list())"
    },
    "r": {
     "delete_cmd_postfix": ") ",
     "delete_cmd_prefix": "rm(",
     "library": "var_list.r",
     "varRefreshCmd": "cat(var_dic_list()) "
    }
   },
   "types_to_exclude": [
    "module",
    "function",
    "builtin_function_or_method",
    "instance",
    "_Feature"
   ],
   "window_display": false
  }
 },
 "nbformat": 4,
 "nbformat_minor": 4
}
