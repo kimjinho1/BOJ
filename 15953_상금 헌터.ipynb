{
 "cells": [
  {
   "cell_type": "code",
   "execution_count": 20,
   "metadata": {},
   "outputs": [
    {
     "name": "stdout",
     "output_type": "stream",
     "text": [
      "4\n",
      "8 4\n",
      "1780000\n",
      "20 31\n",
      "100000\n",
      "20 30\n",
      "420000\n",
      "21 31\n",
      "0\n"
     ]
    }
   ],
   "source": [
    "li1 = [5000000] + [3000000]*2 + [2000000]*3 + [500000]*4 + [300000]*5 + [100000]*6 + [0]*79\n",
    "li2 = [5120000] + [2560000]*2 + [1280000]*4 + [640000]*8 + [320000]*16 + [0]*33\n",
    "for _ in range(int(input())):\n",
    "    n1, n2 = map(int, input().split())\n",
    "    print(li1[n1-1] + li2[n2-1])"
   ]
  },
  {
   "cell_type": "code",
   "execution_count": null,
   "metadata": {},
   "outputs": [],
   "source": []
  }
 ],
 "metadata": {
  "kernelspec": {
   "display_name": "Python 3",
   "language": "python",
   "name": "python3"
  },
  "language_info": {
   "codemirror_mode": {
    "name": "ipython",
    "version": 3
   },
   "file_extension": ".py",
   "mimetype": "text/x-python",
   "name": "python",
   "nbconvert_exporter": "python",
   "pygments_lexer": "ipython3",
   "version": "3.6.10"
  }
 },
 "nbformat": 4,
 "nbformat_minor": 2
}
