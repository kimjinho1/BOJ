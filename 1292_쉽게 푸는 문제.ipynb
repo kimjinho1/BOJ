{
 "cells": [
  {
   "cell_type": "markdown",
   "metadata": {},
   "source": [
    "## 긴 코드"
   ]
  },
  {
   "cell_type": "code",
   "execution_count": 15,
   "metadata": {},
   "outputs": [
    {
     "name": "stdout",
     "output_type": "stream",
     "text": [
      "3 7\n",
      "15\n"
     ]
    }
   ],
   "source": [
    "def easy(n):\n",
    "    s = 0\n",
    "    num, cnt = 1, 1\n",
    "    while(1):\n",
    "        for _ in range(num):\n",
    "            if cnt == n+1:\n",
    "                break\n",
    "            s += num\n",
    "            cnt += 1\n",
    "        num += 1\n",
    "        if cnt == n+1:\n",
    "            break\n",
    "    return s\n",
    "\n",
    "A, B = map(int, input().split())\n",
    "\n",
    "print(easy(B) - easy(A-1))"
   ]
  },
  {
   "cell_type": "markdown",
   "metadata": {},
   "source": [
    "## 짧은 코드"
   ]
  },
  {
   "cell_type": "code",
   "execution_count": 23,
   "metadata": {},
   "outputs": [
    {
     "name": "stdout",
     "output_type": "stream",
     "text": [
      "3 7\n",
      "15\n"
     ]
    }
   ],
   "source": [
    "A, B = map(int, input().split())\n",
    "li = []\n",
    "\n",
    "for i in range(1, 46):\n",
    "    li += [i]*i\n",
    "\n",
    "print(sum(li[A-1:B]))"
   ]
  },
  {
   "cell_type": "code",
   "execution_count": null,
   "metadata": {},
   "outputs": [],
   "source": []
  }
 ],
 "metadata": {
  "kernelspec": {
   "display_name": "Python 3",
   "language": "python",
   "name": "python3"
  },
  "language_info": {
   "codemirror_mode": {
    "name": "ipython",
    "version": 3
   },
   "file_extension": ".py",
   "mimetype": "text/x-python",
   "name": "python",
   "nbconvert_exporter": "python",
   "pygments_lexer": "ipython3",
   "version": "3.6.8"
  }
 },
 "nbformat": 4,
 "nbformat_minor": 2
}
