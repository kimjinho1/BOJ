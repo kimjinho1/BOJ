{
 "cells": [
  {
   "cell_type": "code",
   "execution_count": 15,
   "metadata": {
    "ExecuteTime": {
     "end_time": "2021-01-28T02:37:29.576490Z",
     "start_time": "2021-01-28T02:37:29.567251Z"
    }
   },
   "outputs": [],
   "source": [
    "def binarySearch(li, n):\n",
    "    s, e = 0, len(li) - 1 \n",
    "    while s <= e:\n",
    "        m = (s + e) // 2\n",
    "        if n <= sum(li[:m+1]):\n",
    "            ans = m\n",
    "            e = m - 1\n",
    "        else:\n",
    "            s = m + 1\n",
    "    return ans + 1"
   ]
  },
  {
   "cell_type": "code",
   "execution_count": 16,
   "metadata": {
    "ExecuteTime": {
     "end_time": "2021-01-28T02:37:42.656232Z",
     "start_time": "2021-01-28T02:37:29.798632Z"
    }
   },
   "outputs": [
    {
     "name": "stdout",
     "output_type": "stream",
     "text": [
      "5\n",
      "1 4 3 5 2\n",
      "5\n",
      "1 2 -3\n",
      "1 4 2\n",
      "2 5\n",
      "3\n",
      "1 2 4\n",
      "2 5\n",
      "2\n"
     ]
    }
   ],
   "source": [
    "_ = input()\n",
    "li = list(map(int, input().split()))\n",
    "for _ in range(int(input())):\n",
    "    arg = list(map(int, input().split()))\n",
    "    if arg[0] == 1:\n",
    "        li[arg[1]-1] += arg[2]\n",
    "    elif arg[0] == 2:\n",
    "        print(binarySearch(li, arg[1]))"
   ]
  },
  {
   "cell_type": "code",
   "execution_count": null,
   "metadata": {},
   "outputs": [],
   "source": [
    "from sys import stdin\n",
    "\n",
    "_ = stdin.readline()\n",
    "li = list(map(int, stdin.readline().split()))\n",
    "for _ in range(int(stdin.readline())):\n",
    "    arg = list(map(int, stdin.readline().split()))\n",
    "    if arg[0] == 1:\n",
    "        li[arg[1]-1] += arg[2]\n",
    "    elif arg[0] == 2:\n",
    "        print(binarySearch(li, arg[1]))"
   ]
  },
  {
   "cell_type": "code",
   "execution_count": null,
   "metadata": {},
   "outputs": [],
   "source": [
    "5\n",
    "1 4 3 5 2\n",
    "5\n",
    "1 2 -3\n",
    "1 4 2\n",
    "2 5\n",
    "1 2 4\n",
    "2 5"
   ]
  },
  {
   "cell_type": "code",
   "execution_count": null,
   "metadata": {},
   "outputs": [],
   "source": []
  }
 ],
 "metadata": {
  "kernelspec": {
   "display_name": "Python 3",
   "language": "python",
   "name": "python3"
  },
  "language_info": {
   "codemirror_mode": {
    "name": "ipython",
    "version": 3
   },
   "file_extension": ".py",
   "mimetype": "text/x-python",
   "name": "python",
   "nbconvert_exporter": "python",
   "pygments_lexer": "ipython3",
   "version": "3.7.9"
  },
  "toc": {
   "base_numbering": 1,
   "nav_menu": {},
   "number_sections": true,
   "sideBar": true,
   "skip_h1_title": false,
   "title_cell": "Table of Contents",
   "title_sidebar": "Contents",
   "toc_cell": false,
   "toc_position": {},
   "toc_section_display": true,
   "toc_window_display": false
  },
  "varInspector": {
   "cols": {
    "lenName": 16,
    "lenType": 16,
    "lenVar": 40
   },
   "kernels_config": {
    "python": {
     "delete_cmd_postfix": "",
     "delete_cmd_prefix": "del ",
     "library": "var_list.py",
     "varRefreshCmd": "print(var_dic_list())"
    },
    "r": {
     "delete_cmd_postfix": ") ",
     "delete_cmd_prefix": "rm(",
     "library": "var_list.r",
     "varRefreshCmd": "cat(var_dic_list()) "
    }
   },
   "types_to_exclude": [
    "module",
    "function",
    "builtin_function_or_method",
    "instance",
    "_Feature"
   ],
   "window_display": false
  }
 },
 "nbformat": 4,
 "nbformat_minor": 4
}
