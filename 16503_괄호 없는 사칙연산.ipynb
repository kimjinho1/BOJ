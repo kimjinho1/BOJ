{
 "cells": [
  {
   "cell_type": "code",
   "execution_count": 14,
   "metadata": {
    "ExecuteTime": {
     "end_time": "2021-03-01T02:51:35.897086Z",
     "start_time": "2021-03-01T02:51:31.635265Z"
    }
   },
   "outputs": [
    {
     "name": "stdout",
     "output_type": "stream",
     "text": [
      "2 + 3 * 4\n",
      "14\n",
      "20\n"
     ]
    }
   ],
   "source": [
    "def f(a, b, op):\n",
    "    if op == '+':\n",
    "        return a+b\n",
    "    elif op == '-':\n",
    "        return a-b\n",
    "    elif op == '*':\n",
    "        return a*b\n",
    "    elif op == '/':\n",
    "        return -1*(abs(a)//abs(b)) if a*b < 0 else a//b\n",
    "\n",
    "li = list(input().split())\n",
    "li[0] = int(li[0]); li[2] = int(li[2]); li[4] = int(li[4])\n",
    "a = f(f(li[0], li[2], li[1]), li[4], li[3])\n",
    "b = f(li[0], f(li[2], li[4], li[3]), li[1])\n",
    "print(min(a, b))\n",
    "print(max(a, b))"
   ]
  },
  {
   "cell_type": "code",
   "execution_count": 15,
   "metadata": {
    "ExecuteTime": {
     "end_time": "2021-03-01T02:51:41.403124Z",
     "start_time": "2021-03-01T02:51:40.952128Z"
    }
   },
   "outputs": [
    {
     "name": "stdout",
     "output_type": "stream",
     "text": [
      "6 / 2 * 3\n",
      "1\n",
      "9\n"
     ]
    }
   ],
   "source": [
    "li = list(input().split())\n",
    "li[0] = int(li[0]); li[2] = int(li[2]); li[4] = int(li[4])\n",
    "a = f(f(li[0], li[2], li[1]), li[4], li[3])\n",
    "b = f(li[0], f(li[2], li[4], li[3]), li[1])\n",
    "print(min(a, b))\n",
    "print(max(a, b))"
   ]
  },
  {
   "cell_type": "code",
   "execution_count": 16,
   "metadata": {
    "ExecuteTime": {
     "end_time": "2021-03-01T02:51:50.090654Z",
     "start_time": "2021-03-01T02:51:49.749709Z"
    }
   },
   "outputs": [
    {
     "name": "stdout",
     "output_type": "stream",
     "text": [
      "5 + 10 + 10\n",
      "25\n",
      "25\n"
     ]
    }
   ],
   "source": [
    "li = list(input().split())\n",
    "li[0] = int(li[0]); li[2] = int(li[2]); li[4] = int(li[4])\n",
    "a = f(f(li[0], li[2], li[1]), li[4], li[3])\n",
    "b = f(li[0], f(li[2], li[4], li[3]), li[1])\n",
    "print(min(a, b))\n",
    "print(max(a, b))"
   ]
  },
  {
   "cell_type": "code",
   "execution_count": 17,
   "metadata": {
    "ExecuteTime": {
     "end_time": "2021-03-01T02:51:56.045031Z",
     "start_time": "2021-03-01T02:51:55.630967Z"
    }
   },
   "outputs": [
    {
     "name": "stdout",
     "output_type": "stream",
     "text": [
      "7 / 3 - 9\n",
      "-7\n",
      "-1\n"
     ]
    }
   ],
   "source": [
    "li = list(input().split())\n",
    "li[0] = int(li[0]); li[2] = int(li[2]); li[4] = int(li[4])\n",
    "a = f(f(li[0], li[2], li[1]), li[4], li[3])\n",
    "b = f(li[0], f(li[2], li[4], li[3]), li[1])\n",
    "print(min(a, b))\n",
    "print(max(a, b))"
   ]
  },
  {
   "cell_type": "code",
   "execution_count": null,
   "metadata": {},
   "outputs": [],
   "source": []
  }
 ],
 "metadata": {
  "kernelspec": {
   "display_name": "Python 3",
   "language": "python",
   "name": "python3"
  },
  "language_info": {
   "codemirror_mode": {
    "name": "ipython",
    "version": 3
   },
   "file_extension": ".py",
   "mimetype": "text/x-python",
   "name": "python",
   "nbconvert_exporter": "python",
   "pygments_lexer": "ipython3",
   "version": "3.8.5"
  },
  "toc": {
   "base_numbering": 1,
   "nav_menu": {},
   "number_sections": true,
   "sideBar": true,
   "skip_h1_title": false,
   "title_cell": "Table of Contents",
   "title_sidebar": "Contents",
   "toc_cell": false,
   "toc_position": {},
   "toc_section_display": true,
   "toc_window_display": false
  },
  "varInspector": {
   "cols": {
    "lenName": 16,
    "lenType": 16,
    "lenVar": 40
   },
   "kernels_config": {
    "python": {
     "delete_cmd_postfix": "",
     "delete_cmd_prefix": "del ",
     "library": "var_list.py",
     "varRefreshCmd": "print(var_dic_list())"
    },
    "r": {
     "delete_cmd_postfix": ") ",
     "delete_cmd_prefix": "rm(",
     "library": "var_list.r",
     "varRefreshCmd": "cat(var_dic_list()) "
    }
   },
   "types_to_exclude": [
    "module",
    "function",
    "builtin_function_or_method",
    "instance",
    "_Feature"
   ],
   "window_display": false
  }
 },
 "nbformat": 4,
 "nbformat_minor": 4
}
