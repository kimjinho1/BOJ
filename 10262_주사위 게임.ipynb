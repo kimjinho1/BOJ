{
 "cells": [
  {
   "cell_type": "code",
   "execution_count": 1,
   "id": "distinguished-driver",
   "metadata": {
    "ExecuteTime": {
     "end_time": "2021-02-18T03:16:24.143706Z",
     "start_time": "2021-02-18T03:16:19.068299Z"
    }
   },
   "outputs": [
    {
     "name": "stdout",
     "output_type": "stream",
     "text": [
      "1 4 1 4\n",
      "1 6 1 6\n",
      "Emma\n"
     ]
    }
   ],
   "source": [
    "a1, b1, a2, b2 = map(int, input().split())\n",
    "a3, b3, a4, b4 = map(int, input().split())\n",
    "Ga, Gb = a1+a2, b1+b2\n",
    "Ea, Eb = a3+a4, b3+b4\n",
    "if Ga-Ea + Gb-Eb == 0:\n",
    "    print(\"Tie\")\n",
    "elif Ga-Ea + Gb-Eb > 0:\n",
    "    print(\"Gunnar\")\n",
    "else:\n",
    "    print(\"Emma\")"
   ]
  },
  {
   "cell_type": "code",
   "execution_count": 2,
   "id": "special-institute",
   "metadata": {
    "ExecuteTime": {
     "end_time": "2021-02-18T03:16:32.864141Z",
     "start_time": "2021-02-18T03:16:28.640672Z"
    }
   },
   "outputs": [
    {
     "name": "stdout",
     "output_type": "stream",
     "text": [
      "1 8 1 8\n",
      "1 10 2 5\n",
      "Tie\n"
     ]
    }
   ],
   "source": [
    "a1, b1, a2, b2 = map(int, input().split())\n",
    "a3, b3, a4, b4 = map(int, input().split())\n",
    "Ga, Gb = a1+a2, b1+b2\n",
    "Ea, Eb = a3+a4, b3+b4\n",
    "if Ga-Ea + Gb-Eb == 0:\n",
    "    print(\"Tie\")\n",
    "elif Ga-Ea + Gb-Eb > 0:\n",
    "    print(\"Gunnar\")\n",
    "else:\n",
    "    print(\"Emma\")"
   ]
  },
  {
   "cell_type": "code",
   "execution_count": 3,
   "id": "failing-tongue",
   "metadata": {
    "ExecuteTime": {
     "end_time": "2021-02-18T03:16:40.999862Z",
     "start_time": "2021-02-18T03:16:35.939057Z"
    }
   },
   "outputs": [
    {
     "name": "stdout",
     "output_type": "stream",
     "text": [
      "2 5 2 7\n",
      "1 5 2 5\n",
      "Gunnar\n"
     ]
    }
   ],
   "source": [
    "a1, b1, a2, b2 = map(int, input().split())\n",
    "a3, b3, a4, b4 = map(int, input().split())\n",
    "Ga, Gb = a1+a2, b1+b2\n",
    "Ea, Eb = a3+a4, b3+b4\n",
    "if Ga-Ea + Gb-Eb == 0:\n",
    "    print(\"Tie\")\n",
    "elif Ga-Ea + Gb-Eb > 0:\n",
    "    print(\"Gunnar\")\n",
    "else:\n",
    "    print(\"Emma\")"
   ]
  },
  {
   "cell_type": "code",
   "execution_count": null,
   "id": "photographic-borough",
   "metadata": {},
   "outputs": [],
   "source": []
  }
 ],
 "metadata": {
  "kernelspec": {
   "display_name": "Python 3",
   "language": "python",
   "name": "python3"
  },
  "language_info": {
   "codemirror_mode": {
    "name": "ipython",
    "version": 3
   },
   "file_extension": ".py",
   "mimetype": "text/x-python",
   "name": "python",
   "nbconvert_exporter": "python",
   "pygments_lexer": "ipython3",
   "version": "3.7.9"
  },
  "toc": {
   "base_numbering": 1,
   "nav_menu": {},
   "number_sections": true,
   "sideBar": true,
   "skip_h1_title": false,
   "title_cell": "Table of Contents",
   "title_sidebar": "Contents",
   "toc_cell": false,
   "toc_position": {},
   "toc_section_display": true,
   "toc_window_display": false
  },
  "varInspector": {
   "cols": {
    "lenName": 16,
    "lenType": 16,
    "lenVar": 40
   },
   "kernels_config": {
    "python": {
     "delete_cmd_postfix": "",
     "delete_cmd_prefix": "del ",
     "library": "var_list.py",
     "varRefreshCmd": "print(var_dic_list())"
    },
    "r": {
     "delete_cmd_postfix": ") ",
     "delete_cmd_prefix": "rm(",
     "library": "var_list.r",
     "varRefreshCmd": "cat(var_dic_list()) "
    }
   },
   "types_to_exclude": [
    "module",
    "function",
    "builtin_function_or_method",
    "instance",
    "_Feature"
   ],
   "window_display": false
  }
 },
 "nbformat": 4,
 "nbformat_minor": 5
}
