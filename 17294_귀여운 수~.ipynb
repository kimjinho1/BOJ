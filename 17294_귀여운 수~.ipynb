{
 "cells": [
  {
   "cell_type": "code",
   "execution_count": 2,
   "id": "religious-final",
   "metadata": {
    "ExecuteTime": {
     "end_time": "2021-02-21T09:39:59.415234Z",
     "start_time": "2021-02-21T09:39:59.004775Z"
    }
   },
   "outputs": [
    {
     "name": "stdout",
     "output_type": "stream",
     "text": [
      "630\n",
      "◝(⑅•ᴗ•⑅)◜..°♡ 뀌요미!!\n"
     ]
    }
   ],
   "source": [
    "s = input()\n",
    "if len(s) <= 2:\n",
    "    print(\"◝(⑅•ᴗ•⑅)◜..°♡ 뀌요미!!\")\n",
    "else:\n",
    "    ok = 1\n",
    "    t = int(s[0])-int(s[1])\n",
    "    for i in range(1, len(s)-1):\n",
    "        if int(s[i])-int(s[i+1]) != t:\n",
    "            ok = 0\n",
    "    print(\"◝(⑅•ᴗ•⑅)◜..°♡ 뀌요미!!\" if ok else \"흥칫뿡!! <(￣ ﹌ ￣)>\")"
   ]
  },
  {
   "cell_type": "code",
   "execution_count": 3,
   "id": "expensive-roommate",
   "metadata": {
    "ExecuteTime": {
     "end_time": "2021-02-21T09:40:06.517757Z",
     "start_time": "2021-02-21T09:40:05.732676Z"
    }
   },
   "outputs": [
    {
     "name": "stdout",
     "output_type": "stream",
     "text": [
      "631\n",
      "흥칫뿡!! <(￣ ﹌ ￣)>\n"
     ]
    }
   ],
   "source": [
    "s = input()\n",
    "if len(s) <= 2:\n",
    "    print(\"◝(⑅•ᴗ•⑅)◜..°♡ 뀌요미!!\")\n",
    "else:\n",
    "    ok = 1\n",
    "    t = int(s[0])-int(s[1])\n",
    "    for i in range(1, len(s)-1):\n",
    "        if int(s[i])-int(s[i+1]) != t:\n",
    "            ok = 0\n",
    "    print(\"◝(⑅•ᴗ•⑅)◜..°♡ 뀌요미!!\" if ok else \"흥칫뿡!! <(￣ ﹌ ￣)>\")"
   ]
  },
  {
   "cell_type": "code",
   "execution_count": 4,
   "id": "immune-baseball",
   "metadata": {
    "ExecuteTime": {
     "end_time": "2021-02-21T09:40:12.081163Z",
     "start_time": "2021-02-21T09:40:11.576181Z"
    }
   },
   "outputs": [
    {
     "name": "stdout",
     "output_type": "stream",
     "text": [
      "999999999999999999\n",
      "◝(⑅•ᴗ•⑅)◜..°♡ 뀌요미!!\n"
     ]
    }
   ],
   "source": [
    "s = input()\n",
    "if len(s) <= 2:\n",
    "    print(\"◝(⑅•ᴗ•⑅)◜..°♡ 뀌요미!!\")\n",
    "else:\n",
    "    ok = 1\n",
    "    t = int(s[0])-int(s[1])\n",
    "    for i in range(1, len(s)-1):\n",
    "        if int(s[i])-int(s[i+1]) != t:\n",
    "            ok = 0\n",
    "    print(\"◝(⑅•ᴗ•⑅)◜..°♡ 뀌요미!!\" if ok else \"흥칫뿡!! <(￣ ﹌ ￣)>\")"
   ]
  },
  {
   "cell_type": "code",
   "execution_count": 5,
   "id": "palestinian-parade",
   "metadata": {
    "ExecuteTime": {
     "end_time": "2021-02-21T09:40:19.956573Z",
     "start_time": "2021-02-21T09:40:17.973249Z"
    }
   },
   "outputs": [
    {
     "name": "stdout",
     "output_type": "stream",
     "text": [
      "1000000000000000000\n",
      "흥칫뿡!! <(￣ ﹌ ￣)>\n"
     ]
    }
   ],
   "source": [
    "s = input()\n",
    "if len(s) <= 2:\n",
    "    print(\"◝(⑅•ᴗ•⑅)◜..°♡ 뀌요미!!\")\n",
    "else:\n",
    "    ok = 1\n",
    "    t = int(s[0])-int(s[1])\n",
    "    for i in range(1, len(s)-1):\n",
    "        if int(s[i])-int(s[i+1]) != t:\n",
    "            ok = 0\n",
    "    print(\"◝(⑅•ᴗ•⑅)◜..°♡ 뀌요미!!\" if ok else \"흥칫뿡!! <(￣ ﹌ ￣)>\")"
   ]
  },
  {
   "cell_type": "code",
   "execution_count": 6,
   "id": "fixed-customs",
   "metadata": {
    "ExecuteTime": {
     "end_time": "2021-02-21T09:40:29.240240Z",
     "start_time": "2021-02-21T09:40:28.435338Z"
    }
   },
   "outputs": [
    {
     "name": "stdout",
     "output_type": "stream",
     "text": [
      "12\n",
      "◝(⑅•ᴗ•⑅)◜..°♡ 뀌요미!!\n"
     ]
    }
   ],
   "source": [
    "s = input()\n",
    "if len(s) <= 2:\n",
    "    print(\"◝(⑅•ᴗ•⑅)◜..°♡ 뀌요미!!\")\n",
    "else:\n",
    "    ok = 1\n",
    "    t = int(s[0])-int(s[1])\n",
    "    for i in range(1, len(s)-1):\n",
    "        if int(s[i])-int(s[i+1]) != t:\n",
    "            ok = 0\n",
    "    print(\"◝(⑅•ᴗ•⑅)◜..°♡ 뀌요미!!\" if ok else \"흥칫뿡!! <(￣ ﹌ ￣)>\")"
   ]
  },
  {
   "cell_type": "code",
   "execution_count": 7,
   "id": "tropical-focus",
   "metadata": {
    "ExecuteTime": {
     "end_time": "2021-02-21T09:40:31.101601Z",
     "start_time": "2021-02-21T09:40:30.558884Z"
    }
   },
   "outputs": [
    {
     "name": "stdout",
     "output_type": "stream",
     "text": [
      "121\n",
      "흥칫뿡!! <(￣ ﹌ ￣)>\n"
     ]
    }
   ],
   "source": [
    "s = input()\n",
    "if len(s) <= 2:\n",
    "    print(\"◝(⑅•ᴗ•⑅)◜..°♡ 뀌요미!!\")\n",
    "else:\n",
    "    ok = 1\n",
    "    t = int(s[0])-int(s[1])\n",
    "    for i in range(1, len(s)-1):\n",
    "        if int(s[i])-int(s[i+1]) != t:\n",
    "            ok = 0\n",
    "    print(\"◝(⑅•ᴗ•⑅)◜..°♡ 뀌요미!!\" if ok else \"흥칫뿡!! <(￣ ﹌ ￣)>\")"
   ]
  },
  {
   "cell_type": "code",
   "execution_count": 8,
   "id": "primary-simulation",
   "metadata": {
    "ExecuteTime": {
     "end_time": "2021-02-21T09:40:38.106525Z",
     "start_time": "2021-02-21T09:40:37.539045Z"
    }
   },
   "outputs": [
    {
     "name": "stdout",
     "output_type": "stream",
     "text": [
      "7\n",
      "◝(⑅•ᴗ•⑅)◜..°♡ 뀌요미!!\n"
     ]
    }
   ],
   "source": [
    "s = input()\n",
    "if len(s) <= 2:\n",
    "    print(\"◝(⑅•ᴗ•⑅)◜..°♡ 뀌요미!!\")\n",
    "else:\n",
    "    ok = 1\n",
    "    t = int(s[0])-int(s[1])\n",
    "    for i in range(1, len(s)-1):\n",
    "        if int(s[i])-int(s[i+1]) != t:\n",
    "            ok = 0\n",
    "    print(\"◝(⑅•ᴗ•⑅)◜..°♡ 뀌요미!!\" if ok else \"흥칫뿡!! <(￣ ﹌ ￣)>\")"
   ]
  },
  {
   "cell_type": "code",
   "execution_count": 9,
   "id": "editorial-shelf",
   "metadata": {
    "ExecuteTime": {
     "end_time": "2021-02-21T09:40:41.063879Z",
     "start_time": "2021-02-21T09:40:39.408443Z"
    }
   },
   "outputs": [
    {
     "name": "stdout",
     "output_type": "stream",
     "text": [
      "13579\n",
      "◝(⑅•ᴗ•⑅)◜..°♡ 뀌요미!!\n"
     ]
    }
   ],
   "source": [
    "s = input()\n",
    "if len(s) <= 2:\n",
    "    print(\"◝(⑅•ᴗ•⑅)◜..°♡ 뀌요미!!\")\n",
    "else:\n",
    "    ok = 1\n",
    "    t = int(s[0])-int(s[1])\n",
    "    for i in range(1, len(s)-1):\n",
    "        if int(s[i])-int(s[i+1]) != t:\n",
    "            ok = 0\n",
    "    print(\"◝(⑅•ᴗ•⑅)◜..°♡ 뀌요미!!\" if ok else \"흥칫뿡!! <(￣ ﹌ ￣)>\")"
   ]
  },
  {
   "cell_type": "code",
   "execution_count": null,
   "id": "several-cabinet",
   "metadata": {},
   "outputs": [],
   "source": []
  }
 ],
 "metadata": {
  "kernelspec": {
   "display_name": "Python 3",
   "language": "python",
   "name": "python3"
  },
  "language_info": {
   "codemirror_mode": {
    "name": "ipython",
    "version": 3
   },
   "file_extension": ".py",
   "mimetype": "text/x-python",
   "name": "python",
   "nbconvert_exporter": "python",
   "pygments_lexer": "ipython3",
   "version": "3.7.9"
  },
  "toc": {
   "base_numbering": 1,
   "nav_menu": {},
   "number_sections": true,
   "sideBar": true,
   "skip_h1_title": false,
   "title_cell": "Table of Contents",
   "title_sidebar": "Contents",
   "toc_cell": false,
   "toc_position": {},
   "toc_section_display": true,
   "toc_window_display": false
  },
  "varInspector": {
   "cols": {
    "lenName": 16,
    "lenType": 16,
    "lenVar": 40
   },
   "kernels_config": {
    "python": {
     "delete_cmd_postfix": "",
     "delete_cmd_prefix": "del ",
     "library": "var_list.py",
     "varRefreshCmd": "print(var_dic_list())"
    },
    "r": {
     "delete_cmd_postfix": ") ",
     "delete_cmd_prefix": "rm(",
     "library": "var_list.r",
     "varRefreshCmd": "cat(var_dic_list()) "
    }
   },
   "types_to_exclude": [
    "module",
    "function",
    "builtin_function_or_method",
    "instance",
    "_Feature"
   ],
   "window_display": false
  }
 },
 "nbformat": 4,
 "nbformat_minor": 5
}
