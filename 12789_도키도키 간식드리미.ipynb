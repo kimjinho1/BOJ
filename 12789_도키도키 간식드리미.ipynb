{
 "cells": [
  {
   "cell_type": "code",
   "execution_count": 49,
   "metadata": {
    "ExecuteTime": {
     "end_time": "2021-03-05T15:07:41.860560Z",
     "start_time": "2021-03-05T15:07:40.016724Z"
    }
   },
   "outputs": [
    {
     "name": "stdout",
     "output_type": "stream",
     "text": [
      "5\n",
      "5 4 1 3 2\n",
      "Nice\n"
     ]
    }
   ],
   "source": [
    "from collections import deque\n",
    "\n",
    "N = int(input())\n",
    "queue = deque(map(int, input().split()))\n",
    "stack = deque()\n",
    "i = 1\n",
    "while queue:\n",
    "    if queue and queue[0] == i:\n",
    "        queue.popleft()\n",
    "        i += 1\n",
    "    else:\n",
    "        stack.append(queue.popleft())\n",
    "    while stack and stack[-1] == i:\n",
    "        stack.pop()\n",
    "        i += 1\n",
    "        \n",
    "print(\"Nice\" if not stack else \"Sad\")"
   ]
  },
  {
   "cell_type": "code",
   "execution_count": 50,
   "metadata": {
    "ExecuteTime": {
     "end_time": "2021-03-05T15:07:46.868773Z",
     "start_time": "2021-03-05T15:07:45.655685Z"
    }
   },
   "outputs": [
    {
     "name": "stdout",
     "output_type": "stream",
     "text": [
      "10\n",
      "5 4 3 2 1 10 9 8 7 6\n",
      "Nice\n"
     ]
    }
   ],
   "source": [
    "from collections import deque\n",
    "\n",
    "N = int(input())\n",
    "queue = deque(map(int, input().split()))\n",
    "stack = deque()\n",
    "i = 1\n",
    "while queue:\n",
    "    if queue and queue[0] == i:\n",
    "        queue.popleft()\n",
    "        i += 1\n",
    "    else:\n",
    "        stack.append(queue.popleft())\n",
    "    while stack and stack[-1] == i:\n",
    "        stack.pop()\n",
    "        i += 1\n",
    "        \n",
    "print(\"Nice\" if not stack else \"Sad\")"
   ]
  },
  {
   "cell_type": "code",
   "execution_count": null,
   "metadata": {},
   "outputs": [],
   "source": []
  }
 ],
 "metadata": {
  "kernelspec": {
   "display_name": "Python 3",
   "language": "python",
   "name": "python3"
  },
  "language_info": {
   "codemirror_mode": {
    "name": "ipython",
    "version": 3
   },
   "file_extension": ".py",
   "mimetype": "text/x-python",
   "name": "python",
   "nbconvert_exporter": "python",
   "pygments_lexer": "ipython3",
   "version": "3.8.5"
  },
  "toc": {
   "base_numbering": 1,
   "nav_menu": {},
   "number_sections": true,
   "sideBar": true,
   "skip_h1_title": false,
   "title_cell": "Table of Contents",
   "title_sidebar": "Contents",
   "toc_cell": false,
   "toc_position": {},
   "toc_section_display": true,
   "toc_window_display": false
  },
  "varInspector": {
   "cols": {
    "lenName": 16,
    "lenType": 16,
    "lenVar": 40
   },
   "kernels_config": {
    "python": {
     "delete_cmd_postfix": "",
     "delete_cmd_prefix": "del ",
     "library": "var_list.py",
     "varRefreshCmd": "print(var_dic_list())"
    },
    "r": {
     "delete_cmd_postfix": ") ",
     "delete_cmd_prefix": "rm(",
     "library": "var_list.r",
     "varRefreshCmd": "cat(var_dic_list()) "
    }
   },
   "types_to_exclude": [
    "module",
    "function",
    "builtin_function_or_method",
    "instance",
    "_Feature"
   ],
   "window_display": false
  }
 },
 "nbformat": 4,
 "nbformat_minor": 4
}
