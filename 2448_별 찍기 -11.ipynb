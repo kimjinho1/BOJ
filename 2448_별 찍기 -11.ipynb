{
 "cells": [
  {
   "cell_type": "code",
   "execution_count": 1,
   "metadata": {},
   "outputs": [
    {
     "name": "stdout",
     "output_type": "stream",
     "text": [
      "24\n",
      "                       *                        \n",
      "                      * *                       \n",
      "                     *****                      \n",
      "                    *     *                     \n",
      "                   * *   * *                    \n",
      "                  ***** *****                   \n",
      "                 *           *                  \n",
      "                * *         * *                 \n",
      "               *****       *****                \n",
      "              *     *     *     *               \n",
      "             * *   * *   * *   * *              \n",
      "            ***** ***** ***** *****             \n",
      "           *                       *            \n",
      "          * *                     * *           \n",
      "         *****                   *****          \n",
      "        *     *                 *     *         \n",
      "       * *   * *               * *   * *        \n",
      "      ***** *****             ***** *****       \n",
      "     *           *           *           *      \n",
      "    * *         * *         * *         * *     \n",
      "   *****       *****       *****       *****    \n",
      "  *     *     *     *     *     *     *     *   \n",
      " * *   * *   * *   * *   * *   * *   * *   * *  \n",
      "***** ***** ***** ***** ***** ***** ***** ***** \n"
     ]
    }
   ],
   "source": [
    "import math\n",
    "    \n",
    "s = [\"  *   \", \" * *  \", \"***** \"]\n",
    "\n",
    "def Star(shift):\n",
    "    c = len(s)\n",
    "    for i in range(c):\n",
    "        s.append(s[i] + s[i])\n",
    "        s[i] = (\"   \" * shift + s[i] + \"   \" * shift)\n",
    "        \n",
    "n = int(input())\n",
    "k = int(math.log(int(n/3), 2))\n",
    "for i in range(k):\n",
    "    Star(int(pow(2, i)))\n",
    "\n",
    "for i in range(n):\n",
    "    print(s[i])"
   ]
  },
  {
   "cell_type": "code",
   "execution_count": null,
   "metadata": {},
   "outputs": [],
   "source": []
  }
 ],
 "metadata": {
  "kernelspec": {
   "display_name": "Python 3",
   "language": "python",
   "name": "python3"
  },
  "language_info": {
   "codemirror_mode": {
    "name": "ipython",
    "version": 3
   },
   "file_extension": ".py",
   "mimetype": "text/x-python",
   "name": "python",
   "nbconvert_exporter": "python",
   "pygments_lexer": "ipython3",
   "version": "3.6.8"
  }
 },
 "nbformat": 4,
 "nbformat_minor": 2
}
