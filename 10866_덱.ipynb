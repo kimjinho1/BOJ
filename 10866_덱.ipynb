{
 "cells": [
  {
   "cell_type": "code",
   "execution_count": null,
   "metadata": {
    "ExecuteTime": {
     "end_time": "2021-03-05T09:28:58.963095Z",
     "start_time": "2021-03-05T09:28:58.929185Z"
    }
   },
   "outputs": [],
   "source": [
    "import sys\n",
    "\n",
    "class Deque():\n",
    "    def __init__(self):\n",
    "        self.li = []\n",
    "    \n",
    "    def push_front(self, n):\n",
    "        self.li.insert(0, n)\n",
    "\n",
    "    def push_back(self, n):\n",
    "        self.li.append(n)\n",
    "\n",
    "    def pop_front(self):\n",
    "        print(self.li.pop(0) if self.li else -1)\n",
    "    \n",
    "    def pop_back(self):\n",
    "        print(self.li.pop() if self.li else -1)\n",
    "    \n",
    "    def size(self):\n",
    "        print(len(self.li))\n",
    "\n",
    "    def empty(self):\n",
    "        print(0 if self.li else 1)\n",
    "        \n",
    "    def front(self):\n",
    "        print(self.li[0] if self.li else -1)\n",
    "        \n",
    "    def back(self):\n",
    "        print(self.li[-1] if self.li else -1)\n",
    "\n",
    "deque = Deque()\n",
    "for _ in range(int(sys.stdin.readline())):\n",
    "    s = sys.stdin.readline().split()\n",
    "    if s[0] == \"push_front\":\n",
    "        deque.push_front(int(s[1]))\n",
    "    elif s[0] == \"push_back\":\n",
    "        deque.push_back(int(s[1]))\n",
    "    elif s[0] == \"pop_front\":\n",
    "        deque.pop_front()\n",
    "    elif s[0] == \"pop_back\":\n",
    "        deque.pop_back()\n",
    "    elif s[0] == \"size\":\n",
    "        deque.size()\n",
    "    elif s[0] == \"empty\":\n",
    "        deque.empty()\n",
    "    elif s[0] == \"front\":\n",
    "        deque.front()\n",
    "    elif s[0] == \"back\":\n",
    "        deque.back()"
   ]
  },
  {
   "cell_type": "code",
   "execution_count": 2,
   "metadata": {
    "ExecuteTime": {
     "end_time": "2021-03-05T09:28:25.173439Z",
     "start_time": "2021-03-05T09:27:36.255278Z"
    }
   },
   "outputs": [
    {
     "name": "stdout",
     "output_type": "stream",
     "text": [
      "15\n",
      "push_back 1\n",
      "push_front 2\n",
      "front\n",
      "2\n",
      "back\n",
      "1\n",
      "size\n",
      "2\n",
      "empty\n",
      "0\n",
      "pop_front\n",
      "2\n",
      "pop_back\n",
      "1\n",
      "pop_front\n",
      "-1\n",
      "size\n",
      "0\n",
      "empty\n",
      "1\n",
      "pop_back\n",
      "-1\n",
      "push_front 3\n",
      "empty\n",
      "0\n",
      "front\n",
      "3\n"
     ]
    }
   ],
   "source": [
    "class Deque():\n",
    "    def __init__(self):\n",
    "        self.li = []\n",
    "    \n",
    "    def push_front(self, n):\n",
    "        self.li.insert(0, n)\n",
    "\n",
    "    def push_back(self, n):\n",
    "        self.li.append(n)\n",
    "\n",
    "    def pop_front(self):\n",
    "        print(self.li.pop(0) if self.li else -1)\n",
    "    \n",
    "    def pop_back(self):\n",
    "        print(self.li.pop() if self.li else -1)\n",
    "    \n",
    "    def size(self):\n",
    "        print(len(self.li))\n",
    "\n",
    "    def empty(self):\n",
    "        print(0 if self.li else 1)\n",
    "        \n",
    "    def front(self):\n",
    "        print(self.li[0] if self.li else -1)\n",
    "        \n",
    "    def back(self):\n",
    "        print(self.li[-1] if self.li else -1)\n",
    "\n",
    "deque = Deque()\n",
    "for _ in range(int(input())):\n",
    "    s = input().split()\n",
    "    if s[0] == \"push_front\":\n",
    "        deque.push_front(int(s[1]))\n",
    "    elif s[0] == \"push_back\":\n",
    "        deque.push_back(int(s[1]))\n",
    "    elif s[0] == \"pop_front\":\n",
    "        deque.pop_front()\n",
    "    elif s[0] == \"pop_back\":\n",
    "        deque.pop_back()\n",
    "    elif s[0] == \"size\":\n",
    "        deque.size()\n",
    "    elif s[0] == \"empty\":\n",
    "        deque.empty()\n",
    "    elif s[0] == \"front\":\n",
    "        deque.front()\n",
    "    elif s[0] == \"back\":\n",
    "        deque.back()"
   ]
  },
  {
   "cell_type": "code",
   "execution_count": null,
   "metadata": {},
   "outputs": [],
   "source": []
  }
 ],
 "metadata": {
  "kernelspec": {
   "display_name": "Python 3",
   "language": "python",
   "name": "python3"
  },
  "language_info": {
   "codemirror_mode": {
    "name": "ipython",
    "version": 3
   },
   "file_extension": ".py",
   "mimetype": "text/x-python",
   "name": "python",
   "nbconvert_exporter": "python",
   "pygments_lexer": "ipython3",
   "version": "3.8.5"
  },
  "toc": {
   "base_numbering": 1,
   "nav_menu": {},
   "number_sections": true,
   "sideBar": true,
   "skip_h1_title": false,
   "title_cell": "Table of Contents",
   "title_sidebar": "Contents",
   "toc_cell": false,
   "toc_position": {},
   "toc_section_display": true,
   "toc_window_display": false
  },
  "varInspector": {
   "cols": {
    "lenName": 16,
    "lenType": 16,
    "lenVar": 40
   },
   "kernels_config": {
    "python": {
     "delete_cmd_postfix": "",
     "delete_cmd_prefix": "del ",
     "library": "var_list.py",
     "varRefreshCmd": "print(var_dic_list())"
    },
    "r": {
     "delete_cmd_postfix": ") ",
     "delete_cmd_prefix": "rm(",
     "library": "var_list.r",
     "varRefreshCmd": "cat(var_dic_list()) "
    }
   },
   "types_to_exclude": [
    "module",
    "function",
    "builtin_function_or_method",
    "instance",
    "_Feature"
   ],
   "window_display": false
  }
 },
 "nbformat": 4,
 "nbformat_minor": 4
}
