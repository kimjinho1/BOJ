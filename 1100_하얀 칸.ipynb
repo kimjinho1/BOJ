{
 "cells": [
  {
   "cell_type": "code",
   "execution_count": 7,
   "metadata": {
    "scrolled": true
   },
   "outputs": [
    {
     "name": "stdout",
     "output_type": "stream",
     "text": [
      ".F.F...F\n",
      "F...F.F.\n",
      "...F.F.F\n",
      "F.F...F.\n",
      ".F...F..\n",
      "F...F.F.\n",
      ".F.F.F.F\n",
      "..FF..F.\n",
      "1\n"
     ]
    }
   ],
   "source": [
    "ans = 0\n",
    "for i in range(8):\n",
    "    li = list(input())    \n",
    "    for j in range(8):\n",
    "        if (i % 2) and (j % 2) and li[j] == 'F':\n",
    "            ans += 1\n",
    "        elif (i % 2 == 0) and (j % 2 == 0) and li[j] == 'F':\n",
    "            ans += 1\n",
    "print(ans)"
   ]
  }
 ],
 "metadata": {
  "kernelspec": {
   "display_name": "Python 3",
   "language": "python",
   "name": "python3"
  },
  "language_info": {
   "codemirror_mode": {
    "name": "ipython",
    "version": 3
   },
   "file_extension": ".py",
   "mimetype": "text/x-python",
   "name": "python",
   "nbconvert_exporter": "python",
   "pygments_lexer": "ipython3",
   "version": "3.6.8"
  }
 },
 "nbformat": 4,
 "nbformat_minor": 2
}
