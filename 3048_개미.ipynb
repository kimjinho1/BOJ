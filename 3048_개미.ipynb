{
 "cells": [
  {
   "cell_type": "code",
   "execution_count": 8,
   "metadata": {},
   "outputs": [
    {
     "name": "stdin",
     "output_type": "stream",
     "text": [
      " 3 3\n",
      " ABC\n",
      " DEF\n",
      " 2\n"
     ]
    },
    {
     "name": "stdout",
     "output_type": "stream",
     "text": [
      "CDBEAF\n"
     ]
    }
   ],
   "source": [
    "_ = map(int, input().split())\n",
    "g1 = [{'group': 1, 'name': ant} for ant in input()][::-1]\n",
    "g2 = [{'group': 2, 'name': ant} for ant in input()]\n",
    "ants = g1 + g2\n",
    "T = int(input())\n",
    "\n",
    "for _ in range(T):\n",
    "    i = 0\n",
    "    while i < len(ants) - 1:\n",
    "        if ants[i]['group'] < ants[i + 1]['group']:\n",
    "            ants[i], ants[i + 1] = ants[i + 1], ants[i]\n",
    "            i += 1\n",
    "        i += 1\n",
    "        \n",
    "print(\"\".join([ant['name'] for ant in ants]))"
   ]
  },
  {
   "cell_type": "code",
   "execution_count": null,
   "metadata": {},
   "outputs": [],
   "source": []
  }
 ],
 "metadata": {
  "kernelspec": {
   "display_name": "Python 3",
   "language": "python",
   "name": "python3"
  },
  "language_info": {
   "codemirror_mode": {
    "name": "ipython",
    "version": 3
   },
   "file_extension": ".py",
   "mimetype": "text/x-python",
   "name": "python",
   "nbconvert_exporter": "python",
   "pygments_lexer": "ipython3",
   "version": "3.7.3"
  }
 },
 "nbformat": 4,
 "nbformat_minor": 4
}
