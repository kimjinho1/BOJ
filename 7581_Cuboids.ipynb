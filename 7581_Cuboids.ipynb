{
 "cells": [
  {
   "cell_type": "code",
   "execution_count": 2,
   "id": "optical-wrong",
   "metadata": {
    "ExecuteTime": {
     "end_time": "2021-02-17T05:08:27.569535Z",
     "start_time": "2021-02-17T05:08:11.185055Z"
    }
   },
   "outputs": [
    {
     "name": "stdout",
     "output_type": "stream",
     "text": [
      "2 1 0 6\n",
      "2 1 3 6\n",
      "6 5 4 0\n",
      "6 5 4 120\n",
      "0 8 5 80\n",
      "2 8 5 80\n",
      "9 0 8 576\n",
      "9 8 8 576\n",
      "0 0 0 0\n"
     ]
    }
   ],
   "source": [
    "while 1:\n",
    "    l, w, h, v = map(int ,input().split())\n",
    "    if l == w == h == v == 0:\n",
    "        break\n",
    "    if l == 0:\n",
    "        l = (v//w//h)\n",
    "    elif w == 0:\n",
    "        w = (v//l//h)\n",
    "    elif h == 0:\n",
    "        h = (v//l//w)\n",
    "    elif v == 0:\n",
    "        v = (l*w*h)\n",
    "    print(l, w, h, v)"
   ]
  },
  {
   "cell_type": "code",
   "execution_count": null,
   "id": "victorian-assist",
   "metadata": {},
   "outputs": [],
   "source": []
  }
 ],
 "metadata": {
  "kernelspec": {
   "display_name": "Python 3",
   "language": "python",
   "name": "python3"
  },
  "language_info": {
   "codemirror_mode": {
    "name": "ipython",
    "version": 3
   },
   "file_extension": ".py",
   "mimetype": "text/x-python",
   "name": "python",
   "nbconvert_exporter": "python",
   "pygments_lexer": "ipython3",
   "version": "3.7.9"
  },
  "toc": {
   "base_numbering": 1,
   "nav_menu": {},
   "number_sections": true,
   "sideBar": true,
   "skip_h1_title": false,
   "title_cell": "Table of Contents",
   "title_sidebar": "Contents",
   "toc_cell": false,
   "toc_position": {},
   "toc_section_display": true,
   "toc_window_display": false
  },
  "varInspector": {
   "cols": {
    "lenName": 16,
    "lenType": 16,
    "lenVar": 40
   },
   "kernels_config": {
    "python": {
     "delete_cmd_postfix": "",
     "delete_cmd_prefix": "del ",
     "library": "var_list.py",
     "varRefreshCmd": "print(var_dic_list())"
    },
    "r": {
     "delete_cmd_postfix": ") ",
     "delete_cmd_prefix": "rm(",
     "library": "var_list.r",
     "varRefreshCmd": "cat(var_dic_list()) "
    }
   },
   "types_to_exclude": [
    "module",
    "function",
    "builtin_function_or_method",
    "instance",
    "_Feature"
   ],
   "window_display": false
  }
 },
 "nbformat": 4,
 "nbformat_minor": 5
}
