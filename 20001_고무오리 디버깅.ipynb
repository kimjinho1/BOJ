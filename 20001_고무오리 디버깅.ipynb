{
 "cells": [
  {
   "cell_type": "code",
   "execution_count": 3,
   "metadata": {
    "ExecuteTime": {
     "end_time": "2021-03-05T19:06:30.859364Z",
     "start_time": "2021-03-05T19:06:20.401886Z"
    }
   },
   "outputs": [
    {
     "name": "stdout",
     "output_type": "stream",
     "text": [
      "고무오리 디버깅 시작\n",
      "문제\n",
      "고무오리\n",
      "문제\n",
      "문제\n",
      "고무오리\n",
      "고무오리\n",
      "고무오리 디버깅 끝\n",
      "고무오리야 사랑해\n"
     ]
    }
   ],
   "source": [
    "from collections import deque\n",
    "\n",
    "_ = input()\n",
    "stack = deque()\n",
    "while 1:\n",
    "    s = input()\n",
    "    if s == \"고무오리 디버깅 끝\":\n",
    "        break\n",
    "    if s == \"문제\":\n",
    "        stack.append(1)\n",
    "    elif stack and s == \"고무오리\":\n",
    "        stack.pop()\n",
    "    else:\n",
    "        stack.append(1); stack.append(1)\n",
    "print(\"고무오리야 사랑해\" if not stack else \"힝구\")"
   ]
  },
  {
   "cell_type": "code",
   "execution_count": 4,
   "metadata": {
    "ExecuteTime": {
     "end_time": "2021-03-05T19:06:47.153486Z",
     "start_time": "2021-03-05T19:06:36.493867Z"
    }
   },
   "outputs": [
    {
     "name": "stdout",
     "output_type": "stream",
     "text": [
      "고무오리 디버깅 시작\n",
      "고무오리\n",
      "고무오리\n",
      "고무오리\n",
      "고무오리 디버깅 끝\n",
      "고무오리야 사랑해\n"
     ]
    }
   ],
   "source": [
    "from collections import deque\n",
    "\n",
    "_ = input()\n",
    "stack = deque()\n",
    "while 1:\n",
    "    s = input()\n",
    "    if s == \"고무오리 디버깅 끝\":\n",
    "        break\n",
    "    if s == \"문제\":\n",
    "        stack.append(1)\n",
    "    elif stack and s == \"고무오리\":\n",
    "        stack.pop()\n",
    "    else:\n",
    "        stack.append(1); stack.append(1)\n",
    "print(\"고무오리야 사랑해\" if not stack else \"힝구\")"
   ]
  },
  {
   "cell_type": "code",
   "execution_count": 5,
   "metadata": {
    "ExecuteTime": {
     "end_time": "2021-03-05T19:07:10.060994Z",
     "start_time": "2021-03-05T19:06:53.257491Z"
    }
   },
   "outputs": [
    {
     "name": "stdout",
     "output_type": "stream",
     "text": [
      "고무오리 디버깅 시작\n",
      "문제\n",
      "문제\n",
      "고무오리\n",
      "고무오리\n",
      "고무오리\n",
      "문제\n",
      "고무오리\n",
      "문제\n",
      "고무오리\n",
      "고무오리\n",
      "고무오리\n",
      "고무오리 디버깅 끝\n",
      "고무오리야 사랑해\n"
     ]
    }
   ],
   "source": [
    "from collections import deque\n",
    "\n",
    "_ = input()\n",
    "stack = deque()\n",
    "while 1:\n",
    "    s = input()\n",
    "    if s == \"고무오리 디버깅 끝\":\n",
    "        break\n",
    "    if s == \"문제\":\n",
    "        stack.append(1)\n",
    "    elif stack and s == \"고무오리\":\n",
    "        stack.pop()\n",
    "    else:\n",
    "        stack.append(1); stack.append(1)\n",
    "print(\"고무오리야 사랑해\" if not stack else \"힝구\")"
   ]
  },
  {
   "cell_type": "code",
   "execution_count": 6,
   "metadata": {
    "ExecuteTime": {
     "end_time": "2021-03-05T19:07:21.282978Z",
     "start_time": "2021-03-05T19:07:13.531720Z"
    }
   },
   "outputs": [
    {
     "name": "stdout",
     "output_type": "stream",
     "text": [
      "고무오리 디버깅 시작\n",
      "고무오리\n",
      "고무오리 디버깅 끝\n",
      "힝구\n"
     ]
    }
   ],
   "source": [
    "from collections import deque\n",
    "\n",
    "_ = input()\n",
    "stack = deque()\n",
    "while 1:\n",
    "    s = input()\n",
    "    if s == \"고무오리 디버깅 끝\":\n",
    "        break\n",
    "    if s == \"문제\":\n",
    "        stack.append(1)\n",
    "    elif stack and s == \"고무오리\":\n",
    "        stack.pop()\n",
    "    else:\n",
    "        stack.append(1); stack.append(1)\n",
    "print(\"고무오리야 사랑해\" if not stack else \"힝구\")"
   ]
  },
  {
   "cell_type": "code",
   "execution_count": null,
   "metadata": {},
   "outputs": [],
   "source": []
  }
 ],
 "metadata": {
  "kernelspec": {
   "display_name": "Python 3",
   "language": "python",
   "name": "python3"
  },
  "language_info": {
   "codemirror_mode": {
    "name": "ipython",
    "version": 3
   },
   "file_extension": ".py",
   "mimetype": "text/x-python",
   "name": "python",
   "nbconvert_exporter": "python",
   "pygments_lexer": "ipython3",
   "version": "3.8.5"
  },
  "toc": {
   "base_numbering": 1,
   "nav_menu": {},
   "number_sections": true,
   "sideBar": true,
   "skip_h1_title": false,
   "title_cell": "Table of Contents",
   "title_sidebar": "Contents",
   "toc_cell": false,
   "toc_position": {},
   "toc_section_display": true,
   "toc_window_display": false
  },
  "varInspector": {
   "cols": {
    "lenName": 16,
    "lenType": 16,
    "lenVar": 40
   },
   "kernels_config": {
    "python": {
     "delete_cmd_postfix": "",
     "delete_cmd_prefix": "del ",
     "library": "var_list.py",
     "varRefreshCmd": "print(var_dic_list())"
    },
    "r": {
     "delete_cmd_postfix": ") ",
     "delete_cmd_prefix": "rm(",
     "library": "var_list.r",
     "varRefreshCmd": "cat(var_dic_list()) "
    }
   },
   "types_to_exclude": [
    "module",
    "function",
    "builtin_function_or_method",
    "instance",
    "_Feature"
   ],
   "window_display": false
  }
 },
 "nbformat": 4,
 "nbformat_minor": 4
}
