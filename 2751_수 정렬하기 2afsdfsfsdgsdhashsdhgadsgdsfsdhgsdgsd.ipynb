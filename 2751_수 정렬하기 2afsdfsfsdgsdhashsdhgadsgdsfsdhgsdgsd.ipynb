{
 "cells": [
  {
   "cell_type": "code",
   "execution_count": 2,
   "metadata": {},
   "outputs": [
    {
     "ename": "NameError",
     "evalue": "name 'test' is not defined",
     "output_type": "error",
     "traceback": [
      "\u001b[1;31m---------------------------------------------------------------------------\u001b[0m",
      "\u001b[1;31mNameError\u001b[0m                                 Traceback (most recent call last)",
      "\u001b[1;32m<ipython-input-2-0e0626e61ae1>\u001b[0m in \u001b[0;36m<module>\u001b[1;34m\u001b[0m\n\u001b[0;32m     31\u001b[0m         \u001b[0mn\u001b[0m \u001b[1;33m=\u001b[0m \u001b[0mn\u001b[0m \u001b[1;33m-\u001b[0m \u001b[1;36m1\u001b[0m\u001b[1;33m\u001b[0m\u001b[1;33m\u001b[0m\u001b[0m\n\u001b[0;32m     32\u001b[0m         \u001b[0mheapify\u001b[0m\u001b[1;33m(\u001b[0m\u001b[0mx\u001b[0m\u001b[1;33m,\u001b[0m \u001b[0mn\u001b[0m\u001b[1;33m,\u001b[0m \u001b[1;36m0\u001b[0m\u001b[1;33m)\u001b[0m\u001b[1;33m\u001b[0m\u001b[1;33m\u001b[0m\u001b[0m\n\u001b[1;32m---> 33\u001b[1;33m \u001b[0mheap_sort\u001b[0m\u001b[1;33m(\u001b[0m\u001b[0mtest\u001b[0m\u001b[1;33m)\u001b[0m\u001b[1;33m\u001b[0m\u001b[1;33m\u001b[0m\u001b[0m\n\u001b[0m\u001b[0;32m     34\u001b[0m \u001b[1;32mfor\u001b[0m \u001b[0mi\u001b[0m \u001b[1;32min\u001b[0m \u001b[0mtest\u001b[0m\u001b[1;33m:\u001b[0m\u001b[1;33m\u001b[0m\u001b[1;33m\u001b[0m\u001b[0m\n\u001b[0;32m     35\u001b[0m     \u001b[0mprint\u001b[0m\u001b[1;33m(\u001b[0m\u001b[0mi\u001b[0m\u001b[1;33m)\u001b[0m\u001b[1;33m\u001b[0m\u001b[1;33m\u001b[0m\u001b[0m\n",
      "\u001b[1;31mNameError\u001b[0m: name 'test' is not defined"
     ]
    }
   ],
   "source": [
    "import sys\n",
    "test = [int(sys.stdin.readline()) for _ in range(int(sys.stdin.readline()))]\n",
    "\n",
    "def make_heap(x):\n",
    "    for k in reversed(range(len(x) // 2)):\n",
    "        heapify(x, len(x), k)\n",
    "        \n",
    "def heapify(x, n, k):\n",
    "    left = 2*k + 1\n",
    "    right = 2 * k + 2\n",
    "\n",
    "    # 부모와 자식간의 크기 비교\n",
    "    if(x[k] > x[left] and left < n):\n",
    "        m = k\n",
    "    else:\n",
    "        m = left\n",
    "\n",
    "    if(right < n and x[m] < x[right]):\n",
    "        m = right\n",
    "\n",
    "    # 부모가 바뀐 경우.\n",
    "    if k != m:\n",
    "        x[k], x[m] = x[m], x[k]\n",
    "        k = m\n",
    "        heapify(x, n, k)\n",
    "        \n",
    "def heap_sort(x):\n",
    "    make_heap(x)\n",
    "    n = len(x)\n",
    "    for k in range(len(x) - 1):\n",
    "        x[0], x[n-1] = x[n-1], x[0]\n",
    "        n = n - 1\n",
    "        heapify(x, n, 0)\n",
    "heap_sort(test)\n",
    "for i in test:\n",
    "    print(i)"
   ]
  },
  {
   "cell_type": "code",
   "execution_count": null,
   "metadata": {},
   "outputs": [],
   "source": []
  }
 ],
 "metadata": {
  "kernelspec": {
   "display_name": "Python 3",
   "language": "python",
   "name": "python3"
  },
  "language_info": {
   "codemirror_mode": {
    "name": "ipython",
    "version": 3
   },
   "file_extension": ".py",
   "mimetype": "text/x-python",
   "name": "python",
   "nbconvert_exporter": "python",
   "pygments_lexer": "ipython3",
   "version": "3.6.8"
  }
 },
 "nbformat": 4,
 "nbformat_minor": 2
}
