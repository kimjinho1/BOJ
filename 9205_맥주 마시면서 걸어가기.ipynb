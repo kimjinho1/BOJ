{
 "cells": [
  {
   "cell_type": "code",
   "execution_count": 18,
   "metadata": {
    "ExecuteTime": {
     "end_time": "2021-03-11T17:03:56.254191Z",
     "start_time": "2021-03-11T17:03:37.252583Z"
    }
   },
   "outputs": [
    {
     "name": "stdout",
     "output_type": "stream",
     "text": [
      "2\n",
      "2\n",
      "0 0\n",
      "1000 0\n",
      "1000 1000\n",
      "2000 1000\n",
      "happy\n",
      "2\n",
      "0 0\n",
      "1000 0\n",
      "2000 1000\n",
      "2000 2000\n",
      "sad\n"
     ]
    }
   ],
   "source": [
    "def make_graph():\n",
    "    for i in range(n+2):\n",
    "        for j in range(n+2):\n",
    "            if i == j:\n",
    "                continue\n",
    "            if abs(li[i][0]-li[j][0]) + abs(li[i][1]-li[j][1]) <= 1000:\n",
    "                graph[i][j] = 1\n",
    "                graph[j][i] = 1\n",
    "\n",
    "def dfs(node):\n",
    "    check[node] = 1\n",
    "    for i in range(n+2):\n",
    "        if graph[node][i] == 1 and check[i] == 0:\n",
    "            dfs(i)\n",
    "        \n",
    "for _ in range(int(input())):\n",
    "    n = int(input())\n",
    "    li = [list(map(int, input().split())) for i in range(n+2)]\n",
    "    graph = [[0]*(n+2) for i in range(n+2)]\n",
    "    check = [0]*(n+2)\n",
    "    make_graph()\n",
    "    dfs(0)\n",
    "    print(\"happy\" if check[-1] else \"sad\")"
   ]
  },
  {
   "cell_type": "code",
   "execution_count": 17,
   "metadata": {
    "ExecuteTime": {
     "end_time": "2021-03-11T17:02:39.327540Z",
     "start_time": "2021-03-11T17:02:26.085591Z"
    }
   },
   "outputs": [
    {
     "name": "stdout",
     "output_type": "stream",
     "text": [
      "2\n",
      "2\n",
      "0 0\n",
      "1000 0\n",
      "1000 1000\n",
      "2000 1000\n",
      "happy\n",
      "2\n",
      "0 0\n",
      "1000 0\n",
      "2000 1000\n",
      "2000 2000\n",
      "sad\n"
     ]
    }
   ],
   "source": [
    "from collections import deque\n",
    "\n",
    "def make_graph():\n",
    "    for i in range(n+2):\n",
    "        for j in range(n+2):\n",
    "            if i == j:\n",
    "                continue\n",
    "            if abs(li[i][0]-li[j][0]) + abs(li[i][1]-li[j][1]) <= 1000:\n",
    "                graph[i][j] = 1\n",
    "                graph[j][i] = 1\n",
    "\n",
    "def bfs(node):\n",
    "    queue = deque()\n",
    "    queue.append(0)\n",
    "    while queue:\n",
    "        node = queue.popleft()\n",
    "        for i in range(n+2):\n",
    "            if graph[node][i] == 1 and check[i] == 0:\n",
    "                check[i] = 1\n",
    "                queue.append(i)\n",
    "        \n",
    "for _ in range(int(input())):\n",
    "    n = int(input())\n",
    "    li = [list(map(int, input().split())) for i in range(n+2)]\n",
    "    graph = [[0]*(n+2) for i in range(n+2)]\n",
    "    check = [0]*(n+2)\n",
    "    make_graph()\n",
    "    check[0] = 1\n",
    "    bfs(0)\n",
    "    print(\"happy\" if check[-1] else \"sad\")"
   ]
  },
  {
   "cell_type": "code",
   "execution_count": null,
   "metadata": {},
   "outputs": [],
   "source": []
  }
 ],
 "metadata": {
  "kernelspec": {
   "display_name": "Python 3",
   "language": "python",
   "name": "python3"
  },
  "language_info": {
   "codemirror_mode": {
    "name": "ipython",
    "version": 3
   },
   "file_extension": ".py",
   "mimetype": "text/x-python",
   "name": "python",
   "nbconvert_exporter": "python",
   "pygments_lexer": "ipython3",
   "version": "3.8.5"
  },
  "toc": {
   "base_numbering": 1,
   "nav_menu": {},
   "number_sections": true,
   "sideBar": true,
   "skip_h1_title": false,
   "title_cell": "Table of Contents",
   "title_sidebar": "Contents",
   "toc_cell": false,
   "toc_position": {},
   "toc_section_display": true,
   "toc_window_display": false
  },
  "varInspector": {
   "cols": {
    "lenName": 16,
    "lenType": 16,
    "lenVar": 40
   },
   "kernels_config": {
    "python": {
     "delete_cmd_postfix": "",
     "delete_cmd_prefix": "del ",
     "library": "var_list.py",
     "varRefreshCmd": "print(var_dic_list())"
    },
    "r": {
     "delete_cmd_postfix": ") ",
     "delete_cmd_prefix": "rm(",
     "library": "var_list.r",
     "varRefreshCmd": "cat(var_dic_list()) "
    }
   },
   "types_to_exclude": [
    "module",
    "function",
    "builtin_function_or_method",
    "instance",
    "_Feature"
   ],
   "window_display": false
  }
 },
 "nbformat": 4,
 "nbformat_minor": 4
}
