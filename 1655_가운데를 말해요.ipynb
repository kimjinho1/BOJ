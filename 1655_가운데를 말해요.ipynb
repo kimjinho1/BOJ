{
 "cells": [
  {
   "cell_type": "code",
   "execution_count": null,
   "metadata": {},
   "outputs": [],
   "source": [
    "import heapq\n",
    "import sys\n",
    "input = sys.stdin.readline\n",
    "\n",
    "N = int(input()) \n",
    "leftq, rightq = [], []\n",
    "for _ in range(N):\n",
    "    n = int(input())\n",
    "    if len(leftq) == len(rightq):\n",
    "        heapq.heappush(leftq, (-n, n))\n",
    "    else:\n",
    "        heapq.heappush(rightq, (n, n))\n",
    "    if rightq and leftq[0][1] > rightq[0][1]:\n",
    "        left, right = heapq.heappop(leftq)[1], heapq.heappop(rightq)[1]\n",
    "        heapq.heappush(leftq, (-right, right))\n",
    "        heapq.heappush(rightq, (left, left))\n",
    "    print(leftq[0][1])"
   ]
  },
  {
   "cell_type": "code",
   "execution_count": 8,
   "metadata": {
    "ExecuteTime": {
     "end_time": "2021-03-22T11:30:58.873800Z",
     "start_time": "2021-03-22T11:30:46.586181Z"
    }
   },
   "outputs": [
    {
     "name": "stdout",
     "output_type": "stream",
     "text": [
      "7\n",
      "1\n",
      "1\n",
      "5\n",
      "1\n",
      "2\n",
      "2\n",
      "10\n",
      "2\n",
      "-99\n",
      "2\n",
      "7\n",
      "2\n",
      "5\n",
      "5\n"
     ]
    }
   ],
   "source": [
    "import heapq\n",
    "\n",
    "N = int(input()) \n",
    "leftq, rightq = [], []\n",
    "for _ in range(N):\n",
    "    n = int(input())\n",
    "    if len(leftq) == len(rightq):\n",
    "        heapq.heappush(leftq, (-n, n))\n",
    "    else:\n",
    "        heapq.heappush(rightq, (n, n))\n",
    "    if rightq and leftq[0][1] > rightq[0][1]:\n",
    "        left, right = heapq.heappop(leftq)[1], heapq.heappop(rightq)[1]\n",
    "        heapq.heappush(leftq, (-right, right))\n",
    "        heapq.heappush(rightq, (left, left))\n",
    "    print(leftq[0][1])"
   ]
  },
  {
   "cell_type": "code",
   "execution_count": null,
   "metadata": {},
   "outputs": [],
   "source": []
  }
 ],
 "metadata": {
  "kernelspec": {
   "display_name": "Python 3",
   "language": "python",
   "name": "python3"
  },
  "language_info": {
   "codemirror_mode": {
    "name": "ipython",
    "version": 3
   },
   "file_extension": ".py",
   "mimetype": "text/x-python",
   "name": "python",
   "nbconvert_exporter": "python",
   "pygments_lexer": "ipython3",
   "version": "3.8.5"
  },
  "toc": {
   "base_numbering": 1,
   "nav_menu": {},
   "number_sections": true,
   "sideBar": true,
   "skip_h1_title": false,
   "title_cell": "Table of Contents",
   "title_sidebar": "Contents",
   "toc_cell": false,
   "toc_position": {},
   "toc_section_display": true,
   "toc_window_display": false
  },
  "varInspector": {
   "cols": {
    "lenName": 16,
    "lenType": 16,
    "lenVar": 40
   },
   "kernels_config": {
    "python": {
     "delete_cmd_postfix": "",
     "delete_cmd_prefix": "del ",
     "library": "var_list.py",
     "varRefreshCmd": "print(var_dic_list())"
    },
    "r": {
     "delete_cmd_postfix": ") ",
     "delete_cmd_prefix": "rm(",
     "library": "var_list.r",
     "varRefreshCmd": "cat(var_dic_list()) "
    }
   },
   "types_to_exclude": [
    "module",
    "function",
    "builtin_function_or_method",
    "instance",
    "_Feature"
   ],
   "window_display": false
  }
 },
 "nbformat": 4,
 "nbformat_minor": 4
}
