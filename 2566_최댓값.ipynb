{
 "cells": [
  {
   "cell_type": "code",
   "execution_count": 3,
   "id": "alternate-heather",
   "metadata": {
    "ExecuteTime": {
     "end_time": "2021-02-11T09:29:13.439571Z",
     "start_time": "2021-02-11T09:28:53.729186Z"
    }
   },
   "outputs": [
    {
     "name": "stdout",
     "output_type": "stream",
     "text": [
      "3 23 85 34 17 74 25 52 65\n",
      "10 7 39 42 88 52 14 72 63\n",
      "87 42 18 78 53 45 18 84 53\n",
      "34 28 64 85 12 16 75 36 55\n",
      "21 77 45 35 28 75 90 76 1\n",
      "25 87 65 15 28 11 37 28 74\n",
      "65 27 75 41 7 89 78 64 39\n",
      "47 47 70 45 23 65 3 41 44\n",
      "87 13 82 38 31 12 29 29 80\n",
      "90\n",
      "5 7\n"
     ]
    }
   ],
   "source": [
    "max_n = max_i = max_j = 0\n",
    "for i in range(1, 10):\n",
    "    li = list(map(int, input().split()))\n",
    "    n = max(li)\n",
    "    if max_n < n:\n",
    "        max_n = n\n",
    "        max_i = i\n",
    "        max_j = li.index(max(li)) + 1\n",
    "print(max_n)\n",
    "print(max_i, max_j)"
   ]
  },
  {
   "cell_type": "code",
   "execution_count": null,
   "id": "durable-briefs",
   "metadata": {},
   "outputs": [],
   "source": []
  }
 ],
 "metadata": {
  "kernelspec": {
   "display_name": "Python 3",
   "language": "python",
   "name": "python3"
  },
  "language_info": {
   "codemirror_mode": {
    "name": "ipython",
    "version": 3
   },
   "file_extension": ".py",
   "mimetype": "text/x-python",
   "name": "python",
   "nbconvert_exporter": "python",
   "pygments_lexer": "ipython3",
   "version": "3.7.9"
  },
  "toc": {
   "base_numbering": 1,
   "nav_menu": {},
   "number_sections": true,
   "sideBar": true,
   "skip_h1_title": false,
   "title_cell": "Table of Contents",
   "title_sidebar": "Contents",
   "toc_cell": false,
   "toc_position": {},
   "toc_section_display": true,
   "toc_window_display": false
  },
  "varInspector": {
   "cols": {
    "lenName": 16,
    "lenType": 16,
    "lenVar": 40
   },
   "kernels_config": {
    "python": {
     "delete_cmd_postfix": "",
     "delete_cmd_prefix": "del ",
     "library": "var_list.py",
     "varRefreshCmd": "print(var_dic_list())"
    },
    "r": {
     "delete_cmd_postfix": ") ",
     "delete_cmd_prefix": "rm(",
     "library": "var_list.r",
     "varRefreshCmd": "cat(var_dic_list()) "
    }
   },
   "types_to_exclude": [
    "module",
    "function",
    "builtin_function_or_method",
    "instance",
    "_Feature"
   ],
   "window_display": false
  }
 },
 "nbformat": 4,
 "nbformat_minor": 5
}
