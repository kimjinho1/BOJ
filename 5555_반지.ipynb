{
 "cells": [
  {
   "cell_type": "code",
   "execution_count": 5,
   "id": "affecting-surgeon",
   "metadata": {
    "ExecuteTime": {
     "end_time": "2021-02-22T18:26:37.145780Z",
     "start_time": "2021-02-22T18:26:29.180863Z"
    }
   },
   "outputs": [
    {
     "name": "stdout",
     "output_type": "stream",
     "text": [
      "ABCD\n",
      "3\n",
      "ABCDXXXXXX\n",
      "YYYYABCDXX\n",
      "DCBAZZZZZZ\n",
      "2\n"
     ]
    }
   ],
   "source": [
    "t = input()\n",
    "cnt = 0\n",
    "for _ in range(int(input())):\n",
    "    s = input()\n",
    "    if t in s*2:\n",
    "        cnt += 1\n",
    "print(cnt)"
   ]
  },
  {
   "cell_type": "code",
   "execution_count": 6,
   "id": "similar-professional",
   "metadata": {
    "ExecuteTime": {
     "end_time": "2021-02-22T18:26:51.121406Z",
     "start_time": "2021-02-22T18:26:46.106817Z"
    }
   },
   "outputs": [
    {
     "name": "stdout",
     "output_type": "stream",
     "text": [
      "XYZ\n",
      "1\n",
      "ZAAAAAAAXY\n",
      "1\n"
     ]
    }
   ],
   "source": [
    "t = input()\n",
    "cnt = 0\n",
    "for _ in range(int(input())):\n",
    "    s = input()\n",
    "    if t in s*2:\n",
    "        cnt += 1\n",
    "print(cnt)"
   ]
  },
  {
   "cell_type": "code",
   "execution_count": 7,
   "id": "temporal-mirror",
   "metadata": {
    "ExecuteTime": {
     "end_time": "2021-02-22T18:27:05.598690Z",
     "start_time": "2021-02-22T18:26:58.159583Z"
    }
   },
   "outputs": [
    {
     "name": "stdout",
     "output_type": "stream",
     "text": [
      "PQR\n",
      "3\n",
      "PQRAAAAPQR\n",
      "BBPQRBBBBB\n",
      "CCCCCCCCCC\n",
      "2\n"
     ]
    }
   ],
   "source": [
    "t = input()\n",
    "cnt = 0\n",
    "for _ in range(int(input())):\n",
    "    s = input()\n",
    "    if t in s*2:\n",
    "        cnt += 1\n",
    "print(cnt)"
   ]
  },
  {
   "cell_type": "code",
   "execution_count": null,
   "id": "banned-huntington",
   "metadata": {},
   "outputs": [],
   "source": []
  }
 ],
 "metadata": {
  "kernelspec": {
   "display_name": "Python 3",
   "language": "python",
   "name": "python3"
  },
  "language_info": {
   "codemirror_mode": {
    "name": "ipython",
    "version": 3
   },
   "file_extension": ".py",
   "mimetype": "text/x-python",
   "name": "python",
   "nbconvert_exporter": "python",
   "pygments_lexer": "ipython3",
   "version": "3.7.9"
  },
  "toc": {
   "base_numbering": 1,
   "nav_menu": {},
   "number_sections": true,
   "sideBar": true,
   "skip_h1_title": false,
   "title_cell": "Table of Contents",
   "title_sidebar": "Contents",
   "toc_cell": false,
   "toc_position": {},
   "toc_section_display": true,
   "toc_window_display": false
  },
  "varInspector": {
   "cols": {
    "lenName": 16,
    "lenType": 16,
    "lenVar": 40
   },
   "kernels_config": {
    "python": {
     "delete_cmd_postfix": "",
     "delete_cmd_prefix": "del ",
     "library": "var_list.py",
     "varRefreshCmd": "print(var_dic_list())"
    },
    "r": {
     "delete_cmd_postfix": ") ",
     "delete_cmd_prefix": "rm(",
     "library": "var_list.r",
     "varRefreshCmd": "cat(var_dic_list()) "
    }
   },
   "types_to_exclude": [
    "module",
    "function",
    "builtin_function_or_method",
    "instance",
    "_Feature"
   ],
   "window_display": false
  }
 },
 "nbformat": 4,
 "nbformat_minor": 5
}
