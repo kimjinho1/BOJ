{
 "cells": [
  {
   "cell_type": "code",
   "execution_count": 3,
   "id": "understood-victory",
   "metadata": {
    "ExecuteTime": {
     "end_time": "2021-02-15T18:57:11.828080Z",
     "start_time": "2021-02-15T18:57:06.195143Z"
    }
   },
   "outputs": [
    {
     "name": "stdout",
     "output_type": "stream",
     "text": [
      "20\n",
      "30\n",
      "50\n",
      "48\n",
      "33\n",
      "66\n",
      "0\n",
      "64\n",
      "261\n",
      "3 4 5 6 8\n"
     ]
    }
   ],
   "source": [
    "li = [int(input()) for _ in range(8)]\n",
    "sorted_li = sorted(li, reverse=True)\n",
    "t = sum(sorted_li[:5])\n",
    "idx_li = sorted([li.index(sorted_li[i])+1 for i in range(5)])\n",
    "print(t)\n",
    "print(*idx_li)"
   ]
  },
  {
   "cell_type": "code",
   "execution_count": null,
   "id": "august-gasoline",
   "metadata": {},
   "outputs": [],
   "source": []
  }
 ],
 "metadata": {
  "kernelspec": {
   "display_name": "Python 3",
   "language": "python",
   "name": "python3"
  },
  "language_info": {
   "codemirror_mode": {
    "name": "ipython",
    "version": 3
   },
   "file_extension": ".py",
   "mimetype": "text/x-python",
   "name": "python",
   "nbconvert_exporter": "python",
   "pygments_lexer": "ipython3",
   "version": "3.7.9"
  },
  "toc": {
   "base_numbering": 1,
   "nav_menu": {},
   "number_sections": true,
   "sideBar": true,
   "skip_h1_title": false,
   "title_cell": "Table of Contents",
   "title_sidebar": "Contents",
   "toc_cell": false,
   "toc_position": {},
   "toc_section_display": true,
   "toc_window_display": false
  },
  "varInspector": {
   "cols": {
    "lenName": 16,
    "lenType": 16,
    "lenVar": 40
   },
   "kernels_config": {
    "python": {
     "delete_cmd_postfix": "",
     "delete_cmd_prefix": "del ",
     "library": "var_list.py",
     "varRefreshCmd": "print(var_dic_list())"
    },
    "r": {
     "delete_cmd_postfix": ") ",
     "delete_cmd_prefix": "rm(",
     "library": "var_list.r",
     "varRefreshCmd": "cat(var_dic_list()) "
    }
   },
   "types_to_exclude": [
    "module",
    "function",
    "builtin_function_or_method",
    "instance",
    "_Feature"
   ],
   "window_display": false
  }
 },
 "nbformat": 4,
 "nbformat_minor": 5
}
