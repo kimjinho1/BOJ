{
 "cells": [
  {
   "cell_type": "code",
   "execution_count": 5,
   "id": "central-cement",
   "metadata": {
    "ExecuteTime": {
     "end_time": "2021-02-13T10:46:46.679019Z",
     "start_time": "2021-02-13T10:46:39.294096Z"
    }
   },
   "outputs": [
    {
     "name": "stdout",
     "output_type": "stream",
     "text": [
      "1.00\n",
      "3 card(s)\n",
      "3.71\n",
      "61 card(s)\n",
      "0.04\n",
      "1 card(s)\n",
      "5.19\n",
      "273 card(s)\n",
      "0.00\n"
     ]
    }
   ],
   "source": [
    "while 1:\n",
    "    n = float(input())\n",
    "    if n == 0:\n",
    "        break\n",
    "    i = 2\n",
    "    t = 0\n",
    "    while t < n:\n",
    "        t += 1/i\n",
    "        i += 1\n",
    "    print(f\"{i-2} card(s)\")"
   ]
  },
  {
   "cell_type": "code",
   "execution_count": null,
   "id": "attended-month",
   "metadata": {},
   "outputs": [],
   "source": []
  }
 ],
 "metadata": {
  "kernelspec": {
   "display_name": "Python 3",
   "language": "python",
   "name": "python3"
  },
  "language_info": {
   "codemirror_mode": {
    "name": "ipython",
    "version": 3
   },
   "file_extension": ".py",
   "mimetype": "text/x-python",
   "name": "python",
   "nbconvert_exporter": "python",
   "pygments_lexer": "ipython3",
   "version": "3.7.9"
  },
  "toc": {
   "base_numbering": 1,
   "nav_menu": {},
   "number_sections": true,
   "sideBar": true,
   "skip_h1_title": false,
   "title_cell": "Table of Contents",
   "title_sidebar": "Contents",
   "toc_cell": false,
   "toc_position": {},
   "toc_section_display": true,
   "toc_window_display": false
  },
  "varInspector": {
   "cols": {
    "lenName": 16,
    "lenType": 16,
    "lenVar": 40
   },
   "kernels_config": {
    "python": {
     "delete_cmd_postfix": "",
     "delete_cmd_prefix": "del ",
     "library": "var_list.py",
     "varRefreshCmd": "print(var_dic_list())"
    },
    "r": {
     "delete_cmd_postfix": ") ",
     "delete_cmd_prefix": "rm(",
     "library": "var_list.r",
     "varRefreshCmd": "cat(var_dic_list()) "
    }
   },
   "types_to_exclude": [
    "module",
    "function",
    "builtin_function_or_method",
    "instance",
    "_Feature"
   ],
   "window_display": false
  }
 },
 "nbformat": 4,
 "nbformat_minor": 5
}
