{
 "cells": [
  {
   "cell_type": "code",
   "execution_count": 1,
   "metadata": {
    "ExecuteTime": {
     "end_time": "2021-02-25T11:34:03.656523Z",
     "start_time": "2021-02-25T11:34:02.938051Z"
    }
   },
   "outputs": [
    {
     "name": "stdout",
     "output_type": "stream",
     "text": [
      "10\n",
      "10\n"
     ]
    }
   ],
   "source": [
    "s = input()\n",
    "if '0x' in s:\n",
    "    print(int(s, 16))\n",
    "elif s[0] == '0':\n",
    "    print(int(s, 8))\n",
    "else:\n",
    "    print(int(s))"
   ]
  },
  {
   "cell_type": "code",
   "execution_count": 2,
   "metadata": {
    "ExecuteTime": {
     "end_time": "2021-02-25T11:34:09.573055Z",
     "start_time": "2021-02-25T11:34:08.906010Z"
    }
   },
   "outputs": [
    {
     "name": "stdout",
     "output_type": "stream",
     "text": [
      "010\n",
      "8\n"
     ]
    }
   ],
   "source": [
    "s = input()\n",
    "if '0x' in s:\n",
    "    print(int(s, 16))\n",
    "elif s[0] == '0':\n",
    "    print(int(s, 8))\n",
    "else:\n",
    "    print(int(s))"
   ]
  },
  {
   "cell_type": "code",
   "execution_count": 3,
   "metadata": {
    "ExecuteTime": {
     "end_time": "2021-02-25T11:34:11.894128Z",
     "start_time": "2021-02-25T11:34:11.021660Z"
    }
   },
   "outputs": [
    {
     "name": "stdout",
     "output_type": "stream",
     "text": [
      "0x10\n",
      "16\n"
     ]
    }
   ],
   "source": [
    "s = input()\n",
    "if '0x' in s:\n",
    "    print(int(s, 16))\n",
    "elif s[0] == '0':\n",
    "    print(int(s, 8))\n",
    "else:\n",
    "    print(int(s))"
   ]
  },
  {
   "cell_type": "code",
   "execution_count": 4,
   "metadata": {
    "ExecuteTime": {
     "end_time": "2021-02-25T11:34:19.152291Z",
     "start_time": "2021-02-25T11:34:17.037638Z"
    }
   },
   "outputs": [
    {
     "name": "stdout",
     "output_type": "stream",
     "text": [
      "0x3f6\n",
      "1014\n"
     ]
    }
   ],
   "source": [
    "s = input()\n",
    "if '0x' in s:\n",
    "    print(int(s, 16))\n",
    "elif s[0] == '0':\n",
    "    print(int(s, 8))\n",
    "else:\n",
    "    print(int(s))"
   ]
  },
  {
   "cell_type": "code",
   "execution_count": null,
   "metadata": {},
   "outputs": [],
   "source": []
  }
 ],
 "metadata": {
  "kernelspec": {
   "display_name": "Python 3",
   "language": "python",
   "name": "python3"
  },
  "language_info": {
   "codemirror_mode": {
    "name": "ipython",
    "version": 3
   },
   "file_extension": ".py",
   "mimetype": "text/x-python",
   "name": "python",
   "nbconvert_exporter": "python",
   "pygments_lexer": "ipython3",
   "version": "3.8.5"
  },
  "toc": {
   "base_numbering": 1,
   "nav_menu": {},
   "number_sections": true,
   "sideBar": true,
   "skip_h1_title": false,
   "title_cell": "Table of Contents",
   "title_sidebar": "Contents",
   "toc_cell": false,
   "toc_position": {},
   "toc_section_display": true,
   "toc_window_display": false
  },
  "varInspector": {
   "cols": {
    "lenName": 16,
    "lenType": 16,
    "lenVar": 40
   },
   "kernels_config": {
    "python": {
     "delete_cmd_postfix": "",
     "delete_cmd_prefix": "del ",
     "library": "var_list.py",
     "varRefreshCmd": "print(var_dic_list())"
    },
    "r": {
     "delete_cmd_postfix": ") ",
     "delete_cmd_prefix": "rm(",
     "library": "var_list.r",
     "varRefreshCmd": "cat(var_dic_list()) "
    }
   },
   "types_to_exclude": [
    "module",
    "function",
    "builtin_function_or_method",
    "instance",
    "_Feature"
   ],
   "window_display": false
  }
 },
 "nbformat": 4,
 "nbformat_minor": 4
}
