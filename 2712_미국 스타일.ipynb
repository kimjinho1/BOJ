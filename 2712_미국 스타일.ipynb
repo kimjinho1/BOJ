{
 "cells": [
  {
   "cell_type": "code",
   "execution_count": 3,
   "id": "finite-photograph",
   "metadata": {
    "ExecuteTime": {
     "end_time": "2021-02-24T08:34:37.586639Z",
     "start_time": "2021-02-24T08:34:24.484451Z"
    },
    "scrolled": true
   },
   "outputs": [
    {
     "name": "stdout",
     "output_type": "stream",
     "text": [
      "5\n",
      "1 kg\n",
      "2.2046 lb\n",
      "2 l\n",
      "0.5284 g\n",
      "7 lb\n",
      "3.1752 kg\n",
      "3.5 g\n",
      "13.2489 l\n",
      "0 l\n",
      "0.0000 g\n"
     ]
    }
   ],
   "source": [
    "for _ in range(int(input())):\n",
    "    n, s = input().split()\n",
    "    if s == \"kg\":\n",
    "        print(\"%.4f %s\" % (float(n)*2.2046, \"lb\"))\n",
    "    elif s == \"lb\":\n",
    "        print(\"%.4f %s\" % (float(n)*0.4536, \"kg\"))\n",
    "    elif s == \"l\":\n",
    "        print(\"%.4f %s\" % (float(n)*0.2642, \"g\"))\n",
    "    elif s == \"g\":\n",
    "        print(\"%.4f %s\" % (float(n)*3.7854, \"l\"))"
   ]
  },
  {
   "cell_type": "code",
   "execution_count": null,
   "id": "announced-first",
   "metadata": {},
   "outputs": [],
   "source": []
  }
 ],
 "metadata": {
  "kernelspec": {
   "display_name": "Python 3",
   "language": "python",
   "name": "python3"
  },
  "language_info": {
   "codemirror_mode": {
    "name": "ipython",
    "version": 3
   },
   "file_extension": ".py",
   "mimetype": "text/x-python",
   "name": "python",
   "nbconvert_exporter": "python",
   "pygments_lexer": "ipython3",
   "version": "3.7.9"
  },
  "toc": {
   "base_numbering": 1,
   "nav_menu": {},
   "number_sections": true,
   "sideBar": true,
   "skip_h1_title": false,
   "title_cell": "Table of Contents",
   "title_sidebar": "Contents",
   "toc_cell": false,
   "toc_position": {},
   "toc_section_display": true,
   "toc_window_display": false
  },
  "varInspector": {
   "cols": {
    "lenName": 16,
    "lenType": 16,
    "lenVar": 40
   },
   "kernels_config": {
    "python": {
     "delete_cmd_postfix": "",
     "delete_cmd_prefix": "del ",
     "library": "var_list.py",
     "varRefreshCmd": "print(var_dic_list())"
    },
    "r": {
     "delete_cmd_postfix": ") ",
     "delete_cmd_prefix": "rm(",
     "library": "var_list.r",
     "varRefreshCmd": "cat(var_dic_list()) "
    }
   },
   "types_to_exclude": [
    "module",
    "function",
    "builtin_function_or_method",
    "instance",
    "_Feature"
   ],
   "window_display": false
  }
 },
 "nbformat": 4,
 "nbformat_minor": 5
}
