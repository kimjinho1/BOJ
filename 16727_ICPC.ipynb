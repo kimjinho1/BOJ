{
 "cells": [
  {
   "cell_type": "code",
   "execution_count": 8,
   "metadata": {
    "ExecuteTime": {
     "end_time": "2021-02-07T09:14:21.960255Z",
     "start_time": "2021-02-07T09:14:20.757471Z"
    }
   },
   "outputs": [
    {
     "name": "stdout",
     "output_type": "stream",
     "text": [
      "3 0\n",
      "2 1\n",
      "Persepolis\n"
     ]
    }
   ],
   "source": [
    "p1, s1 = map(int, input().split())\n",
    "s2, p2 = map(int, input().split())\n",
    "p = p1+p2\n",
    "s = s1+s2\n",
    "if p == s:\n",
    "    if p1 == s2:\n",
    "        print(\"Penalty\")\n",
    "    elif p1 > s2:\n",
    "        print(\"Esteghlal\")        \n",
    "    else:\n",
    "        print(\"Persepolis\")\n",
    "elif p > s:\n",
    "    print(\"Persepolis\")\n",
    "else:\n",
    "    print(\"Esteghlal\")"
   ]
  },
  {
   "cell_type": "code",
   "execution_count": 7,
   "metadata": {
    "ExecuteTime": {
     "end_time": "2021-02-07T09:14:18.319990Z",
     "start_time": "2021-02-07T09:14:16.830968Z"
    }
   },
   "outputs": [
    {
     "name": "stdout",
     "output_type": "stream",
     "text": [
      "3 1\n",
      "2 0\n",
      "Esteghlal\n"
     ]
    }
   ],
   "source": [
    "p1, s1 = map(int, input().split())\n",
    "s2, p2 = map(int, input().split())\n",
    "p = p1+p2\n",
    "s = s1+s2\n",
    "if p == s:\n",
    "    if p1 == s2:\n",
    "        print(\"Penalty\")\n",
    "    elif p1 > s2:\n",
    "        print(\"Esteghlal\")        \n",
    "    else:\n",
    "        print(\"Persepolis\")\n",
    "elif p > s:\n",
    "    print(\"Persepolis\")\n",
    "else:\n",
    "    print(\"Esteghlal\")"
   ]
  },
  {
   "cell_type": "code",
   "execution_count": 9,
   "metadata": {
    "ExecuteTime": {
     "end_time": "2021-02-07T09:14:27.548325Z",
     "start_time": "2021-02-07T09:14:24.990152Z"
    }
   },
   "outputs": [
    {
     "name": "stdout",
     "output_type": "stream",
     "text": [
      "2 0\n",
      "2 0\n",
      "Penalty\n"
     ]
    }
   ],
   "source": [
    "p1, s1 = map(int, input().split())\n",
    "s2, p2 = map(int, input().split())\n",
    "p = p1+p2\n",
    "s = s1+s2\n",
    "if p == s:\n",
    "    if p1 == s2:\n",
    "        print(\"Penalty\")\n",
    "    elif p1 > s2:\n",
    "        print(\"Esteghlal\")        \n",
    "    else:\n",
    "        print(\"Persepolis\")\n",
    "elif p > s:\n",
    "    print(\"Persepolis\")\n",
    "else:\n",
    "    print(\"Esteghlal\")"
   ]
  },
  {
   "cell_type": "code",
   "execution_count": null,
   "metadata": {},
   "outputs": [],
   "source": []
  }
 ],
 "metadata": {
  "kernelspec": {
   "display_name": "Python 3",
   "language": "python",
   "name": "python3"
  },
  "language_info": {
   "codemirror_mode": {
    "name": "ipython",
    "version": 3
   },
   "file_extension": ".py",
   "mimetype": "text/x-python",
   "name": "python",
   "nbconvert_exporter": "python",
   "pygments_lexer": "ipython3",
   "version": "3.6.10"
  },
  "toc": {
   "base_numbering": 1,
   "nav_menu": {},
   "number_sections": true,
   "sideBar": true,
   "skip_h1_title": false,
   "title_cell": "Table of Contents",
   "title_sidebar": "Contents",
   "toc_cell": false,
   "toc_position": {},
   "toc_section_display": true,
   "toc_window_display": false
  },
  "varInspector": {
   "cols": {
    "lenName": 16,
    "lenType": 16,
    "lenVar": 40
   },
   "kernels_config": {
    "python": {
     "delete_cmd_postfix": "",
     "delete_cmd_prefix": "del ",
     "library": "var_list.py",
     "varRefreshCmd": "print(var_dic_list())"
    },
    "r": {
     "delete_cmd_postfix": ") ",
     "delete_cmd_prefix": "rm(",
     "library": "var_list.r",
     "varRefreshCmd": "cat(var_dic_list()) "
    }
   },
   "types_to_exclude": [
    "module",
    "function",
    "builtin_function_or_method",
    "instance",
    "_Feature"
   ],
   "window_display": false
  }
 },
 "nbformat": 4,
 "nbformat_minor": 4
}
