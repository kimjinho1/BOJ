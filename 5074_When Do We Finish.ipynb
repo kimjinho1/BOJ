{
 "cells": [
  {
   "cell_type": "code",
   "execution_count": 3,
   "id": "mexican-norman",
   "metadata": {
    "ExecuteTime": {
     "end_time": "2021-02-13T15:27:40.397542Z",
     "start_time": "2021-02-13T15:27:29.733355Z"
    }
   },
   "outputs": [
    {
     "name": "stdout",
     "output_type": "stream",
     "text": [
      "03:50 06:10\n",
      "10:00\n",
      "15:25 26:30\n",
      "17:55 +1\n",
      "23:59 00:01\n",
      "00:00 +1\n",
      "00:00 00:00\n"
     ]
    }
   ],
   "source": [
    "while 1:\n",
    "    s, d = input().split()\n",
    "    h1, m1 = map(int, s.split(':'))\n",
    "    h2, m2 = map(int, d.split(':'))\n",
    "    if h1 == m1 == h2 == m2 == 0:\n",
    "        break\n",
    "    t = h1*60+m1 + h2*60+m2\n",
    "    n = t//60//24\n",
    "    h = t//60 % 24\n",
    "    m = t%60\n",
    "    if n > 0:\n",
    "        print(\"%02d:%02d +%d\" % (h,m,n))\n",
    "    else:\n",
    "        print(\"%02d:%02d\" % (h,m))"
   ]
  },
  {
   "cell_type": "code",
   "execution_count": null,
   "id": "steady-store",
   "metadata": {},
   "outputs": [],
   "source": []
  }
 ],
 "metadata": {
  "kernelspec": {
   "display_name": "Python 3",
   "language": "python",
   "name": "python3"
  },
  "language_info": {
   "codemirror_mode": {
    "name": "ipython",
    "version": 3
   },
   "file_extension": ".py",
   "mimetype": "text/x-python",
   "name": "python",
   "nbconvert_exporter": "python",
   "pygments_lexer": "ipython3",
   "version": "3.7.9"
  },
  "toc": {
   "base_numbering": 1,
   "nav_menu": {},
   "number_sections": true,
   "sideBar": true,
   "skip_h1_title": false,
   "title_cell": "Table of Contents",
   "title_sidebar": "Contents",
   "toc_cell": false,
   "toc_position": {},
   "toc_section_display": true,
   "toc_window_display": false
  },
  "varInspector": {
   "cols": {
    "lenName": 16,
    "lenType": 16,
    "lenVar": 40
   },
   "kernels_config": {
    "python": {
     "delete_cmd_postfix": "",
     "delete_cmd_prefix": "del ",
     "library": "var_list.py",
     "varRefreshCmd": "print(var_dic_list())"
    },
    "r": {
     "delete_cmd_postfix": ") ",
     "delete_cmd_prefix": "rm(",
     "library": "var_list.r",
     "varRefreshCmd": "cat(var_dic_list()) "
    }
   },
   "types_to_exclude": [
    "module",
    "function",
    "builtin_function_or_method",
    "instance",
    "_Feature"
   ],
   "window_display": false
  }
 },
 "nbformat": 4,
 "nbformat_minor": 5
}
