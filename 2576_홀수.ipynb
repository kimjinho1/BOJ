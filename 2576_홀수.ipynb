{
 "cells": [
  {
   "cell_type": "code",
   "execution_count": 4,
   "id": "patient-overall",
   "metadata": {
    "ExecuteTime": {
     "end_time": "2021-02-11T09:33:43.119137Z",
     "start_time": "2021-02-11T09:33:37.772513Z"
    }
   },
   "outputs": [
    {
     "name": "stdout",
     "output_type": "stream",
     "text": [
      "12\n",
      "77\n",
      "38\n",
      "41\n",
      "53\n",
      "92\n",
      "85\n",
      "256\n",
      "41\n"
     ]
    }
   ],
   "source": [
    "odd_li = []\n",
    "for _ in range(7):\n",
    "    n = int(input())\n",
    "    if n%2:\n",
    "        odd_li.append(n)\n",
    "if odd_li:\n",
    "    print(sum(odd_li))\n",
    "    print(min(odd_li))\n",
    "else:\n",
    "    print(-1)"
   ]
  },
  {
   "cell_type": "code",
   "execution_count": 5,
   "id": "brutal-netscape",
   "metadata": {
    "ExecuteTime": {
     "end_time": "2021-02-11T09:33:57.143099Z",
     "start_time": "2021-02-11T09:33:51.415923Z"
    }
   },
   "outputs": [
    {
     "name": "stdout",
     "output_type": "stream",
     "text": [
      "2\n",
      "4\n",
      "20\n",
      "32\n",
      "6\n",
      "10\n",
      "8\n",
      "-1\n"
     ]
    }
   ],
   "source": [
    "odd_li = []\n",
    "for _ in range(7):\n",
    "    n = int(input())\n",
    "    if n%2:\n",
    "        odd_li.append(n)\n",
    "if odd_li:\n",
    "    print(sum(odd_li))\n",
    "    print(min(odd_li))\n",
    "else:\n",
    "    print(-1)"
   ]
  },
  {
   "cell_type": "code",
   "execution_count": null,
   "id": "empty-sleeping",
   "metadata": {},
   "outputs": [],
   "source": []
  }
 ],
 "metadata": {
  "kernelspec": {
   "display_name": "Python 3",
   "language": "python",
   "name": "python3"
  },
  "language_info": {
   "codemirror_mode": {
    "name": "ipython",
    "version": 3
   },
   "file_extension": ".py",
   "mimetype": "text/x-python",
   "name": "python",
   "nbconvert_exporter": "python",
   "pygments_lexer": "ipython3",
   "version": "3.7.9"
  },
  "toc": {
   "base_numbering": 1,
   "nav_menu": {},
   "number_sections": true,
   "sideBar": true,
   "skip_h1_title": false,
   "title_cell": "Table of Contents",
   "title_sidebar": "Contents",
   "toc_cell": false,
   "toc_position": {},
   "toc_section_display": true,
   "toc_window_display": false
  },
  "varInspector": {
   "cols": {
    "lenName": 16,
    "lenType": 16,
    "lenVar": 40
   },
   "kernels_config": {
    "python": {
     "delete_cmd_postfix": "",
     "delete_cmd_prefix": "del ",
     "library": "var_list.py",
     "varRefreshCmd": "print(var_dic_list())"
    },
    "r": {
     "delete_cmd_postfix": ") ",
     "delete_cmd_prefix": "rm(",
     "library": "var_list.r",
     "varRefreshCmd": "cat(var_dic_list()) "
    }
   },
   "types_to_exclude": [
    "module",
    "function",
    "builtin_function_or_method",
    "instance",
    "_Feature"
   ],
   "window_display": false
  }
 },
 "nbformat": 4,
 "nbformat_minor": 5
}
