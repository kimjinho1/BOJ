{
 "cells": [
  {
   "cell_type": "code",
   "execution_count": 1,
   "metadata": {
    "ExecuteTime": {
     "end_time": "2021-03-11T12:11:41.403693Z",
     "start_time": "2021-03-11T12:11:40.337124Z"
    }
   },
   "outputs": [
    {
     "name": "stdout",
     "output_type": "stream",
     "text": [
      "1\n",
      "1\n",
      "1 1\n",
      "1\n"
     ]
    }
   ],
   "source": [
    "from math import ceil\n",
    "\n",
    "N = int(input())\n",
    "li = list(map(int, input().split()))\n",
    "B, C = map(int, input().split())\n",
    "res = 0\n",
    "for n in li:\n",
    "    n -= B\n",
    "    res += 1\n",
    "    if n > 0:\n",
    "        res += ceil(n/C)\n",
    "print(res)"
   ]
  },
  {
   "cell_type": "code",
   "execution_count": 2,
   "metadata": {
    "ExecuteTime": {
     "end_time": "2021-03-11T12:11:47.179337Z",
     "start_time": "2021-03-11T12:11:45.021616Z"
    }
   },
   "outputs": [
    {
     "name": "stdout",
     "output_type": "stream",
     "text": [
      "3\n",
      "3 4 5\n",
      "2 2\n",
      "7\n"
     ]
    }
   ],
   "source": [
    "from math import ceil\n",
    "\n",
    "N = int(input())\n",
    "li = list(map(int, input().split()))\n",
    "B, C = map(int, input().split())\n",
    "res = 0\n",
    "for n in li:\n",
    "    n -= B\n",
    "    res += 1\n",
    "    if n > 0:\n",
    "        res += ceil(n/C)\n",
    "print(res)"
   ]
  },
  {
   "cell_type": "code",
   "execution_count": 4,
   "metadata": {
    "ExecuteTime": {
     "end_time": "2021-03-11T12:11:56.299079Z",
     "start_time": "2021-03-11T12:11:54.644310Z"
    }
   },
   "outputs": [
    {
     "name": "stdout",
     "output_type": "stream",
     "text": [
      "5\n",
      "1000000 1000000 1000000 1000000 1000000\n",
      "5 7\n",
      "714290\n"
     ]
    }
   ],
   "source": [
    "from math import ceil\n",
    "\n",
    "N = int(input())\n",
    "li = list(map(int, input().split()))\n",
    "B, C = map(int, input().split())\n",
    "res = 0\n",
    "for n in li:\n",
    "    n -= B\n",
    "    res += 1\n",
    "    if n > 0:\n",
    "        res += ceil(n/C)\n",
    "print(res)"
   ]
  },
  {
   "cell_type": "code",
   "execution_count": 5,
   "metadata": {
    "ExecuteTime": {
     "end_time": "2021-03-11T12:12:08.530898Z",
     "start_time": "2021-03-11T12:12:03.924711Z"
    }
   },
   "outputs": [
    {
     "name": "stdout",
     "output_type": "stream",
     "text": [
      "5\n",
      "10 9 10 9 10\n",
      "7 20\n",
      "10\n"
     ]
    }
   ],
   "source": [
    "from math import ceil\n",
    "\n",
    "N = int(input())\n",
    "li = list(map(int, input().split()))\n",
    "B, C = map(int, input().split())\n",
    "res = 0\n",
    "for n in li:\n",
    "    n -= B\n",
    "    res += 1\n",
    "    if n > 0:\n",
    "        res += ceil(n/C)\n",
    "print(res)"
   ]
  },
  {
   "cell_type": "code",
   "execution_count": 6,
   "metadata": {
    "ExecuteTime": {
     "end_time": "2021-03-11T12:12:18.996112Z",
     "start_time": "2021-03-11T12:12:13.219271Z"
    }
   },
   "outputs": [
    {
     "name": "stdout",
     "output_type": "stream",
     "text": [
      "5\n",
      "10 9 10 9 10\n",
      "7 2\n",
      "13\n"
     ]
    }
   ],
   "source": [
    "from math import ceil\n",
    "\n",
    "N = int(input())\n",
    "li = list(map(int, input().split()))\n",
    "B, C = map(int, input().split())\n",
    "res = 0\n",
    "for n in li:\n",
    "    n -= B\n",
    "    res += 1\n",
    "    if n > 0:\n",
    "        res += ceil(n/C)\n",
    "print(res)"
   ]
  },
  {
   "cell_type": "code",
   "execution_count": null,
   "metadata": {},
   "outputs": [],
   "source": []
  }
 ],
 "metadata": {
  "kernelspec": {
   "display_name": "Python 3",
   "language": "python",
   "name": "python3"
  },
  "language_info": {
   "codemirror_mode": {
    "name": "ipython",
    "version": 3
   },
   "file_extension": ".py",
   "mimetype": "text/x-python",
   "name": "python",
   "nbconvert_exporter": "python",
   "pygments_lexer": "ipython3",
   "version": "3.8.5"
  },
  "toc": {
   "base_numbering": 1,
   "nav_menu": {},
   "number_sections": true,
   "sideBar": true,
   "skip_h1_title": false,
   "title_cell": "Table of Contents",
   "title_sidebar": "Contents",
   "toc_cell": false,
   "toc_position": {},
   "toc_section_display": true,
   "toc_window_display": false
  },
  "varInspector": {
   "cols": {
    "lenName": 16,
    "lenType": 16,
    "lenVar": 40
   },
   "kernels_config": {
    "python": {
     "delete_cmd_postfix": "",
     "delete_cmd_prefix": "del ",
     "library": "var_list.py",
     "varRefreshCmd": "print(var_dic_list())"
    },
    "r": {
     "delete_cmd_postfix": ") ",
     "delete_cmd_prefix": "rm(",
     "library": "var_list.r",
     "varRefreshCmd": "cat(var_dic_list()) "
    }
   },
   "types_to_exclude": [
    "module",
    "function",
    "builtin_function_or_method",
    "instance",
    "_Feature"
   ],
   "window_display": false
  }
 },
 "nbformat": 4,
 "nbformat_minor": 4
}
