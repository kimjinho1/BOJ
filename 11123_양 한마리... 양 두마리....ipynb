{
 "cells": [
  {
   "cell_type": "code",
   "execution_count": 5,
   "metadata": {
    "ExecuteTime": {
     "end_time": "2021-03-14T07:12:40.614881Z",
     "start_time": "2021-03-14T07:12:28.515289Z"
    }
   },
   "outputs": [
    {
     "name": "stdout",
     "output_type": "stream",
     "text": [
      "2\n",
      "4 4\n",
      "#.#.\n",
      ".#.#\n",
      "#.##\n",
      ".#.#\n",
      "6\n",
      "3 5\n",
      "###.#\n",
      "..#..\n",
      "#.###\n",
      "3\n"
     ]
    }
   ],
   "source": [
    "import sys\n",
    "sys.setrecursionlimit(3000000)\n",
    "\n",
    "def dfs(y, x):\n",
    "    graph[y][x] = '.'\n",
    "    for dy, dx in d:\n",
    "        Y, X = y+dy, x+dx\n",
    "        if (0 <= Y < H) and (0 <= X < W) and graph[Y][X] == '#':\n",
    "            dfs(Y, X)\n",
    "\n",
    "for _ in range(int(input())):\n",
    "    H, W = map(int, input().split())\n",
    "    graph = [list(input()) for _ in range(H)]\n",
    "    d = [(-1, 0), (1, 0), (0, -1), (0, 1)]\n",
    "    cnt = 0\n",
    "    for i in range(H):\n",
    "        for j in range(W):\n",
    "            if graph[i][j] == '#':\n",
    "                dfs(i, j)\n",
    "                cnt += 1\n",
    "    print(cnt)"
   ]
  },
  {
   "cell_type": "code",
   "execution_count": 4,
   "metadata": {
    "ExecuteTime": {
     "end_time": "2021-03-14T07:12:23.949265Z",
     "start_time": "2021-03-14T07:12:11.492605Z"
    },
    "scrolled": true
   },
   "outputs": [
    {
     "name": "stdout",
     "output_type": "stream",
     "text": [
      "2 \n",
      "4 4\n",
      "#.#.\n",
      ".#.#\n",
      "#.##\n",
      ".#.#\n",
      "6\n",
      "3 5\n",
      "###.#\n",
      "..#..\n",
      "#.###\n",
      "3\n"
     ]
    }
   ],
   "source": [
    "from collections import deque\n",
    "\n",
    "def bfs(y, x):\n",
    "    q = deque()\n",
    "    q.append((y, x))\n",
    "    graph[y][x] = '.'\n",
    "    while q:\n",
    "        y, x = q.popleft()\n",
    "        for dy, dx in d:\n",
    "            Y, X = y+dy, x+dx\n",
    "            if (0 <= Y < H) and (0 <= X < W) and graph[Y][X] == '#':\n",
    "                q.append((Y, X))\n",
    "                graph[Y][X] = '.'\n",
    "\n",
    "for _ in range(int(input())):\n",
    "    H, W = map(int, input().split())\n",
    "    graph = [list(input()) for _ in range(H)]\n",
    "    d = [(-1, 0), (1, 0), (0, -1), (0, 1)]\n",
    "    cnt = 0\n",
    "    for i in range(H):\n",
    "        for j in range(W):\n",
    "            if graph[i][j] == '#':\n",
    "                bfs(i, j)\n",
    "                cnt += 1\n",
    "    print(cnt)"
   ]
  },
  {
   "cell_type": "code",
   "execution_count": null,
   "metadata": {},
   "outputs": [],
   "source": []
  }
 ],
 "metadata": {
  "kernelspec": {
   "display_name": "Python 3",
   "language": "python",
   "name": "python3"
  },
  "language_info": {
   "codemirror_mode": {
    "name": "ipython",
    "version": 3
   },
   "file_extension": ".py",
   "mimetype": "text/x-python",
   "name": "python",
   "nbconvert_exporter": "python",
   "pygments_lexer": "ipython3",
   "version": "3.8.5"
  },
  "toc": {
   "base_numbering": 1,
   "nav_menu": {},
   "number_sections": true,
   "sideBar": true,
   "skip_h1_title": false,
   "title_cell": "Table of Contents",
   "title_sidebar": "Contents",
   "toc_cell": false,
   "toc_position": {},
   "toc_section_display": true,
   "toc_window_display": false
  },
  "varInspector": {
   "cols": {
    "lenName": 16,
    "lenType": 16,
    "lenVar": 40
   },
   "kernels_config": {
    "python": {
     "delete_cmd_postfix": "",
     "delete_cmd_prefix": "del ",
     "library": "var_list.py",
     "varRefreshCmd": "print(var_dic_list())"
    },
    "r": {
     "delete_cmd_postfix": ") ",
     "delete_cmd_prefix": "rm(",
     "library": "var_list.r",
     "varRefreshCmd": "cat(var_dic_list()) "
    }
   },
   "types_to_exclude": [
    "module",
    "function",
    "builtin_function_or_method",
    "instance",
    "_Feature"
   ],
   "window_display": false
  }
 },
 "nbformat": 4,
 "nbformat_minor": 4
}
