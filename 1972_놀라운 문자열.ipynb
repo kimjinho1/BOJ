{
 "cells": [
  {
   "cell_type": "code",
   "execution_count": 7,
   "metadata": {},
   "outputs": [
    {
     "name": "stdin",
     "output_type": "stream",
     "text": [
      " ZGBG\n"
     ]
    },
    {
     "name": "stdout",
     "output_type": "stream",
     "text": [
      "ZGBG is surprising.\n"
     ]
    },
    {
     "name": "stdin",
     "output_type": "stream",
     "text": [
      " X\n"
     ]
    },
    {
     "name": "stdout",
     "output_type": "stream",
     "text": [
      "X is surprising.\n"
     ]
    },
    {
     "name": "stdin",
     "output_type": "stream",
     "text": [
      " EE\n"
     ]
    },
    {
     "name": "stdout",
     "output_type": "stream",
     "text": [
      "EE is surprising.\n"
     ]
    },
    {
     "name": "stdin",
     "output_type": "stream",
     "text": [
      " AAB\n"
     ]
    },
    {
     "name": "stdout",
     "output_type": "stream",
     "text": [
      "AAB is surprising.\n"
     ]
    },
    {
     "name": "stdin",
     "output_type": "stream",
     "text": [
      " AABA\n"
     ]
    },
    {
     "name": "stdout",
     "output_type": "stream",
     "text": [
      "AABA is surprising.\n"
     ]
    },
    {
     "name": "stdin",
     "output_type": "stream",
     "text": [
      " AABB\n"
     ]
    },
    {
     "name": "stdout",
     "output_type": "stream",
     "text": [
      "AABB is NOT surprising.\n"
     ]
    },
    {
     "name": "stdin",
     "output_type": "stream",
     "text": [
      " BCBABCC\n"
     ]
    },
    {
     "name": "stdout",
     "output_type": "stream",
     "text": [
      "BCBABCC is NOT surprising.\n"
     ]
    },
    {
     "name": "stdin",
     "output_type": "stream",
     "text": [
      " *\n"
     ]
    }
   ],
   "source": [
    "while 42:\n",
    "    s = input()\n",
    "    if s == '*':\n",
    "        break\n",
    "        \n",
    "    state = 1\n",
    "    for i in range(1, len(s)):\n",
    "        li = []\n",
    "        for j in range(len(s)-i):\n",
    "            li.append(s[j] + s[j+i])\n",
    "        for k in range(len(li)-1):\n",
    "            if li[k] in li[k+1:]:\n",
    "                state = 0\n",
    "    if state:\n",
    "        print(\"{0} is surprising.\".format(s))\n",
    "    else:\n",
    "        print(\"{0} is NOT surprising.\".format(s))"
   ]
  },
  {
   "cell_type": "code",
   "execution_count": null,
   "metadata": {},
   "outputs": [],
   "source": [
    "ZGBG\n",
    "X\n",
    "EE\n",
    "AAB\n",
    "AABA\n",
    "AABB\n",
    "BCBABCC"
   ]
  },
  {
   "cell_type": "code",
   "execution_count": null,
   "metadata": {},
   "outputs": [],
   "source": []
  }
 ],
 "metadata": {
  "kernelspec": {
   "display_name": "Python 3",
   "language": "python",
   "name": "python3"
  },
  "language_info": {
   "codemirror_mode": {
    "name": "ipython",
    "version": 3
   },
   "file_extension": ".py",
   "mimetype": "text/x-python",
   "name": "python",
   "nbconvert_exporter": "python",
   "pygments_lexer": "ipython3",
   "version": "3.7.3"
  }
 },
 "nbformat": 4,
 "nbformat_minor": 4
}
