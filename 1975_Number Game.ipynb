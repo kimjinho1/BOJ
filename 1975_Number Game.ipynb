{
 "cells": [
  {
   "cell_type": "code",
   "execution_count": 23,
   "id": "civilian-registration",
   "metadata": {
    "ExecuteTime": {
     "end_time": "2021-02-10T07:15:08.666350Z",
     "start_time": "2021-02-10T07:15:07.395209Z"
    }
   },
   "outputs": [
    {
     "name": "stdout",
     "output_type": "stream",
     "text": [
      "2\n",
      "5\n",
      "1\n",
      "10\n",
      "3\n"
     ]
    }
   ],
   "source": [
    "def f(n, i):\n",
    "    return 1 + f(n//i, i) if n%i == 0 else 0\n",
    "\n",
    "for _ in range(int(input())):\n",
    "    N = int(input())\n",
    "    cnt = 0\n",
    "    for i in range(2, N+1):\n",
    "        cnt += f(N, i)\n",
    "    print(cnt)"
   ]
  },
  {
   "cell_type": "code",
   "execution_count": null,
   "id": "filled-thermal",
   "metadata": {
    "ExecuteTime": {
     "end_time": "2021-02-10T07:11:43.018619Z",
     "start_time": "2021-02-10T07:11:42.996580Z"
    }
   },
   "outputs": [],
   "source": [
    "from sys import stdin\n",
    "\n",
    "def f(n, i):\n",
    "    return 1 + f(n//i, i) if n%i == 0 else 0\n",
    "\n",
    "for _ in range(int(stdin.readline())):\n",
    "    N = int(stdin.readline())\n",
    "    cnt = 0\n",
    "    for i in range(2, N+1):\n",
    "        cnt += f(N, i)\n",
    "    print(cnt)"
   ]
  },
  {
   "cell_type": "code",
   "execution_count": null,
   "id": "loving-immune",
   "metadata": {},
   "outputs": [],
   "source": []
  }
 ],
 "metadata": {
  "kernelspec": {
   "display_name": "Python 3",
   "language": "python",
   "name": "python3"
  },
  "language_info": {
   "codemirror_mode": {
    "name": "ipython",
    "version": 3
   },
   "file_extension": ".py",
   "mimetype": "text/x-python",
   "name": "python",
   "nbconvert_exporter": "python",
   "pygments_lexer": "ipython3",
   "version": "3.7.9"
  },
  "toc": {
   "base_numbering": 1,
   "nav_menu": {},
   "number_sections": true,
   "sideBar": true,
   "skip_h1_title": false,
   "title_cell": "Table of Contents",
   "title_sidebar": "Contents",
   "toc_cell": false,
   "toc_position": {},
   "toc_section_display": true,
   "toc_window_display": false
  },
  "varInspector": {
   "cols": {
    "lenName": 16,
    "lenType": 16,
    "lenVar": 40
   },
   "kernels_config": {
    "python": {
     "delete_cmd_postfix": "",
     "delete_cmd_prefix": "del ",
     "library": "var_list.py",
     "varRefreshCmd": "print(var_dic_list())"
    },
    "r": {
     "delete_cmd_postfix": ") ",
     "delete_cmd_prefix": "rm(",
     "library": "var_list.r",
     "varRefreshCmd": "cat(var_dic_list()) "
    }
   },
   "types_to_exclude": [
    "module",
    "function",
    "builtin_function_or_method",
    "instance",
    "_Feature"
   ],
   "window_display": false
  }
 },
 "nbformat": 4,
 "nbformat_minor": 5
}
