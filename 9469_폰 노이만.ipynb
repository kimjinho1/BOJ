{
 "cells": [
  {
   "cell_type": "code",
   "execution_count": 4,
   "id": "medieval-psychology",
   "metadata": {
    "ExecuteTime": {
     "end_time": "2021-02-21T17:00:12.940354Z",
     "start_time": "2021-02-21T16:59:58.012298Z"
    }
   },
   "outputs": [
    {
     "name": "stdout",
     "output_type": "stream",
     "text": [
      "5\n",
      "1 250 10 15 20\n",
      "1 200.000000\n",
      "2 10.7 3.5 4.7 5.5\n",
      "2 7.176829\n",
      "3 523.7 15.3 20.7 33.3\n",
      "3 484.422500\n",
      "4 1000 30 30 50\n",
      "4 833.333333\n",
      "5 500 15 15 25\n",
      "5 416.666667\n"
     ]
    }
   ],
   "source": [
    "for _ in range(int(input())):\n",
    "    N, D, A, B, F = map(float, input().split())\n",
    "    T = D/(A+B) * F\n",
    "    print(\"%d %.6f\" %(N, T))"
   ]
  },
  {
   "cell_type": "code",
   "execution_count": null,
   "id": "sound-category",
   "metadata": {},
   "outputs": [],
   "source": []
  }
 ],
 "metadata": {
  "kernelspec": {
   "display_name": "Python 3",
   "language": "python",
   "name": "python3"
  },
  "language_info": {
   "codemirror_mode": {
    "name": "ipython",
    "version": 3
   },
   "file_extension": ".py",
   "mimetype": "text/x-python",
   "name": "python",
   "nbconvert_exporter": "python",
   "pygments_lexer": "ipython3",
   "version": "3.7.9"
  },
  "toc": {
   "base_numbering": 1,
   "nav_menu": {},
   "number_sections": true,
   "sideBar": true,
   "skip_h1_title": false,
   "title_cell": "Table of Contents",
   "title_sidebar": "Contents",
   "toc_cell": false,
   "toc_position": {},
   "toc_section_display": true,
   "toc_window_display": false
  },
  "varInspector": {
   "cols": {
    "lenName": 16,
    "lenType": 16,
    "lenVar": 40
   },
   "kernels_config": {
    "python": {
     "delete_cmd_postfix": "",
     "delete_cmd_prefix": "del ",
     "library": "var_list.py",
     "varRefreshCmd": "print(var_dic_list())"
    },
    "r": {
     "delete_cmd_postfix": ") ",
     "delete_cmd_prefix": "rm(",
     "library": "var_list.r",
     "varRefreshCmd": "cat(var_dic_list()) "
    }
   },
   "types_to_exclude": [
    "module",
    "function",
    "builtin_function_or_method",
    "instance",
    "_Feature"
   ],
   "window_display": false
  }
 },
 "nbformat": 4,
 "nbformat_minor": 5
}
