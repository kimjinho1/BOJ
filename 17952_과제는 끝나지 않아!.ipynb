{
 "cells": [
  {
   "cell_type": "code",
   "execution_count": null,
   "metadata": {
    "ExecuteTime": {
     "end_time": "2021-03-05T18:58:45.888753Z",
     "start_time": "2021-03-05T18:58:45.863819Z"
    }
   },
   "outputs": [],
   "source": [
    "import sys\n",
    "from collections import deque\n",
    "\n",
    "stack = deque()\n",
    "score = 0\n",
    "for _ in range(int(sys.stdin.readline())):\n",
    "    li = list(map(int, sys.stdin.readline().split()))\n",
    "    if stack == [] or li[0] == 1:\n",
    "        stack.append(li[1:])\n",
    "    if stack:\n",
    "        stack[-1][1] -= 1\n",
    "        if stack[-1][1] == 0:\n",
    "            score += stack.pop()[0]\n",
    "print(score)"
   ]
  },
  {
   "cell_type": "code",
   "execution_count": 14,
   "metadata": {
    "ExecuteTime": {
     "end_time": "2021-03-05T18:58:33.806628Z",
     "start_time": "2021-03-05T18:58:29.449368Z"
    }
   },
   "outputs": [
    {
     "name": "stdout",
     "output_type": "stream",
     "text": [
      "3\n",
      "1 100 3\n",
      "0\n",
      "0\n",
      "100\n"
     ]
    }
   ],
   "source": [
    "from collections import deque\n",
    "\n",
    "stack = deque()\n",
    "score = 0\n",
    "for _ in range(int(input())):\n",
    "    li = list(map(int, input().split()))\n",
    "    if stack == [] or li[0] == 1:\n",
    "        stack.append(li[1:])\n",
    "    if stack:\n",
    "        stack[-1][1] -= 1\n",
    "        if stack[-1][1] == 0:\n",
    "            score += stack.pop()[0]\n",
    "print(score)"
   ]
  },
  {
   "cell_type": "code",
   "execution_count": 13,
   "metadata": {
    "ExecuteTime": {
     "end_time": "2021-03-05T18:58:25.327977Z",
     "start_time": "2021-03-05T18:58:18.966891Z"
    }
   },
   "outputs": [
    {
     "name": "stdout",
     "output_type": "stream",
     "text": [
      "5\n",
      "1 10 3\n",
      "0\n",
      "1 100 2\n",
      "1 20 1\n",
      "0\n",
      "120\n"
     ]
    }
   ],
   "source": [
    "from collections import deque\n",
    "\n",
    "stack = deque()\n",
    "score = 0\n",
    "for _ in range(int(input())):\n",
    "    li = list(map(int, input().split()))\n",
    "    if stack == [] or li[0] == 1:\n",
    "        stack.append(li[1:])\n",
    "    if stack:\n",
    "        stack[-1][1] -= 1\n",
    "        if stack[-1][1] == 0:\n",
    "            score += stack.pop()[0]\n",
    "print(score)"
   ]
  },
  {
   "cell_type": "code",
   "execution_count": null,
   "metadata": {},
   "outputs": [],
   "source": []
  }
 ],
 "metadata": {
  "kernelspec": {
   "display_name": "Python 3",
   "language": "python",
   "name": "python3"
  },
  "language_info": {
   "codemirror_mode": {
    "name": "ipython",
    "version": 3
   },
   "file_extension": ".py",
   "mimetype": "text/x-python",
   "name": "python",
   "nbconvert_exporter": "python",
   "pygments_lexer": "ipython3",
   "version": "3.8.5"
  },
  "toc": {
   "base_numbering": 1,
   "nav_menu": {},
   "number_sections": true,
   "sideBar": true,
   "skip_h1_title": false,
   "title_cell": "Table of Contents",
   "title_sidebar": "Contents",
   "toc_cell": false,
   "toc_position": {},
   "toc_section_display": true,
   "toc_window_display": false
  },
  "varInspector": {
   "cols": {
    "lenName": 16,
    "lenType": 16,
    "lenVar": 40
   },
   "kernels_config": {
    "python": {
     "delete_cmd_postfix": "",
     "delete_cmd_prefix": "del ",
     "library": "var_list.py",
     "varRefreshCmd": "print(var_dic_list())"
    },
    "r": {
     "delete_cmd_postfix": ") ",
     "delete_cmd_prefix": "rm(",
     "library": "var_list.r",
     "varRefreshCmd": "cat(var_dic_list()) "
    }
   },
   "types_to_exclude": [
    "module",
    "function",
    "builtin_function_or_method",
    "instance",
    "_Feature"
   ],
   "window_display": false
  }
 },
 "nbformat": 4,
 "nbformat_minor": 4
}
