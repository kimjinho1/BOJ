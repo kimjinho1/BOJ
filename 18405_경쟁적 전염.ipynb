{
 "cells": [
  {
   "cell_type": "code",
   "execution_count": 64,
   "metadata": {
    "ExecuteTime": {
     "end_time": "2021-03-13T15:38:12.773777Z",
     "start_time": "2021-03-13T15:38:08.189543Z"
    }
   },
   "outputs": [
    {
     "name": "stdout",
     "output_type": "stream",
     "text": [
      "3 3\n",
      "1 0 2\n",
      "0 0 0\n",
      "3 0 0\n",
      "2 3 2\n",
      "3\n"
     ]
    }
   ],
   "source": [
    "def bfs(x, y):\n",
    "    check[x][y] = 1\n",
    "    for dx, dy in d:\n",
    "        X, Y = x+dx, y+dy\n",
    "        if (0 <= X < N) and (0 <= Y < N) and graph[X][Y] == 0:\n",
    "            check[X][Y] = 1\n",
    "            graph[X][Y] = graph[x][y]\n",
    "\n",
    "N, K = map(int, input().split())\n",
    "graph = [list(map(int, input().split())) for _ in range(N)]\n",
    "S, X, Y = map(int, input().split())\n",
    "d = [(-1, 0), (1, 0), (0, -1), (0, 1)]\n",
    "check = [[0]*N for _ in range(N)]\n",
    "while S:\n",
    "    li = []\n",
    "    for i in range(N):\n",
    "        for j in range(N):\n",
    "            if graph[i][j] > 0:\n",
    "                li.append([i, j])\n",
    "    li.sort(key=lambda x:graph[x[0]][x[1]])\n",
    "    for i, j in li:\n",
    "        bfs(i, j)\n",
    "    if graph[X-1][Y-1]:\n",
    "        break\n",
    "    S -= 1\n",
    "print(graph[X-1][Y-1])"
   ]
  },
  {
   "cell_type": "code",
   "execution_count": 65,
   "metadata": {
    "ExecuteTime": {
     "end_time": "2021-03-13T15:38:37.432832Z",
     "start_time": "2021-03-13T15:38:33.911441Z"
    }
   },
   "outputs": [
    {
     "name": "stdout",
     "output_type": "stream",
     "text": [
      "3 3\n",
      "1 0 2\n",
      "0 0 0\n",
      "3 0 0\n",
      "1 2 2\n",
      "0\n"
     ]
    }
   ],
   "source": [
    "def bfs(x, y):\n",
    "    check[x][y] = 1\n",
    "    for dx, dy in d:\n",
    "        X, Y = x+dx, y+dy\n",
    "        if (0 <= X < N) and (0 <= Y < N) and graph[X][Y] == 0:\n",
    "            check[X][Y] = 1\n",
    "            graph[X][Y] = graph[x][y]\n",
    "\n",
    "N, K = map(int, input().split())\n",
    "graph = [list(map(int, input().split())) for _ in range(N)]\n",
    "S, X, Y = map(int, input().split())\n",
    "d = [(-1, 0), (1, 0), (0, -1), (0, 1)]\n",
    "check = [[0]*N for _ in range(N)]\n",
    "while S:\n",
    "    li = []\n",
    "    for i in range(N):\n",
    "        for j in range(N):\n",
    "            if graph[i][j] > 0:\n",
    "                li.append([i, j])\n",
    "    li.sort(key=lambda x:graph[x[0]][x[1]])\n",
    "    for i, j in li:\n",
    "        bfs(i, j)\n",
    "    if graph[X-1][Y-1]:\n",
    "        break\n",
    "    S -= 1\n",
    "print(graph[X-1][Y-1])"
   ]
  },
  {
   "cell_type": "code",
   "execution_count": 66,
   "metadata": {
    "ExecuteTime": {
     "end_time": "2021-03-13T15:38:46.796882Z",
     "start_time": "2021-03-13T15:38:40.870143Z"
    }
   },
   "outputs": [
    {
     "name": "stdout",
     "output_type": "stream",
     "text": [
      "4 2\n",
      "1 0 0 0\n",
      "0 0 0 0\n",
      "0 0 0 0\n",
      "0 0 0 2\n",
      "3 2 3\n",
      "1\n"
     ]
    }
   ],
   "source": [
    "def bfs(x, y):\n",
    "    check[x][y] = 1\n",
    "    for dx, dy in d:\n",
    "        X, Y = x+dx, y+dy\n",
    "        if (0 <= X < N) and (0 <= Y < N) and graph[X][Y] == 0:\n",
    "            check[X][Y] = 1\n",
    "            graph[X][Y] = graph[x][y]\n",
    "\n",
    "N, K = map(int, input().split())\n",
    "graph = [list(map(int, input().split())) for _ in range(N)]\n",
    "S, X, Y = map(int, input().split())\n",
    "d = [(-1, 0), (1, 0), (0, -1), (0, 1)]\n",
    "check = [[0]*N for _ in range(N)]\n",
    "while S:\n",
    "    li = []\n",
    "    for i in range(N):\n",
    "        for j in range(N):\n",
    "            if graph[i][j] > 0:\n",
    "                li.append([i, j])\n",
    "    li.sort(key=lambda x:graph[x[0]][x[1]])\n",
    "    for i, j in li:\n",
    "        bfs(i, j)\n",
    "    if graph[X-1][Y-1]:\n",
    "        break\n",
    "    S -= 1\n",
    "print(graph[X-1][Y-1])"
   ]
  },
  {
   "cell_type": "code",
   "execution_count": null,
   "metadata": {},
   "outputs": [],
   "source": []
  }
 ],
 "metadata": {
  "kernelspec": {
   "display_name": "Python 3",
   "language": "python",
   "name": "python3"
  },
  "language_info": {
   "codemirror_mode": {
    "name": "ipython",
    "version": 3
   },
   "file_extension": ".py",
   "mimetype": "text/x-python",
   "name": "python",
   "nbconvert_exporter": "python",
   "pygments_lexer": "ipython3",
   "version": "3.8.5"
  },
  "toc": {
   "base_numbering": 1,
   "nav_menu": {},
   "number_sections": true,
   "sideBar": true,
   "skip_h1_title": false,
   "title_cell": "Table of Contents",
   "title_sidebar": "Contents",
   "toc_cell": false,
   "toc_position": {},
   "toc_section_display": true,
   "toc_window_display": false
  },
  "varInspector": {
   "cols": {
    "lenName": 16,
    "lenType": 16,
    "lenVar": 40
   },
   "kernels_config": {
    "python": {
     "delete_cmd_postfix": "",
     "delete_cmd_prefix": "del ",
     "library": "var_list.py",
     "varRefreshCmd": "print(var_dic_list())"
    },
    "r": {
     "delete_cmd_postfix": ") ",
     "delete_cmd_prefix": "rm(",
     "library": "var_list.r",
     "varRefreshCmd": "cat(var_dic_list()) "
    }
   },
   "types_to_exclude": [
    "module",
    "function",
    "builtin_function_or_method",
    "instance",
    "_Feature"
   ],
   "window_display": false
  }
 },
 "nbformat": 4,
 "nbformat_minor": 4
}
