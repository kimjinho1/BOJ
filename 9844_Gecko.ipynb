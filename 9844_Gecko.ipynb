{
 "cells": [
  {
   "cell_type": "code",
   "execution_count": 4,
   "metadata": {
    "ExecuteTime": {
     "end_time": "2021-03-19T05:22:29.281695Z",
     "start_time": "2021-03-19T05:22:16.486456Z"
    }
   },
   "outputs": [
    {
     "name": "stdout",
     "output_type": "stream",
     "text": [
      "6 5\n",
      "3 1 7 4 2\n",
      "2 1 3 1 1\n",
      "1 2 2 1 8\n",
      "2 2 1 5 3\n",
      "2 1 4 4 4\n",
      "5 7 2 5 1\n",
      "32\n"
     ]
    }
   ],
   "source": [
    "h, w = map(int, input().split())\n",
    "li = [list(map(int, input().split())) for _ in range(h)]\n",
    "dp = [[0]*w for _ in range(h)]\n",
    "dp[0] = li[0]\n",
    "for i in range(1, h):\n",
    "    for j in range(w):\n",
    "        if j == 0:\n",
    "            dp[i][j] = li[i][j] + max(dp[i-1][0], dp[i-1][1])\n",
    "        elif j == w-1:\n",
    "            dp[i][j] = li[i][j] + max(dp[i-1][j-1], dp[i-1][j])\n",
    "        else:\n",
    "            dp[i][j] = li[i][j] + max(dp[i-1][j-1], dp[i-1][j], dp[i-1][j+1])\n",
    "print(max(dp[-1]))"
   ]
  },
  {
   "cell_type": "code",
   "execution_count": null,
   "metadata": {},
   "outputs": [],
   "source": []
  }
 ],
 "metadata": {
  "kernelspec": {
   "display_name": "Python 3",
   "language": "python",
   "name": "python3"
  },
  "language_info": {
   "codemirror_mode": {
    "name": "ipython",
    "version": 3
   },
   "file_extension": ".py",
   "mimetype": "text/x-python",
   "name": "python",
   "nbconvert_exporter": "python",
   "pygments_lexer": "ipython3",
   "version": "3.8.5"
  },
  "toc": {
   "base_numbering": 1,
   "nav_menu": {},
   "number_sections": true,
   "sideBar": true,
   "skip_h1_title": false,
   "title_cell": "Table of Contents",
   "title_sidebar": "Contents",
   "toc_cell": false,
   "toc_position": {},
   "toc_section_display": true,
   "toc_window_display": false
  },
  "varInspector": {
   "cols": {
    "lenName": 16,
    "lenType": 16,
    "lenVar": 40
   },
   "kernels_config": {
    "python": {
     "delete_cmd_postfix": "",
     "delete_cmd_prefix": "del ",
     "library": "var_list.py",
     "varRefreshCmd": "print(var_dic_list())"
    },
    "r": {
     "delete_cmd_postfix": ") ",
     "delete_cmd_prefix": "rm(",
     "library": "var_list.r",
     "varRefreshCmd": "cat(var_dic_list()) "
    }
   },
   "types_to_exclude": [
    "module",
    "function",
    "builtin_function_or_method",
    "instance",
    "_Feature"
   ],
   "window_display": false
  }
 },
 "nbformat": 4,
 "nbformat_minor": 4
}
