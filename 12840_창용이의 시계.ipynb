{
 "cells": [
  {
   "cell_type": "code",
   "execution_count": null,
   "metadata": {},
   "outputs": [],
   "source": [
    "import sys\n",
    "\n",
    "h, m, s = map(int, sys.stdin.readline().split())\n",
    "for _ in range(int(sys.stdin.readline())):\n",
    "    li = list(map(int, sys.stdin.readline().split()))\n",
    "    if len(li) == 1 and li[0] == 3:\n",
    "        print(h, m, s)\n",
    "    else:\n",
    "        t = h*3600 + m*60 + s\n",
    "        t += (li[1] if li[0] == 1 else -li[1])\n",
    "        if t < 0:\n",
    "            t += 86400\n",
    "        t = t%86400\n",
    "        h, m, s = t//3600, (t%3600)//60, t%60"
   ]
  },
  {
   "cell_type": "code",
   "execution_count": 5,
   "metadata": {
    "ExecuteTime": {
     "end_time": "2021-03-02T00:42:41.527833Z",
     "start_time": "2021-03-02T00:42:28.493982Z"
    }
   },
   "outputs": [
    {
     "name": "stdout",
     "output_type": "stream",
     "text": [
      "0 1 0\n",
      "4\n",
      "1 4263\n",
      "3\n",
      "1 12 3\n",
      "2 1175\n",
      "3\n",
      "0 52 28\n"
     ]
    }
   ],
   "source": [
    "h, m, s = map(int, input().split())\n",
    "for _ in range(int(input())):\n",
    "    li = list(map(int, input().split()))\n",
    "    if len(li) == 1 and li[0] == 3:\n",
    "        print(h, m, s)\n",
    "    else:\n",
    "        t = h*3600 + m*60 + s\n",
    "        t += (li[1] if li[0] == 1 else -li[1])\n",
    "        if t < 0:\n",
    "            t += 86400\n",
    "        t = t%86400\n",
    "        h, m, s = t//3600, (t%3600)//60, t%60"
   ]
  },
  {
   "cell_type": "code",
   "execution_count": null,
   "metadata": {},
   "outputs": [],
   "source": []
  }
 ],
 "metadata": {
  "kernelspec": {
   "display_name": "Python 3",
   "language": "python",
   "name": "python3"
  },
  "language_info": {
   "codemirror_mode": {
    "name": "ipython",
    "version": 3
   },
   "file_extension": ".py",
   "mimetype": "text/x-python",
   "name": "python",
   "nbconvert_exporter": "python",
   "pygments_lexer": "ipython3",
   "version": "3.8.5"
  },
  "toc": {
   "base_numbering": 1,
   "nav_menu": {},
   "number_sections": true,
   "sideBar": true,
   "skip_h1_title": false,
   "title_cell": "Table of Contents",
   "title_sidebar": "Contents",
   "toc_cell": false,
   "toc_position": {},
   "toc_section_display": true,
   "toc_window_display": false
  },
  "varInspector": {
   "cols": {
    "lenName": 16,
    "lenType": 16,
    "lenVar": 40
   },
   "kernels_config": {
    "python": {
     "delete_cmd_postfix": "",
     "delete_cmd_prefix": "del ",
     "library": "var_list.py",
     "varRefreshCmd": "print(var_dic_list())"
    },
    "r": {
     "delete_cmd_postfix": ") ",
     "delete_cmd_prefix": "rm(",
     "library": "var_list.r",
     "varRefreshCmd": "cat(var_dic_list()) "
    }
   },
   "types_to_exclude": [
    "module",
    "function",
    "builtin_function_or_method",
    "instance",
    "_Feature"
   ],
   "window_display": false
  }
 },
 "nbformat": 4,
 "nbformat_minor": 4
}
