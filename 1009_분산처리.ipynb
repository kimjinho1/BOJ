{
 "cells": [
  {
   "cell_type": "markdown",
   "metadata": {},
   "source": [
    "## 직접 삽질(dic, t)을 한 코드이다"
   ]
  },
  {
   "cell_type": "code",
   "execution_count": 2,
   "metadata": {},
   "outputs": [
    {
     "name": "stdout",
     "output_type": "stream",
     "text": [
      "5\n",
      "1 6\n",
      "1\n",
      "3 7\n",
      "7\n",
      "6 2\n",
      "6\n",
      "7 100\n",
      "1\n",
      "9 635\n",
      "9\n"
     ]
    }
   ],
   "source": [
    "for i in range(int(input())):\n",
    "    # 위 아래로 전부 5씩 차이나는 게 되게 신기하다.\n",
    "    dic = {1: [1], 2: [6,2,4,8], 3: [1,3,9,7], 4: [6,4], 5: [5], \n",
    "           6: [6], 7: [1,7,9,3], 8: [6,8,4,2], 9: [1,9], 0: [10]}\n",
    "    t = [1,4,4,2,1]*2\n",
    "    a, b = input().split()\n",
    "    a = int(a[-1])  \n",
    "    b = int(b) % t[a-1]\n",
    "    ans = dic[a][b]\n",
    "    print(ans)"
   ]
  },
  {
   "cell_type": "markdown",
   "metadata": {},
   "source": [
    "## 삽질할 필요 없이 자동으로 해주는 코드"
   ]
  },
  {
   "cell_type": "code",
   "execution_count": 1,
   "metadata": {},
   "outputs": [
    {
     "name": "stdout",
     "output_type": "stream",
     "text": [
      "5\n",
      "1 6\n",
      "1\n",
      "3 7\n",
      "7\n",
      "6 2\n",
      "6\n",
      "7 100\n",
      "1\n",
      "9 635\n",
      "9\n"
     ]
    }
   ],
   "source": [
    "for i in range(int(input())):\n",
    "    a, b = input().split()\n",
    "    a, b = int(a[-1]), int(b)\n",
    "    if a == 1 or a == 5 or a == 6 or a == 0:\n",
    "        print(a)\n",
    "        continue\n",
    "    \n",
    "    result_li = []\n",
    "    t = 1\n",
    "    for _ in range(b):\n",
    "        t *= a\n",
    "        t %= 10\n",
    "        if t in result_li:\n",
    "            break\n",
    "        result_li.append(t)\n",
    "    ans = result_li[b % len(result_li) - 1]    \n",
    "    print(ans)"
   ]
  },
  {
   "cell_type": "code",
   "execution_count": null,
   "metadata": {},
   "outputs": [],
   "source": []
  }
 ],
 "metadata": {
  "kernelspec": {
   "display_name": "Python 3",
   "language": "python",
   "name": "python3"
  },
  "language_info": {
   "codemirror_mode": {
    "name": "ipython",
    "version": 3
   },
   "file_extension": ".py",
   "mimetype": "text/x-python",
   "name": "python",
   "nbconvert_exporter": "python",
   "pygments_lexer": "ipython3",
   "version": "3.6.8"
  }
 },
 "nbformat": 4,
 "nbformat_minor": 2
}
