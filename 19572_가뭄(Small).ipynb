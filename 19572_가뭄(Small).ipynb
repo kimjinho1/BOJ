{
 "cells": [
  {
   "cell_type": "code",
   "execution_count": 5,
   "metadata": {
    "ExecuteTime": {
     "end_time": "2021-03-01T06:20:41.947700Z",
     "start_time": "2021-03-01T06:20:41.137314Z"
    }
   },
   "outputs": [
    {
     "name": "stdout",
     "output_type": "stream",
     "text": [
      "4 4 4\n",
      "1\n",
      "2.0 2.0 2.0\n"
     ]
    }
   ],
   "source": [
    "d1, d2, d3 = map(int, input().split())\n",
    "a = (d1+d2-d3)/2\n",
    "b = d1-a\n",
    "c = d2-a\n",
    "if a > 0 and b > 0 and c > 0:\n",
    "    print(1)\n",
    "    print(\"%.1f %.1f %.1f\" %(a, b, c))\n",
    "else:\n",
    "    print(-1)"
   ]
  },
  {
   "cell_type": "code",
   "execution_count": 6,
   "metadata": {
    "ExecuteTime": {
     "end_time": "2021-03-01T06:20:45.968741Z",
     "start_time": "2021-03-01T06:20:45.146347Z"
    }
   },
   "outputs": [
    {
     "name": "stdout",
     "output_type": "stream",
     "text": [
      "1 2 3\n",
      "-1\n"
     ]
    }
   ],
   "source": [
    "d1, d2, d3 = map(int, input().split())\n",
    "a = (d1+d2-d3)/2\n",
    "b = d1-a\n",
    "c = d2-a\n",
    "if a > 0 and b > 0 and c > 0:\n",
    "    print(1)\n",
    "    print(\"%.1f %.1f %.1f\" %(a, b, c))\n",
    "else:\n",
    "    print(-1)"
   ]
  },
  {
   "cell_type": "code",
   "execution_count": 7,
   "metadata": {
    "ExecuteTime": {
     "end_time": "2021-03-01T06:20:49.232574Z",
     "start_time": "2021-03-01T06:20:48.231021Z"
    }
   },
   "outputs": [
    {
     "name": "stdout",
     "output_type": "stream",
     "text": [
      "1 2 5\n",
      "-1\n"
     ]
    }
   ],
   "source": [
    "d1, d2, d3 = map(int, input().split())\n",
    "a = (d1+d2-d3)/2\n",
    "b = d1-a\n",
    "c = d2-a\n",
    "if a > 0 and b > 0 and c > 0:\n",
    "    print(1)\n",
    "    print(\"%.1f %.1f %.1f\" %(a, b, c))\n",
    "else:\n",
    "    print(-1)"
   ]
  },
  {
   "cell_type": "code",
   "execution_count": 8,
   "metadata": {
    "ExecuteTime": {
     "end_time": "2021-03-01T06:20:52.256128Z",
     "start_time": "2021-03-01T06:20:50.856113Z"
    }
   },
   "outputs": [
    {
     "name": "stdout",
     "output_type": "stream",
     "text": [
      "5 8 6\n",
      "1\n",
      "3.5 1.5 4.5\n"
     ]
    }
   ],
   "source": [
    "d1, d2, d3 = map(int, input().split())\n",
    "a = (d1+d2-d3)/2\n",
    "b = d1-a\n",
    "c = d2-a\n",
    "if a > 0 and b > 0 and c > 0:\n",
    "    print(1)\n",
    "    print(\"%.1f %.1f %.1f\" %(a, b, c))\n",
    "else:\n",
    "    print(-1)"
   ]
  },
  {
   "cell_type": "code",
   "execution_count": null,
   "metadata": {},
   "outputs": [],
   "source": []
  }
 ],
 "metadata": {
  "kernelspec": {
   "display_name": "Python 3",
   "language": "python",
   "name": "python3"
  },
  "language_info": {
   "codemirror_mode": {
    "name": "ipython",
    "version": 3
   },
   "file_extension": ".py",
   "mimetype": "text/x-python",
   "name": "python",
   "nbconvert_exporter": "python",
   "pygments_lexer": "ipython3",
   "version": "3.8.5"
  },
  "toc": {
   "base_numbering": 1,
   "nav_menu": {},
   "number_sections": true,
   "sideBar": true,
   "skip_h1_title": false,
   "title_cell": "Table of Contents",
   "title_sidebar": "Contents",
   "toc_cell": false,
   "toc_position": {},
   "toc_section_display": true,
   "toc_window_display": false
  },
  "varInspector": {
   "cols": {
    "lenName": 16,
    "lenType": 16,
    "lenVar": 40
   },
   "kernels_config": {
    "python": {
     "delete_cmd_postfix": "",
     "delete_cmd_prefix": "del ",
     "library": "var_list.py",
     "varRefreshCmd": "print(var_dic_list())"
    },
    "r": {
     "delete_cmd_postfix": ") ",
     "delete_cmd_prefix": "rm(",
     "library": "var_list.r",
     "varRefreshCmd": "cat(var_dic_list()) "
    }
   },
   "types_to_exclude": [
    "module",
    "function",
    "builtin_function_or_method",
    "instance",
    "_Feature"
   ],
   "window_display": false
  }
 },
 "nbformat": 4,
 "nbformat_minor": 4
}
