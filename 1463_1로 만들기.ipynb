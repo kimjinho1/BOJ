{
 "cells": [
  {
   "cell_type": "code",
   "execution_count": 5,
   "metadata": {},
   "outputs": [
    {
     "name": "stdout",
     "output_type": "stream",
     "text": [
      "10\n",
      "3\n"
     ]
    }
   ],
   "source": [
    "X = int(input())\n",
    "cnt = 0\n",
    "li = [X]\n",
    "\n",
    "while(1 not in li):\n",
    "    t = []\n",
    "    for x in li:\n",
    "        if x % 3 == 0:\n",
    "            t.append(x//3)\n",
    "        elif x % 2 == 0:\n",
    "            t.append(x//2)\n",
    "        t.append(x-1)\n",
    "    li = t\n",
    "    cnt += 1\n",
    "print(cnt)"
   ]
  }
 ],
 "metadata": {
  "kernelspec": {
   "display_name": "Python 3",
   "language": "python",
   "name": "python3"
  },
  "language_info": {
   "codemirror_mode": {
    "name": "ipython",
    "version": 3
   },
   "file_extension": ".py",
   "mimetype": "text/x-python",
   "name": "python",
   "nbconvert_exporter": "python",
   "pygments_lexer": "ipython3",
   "version": "3.6.8"
  }
 },
 "nbformat": 4,
 "nbformat_minor": 2
}
