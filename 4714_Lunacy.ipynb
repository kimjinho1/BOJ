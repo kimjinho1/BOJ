{
 "cells": [
  {
   "cell_type": "code",
   "execution_count": 4,
   "id": "committed-leadership",
   "metadata": {
    "ExecuteTime": {
     "end_time": "2021-02-13T11:07:28.282541Z",
     "start_time": "2021-02-13T11:07:22.260428Z"
    }
   },
   "outputs": [
    {
     "name": "stdout",
     "output_type": "stream",
     "text": [
      "100.0\n",
      "Objects weighing 100.00 on Earth will weigh 16.70 on the moon.\n",
      "12.0\n",
      "Objects weighing 12.00 on Earth will weigh 2.00 on the moon.\n",
      "0.12\n",
      "Objects weighing 0.12 on Earth will weigh 0.02 on the moon.\n",
      "120000.0\n",
      "Objects weighing 120000.00 on Earth will weigh 20040.00 on the moon.\n",
      "-1.0\n"
     ]
    }
   ],
   "source": [
    "while 1:\n",
    "    w = float(input())\n",
    "    if w == -1:\n",
    "        break\n",
    "    print(\"Objects weighing %.2f on Earth will weigh %.2f on the moon.\" % (w, w*0.167))"
   ]
  },
  {
   "cell_type": "code",
   "execution_count": null,
   "id": "hindu-numbers",
   "metadata": {},
   "outputs": [],
   "source": []
  }
 ],
 "metadata": {
  "kernelspec": {
   "display_name": "Python 3",
   "language": "python",
   "name": "python3"
  },
  "language_info": {
   "codemirror_mode": {
    "name": "ipython",
    "version": 3
   },
   "file_extension": ".py",
   "mimetype": "text/x-python",
   "name": "python",
   "nbconvert_exporter": "python",
   "pygments_lexer": "ipython3",
   "version": "3.7.9"
  },
  "toc": {
   "base_numbering": 1,
   "nav_menu": {},
   "number_sections": true,
   "sideBar": true,
   "skip_h1_title": false,
   "title_cell": "Table of Contents",
   "title_sidebar": "Contents",
   "toc_cell": false,
   "toc_position": {},
   "toc_section_display": true,
   "toc_window_display": false
  },
  "varInspector": {
   "cols": {
    "lenName": 16,
    "lenType": 16,
    "lenVar": 40
   },
   "kernels_config": {
    "python": {
     "delete_cmd_postfix": "",
     "delete_cmd_prefix": "del ",
     "library": "var_list.py",
     "varRefreshCmd": "print(var_dic_list())"
    },
    "r": {
     "delete_cmd_postfix": ") ",
     "delete_cmd_prefix": "rm(",
     "library": "var_list.r",
     "varRefreshCmd": "cat(var_dic_list()) "
    }
   },
   "types_to_exclude": [
    "module",
    "function",
    "builtin_function_or_method",
    "instance",
    "_Feature"
   ],
   "window_display": false
  }
 },
 "nbformat": 4,
 "nbformat_minor": 5
}
