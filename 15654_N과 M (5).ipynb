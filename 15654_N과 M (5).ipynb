{
 "cells": [
  {
   "cell_type": "code",
   "execution_count": 17,
   "metadata": {
    "ExecuteTime": {
     "end_time": "2021-03-21T04:00:58.516979Z",
     "start_time": "2021-03-21T04:00:57.323210Z"
    }
   },
   "outputs": [
    {
     "name": "stdout",
     "output_type": "stream",
     "text": [
      "3 1\n",
      "4 5 2\n",
      "2\n",
      "4\n",
      "5\n"
     ]
    }
   ],
   "source": [
    "def dfs(n):\n",
    "    if n == M:\n",
    "        print(*t)\n",
    "        return ;\n",
    "    for i in range(N):\n",
    "        if check[i]:\n",
    "            continue\n",
    "        t.append(li[i])\n",
    "        check[i] = 1\n",
    "        dfs(n+1)\n",
    "        t.pop()\n",
    "        check[i] = 0\n",
    "\n",
    "N, M = map(int, input().split())\n",
    "li = sorted(map(int, input().split()))\n",
    "check = [0]*N\n",
    "t = []\n",
    "dfs(0)"
   ]
  },
  {
   "cell_type": "code",
   "execution_count": 16,
   "metadata": {
    "ExecuteTime": {
     "end_time": "2021-03-21T04:00:54.259338Z",
     "start_time": "2021-03-21T04:00:51.865160Z"
    }
   },
   "outputs": [
    {
     "name": "stdout",
     "output_type": "stream",
     "text": [
      "4 2\n",
      "9 8 7 1\n",
      "1 7\n",
      "1 8\n",
      "1 9\n",
      "7 1\n",
      "7 8\n",
      "7 9\n",
      "8 1\n",
      "8 7\n",
      "8 9\n",
      "9 1\n",
      "9 7\n",
      "9 8\n"
     ]
    }
   ],
   "source": [
    "def dfs(n):\n",
    "    if n == M:\n",
    "        print(*t)\n",
    "        return ;\n",
    "    for i in range(N):\n",
    "        if check[i]:\n",
    "            continue\n",
    "        t.append(li[i])\n",
    "        check[i] = 1\n",
    "        dfs(n+1)\n",
    "        t.pop()\n",
    "        check[i] = 0\n",
    "\n",
    "N, M = map(int, input().split())\n",
    "li = sorted(map(int, input().split()))\n",
    "check = [0]*N\n",
    "t = []\n",
    "dfs(0)"
   ]
  },
  {
   "cell_type": "code",
   "execution_count": 19,
   "metadata": {
    "ExecuteTime": {
     "end_time": "2021-03-21T04:07:50.465849Z",
     "start_time": "2021-03-21T04:07:48.509068Z"
    },
    "scrolled": false
   },
   "outputs": [
    {
     "name": "stdout",
     "output_type": "stream",
     "text": [
      "4 4\n",
      "1 2 3 4\n",
      "1 2 3 4\n",
      "1 2 4 3\n",
      "1 3 2 4\n",
      "1 3 4 2\n",
      "1 4 2 3\n",
      "1 4 3 2\n",
      "2 1 3 4\n",
      "2 1 4 3\n",
      "2 3 1 4\n",
      "2 3 4 1\n",
      "2 4 1 3\n",
      "2 4 3 1\n",
      "3 1 2 4\n",
      "3 1 4 2\n",
      "3 2 1 4\n",
      "3 2 4 1\n",
      "3 4 1 2\n",
      "3 4 2 1\n",
      "4 1 2 3\n",
      "4 1 3 2\n",
      "4 2 1 3\n",
      "4 2 3 1\n",
      "4 3 1 2\n",
      "4 3 2 1\n"
     ]
    }
   ],
   "source": [
    "def dfs(n):\n",
    "    if n == M:\n",
    "        print(*t)\n",
    "        return ;\n",
    "    for i in range(N):\n",
    "        if check[i]:\n",
    "            continue\n",
    "        t.append(li[i])\n",
    "        check[i] = 1\n",
    "        dfs(n+1)\n",
    "        t.pop()\n",
    "        check[i] = 0\n",
    "\n",
    "N, M = map(int, input().split())\n",
    "li = sorted(map(int, input().split()))\n",
    "check = [0]*N\n",
    "t = []\n",
    "dfs(0)"
   ]
  },
  {
   "cell_type": "code",
   "execution_count": null,
   "metadata": {},
   "outputs": [],
   "source": []
  }
 ],
 "metadata": {
  "kernelspec": {
   "display_name": "Python 3",
   "language": "python",
   "name": "python3"
  },
  "language_info": {
   "codemirror_mode": {
    "name": "ipython",
    "version": 3
   },
   "file_extension": ".py",
   "mimetype": "text/x-python",
   "name": "python",
   "nbconvert_exporter": "python",
   "pygments_lexer": "ipython3",
   "version": "3.8.5"
  },
  "toc": {
   "base_numbering": 1,
   "nav_menu": {},
   "number_sections": true,
   "sideBar": true,
   "skip_h1_title": false,
   "title_cell": "Table of Contents",
   "title_sidebar": "Contents",
   "toc_cell": false,
   "toc_position": {},
   "toc_section_display": true,
   "toc_window_display": false
  },
  "varInspector": {
   "cols": {
    "lenName": 16,
    "lenType": 16,
    "lenVar": 40
   },
   "kernels_config": {
    "python": {
     "delete_cmd_postfix": "",
     "delete_cmd_prefix": "del ",
     "library": "var_list.py",
     "varRefreshCmd": "print(var_dic_list())"
    },
    "r": {
     "delete_cmd_postfix": ") ",
     "delete_cmd_prefix": "rm(",
     "library": "var_list.r",
     "varRefreshCmd": "cat(var_dic_list()) "
    }
   },
   "types_to_exclude": [
    "module",
    "function",
    "builtin_function_or_method",
    "instance",
    "_Feature"
   ],
   "window_display": false
  }
 },
 "nbformat": 4,
 "nbformat_minor": 4
}
