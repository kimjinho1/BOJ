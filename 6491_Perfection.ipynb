{
 "cells": [
  {
   "cell_type": "code",
   "execution_count": null,
   "id": "competitive-wells",
   "metadata": {},
   "outputs": [],
   "source": [
    "import sys\n",
    "\n",
    "nums = list(map(int, sys.stdin.read().split()))\n",
    "for n in nums:\n",
    "    if n == 0:\n",
    "        break\n",
    "    li = []\n",
    "    for i in range(1, n):\n",
    "        if n % i == 0:\n",
    "            if i not in li:\n",
    "                li.append(i)\n",
    "            if n//i not in li and n//i != n:\n",
    "                li.append(n//i)\n",
    "    if sum(li) == n:\n",
    "        print(f\"{n} PERFECT\")\n",
    "    elif sum(li) < n:\n",
    "        print(f\"{n} DEFICIENT\")\n",
    "    else:\n",
    "        print(f\"{n} ABUNDANT\")"
   ]
  },
  {
   "cell_type": "code",
   "execution_count": 8,
   "id": "protecting-sending",
   "metadata": {
    "ExecuteTime": {
     "end_time": "2021-02-14T13:06:44.685512Z",
     "start_time": "2021-02-14T13:06:41.613092Z"
    }
   },
   "outputs": [
    {
     "name": "stdout",
     "output_type": "stream",
     "text": [
      "15 28 6 56 60000 22 496      0    \n",
      "15 DEFICIENT\n",
      "28 PERFECT\n",
      "6 PERFECT\n",
      "56 ABUNDANT\n",
      "60000 ABUNDANT\n",
      "22 DEFICIENT\n",
      "496 PERFECT\n"
     ]
    }
   ],
   "source": [
    "nums = list(map(int, input().split()))\n",
    "for n in nums:\n",
    "    if n == 0:\n",
    "        break\n",
    "    li = []\n",
    "    for i in range(1, int(n**0.5)+1):\n",
    "        if n % i == 0:\n",
    "            if i not in li:\n",
    "                li.append(i)\n",
    "            if n//i not in li and n//i != n:\n",
    "                li.append(n//i)\n",
    "    if sum(li) == n:\n",
    "        print(f\"{n} PERFECT\")\n",
    "    elif sum(li) < n:\n",
    "        print(f\"{n} DEFICIENT\")\n",
    "    else:\n",
    "        print(f\"{n} ABUNDANT\")"
   ]
  },
  {
   "cell_type": "code",
   "execution_count": null,
   "id": "final-collaboration",
   "metadata": {},
   "outputs": [],
   "source": []
  }
 ],
 "metadata": {
  "kernelspec": {
   "display_name": "Python 3",
   "language": "python",
   "name": "python3"
  },
  "language_info": {
   "codemirror_mode": {
    "name": "ipython",
    "version": 3
   },
   "file_extension": ".py",
   "mimetype": "text/x-python",
   "name": "python",
   "nbconvert_exporter": "python",
   "pygments_lexer": "ipython3",
   "version": "3.7.9"
  },
  "toc": {
   "base_numbering": 1,
   "nav_menu": {},
   "number_sections": true,
   "sideBar": true,
   "skip_h1_title": false,
   "title_cell": "Table of Contents",
   "title_sidebar": "Contents",
   "toc_cell": false,
   "toc_position": {},
   "toc_section_display": true,
   "toc_window_display": false
  },
  "varInspector": {
   "cols": {
    "lenName": 16,
    "lenType": 16,
    "lenVar": 40
   },
   "kernels_config": {
    "python": {
     "delete_cmd_postfix": "",
     "delete_cmd_prefix": "del ",
     "library": "var_list.py",
     "varRefreshCmd": "print(var_dic_list())"
    },
    "r": {
     "delete_cmd_postfix": ") ",
     "delete_cmd_prefix": "rm(",
     "library": "var_list.r",
     "varRefreshCmd": "cat(var_dic_list()) "
    }
   },
   "types_to_exclude": [
    "module",
    "function",
    "builtin_function_or_method",
    "instance",
    "_Feature"
   ],
   "window_display": false
  }
 },
 "nbformat": 4,
 "nbformat_minor": 5
}
