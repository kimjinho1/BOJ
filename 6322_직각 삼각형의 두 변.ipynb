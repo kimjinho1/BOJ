{
 "cells": [
  {
   "cell_type": "code",
   "execution_count": 8,
   "id": "behind-citizenship",
   "metadata": {
    "ExecuteTime": {
     "end_time": "2021-02-14T12:07:11.753147Z",
     "start_time": "2021-02-14T12:06:30.445120Z"
    }
   },
   "outputs": [
    {
     "name": "stdout",
     "output_type": "stream",
     "text": [
      "3 4 -1\n",
      "Triangle #1\n",
      "c = 5.000\n",
      "-1 2 7\n",
      "\n",
      "Triangle #2\n",
      "a = 6.708\n",
      "5 -1 3\n",
      "\n",
      "Triangle #3\n",
      "Impossible.\n",
      "0 0 0\n"
     ]
    }
   ],
   "source": [
    "cnt = 1\n",
    "while 1:\n",
    "    a, b, c = map(int, input().split())\n",
    "    if a == b == c == 0:\n",
    "        break\n",
    "    if cnt > 1:\n",
    "        print()\n",
    "    print(f\"Triangle #{cnt}\")\n",
    "\n",
    "    if c == -1:\n",
    "        print(\"c = %.3f\" % ((a**2+b**2)**0.5))\n",
    "    elif max(a, b) >= c:\n",
    "        print(\"Impossible.\")\n",
    "    elif a == -1:\n",
    "        print(\"a = %.3f\" % ((c**2-b**2)**0.5))\n",
    "    elif b == -1:\n",
    "        print(\"b = %.3f\" % ((c**2-a**2)**0.5))    \n",
    "    cnt += 1"
   ]
  },
  {
   "cell_type": "code",
   "execution_count": null,
   "id": "synthetic-webmaster",
   "metadata": {},
   "outputs": [],
   "source": []
  }
 ],
 "metadata": {
  "kernelspec": {
   "display_name": "Python 3",
   "language": "python",
   "name": "python3"
  },
  "language_info": {
   "codemirror_mode": {
    "name": "ipython",
    "version": 3
   },
   "file_extension": ".py",
   "mimetype": "text/x-python",
   "name": "python",
   "nbconvert_exporter": "python",
   "pygments_lexer": "ipython3",
   "version": "3.7.9"
  },
  "toc": {
   "base_numbering": 1,
   "nav_menu": {},
   "number_sections": true,
   "sideBar": true,
   "skip_h1_title": false,
   "title_cell": "Table of Contents",
   "title_sidebar": "Contents",
   "toc_cell": false,
   "toc_position": {},
   "toc_section_display": true,
   "toc_window_display": false
  },
  "varInspector": {
   "cols": {
    "lenName": 16,
    "lenType": 16,
    "lenVar": 40
   },
   "kernels_config": {
    "python": {
     "delete_cmd_postfix": "",
     "delete_cmd_prefix": "del ",
     "library": "var_list.py",
     "varRefreshCmd": "print(var_dic_list())"
    },
    "r": {
     "delete_cmd_postfix": ") ",
     "delete_cmd_prefix": "rm(",
     "library": "var_list.r",
     "varRefreshCmd": "cat(var_dic_list()) "
    }
   },
   "types_to_exclude": [
    "module",
    "function",
    "builtin_function_or_method",
    "instance",
    "_Feature"
   ],
   "window_display": false
  }
 },
 "nbformat": 4,
 "nbformat_minor": 5
}
