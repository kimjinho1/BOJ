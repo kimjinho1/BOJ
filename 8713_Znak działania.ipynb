{
 "cells": [
  {
   "cell_type": "code",
   "execution_count": 20,
   "id": "activated-integer",
   "metadata": {
    "ExecuteTime": {
     "end_time": "2021-02-17T18:01:41.154402Z",
     "start_time": "2021-02-17T18:01:39.758095Z"
    }
   },
   "outputs": [
    {
     "name": "stdout",
     "output_type": "stream",
     "text": [
      "5 -6\n",
      "5-(-6)=11\n"
     ]
    }
   ],
   "source": [
    "a, b = map(int, input().split())\n",
    "li = [a+b, a-b, a*b]\n",
    "m = max(li)\n",
    "idx = li.index(m)\n",
    "m = m if m > 0 else f'({m})'\n",
    "a = a if a > 0 else f'({a})'\n",
    "b = b if b > 0 else f'({b})'\n",
    "\n",
    "if li.count(m) > 1:\n",
    "    print('NIE')\n",
    "elif idx == 0:\n",
    "    print(f\"{a}+{b}={m}\")\n",
    "elif idx == 1:\n",
    "    print(f\"{a}-{b}={m}\")\n",
    "elif idx == 2:\n",
    "    print(f\"{a}*{b}={m}\")"
   ]
  },
  {
   "cell_type": "code",
   "execution_count": 19,
   "id": "organized-chancellor",
   "metadata": {
    "ExecuteTime": {
     "end_time": "2021-02-17T17:58:08.446236Z",
     "start_time": "2021-02-17T17:58:07.383034Z"
    }
   },
   "outputs": [
    {
     "name": "stdout",
     "output_type": "stream",
     "text": [
      "5 -6\n",
      "5-(-6)=11\n"
     ]
    }
   ],
   "source": [
    "a, b = map(int, input().split())\n",
    "d = {a+b:'+', a-b:'-', a*b:'*'}\n",
    "li = list(d.keys())\n",
    "m = max(li)\n",
    "\n",
    "if li.count(m) > 1:\n",
    "    print('NIE')\n",
    "else:\n",
    "    f = lambda x: f\"({x})\" if x < 0 else x\n",
    "    print(f\"{f(a)}{d[m]}{f(b)}={f(m)}\")"
   ]
  },
  {
   "cell_type": "code",
   "execution_count": null,
   "id": "adequate-producer",
   "metadata": {},
   "outputs": [],
   "source": []
  }
 ],
 "metadata": {
  "kernelspec": {
   "display_name": "Python 3",
   "language": "python",
   "name": "python3"
  },
  "language_info": {
   "codemirror_mode": {
    "name": "ipython",
    "version": 3
   },
   "file_extension": ".py",
   "mimetype": "text/x-python",
   "name": "python",
   "nbconvert_exporter": "python",
   "pygments_lexer": "ipython3",
   "version": "3.7.9"
  },
  "toc": {
   "base_numbering": 1,
   "nav_menu": {},
   "number_sections": true,
   "sideBar": true,
   "skip_h1_title": false,
   "title_cell": "Table of Contents",
   "title_sidebar": "Contents",
   "toc_cell": false,
   "toc_position": {},
   "toc_section_display": true,
   "toc_window_display": false
  },
  "varInspector": {
   "cols": {
    "lenName": 16,
    "lenType": 16,
    "lenVar": 40
   },
   "kernels_config": {
    "python": {
     "delete_cmd_postfix": "",
     "delete_cmd_prefix": "del ",
     "library": "var_list.py",
     "varRefreshCmd": "print(var_dic_list())"
    },
    "r": {
     "delete_cmd_postfix": ") ",
     "delete_cmd_prefix": "rm(",
     "library": "var_list.r",
     "varRefreshCmd": "cat(var_dic_list()) "
    }
   },
   "types_to_exclude": [
    "module",
    "function",
    "builtin_function_or_method",
    "instance",
    "_Feature"
   ],
   "window_display": false
  }
 },
 "nbformat": 4,
 "nbformat_minor": 5
}
