{
 "cells": [
  {
   "cell_type": "markdown",
   "metadata": {},
   "source": [
    "## 거의 근접했지만 틀린 코드이다"
   ]
  },
  {
   "cell_type": "code",
   "execution_count": 44,
   "metadata": {},
   "outputs": [
    {
     "name": "stdout",
     "output_type": "stream",
     "text": [
      "16 6\n",
      "20\n"
     ]
    }
   ],
   "source": [
    "x, y = map(int, input().split())\n",
    "\n",
    "m = 1\n",
    "while(1):\n",
    "    if not (x%2 + y%2):\n",
    "        m *= 2\n",
    "        x //= 2\n",
    "        y //= 2\n",
    "    elif x == y:\n",
    "        t = x\n",
    "        break\n",
    "    else:\n",
    "        t = x + y - 1\n",
    "        break\n",
    "\n",
    "ans = t * m\n",
    "print(ans)"
   ]
  },
  {
   "cell_type": "markdown",
   "metadata": {},
   "source": [
    "## 올바른 코드"
   ]
  },
  {
   "cell_type": "code",
   "execution_count": 46,
   "metadata": {},
   "outputs": [
    {
     "name": "stdout",
     "output_type": "stream",
     "text": [
      "12 8\n",
      "16\n"
     ]
    }
   ],
   "source": [
    "def gcd(x, y):\n",
    "    return x if y == 0 else gcd(y, x%y)\n",
    "\n",
    "x, y = map(int, input().split())\n",
    "x, y = max(x, y), min(x, y)\n",
    "\n",
    "ans = x + y - gcd(x, y)\n",
    "print(ans)"
   ]
  },
  {
   "cell_type": "code",
   "execution_count": null,
   "metadata": {},
   "outputs": [],
   "source": []
  }
 ],
 "metadata": {
  "kernelspec": {
   "display_name": "Python 3",
   "language": "python",
   "name": "python3"
  },
  "language_info": {
   "codemirror_mode": {
    "name": "ipython",
    "version": 3
   },
   "file_extension": ".py",
   "mimetype": "text/x-python",
   "name": "python",
   "nbconvert_exporter": "python",
   "pygments_lexer": "ipython3",
   "version": "3.6.8"
  }
 },
 "nbformat": 4,
 "nbformat_minor": 2
}
