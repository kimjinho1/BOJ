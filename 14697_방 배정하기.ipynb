{
 "cells": [
  {
   "cell_type": "markdown",
   "metadata": {},
   "source": [
    "# 브루트포스 알고리즘"
   ]
  },
  {
   "cell_type": "code",
   "execution_count": 8,
   "metadata": {
    "ExecuteTime": {
     "end_time": "2021-03-21T03:27:28.372400Z",
     "start_time": "2021-03-21T03:27:26.675151Z"
    }
   },
   "outputs": [
    {
     "name": "stdout",
     "output_type": "stream",
     "text": [
      "5 9 12 113\n",
      "1\n"
     ]
    }
   ],
   "source": [
    "a, b, c, n = map(int, input().split())\n",
    "res = 0\n",
    "for i in range(0, n+1, a):\n",
    "    for j in range(0, n-i+1, b):\n",
    "        for k in range(0, n-i-j+1, c):\n",
    "            if i+j+k == n:\n",
    "                res = 1\n",
    "print(res)"
   ]
  },
  {
   "cell_type": "code",
   "execution_count": 9,
   "metadata": {
    "ExecuteTime": {
     "end_time": "2021-03-21T03:27:31.705568Z",
     "start_time": "2021-03-21T03:27:30.177925Z"
    }
   },
   "outputs": [
    {
     "name": "stdout",
     "output_type": "stream",
     "text": [
      "3 6 9 112\n",
      "0\n"
     ]
    }
   ],
   "source": [
    "a, b, c, n = map(int, input().split())\n",
    "res = 0\n",
    "for i in range(0, n+1, a):\n",
    "    for j in range(0, n-i+1, b):\n",
    "        for k in range(0, n-i-j+1, c):\n",
    "            if i+j+k == n:\n",
    "                res = 1\n",
    "print(res)"
   ]
  },
  {
   "cell_type": "markdown",
   "metadata": {},
   "source": [
    "# DP"
   ]
  },
  {
   "cell_type": "code",
   "execution_count": 16,
   "metadata": {
    "ExecuteTime": {
     "end_time": "2021-03-21T03:32:44.422817Z",
     "start_time": "2021-03-21T03:32:42.404673Z"
    }
   },
   "outputs": [
    {
     "name": "stdout",
     "output_type": "stream",
     "text": [
      "5 9 12 113\n",
      "1\n"
     ]
    }
   ],
   "source": [
    "a, b, c, n = map(int, input().split())\n",
    "li = [a, b, c]\n",
    "dp = [0]*(n+1)\n",
    "dp[0] = 1\n",
    "for i in range(1, n+1):\n",
    "    for t in li:\n",
    "        if i-t >= 0 and dp[i-t]:\n",
    "            dp[i] = 1\n",
    "print(dp[n])"
   ]
  },
  {
   "cell_type": "code",
   "execution_count": 17,
   "metadata": {
    "ExecuteTime": {
     "end_time": "2021-03-21T03:32:52.121349Z",
     "start_time": "2021-03-21T03:32:48.264880Z"
    }
   },
   "outputs": [
    {
     "name": "stdout",
     "output_type": "stream",
     "text": [
      "3 6 9 112\n",
      "0\n"
     ]
    }
   ],
   "source": [
    "a, b, c, n = map(int, input().split())\n",
    "li = [a, b, c]\n",
    "dp = [0]*(n+1)\n",
    "dp[0] = 1\n",
    "for i in range(1, n+1):\n",
    "    for t in li:\n",
    "        if i-t >= 0 and dp[i-t]:\n",
    "            dp[i] = 1\n",
    "print(dp[n])"
   ]
  },
  {
   "cell_type": "code",
   "execution_count": null,
   "metadata": {},
   "outputs": [],
   "source": []
  }
 ],
 "metadata": {
  "kernelspec": {
   "display_name": "Python 3",
   "language": "python",
   "name": "python3"
  },
  "language_info": {
   "codemirror_mode": {
    "name": "ipython",
    "version": 3
   },
   "file_extension": ".py",
   "mimetype": "text/x-python",
   "name": "python",
   "nbconvert_exporter": "python",
   "pygments_lexer": "ipython3",
   "version": "3.8.5"
  },
  "toc": {
   "base_numbering": 1,
   "nav_menu": {},
   "number_sections": true,
   "sideBar": true,
   "skip_h1_title": false,
   "title_cell": "Table of Contents",
   "title_sidebar": "Contents",
   "toc_cell": false,
   "toc_position": {},
   "toc_section_display": true,
   "toc_window_display": false
  },
  "varInspector": {
   "cols": {
    "lenName": 16,
    "lenType": 16,
    "lenVar": 40
   },
   "kernels_config": {
    "python": {
     "delete_cmd_postfix": "",
     "delete_cmd_prefix": "del ",
     "library": "var_list.py",
     "varRefreshCmd": "print(var_dic_list())"
    },
    "r": {
     "delete_cmd_postfix": ") ",
     "delete_cmd_prefix": "rm(",
     "library": "var_list.r",
     "varRefreshCmd": "cat(var_dic_list()) "
    }
   },
   "types_to_exclude": [
    "module",
    "function",
    "builtin_function_or_method",
    "instance",
    "_Feature"
   ],
   "window_display": false
  }
 },
 "nbformat": 4,
 "nbformat_minor": 4
}
