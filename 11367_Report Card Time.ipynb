{
 "cells": [
  {
   "cell_type": "code",
   "execution_count": 1,
   "metadata": {
    "ExecuteTime": {
     "end_time": "2021-03-25T13:35:48.750988Z",
     "start_time": "2021-03-25T13:35:28.931445Z"
    }
   },
   "outputs": [
    {
     "name": "stdout",
     "output_type": "stream",
     "text": [
      "5\n",
      "Bilbo 13\n",
      "Bilbo F\n",
      "Sam 90\n",
      "Sam A\n",
      "Pippin 78\n",
      "Pippin C+\n",
      "Frodo 97\n",
      "Frodo A+\n",
      "Merry 70\n",
      "Merry C\n"
     ]
    }
   ],
   "source": [
    "for _ in range(int(input())):\n",
    "    s, n = input().split()\n",
    "    n = int(n)\n",
    "    if n >= 97: res = \"A+\"\n",
    "    elif n >= 90: res = \"A\"\n",
    "    elif n >= 87: res = \"B+\"\n",
    "    elif n >= 80: res = \"B\"\n",
    "    elif n >= 77: res = \"C+\"\n",
    "    elif n >= 70: res = \"C\"\n",
    "    elif n >= 67: res = \"D+\"\n",
    "    elif n >= 60: res = \"D\"\n",
    "    else: res = \"F\"\n",
    "    print(s, res)"
   ]
  },
  {
   "cell_type": "code",
   "execution_count": null,
   "metadata": {},
   "outputs": [],
   "source": []
  }
 ],
 "metadata": {
  "kernelspec": {
   "display_name": "Python 3",
   "language": "python",
   "name": "python3"
  },
  "language_info": {
   "codemirror_mode": {
    "name": "ipython",
    "version": 3
   },
   "file_extension": ".py",
   "mimetype": "text/x-python",
   "name": "python",
   "nbconvert_exporter": "python",
   "pygments_lexer": "ipython3",
   "version": "3.8.5"
  },
  "toc": {
   "base_numbering": 1,
   "nav_menu": {},
   "number_sections": true,
   "sideBar": true,
   "skip_h1_title": false,
   "title_cell": "Table of Contents",
   "title_sidebar": "Contents",
   "toc_cell": false,
   "toc_position": {},
   "toc_section_display": true,
   "toc_window_display": false
  },
  "varInspector": {
   "cols": {
    "lenName": 16,
    "lenType": 16,
    "lenVar": 40
   },
   "kernels_config": {
    "python": {
     "delete_cmd_postfix": "",
     "delete_cmd_prefix": "del ",
     "library": "var_list.py",
     "varRefreshCmd": "print(var_dic_list())"
    },
    "r": {
     "delete_cmd_postfix": ") ",
     "delete_cmd_prefix": "rm(",
     "library": "var_list.r",
     "varRefreshCmd": "cat(var_dic_list()) "
    }
   },
   "types_to_exclude": [
    "module",
    "function",
    "builtin_function_or_method",
    "instance",
    "_Feature"
   ],
   "window_display": false
  }
 },
 "nbformat": 4,
 "nbformat_minor": 4
}
