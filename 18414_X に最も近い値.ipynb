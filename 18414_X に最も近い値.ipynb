{
 "cells": [
  {
   "cell_type": "code",
   "execution_count": 10,
   "metadata": {
    "ExecuteTime": {
     "end_time": "2021-02-09T02:51:01.581579Z",
     "start_time": "2021-02-09T02:50:58.559629Z"
    }
   },
   "outputs": [
    {
     "name": "stdout",
     "output_type": "stream",
     "text": [
      "8 3 6\n",
      "6\n"
     ]
    }
   ],
   "source": [
    "print(sorted(map(int, input().split()))[1])"
   ]
  },
  {
   "cell_type": "code",
   "execution_count": 7,
   "metadata": {
    "ExecuteTime": {
     "end_time": "2021-02-09T02:50:16.192904Z",
     "start_time": "2021-02-09T02:50:14.721836Z"
    }
   },
   "outputs": [
    {
     "name": "stdout",
     "output_type": "stream",
     "text": [
      "8 3 6\n",
      "6\n"
     ]
    }
   ],
   "source": [
    "X, L, R = map(int, input().split())\n",
    "res = 0\n",
    "m = 100000\n",
    "for n in range(L, R+1):\n",
    "    if abs(X-n) < m:\n",
    "        m = abs(X-n)\n",
    "        res = n\n",
    "print(res)"
   ]
  },
  {
   "cell_type": "code",
   "execution_count": 8,
   "metadata": {
    "ExecuteTime": {
     "end_time": "2021-02-09T02:50:23.306883Z",
     "start_time": "2021-02-09T02:50:22.044298Z"
    }
   },
   "outputs": [
    {
     "name": "stdout",
     "output_type": "stream",
     "text": [
      "7 3 10\n",
      "7\n"
     ]
    }
   ],
   "source": [
    "X, L, R = map(int, input().split())\n",
    "res = 0\n",
    "m = 100000\n",
    "for n in range(L, R+1):\n",
    "    if abs(X-n) < m:\n",
    "        m = abs(X-n)\n",
    "        res = n\n",
    "print(res)"
   ]
  },
  {
   "cell_type": "code",
   "execution_count": 9,
   "metadata": {
    "ExecuteTime": {
     "end_time": "2021-02-09T02:50:26.991032Z",
     "start_time": "2021-02-09T02:50:25.552877Z"
    }
   },
   "outputs": [
    {
     "name": "stdout",
     "output_type": "stream",
     "text": [
      "8 10 10\n",
      "10\n"
     ]
    }
   ],
   "source": [
    "X, L, R = map(int, input().split())\n",
    "res = 0\n",
    "m = 100000\n",
    "for n in range(L, R+1):\n",
    "    if abs(X-n) < m:\n",
    "        m = abs(X-n)\n",
    "        res = n\n",
    "print(res)"
   ]
  },
  {
   "cell_type": "code",
   "execution_count": null,
   "metadata": {},
   "outputs": [],
   "source": []
  }
 ],
 "metadata": {
  "kernelspec": {
   "display_name": "Python 3",
   "language": "python",
   "name": "python3"
  },
  "language_info": {
   "codemirror_mode": {
    "name": "ipython",
    "version": 3
   },
   "file_extension": ".py",
   "mimetype": "text/x-python",
   "name": "python",
   "nbconvert_exporter": "python",
   "pygments_lexer": "ipython3",
   "version": "3.8.5"
  },
  "toc": {
   "base_numbering": 1,
   "nav_menu": {},
   "number_sections": true,
   "sideBar": true,
   "skip_h1_title": false,
   "title_cell": "Table of Contents",
   "title_sidebar": "Contents",
   "toc_cell": false,
   "toc_position": {},
   "toc_section_display": true,
   "toc_window_display": false
  },
  "varInspector": {
   "cols": {
    "lenName": 16,
    "lenType": 16,
    "lenVar": 40
   },
   "kernels_config": {
    "python": {
     "delete_cmd_postfix": "",
     "delete_cmd_prefix": "del ",
     "library": "var_list.py",
     "varRefreshCmd": "print(var_dic_list())"
    },
    "r": {
     "delete_cmd_postfix": ") ",
     "delete_cmd_prefix": "rm(",
     "library": "var_list.r",
     "varRefreshCmd": "cat(var_dic_list()) "
    }
   },
   "types_to_exclude": [
    "module",
    "function",
    "builtin_function_or_method",
    "instance",
    "_Feature"
   ],
   "window_display": false
  }
 },
 "nbformat": 4,
 "nbformat_minor": 4
}
