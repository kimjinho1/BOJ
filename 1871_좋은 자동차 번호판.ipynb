{
 "cells": [
  {
   "cell_type": "code",
   "execution_count": 9,
   "id": "charitable-shakespeare",
   "metadata": {
    "ExecuteTime": {
     "end_time": "2021-02-17T09:24:32.349165Z",
     "start_time": "2021-02-17T09:24:25.341948Z"
    }
   },
   "outputs": [
    {
     "name": "stdout",
     "output_type": "stream",
     "text": [
      "2\n",
      "ABC-0123\n",
      "nice\n",
      "AAA-9999\n",
      "not nice\n"
     ]
    }
   ],
   "source": [
    "for _ in range(int(input())):\n",
    "    L, D = input().split('-')\n",
    "    n = int(D)\n",
    "    s = 0\n",
    "    for i in range(3):\n",
    "        s += (ord(L[i])-65) * 26**(2-i)\n",
    "    print(\"nice\" if abs(s-n) <= 100 else \"not nice\")"
   ]
  },
  {
   "cell_type": "code",
   "execution_count": null,
   "id": "perceived-reputation",
   "metadata": {},
   "outputs": [],
   "source": []
  }
 ],
 "metadata": {
  "kernelspec": {
   "display_name": "Python 3",
   "language": "python",
   "name": "python3"
  },
  "language_info": {
   "codemirror_mode": {
    "name": "ipython",
    "version": 3
   },
   "file_extension": ".py",
   "mimetype": "text/x-python",
   "name": "python",
   "nbconvert_exporter": "python",
   "pygments_lexer": "ipython3",
   "version": "3.7.9"
  },
  "toc": {
   "base_numbering": 1,
   "nav_menu": {},
   "number_sections": true,
   "sideBar": true,
   "skip_h1_title": false,
   "title_cell": "Table of Contents",
   "title_sidebar": "Contents",
   "toc_cell": false,
   "toc_position": {},
   "toc_section_display": true,
   "toc_window_display": false
  },
  "varInspector": {
   "cols": {
    "lenName": 16,
    "lenType": 16,
    "lenVar": 40
   },
   "kernels_config": {
    "python": {
     "delete_cmd_postfix": "",
     "delete_cmd_prefix": "del ",
     "library": "var_list.py",
     "varRefreshCmd": "print(var_dic_list())"
    },
    "r": {
     "delete_cmd_postfix": ") ",
     "delete_cmd_prefix": "rm(",
     "library": "var_list.r",
     "varRefreshCmd": "cat(var_dic_list()) "
    }
   },
   "types_to_exclude": [
    "module",
    "function",
    "builtin_function_or_method",
    "instance",
    "_Feature"
   ],
   "window_display": false
  }
 },
 "nbformat": 4,
 "nbformat_minor": 5
}
