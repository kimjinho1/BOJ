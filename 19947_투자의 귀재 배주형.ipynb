{
 "cells": [
  {
   "cell_type": "code",
   "execution_count": 6,
   "metadata": {
    "ExecuteTime": {
     "end_time": "2021-03-19T04:53:37.770766Z",
     "start_time": "2021-03-19T04:53:36.201233Z"
    }
   },
   "outputs": [
    {
     "name": "stdout",
     "output_type": "stream",
     "text": [
      "95229 3\n",
      "114274\n"
     ]
    }
   ],
   "source": [
    "H, Y = map(int, input().split())\n",
    "dp = [0]*(Y+1)\n",
    "dp[0] = H\n",
    "for i in range(1, Y+1):\n",
    "    if i-1 >= 0 and dp[i-1]:\n",
    "        dp[i] = max(int(dp[i-1]*1.05), dp[i])\n",
    "    if i-3 >= 0 and dp[i-3]:\n",
    "        dp[i] = max(int(dp[i-3]*1.2), dp[i])\n",
    "    if i-5 >= 0 and dp[i-5]:\n",
    "        dp[i] = max(int(dp[i-5]*1.35), dp[i])\n",
    "print(dp[Y])"
   ]
  },
  {
   "cell_type": "code",
   "execution_count": 7,
   "metadata": {
    "ExecuteTime": {
     "end_time": "2021-03-19T04:53:43.327143Z",
     "start_time": "2021-03-19T04:53:40.070920Z"
    }
   },
   "outputs": [
    {
     "name": "stdout",
     "output_type": "stream",
     "text": [
      "25542 10\n",
      "46549\n"
     ]
    }
   ],
   "source": [
    "H, Y = map(int, input().split())\n",
    "dp = [0]*(Y+1)\n",
    "dp[0] = H\n",
    "for i in range(1, Y+1):\n",
    "    if i-1 >= 0 and dp[i-1]:\n",
    "        dp[i] = max(int(dp[i-1]*1.05), dp[i])\n",
    "    if i-3 >= 0 and dp[i-3]:\n",
    "        dp[i] = max(int(dp[i-3]*1.2), dp[i])\n",
    "    if i-5 >= 0 and dp[i-5]:\n",
    "        dp[i] = max(int(dp[i-5]*1.35), dp[i])\n",
    "print(dp[Y])"
   ]
  },
  {
   "cell_type": "code",
   "execution_count": null,
   "metadata": {},
   "outputs": [],
   "source": []
  }
 ],
 "metadata": {
  "kernelspec": {
   "display_name": "Python 3",
   "language": "python",
   "name": "python3"
  },
  "language_info": {
   "codemirror_mode": {
    "name": "ipython",
    "version": 3
   },
   "file_extension": ".py",
   "mimetype": "text/x-python",
   "name": "python",
   "nbconvert_exporter": "python",
   "pygments_lexer": "ipython3",
   "version": "3.8.5"
  },
  "toc": {
   "base_numbering": 1,
   "nav_menu": {},
   "number_sections": true,
   "sideBar": true,
   "skip_h1_title": false,
   "title_cell": "Table of Contents",
   "title_sidebar": "Contents",
   "toc_cell": false,
   "toc_position": {},
   "toc_section_display": true,
   "toc_window_display": false
  },
  "varInspector": {
   "cols": {
    "lenName": 16,
    "lenType": 16,
    "lenVar": 40
   },
   "kernels_config": {
    "python": {
     "delete_cmd_postfix": "",
     "delete_cmd_prefix": "del ",
     "library": "var_list.py",
     "varRefreshCmd": "print(var_dic_list())"
    },
    "r": {
     "delete_cmd_postfix": ") ",
     "delete_cmd_prefix": "rm(",
     "library": "var_list.r",
     "varRefreshCmd": "cat(var_dic_list()) "
    }
   },
   "types_to_exclude": [
    "module",
    "function",
    "builtin_function_or_method",
    "instance",
    "_Feature"
   ],
   "window_display": false
  }
 },
 "nbformat": 4,
 "nbformat_minor": 4
}
