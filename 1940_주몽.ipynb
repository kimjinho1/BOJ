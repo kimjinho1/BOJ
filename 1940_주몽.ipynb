{
 "cells": [
  {
   "cell_type": "markdown",
   "metadata": {},
   "source": [
    "## 맞는 코드"
   ]
  },
  {
   "cell_type": "code",
   "execution_count": 24,
   "metadata": {},
   "outputs": [
    {
     "name": "stdout",
     "output_type": "stream",
     "text": [
      "6\n",
      "9\n",
      "1 2 3 4 5 7\n",
      "2\n"
     ]
    }
   ],
   "source": [
    "N = int(input())\n",
    "M = int(input())\n",
    "li = sorted(list(map(int, input().split())))\n",
    "ans = 0\n",
    "s, e = 0, len(li)-1\n",
    "while s != e:\n",
    "    if li[s] + li[e] == M:\n",
    "        ans += 1\n",
    "        e -= 1\n",
    "    elif li[s] + li[e] < M:\n",
    "        s += 1\n",
    "    if li[s] + li[e] > M:\n",
    "        e -= 1\n",
    "print(ans)"
   ]
  },
  {
   "cell_type": "markdown",
   "metadata": {},
   "source": [
    "## 틀린 코드 -> 왜 틀린건지 모르겠다"
   ]
  },
  {
   "cell_type": "code",
   "execution_count": 26,
   "metadata": {},
   "outputs": [
    {
     "name": "stdout",
     "output_type": "stream",
     "text": [
      "3\n",
      "4\n",
      "1 2 3\n",
      "2\n"
     ]
    }
   ],
   "source": [
    "N = int(input())\n",
    "M = int(input())\n",
    "li = sorted(list(map(int, input().split())))\n",
    "ans = 0\n",
    "i = 0\n",
    "while i < len(li):\n",
    "    if M - li[i] in li:\n",
    "        ans += 1\n",
    "        li.pop(li.index(M-li[i]))\n",
    "    else:\n",
    "        i += 1\n",
    "print(ans)"
   ]
  },
  {
   "cell_type": "markdown",
   "metadata": {},
   "source": [
    "## li[i] 와 M - li[i]가 같은 경우 때문에 틀린 것 같다 \n",
    "## 아래와 같이 수정하니까 통과됬다\n",
    "## 허나 맨 위의 코드보다 느릴 수 밖에 없는 구조이다"
   ]
  },
  {
   "cell_type": "code",
   "execution_count": 29,
   "metadata": {},
   "outputs": [
    {
     "name": "stdout",
     "output_type": "stream",
     "text": [
      "3\n",
      "4\n",
      "1 2 3\n",
      "1\n"
     ]
    }
   ],
   "source": [
    "N = int(input())\n",
    "M = int(input())\n",
    "li = sorted(list(map(int, input().split())))\n",
    "ans = 0\n",
    "i = 0\n",
    "while i < len(li):\n",
    "    if li[i] != M - li[i] and M - li[i] in li:\n",
    "        ans += 1\n",
    "        li.pop(li.index(M-li[i]))\n",
    "    else:\n",
    "        i += 1\n",
    "print(ans)"
   ]
  },
  {
   "cell_type": "code",
   "execution_count": null,
   "metadata": {},
   "outputs": [],
   "source": []
  }
 ],
 "metadata": {
  "kernelspec": {
   "display_name": "Python 3",
   "language": "python",
   "name": "python3"
  },
  "language_info": {
   "codemirror_mode": {
    "name": "ipython",
    "version": 3
   },
   "file_extension": ".py",
   "mimetype": "text/x-python",
   "name": "python",
   "nbconvert_exporter": "python",
   "pygments_lexer": "ipython3",
   "version": "3.6.8"
  }
 },
 "nbformat": 4,
 "nbformat_minor": 2
}
