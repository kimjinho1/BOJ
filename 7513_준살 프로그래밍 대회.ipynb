{
 "cells": [
  {
   "cell_type": "code",
   "execution_count": 1,
   "id": "creative-vampire",
   "metadata": {
    "ExecuteTime": {
     "end_time": "2021-02-22T19:21:21.368540Z",
     "start_time": "2021-02-22T19:20:59.486059Z"
    },
    "scrolled": false
   },
   "outputs": [
    {
     "name": "stdout",
     "output_type": "stream",
     "text": [
      "2\n",
      "4\n",
      "an\n",
      "bar\n",
      "doh\n",
      "mu\n",
      "Scenario #1:\n",
      "2\n",
      "4 0 0 0 0\n",
      "anananan\n",
      "2 3 1\n",
      "mubar\n",
      "\n",
      "2\n",
      "a\n",
      "r\n",
      "Scenario #2:\n",
      "1\n",
      "10 0 1 1 1 1 1 1 1 1 1\n",
      "arrrrrrrrr\n",
      "\n"
     ]
    }
   ],
   "source": [
    "for case in range(int(input())):\n",
    "    words = [input() for _ in range(int(input()))]\n",
    "    print(f\"Scenario #{case+1}:\")\n",
    "    for _ in range(int(input())):\n",
    "        li = list(map(int, input().split()))\n",
    "        k, li = li[0], li[1:]\n",
    "        res = ''.join([words[i] for i in li])\n",
    "        print(res)\n",
    "    print()"
   ]
  },
  {
   "cell_type": "code",
   "execution_count": null,
   "id": "noted-shape",
   "metadata": {},
   "outputs": [],
   "source": []
  }
 ],
 "metadata": {
  "kernelspec": {
   "display_name": "Python 3",
   "language": "python",
   "name": "python3"
  },
  "language_info": {
   "codemirror_mode": {
    "name": "ipython",
    "version": 3
   },
   "file_extension": ".py",
   "mimetype": "text/x-python",
   "name": "python",
   "nbconvert_exporter": "python",
   "pygments_lexer": "ipython3",
   "version": "3.7.9"
  },
  "toc": {
   "base_numbering": 1,
   "nav_menu": {},
   "number_sections": true,
   "sideBar": true,
   "skip_h1_title": false,
   "title_cell": "Table of Contents",
   "title_sidebar": "Contents",
   "toc_cell": false,
   "toc_position": {},
   "toc_section_display": true,
   "toc_window_display": false
  },
  "varInspector": {
   "cols": {
    "lenName": 16,
    "lenType": 16,
    "lenVar": 40
   },
   "kernels_config": {
    "python": {
     "delete_cmd_postfix": "",
     "delete_cmd_prefix": "del ",
     "library": "var_list.py",
     "varRefreshCmd": "print(var_dic_list())"
    },
    "r": {
     "delete_cmd_postfix": ") ",
     "delete_cmd_prefix": "rm(",
     "library": "var_list.r",
     "varRefreshCmd": "cat(var_dic_list()) "
    }
   },
   "types_to_exclude": [
    "module",
    "function",
    "builtin_function_or_method",
    "instance",
    "_Feature"
   ],
   "window_display": false
  }
 },
 "nbformat": 4,
 "nbformat_minor": 5
}
