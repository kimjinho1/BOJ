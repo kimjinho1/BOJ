{
 "cells": [
  {
   "cell_type": "code",
   "execution_count": 4,
   "id": "broke-thailand",
   "metadata": {
    "ExecuteTime": {
     "end_time": "2021-02-22T16:50:35.692898Z",
     "start_time": "2021-02-22T16:50:34.604801Z"
    }
   },
   "outputs": [
    {
     "name": "stdout",
     "output_type": "stream",
     "text": [
      "8 28\n",
      "8 9 18 15 14 19 11 17 16 13 \n",
      "12 10 28 25 24 21 27 26 23 22 \n",
      "20 \n"
     ]
    }
   ],
   "source": [
    "d = {'1':'one', '2':'two', '3':'three', '4':'four', '5':'five', \n",
    "     '6':'six', '7':'seven', '8':'eight', '9':'nine', '0':'zero'}\n",
    "M, N = map(int, input().split())\n",
    "li = []\n",
    "for i in range(M, N+1):\n",
    "    s = ' '.join([d[c] for c in str(i)])\n",
    "    li.append([i, s])\n",
    "li.sort(key=lambda x:x[1])\n",
    "for i in range(len(li)):\n",
    "    if i%10 == 0 and i!= 0:\n",
    "        print()\n",
    "    print(li[i][0], end=' ')"
   ]
  },
  {
   "cell_type": "code",
   "execution_count": null,
   "id": "latest-oliver",
   "metadata": {},
   "outputs": [],
   "source": []
  }
 ],
 "metadata": {
  "kernelspec": {
   "display_name": "Python 3",
   "language": "python",
   "name": "python3"
  },
  "language_info": {
   "codemirror_mode": {
    "name": "ipython",
    "version": 3
   },
   "file_extension": ".py",
   "mimetype": "text/x-python",
   "name": "python",
   "nbconvert_exporter": "python",
   "pygments_lexer": "ipython3",
   "version": "3.7.9"
  },
  "toc": {
   "base_numbering": 1,
   "nav_menu": {},
   "number_sections": true,
   "sideBar": true,
   "skip_h1_title": false,
   "title_cell": "Table of Contents",
   "title_sidebar": "Contents",
   "toc_cell": false,
   "toc_position": {},
   "toc_section_display": true,
   "toc_window_display": false
  },
  "varInspector": {
   "cols": {
    "lenName": 16,
    "lenType": 16,
    "lenVar": 40
   },
   "kernels_config": {
    "python": {
     "delete_cmd_postfix": "",
     "delete_cmd_prefix": "del ",
     "library": "var_list.py",
     "varRefreshCmd": "print(var_dic_list())"
    },
    "r": {
     "delete_cmd_postfix": ") ",
     "delete_cmd_prefix": "rm(",
     "library": "var_list.r",
     "varRefreshCmd": "cat(var_dic_list()) "
    }
   },
   "types_to_exclude": [
    "module",
    "function",
    "builtin_function_or_method",
    "instance",
    "_Feature"
   ],
   "window_display": false
  }
 },
 "nbformat": 4,
 "nbformat_minor": 5
}
