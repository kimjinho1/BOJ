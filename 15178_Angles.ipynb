{
 "cells": [
  {
   "cell_type": "code",
   "execution_count": 2,
   "metadata": {
    "ExecuteTime": {
     "end_time": "2021-03-07T12:56:51.713017Z",
     "start_time": "2021-03-07T12:56:16.293820Z"
    }
   },
   "outputs": [
    {
     "name": "stdout",
     "output_type": "stream",
     "text": [
      "10\n",
      "59 60 60\n",
      "59 60 60 Check\n",
      "42 68 70\n",
      "42 68 70 Seems OK\n",
      "65 65 50\n",
      "65 65 50 Seems OK\n",
      "120 31 28\n",
      "120 31 28 Check\n",
      "61 61 58\n",
      "61 61 58 Seems OK\n",
      "78 61 41\n",
      "78 61 41 Seems OK\n",
      "85 85 9\n",
      "85 85 9 Check\n",
      "64 82 35\n",
      "64 82 35 Check\n",
      "29 102 49\n",
      "29 102 49 Seems OK\n",
      "120 30 30\n",
      "120 30 30 Seems OK\n"
     ]
    }
   ],
   "source": [
    "for _ in range(int(input())):\n",
    "    li = list(map(int, input().split()))\n",
    "    print(*li, end=' ')\n",
    "    print(\"Seems OK\" if sum(li) == 180 else \"Check\")"
   ]
  },
  {
   "cell_type": "code",
   "execution_count": null,
   "metadata": {},
   "outputs": [],
   "source": []
  }
 ],
 "metadata": {
  "kernelspec": {
   "display_name": "Python 3",
   "language": "python",
   "name": "python3"
  },
  "language_info": {
   "codemirror_mode": {
    "name": "ipython",
    "version": 3
   },
   "file_extension": ".py",
   "mimetype": "text/x-python",
   "name": "python",
   "nbconvert_exporter": "python",
   "pygments_lexer": "ipython3",
   "version": "3.8.5"
  },
  "toc": {
   "base_numbering": 1,
   "nav_menu": {},
   "number_sections": true,
   "sideBar": true,
   "skip_h1_title": false,
   "title_cell": "Table of Contents",
   "title_sidebar": "Contents",
   "toc_cell": false,
   "toc_position": {},
   "toc_section_display": true,
   "toc_window_display": false
  },
  "varInspector": {
   "cols": {
    "lenName": 16,
    "lenType": 16,
    "lenVar": 40
   },
   "kernels_config": {
    "python": {
     "delete_cmd_postfix": "",
     "delete_cmd_prefix": "del ",
     "library": "var_list.py",
     "varRefreshCmd": "print(var_dic_list())"
    },
    "r": {
     "delete_cmd_postfix": ") ",
     "delete_cmd_prefix": "rm(",
     "library": "var_list.r",
     "varRefreshCmd": "cat(var_dic_list()) "
    }
   },
   "types_to_exclude": [
    "module",
    "function",
    "builtin_function_or_method",
    "instance",
    "_Feature"
   ],
   "window_display": false
  }
 },
 "nbformat": 4,
 "nbformat_minor": 4
}
