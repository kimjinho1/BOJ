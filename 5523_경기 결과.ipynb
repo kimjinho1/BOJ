{
 "cells": [
  {
   "cell_type": "code",
   "execution_count": 7,
   "id": "cubic-waters",
   "metadata": {
    "ExecuteTime": {
     "end_time": "2021-02-13T16:28:15.148653Z",
     "start_time": "2021-02-13T16:28:09.078953Z"
    }
   },
   "outputs": [
    {
     "name": "stdout",
     "output_type": "stream",
     "text": [
      "4\n",
      "100 0\n",
      "5 6\n",
      "40 50\n",
      "74 75\n",
      "1 3\n"
     ]
    }
   ],
   "source": [
    "a = b = 0\n",
    "for _ in range(int(input())):\n",
    "    A, B = map(int, input().split())\n",
    "    if A > B:\n",
    "        a += 1\n",
    "    elif A < B:\n",
    "        b += 1\n",
    "print(a, b)"
   ]
  },
  {
   "cell_type": "code",
   "execution_count": 4,
   "id": "headed-earthquake",
   "metadata": {
    "ExecuteTime": {
     "end_time": "2021-02-13T16:26:18.978431Z",
     "start_time": "2021-02-13T16:26:06.214896Z"
    }
   },
   "outputs": [
    {
     "name": "stdout",
     "output_type": "stream",
     "text": [
      "5\n",
      "20 20\n",
      "3 95\n",
      "60 59\n",
      "40 40\n",
      "20 19\n",
      "2 1\n"
     ]
    }
   ],
   "source": [
    "a = b = 0\n",
    "for _ in range(int(input())):\n",
    "    A, B = map(int, input().split())\n",
    "    if A > B:\n",
    "        a += 1\n",
    "    elif A < B:\n",
    "        b += 1\n",
    "print(a, b)"
   ]
  },
  {
   "cell_type": "code",
   "execution_count": null,
   "id": "gross-generator",
   "metadata": {},
   "outputs": [],
   "source": [
    "from sys import stdin\n",
    "\n",
    "a = b = 0\n",
    "for _ in range(int(stdin.readline())):\n",
    "    A, B = map(int, stdin.readline().split())\n",
    "    if A > B:\n",
    "        a += 1\n",
    "    elif A < B:\n",
    "        b += 1\n",
    "print(a, b)"
   ]
  },
  {
   "cell_type": "code",
   "execution_count": null,
   "id": "found-warrant",
   "metadata": {},
   "outputs": [],
   "source": []
  }
 ],
 "metadata": {
  "kernelspec": {
   "display_name": "Python 3",
   "language": "python",
   "name": "python3"
  },
  "language_info": {
   "codemirror_mode": {
    "name": "ipython",
    "version": 3
   },
   "file_extension": ".py",
   "mimetype": "text/x-python",
   "name": "python",
   "nbconvert_exporter": "python",
   "pygments_lexer": "ipython3",
   "version": "3.7.9"
  },
  "toc": {
   "base_numbering": 1,
   "nav_menu": {},
   "number_sections": true,
   "sideBar": true,
   "skip_h1_title": false,
   "title_cell": "Table of Contents",
   "title_sidebar": "Contents",
   "toc_cell": false,
   "toc_position": {},
   "toc_section_display": true,
   "toc_window_display": false
  },
  "varInspector": {
   "cols": {
    "lenName": 16,
    "lenType": 16,
    "lenVar": 40
   },
   "kernels_config": {
    "python": {
     "delete_cmd_postfix": "",
     "delete_cmd_prefix": "del ",
     "library": "var_list.py",
     "varRefreshCmd": "print(var_dic_list())"
    },
    "r": {
     "delete_cmd_postfix": ") ",
     "delete_cmd_prefix": "rm(",
     "library": "var_list.r",
     "varRefreshCmd": "cat(var_dic_list()) "
    }
   },
   "types_to_exclude": [
    "module",
    "function",
    "builtin_function_or_method",
    "instance",
    "_Feature"
   ],
   "window_display": false
  }
 },
 "nbformat": 4,
 "nbformat_minor": 5
}
