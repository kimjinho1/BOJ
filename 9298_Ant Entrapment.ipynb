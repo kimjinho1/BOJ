{
 "cells": [
  {
   "cell_type": "code",
   "execution_count": 12,
   "id": "backed-lodge",
   "metadata": {
    "ExecuteTime": {
     "end_time": "2021-02-19T01:49:53.221308Z",
     "start_time": "2021-02-19T01:49:30.873850Z"
    }
   },
   "outputs": [
    {
     "name": "stdout",
     "output_type": "stream",
     "text": [
      "2\n",
      "3\n",
      "-1.000 0.000\n",
      "5.000 11.500\n",
      "3.200 -4.250\n",
      "Case 1: Area 94.5, Perimeter 43.5\n",
      "2\n",
      "2.125 0.500\n",
      "6.875 9.100\n",
      "Case 2: Area 40.9, Perimeter 26.7\n"
     ]
    }
   ],
   "source": [
    "for i in range(int(input())):\n",
    "    n = int(input())\n",
    "    li = [list(map(float, input().split())) for n in range(n)]\n",
    "    X = sorted(li, key=lambda x:x[0])\n",
    "    Y = sorted(li, key=lambda x:x[1])\n",
    "    print(f\"Case {i+1}:\", end=' ')\n",
    "    if n == 1:\n",
    "        area = 0; per = 0\n",
    "    else:\n",
    "        x = X[-1][0]-X[0][0]; y = Y[-1][1]-Y[0][1]\n",
    "        area = x*y\n",
    "        per = 2*(x+y)\n",
    "    print(f\"Area {area}, Perimeter {per}\")"
   ]
  },
  {
   "cell_type": "code",
   "execution_count": null,
   "id": "checked-doctrine",
   "metadata": {
    "ExecuteTime": {
     "end_time": "2021-02-19T01:53:20.803020Z",
     "start_time": "2021-02-19T01:53:20.765296Z"
    }
   },
   "outputs": [],
   "source": [
    "from sys import stdin\n",
    "\n",
    "for i in range(int(stdin.readline())):\n",
    "    n = int(stdin.readline())\n",
    "    li = [list(map(float, stdin.readline().split())) for n in range(n)]\n",
    "    X = sorted(li, key=lambda x:x[0])\n",
    "    Y = sorted(li, key=lambda x:x[1])\n",
    "    print(f\"Case {i+1}:\", end=' ')\n",
    "    if n == 1:\n",
    "        area = 0; per = 0\n",
    "    else:\n",
    "        x = X[-1][0]-X[0][0]; y = Y[-1][1]-Y[0][1]\n",
    "        area = x*y\n",
    "        per = 2*(x+y)\n",
    "    print(f\"Area {area}, Perimeter {per}\")"
   ]
  },
  {
   "cell_type": "code",
   "execution_count": null,
   "id": "described-snake",
   "metadata": {},
   "outputs": [],
   "source": []
  }
 ],
 "metadata": {
  "kernelspec": {
   "display_name": "Python 3",
   "language": "python",
   "name": "python3"
  },
  "language_info": {
   "codemirror_mode": {
    "name": "ipython",
    "version": 3
   },
   "file_extension": ".py",
   "mimetype": "text/x-python",
   "name": "python",
   "nbconvert_exporter": "python",
   "pygments_lexer": "ipython3",
   "version": "3.7.9"
  },
  "toc": {
   "base_numbering": 1,
   "nav_menu": {},
   "number_sections": true,
   "sideBar": true,
   "skip_h1_title": false,
   "title_cell": "Table of Contents",
   "title_sidebar": "Contents",
   "toc_cell": false,
   "toc_position": {},
   "toc_section_display": true,
   "toc_window_display": false
  },
  "varInspector": {
   "cols": {
    "lenName": 16,
    "lenType": 16,
    "lenVar": 40
   },
   "kernels_config": {
    "python": {
     "delete_cmd_postfix": "",
     "delete_cmd_prefix": "del ",
     "library": "var_list.py",
     "varRefreshCmd": "print(var_dic_list())"
    },
    "r": {
     "delete_cmd_postfix": ") ",
     "delete_cmd_prefix": "rm(",
     "library": "var_list.r",
     "varRefreshCmd": "cat(var_dic_list()) "
    }
   },
   "types_to_exclude": [
    "module",
    "function",
    "builtin_function_or_method",
    "instance",
    "_Feature"
   ],
   "window_display": false
  }
 },
 "nbformat": 4,
 "nbformat_minor": 5
}
