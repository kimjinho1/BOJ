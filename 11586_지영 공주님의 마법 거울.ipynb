{
 "cells": [
  {
   "cell_type": "code",
   "execution_count": 4,
   "metadata": {},
   "outputs": [
    {
     "name": "stdout",
     "output_type": "stream",
     "text": [
      "8\n",
      "OOOOOOOO\n",
      "OKKOOEEO\n",
      "OKKOOEEO\n",
      "OOOSSOOO\n",
      "OOOSSOOO\n",
      "OAOOOOAO\n",
      "OOAAAAOO\n",
      "OOOOOOOO\n",
      "3\n",
      "OOOOOOOO\n",
      "OOAAAAOO\n",
      "OAOOOOAO\n",
      "OOOSSOOO\n",
      "OOOSSOOO\n",
      "OKKOOEEO\n",
      "OKKOOEEO\n",
      "OOOOOOOO\n"
     ]
    }
   ],
   "source": [
    "n = int(input())\n",
    "li = []\n",
    "for i in range(n):\n",
    "    li.append(input())\n",
    "K = int(input())\n",
    "if K == 2:\n",
    "    for i in range(n):\n",
    "        li[i] = li[i][::-1]\n",
    "elif K == 3:\n",
    "    li = li[::-1]\n",
    "for i in range(n):\n",
    "    print(li[i])"
   ]
  }
 ],
 "metadata": {
  "kernelspec": {
   "display_name": "Python 3",
   "language": "python",
   "name": "python3"
  },
  "language_info": {
   "codemirror_mode": {
    "name": "ipython",
    "version": 3
   },
   "file_extension": ".py",
   "mimetype": "text/x-python",
   "name": "python",
   "nbconvert_exporter": "python",
   "pygments_lexer": "ipython3",
   "version": "3.6.10"
  }
 },
 "nbformat": 4,
 "nbformat_minor": 2
}
