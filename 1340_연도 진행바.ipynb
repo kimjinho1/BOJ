{
 "cells": [
  {
   "cell_type": "code",
   "execution_count": 44,
   "id": "fatty-medicare",
   "metadata": {
    "ExecuteTime": {
     "end_time": "2021-02-15T20:14:14.279344Z",
     "start_time": "2021-02-15T20:14:13.847187Z"
    }
   },
   "outputs": [
    {
     "name": "stdout",
     "output_type": "stream",
     "text": [
      "May 10, 1981 00:31\n",
      "35.348363774733635\n"
     ]
    }
   ],
   "source": [
    "Month, D, Y, T = input().split()\n",
    "D = int(D[:-1])\n",
    "Y = int(Y)\n",
    "H, M = map(int, T.split(':'))\n",
    "month_name_li = [\"January\" , \"February\", \"March\", \"April\", \"May\", \"June\", \n",
    "            \"July\", \"August\", \"September\", \"October\", \"November\", \"December\"]\n",
    "month_day_li = [31, 28, 31, 30, 31, 30, 31, 31, 30, 31, 30, 31]\n",
    "if Y%400 == 0 or (Y%4 == 0 and Y%100 != 0):\n",
    "    month_day_li[1] += 1\n",
    "total_time = sum(month_day_li) * 24 * 60\n",
    "\n",
    "last_month_idx = month_name_li.index(Month)\n",
    "current_time = (sum(month_day_li[:last_month_idx]) + D-1)*24*60 + H*60 + M\n",
    "print(current_time/total_time * 100)"
   ]
  },
  {
   "cell_type": "code",
   "execution_count": null,
   "id": "united-rubber",
   "metadata": {},
   "outputs": [],
   "source": []
  }
 ],
 "metadata": {
  "kernelspec": {
   "display_name": "Python 3",
   "language": "python",
   "name": "python3"
  },
  "language_info": {
   "codemirror_mode": {
    "name": "ipython",
    "version": 3
   },
   "file_extension": ".py",
   "mimetype": "text/x-python",
   "name": "python",
   "nbconvert_exporter": "python",
   "pygments_lexer": "ipython3",
   "version": "3.7.9"
  },
  "toc": {
   "base_numbering": 1,
   "nav_menu": {},
   "number_sections": true,
   "sideBar": true,
   "skip_h1_title": false,
   "title_cell": "Table of Contents",
   "title_sidebar": "Contents",
   "toc_cell": false,
   "toc_position": {},
   "toc_section_display": true,
   "toc_window_display": false
  },
  "varInspector": {
   "cols": {
    "lenName": 16,
    "lenType": 16,
    "lenVar": 40
   },
   "kernels_config": {
    "python": {
     "delete_cmd_postfix": "",
     "delete_cmd_prefix": "del ",
     "library": "var_list.py",
     "varRefreshCmd": "print(var_dic_list())"
    },
    "r": {
     "delete_cmd_postfix": ") ",
     "delete_cmd_prefix": "rm(",
     "library": "var_list.r",
     "varRefreshCmd": "cat(var_dic_list()) "
    }
   },
   "types_to_exclude": [
    "module",
    "function",
    "builtin_function_or_method",
    "instance",
    "_Feature"
   ],
   "window_display": false
  }
 },
 "nbformat": 4,
 "nbformat_minor": 5
}
