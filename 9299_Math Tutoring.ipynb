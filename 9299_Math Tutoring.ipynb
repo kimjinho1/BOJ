{
 "cells": [
  {
   "cell_type": "code",
   "execution_count": 10,
   "id": "potential-celebration",
   "metadata": {
    "ExecuteTime": {
     "end_time": "2021-02-19T02:07:47.402121Z",
     "start_time": "2021-02-19T02:07:27.805587Z"
    }
   },
   "outputs": [
    {
     "name": "stdout",
     "output_type": "stream",
     "text": [
      "4\n",
      "3 2 0 -1 3\n",
      "Case 1: 2 6 0 -1\n",
      "4 3 2 7 5 7\n",
      "Case 2: 3 12 6 14 5\n",
      "5 6 5 4 3 2 1\n",
      "Case 3: 4 30 20 12 6 2\n",
      "1 5 10\n",
      "Case 4: 0 5\n"
     ]
    }
   ],
   "source": [
    "for case in range(int(input())):\n",
    "    t = list(map(int, input().split()))\n",
    "    n = t[0]; li = t[1:]\n",
    "    res = []\n",
    "    for i in range(n):\n",
    "        res.append(li[i]*(n-i))\n",
    "    print(f\"Case {case+1}: {n-1}\", *res)"
   ]
  },
  {
   "cell_type": "code",
   "execution_count": null,
   "id": "correct-midnight",
   "metadata": {},
   "outputs": [],
   "source": [
    "from sys import stdin\n",
    "\n",
    "for case in range(int(stdin.readline())):\n",
    "    t = list(map(int, stdin.readline().split()))\n",
    "    n = t[0]; li = t[1:]\n",
    "    res = []\n",
    "    for i in range(n):\n",
    "        res.append(li[i]*(n-i))\n",
    "    print(f\"Case {case+1}: {n-1}\", *res)"
   ]
  },
  {
   "cell_type": "code",
   "execution_count": null,
   "id": "romance-running",
   "metadata": {},
   "outputs": [],
   "source": []
  }
 ],
 "metadata": {
  "kernelspec": {
   "display_name": "Python 3",
   "language": "python",
   "name": "python3"
  },
  "language_info": {
   "codemirror_mode": {
    "name": "ipython",
    "version": 3
   },
   "file_extension": ".py",
   "mimetype": "text/x-python",
   "name": "python",
   "nbconvert_exporter": "python",
   "pygments_lexer": "ipython3",
   "version": "3.7.9"
  },
  "toc": {
   "base_numbering": 1,
   "nav_menu": {},
   "number_sections": true,
   "sideBar": true,
   "skip_h1_title": false,
   "title_cell": "Table of Contents",
   "title_sidebar": "Contents",
   "toc_cell": false,
   "toc_position": {},
   "toc_section_display": true,
   "toc_window_display": false
  },
  "varInspector": {
   "cols": {
    "lenName": 16,
    "lenType": 16,
    "lenVar": 40
   },
   "kernels_config": {
    "python": {
     "delete_cmd_postfix": "",
     "delete_cmd_prefix": "del ",
     "library": "var_list.py",
     "varRefreshCmd": "print(var_dic_list())"
    },
    "r": {
     "delete_cmd_postfix": ") ",
     "delete_cmd_prefix": "rm(",
     "library": "var_list.r",
     "varRefreshCmd": "cat(var_dic_list()) "
    }
   },
   "types_to_exclude": [
    "module",
    "function",
    "builtin_function_or_method",
    "instance",
    "_Feature"
   ],
   "window_display": false
  }
 },
 "nbformat": 4,
 "nbformat_minor": 5
}
