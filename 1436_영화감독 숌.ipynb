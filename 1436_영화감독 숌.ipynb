{
 "cells": [
  {
   "cell_type": "code",
   "execution_count": 10,
   "metadata": {},
   "outputs": [
    {
     "name": "stdout",
     "output_type": "stream",
     "text": [
      "9999\n",
      "2666798\n"
     ]
    }
   ],
   "source": [
    "# 시간 초과일 것 같았는데 통과됬다.\n",
    "# 그래도 너무 간단하게 풀어서 나중에 다르게 풀어봐야 될 것 같다.\n",
    "N = int(input())\n",
    "cnt = 0\n",
    "i = 665\n",
    "while(cnt != N):\n",
    "    i += 1\n",
    "    if '666' in str(i):\n",
    "        cnt += 1\n",
    "print(i)"
   ]
  }
 ],
 "metadata": {
  "kernelspec": {
   "display_name": "Python 3",
   "language": "python",
   "name": "python3"
  },
  "language_info": {
   "codemirror_mode": {
    "name": "ipython",
    "version": 3
   },
   "file_extension": ".py",
   "mimetype": "text/x-python",
   "name": "python",
   "nbconvert_exporter": "python",
   "pygments_lexer": "ipython3",
   "version": "3.6.8"
  }
 },
 "nbformat": 4,
 "nbformat_minor": 2
}
