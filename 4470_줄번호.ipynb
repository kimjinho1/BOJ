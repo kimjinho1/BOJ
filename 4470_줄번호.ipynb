{
 "cells": [
  {
   "cell_type": "code",
   "execution_count": 3,
   "metadata": {},
   "outputs": [
    {
     "name": "stdout",
     "output_type": "stream",
     "text": [
      "5\n",
      "Lionel Cosgrove\n",
      "Alice\n",
      "Columbus and Tallahassee\n",
      "Shaun and Ed\n",
      "Fido\n",
      "1. Lionel Cosgrove\n",
      "2. Alice\n",
      "3. Columbus and Tallahassee\n",
      "4. Shaun and Ed\n",
      "5. Fido\n"
     ]
    }
   ],
   "source": [
    "li = []\n",
    "for _ in range(int(input())):\n",
    "    li.append(input())\n",
    "for i in range(1, len(li)+1):\n",
    "    print('{0}. {1}'.format(i, li[i-1]))"
   ]
  },
  {
   "cell_type": "code",
   "execution_count": null,
   "metadata": {},
   "outputs": [],
   "source": []
  }
 ],
 "metadata": {
  "kernelspec": {
   "display_name": "Python 3",
   "language": "python",
   "name": "python3"
  },
  "language_info": {
   "codemirror_mode": {
    "name": "ipython",
    "version": 3
   },
   "file_extension": ".py",
   "mimetype": "text/x-python",
   "name": "python",
   "nbconvert_exporter": "python",
   "pygments_lexer": "ipython3",
   "version": "3.6.8"
  }
 },
 "nbformat": 4,
 "nbformat_minor": 2
}
