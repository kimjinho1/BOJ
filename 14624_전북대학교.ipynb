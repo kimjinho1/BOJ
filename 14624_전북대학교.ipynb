{
 "cells": [
  {
   "cell_type": "code",
   "execution_count": 13,
   "metadata": {
    "ExecuteTime": {
     "end_time": "2021-03-25T13:03:49.408996Z",
     "start_time": "2021-03-25T13:03:48.957439Z"
    }
   },
   "outputs": [
    {
     "name": "stdout",
     "output_type": "stream",
     "text": [
      "3\n",
      "***\n",
      " *\n",
      "* *\n"
     ]
    }
   ],
   "source": [
    "N = int(input())\n",
    "if N%2:\n",
    "    t = N//2\n",
    "    print('*'*N)\n",
    "    print(' '*(N-t-1) + '*')\n",
    "    for i in range(t):\n",
    "        print(' '*(t-i-1) + '*' + ' '*(2*i+1) + '*')\n",
    "else:\n",
    "    print(\"I LOVE CBNU\")"
   ]
  },
  {
   "cell_type": "code",
   "execution_count": 11,
   "metadata": {
    "ExecuteTime": {
     "end_time": "2021-03-25T13:03:43.654139Z",
     "start_time": "2021-03-25T13:03:42.954788Z"
    }
   },
   "outputs": [
    {
     "name": "stdout",
     "output_type": "stream",
     "text": [
      "7\n",
      "*******\n",
      "   *\n",
      "  * *\n",
      " *   *\n",
      "*     *\n"
     ]
    }
   ],
   "source": [
    "N = int(input())\n",
    "if N%2:\n",
    "    t = N//2\n",
    "    print('*'*N)\n",
    "    print(' '*(N-t-1) + '*')\n",
    "    for i in range(t):\n",
    "        print(' '*(t-i-1) + '*' + ' '*(2*i+1) + '*')\n",
    "else:\n",
    "    print(\"I LOVE CBNU\")"
   ]
  },
  {
   "cell_type": "code",
   "execution_count": 12,
   "metadata": {
    "ExecuteTime": {
     "end_time": "2021-03-25T13:03:46.900359Z",
     "start_time": "2021-03-25T13:03:45.602632Z"
    }
   },
   "outputs": [
    {
     "name": "stdout",
     "output_type": "stream",
     "text": [
      "4\n",
      "I LOVE CBNU\n"
     ]
    }
   ],
   "source": [
    "N = int(input())\n",
    "if N%2:\n",
    "    t = N//2\n",
    "    print('*'*N)\n",
    "    print(' '*(N-t-1) + '*')\n",
    "    for i in range(t):\n",
    "        print(' '*(t-i-1) + '*' + ' '*(2*i+1) + '*')\n",
    "else:\n",
    "    print(\"I LOVE CBNU\")"
   ]
  },
  {
   "cell_type": "code",
   "execution_count": null,
   "metadata": {},
   "outputs": [],
   "source": []
  }
 ],
 "metadata": {
  "kernelspec": {
   "display_name": "Python 3",
   "language": "python",
   "name": "python3"
  },
  "language_info": {
   "codemirror_mode": {
    "name": "ipython",
    "version": 3
   },
   "file_extension": ".py",
   "mimetype": "text/x-python",
   "name": "python",
   "nbconvert_exporter": "python",
   "pygments_lexer": "ipython3",
   "version": "3.8.5"
  },
  "toc": {
   "base_numbering": 1,
   "nav_menu": {},
   "number_sections": true,
   "sideBar": true,
   "skip_h1_title": false,
   "title_cell": "Table of Contents",
   "title_sidebar": "Contents",
   "toc_cell": false,
   "toc_position": {},
   "toc_section_display": true,
   "toc_window_display": false
  },
  "varInspector": {
   "cols": {
    "lenName": 16,
    "lenType": 16,
    "lenVar": 40
   },
   "kernels_config": {
    "python": {
     "delete_cmd_postfix": "",
     "delete_cmd_prefix": "del ",
     "library": "var_list.py",
     "varRefreshCmd": "print(var_dic_list())"
    },
    "r": {
     "delete_cmd_postfix": ") ",
     "delete_cmd_prefix": "rm(",
     "library": "var_list.r",
     "varRefreshCmd": "cat(var_dic_list()) "
    }
   },
   "types_to_exclude": [
    "module",
    "function",
    "builtin_function_or_method",
    "instance",
    "_Feature"
   ],
   "window_display": false
  }
 },
 "nbformat": 4,
 "nbformat_minor": 4
}
