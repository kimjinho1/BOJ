{
 "cells": [
  {
   "cell_type": "code",
   "execution_count": 6,
   "metadata": {
    "ExecuteTime": {
     "end_time": "2021-02-07T09:05:19.051376Z",
     "start_time": "2021-02-07T09:05:17.017780Z"
    }
   },
   "outputs": [
    {
     "name": "stdout",
     "output_type": "stream",
     "text": [
      "8 4\n",
      "7 9\n",
      "Whole pizza\n"
     ]
    }
   ],
   "source": [
    "from math import pi\n",
    "\n",
    "A1, P1 = map(int, input().split())\n",
    "R1, P2 = map(int, input().split())\n",
    "if P1/A1 < P2/(R1**2*pi):\n",
    "    print(\"Slice of pizza\")\n",
    "else:\n",
    "    print(\"Whole pizza\")"
   ]
  },
  {
   "cell_type": "code",
   "execution_count": 7,
   "metadata": {
    "ExecuteTime": {
     "end_time": "2021-02-07T09:05:23.752775Z",
     "start_time": "2021-02-07T09:05:22.060297Z"
    }
   },
   "outputs": [
    {
     "name": "stdout",
     "output_type": "stream",
     "text": [
      "9 2\n",
      "4 7\n",
      "Whole pizza\n"
     ]
    }
   ],
   "source": [
    "from math import pi\n",
    "\n",
    "A1, P1 = map(int, input().split())\n",
    "R1, P2 = map(int, input().split())\n",
    "if P1/A1 < P2/(R1**2*pi):\n",
    "    print(\"Slice of pizza\")\n",
    "else:\n",
    "    print(\"Whole pizza\")"
   ]
  },
  {
   "cell_type": "code",
   "execution_count": 8,
   "metadata": {
    "ExecuteTime": {
     "end_time": "2021-02-07T09:05:28.959852Z",
     "start_time": "2021-02-07T09:05:25.645723Z"
    }
   },
   "outputs": [
    {
     "name": "stdout",
     "output_type": "stream",
     "text": [
      "841 108\n",
      "8 606\n",
      "Slice of pizza\n"
     ]
    }
   ],
   "source": [
    "from math import pi\n",
    "\n",
    "A1, P1 = map(int, input().split())\n",
    "R1, P2 = map(int, input().split())\n",
    "if P1/A1 < P2/(R1**2*pi):\n",
    "    print(\"Slice of pizza\")\n",
    "else:\n",
    "    print(\"Whole pizza\")"
   ]
  },
  {
   "cell_type": "code",
   "execution_count": null,
   "metadata": {},
   "outputs": [],
   "source": []
  }
 ],
 "metadata": {
  "kernelspec": {
   "display_name": "Python 3",
   "language": "python",
   "name": "python3"
  },
  "language_info": {
   "codemirror_mode": {
    "name": "ipython",
    "version": 3
   },
   "file_extension": ".py",
   "mimetype": "text/x-python",
   "name": "python",
   "nbconvert_exporter": "python",
   "pygments_lexer": "ipython3",
   "version": "3.6.10"
  },
  "toc": {
   "base_numbering": 1,
   "nav_menu": {},
   "number_sections": true,
   "sideBar": true,
   "skip_h1_title": false,
   "title_cell": "Table of Contents",
   "title_sidebar": "Contents",
   "toc_cell": false,
   "toc_position": {},
   "toc_section_display": true,
   "toc_window_display": false
  },
  "varInspector": {
   "cols": {
    "lenName": 16,
    "lenType": 16,
    "lenVar": 40
   },
   "kernels_config": {
    "python": {
     "delete_cmd_postfix": "",
     "delete_cmd_prefix": "del ",
     "library": "var_list.py",
     "varRefreshCmd": "print(var_dic_list())"
    },
    "r": {
     "delete_cmd_postfix": ") ",
     "delete_cmd_prefix": "rm(",
     "library": "var_list.r",
     "varRefreshCmd": "cat(var_dic_list()) "
    }
   },
   "types_to_exclude": [
    "module",
    "function",
    "builtin_function_or_method",
    "instance",
    "_Feature"
   ],
   "window_display": false
  }
 },
 "nbformat": 4,
 "nbformat_minor": 4
}
