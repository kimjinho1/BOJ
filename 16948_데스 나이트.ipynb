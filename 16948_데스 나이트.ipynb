{
 "cells": [
  {
   "cell_type": "code",
   "execution_count": 1,
   "metadata": {
    "ExecuteTime": {
     "end_time": "2021-03-13T08:29:51.068955Z",
     "start_time": "2021-03-13T08:29:47.798340Z"
    }
   },
   "outputs": [
    {
     "name": "stdout",
     "output_type": "stream",
     "text": [
      "7\n",
      "6 6 0 1\n",
      "4\n"
     ]
    }
   ],
   "source": [
    "from collections import deque\n",
    "\n",
    "def bfs(y, x):\n",
    "    q = deque()\n",
    "    q.append((y, x))\n",
    "    graph[y][x] = 0\n",
    "    while q:\n",
    "        y, x = q.popleft()\n",
    "        for dy, dx in d:\n",
    "            Y, X = y+dy, x+dx\n",
    "            if (0 <= Y < N) and (0 <= X < N) and graph[Y][X] == -1:\n",
    "                q.append((Y, X))\n",
    "                graph[Y][X] = graph[y][x]+1\n",
    "\n",
    "N = int(input())\n",
    "sr, sc, er, ec = map(int, input().split())\n",
    "graph = [[-1]*(N) for _ in range(N)]\n",
    "d = [(-2, -1), (-2, 1), (0, -2), (0, 2), (2, -1), (2, 1)]\n",
    "bfs(sr, sc)\n",
    "print(graph[er][ec])"
   ]
  },
  {
   "cell_type": "code",
   "execution_count": 2,
   "metadata": {
    "ExecuteTime": {
     "end_time": "2021-03-13T08:29:56.327662Z",
     "start_time": "2021-03-13T08:29:54.433205Z"
    }
   },
   "outputs": [
    {
     "name": "stdout",
     "output_type": "stream",
     "text": [
      "6\n",
      "5 1 0 5\n",
      "-1\n"
     ]
    }
   ],
   "source": [
    "from collections import deque\n",
    "\n",
    "def bfs(y, x):\n",
    "    q = deque()\n",
    "    q.append((y, x))\n",
    "    graph[y][x] = 0\n",
    "    while q:\n",
    "        y, x = q.popleft()\n",
    "        for dy, dx in d:\n",
    "            Y, X = y+dy, x+dx\n",
    "            if (0 <= Y < N) and (0 <= X < N) and graph[Y][X] == -1:\n",
    "                q.append((Y, X))\n",
    "                graph[Y][X] = graph[y][x]+1\n",
    "\n",
    "N = int(input())\n",
    "sr, sc, er, ec = map(int, input().split())\n",
    "graph = [[-1]*(N) for _ in range(N)]\n",
    "d = [(-2, -1), (-2, 1), (0, -2), (0, 2), (2, -1), (2, 1)]\n",
    "bfs(sr, sc)\n",
    "print(graph[er][ec])"
   ]
  },
  {
   "cell_type": "code",
   "execution_count": 3,
   "metadata": {
    "ExecuteTime": {
     "end_time": "2021-03-13T08:30:02.322132Z",
     "start_time": "2021-03-13T08:29:58.960904Z"
    }
   },
   "outputs": [
    {
     "name": "stdout",
     "output_type": "stream",
     "text": [
      "7\n",
      "0 3 4 3\n",
      "2\n"
     ]
    }
   ],
   "source": [
    "from collections import deque\n",
    "\n",
    "def bfs(y, x):\n",
    "    q = deque()\n",
    "    q.append((y, x))\n",
    "    graph[y][x] = 0\n",
    "    while q:\n",
    "        y, x = q.popleft()\n",
    "        for dy, dx in d:\n",
    "            Y, X = y+dy, x+dx\n",
    "            if (0 <= Y < N) and (0 <= X < N) and graph[Y][X] == -1:\n",
    "                q.append((Y, X))\n",
    "                graph[Y][X] = graph[y][x]+1\n",
    "\n",
    "N = int(input())\n",
    "sr, sc, er, ec = map(int, input().split())\n",
    "graph = [[-1]*(N) for _ in range(N)]\n",
    "d = [(-2, -1), (-2, 1), (0, -2), (0, 2), (2, -1), (2, 1)]\n",
    "bfs(sr, sc)\n",
    "print(graph[er][ec])"
   ]
  },
  {
   "cell_type": "code",
   "execution_count": null,
   "metadata": {},
   "outputs": [],
   "source": []
  }
 ],
 "metadata": {
  "kernelspec": {
   "display_name": "Python 3",
   "language": "python",
   "name": "python3"
  },
  "language_info": {
   "codemirror_mode": {
    "name": "ipython",
    "version": 3
   },
   "file_extension": ".py",
   "mimetype": "text/x-python",
   "name": "python",
   "nbconvert_exporter": "python",
   "pygments_lexer": "ipython3",
   "version": "3.8.5"
  },
  "toc": {
   "base_numbering": 1,
   "nav_menu": {},
   "number_sections": true,
   "sideBar": true,
   "skip_h1_title": false,
   "title_cell": "Table of Contents",
   "title_sidebar": "Contents",
   "toc_cell": false,
   "toc_position": {},
   "toc_section_display": true,
   "toc_window_display": false
  },
  "varInspector": {
   "cols": {
    "lenName": 16,
    "lenType": 16,
    "lenVar": 40
   },
   "kernels_config": {
    "python": {
     "delete_cmd_postfix": "",
     "delete_cmd_prefix": "del ",
     "library": "var_list.py",
     "varRefreshCmd": "print(var_dic_list())"
    },
    "r": {
     "delete_cmd_postfix": ") ",
     "delete_cmd_prefix": "rm(",
     "library": "var_list.r",
     "varRefreshCmd": "cat(var_dic_list()) "
    }
   },
   "types_to_exclude": [
    "module",
    "function",
    "builtin_function_or_method",
    "instance",
    "_Feature"
   ],
   "window_display": false
  }
 },
 "nbformat": 4,
 "nbformat_minor": 4
}
