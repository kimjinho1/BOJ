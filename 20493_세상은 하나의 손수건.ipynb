{
 "cells": [
  {
   "cell_type": "code",
   "execution_count": null,
   "metadata": {},
   "outputs": [],
   "source": [
    "import sys\n",
    "input = sys.stdin.readline\n",
    "\n",
    "N, T = map(int, input().split())\n",
    "d = [(1, 0), (0, -1), (-1, 0), (0, 1)]\n",
    "i = X = Y = 0\n",
    "li = [0]\n",
    "for _ in range(N):\n",
    "    time, s = input().split()\n",
    "    time = int(time)\n",
    "    t = time-li[-1]\n",
    "    li.append(time)\n",
    "    x, y = d[i][0], d[i][1]\n",
    "    X += t*x; Y += t*y\n",
    "    i += 1 if s == 'right' else -1\n",
    "    i = i%4\n",
    "t = T-li[-1]\n",
    "x, y = d[i][0], d[i][1]\n",
    "X += t*x; Y += t*y\n",
    "print(X, Y)"
   ]
  },
  {
   "cell_type": "code",
   "execution_count": 9,
   "metadata": {
    "ExecuteTime": {
     "end_time": "2021-03-21T04:17:16.139346Z",
     "start_time": "2021-03-21T04:17:15.206025Z"
    }
   },
   "outputs": [
    {
     "name": "stdout",
     "output_type": "stream",
     "text": [
      "0 100\n",
      "100 0\n"
     ]
    }
   ],
   "source": [
    "N, T = map(int, input().split())\n",
    "d = [(1, 0), (0, -1), (-1, 0), (0, 1)]\n",
    "i = X = Y = 0\n",
    "li = [0]\n",
    "for _ in range(N):\n",
    "    time, s = input().split()\n",
    "    time = int(time)\n",
    "    t = time-li[-1]\n",
    "    li.append(time)\n",
    "    x, y = d[i][0], d[i][1]\n",
    "    X += t*x; Y += t*y\n",
    "    i += 1 if s == 'right' else -1\n",
    "    i = i%4\n",
    "t = T-li[-1]\n",
    "x, y = d[i][0], d[i][1]\n",
    "X += t*x; Y += t*y\n",
    "print(X, Y)"
   ]
  },
  {
   "cell_type": "code",
   "execution_count": 8,
   "metadata": {
    "ExecuteTime": {
     "end_time": "2021-03-21T04:17:09.381888Z",
     "start_time": "2021-03-21T04:17:02.365678Z"
    }
   },
   "outputs": [
    {
     "name": "stdout",
     "output_type": "stream",
     "text": [
      "3 100\n",
      "30 right\n",
      "50 right\n",
      "60 left\n",
      "20 -60\n"
     ]
    }
   ],
   "source": [
    "N, T = map(int, input().split())\n",
    "d = [(1, 0), (0, -1), (-1, 0), (0, 1)]\n",
    "i = X = Y = 0\n",
    "li = [0]\n",
    "for _ in range(N):\n",
    "    time, s = input().split()\n",
    "    time = int(time)\n",
    "    t = time-li[-1]\n",
    "    li.append(time)\n",
    "    x, y = d[i][0], d[i][1]\n",
    "    X += t*x; Y += t*y\n",
    "    i += 1 if s == 'right' else -1\n",
    "    i = i%4\n",
    "t = T-li[-1]\n",
    "x, y = d[i][0], d[i][1]\n",
    "X += t*x; Y += t*y\n",
    "print(X, Y)"
   ]
  },
  {
   "cell_type": "code",
   "execution_count": null,
   "metadata": {},
   "outputs": [],
   "source": []
  }
 ],
 "metadata": {
  "kernelspec": {
   "display_name": "Python 3",
   "language": "python",
   "name": "python3"
  },
  "language_info": {
   "codemirror_mode": {
    "name": "ipython",
    "version": 3
   },
   "file_extension": ".py",
   "mimetype": "text/x-python",
   "name": "python",
   "nbconvert_exporter": "python",
   "pygments_lexer": "ipython3",
   "version": "3.8.5"
  },
  "toc": {
   "base_numbering": 1,
   "nav_menu": {},
   "number_sections": true,
   "sideBar": true,
   "skip_h1_title": false,
   "title_cell": "Table of Contents",
   "title_sidebar": "Contents",
   "toc_cell": false,
   "toc_position": {},
   "toc_section_display": true,
   "toc_window_display": false
  },
  "varInspector": {
   "cols": {
    "lenName": 16,
    "lenType": 16,
    "lenVar": 40
   },
   "kernels_config": {
    "python": {
     "delete_cmd_postfix": "",
     "delete_cmd_prefix": "del ",
     "library": "var_list.py",
     "varRefreshCmd": "print(var_dic_list())"
    },
    "r": {
     "delete_cmd_postfix": ") ",
     "delete_cmd_prefix": "rm(",
     "library": "var_list.r",
     "varRefreshCmd": "cat(var_dic_list()) "
    }
   },
   "types_to_exclude": [
    "module",
    "function",
    "builtin_function_or_method",
    "instance",
    "_Feature"
   ],
   "window_display": false
  }
 },
 "nbformat": 4,
 "nbformat_minor": 4
}
