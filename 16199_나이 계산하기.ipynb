{
 "cells": [
  {
   "cell_type": "code",
   "execution_count": 1,
   "metadata": {
    "ExecuteTime": {
     "end_time": "2021-02-07T03:03:36.786128Z",
     "start_time": "2021-02-07T03:03:27.632592Z"
    }
   },
   "outputs": [
    {
     "name": "stdout",
     "output_type": "stream",
     "text": [
      "2003 3 5\n",
      "2003 4 5\n",
      "0\n",
      "1\n",
      "0\n"
     ]
    }
   ],
   "source": [
    "y1, m1, d1 = map(int, input().split())\n",
    "y2, m2, d2 = map(int, input().split())\n",
    "man_old = 0\n",
    "if m1 < m2:\n",
    "    man_old = y2-y1\n",
    "elif m1 == m2:\n",
    "    if d1 <= d2:\n",
    "        man_old = y2-y1\n",
    "    else:\n",
    "        man_old = y2-y1-1\n",
    "else:\n",
    "    man_old = y2-y1-1\n",
    "count_old = y2-y1+1\n",
    "year_old = y2-y1\n",
    "print(man_old)\n",
    "print(count_old)\n",
    "print(year_old)"
   ]
  },
  {
   "cell_type": "code",
   "execution_count": 2,
   "metadata": {
    "ExecuteTime": {
     "end_time": "2021-02-07T03:03:47.848751Z",
     "start_time": "2021-02-07T03:03:42.730433Z"
    }
   },
   "outputs": [
    {
     "name": "stdout",
     "output_type": "stream",
     "text": [
      "2003 3 5\n",
      "2004 1 1\n",
      "0\n",
      "2\n",
      "1\n"
     ]
    }
   ],
   "source": [
    "y1, m1, d1 = map(int, input().split())\n",
    "y2, m2, d2 = map(int, input().split())\n",
    "man_old = 0\n",
    "if m1 < m2:\n",
    "    man_old = y2-y1\n",
    "elif m1 == m2:\n",
    "    if d1 <= d2:\n",
    "        man_old = y2-y1\n",
    "    else:\n",
    "        man_old = y2-y1-1\n",
    "else:\n",
    "    man_old = y2-y1-1\n",
    "count_old = y2-y1+1\n",
    "year_old = y2-y1\n",
    "print(man_old)\n",
    "print(count_old)\n",
    "print(year_old)"
   ]
  },
  {
   "cell_type": "code",
   "execution_count": 3,
   "metadata": {
    "ExecuteTime": {
     "end_time": "2021-02-07T03:03:55.999955Z",
     "start_time": "2021-02-07T03:03:51.439148Z"
    }
   },
   "outputs": [
    {
     "name": "stdout",
     "output_type": "stream",
     "text": [
      "2005 1 1\n",
      "2007 1 1\n",
      "2\n",
      "3\n",
      "2\n"
     ]
    }
   ],
   "source": [
    "y1, m1, d1 = map(int, input().split())\n",
    "y2, m2, d2 = map(int, input().split())\n",
    "man_old = 0\n",
    "if m1 < m2:\n",
    "    man_old = y2-y1\n",
    "elif m1 == m2:\n",
    "    if d1 <= d2:\n",
    "        man_old = y2-y1\n",
    "    else:\n",
    "        man_old = y2-y1-1\n",
    "else:\n",
    "    man_old = y2-y1-1\n",
    "count_old = y2-y1+1\n",
    "year_old = y2-y1\n",
    "print(man_old)\n",
    "print(count_old)\n",
    "print(year_old)"
   ]
  },
  {
   "cell_type": "code",
   "execution_count": 4,
   "metadata": {
    "ExecuteTime": {
     "end_time": "2021-02-07T03:04:08.546407Z",
     "start_time": "2021-02-07T03:04:02.224311Z"
    }
   },
   "outputs": [
    {
     "name": "stdout",
     "output_type": "stream",
     "text": [
      "2005 12 31\n",
      "2007 1 1\n",
      "1\n",
      "3\n",
      "2\n"
     ]
    }
   ],
   "source": [
    "y1, m1, d1 = map(int, input().split())\n",
    "y2, m2, d2 = map(int, input().split())\n",
    "man_old = 0\n",
    "if m1 < m2:\n",
    "    man_old = y2-y1\n",
    "elif m1 == m2:\n",
    "    if d1 <= d2:\n",
    "        man_old = y2-y1\n",
    "    else:\n",
    "        man_old = y2-y1-1\n",
    "else:\n",
    "    man_old = y2-y1-1\n",
    "count_old = y2-y1+1\n",
    "year_old = y2-y1\n",
    "print(man_old)\n",
    "print(count_old)\n",
    "print(year_old)"
   ]
  },
  {
   "cell_type": "code",
   "execution_count": 5,
   "metadata": {
    "ExecuteTime": {
     "end_time": "2021-02-07T03:04:15.350235Z",
     "start_time": "2021-02-07T03:04:11.045724Z"
    }
   },
   "outputs": [
    {
     "name": "stdout",
     "output_type": "stream",
     "text": [
      "2006 1 1\n",
      "2007 1 1\n",
      "1\n",
      "2\n",
      "1\n"
     ]
    }
   ],
   "source": [
    "y1, m1, d1 = map(int, input().split())\n",
    "y2, m2, d2 = map(int, input().split())\n",
    "man_old = 0\n",
    "if m1 < m2:\n",
    "    man_old = y2-y1\n",
    "elif m1 == m2:\n",
    "    if d1 <= d2:\n",
    "        man_old = y2-y1\n",
    "    else:\n",
    "        man_old = y2-y1-1\n",
    "else:\n",
    "    man_old = y2-y1-1\n",
    "count_old = y2-y1+1\n",
    "year_old = y2-y1\n",
    "print(man_old)\n",
    "print(count_old)\n",
    "print(year_old)"
   ]
  },
  {
   "cell_type": "code",
   "execution_count": 6,
   "metadata": {
    "ExecuteTime": {
     "end_time": "2021-02-07T03:04:24.956529Z",
     "start_time": "2021-02-07T03:04:17.220252Z"
    }
   },
   "outputs": [
    {
     "name": "stdout",
     "output_type": "stream",
     "text": [
      "2005 1 2\n",
      "2007 1 1\n",
      "1\n",
      "3\n",
      "2\n"
     ]
    }
   ],
   "source": [
    "y1, m1, d1 = map(int, input().split())\n",
    "y2, m2, d2 = map(int, input().split())\n",
    "man_old = 0\n",
    "if m1 < m2:\n",
    "    man_old = y2-y1\n",
    "elif m1 == m2:\n",
    "    if d1 <= d2:\n",
    "        man_old = y2-y1\n",
    "    else:\n",
    "        man_old = y2-y1-1\n",
    "else:\n",
    "    man_old = y2-y1-1\n",
    "count_old = y2-y1+1\n",
    "year_old = y2-y1\n",
    "print(man_old)\n",
    "print(count_old)\n",
    "print(year_old)"
   ]
  },
  {
   "cell_type": "code",
   "execution_count": null,
   "metadata": {},
   "outputs": [],
   "source": []
  }
 ],
 "metadata": {
  "kernelspec": {
   "display_name": "Python 3",
   "language": "python",
   "name": "python3"
  },
  "language_info": {
   "codemirror_mode": {
    "name": "ipython",
    "version": 3
   },
   "file_extension": ".py",
   "mimetype": "text/x-python",
   "name": "python",
   "nbconvert_exporter": "python",
   "pygments_lexer": "ipython3",
   "version": "3.6.10"
  },
  "toc": {
   "base_numbering": 1,
   "nav_menu": {},
   "number_sections": true,
   "sideBar": true,
   "skip_h1_title": false,
   "title_cell": "Table of Contents",
   "title_sidebar": "Contents",
   "toc_cell": false,
   "toc_position": {},
   "toc_section_display": true,
   "toc_window_display": false
  },
  "varInspector": {
   "cols": {
    "lenName": 16,
    "lenType": 16,
    "lenVar": 40
   },
   "kernels_config": {
    "python": {
     "delete_cmd_postfix": "",
     "delete_cmd_prefix": "del ",
     "library": "var_list.py",
     "varRefreshCmd": "print(var_dic_list())"
    },
    "r": {
     "delete_cmd_postfix": ") ",
     "delete_cmd_prefix": "rm(",
     "library": "var_list.r",
     "varRefreshCmd": "cat(var_dic_list()) "
    }
   },
   "types_to_exclude": [
    "module",
    "function",
    "builtin_function_or_method",
    "instance",
    "_Feature"
   ],
   "window_display": false
  }
 },
 "nbformat": 4,
 "nbformat_minor": 4
}
