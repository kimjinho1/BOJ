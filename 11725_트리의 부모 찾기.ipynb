{
 "cells": [
  {
   "cell_type": "markdown",
   "metadata": {},
   "source": [
    "# DFS"
   ]
  },
  {
   "cell_type": "code",
   "execution_count": null,
   "metadata": {
    "ExecuteTime": {
     "end_time": "2021-03-10T12:30:12.895188Z",
     "start_time": "2021-03-10T12:30:12.872284Z"
    }
   },
   "outputs": [],
   "source": [
    "import sys\n",
    "sys.setrecursionlimit(300000)\n",
    "\n",
    "def dfs(node):\n",
    "    for n in graph[node]:\n",
    "        if p[n] == 0:\n",
    "            p[n] = node\n",
    "            dfs(n)\n",
    "\n",
    "N = int(sys.stdin.readline())\n",
    "graph = [[] for _ in range(N+1)]\n",
    "for _ in range(N-1):\n",
    "    u, v = map(int, sys.stdin.readline().split())\n",
    "    graph[u].append(v)\n",
    "    graph[v].append(u)\n",
    "p = [0]*(N+1)\n",
    "dfs(1)\n",
    "for i in range(2, N+1):\n",
    "    print(p[i])"
   ]
  },
  {
   "cell_type": "code",
   "execution_count": 15,
   "metadata": {
    "ExecuteTime": {
     "end_time": "2021-03-10T12:27:42.583023Z",
     "start_time": "2021-03-10T12:27:28.122464Z"
    },
    "scrolled": true
   },
   "outputs": [
    {
     "name": "stdout",
     "output_type": "stream",
     "text": [
      "7\n",
      "1 6\n",
      "6 3\n",
      "3 5\n",
      "4 1\n",
      "2 4\n",
      "4 7\n",
      "4\n",
      "6\n",
      "1\n",
      "3\n",
      "1\n",
      "4\n"
     ]
    }
   ],
   "source": [
    "import sys\n",
    "sys.setrecursionlimit(300000)\n",
    "\n",
    "def dfs(node):\n",
    "    for n in graph[node]:\n",
    "        if p[n] == 0:\n",
    "            p[n] = node\n",
    "            dfs(n)\n",
    "\n",
    "N = int(input())\n",
    "graph = [[] for _ in range(N+1)]\n",
    "for _ in range(N-1):\n",
    "    u, v = map(int, input().split())\n",
    "    graph[u].append(v)\n",
    "    graph[v].append(u)\n",
    "p = [0]*(N+1)\n",
    "dfs(1)\n",
    "for i in range(2, N+1):\n",
    "    print(p[i])"
   ]
  },
  {
   "cell_type": "markdown",
   "metadata": {},
   "source": [
    "# BFS"
   ]
  },
  {
   "cell_type": "code",
   "execution_count": null,
   "metadata": {
    "ExecuteTime": {
     "end_time": "2021-03-10T12:32:36.057215Z",
     "start_time": "2021-03-10T12:32:36.033731Z"
    }
   },
   "outputs": [],
   "source": [
    "import sys\n",
    "from collections import deque\n",
    "\n",
    "def bfs(node):\n",
    "    queue = deque()\n",
    "    queue.append(node)\n",
    "    while queue:\n",
    "        node = queue.popleft()\n",
    "        for n in graph[node]:\n",
    "            if p[n] == 0:\n",
    "                p[n] = node\n",
    "                queue.append(n)\n",
    "\n",
    "N = int(sys.stdin.readline())\n",
    "graph = [[] for _ in range(N+1)]\n",
    "for _ in range(N-1):\n",
    "    u, v = map(int, sys.stdin.readline().split())\n",
    "    graph[u].append(v)\n",
    "    graph[v].append(u)\n",
    "p = [0]*(N+1)\n",
    "bfs(1)\n",
    "for i in range(2, N+1):\n",
    "    print(p[i])"
   ]
  },
  {
   "cell_type": "code",
   "execution_count": 18,
   "metadata": {
    "ExecuteTime": {
     "end_time": "2021-03-10T12:31:58.337524Z",
     "start_time": "2021-03-10T12:31:42.128610Z"
    }
   },
   "outputs": [
    {
     "name": "stdout",
     "output_type": "stream",
     "text": [
      "12\n",
      "1 2\n",
      "1 3\n",
      "2 4\n",
      "3 5\n",
      "3 6\n",
      "4 7\n",
      "4 8\n",
      "5 9 \n",
      "5 10\n",
      "6 11\n",
      "6 12\n",
      "1\n",
      "1\n",
      "2\n",
      "3\n",
      "3\n",
      "4\n",
      "4\n",
      "5\n",
      "5\n",
      "6\n",
      "6\n"
     ]
    }
   ],
   "source": [
    "from collections import deque\n",
    "\n",
    "def bfs(node):\n",
    "    queue = deque()\n",
    "    queue.append(node)\n",
    "    while queue:\n",
    "        node = queue.popleft()\n",
    "        for n in graph[node]:\n",
    "            if p[n] == 0:\n",
    "                p[n] = node\n",
    "                queue.append(n)\n",
    "\n",
    "N = int(input())\n",
    "graph = [[] for _ in range(N+1)]\n",
    "for _ in range(N-1):\n",
    "    u, v = map(int, input().split())\n",
    "    graph[u].append(v)\n",
    "    graph[v].append(u)\n",
    "p = [0]*(N+1)\n",
    "bfs(1)\n",
    "for i in range(2, N+1):\n",
    "    print(p[i])"
   ]
  },
  {
   "cell_type": "code",
   "execution_count": null,
   "metadata": {},
   "outputs": [],
   "source": []
  }
 ],
 "metadata": {
  "kernelspec": {
   "display_name": "Python 3",
   "language": "python",
   "name": "python3"
  },
  "language_info": {
   "codemirror_mode": {
    "name": "ipython",
    "version": 3
   },
   "file_extension": ".py",
   "mimetype": "text/x-python",
   "name": "python",
   "nbconvert_exporter": "python",
   "pygments_lexer": "ipython3",
   "version": "3.8.5"
  },
  "toc": {
   "base_numbering": 1,
   "nav_menu": {},
   "number_sections": true,
   "sideBar": true,
   "skip_h1_title": false,
   "title_cell": "Table of Contents",
   "title_sidebar": "Contents",
   "toc_cell": false,
   "toc_position": {},
   "toc_section_display": true,
   "toc_window_display": false
  },
  "varInspector": {
   "cols": {
    "lenName": 16,
    "lenType": 16,
    "lenVar": 40
   },
   "kernels_config": {
    "python": {
     "delete_cmd_postfix": "",
     "delete_cmd_prefix": "del ",
     "library": "var_list.py",
     "varRefreshCmd": "print(var_dic_list())"
    },
    "r": {
     "delete_cmd_postfix": ") ",
     "delete_cmd_prefix": "rm(",
     "library": "var_list.r",
     "varRefreshCmd": "cat(var_dic_list()) "
    }
   },
   "types_to_exclude": [
    "module",
    "function",
    "builtin_function_or_method",
    "instance",
    "_Feature"
   ],
   "window_display": false
  }
 },
 "nbformat": 4,
 "nbformat_minor": 4
}
