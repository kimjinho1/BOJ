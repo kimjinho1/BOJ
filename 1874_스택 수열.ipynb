{
 "cells": [
  {
   "cell_type": "code",
   "execution_count": 1,
   "metadata": {},
   "outputs": [
    {
     "name": "stdout",
     "output_type": "stream",
     "text": [
      "8\n",
      "4\n",
      "3\n",
      "6\n",
      "8\n",
      "7\n",
      "5\n",
      "2\n",
      "1\n",
      "+\n",
      "+\n",
      "+\n",
      "+\n",
      "-\n",
      "-\n",
      "+\n",
      "+\n",
      "-\n",
      "+\n",
      "+\n",
      "-\n",
      "-\n",
      "-\n",
      "-\n",
      "-\n"
     ]
    }
   ],
   "source": [
    "n = int(input())\n",
    "li = []\n",
    "stack = []\n",
    "result = []\n",
    "index = 0\n",
    "for i in range(n):\n",
    "    li.append(int(input()))\n",
    "\n",
    "for i in range(1, n + 1):\n",
    "    stack.append(i)\n",
    "    result.append('+')\n",
    "    while len(stack) > 0 and index < n and stack[-1] == li[index]:\n",
    "        index += 1\n",
    "        stack.pop(-1)\n",
    "        result.append('-')\n",
    "\n",
    "if len(stack) == 0:\n",
    "    for op in result:\n",
    "        print(op)\n",
    "else:\n",
    "    print('NO')"
   ]
  },
  {
   "cell_type": "code",
   "execution_count": null,
   "metadata": {},
   "outputs": [],
   "source": []
  }
 ],
 "metadata": {
  "kernelspec": {
   "display_name": "Python 3",
   "language": "python",
   "name": "python3"
  },
  "language_info": {
   "codemirror_mode": {
    "name": "ipython",
    "version": 3
   },
   "file_extension": ".py",
   "mimetype": "text/x-python",
   "name": "python",
   "nbconvert_exporter": "python",
   "pygments_lexer": "ipython3",
   "version": "3.6.8"
  }
 },
 "nbformat": 4,
 "nbformat_minor": 2
}
