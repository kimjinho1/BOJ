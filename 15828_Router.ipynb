{
 "cells": [
  {
   "cell_type": "code",
   "execution_count": null,
   "metadata": {
    "ExecuteTime": {
     "end_time": "2021-03-05T15:27:55.805087Z",
     "start_time": "2021-03-05T15:27:55.778159Z"
    }
   },
   "outputs": [],
   "source": [
    "import sys\n",
    "from collections import deque\n",
    "\n",
    "N = int(sys.stdin.readline())\n",
    "queue = deque()\n",
    "while 1:\n",
    "    n = int(sys.stdin.readline())\n",
    "    if n == -1:\n",
    "        break\n",
    "    if n != 0 and len(queue) < N:\n",
    "        queue.append(n)\n",
    "    elif n == 0:\n",
    "        queue.popleft()\n",
    "if queue:\n",
    "    print(*queue)\n",
    "else: \n",
    "    print(\"empty\")"
   ]
  },
  {
   "cell_type": "code",
   "execution_count": 20,
   "metadata": {
    "ExecuteTime": {
     "end_time": "2021-03-05T15:27:07.613196Z",
     "start_time": "2021-03-05T15:26:53.284502Z"
    }
   },
   "outputs": [
    {
     "name": "stdout",
     "output_type": "stream",
     "text": [
      "5\n",
      "1\n",
      "2\n",
      "0\n",
      "3\n",
      "4\n",
      "0\n",
      "5\n",
      "6\n",
      "0\n",
      "0\n",
      "-1\n",
      "5 6\n"
     ]
    }
   ],
   "source": [
    "from collections import deque\n",
    "\n",
    "N = int(input())\n",
    "queue = deque()\n",
    "while 1:\n",
    "    n = int(input())\n",
    "    if n == -1:\n",
    "        break\n",
    "    if n != 0 and len(queue) < N:\n",
    "        queue.append(n)\n",
    "    elif n == 0:\n",
    "        queue.popleft()\n",
    "if queue:\n",
    "    print(*queue)\n",
    "else: \n",
    "    print(\"empty\")"
   ]
  },
  {
   "cell_type": "code",
   "execution_count": 19,
   "metadata": {
    "ExecuteTime": {
     "end_time": "2021-03-05T15:26:50.252812Z",
     "start_time": "2021-03-05T15:26:47.072167Z"
    }
   },
   "outputs": [
    {
     "name": "stdout",
     "output_type": "stream",
     "text": [
      "1\n",
      "1\n",
      "2\n",
      "3\n",
      "4\n",
      "5\n",
      "6\n",
      "7\n",
      "-1\n",
      "1\n"
     ]
    }
   ],
   "source": [
    "from collections import deque\n",
    "\n",
    "N = int(input())\n",
    "queue = deque()\n",
    "while 1:\n",
    "    n = int(input())\n",
    "    if n == -1:\n",
    "        break\n",
    "    if n != 0 and len(queue) < N:\n",
    "        queue.append(n)\n",
    "    elif n == 0:\n",
    "        queue.popleft()\n",
    "if queue:\n",
    "    print(*queue)\n",
    "else: \n",
    "    print(\"empty\")"
   ]
  },
  {
   "cell_type": "code",
   "execution_count": 18,
   "metadata": {
    "ExecuteTime": {
     "end_time": "2021-03-05T15:26:43.910928Z",
     "start_time": "2021-03-05T15:26:30.102740Z"
    }
   },
   "outputs": [
    {
     "name": "stdout",
     "output_type": "stream",
     "text": [
      "1\n",
      "1\n",
      "2\n",
      "0\n",
      "3\n",
      "4\n",
      "0\n",
      "5\n",
      "6\n",
      "0\n",
      "7\n",
      "0\n",
      "-1\n",
      "empty\n"
     ]
    }
   ],
   "source": [
    "from collections import deque\n",
    "\n",
    "N = int(input())\n",
    "queue = deque()\n",
    "while 1:\n",
    "    n = int(input())\n",
    "    if n == -1:\n",
    "        break\n",
    "    if n != 0 and len(queue) < N:\n",
    "        queue.append(n)\n",
    "    elif n == 0:\n",
    "        queue.popleft()\n",
    "if queue:\n",
    "    print(*queue)\n",
    "else: \n",
    "    print(\"empty\")"
   ]
  },
  {
   "cell_type": "code",
   "execution_count": null,
   "metadata": {},
   "outputs": [],
   "source": []
  }
 ],
 "metadata": {
  "kernelspec": {
   "display_name": "Python 3",
   "language": "python",
   "name": "python3"
  },
  "language_info": {
   "codemirror_mode": {
    "name": "ipython",
    "version": 3
   },
   "file_extension": ".py",
   "mimetype": "text/x-python",
   "name": "python",
   "nbconvert_exporter": "python",
   "pygments_lexer": "ipython3",
   "version": "3.8.5"
  },
  "toc": {
   "base_numbering": 1,
   "nav_menu": {},
   "number_sections": true,
   "sideBar": true,
   "skip_h1_title": false,
   "title_cell": "Table of Contents",
   "title_sidebar": "Contents",
   "toc_cell": false,
   "toc_position": {},
   "toc_section_display": true,
   "toc_window_display": false
  },
  "varInspector": {
   "cols": {
    "lenName": 16,
    "lenType": 16,
    "lenVar": 40
   },
   "kernels_config": {
    "python": {
     "delete_cmd_postfix": "",
     "delete_cmd_prefix": "del ",
     "library": "var_list.py",
     "varRefreshCmd": "print(var_dic_list())"
    },
    "r": {
     "delete_cmd_postfix": ") ",
     "delete_cmd_prefix": "rm(",
     "library": "var_list.r",
     "varRefreshCmd": "cat(var_dic_list()) "
    }
   },
   "types_to_exclude": [
    "module",
    "function",
    "builtin_function_or_method",
    "instance",
    "_Feature"
   ],
   "window_display": false
  }
 },
 "nbformat": 4,
 "nbformat_minor": 4
}
