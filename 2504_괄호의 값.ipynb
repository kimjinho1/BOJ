{
 "cells": [
  {
   "cell_type": "code",
   "execution_count": 22,
   "metadata": {
    "ExecuteTime": {
     "end_time": "2021-03-05T12:14:58.398325Z",
     "start_time": "2021-03-05T12:14:58.026216Z"
    }
   },
   "outputs": [
    {
     "name": "stdout",
     "output_type": "stream",
     "text": [
      "(()[[]])([])\n",
      "28\n"
     ]
    }
   ],
   "source": [
    "def solution(s):\n",
    "    stack = []\n",
    "    for c in s:\n",
    "        if c == ')':\n",
    "            t = 0\n",
    "            while stack:\n",
    "                top = stack.pop()\n",
    "                if top == '(':\n",
    "                    stack.append(2 if t == 0 else t*2)\n",
    "                    break\n",
    "                elif top == '[':\n",
    "                    return 0\n",
    "                else:\n",
    "                    t += top\n",
    "        elif c == ']':\n",
    "            t = 0\n",
    "            while stack:\n",
    "                top = stack.pop()\n",
    "                if top == '[':\n",
    "                    stack.append(3 if t == 0 else t*3)\n",
    "                    break\n",
    "                elif top == '(':\n",
    "                    return 0\n",
    "                else:\n",
    "                    t += top\n",
    "        else:\n",
    "            stack.append(c)\n",
    "        \n",
    "    return stack\n",
    "\n",
    "s = input()\n",
    "stack = solution(s) \n",
    "if stack == 0:\n",
    "    stack = []\n",
    "print(0 if '(' in stack or '[' in stack else sum(stack))"
   ]
  },
  {
   "cell_type": "code",
   "execution_count": null,
   "metadata": {},
   "outputs": [],
   "source": []
  }
 ],
 "metadata": {
  "kernelspec": {
   "display_name": "Python 3",
   "language": "python",
   "name": "python3"
  },
  "language_info": {
   "codemirror_mode": {
    "name": "ipython",
    "version": 3
   },
   "file_extension": ".py",
   "mimetype": "text/x-python",
   "name": "python",
   "nbconvert_exporter": "python",
   "pygments_lexer": "ipython3",
   "version": "3.8.5"
  },
  "toc": {
   "base_numbering": 1,
   "nav_menu": {},
   "number_sections": true,
   "sideBar": true,
   "skip_h1_title": false,
   "title_cell": "Table of Contents",
   "title_sidebar": "Contents",
   "toc_cell": false,
   "toc_position": {},
   "toc_section_display": true,
   "toc_window_display": false
  },
  "varInspector": {
   "cols": {
    "lenName": 16,
    "lenType": 16,
    "lenVar": 40
   },
   "kernels_config": {
    "python": {
     "delete_cmd_postfix": "",
     "delete_cmd_prefix": "del ",
     "library": "var_list.py",
     "varRefreshCmd": "print(var_dic_list())"
    },
    "r": {
     "delete_cmd_postfix": ") ",
     "delete_cmd_prefix": "rm(",
     "library": "var_list.r",
     "varRefreshCmd": "cat(var_dic_list()) "
    }
   },
   "types_to_exclude": [
    "module",
    "function",
    "builtin_function_or_method",
    "instance",
    "_Feature"
   ],
   "window_display": false
  }
 },
 "nbformat": 4,
 "nbformat_minor": 2
}
