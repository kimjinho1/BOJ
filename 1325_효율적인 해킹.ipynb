{
 "cells": [
  {
   "cell_type": "code",
   "execution_count": null,
   "metadata": {},
   "outputs": [],
   "source": [
    "from collections import deque\n",
    "import sys\n",
    "\n",
    "def bfs(node):\n",
    "    q = deque()\n",
    "    q.append(node)\n",
    "    check[node] = 1\n",
    "    while q:\n",
    "        node = q.popleft()\n",
    "        for n in graph[node]:\n",
    "            if check[n] == 0:\n",
    "                check[n] = 1\n",
    "                q.append(n)\n",
    "\n",
    "N, M = map(int, sys.stdin.readline().split())\n",
    "graph = [[] for _ in range(N+1)]\n",
    "for _ in range(M):\n",
    "    u, v = map(int, sys.stdin.readline().split())\n",
    "    graph[v].append(u)\n",
    "res = []\n",
    "for i in range(1, N+1):\n",
    "    check = [0]*(N+1)\n",
    "    bfs(i)\n",
    "    res.append(check.count(1))\n",
    "m = max(res)\n",
    "for i in range(N):\n",
    "    if res[i] == m:\n",
    "        print(i+1, end=' ')\n",
    "print()"
   ]
  },
  {
   "cell_type": "code",
   "execution_count": 1,
   "metadata": {
    "ExecuteTime": {
     "end_time": "2021-03-16T04:38:02.812129Z",
     "start_time": "2021-03-16T04:37:59.132265Z"
    }
   },
   "outputs": [
    {
     "name": "stdout",
     "output_type": "stream",
     "text": [
      "5 4\n",
      "3 1\n",
      "3 2\n",
      "4 3\n",
      "5 3\n",
      "1 2 \n"
     ]
    }
   ],
   "source": [
    "from collections import deque\n",
    "\n",
    "def bfs(node):\n",
    "    q = deque()\n",
    "    q.append(node)\n",
    "    check[node] = 1\n",
    "    while q:\n",
    "        node = q.popleft()\n",
    "        for n in graph[node]:\n",
    "            if check[n] == 0:\n",
    "                check[n] = 1\n",
    "                q.append(n)\n",
    "\n",
    "N, M = map(int, input().split())\n",
    "graph = [[] for _ in range(N+1)]\n",
    "for _ in range(M):\n",
    "    u, v = map(int, input().split())\n",
    "    graph[v].append(u)\n",
    "res = []\n",
    "for i in range(1, N+1):\n",
    "    check = [0]*(N+1)\n",
    "    bfs(i)\n",
    "    res.append(check.count(1))\n",
    "m = max(res)\n",
    "for i in range(N):\n",
    "    if res[i] == m:\n",
    "        print(i+1, end=' ')\n",
    "print()"
   ]
  },
  {
   "cell_type": "code",
   "execution_count": null,
   "metadata": {},
   "outputs": [],
   "source": []
  }
 ],
 "metadata": {
  "kernelspec": {
   "display_name": "Python 3",
   "language": "python",
   "name": "python3"
  },
  "language_info": {
   "codemirror_mode": {
    "name": "ipython",
    "version": 3
   },
   "file_extension": ".py",
   "mimetype": "text/x-python",
   "name": "python",
   "nbconvert_exporter": "python",
   "pygments_lexer": "ipython3",
   "version": "3.8.5"
  },
  "toc": {
   "base_numbering": 1,
   "nav_menu": {},
   "number_sections": true,
   "sideBar": true,
   "skip_h1_title": false,
   "title_cell": "Table of Contents",
   "title_sidebar": "Contents",
   "toc_cell": false,
   "toc_position": {},
   "toc_section_display": true,
   "toc_window_display": false
  },
  "varInspector": {
   "cols": {
    "lenName": 16,
    "lenType": 16,
    "lenVar": 40
   },
   "kernels_config": {
    "python": {
     "delete_cmd_postfix": "",
     "delete_cmd_prefix": "del ",
     "library": "var_list.py",
     "varRefreshCmd": "print(var_dic_list())"
    },
    "r": {
     "delete_cmd_postfix": ") ",
     "delete_cmd_prefix": "rm(",
     "library": "var_list.r",
     "varRefreshCmd": "cat(var_dic_list()) "
    }
   },
   "types_to_exclude": [
    "module",
    "function",
    "builtin_function_or_method",
    "instance",
    "_Feature"
   ],
   "window_display": false
  }
 },
 "nbformat": 4,
 "nbformat_minor": 4
}
