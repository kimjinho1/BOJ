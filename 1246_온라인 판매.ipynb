{
 "cells": [
  {
   "cell_type": "code",
   "execution_count": 4,
   "id": "planned-gambling",
   "metadata": {
    "ExecuteTime": {
     "end_time": "2021-02-22T15:33:38.535382Z",
     "start_time": "2021-02-22T15:33:35.059668Z"
    }
   },
   "outputs": [
    {
     "name": "stdout",
     "output_type": "stream",
     "text": [
      "5 4\n",
      "2\n",
      "8\n",
      "10\n",
      "7\n",
      "7 21\n"
     ]
    }
   ],
   "source": [
    "N, M = map(int, input().split())\n",
    "li = sorted([int(input()) for _ in range(M)])\n",
    "max_p = max_b = 0\n",
    "for i in range(M):\n",
    "    t = li[i] * ((M-i) if M-i <= N else N)\n",
    "    if max_b < t:\n",
    "        max_b = t\n",
    "        max_p = li[i]\n",
    "print(max_p, max_b)"
   ]
  },
  {
   "cell_type": "code",
   "execution_count": null,
   "id": "younger-twins",
   "metadata": {},
   "outputs": [],
   "source": []
  }
 ],
 "metadata": {
  "kernelspec": {
   "display_name": "Python 3",
   "language": "python",
   "name": "python3"
  },
  "language_info": {
   "codemirror_mode": {
    "name": "ipython",
    "version": 3
   },
   "file_extension": ".py",
   "mimetype": "text/x-python",
   "name": "python",
   "nbconvert_exporter": "python",
   "pygments_lexer": "ipython3",
   "version": "3.7.9"
  },
  "toc": {
   "base_numbering": 1,
   "nav_menu": {},
   "number_sections": true,
   "sideBar": true,
   "skip_h1_title": false,
   "title_cell": "Table of Contents",
   "title_sidebar": "Contents",
   "toc_cell": false,
   "toc_position": {},
   "toc_section_display": true,
   "toc_window_display": false
  },
  "varInspector": {
   "cols": {
    "lenName": 16,
    "lenType": 16,
    "lenVar": 40
   },
   "kernels_config": {
    "python": {
     "delete_cmd_postfix": "",
     "delete_cmd_prefix": "del ",
     "library": "var_list.py",
     "varRefreshCmd": "print(var_dic_list())"
    },
    "r": {
     "delete_cmd_postfix": ") ",
     "delete_cmd_prefix": "rm(",
     "library": "var_list.r",
     "varRefreshCmd": "cat(var_dic_list()) "
    }
   },
   "types_to_exclude": [
    "module",
    "function",
    "builtin_function_or_method",
    "instance",
    "_Feature"
   ],
   "window_display": false
  }
 },
 "nbformat": 4,
 "nbformat_minor": 5
}
