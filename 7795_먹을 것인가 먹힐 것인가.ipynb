{
 "cells": [
  {
   "cell_type": "code",
   "execution_count": 39,
   "metadata": {
    "ExecuteTime": {
     "end_time": "2021-02-01T12:39:08.097381Z",
     "start_time": "2021-02-01T12:39:08.088767Z"
    }
   },
   "outputs": [],
   "source": [
    "def binary_search(li, a):\n",
    "    s, e = 0, len(li)-1\n",
    "    res = -1\n",
    "    while s <= e:\n",
    "        m = (s + e) // 2\n",
    "        if li[m] < a:\n",
    "            res = m\n",
    "            s = m + 1\n",
    "        else:\n",
    "            e = m - 1\n",
    "    return res"
   ]
  },
  {
   "cell_type": "code",
   "execution_count": 40,
   "metadata": {
    "ExecuteTime": {
     "end_time": "2021-02-01T12:39:57.483718Z",
     "start_time": "2021-02-01T12:39:38.218167Z"
    }
   },
   "outputs": [
    {
     "name": "stdout",
     "output_type": "stream",
     "text": [
      "2\n",
      "5 3\n",
      "8 1 7 3 1\n",
      "3 6 1\n",
      "7\n",
      "3 4\n",
      "2 13 7\n",
      "103 11 290 215\n",
      "1\n"
     ]
    }
   ],
   "source": [
    "for _ in range(int(input())):\n",
    "    N, M = map(int, input().split())\n",
    "    A = sorted(list(map(int, input().split())))\n",
    "    B = sorted(list(map(int, input().split())))\n",
    "    cnt = 0\n",
    "    for a in A:\n",
    "        cnt += (binary_search(B, a) + 1)\n",
    "    print(cnt)"
   ]
  },
  {
   "cell_type": "code",
   "execution_count": 48,
   "metadata": {
    "ExecuteTime": {
     "end_time": "2021-02-01T12:42:18.879433Z",
     "start_time": "2021-02-01T12:42:05.520722Z"
    }
   },
   "outputs": [
    {
     "name": "stdout",
     "output_type": "stream",
     "text": [
      "2\n",
      "5 3\n",
      "8 1 7 3 1\n",
      "3 6 1\n",
      "7\n",
      "3 4\n",
      "2 13 7\n",
      "103 11 290 215\n",
      "1\n"
     ]
    }
   ],
   "source": [
    "import bisect\n",
    "\n",
    "for _ in range(int(input())):\n",
    "    N, M = map(int, input().split())\n",
    "    A = sorted(list(map(int, input().split())))\n",
    "    B = sorted(list(map(int, input().split())))\n",
    "    cnt = 0\n",
    "    for a in A:\n",
    "        cnt += (bisect.bisect(B, a-1))\n",
    "    print(cnt)"
   ]
  },
  {
   "cell_type": "code",
   "execution_count": null,
   "metadata": {},
   "outputs": [],
   "source": []
  }
 ],
 "metadata": {
  "kernelspec": {
   "display_name": "Python 3",
   "language": "python",
   "name": "python3"
  },
  "language_info": {
   "codemirror_mode": {
    "name": "ipython",
    "version": 3
   },
   "file_extension": ".py",
   "mimetype": "text/x-python",
   "name": "python",
   "nbconvert_exporter": "python",
   "pygments_lexer": "ipython3",
   "version": "3.7.9"
  },
  "toc": {
   "base_numbering": 1,
   "nav_menu": {},
   "number_sections": true,
   "sideBar": true,
   "skip_h1_title": false,
   "title_cell": "Table of Contents",
   "title_sidebar": "Contents",
   "toc_cell": false,
   "toc_position": {},
   "toc_section_display": true,
   "toc_window_display": false
  },
  "varInspector": {
   "cols": {
    "lenName": 16,
    "lenType": 16,
    "lenVar": 40
   },
   "kernels_config": {
    "python": {
     "delete_cmd_postfix": "",
     "delete_cmd_prefix": "del ",
     "library": "var_list.py",
     "varRefreshCmd": "print(var_dic_list())"
    },
    "r": {
     "delete_cmd_postfix": ") ",
     "delete_cmd_prefix": "rm(",
     "library": "var_list.r",
     "varRefreshCmd": "cat(var_dic_list()) "
    }
   },
   "types_to_exclude": [
    "module",
    "function",
    "builtin_function_or_method",
    "instance",
    "_Feature"
   ],
   "window_display": false
  }
 },
 "nbformat": 4,
 "nbformat_minor": 4
}
