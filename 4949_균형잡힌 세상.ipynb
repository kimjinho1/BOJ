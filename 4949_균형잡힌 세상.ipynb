{
 "cells": [
  {
   "cell_type": "code",
   "execution_count": 3,
   "metadata": {
    "ExecuteTime": {
     "end_time": "2021-03-05T04:48:02.591622Z",
     "start_time": "2021-03-05T04:47:42.193287Z"
    }
   },
   "outputs": [
    {
     "name": "stdout",
     "output_type": "stream",
     "text": [
      "So when I die (the [first] I will see in (heaven) is a score list).\n",
      "yes\n",
      "[ first in ] ( first out ).\n",
      "yes\n",
      "Half Moon tonight (At least it is better than no Moon at all].\n",
      "no\n",
      "A rope may form )( a trail in a maze.\n",
      "no\n",
      "Help( I[m being held prisoner in a fortune cookie factory)].\n",
      "no\n",
      "([ (([( [ ] ) ( ) (( ))] )) ]).\n",
      "yes\n",
      " .\n",
      "yes\n",
      ".\n"
     ]
    }
   ],
   "source": [
    "while 1:\n",
    "    s = input()\n",
    "    if s == '.':\n",
    "        break\n",
    "    stack = []\n",
    "    ok = 1\n",
    "    for c in s:\n",
    "        if c in '([':\n",
    "            stack.append(c)\n",
    "        elif c in ')':\n",
    "            if stack == [] or stack[-1] != '(':\n",
    "                ok = 0\n",
    "                break\n",
    "            else:\n",
    "                stack.pop()\n",
    "        elif c in ']':\n",
    "            if stack == [] or stack[-1] != '[':\n",
    "                ok = 0\n",
    "                break\n",
    "            else:\n",
    "                stack.pop()\n",
    "    print(\"yes\" if ok and stack == [] else \"no\")"
   ]
  },
  {
   "cell_type": "code",
   "execution_count": null,
   "metadata": {},
   "outputs": [],
   "source": [
    "import sys\n",
    "\n",
    "while 1:\n",
    "    s = sys.stdin.readline().rstrip()\n",
    "    if s == '.':\n",
    "        break\n",
    "    stack = []\n",
    "    ok = 1\n",
    "    for c in s:\n",
    "        if c in '([':\n",
    "            stack.append(c)\n",
    "        elif c in ')':\n",
    "            if stack == [] or stack[-1] != '(':\n",
    "                ok = 0\n",
    "                break\n",
    "            else:\n",
    "                stack.pop()\n",
    "        elif c in ']':\n",
    "            if stack == [] or stack[-1] != '[':\n",
    "                ok = 0\n",
    "                break\n",
    "            else:\n",
    "                stack.pop()\n",
    "    print(\"yes\" if ok and stack == [] else \"no\")"
   ]
  },
  {
   "cell_type": "code",
   "execution_count": null,
   "metadata": {},
   "outputs": [],
   "source": []
  }
 ],
 "metadata": {
  "kernelspec": {
   "display_name": "Python 3",
   "language": "python",
   "name": "python3"
  },
  "language_info": {
   "codemirror_mode": {
    "name": "ipython",
    "version": 3
   },
   "file_extension": ".py",
   "mimetype": "text/x-python",
   "name": "python",
   "nbconvert_exporter": "python",
   "pygments_lexer": "ipython3",
   "version": "3.8.5"
  },
  "toc": {
   "base_numbering": 1,
   "nav_menu": {},
   "number_sections": true,
   "sideBar": true,
   "skip_h1_title": false,
   "title_cell": "Table of Contents",
   "title_sidebar": "Contents",
   "toc_cell": false,
   "toc_position": {},
   "toc_section_display": true,
   "toc_window_display": false
  },
  "varInspector": {
   "cols": {
    "lenName": 16,
    "lenType": 16,
    "lenVar": 40
   },
   "kernels_config": {
    "python": {
     "delete_cmd_postfix": "",
     "delete_cmd_prefix": "del ",
     "library": "var_list.py",
     "varRefreshCmd": "print(var_dic_list())"
    },
    "r": {
     "delete_cmd_postfix": ") ",
     "delete_cmd_prefix": "rm(",
     "library": "var_list.r",
     "varRefreshCmd": "cat(var_dic_list()) "
    }
   },
   "types_to_exclude": [
    "module",
    "function",
    "builtin_function_or_method",
    "instance",
    "_Feature"
   ],
   "window_display": false
  }
 },
 "nbformat": 4,
 "nbformat_minor": 4
}
