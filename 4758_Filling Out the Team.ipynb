{
 "cells": [
  {
   "cell_type": "code",
   "execution_count": 5,
   "id": "vertical-judgment",
   "metadata": {
    "ExecuteTime": {
     "end_time": "2021-02-13T11:18:23.743073Z",
     "start_time": "2021-02-13T11:18:08.853805Z"
    }
   },
   "outputs": [
    {
     "name": "stdout",
     "output_type": "stream",
     "text": [
      "4.4 180 200\n",
      "Wide Receiver \n",
      "5.5 350 700\n",
      "Lineman \n",
      "4.4 205 350\n",
      "Wide Receiver Quarterback \n",
      "5.2 210 500\n",
      "No positions \n",
      "0 0 0\n"
     ]
    }
   ],
   "source": [
    "while 1:\n",
    "    sp, w, st = map(float, input().split())\n",
    "    p = 0\n",
    "    if sp == w == st == 0:\n",
    "        break\n",
    "    if sp <= 4.5 and w >= 150 and st >= 200:\n",
    "        p = 1; print(\"Wide Receiver\", end = ' ')\n",
    "    if sp <= 6.0 and w >= 300 and st >= 500:\n",
    "        p = 1; print(\"Lineman\", end = ' ')\n",
    "    if sp <= 5.0 and w >= 200 and st >= 300:\n",
    "        p = 1; print(\"Quarterback\", end = ' ')\n",
    "    if p == 0:\n",
    "        print(\"No positions\", end = ' ')\n",
    "    print()"
   ]
  },
  {
   "cell_type": "code",
   "execution_count": null,
   "id": "classical-division",
   "metadata": {},
   "outputs": [],
   "source": []
  }
 ],
 "metadata": {
  "kernelspec": {
   "display_name": "Python 3",
   "language": "python",
   "name": "python3"
  },
  "language_info": {
   "codemirror_mode": {
    "name": "ipython",
    "version": 3
   },
   "file_extension": ".py",
   "mimetype": "text/x-python",
   "name": "python",
   "nbconvert_exporter": "python",
   "pygments_lexer": "ipython3",
   "version": "3.7.9"
  },
  "toc": {
   "base_numbering": 1,
   "nav_menu": {},
   "number_sections": true,
   "sideBar": true,
   "skip_h1_title": false,
   "title_cell": "Table of Contents",
   "title_sidebar": "Contents",
   "toc_cell": false,
   "toc_position": {},
   "toc_section_display": true,
   "toc_window_display": false
  },
  "varInspector": {
   "cols": {
    "lenName": 16,
    "lenType": 16,
    "lenVar": 40
   },
   "kernels_config": {
    "python": {
     "delete_cmd_postfix": "",
     "delete_cmd_prefix": "del ",
     "library": "var_list.py",
     "varRefreshCmd": "print(var_dic_list())"
    },
    "r": {
     "delete_cmd_postfix": ") ",
     "delete_cmd_prefix": "rm(",
     "library": "var_list.r",
     "varRefreshCmd": "cat(var_dic_list()) "
    }
   },
   "types_to_exclude": [
    "module",
    "function",
    "builtin_function_or_method",
    "instance",
    "_Feature"
   ],
   "window_display": false
  }
 },
 "nbformat": 4,
 "nbformat_minor": 5
}
