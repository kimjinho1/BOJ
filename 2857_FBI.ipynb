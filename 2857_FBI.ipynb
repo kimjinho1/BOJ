{
 "cells": [
  {
   "cell_type": "code",
   "execution_count": 2,
   "metadata": {},
   "outputs": [
    {
     "name": "stdout",
     "output_type": "stream",
     "text": [
      "47-FBI\n",
      "007\n",
      "RF-FBI18\n",
      "MARICA-13\n",
      "13A-FBILL\n",
      "1 3 5\n"
     ]
    }
   ],
   "source": [
    "li = []\n",
    "for i in range(1, 6):\n",
    "    w = input()\n",
    "    if \"FBI\" in w:\n",
    "        li.append(i)\n",
    "if li:\n",
    "    print(*li)\n",
    "else:\n",
    "    print(\"HE GOT AWAY!\")"
   ]
  }
 ],
 "metadata": {
  "kernelspec": {
   "display_name": "Python 3",
   "language": "python",
   "name": "python3"
  },
  "language_info": {
   "codemirror_mode": {
    "name": "ipython",
    "version": 3
   },
   "file_extension": ".py",
   "mimetype": "text/x-python",
   "name": "python",
   "nbconvert_exporter": "python",
   "pygments_lexer": "ipython3",
   "version": "3.6.8"
  }
 },
 "nbformat": 4,
 "nbformat_minor": 2
}
