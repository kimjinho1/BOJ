{
 "cells": [
  {
   "cell_type": "code",
   "execution_count": 7,
   "id": "consistent-omega",
   "metadata": {
    "ExecuteTime": {
     "end_time": "2021-02-22T18:47:41.252820Z",
     "start_time": "2021-02-22T18:47:33.921411Z"
    }
   },
   "outputs": [
    {
     "name": "stdout",
     "output_type": "stream",
     "text": [
      "4\n",
      "0 3 6 7\n",
      "3 0 5 6\n",
      "6 5 0 9\n",
      "7 6 9 0\n",
      "2 1 4 5\n"
     ]
    }
   ],
   "source": [
    "N = int(input())\n",
    "li = [list(map(int, input().split())) for _ in range(N)]\n",
    "if N == 2:\n",
    "    print(1, 1)\n",
    "else:\n",
    "    res = [(li[0][1] + li[0][2]-li[1][2])//2]\n",
    "    for i in range(1, N):\n",
    "        res.append(li[0][i]-res[0])\n",
    "    print(*res)"
   ]
  },
  {
   "cell_type": "code",
   "execution_count": 6,
   "id": "abroad-mustang",
   "metadata": {
    "ExecuteTime": {
     "end_time": "2021-02-22T18:47:10.985744Z",
     "start_time": "2021-02-22T18:47:07.785305Z"
    }
   },
   "outputs": [
    {
     "name": "stdout",
     "output_type": "stream",
     "text": [
      "2\n",
      "0 2\n",
      "2 0\n",
      "1 1\n"
     ]
    }
   ],
   "source": [
    "N = int(input())\n",
    "li = [list(map(int, input().split())) for _ in range(N)]\n",
    "if N == 2:\n",
    "    print(1, 1)\n",
    "else:\n",
    "    res = [(li[0][1] + li[0][2]-li[1][2])//2]\n",
    "    for i in range(1, N):\n",
    "        res.append(li[0][i]-res[0])\n",
    "    print(*res)"
   ]
  },
  {
   "cell_type": "code",
   "execution_count": null,
   "id": "cardiovascular-glasgow",
   "metadata": {},
   "outputs": [],
   "source": []
  }
 ],
 "metadata": {
  "kernelspec": {
   "display_name": "Python 3",
   "language": "python",
   "name": "python3"
  },
  "language_info": {
   "codemirror_mode": {
    "name": "ipython",
    "version": 3
   },
   "file_extension": ".py",
   "mimetype": "text/x-python",
   "name": "python",
   "nbconvert_exporter": "python",
   "pygments_lexer": "ipython3",
   "version": "3.7.9"
  },
  "toc": {
   "base_numbering": 1,
   "nav_menu": {},
   "number_sections": true,
   "sideBar": true,
   "skip_h1_title": false,
   "title_cell": "Table of Contents",
   "title_sidebar": "Contents",
   "toc_cell": false,
   "toc_position": {},
   "toc_section_display": true,
   "toc_window_display": false
  },
  "varInspector": {
   "cols": {
    "lenName": 16,
    "lenType": 16,
    "lenVar": 40
   },
   "kernels_config": {
    "python": {
     "delete_cmd_postfix": "",
     "delete_cmd_prefix": "del ",
     "library": "var_list.py",
     "varRefreshCmd": "print(var_dic_list())"
    },
    "r": {
     "delete_cmd_postfix": ") ",
     "delete_cmd_prefix": "rm(",
     "library": "var_list.r",
     "varRefreshCmd": "cat(var_dic_list()) "
    }
   },
   "types_to_exclude": [
    "module",
    "function",
    "builtin_function_or_method",
    "instance",
    "_Feature"
   ],
   "window_display": false
  }
 },
 "nbformat": 4,
 "nbformat_minor": 5
}
