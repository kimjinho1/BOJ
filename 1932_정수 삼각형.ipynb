{
 "cells": [
  {
   "cell_type": "code",
   "execution_count": 32,
   "metadata": {},
   "outputs": [
    {
     "name": "stdout",
     "output_type": "stream",
     "text": [
      "5\n",
      "7\n",
      "3 8\n",
      "8 1 0\n",
      "2 7 4 4\n",
      "4 5 2 6 5\n",
      "30\n"
     ]
    }
   ],
   "source": [
    "n = int(input())\n",
    "li = []\n",
    "for i in range(n):\n",
    "    li.append(list(map(int, input().split())))\n",
    "\n",
    "if n > 1:    \n",
    "    li[1][0] += li[0][0]\n",
    "    li[1][1] += li[0][0]\n",
    "    for i in range(2, n):\n",
    "        for j in range(i+1):\n",
    "            if j == 0:\n",
    "                li[i][0] += li[i-1][0]\n",
    "            elif j == i:\n",
    "                li[i][j] += li[i-1][j-1]\n",
    "            else:\n",
    "                li[i][j] += max(li[i-1][j], li[i-1][j-1])\n",
    "print(max(li[-1]))"
   ]
  },
  {
   "cell_type": "code",
   "execution_count": null,
   "metadata": {},
   "outputs": [],
   "source": []
  }
 ],
 "metadata": {
  "kernelspec": {
   "display_name": "Python 3",
   "language": "python",
   "name": "python3"
  },
  "language_info": {
   "codemirror_mode": {
    "name": "ipython",
    "version": 3
   },
   "file_extension": ".py",
   "mimetype": "text/x-python",
   "name": "python",
   "nbconvert_exporter": "python",
   "pygments_lexer": "ipython3",
   "version": "3.6.8"
  }
 },
 "nbformat": 4,
 "nbformat_minor": 2
}
