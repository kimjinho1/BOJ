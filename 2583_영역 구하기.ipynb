{
 "cells": [
  {
   "cell_type": "code",
   "execution_count": 12,
   "metadata": {
    "ExecuteTime": {
     "end_time": "2021-03-10T10:28:30.357924Z",
     "start_time": "2021-03-10T10:28:24.329183Z"
    }
   },
   "outputs": [
    {
     "name": "stdout",
     "output_type": "stream",
     "text": [
      "5 7 3\n",
      "0 2 4 4\n",
      "1 1 2 5\n",
      "4 0 6 2\n",
      "3\n",
      "1 7 13\n"
     ]
    }
   ],
   "source": [
    "from collections import deque\n",
    "\n",
    "def bfs(i, j):\n",
    "    queue = deque()\n",
    "    queue.append((i, j))\n",
    "    d = [(-1, 0), (1, 0), (0, -1), (0, 1)]\n",
    "    cnt = 1\n",
    "    while queue:\n",
    "        y, x = queue.popleft()\n",
    "        for dy, dx in d:\n",
    "            Y, X = y+dy, x+dx\n",
    "            if (0 <= Y < M) and (0 <= X < N) and graph[Y][X] == 0:\n",
    "                graph[Y][X] = 1\n",
    "                queue.append((Y, X))\n",
    "                cnt += 1\n",
    "    return cnt\n",
    "    \n",
    "M, N, K = map(int, input().split())\n",
    "graph = [[0]*N for _ in range(M)]\n",
    "for _ in range(K):\n",
    "    x1, y1, x2, y2 = map(int, input().split())\n",
    "    for i in range(y1, y2):\n",
    "        for j in range(x1, x2):\n",
    "            graph[i][j] = 1\n",
    "res = []\n",
    "for i in range(M):\n",
    "    for j in range(N):\n",
    "        if graph[i][j] == 0:\n",
    "            graph[i][j] = 1\n",
    "            res.append(bfs(i, j))\n",
    "print(len(res))\n",
    "print(*sorted(res))"
   ]
  },
  {
   "cell_type": "code",
   "execution_count": 23,
   "metadata": {
    "ExecuteTime": {
     "end_time": "2021-03-10T10:42:39.009313Z",
     "start_time": "2021-03-10T10:42:32.322777Z"
    }
   },
   "outputs": [
    {
     "name": "stdout",
     "output_type": "stream",
     "text": [
      "5 7 3\n",
      "0 2 4 4\n",
      "1 1 2 5\n",
      "4 0 6 2\n",
      "3\n",
      "1 7 13\n"
     ]
    }
   ],
   "source": [
    "import sys\n",
    "sys.setrecursionlimit(10000)\n",
    "\n",
    "def dfs(y, x, cnt):\n",
    "    graph[y][x] = 1\n",
    "    for dy, dx in d:\n",
    "        Y, X = y+dy, x+dx\n",
    "        if (0 <= Y < M) and (0 <= X < N) and graph[Y][X] == 0:\n",
    "            cnt = dfs(Y, X, cnt+1)\n",
    "    return cnt\n",
    "    \n",
    "M, N, K = map(int, input().split())\n",
    "graph = [[0]*N for _ in range(M)]\n",
    "for _ in range(K):\n",
    "    x1, y1, x2, y2 = map(int, input().split())\n",
    "    for i in range(y1, y2):\n",
    "        for j in range(x1, x2):\n",
    "            graph[i][j] = 1\n",
    "d = [(-1, 0), (1, 0), (0, -1), (0, 1)]\n",
    "res = []\n",
    "for i in range(M):\n",
    "    for j in range(N):\n",
    "        if graph[i][j] == 0:\n",
    "            res.append(dfs(i, j, 1))\n",
    "print(len(res))\n",
    "print(*sorted(res))"
   ]
  },
  {
   "cell_type": "code",
   "execution_count": null,
   "metadata": {},
   "outputs": [],
   "source": []
  }
 ],
 "metadata": {
  "kernelspec": {
   "display_name": "Python 3",
   "language": "python",
   "name": "python3"
  },
  "language_info": {
   "codemirror_mode": {
    "name": "ipython",
    "version": 3
   },
   "file_extension": ".py",
   "mimetype": "text/x-python",
   "name": "python",
   "nbconvert_exporter": "python",
   "pygments_lexer": "ipython3",
   "version": "3.8.5"
  },
  "toc": {
   "base_numbering": 1,
   "nav_menu": {},
   "number_sections": true,
   "sideBar": true,
   "skip_h1_title": false,
   "title_cell": "Table of Contents",
   "title_sidebar": "Contents",
   "toc_cell": false,
   "toc_position": {},
   "toc_section_display": true,
   "toc_window_display": false
  },
  "varInspector": {
   "cols": {
    "lenName": 16,
    "lenType": 16,
    "lenVar": 40
   },
   "kernels_config": {
    "python": {
     "delete_cmd_postfix": "",
     "delete_cmd_prefix": "del ",
     "library": "var_list.py",
     "varRefreshCmd": "print(var_dic_list())"
    },
    "r": {
     "delete_cmd_postfix": ") ",
     "delete_cmd_prefix": "rm(",
     "library": "var_list.r",
     "varRefreshCmd": "cat(var_dic_list()) "
    }
   },
   "types_to_exclude": [
    "module",
    "function",
    "builtin_function_or_method",
    "instance",
    "_Feature"
   ],
   "window_display": false
  }
 },
 "nbformat": 4,
 "nbformat_minor": 4
}
