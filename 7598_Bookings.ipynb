{
 "cells": [
  {
   "cell_type": "code",
   "execution_count": 2,
   "id": "dangerous-friend",
   "metadata": {
    "ExecuteTime": {
     "end_time": "2021-02-17T05:26:04.179613Z",
     "start_time": "2021-02-17T05:25:19.116744Z"
    }
   },
   "outputs": [
    {
     "name": "stdout",
     "output_type": "stream",
     "text": [
      "AZ001 5\n",
      "B 10\n",
      "B 1\n",
      "B 2\n",
      "C 1\n",
      "B 3\n",
      "C 1\n",
      "C 4\n",
      "B 2\n",
      "B 1\n",
      "B 1\n",
      "B 5\n",
      "C 3\n",
      "X 0\n",
      "AZ001 21\n",
      "AZ002 60\n",
      "C 61\n",
      "B 9\n",
      "X 0\n",
      "AZ002 60\n",
      "# 0\n"
     ]
    }
   ],
   "source": [
    "while 1:\n",
    "    p, n = input().split()\n",
    "    if p == '#':\n",
    "        break\n",
    "    n = int(n)\n",
    "    while 1:\n",
    "        c, a = input().split()\n",
    "        if c == 'X':\n",
    "            break\n",
    "        a = int(a)\n",
    "        if a > 68:\n",
    "            continue\n",
    "        if c == 'B' and n+a <= 68:\n",
    "            n += a\n",
    "        elif c == 'C' and n-a >= 0:\n",
    "            n -= a\n",
    "    print(p, n)"
   ]
  },
  {
   "cell_type": "code",
   "execution_count": null,
   "id": "loving-assessment",
   "metadata": {},
   "outputs": [],
   "source": []
  }
 ],
 "metadata": {
  "kernelspec": {
   "display_name": "Python 3",
   "language": "python",
   "name": "python3"
  },
  "language_info": {
   "codemirror_mode": {
    "name": "ipython",
    "version": 3
   },
   "file_extension": ".py",
   "mimetype": "text/x-python",
   "name": "python",
   "nbconvert_exporter": "python",
   "pygments_lexer": "ipython3",
   "version": "3.7.9"
  },
  "toc": {
   "base_numbering": 1,
   "nav_menu": {},
   "number_sections": true,
   "sideBar": true,
   "skip_h1_title": false,
   "title_cell": "Table of Contents",
   "title_sidebar": "Contents",
   "toc_cell": false,
   "toc_position": {},
   "toc_section_display": true,
   "toc_window_display": false
  },
  "varInspector": {
   "cols": {
    "lenName": 16,
    "lenType": 16,
    "lenVar": 40
   },
   "kernels_config": {
    "python": {
     "delete_cmd_postfix": "",
     "delete_cmd_prefix": "del ",
     "library": "var_list.py",
     "varRefreshCmd": "print(var_dic_list())"
    },
    "r": {
     "delete_cmd_postfix": ") ",
     "delete_cmd_prefix": "rm(",
     "library": "var_list.r",
     "varRefreshCmd": "cat(var_dic_list()) "
    }
   },
   "types_to_exclude": [
    "module",
    "function",
    "builtin_function_or_method",
    "instance",
    "_Feature"
   ],
   "window_display": false
  }
 },
 "nbformat": 4,
 "nbformat_minor": 5
}
