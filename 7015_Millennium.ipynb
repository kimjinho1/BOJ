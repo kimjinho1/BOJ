{
 "cells": [
  {
   "cell_type": "code",
   "execution_count": 19,
   "id": "further-melbourne",
   "metadata": {
    "ExecuteTime": {
     "end_time": "2021-02-17T01:50:59.774303Z",
     "start_time": "2021-02-17T01:50:37.869542Z"
    }
   },
   "outputs": [
    {
     "name": "stdout",
     "output_type": "stream",
     "text": [
      "8\n",
      "1 1 1\n",
      "196470\n",
      "344 3 1\n",
      "128976\n",
      "696 5 1\n",
      "59710\n",
      "182 9 5\n",
      "160715\n",
      "998 8 7\n",
      "252\n",
      "344 2 19\n",
      "128977\n",
      "696 4 19\n",
      "59712\n",
      "999 10 20\n",
      "1\n"
     ]
    }
   ],
   "source": [
    "from math import ceil, floor\n",
    "\n",
    "for _ in range(int(input())):\n",
    "    y, m, d = map(int, input().split())\n",
    "    total = now = 0\n",
    "    for i in range(1, 1000):\n",
    "        if i%3 == 0:\n",
    "            total += 20*10\n",
    "        else:\n",
    "            total += (20+19)*5\n",
    "    total += 1\n",
    "    \n",
    "    for i in range(1, y):\n",
    "        if i%3 == 0:\n",
    "            now += 20*10\n",
    "        else:\n",
    "            now += (20+19)*5\n",
    "    if y%3 == 0:\n",
    "        now += (m-1)*20 + d\n",
    "    else:\n",
    "        now += ceil((m-1)/2)*20 + floor((m-1)/2)*19 + d\n",
    "    print(total-now)"
   ]
  },
  {
   "cell_type": "code",
   "execution_count": null,
   "id": "confident-tunisia",
   "metadata": {},
   "outputs": [],
   "source": []
  }
 ],
 "metadata": {
  "kernelspec": {
   "display_name": "Python 3",
   "language": "python",
   "name": "python3"
  },
  "language_info": {
   "codemirror_mode": {
    "name": "ipython",
    "version": 3
   },
   "file_extension": ".py",
   "mimetype": "text/x-python",
   "name": "python",
   "nbconvert_exporter": "python",
   "pygments_lexer": "ipython3",
   "version": "3.7.9"
  },
  "toc": {
   "base_numbering": 1,
   "nav_menu": {},
   "number_sections": true,
   "sideBar": true,
   "skip_h1_title": false,
   "title_cell": "Table of Contents",
   "title_sidebar": "Contents",
   "toc_cell": false,
   "toc_position": {},
   "toc_section_display": true,
   "toc_window_display": false
  },
  "varInspector": {
   "cols": {
    "lenName": 16,
    "lenType": 16,
    "lenVar": 40
   },
   "kernels_config": {
    "python": {
     "delete_cmd_postfix": "",
     "delete_cmd_prefix": "del ",
     "library": "var_list.py",
     "varRefreshCmd": "print(var_dic_list())"
    },
    "r": {
     "delete_cmd_postfix": ") ",
     "delete_cmd_prefix": "rm(",
     "library": "var_list.r",
     "varRefreshCmd": "cat(var_dic_list()) "
    }
   },
   "types_to_exclude": [
    "module",
    "function",
    "builtin_function_or_method",
    "instance",
    "_Feature"
   ],
   "window_display": false
  }
 },
 "nbformat": 4,
 "nbformat_minor": 5
}
