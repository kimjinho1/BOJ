{
 "cells": [
  {
   "cell_type": "code",
   "execution_count": 45,
   "id": "interracial-campaign",
   "metadata": {
    "ExecuteTime": {
     "end_time": "2021-02-20T10:49:13.502086Z",
     "start_time": "2021-02-20T10:49:03.184349Z"
    },
    "scrolled": true
   },
   "outputs": [
    {
     "name": "stdout",
     "output_type": "stream",
     "text": [
      "4\n",
      "1 900 901 902 903 904 905 906 907 908 909 910 911 912 913 914 915 916 917 918 919\n",
      "1 0\n",
      "2 919 918 917 916 915 914 913 912 911 910 909 908 907 906 905 904 903 902 901 900\n",
      "2 190\n",
      "3 901 902 903 904 905 906 907 908 909 910 911 912 913 914 915 916 917 918 919 900\n",
      "3 19\n",
      "4 918 917 916 915 914 913 912 911 910 909 908 907 906 905 904 903 902 901 900 919\n",
      "4 171\n"
     ]
    }
   ],
   "source": [
    "for _ in range(int(input())):\n",
    "    a = list(map(int, input().split()))\n",
    "    case, li = a[0], a[1:]\n",
    "    res = 0\n",
    "    for i in range(1, 20):\n",
    "        m, m_idx = max(li)+1, i\n",
    "        for j in range(i):\n",
    "            if li[j] > li[i] and li[j] < m:\n",
    "                m = li[j]\n",
    "                m_idx = j\n",
    "        if m_idx != i:\n",
    "            li = li[:m_idx] + [li[i]] + li[m_idx:i] + li[i+1:]\n",
    "            res += i-m_idx\n",
    "    print(case, res)"
   ]
  },
  {
   "cell_type": "code",
   "execution_count": null,
   "id": "applicable-powder",
   "metadata": {},
   "outputs": [],
   "source": []
  }
 ],
 "metadata": {
  "kernelspec": {
   "display_name": "Python 3",
   "language": "python",
   "name": "python3"
  },
  "language_info": {
   "codemirror_mode": {
    "name": "ipython",
    "version": 3
   },
   "file_extension": ".py",
   "mimetype": "text/x-python",
   "name": "python",
   "nbconvert_exporter": "python",
   "pygments_lexer": "ipython3",
   "version": "3.7.9"
  },
  "toc": {
   "base_numbering": 1,
   "nav_menu": {},
   "number_sections": true,
   "sideBar": true,
   "skip_h1_title": false,
   "title_cell": "Table of Contents",
   "title_sidebar": "Contents",
   "toc_cell": false,
   "toc_position": {},
   "toc_section_display": true,
   "toc_window_display": false
  },
  "varInspector": {
   "cols": {
    "lenName": 16,
    "lenType": 16,
    "lenVar": 40
   },
   "kernels_config": {
    "python": {
     "delete_cmd_postfix": "",
     "delete_cmd_prefix": "del ",
     "library": "var_list.py",
     "varRefreshCmd": "print(var_dic_list())"
    },
    "r": {
     "delete_cmd_postfix": ") ",
     "delete_cmd_prefix": "rm(",
     "library": "var_list.r",
     "varRefreshCmd": "cat(var_dic_list()) "
    }
   },
   "types_to_exclude": [
    "module",
    "function",
    "builtin_function_or_method",
    "instance",
    "_Feature"
   ],
   "window_display": false
  }
 },
 "nbformat": 4,
 "nbformat_minor": 5
}
