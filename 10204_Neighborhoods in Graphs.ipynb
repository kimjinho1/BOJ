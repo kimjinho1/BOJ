{
 "cells": [
  {
   "cell_type": "code",
   "execution_count": 14,
   "metadata": {
    "ExecuteTime": {
     "end_time": "2021-03-16T09:25:56.595048Z",
     "start_time": "2021-03-16T09:25:39.821123Z"
    }
   },
   "outputs": [
    {
     "name": "stdout",
     "output_type": "stream",
     "text": [
      "4\n",
      "9 11 v1 v3 v2 v3 v3 v4 v3 v5 v4 v7 v5 v6 v5 v9 v6 v7 v6 v9 v7 v8 v8 v9 v1\n",
      "The number of supervillains in 2-hop neighborhood of v1 is 4\n",
      "9 11 v1 v3 v2 v3 v3 v4 v3 v5 v4 v7 v5 v6 v5 v9 v6 v7 v6 v9 v7 v8 v8 v9 v5 \n",
      "The number of supervillains in 2-hop neighborhood of v5 is 8\n",
      "5 4 v1 v2 v2 v3 v3 v4 v4 v5 v1 \n",
      "The number of supervillains in 2-hop neighborhood of v1 is 2\n",
      "5 0 v1 \n",
      "The number of supervillains in 2-hop neighborhood of v1 is 0\n"
     ]
    }
   ],
   "source": [
    "from collections import deque\n",
    "\n",
    "def bfs(node):\n",
    "    q = deque()\n",
    "    q.append(node)\n",
    "    check[node] = 0\n",
    "    while q:\n",
    "        node = q.popleft()\n",
    "        for n in graph[node]:\n",
    "            if check[n] == -1:\n",
    "                q.append(n)\n",
    "                check[n] = check[node]+1\n",
    "\n",
    "for _ in range(int(input())):\n",
    "    a = input().split()\n",
    "    N, M = int(a[0]), int(a[1])\n",
    "    vx = a[-1]\n",
    "    graph = [[] for i in range(N+1)]\n",
    "    li = a[2:-1]\n",
    "    for i in range(M):\n",
    "        u, v = int(li[i*2][1:]), int(li[i*2+1][1:])\n",
    "        graph[u].append(v)\n",
    "        graph[v].append(u)\n",
    "    check = [-1]*(N+1)\n",
    "    bfs(int(vx[1:]))\n",
    "    res = sum([1 for t in check if 1 <= t <= 2])\n",
    "    print(f\"The number of supervillains in 2-hop neighborhood of {vx} is {res}\")"
   ]
  },
  {
   "cell_type": "code",
   "execution_count": null,
   "metadata": {},
   "outputs": [],
   "source": []
  }
 ],
 "metadata": {
  "kernelspec": {
   "display_name": "Python 3",
   "language": "python",
   "name": "python3"
  },
  "language_info": {
   "codemirror_mode": {
    "name": "ipython",
    "version": 3
   },
   "file_extension": ".py",
   "mimetype": "text/x-python",
   "name": "python",
   "nbconvert_exporter": "python",
   "pygments_lexer": "ipython3",
   "version": "3.8.5"
  },
  "toc": {
   "base_numbering": 1,
   "nav_menu": {},
   "number_sections": true,
   "sideBar": true,
   "skip_h1_title": false,
   "title_cell": "Table of Contents",
   "title_sidebar": "Contents",
   "toc_cell": false,
   "toc_position": {},
   "toc_section_display": true,
   "toc_window_display": false
  },
  "varInspector": {
   "cols": {
    "lenName": 16,
    "lenType": 16,
    "lenVar": 40
   },
   "kernels_config": {
    "python": {
     "delete_cmd_postfix": "",
     "delete_cmd_prefix": "del ",
     "library": "var_list.py",
     "varRefreshCmd": "print(var_dic_list())"
    },
    "r": {
     "delete_cmd_postfix": ") ",
     "delete_cmd_prefix": "rm(",
     "library": "var_list.r",
     "varRefreshCmd": "cat(var_dic_list()) "
    }
   },
   "types_to_exclude": [
    "module",
    "function",
    "builtin_function_or_method",
    "instance",
    "_Feature"
   ],
   "window_display": false
  }
 },
 "nbformat": 4,
 "nbformat_minor": 4
}
