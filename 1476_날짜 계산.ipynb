{
 "cells": [
  {
   "cell_type": "code",
   "execution_count": 5,
   "metadata": {},
   "outputs": [
    {
     "name": "stdout",
     "output_type": "stream",
     "text": [
      "15 28 19\n",
      "7980\n"
     ]
    }
   ],
   "source": [
    "g = list(map(int, input().split()))\n",
    "li = [1, 1, 1]\n",
    "cnt = 1\n",
    "while li != g:\n",
    "    for i in range(3):\n",
    "        li[i] += 1\n",
    "    if li[0] == 16:\n",
    "        li[0] = 1\n",
    "    if li[1] == 29:\n",
    "        li[1] = 1\n",
    "    if li[2] == 20:\n",
    "        li[2] = 1\n",
    "    cnt += 1\n",
    "    \n",
    "print(cnt)"
   ]
  },
  {
   "cell_type": "code",
   "execution_count": null,
   "metadata": {},
   "outputs": [],
   "source": []
  }
 ],
 "metadata": {
  "kernelspec": {
   "display_name": "Python 3",
   "language": "python",
   "name": "python3"
  },
  "language_info": {
   "codemirror_mode": {
    "name": "ipython",
    "version": 3
   },
   "file_extension": ".py",
   "mimetype": "text/x-python",
   "name": "python",
   "nbconvert_exporter": "python",
   "pygments_lexer": "ipython3",
   "version": "3.6.8"
  }
 },
 "nbformat": 4,
 "nbformat_minor": 2
}
