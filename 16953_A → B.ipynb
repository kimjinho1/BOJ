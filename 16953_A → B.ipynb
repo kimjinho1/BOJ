{
 "cells": [
  {
   "cell_type": "code",
   "execution_count": 1,
   "metadata": {
    "ExecuteTime": {
     "end_time": "2021-03-13T07:47:08.940366Z",
     "start_time": "2021-03-13T07:47:07.329385Z"
    }
   },
   "outputs": [
    {
     "name": "stdout",
     "output_type": "stream",
     "text": [
      "2 162\n",
      "5\n"
     ]
    }
   ],
   "source": [
    "from collections import deque\n",
    "\n",
    "def bfs(A, B):\n",
    "    cnt = 1\n",
    "    queue = deque()\n",
    "    queue.append((A, cnt))\n",
    "    while queue:\n",
    "        node, cnt = queue.popleft()\n",
    "        if node == B:\n",
    "            return cnt\n",
    "        if node*2 <= B:\n",
    "            queue.append((node*2, cnt+1))\n",
    "        if int(str(node)+'1') <= B:\n",
    "            queue.append((int(str(node)+'1'), cnt+1))\n",
    "    return -1\n",
    "\n",
    "A, B = map(int, input().split())\n",
    "print(bfs(A, B))"
   ]
  },
  {
   "cell_type": "code",
   "execution_count": 2,
   "metadata": {
    "ExecuteTime": {
     "end_time": "2021-03-13T07:47:13.064900Z",
     "start_time": "2021-03-13T07:47:12.391176Z"
    }
   },
   "outputs": [
    {
     "name": "stdout",
     "output_type": "stream",
     "text": [
      "4 42\n",
      "-1\n"
     ]
    }
   ],
   "source": [
    "from collections import deque\n",
    "\n",
    "def bfs(A, B):\n",
    "    cnt = 1\n",
    "    queue = deque()\n",
    "    queue.append((A, cnt))\n",
    "    while queue:\n",
    "        node, cnt = queue.popleft()\n",
    "        if node == B:\n",
    "            return cnt\n",
    "        if node*2 <= B:\n",
    "            queue.append((node*2, cnt+1))\n",
    "        if int(str(node)+'1') <= B:\n",
    "            queue.append((int(str(node)+'1'), cnt+1))\n",
    "    return -1\n",
    "\n",
    "A, B = map(int, input().split())\n",
    "print(bfs(A, B))"
   ]
  },
  {
   "cell_type": "code",
   "execution_count": 3,
   "metadata": {
    "ExecuteTime": {
     "end_time": "2021-03-13T07:47:18.138656Z",
     "start_time": "2021-03-13T07:47:16.177273Z"
    }
   },
   "outputs": [
    {
     "name": "stdout",
     "output_type": "stream",
     "text": [
      "100 40021\n",
      "5\n"
     ]
    }
   ],
   "source": [
    "from collections import deque\n",
    "\n",
    "def bfs(A, B):\n",
    "    cnt = 1\n",
    "    queue = deque()\n",
    "    queue.append((A, cnt))\n",
    "    while queue:\n",
    "        node, cnt = queue.popleft()\n",
    "        if node == B:\n",
    "            return cnt\n",
    "        if node*2 <= B:\n",
    "            queue.append((node*2, cnt+1))\n",
    "        if int(str(node)+'1') <= B:\n",
    "            queue.append((int(str(node)+'1'), cnt+1))\n",
    "    return -1\n",
    "\n",
    "A, B = map(int, input().split())\n",
    "print(bfs(A, B))"
   ]
  },
  {
   "cell_type": "code",
   "execution_count": null,
   "metadata": {},
   "outputs": [],
   "source": []
  }
 ],
 "metadata": {
  "kernelspec": {
   "display_name": "Python 3",
   "language": "python",
   "name": "python3"
  },
  "language_info": {
   "codemirror_mode": {
    "name": "ipython",
    "version": 3
   },
   "file_extension": ".py",
   "mimetype": "text/x-python",
   "name": "python",
   "nbconvert_exporter": "python",
   "pygments_lexer": "ipython3",
   "version": "3.8.5"
  },
  "toc": {
   "base_numbering": 1,
   "nav_menu": {},
   "number_sections": true,
   "sideBar": true,
   "skip_h1_title": false,
   "title_cell": "Table of Contents",
   "title_sidebar": "Contents",
   "toc_cell": false,
   "toc_position": {},
   "toc_section_display": true,
   "toc_window_display": false
  },
  "varInspector": {
   "cols": {
    "lenName": 16,
    "lenType": 16,
    "lenVar": 40
   },
   "kernels_config": {
    "python": {
     "delete_cmd_postfix": "",
     "delete_cmd_prefix": "del ",
     "library": "var_list.py",
     "varRefreshCmd": "print(var_dic_list())"
    },
    "r": {
     "delete_cmd_postfix": ") ",
     "delete_cmd_prefix": "rm(",
     "library": "var_list.r",
     "varRefreshCmd": "cat(var_dic_list()) "
    }
   },
   "types_to_exclude": [
    "module",
    "function",
    "builtin_function_or_method",
    "instance",
    "_Feature"
   ],
   "window_display": false
  }
 },
 "nbformat": 4,
 "nbformat_minor": 4
}
