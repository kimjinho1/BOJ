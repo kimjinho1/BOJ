{
 "cells": [
  {
   "cell_type": "code",
   "execution_count": 4,
   "id": "indian-czech",
   "metadata": {
    "ExecuteTime": {
     "end_time": "2021-02-14T09:30:27.675803Z",
     "start_time": "2021-02-14T09:30:26.482092Z"
    }
   },
   "outputs": [
    {
     "name": "stdout",
     "output_type": "stream",
     "text": [
      "1236\n",
      "YES\n"
     ]
    }
   ],
   "source": [
    "N = input()\n",
    "ok = 0\n",
    "for i in range(1, len(N)):\n",
    "    s1, s2 = N[:i], N[i:]\n",
    "    m1 = m2 = 1\n",
    "    for n in s1:\n",
    "        m1 *= int(n)\n",
    "    for n in s2:\n",
    "        m2 *= int(n)\n",
    "    if m1 == m2:\n",
    "        ok = 1\n",
    "        break\n",
    "print(\"YES\" if ok else \"NO\")"
   ]
  },
  {
   "cell_type": "code",
   "execution_count": 5,
   "id": "secondary-contractor",
   "metadata": {
    "ExecuteTime": {
     "end_time": "2021-02-14T09:30:30.962706Z",
     "start_time": "2021-02-14T09:30:30.192624Z"
    }
   },
   "outputs": [
    {
     "name": "stdout",
     "output_type": "stream",
     "text": [
      "1234\n",
      "NO\n"
     ]
    }
   ],
   "source": [
    "N = input()\n",
    "ok = 0\n",
    "for i in range(1, len(N)):\n",
    "    s1, s2 = N[:i], N[i:]\n",
    "    m1 = m2 = 1\n",
    "    for n in s1:\n",
    "        m1 *= int(n)\n",
    "    for n in s2:\n",
    "        m2 *= int(n)\n",
    "    if m1 == m2:\n",
    "        ok = 1\n",
    "        break\n",
    "print(\"YES\" if ok else \"NO\")"
   ]
  },
  {
   "cell_type": "code",
   "execution_count": null,
   "id": "czech-result",
   "metadata": {},
   "outputs": [],
   "source": []
  }
 ],
 "metadata": {
  "kernelspec": {
   "display_name": "Python 3",
   "language": "python",
   "name": "python3"
  },
  "language_info": {
   "codemirror_mode": {
    "name": "ipython",
    "version": 3
   },
   "file_extension": ".py",
   "mimetype": "text/x-python",
   "name": "python",
   "nbconvert_exporter": "python",
   "pygments_lexer": "ipython3",
   "version": "3.7.9"
  },
  "toc": {
   "base_numbering": 1,
   "nav_menu": {},
   "number_sections": true,
   "sideBar": true,
   "skip_h1_title": false,
   "title_cell": "Table of Contents",
   "title_sidebar": "Contents",
   "toc_cell": false,
   "toc_position": {},
   "toc_section_display": true,
   "toc_window_display": false
  },
  "varInspector": {
   "cols": {
    "lenName": 16,
    "lenType": 16,
    "lenVar": 40
   },
   "kernels_config": {
    "python": {
     "delete_cmd_postfix": "",
     "delete_cmd_prefix": "del ",
     "library": "var_list.py",
     "varRefreshCmd": "print(var_dic_list())"
    },
    "r": {
     "delete_cmd_postfix": ") ",
     "delete_cmd_prefix": "rm(",
     "library": "var_list.r",
     "varRefreshCmd": "cat(var_dic_list()) "
    }
   },
   "types_to_exclude": [
    "module",
    "function",
    "builtin_function_or_method",
    "instance",
    "_Feature"
   ],
   "window_display": false
  }
 },
 "nbformat": 4,
 "nbformat_minor": 5
}
