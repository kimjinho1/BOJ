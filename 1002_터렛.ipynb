{
 "cells": [
  {
   "cell_type": "code",
   "execution_count": 27,
   "metadata": {},
   "outputs": [
    {
     "name": "stdout",
     "output_type": "stream",
     "text": [
      "3\n",
      "0 0 13 40 0 37\n",
      "2\n",
      "0 0 3 0 7 4\n",
      "1\n",
      "1 1 1 1 1 5\n",
      "0\n"
     ]
    }
   ],
   "source": [
    "# 처음에 입력순서를 잘못알아서 오래 걸렸다. \n",
    "# 원의 교점의 개수는 중학교 때 배웠던 것 같은데 오래만에 다시 생각해봤더니 재미있었다.\n",
    "for _ in range(int(input())):\n",
    "    li = list(map(int, input().split()))\n",
    "    p1 = li[:2]\n",
    "    r1 = float(li[2])\n",
    "    p2 = li[3:5]\n",
    "    r2 = float(li[5])\n",
    "    r = ((p2[0]-p1[0])**2 + (p2[1]-p1[1])**2)**0.5\n",
    "    if p1 == p2 and r1 == r2:\n",
    "        print(-1)\n",
    "    elif r1+r2 == r or abs(r1-r2) == r:\n",
    "        print(1)\n",
    "    elif r1+r2 < r or abs(r1-r2) > r:\n",
    "        print(0)\n",
    "    else:\n",
    "        print(2)"
   ]
  },
  {
   "cell_type": "code",
   "execution_count": null,
   "metadata": {},
   "outputs": [],
   "source": []
  }
 ],
 "metadata": {
  "kernelspec": {
   "display_name": "Python 3",
   "language": "python",
   "name": "python3"
  },
  "language_info": {
   "codemirror_mode": {
    "name": "ipython",
    "version": 3
   },
   "file_extension": ".py",
   "mimetype": "text/x-python",
   "name": "python",
   "nbconvert_exporter": "python",
   "pygments_lexer": "ipython3",
   "version": "3.6.8"
  }
 },
 "nbformat": 4,
 "nbformat_minor": 2
}
