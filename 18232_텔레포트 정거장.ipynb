{
 "cells": [
  {
   "cell_type": "code",
   "execution_count": null,
   "metadata": {},
   "outputs": [],
   "source": [
    "from collections import deque\n",
    "import sys\n",
    "\n",
    "def bfs(node):\n",
    "    q = deque()\n",
    "    q.append(node)\n",
    "    check[node] = 0\n",
    "    while q:\n",
    "        node = q.popleft()\n",
    "        d = [node-1, node+1]\n",
    "        if graph[node]:\n",
    "            d += graph[node]\n",
    "        for n in d:\n",
    "            if (1 <= n <= N) and check[n] == -1:\n",
    "                q.append(n)\n",
    "                check[n] = check[node]+1\n",
    "            if n == E:\n",
    "                return check[n]\n",
    "\n",
    "N, M = map(int, sys.stdin.readline().split())\n",
    "S, E = map(int, sys.stdin.readline().split())\n",
    "graph = [[] for _ in range(N+1)]\n",
    "check = [-1]*(N+1)\n",
    "for _ in range(M):\n",
    "    u, v = map(int, sys.stdin.readline().split())\n",
    "    graph[u].append(v)\n",
    "    graph[v].append(u)\n",
    "cnt = bfs(S)\n",
    "print(cnt)"
   ]
  },
  {
   "cell_type": "code",
   "execution_count": 6,
   "metadata": {
    "ExecuteTime": {
     "end_time": "2021-03-14T08:18:10.560750Z",
     "start_time": "2021-03-14T08:18:07.769630Z"
    }
   },
   "outputs": [
    {
     "name": "stdout",
     "output_type": "stream",
     "text": [
      "5 1\n",
      "1 5\n",
      "1 4\n",
      "2\n"
     ]
    }
   ],
   "source": [
    "from collections import deque\n",
    "\n",
    "def bfs(node):\n",
    "    q = deque()\n",
    "    q.append(node)\n",
    "    check[node] = 0\n",
    "    while q:\n",
    "        node = q.popleft()\n",
    "        d = [node-1, node+1]\n",
    "        if graph[node]:\n",
    "            d += graph[node]\n",
    "        for n in d:\n",
    "            if (1 <= n <= N) and check[n] == -1:\n",
    "                q.append(n)\n",
    "                check[n] = check[node]+1\n",
    "            if n == E:\n",
    "                return check[n]\n",
    "\n",
    "N, M = map(int, input().split())\n",
    "S, E = map(int, input().split())\n",
    "graph = [[] for _ in range(N+1)]\n",
    "check = [-1]*(N+1)\n",
    "for _ in range(M):\n",
    "    u, v = map(int, input().split())\n",
    "    graph[u].append(v)\n",
    "    graph[v].append(u)\n",
    "cnt = bfs(S)\n",
    "print(cnt)"
   ]
  },
  {
   "cell_type": "code",
   "execution_count": 3,
   "metadata": {
    "ExecuteTime": {
     "end_time": "2021-03-14T07:41:53.767760Z",
     "start_time": "2021-03-14T07:41:50.677529Z"
    }
   },
   "outputs": [
    {
     "name": "stdout",
     "output_type": "stream",
     "text": [
      "10 3\n",
      "2 5\n",
      "1 6\n",
      "1 3\n",
      "2 8\n",
      "3\n"
     ]
    }
   ],
   "source": [
    "from collections import deque\n",
    "\n",
    "def bfs(node):\n",
    "    q = deque()\n",
    "    q.append(node)\n",
    "    check[node] = 0\n",
    "    while q:\n",
    "        node = q.popleft()\n",
    "        d = [node-1, node+1]\n",
    "        if graph[node]:\n",
    "            d += graph[node]\n",
    "        for n in d:\n",
    "            if (1 <= n <= N) and check[n] == -1:\n",
    "                q.append(n)\n",
    "                check[n] = check[node]+1\n",
    "            if n == E:\n",
    "                return check[n]\n",
    "\n",
    "N, M = map(int, input().split())\n",
    "S, E = map(int, input().split())\n",
    "graph = [[] for _ in range(N+1)]\n",
    "check = [-1]*(N+1)\n",
    "for _ in range(M):\n",
    "    u, v = map(int, input().split())\n",
    "    graph[u].append(v)\n",
    "    graph[v].append(u)\n",
    "cnt = bfs(S)\n",
    "print(cnt)"
   ]
  },
  {
   "cell_type": "code",
   "execution_count": null,
   "metadata": {},
   "outputs": [],
   "source": []
  }
 ],
 "metadata": {
  "kernelspec": {
   "display_name": "Python 3",
   "language": "python",
   "name": "python3"
  },
  "language_info": {
   "codemirror_mode": {
    "name": "ipython",
    "version": 3
   },
   "file_extension": ".py",
   "mimetype": "text/x-python",
   "name": "python",
   "nbconvert_exporter": "python",
   "pygments_lexer": "ipython3",
   "version": "3.8.5"
  },
  "toc": {
   "base_numbering": 1,
   "nav_menu": {},
   "number_sections": true,
   "sideBar": true,
   "skip_h1_title": false,
   "title_cell": "Table of Contents",
   "title_sidebar": "Contents",
   "toc_cell": false,
   "toc_position": {},
   "toc_section_display": true,
   "toc_window_display": false
  },
  "varInspector": {
   "cols": {
    "lenName": 16,
    "lenType": 16,
    "lenVar": 40
   },
   "kernels_config": {
    "python": {
     "delete_cmd_postfix": "",
     "delete_cmd_prefix": "del ",
     "library": "var_list.py",
     "varRefreshCmd": "print(var_dic_list())"
    },
    "r": {
     "delete_cmd_postfix": ") ",
     "delete_cmd_prefix": "rm(",
     "library": "var_list.r",
     "varRefreshCmd": "cat(var_dic_list()) "
    }
   },
   "types_to_exclude": [
    "module",
    "function",
    "builtin_function_or_method",
    "instance",
    "_Feature"
   ],
   "window_display": false
  }
 },
 "nbformat": 4,
 "nbformat_minor": 4
}
