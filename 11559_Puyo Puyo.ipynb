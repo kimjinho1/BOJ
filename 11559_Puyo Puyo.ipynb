{
 "cells": [
  {
   "cell_type": "markdown",
   "metadata": {},
   "source": [
    "# DFS"
   ]
  },
  {
   "cell_type": "code",
   "execution_count": 52,
   "metadata": {
    "ExecuteTime": {
     "end_time": "2021-03-11T02:13:05.345536Z",
     "start_time": "2021-03-11T02:12:42.322018Z"
    }
   },
   "outputs": [
    {
     "name": "stdout",
     "output_type": "stream",
     "text": [
      "......\n",
      "......\n",
      "......\n",
      "......\n",
      "......\n",
      "......\n",
      "......\n",
      "......\n",
      ".Y....\n",
      ".YG...\n",
      "RRYG..\n",
      "RRYGG.\n",
      "3\n"
     ]
    }
   ],
   "source": [
    "import sys\n",
    "from copy import deepcopy\n",
    "sys.setrecursionlimit(300000)\n",
    "\n",
    "def dfs_check(y, x, color, cnt):\n",
    "    b[y][x] = '0'\n",
    "    for dy, dx in d:\n",
    "        Y, X = y+dy, x+dx\n",
    "        if (0 <= Y < 12) and (0 <= X < 6) and b[Y][X] == color:\n",
    "            cnt = dfs_check(Y, X, color, cnt+1)\n",
    "    return cnt\n",
    "\n",
    "\n",
    "def dfs(y, x, color):\n",
    "    a[y][x] = '0'\n",
    "    for dy, dx in d:\n",
    "        Y, X = y+dy, x+dx\n",
    "        if (0 <= Y < 12) and (0 <= X < 6) and a[Y][X] == color:\n",
    "            dfs(Y, X, color)\n",
    "            \n",
    "def update():\n",
    "    for j in range(6):\n",
    "        for i in range(12):\n",
    "            if a[i][j] == '0':\n",
    "                up = a[0][j]\n",
    "                for k in range(i):\n",
    "                    down = a[k+1][j]\n",
    "                    a[k+1][j] = up\n",
    "                    up = down\n",
    "                a[0][j] = '.'\n",
    "            \n",
    "graph = [list(input()) for _ in range(12)]\n",
    "a = deepcopy(graph) \n",
    "d = [(-1, 0), (1, 0), (0, -1), (0, 1)]\n",
    "combo = 0\n",
    "while 1:    \n",
    "    b, ok = deepcopy(a), 0\n",
    "    for i in range(12):\n",
    "        for j in range(6):\n",
    "            if a[i][j] in 'RGBPY':\n",
    "                if dfs_check(i, j, a[i][j], 1) >= 4:\n",
    "                    dfs(i, j, a[i][j])\n",
    "                    ok = 1\n",
    "    update()\n",
    "    if ok == 0:\n",
    "        break\n",
    "    combo += 1\n",
    "print(combo)"
   ]
  },
  {
   "cell_type": "markdown",
   "metadata": {},
   "source": [
    "# BFS"
   ]
  },
  {
   "cell_type": "code",
   "execution_count": 95,
   "metadata": {
    "ExecuteTime": {
     "end_time": "2021-03-11T02:50:53.143960Z",
     "start_time": "2021-03-11T02:50:32.012714Z"
    }
   },
   "outputs": [
    {
     "name": "stdout",
     "output_type": "stream",
     "text": [
      "......\n",
      "......\n",
      "......\n",
      "......\n",
      "......\n",
      "......\n",
      "......\n",
      "......\n",
      ".Y....\n",
      ".YG...\n",
      "RRYG..\n",
      "RRYGG.\n",
      "3\n"
     ]
    }
   ],
   "source": [
    "from collections import deque\n",
    "from copy import deepcopy\n",
    "\n",
    "def bfs_check(y, x, color):\n",
    "    queue = deque()\n",
    "    queue.append((y, x))\n",
    "    b[y][x] = '0'\n",
    "    cnt = 1\n",
    "    while queue:\n",
    "        y, x = queue.popleft()\n",
    "        for dy, dx in d:\n",
    "            Y, X = y+dy, x+dx\n",
    "            if (0 <= Y < 12) and (0 <= X < 6) and b[Y][X] == color:\n",
    "                b[Y][X] = '0'\n",
    "                queue.append((Y, X))                \n",
    "                cnt += 1\n",
    "    return cnt\n",
    "\n",
    "def bfs(y, x, color):\n",
    "    queue = deque()\n",
    "    queue.append((y, x))\n",
    "    a[y][x] = '0'\n",
    "    while queue:\n",
    "        y, x = queue.popleft()\n",
    "        for dy, dx in d:\n",
    "            Y, X = y+dy, x+dx\n",
    "            if (0 <= Y < 12) and (0 <= X < 6) and a[Y][X] == color:\n",
    "                queue.append((Y, X))                \n",
    "                a[Y][X] = '0'\n",
    "            \n",
    "def update():\n",
    "    for j in range(6):\n",
    "        for i in range(12):\n",
    "            if a[i][j] == '0':\n",
    "                up = a[0][j]\n",
    "                for k in range(i):\n",
    "                    down = a[k+1][j]\n",
    "                    a[k+1][j] = up\n",
    "                    up = down\n",
    "                a[0][j] = '.'\n",
    "            \n",
    "graph = [list(input()) for _ in range(12)]\n",
    "a = deepcopy(graph) \n",
    "d = [(-1, 0), (1, 0), (0, -1), (0, 1)]\n",
    "combo = 0\n",
    "while 1:    \n",
    "    b, ok = deepcopy(a), 0\n",
    "    for i in range(12):\n",
    "        for j in range(6):\n",
    "            if a[i][j] in 'RGBPY':\n",
    "                if bfs_check(i, j, a[i][j]) >= 4:\n",
    "                    bfs(i, j, a[i][j])\n",
    "                    ok = 1                \n",
    "    update()\n",
    "    if ok == 0:\n",
    "        break\n",
    "    combo += 1\n",
    "print(combo)"
   ]
  },
  {
   "cell_type": "code",
   "execution_count": null,
   "metadata": {},
   "outputs": [],
   "source": []
  }
 ],
 "metadata": {
  "kernelspec": {
   "display_name": "Python 3",
   "language": "python",
   "name": "python3"
  },
  "language_info": {
   "codemirror_mode": {
    "name": "ipython",
    "version": 3
   },
   "file_extension": ".py",
   "mimetype": "text/x-python",
   "name": "python",
   "nbconvert_exporter": "python",
   "pygments_lexer": "ipython3",
   "version": "3.8.5"
  },
  "toc": {
   "base_numbering": 1,
   "nav_menu": {},
   "number_sections": true,
   "sideBar": true,
   "skip_h1_title": false,
   "title_cell": "Table of Contents",
   "title_sidebar": "Contents",
   "toc_cell": false,
   "toc_position": {},
   "toc_section_display": true,
   "toc_window_display": false
  },
  "varInspector": {
   "cols": {
    "lenName": 16,
    "lenType": 16,
    "lenVar": 40
   },
   "kernels_config": {
    "python": {
     "delete_cmd_postfix": "",
     "delete_cmd_prefix": "del ",
     "library": "var_list.py",
     "varRefreshCmd": "print(var_dic_list())"
    },
    "r": {
     "delete_cmd_postfix": ") ",
     "delete_cmd_prefix": "rm(",
     "library": "var_list.r",
     "varRefreshCmd": "cat(var_dic_list()) "
    }
   },
   "types_to_exclude": [
    "module",
    "function",
    "builtin_function_or_method",
    "instance",
    "_Feature"
   ],
   "window_display": false
  }
 },
 "nbformat": 4,
 "nbformat_minor": 4
}
