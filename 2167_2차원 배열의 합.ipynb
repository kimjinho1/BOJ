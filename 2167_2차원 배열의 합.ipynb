{
 "cells": [
  {
   "cell_type": "code",
   "execution_count": 20,
   "id": "destroyed-merchant",
   "metadata": {
    "ExecuteTime": {
     "end_time": "2021-02-20T17:26:08.389632Z",
     "start_time": "2021-02-20T17:25:58.048252Z"
    }
   },
   "outputs": [
    {
     "name": "stdout",
     "output_type": "stream",
     "text": [
      "2 3\n",
      "1 2 4\n",
      "8 16 32\n",
      "3\n",
      "1 1 2 3\n",
      "63\n",
      "1 2 1 2\n",
      "2\n",
      "1 3 2 3\n",
      "36\n"
     ]
    }
   ],
   "source": [
    "N, M = map(int, input().split())\n",
    "li = [list(map(int, input().split())) for _ in range(N)]\n",
    "for _ in range(int(input())):\n",
    "    i, j, x, y = map(int, input().split())\n",
    "    n, m = i, j\n",
    "    res = 0\n",
    "    while 1:\n",
    "        if m > y:\n",
    "            n += 1\n",
    "            m = j\n",
    "        res += li[n-1][m-1]\n",
    "        if n == x and m == y:\n",
    "            break\n",
    "        m += 1\n",
    "    print(res)"
   ]
  },
  {
   "cell_type": "code",
   "execution_count": null,
   "id": "straight-conservative",
   "metadata": {},
   "outputs": [],
   "source": []
  }
 ],
 "metadata": {
  "kernelspec": {
   "display_name": "Python 3",
   "language": "python",
   "name": "python3"
  },
  "language_info": {
   "codemirror_mode": {
    "name": "ipython",
    "version": 3
   },
   "file_extension": ".py",
   "mimetype": "text/x-python",
   "name": "python",
   "nbconvert_exporter": "python",
   "pygments_lexer": "ipython3",
   "version": "3.7.9"
  },
  "toc": {
   "base_numbering": 1,
   "nav_menu": {},
   "number_sections": true,
   "sideBar": true,
   "skip_h1_title": false,
   "title_cell": "Table of Contents",
   "title_sidebar": "Contents",
   "toc_cell": false,
   "toc_position": {},
   "toc_section_display": true,
   "toc_window_display": false
  },
  "varInspector": {
   "cols": {
    "lenName": 16,
    "lenType": 16,
    "lenVar": 40
   },
   "kernels_config": {
    "python": {
     "delete_cmd_postfix": "",
     "delete_cmd_prefix": "del ",
     "library": "var_list.py",
     "varRefreshCmd": "print(var_dic_list())"
    },
    "r": {
     "delete_cmd_postfix": ") ",
     "delete_cmd_prefix": "rm(",
     "library": "var_list.r",
     "varRefreshCmd": "cat(var_dic_list()) "
    }
   },
   "types_to_exclude": [
    "module",
    "function",
    "builtin_function_or_method",
    "instance",
    "_Feature"
   ],
   "window_display": false
  }
 },
 "nbformat": 4,
 "nbformat_minor": 5
}
