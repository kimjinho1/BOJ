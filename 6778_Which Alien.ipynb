{
 "cells": [
  {
   "cell_type": "code",
   "execution_count": 2,
   "metadata": {
    "ExecuteTime": {
     "end_time": "2021-02-04T11:19:07.799811Z",
     "start_time": "2021-02-04T11:19:07.054802Z"
    }
   },
   "outputs": [
    {
     "name": "stdout",
     "output_type": "stream",
     "text": [
      "4\n",
      "5\n",
      "VladSaturnian\n"
     ]
    }
   ],
   "source": [
    "antenna, eyes = int(input()), int(input())\n",
    "if antenna >= 3 and eyes <= 4:\n",
    "    print(\"TroyMartian\")\n",
    "if antenna <= 6 and eyes >= 2:\n",
    "    print(\"VladSaturnian\")\n",
    "if antenna <= 2 and eyes <= 3:\n",
    "    print(\"GraemeMercurian\")"
   ]
  },
  {
   "cell_type": "code",
   "execution_count": 3,
   "metadata": {
    "ExecuteTime": {
     "end_time": "2021-02-04T11:19:13.137568Z",
     "start_time": "2021-02-04T11:19:12.582074Z"
    }
   },
   "outputs": [
    {
     "name": "stdout",
     "output_type": "stream",
     "text": [
      "2\n",
      "3\n",
      "VladSaturnian\n",
      "GraemeMercurian\n"
     ]
    }
   ],
   "source": [
    "antenna, eyes = int(input()), int(input())\n",
    "if antenna >= 3 and eyes <= 4:\n",
    "    print(\"TroyMartian\")\n",
    "if antenna <= 6 and eyes >= 2:\n",
    "    print(\"VladSaturnian\")\n",
    "if antenna <= 2 and eyes <= 3:\n",
    "    print(\"GraemeMercurian\")"
   ]
  },
  {
   "cell_type": "code",
   "execution_count": 5,
   "metadata": {
    "ExecuteTime": {
     "end_time": "2021-02-04T11:19:17.409102Z",
     "start_time": "2021-02-04T11:19:16.766821Z"
    }
   },
   "outputs": [
    {
     "name": "stdout",
     "output_type": "stream",
     "text": [
      "8\n",
      "6\n"
     ]
    }
   ],
   "source": [
    "antenna, eyes = int(input()), int(input())\n",
    "if antenna >= 3 and eyes <= 4:\n",
    "    print(\"TroyMartian\")\n",
    "if antenna <= 6 and eyes >= 2:\n",
    "    print(\"VladSaturnian\")\n",
    "if antenna <= 2 and eyes <= 3:\n",
    "    print(\"GraemeMercurian\")"
   ]
  },
  {
   "cell_type": "code",
   "execution_count": null,
   "metadata": {},
   "outputs": [],
   "source": []
  }
 ],
 "metadata": {
  "kernelspec": {
   "display_name": "Python 3",
   "language": "python",
   "name": "python3"
  },
  "language_info": {
   "codemirror_mode": {
    "name": "ipython",
    "version": 3
   },
   "file_extension": ".py",
   "mimetype": "text/x-python",
   "name": "python",
   "nbconvert_exporter": "python",
   "pygments_lexer": "ipython3",
   "version": "3.6.10"
  },
  "toc": {
   "base_numbering": 1,
   "nav_menu": {},
   "number_sections": true,
   "sideBar": true,
   "skip_h1_title": false,
   "title_cell": "Table of Contents",
   "title_sidebar": "Contents",
   "toc_cell": false,
   "toc_position": {},
   "toc_section_display": true,
   "toc_window_display": false
  },
  "varInspector": {
   "cols": {
    "lenName": 16,
    "lenType": 16,
    "lenVar": 40
   },
   "kernels_config": {
    "python": {
     "delete_cmd_postfix": "",
     "delete_cmd_prefix": "del ",
     "library": "var_list.py",
     "varRefreshCmd": "print(var_dic_list())"
    },
    "r": {
     "delete_cmd_postfix": ") ",
     "delete_cmd_prefix": "rm(",
     "library": "var_list.r",
     "varRefreshCmd": "cat(var_dic_list()) "
    }
   },
   "types_to_exclude": [
    "module",
    "function",
    "builtin_function_or_method",
    "instance",
    "_Feature"
   ],
   "window_display": false
  }
 },
 "nbformat": 4,
 "nbformat_minor": 4
}
