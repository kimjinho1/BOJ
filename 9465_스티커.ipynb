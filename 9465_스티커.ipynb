{
 "cells": [
  {
   "cell_type": "code",
   "execution_count": 26,
   "metadata": {},
   "outputs": [
    {
     "name": "stdin",
     "output_type": "stream",
     "text": [
      " 2\n",
      " 5\n",
      " 50 10 100 20 40\n",
      " 30 50 70 10 60\n"
     ]
    },
    {
     "name": "stdout",
     "output_type": "stream",
     "text": [
      "260\n"
     ]
    },
    {
     "name": "stdin",
     "output_type": "stream",
     "text": [
      " 7\n",
      " 10 30 10 50 100 20 40\n",
      " 20 40 30 50 60 20 80\n"
     ]
    },
    {
     "name": "stdout",
     "output_type": "stream",
     "text": [
      "290\n"
     ]
    }
   ],
   "source": [
    "for _ in range(int(input())):\n",
    "    li = []\n",
    "    n = int(input())\n",
    "    for _ in range(2):\n",
    "        li.append(list(map(int, input().split())))\n",
    "    li[0][1] += li[1][0]\n",
    "    li[1][1] += li[0][0]\n",
    "    \n",
    "    for j in range(2, n):\n",
    "        li[0][j] += max(li[1][j - 1], li[1][j - 2])\n",
    "        li[1][j] += max(li[0][j - 1], li[0][j - 2])\n",
    "    ans = max(li[0][n - 1], li[1][n - 1])\n",
    "    print(ans)"
   ]
  }
 ],
 "metadata": {
  "kernelspec": {
   "display_name": "Python 3",
   "language": "python",
   "name": "python3"
  },
  "language_info": {
   "codemirror_mode": {
    "name": "ipython",
    "version": 3
   },
   "file_extension": ".py",
   "mimetype": "text/x-python",
   "name": "python",
   "nbconvert_exporter": "python",
   "pygments_lexer": "ipython3",
   "version": "3.7.3"
  }
 },
 "nbformat": 4,
 "nbformat_minor": 4
}
