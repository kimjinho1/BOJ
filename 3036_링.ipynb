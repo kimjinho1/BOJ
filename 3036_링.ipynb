{
 "cells": [
  {
   "cell_type": "code",
   "execution_count": 20,
   "metadata": {},
   "outputs": [
    {
     "name": "stdout",
     "output_type": "stream",
     "text": [
      "4\n",
      "12 3 8 4\n",
      "4/1\n",
      "3/2\n",
      "3/1\n"
     ]
    }
   ],
   "source": [
    "def gcd(a, b):\n",
    "    while(b != 0):\n",
    "        n = a%b\n",
    "        a = b\n",
    "        b = n\n",
    "    return a\n",
    "\n",
    "n = int(input())\n",
    "li = list(map(int, input().split()))\n",
    "for i in range(1, n):\n",
    "    g = gcd(li[0], li[i])\n",
    "    print('{0}/{1}'.format(li[0]//g, li[i]//g))"
   ]
  },
  {
   "cell_type": "code",
   "execution_count": null,
   "metadata": {},
   "outputs": [],
   "source": []
  }
 ],
 "metadata": {
  "kernelspec": {
   "display_name": "Python 3",
   "language": "python",
   "name": "python3"
  },
  "language_info": {
   "codemirror_mode": {
    "name": "ipython",
    "version": 3
   },
   "file_extension": ".py",
   "mimetype": "text/x-python",
   "name": "python",
   "nbconvert_exporter": "python",
   "pygments_lexer": "ipython3",
   "version": "3.6.8"
  }
 },
 "nbformat": 4,
 "nbformat_minor": 2
}
