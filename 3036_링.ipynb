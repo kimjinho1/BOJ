{
 "cells": [
  {
   "cell_type": "code",
   "execution_count": 1,
   "metadata": {},
   "outputs": [
    {
     "name": "stdout",
     "output_type": "stream",
     "text": [
      "4\n",
      "12 3 8 4\n",
      "4/1\n",
      "3/2\n",
      "3/1\n"
     ]
    }
   ],
   "source": [
    "def gcd(a, b):\n",
    "    g = 0\n",
    "    for i in range(1, min(a,b)+1):\n",
    "        if a%i == 0 and b%i == 0:\n",
    "            g = max(g, i)\n",
    "    return g\n",
    "n = int(input())\n",
    "li = input().split()\n",
    "for i in range(1, n):\n",
    "    g = gcd(int(li[0]), int(li[i]))\n",
    "    print('{0}/{1}'.format(int(li[0])//g, int(li[i])//g))"
   ]
  },
  {
   "cell_type": "code",
   "execution_count": null,
   "metadata": {},
   "outputs": [],
   "source": []
  }
 ],
 "metadata": {
  "kernelspec": {
   "display_name": "Python 3",
   "language": "python",
   "name": "python3"
  },
  "language_info": {
   "codemirror_mode": {
    "name": "ipython",
    "version": 3
   },
   "file_extension": ".py",
   "mimetype": "text/x-python",
   "name": "python",
   "nbconvert_exporter": "python",
   "pygments_lexer": "ipython3",
   "version": "3.6.8"
  }
 },
 "nbformat": 4,
 "nbformat_minor": 2
}
