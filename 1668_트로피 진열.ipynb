{
 "cells": [
  {
   "cell_type": "code",
   "execution_count": 1,
   "id": "international-interest",
   "metadata": {
    "ExecuteTime": {
     "end_time": "2021-02-17T08:14:13.264322Z",
     "start_time": "2021-02-17T08:14:11.417914Z"
    }
   },
   "outputs": [
    {
     "name": "stdout",
     "output_type": "stream",
     "text": [
      "5\n",
      "1\n",
      "2\n",
      "3\n",
      "4\n",
      "5\n",
      "5\n",
      "1\n"
     ]
    }
   ],
   "source": [
    "N = int(input())\n",
    "li = [int(input()) for _ in range(N)]\n",
    "left_cnt = right_cnt = 0\n",
    "left_max = right_max = 0\n",
    "for n in li:\n",
    "    if n > left_max:\n",
    "        left_max = n\n",
    "        left_cnt += 1\n",
    "for n in li[::-1]:\n",
    "    if n > right_max:\n",
    "        right_max = n\n",
    "        right_cnt += 1\n",
    "print(left_cnt)\n",
    "print(right_cnt)"
   ]
  },
  {
   "cell_type": "code",
   "execution_count": null,
   "id": "saving-authentication",
   "metadata": {},
   "outputs": [],
   "source": []
  }
 ],
 "metadata": {
  "kernelspec": {
   "display_name": "Python 3",
   "language": "python",
   "name": "python3"
  },
  "language_info": {
   "codemirror_mode": {
    "name": "ipython",
    "version": 3
   },
   "file_extension": ".py",
   "mimetype": "text/x-python",
   "name": "python",
   "nbconvert_exporter": "python",
   "pygments_lexer": "ipython3",
   "version": "3.7.9"
  },
  "toc": {
   "base_numbering": 1,
   "nav_menu": {},
   "number_sections": true,
   "sideBar": true,
   "skip_h1_title": false,
   "title_cell": "Table of Contents",
   "title_sidebar": "Contents",
   "toc_cell": false,
   "toc_position": {},
   "toc_section_display": true,
   "toc_window_display": false
  },
  "varInspector": {
   "cols": {
    "lenName": 16,
    "lenType": 16,
    "lenVar": 40
   },
   "kernels_config": {
    "python": {
     "delete_cmd_postfix": "",
     "delete_cmd_prefix": "del ",
     "library": "var_list.py",
     "varRefreshCmd": "print(var_dic_list())"
    },
    "r": {
     "delete_cmd_postfix": ") ",
     "delete_cmd_prefix": "rm(",
     "library": "var_list.r",
     "varRefreshCmd": "cat(var_dic_list()) "
    }
   },
   "types_to_exclude": [
    "module",
    "function",
    "builtin_function_or_method",
    "instance",
    "_Feature"
   ],
   "window_display": false
  }
 },
 "nbformat": 4,
 "nbformat_minor": 5
}
