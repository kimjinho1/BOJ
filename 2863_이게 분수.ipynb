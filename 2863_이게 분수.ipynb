{
 "cells": [
  {
   "cell_type": "code",
   "execution_count": 2,
   "metadata": {},
   "outputs": [
    {
     "name": "stdout",
     "output_type": "stream",
     "text": [
      "1 2\n",
      "3 4\n",
      "0\n"
     ]
    }
   ],
   "source": [
    "li = []\n",
    "li += map(int, input().split())\n",
    "li += list(map(int, input().split()))[::-1]\n",
    "\n",
    "a = []\n",
    "for i in range(4):\n",
    "    s = li[0] / li[3] + li[1] / li[2]\n",
    "    a.append(s)\n",
    "    li = [li[-1]] + li[:-1]\n",
    "print(a.index(max(a)))"
   ]
  },
  {
   "cell_type": "code",
   "execution_count": null,
   "metadata": {},
   "outputs": [],
   "source": []
  }
 ],
 "metadata": {
  "kernelspec": {
   "display_name": "Python 3",
   "language": "python",
   "name": "python3"
  },
  "language_info": {
   "codemirror_mode": {
    "name": "ipython",
    "version": 3
   },
   "file_extension": ".py",
   "mimetype": "text/x-python",
   "name": "python",
   "nbconvert_exporter": "python",
   "pygments_lexer": "ipython3",
   "version": "3.6.10"
  }
 },
 "nbformat": 4,
 "nbformat_minor": 2
}
