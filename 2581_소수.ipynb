{
 "cells": [
  {
   "cell_type": "code",
   "execution_count": 5,
   "metadata": {},
   "outputs": [
    {
     "name": "stdout",
     "output_type": "stream",
     "text": [
      "60\n",
      "100\n",
      "620\n",
      "61\n"
     ]
    }
   ],
   "source": [
    "# 에라토스테네스의 체를 사용하면 막무가내로 하는 것보다 훨씬 빠르다. \n",
    "n1 = int(input())\n",
    "n2 = int(input())\n",
    "li = [1]*(n2+1)\n",
    "for i in range(2, n2//2 + 1):\n",
    "    if li[i] == 1:\n",
    "        for j in range(i+i, n2+1, i):\n",
    "            li[j] = 0\n",
    "prime = []\n",
    "for i in range(2, len(li)):\n",
    "    if li[i] == 1:\n",
    "        prime.append(i)\n",
    "ans = []\n",
    "for i in range(n1, n2+1):\n",
    "    if i in prime:\n",
    "        ans.append(i)\n",
    "if len(ans) == 0:\n",
    "    print(-1)\n",
    "else:\n",
    "    print(sum(ans))\n",
    "    print(ans[0])"
   ]
  },
  {
   "cell_type": "code",
   "execution_count": null,
   "metadata": {},
   "outputs": [],
   "source": []
  }
 ],
 "metadata": {
  "kernelspec": {
   "display_name": "Python 3",
   "language": "python",
   "name": "python3"
  },
  "language_info": {
   "codemirror_mode": {
    "name": "ipython",
    "version": 3
   },
   "file_extension": ".py",
   "mimetype": "text/x-python",
   "name": "python",
   "nbconvert_exporter": "python",
   "pygments_lexer": "ipython3",
   "version": "3.6.8"
  }
 },
 "nbformat": 4,
 "nbformat_minor": 2
}
