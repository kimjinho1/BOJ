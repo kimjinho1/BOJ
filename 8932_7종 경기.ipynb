{
 "cells": [
  {
   "cell_type": "code",
   "execution_count": 4,
   "id": "duplicate-blowing",
   "metadata": {
    "ExecuteTime": {
     "end_time": "2021-02-19T00:40:00.285910Z",
     "start_time": "2021-02-19T00:39:51.960972Z"
    }
   },
   "outputs": [
    {
     "name": "stdout",
     "output_type": "stream",
     "text": [
      "3\n",
      "19 90 11 29 264 20 131\n",
      "2901\n",
      "12 95 21 37 224 35 221\n",
      "3419\n",
      "17 168 15 23 275 22 241\n",
      "3772\n"
     ]
    }
   ],
   "source": [
    "def track(A, B, C, P):\n",
    "    return int(A * (B-P)**C)\n",
    "\n",
    "def field(A, B, C, P):\n",
    "    return int(A * (P-B)**C)\n",
    "\n",
    "for _ in range(int(input())):\n",
    "    li = list(map(int, input().split()))\n",
    "    res = track(9.23076, 26.7, 1.835, li[0]) + field(1.84523, 75, 1.348, li[1]) + \\\n",
    "        field(56.0211, 1.5, 1.05, li[2]) + track(4.99087, 42.5, 1.81, li[3]) + \\\n",
    "        field(0.188807, 210, 1.41, li[4]) + field(15.9803, 3.8, 1.04, li[5]) + \\\n",
    "        track(0.11193, 254, 1.88, li[6])\n",
    "    print(res)"
   ]
  },
  {
   "cell_type": "code",
   "execution_count": null,
   "id": "victorian-abuse",
   "metadata": {},
   "outputs": [],
   "source": []
  }
 ],
 "metadata": {
  "kernelspec": {
   "display_name": "Python 3",
   "language": "python",
   "name": "python3"
  },
  "language_info": {
   "codemirror_mode": {
    "name": "ipython",
    "version": 3
   },
   "file_extension": ".py",
   "mimetype": "text/x-python",
   "name": "python",
   "nbconvert_exporter": "python",
   "pygments_lexer": "ipython3",
   "version": "3.7.9"
  },
  "toc": {
   "base_numbering": 1,
   "nav_menu": {},
   "number_sections": true,
   "sideBar": true,
   "skip_h1_title": false,
   "title_cell": "Table of Contents",
   "title_sidebar": "Contents",
   "toc_cell": false,
   "toc_position": {},
   "toc_section_display": true,
   "toc_window_display": false
  },
  "varInspector": {
   "cols": {
    "lenName": 16,
    "lenType": 16,
    "lenVar": 40
   },
   "kernels_config": {
    "python": {
     "delete_cmd_postfix": "",
     "delete_cmd_prefix": "del ",
     "library": "var_list.py",
     "varRefreshCmd": "print(var_dic_list())"
    },
    "r": {
     "delete_cmd_postfix": ") ",
     "delete_cmd_prefix": "rm(",
     "library": "var_list.r",
     "varRefreshCmd": "cat(var_dic_list()) "
    }
   },
   "types_to_exclude": [
    "module",
    "function",
    "builtin_function_or_method",
    "instance",
    "_Feature"
   ],
   "window_display": false
  }
 },
 "nbformat": 4,
 "nbformat_minor": 5
}
