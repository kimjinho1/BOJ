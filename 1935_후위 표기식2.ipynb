{
 "cells": [
  {
   "cell_type": "code",
   "execution_count": 3,
   "metadata": {
    "ExecuteTime": {
     "end_time": "2021-03-05T05:15:24.806906Z",
     "start_time": "2021-03-05T05:15:16.443830Z"
    }
   },
   "outputs": [
    {
     "name": "stdout",
     "output_type": "stream",
     "text": [
      "5\n",
      "ABC*+DE/-\n",
      "1\n",
      "2\n",
      "3\n",
      "4\n",
      "5\n",
      "6.20\n"
     ]
    }
   ],
   "source": [
    "N = int(input())\n",
    "li = list(input())\n",
    "nums = [int(input()) for _ in range(N)]\n",
    "output = []\n",
    "for t in li:\n",
    "    if t in \"+-*/\":\n",
    "        a = output.pop()\n",
    "        b = output.pop()\n",
    "        if t == '+':\n",
    "            output.append(b+a)\n",
    "        elif t == '-':\n",
    "            output.append(b-a)\n",
    "        elif t == '*':\n",
    "            output.append(b*a)\n",
    "        elif t == '/':\n",
    "            output.append(b/a)\n",
    "    else:\n",
    "        output.append(nums[ord(t)-ord('A')])\n",
    "print(\"%.2f\" % (output[0]))"
   ]
  },
  {
   "cell_type": "code",
   "execution_count": 4,
   "metadata": {
    "ExecuteTime": {
     "end_time": "2021-03-05T05:15:33.472985Z",
     "start_time": "2021-03-05T05:15:30.908060Z"
    }
   },
   "outputs": [
    {
     "name": "stdout",
     "output_type": "stream",
     "text": [
      "1\n",
      "AA+A+\n",
      "1\n",
      "3.00\n"
     ]
    }
   ],
   "source": [
    "N = int(input())\n",
    "li = list(input())\n",
    "nums = [int(input()) for _ in range(N)]\n",
    "output = []\n",
    "for t in li:\n",
    "    if t in \"+-*/\":\n",
    "        a = output.pop()\n",
    "        b = output.pop()\n",
    "        if t == '+':\n",
    "            output.append(b+a)\n",
    "        elif t == '-':\n",
    "            output.append(b-a)\n",
    "        elif t == '*':\n",
    "            output.append(b*a)\n",
    "        elif t == '/':\n",
    "            output.append(b/a)\n",
    "    else:\n",
    "        output.append(nums[ord(t)-ord('A')])\n",
    "print(\"%.2f\" % (output[0]))"
   ]
  },
  {
   "cell_type": "code",
   "execution_count": null,
   "metadata": {},
   "outputs": [],
   "source": []
  }
 ],
 "metadata": {
  "kernelspec": {
   "display_name": "Python 3",
   "language": "python",
   "name": "python3"
  },
  "language_info": {
   "codemirror_mode": {
    "name": "ipython",
    "version": 3
   },
   "file_extension": ".py",
   "mimetype": "text/x-python",
   "name": "python",
   "nbconvert_exporter": "python",
   "pygments_lexer": "ipython3",
   "version": "3.8.5"
  },
  "toc": {
   "base_numbering": 1,
   "nav_menu": {},
   "number_sections": true,
   "sideBar": true,
   "skip_h1_title": false,
   "title_cell": "Table of Contents",
   "title_sidebar": "Contents",
   "toc_cell": false,
   "toc_position": {},
   "toc_section_display": true,
   "toc_window_display": false
  },
  "varInspector": {
   "cols": {
    "lenName": 16,
    "lenType": 16,
    "lenVar": 40
   },
   "kernels_config": {
    "python": {
     "delete_cmd_postfix": "",
     "delete_cmd_prefix": "del ",
     "library": "var_list.py",
     "varRefreshCmd": "print(var_dic_list())"
    },
    "r": {
     "delete_cmd_postfix": ") ",
     "delete_cmd_prefix": "rm(",
     "library": "var_list.r",
     "varRefreshCmd": "cat(var_dic_list()) "
    }
   },
   "types_to_exclude": [
    "module",
    "function",
    "builtin_function_or_method",
    "instance",
    "_Feature"
   ],
   "window_display": false
  }
 },
 "nbformat": 4,
 "nbformat_minor": 4
}
