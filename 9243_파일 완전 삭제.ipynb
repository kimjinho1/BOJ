{
 "cells": [
  {
   "cell_type": "code",
   "execution_count": 22,
   "metadata": {
    "ExecuteTime": {
     "end_time": "2021-02-28T12:09:56.937771Z",
     "start_time": "2021-02-28T12:09:49.676210Z"
    }
   },
   "outputs": [
    {
     "name": "stdout",
     "output_type": "stream",
     "text": [
      "1\n",
      "10001110101000001111010100001110\n",
      "01110001010111110000101011110001\n",
      "Deletion succeeded\n"
     ]
    }
   ],
   "source": [
    "N = int(input())\n",
    "a, b = list(input()), list(input())\n",
    "for _ in range(N):\n",
    "    for i in range(len(a)):\n",
    "        if a[i] == '0':\n",
    "            a[i] = '1'\n",
    "        else:\n",
    "            a[i] = '0'\n",
    "print(\"Deletion succeeded\" if a == b else \"Deletion failed\")"
   ]
  },
  {
   "cell_type": "code",
   "execution_count": 23,
   "metadata": {
    "ExecuteTime": {
     "end_time": "2021-02-28T12:10:05.359444Z",
     "start_time": "2021-02-28T12:09:59.779139Z"
    }
   },
   "outputs": [
    {
     "name": "stdout",
     "output_type": "stream",
     "text": [
      "20\n",
      "0001100011001010\n",
      "0001000011000100\n",
      "Deletion failed\n"
     ]
    }
   ],
   "source": [
    "N = int(input())\n",
    "a, b = list(input()), list(input())\n",
    "for _ in range(N):\n",
    "    for i in range(len(a)):\n",
    "        if a[i] == '0':\n",
    "            a[i] = '1'\n",
    "        else:\n",
    "            a[i] = '0'\n",
    "print(\"Deletion succeeded\" if a == b else \"Deletion failed\")"
   ]
  },
  {
   "cell_type": "code",
   "execution_count": null,
   "metadata": {},
   "outputs": [],
   "source": []
  }
 ],
 "metadata": {
  "kernelspec": {
   "display_name": "Python 3",
   "language": "python",
   "name": "python3"
  },
  "language_info": {
   "codemirror_mode": {
    "name": "ipython",
    "version": 3
   },
   "file_extension": ".py",
   "mimetype": "text/x-python",
   "name": "python",
   "nbconvert_exporter": "python",
   "pygments_lexer": "ipython3",
   "version": "3.8.5"
  },
  "toc": {
   "base_numbering": 1,
   "nav_menu": {},
   "number_sections": true,
   "sideBar": true,
   "skip_h1_title": false,
   "title_cell": "Table of Contents",
   "title_sidebar": "Contents",
   "toc_cell": false,
   "toc_position": {},
   "toc_section_display": true,
   "toc_window_display": false
  },
  "varInspector": {
   "cols": {
    "lenName": 16,
    "lenType": 16,
    "lenVar": 40
   },
   "kernels_config": {
    "python": {
     "delete_cmd_postfix": "",
     "delete_cmd_prefix": "del ",
     "library": "var_list.py",
     "varRefreshCmd": "print(var_dic_list())"
    },
    "r": {
     "delete_cmd_postfix": ") ",
     "delete_cmd_prefix": "rm(",
     "library": "var_list.r",
     "varRefreshCmd": "cat(var_dic_list()) "
    }
   },
   "types_to_exclude": [
    "module",
    "function",
    "builtin_function_or_method",
    "instance",
    "_Feature"
   ],
   "window_display": false
  }
 },
 "nbformat": 4,
 "nbformat_minor": 4
}
