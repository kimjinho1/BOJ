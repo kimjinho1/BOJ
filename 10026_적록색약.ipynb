{
 "cells": [
  {
   "cell_type": "code",
   "execution_count": 20,
   "metadata": {
    "ExecuteTime": {
     "end_time": "2021-03-10T11:52:13.905726Z",
     "start_time": "2021-03-10T11:52:07.098315Z"
    }
   },
   "outputs": [
    {
     "name": "stdout",
     "output_type": "stream",
     "text": [
      "5\n",
      "RRRBB\n",
      "GGBBB\n",
      "BBBRR\n",
      "BBRRR\n",
      "RRRRR\n",
      "4 3 "
     ]
    }
   ],
   "source": [
    "import sys\n",
    "from copy import deepcopy\n",
    "sys.setrecursionlimit(10000)\n",
    "\n",
    "def dfs(y, x, color):\n",
    "    t[y][x] = '0'\n",
    "    for dy, dx in d:\n",
    "        Y, X = y+dy, x+dx\n",
    "        if (0 <= Y < N) and (0 <= X < N) and t[Y][X] in color:\n",
    "            dfs(Y, X, color)\n",
    "\n",
    "N = int(input())\n",
    "graph = [list(input()) for _ in range(N)]\n",
    "d = [(-1, 0), (1, 0), (0, -1), (0, 1)]\n",
    "for colors in [['R', 'G', 'B'], [\"RG\", 'B']]:\n",
    "    t, cnt = deepcopy(graph), 0\n",
    "    for i in range(N):\n",
    "        for j in range(N):\n",
    "            for color in colors:\n",
    "                if t[i][j] in color:\n",
    "                    dfs(i, j, color)\n",
    "                    cnt += 1\n",
    "    print(cnt, end=' ')"
   ]
  },
  {
   "cell_type": "code",
   "execution_count": 23,
   "metadata": {
    "ExecuteTime": {
     "end_time": "2021-03-10T11:54:19.047414Z",
     "start_time": "2021-03-10T11:54:12.226540Z"
    }
   },
   "outputs": [
    {
     "name": "stdout",
     "output_type": "stream",
     "text": [
      "5\n",
      "RRRBB\n",
      "GGBBB\n",
      "BBBRR\n",
      "BBRRR\n",
      "RRRRR\n",
      "4 3 "
     ]
    }
   ],
   "source": [
    "from collections import deque\n",
    "from copy import deepcopy\n",
    "\n",
    "def bfs(y, x, color):\n",
    "    queue = deque()\n",
    "    queue.append((y, x))\n",
    "    while queue:\n",
    "        y, x = queue.popleft()\n",
    "        for dy, dx in d:\n",
    "            Y, X = y+dy, x+dx\n",
    "            if (0 <= Y < N) and (0 <= X < N) and t[Y][X] in color:\n",
    "                t[Y][X] = '0'\n",
    "                queue.append((Y, X))\n",
    "\n",
    "N = int(input())\n",
    "graph = [list(input()) for _ in range(N)]\n",
    "d = [(-1, 0), (1, 0), (0, -1), (0, 1)]\n",
    "for colors in [['R', 'G', 'B'], [\"RG\", 'B']]:\n",
    "    t, cnt = deepcopy(graph), 0\n",
    "    for i in range(N):\n",
    "        for j in range(N):\n",
    "            for color in colors:\n",
    "                if t[i][j] in color:\n",
    "                    bfs(i, j, color)\n",
    "                    cnt += 1\n",
    "    print(cnt, end=' ')"
   ]
  },
  {
   "cell_type": "code",
   "execution_count": null,
   "metadata": {},
   "outputs": [],
   "source": []
  }
 ],
 "metadata": {
  "kernelspec": {
   "display_name": "Python 3",
   "language": "python",
   "name": "python3"
  },
  "language_info": {
   "codemirror_mode": {
    "name": "ipython",
    "version": 3
   },
   "file_extension": ".py",
   "mimetype": "text/x-python",
   "name": "python",
   "nbconvert_exporter": "python",
   "pygments_lexer": "ipython3",
   "version": "3.8.5"
  },
  "toc": {
   "base_numbering": 1,
   "nav_menu": {},
   "number_sections": true,
   "sideBar": true,
   "skip_h1_title": false,
   "title_cell": "Table of Contents",
   "title_sidebar": "Contents",
   "toc_cell": false,
   "toc_position": {},
   "toc_section_display": true,
   "toc_window_display": false
  },
  "varInspector": {
   "cols": {
    "lenName": 16,
    "lenType": 16,
    "lenVar": 40
   },
   "kernels_config": {
    "python": {
     "delete_cmd_postfix": "",
     "delete_cmd_prefix": "del ",
     "library": "var_list.py",
     "varRefreshCmd": "print(var_dic_list())"
    },
    "r": {
     "delete_cmd_postfix": ") ",
     "delete_cmd_prefix": "rm(",
     "library": "var_list.r",
     "varRefreshCmd": "cat(var_dic_list()) "
    }
   },
   "types_to_exclude": [
    "module",
    "function",
    "builtin_function_or_method",
    "instance",
    "_Feature"
   ],
   "window_display": false
  }
 },
 "nbformat": 4,
 "nbformat_minor": 4
}
