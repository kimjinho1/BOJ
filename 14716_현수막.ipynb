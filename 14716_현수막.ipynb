{
 "cells": [
  {
   "cell_type": "code",
   "execution_count": 4,
   "metadata": {
    "ExecuteTime": {
     "end_time": "2021-03-13T15:48:54.409443Z",
     "start_time": "2021-03-13T15:48:38.129564Z"
    }
   },
   "outputs": [
    {
     "name": "stdout",
     "output_type": "stream",
     "text": [
      "8 19\n",
      "0 0 0 0 0 0 0 0 0 0 0 0 0 0 0 0 0 0 0\n",
      "0 0 0 1 0 0 0 1 0 0 0 1 0 1 1 1 1 1 0\n",
      "0 0 1 0 1 0 0 1 1 0 0 1 0 0 0 1 0 0 0\n",
      "0 1 0 0 0 1 0 1 0 1 0 1 0 0 0 1 0 0 0\n",
      "0 1 1 1 1 1 0 1 0 1 0 1 0 0 0 1 0 0 0\n",
      "0 1 0 0 0 1 0 1 0 0 1 1 0 0 0 1 0 0 0\n",
      "0 1 0 0 0 1 0 1 0 0 0 1 0 0 0 1 0 0 0\n",
      "0 0 0 0 0 0 0 0 0 0 0 0 0 0 0 0 0 0 0\n",
      "3\n"
     ]
    }
   ],
   "source": [
    "from collections import deque\n",
    "\n",
    "def bfs(y, x):\n",
    "    q = deque()\n",
    "    q.append((y, x))\n",
    "    graph[y][x] = 0\n",
    "    while q:\n",
    "        y, x = q.popleft()\n",
    "        for dy, dx in d:\n",
    "            Y, X = y+dy, x+dx\n",
    "            if (0 <= Y < M) and (0 <= X < N) and graph[Y][X] == 1:\n",
    "                q.append((Y, X))\n",
    "                graph[Y][X] = 0\n",
    "\n",
    "M, N = map(int, input().split())\n",
    "graph = [list(map(int, input().split())) for _ in range(M)]\n",
    "d = [(-1, -1), (-1, 1), (1, -1), (1, 1), (-1, 0), (1, 0), (0, -1), (0, 1)]\n",
    "cnt = 0\n",
    "for i in range(M):\n",
    "    for j in range(N):\n",
    "        if graph[i][j] == 1:\n",
    "            bfs(i, j)\n",
    "            cnt += 1\n",
    "print(cnt)"
   ]
  },
  {
   "cell_type": "code",
   "execution_count": null,
   "metadata": {},
   "outputs": [],
   "source": [
    "import sys\n",
    "sys.setrecursionlimit(3000000)\n",
    "\n",
    "def dfs(y, x):\n",
    "    graph[y][x] = 0\n",
    "    for dy, dx in d:\n",
    "        Y, X = y+dy, x+dx\n",
    "        if (0 <= Y < M) and (0 <= X < N) and graph[Y][X] == 1:\n",
    "            dfs(Y, X)\n",
    "\n",
    "M, N = map(int, input().split())\n",
    "graph = [list(map(int, input().split())) for _ in range(M)]\n",
    "d = [(-1, -1), (-1, 1), (1, -1), (1, 1), (-1, 0), (1, 0), (0, -1), (0, 1)]\n",
    "cnt = 0\n",
    "for i in range(M):\n",
    "    for j in range(N):\n",
    "        if graph[i][j] == 1:\n",
    "            dfs(i, j)\n",
    "            cnt += 1\n",
    "print(cnt)"
   ]
  },
  {
   "cell_type": "code",
   "execution_count": null,
   "metadata": {},
   "outputs": [],
   "source": []
  }
 ],
 "metadata": {
  "kernelspec": {
   "display_name": "Python 3",
   "language": "python",
   "name": "python3"
  },
  "language_info": {
   "codemirror_mode": {
    "name": "ipython",
    "version": 3
   },
   "file_extension": ".py",
   "mimetype": "text/x-python",
   "name": "python",
   "nbconvert_exporter": "python",
   "pygments_lexer": "ipython3",
   "version": "3.8.5"
  },
  "toc": {
   "base_numbering": 1,
   "nav_menu": {},
   "number_sections": true,
   "sideBar": true,
   "skip_h1_title": false,
   "title_cell": "Table of Contents",
   "title_sidebar": "Contents",
   "toc_cell": false,
   "toc_position": {},
   "toc_section_display": true,
   "toc_window_display": false
  },
  "varInspector": {
   "cols": {
    "lenName": 16,
    "lenType": 16,
    "lenVar": 40
   },
   "kernels_config": {
    "python": {
     "delete_cmd_postfix": "",
     "delete_cmd_prefix": "del ",
     "library": "var_list.py",
     "varRefreshCmd": "print(var_dic_list())"
    },
    "r": {
     "delete_cmd_postfix": ") ",
     "delete_cmd_prefix": "rm(",
     "library": "var_list.r",
     "varRefreshCmd": "cat(var_dic_list()) "
    }
   },
   "types_to_exclude": [
    "module",
    "function",
    "builtin_function_or_method",
    "instance",
    "_Feature"
   ],
   "window_display": false
  }
 },
 "nbformat": 4,
 "nbformat_minor": 4
}
