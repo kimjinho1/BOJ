{
 "cells": [
  {
   "cell_type": "code",
   "execution_count": 27,
   "id": "coordinate-cattle",
   "metadata": {
    "ExecuteTime": {
     "end_time": "2021-02-21T09:33:20.223281Z",
     "start_time": "2021-02-21T09:33:19.734604Z"
    }
   },
   "outputs": [
    {
     "name": "stdout",
     "output_type": "stream",
     "text": [
      "dd\n",
      "90\n"
     ]
    }
   ],
   "source": [
    "s = input()\n",
    "c_li = s.split('d')\n",
    "d_li = s.split('c')\n",
    "res = 1\n",
    "for c in c_li:\n",
    "    if c == '': continue\n",
    "    res = res * 26 * 25**(len(c)-1)\n",
    "for d in d_li:\n",
    "    if d == '': continue\n",
    "    res = res * 10 * 9**(len(d)-1)\n",
    "print(res)"
   ]
  },
  {
   "cell_type": "code",
   "execution_count": 28,
   "id": "technological-tribune",
   "metadata": {
    "ExecuteTime": {
     "end_time": "2021-02-21T09:33:23.433257Z",
     "start_time": "2021-02-21T09:33:22.839434Z"
    }
   },
   "outputs": [
    {
     "name": "stdout",
     "output_type": "stream",
     "text": [
      "cc\n",
      "650\n"
     ]
    }
   ],
   "source": [
    "s = input()\n",
    "c_li = s.split('d')\n",
    "d_li = s.split('c')\n",
    "res = 1\n",
    "for c in c_li:\n",
    "    if c == '': continue\n",
    "    res = res * 26 * 25**(len(c)-1)\n",
    "for d in d_li:\n",
    "    if d == '': continue\n",
    "    res = res * 10 * 9**(len(d)-1)\n",
    "print(res)"
   ]
  },
  {
   "cell_type": "code",
   "execution_count": 29,
   "id": "focused-execution",
   "metadata": {
    "ExecuteTime": {
     "end_time": "2021-02-21T09:33:26.196062Z",
     "start_time": "2021-02-21T09:33:25.396038Z"
    }
   },
   "outputs": [
    {
     "name": "stdout",
     "output_type": "stream",
     "text": [
      "dcdd\n",
      "23400\n"
     ]
    }
   ],
   "source": [
    "s = input()\n",
    "c_li = s.split('d')\n",
    "d_li = s.split('c')\n",
    "res = 1\n",
    "for c in c_li:\n",
    "    if c == '': continue\n",
    "    res = res * 26 * 25**(len(c)-1)\n",
    "for d in d_li:\n",
    "    if d == '': continue\n",
    "    res = res * 10 * 9**(len(d)-1)\n",
    "print(res)"
   ]
  },
  {
   "cell_type": "code",
   "execution_count": null,
   "id": "printable-haven",
   "metadata": {},
   "outputs": [],
   "source": []
  }
 ],
 "metadata": {
  "kernelspec": {
   "display_name": "Python 3",
   "language": "python",
   "name": "python3"
  },
  "language_info": {
   "codemirror_mode": {
    "name": "ipython",
    "version": 3
   },
   "file_extension": ".py",
   "mimetype": "text/x-python",
   "name": "python",
   "nbconvert_exporter": "python",
   "pygments_lexer": "ipython3",
   "version": "3.7.9"
  },
  "toc": {
   "base_numbering": 1,
   "nav_menu": {},
   "number_sections": true,
   "sideBar": true,
   "skip_h1_title": false,
   "title_cell": "Table of Contents",
   "title_sidebar": "Contents",
   "toc_cell": false,
   "toc_position": {},
   "toc_section_display": true,
   "toc_window_display": false
  },
  "varInspector": {
   "cols": {
    "lenName": 16,
    "lenType": 16,
    "lenVar": 40
   },
   "kernels_config": {
    "python": {
     "delete_cmd_postfix": "",
     "delete_cmd_prefix": "del ",
     "library": "var_list.py",
     "varRefreshCmd": "print(var_dic_list())"
    },
    "r": {
     "delete_cmd_postfix": ") ",
     "delete_cmd_prefix": "rm(",
     "library": "var_list.r",
     "varRefreshCmd": "cat(var_dic_list()) "
    }
   },
   "types_to_exclude": [
    "module",
    "function",
    "builtin_function_or_method",
    "instance",
    "_Feature"
   ],
   "window_display": false
  }
 },
 "nbformat": 4,
 "nbformat_minor": 5
}
