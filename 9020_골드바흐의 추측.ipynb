{
 "cells": [
  {
   "cell_type": "code",
   "execution_count": 2,
   "metadata": {},
   "outputs": [
    {
     "name": "stdout",
     "output_type": "stream",
     "text": [
      "3\n",
      "8\n",
      "3 5\n",
      "10\n",
      "5 5\n",
      "16\n",
      "5 11\n"
     ]
    }
   ],
   "source": [
    "# 맞는 코드이긴 한데 반복문이 3번이라 시간초과가 걸린다. 반복문을 2개로 줄이면 될 것 같다.\n",
    "# 줄여보자\n",
    "for _ in range(int(input())):\n",
    "    n = int(input())\n",
    "    li = [1]*(n+1)\n",
    "    for i in range(2, int((n+1)**0.5) + 1):\n",
    "        if li[i] == 1:\n",
    "            for j in range(i+i, n+1, i):\n",
    "                li[j] = 0\n",
    "    prime = []\n",
    "    for i in range(2, n+1):\n",
    "        if li[i] == 1:\n",
    "            prime.append(i)\n",
    "    ans_li = []\n",
    "    for p in prime:\n",
    "        if n - p in prime and n-p not in ans_li:\n",
    "            ans_li.append([p, abs(n-2*p)])\n",
    "    ans_li = sorted(ans_li, key=lambda x : x[1])\n",
    "    print(ans_li[0][0], n - ans_li[0][0])"
   ]
  },
  {
   "cell_type": "code",
   "execution_count": 7,
   "metadata": {},
   "outputs": [
    {
     "name": "stdout",
     "output_type": "stream",
     "text": [
      "3\n",
      "8\n",
      "3 5\n",
      "10\n",
      "5 5\n",
      "108\n",
      "47 61\n"
     ]
    }
   ],
   "source": [
    "# 반복문 하나를 없앴더니 통과되었다.\n",
    "for _ in range(int(input())):\n",
    "    n = int(input())\n",
    "    li = [1]*(n+1)\n",
    "    for i in range(2, int((n+1)**0.5) + 1):\n",
    "        if li[i] == 1:\n",
    "            for j in range(i+i, n+1, i):\n",
    "                li[j] = 0\n",
    "    ans_li = []\n",
    "    for i in range(2, n//2+1):\n",
    "        if li[i] == 1 and li[n-i] == 1:\n",
    "            ans_li.append([i, abs(n-2*i)])\n",
    "    ans_li = sorted(ans_li, key=lambda x : x[1])\n",
    "    print(ans_li[0][0], n - ans_li[0][0])"
   ]
  },
  {
   "cell_type": "code",
   "execution_count": null,
   "metadata": {},
   "outputs": [],
   "source": []
  }
 ],
 "metadata": {
  "kernelspec": {
   "display_name": "Python 3",
   "language": "python",
   "name": "python3"
  },
  "language_info": {
   "codemirror_mode": {
    "name": "ipython",
    "version": 3
   },
   "file_extension": ".py",
   "mimetype": "text/x-python",
   "name": "python",
   "nbconvert_exporter": "python",
   "pygments_lexer": "ipython3",
   "version": "3.6.8"
  }
 },
 "nbformat": 4,
 "nbformat_minor": 2
}
