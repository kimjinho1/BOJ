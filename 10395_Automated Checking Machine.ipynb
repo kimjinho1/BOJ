{
 "cells": [
  {
   "cell_type": "code",
   "execution_count": 3,
   "id": "piano-leone",
   "metadata": {
    "ExecuteTime": {
     "end_time": "2021-02-18T02:42:13.161789Z",
     "start_time": "2021-02-18T02:42:07.692603Z"
    }
   },
   "outputs": [
    {
     "name": "stdout",
     "output_type": "stream",
     "text": [
      "1 1 0 1 0\n",
      "0 0 1 0 1\n",
      "Y\n"
     ]
    }
   ],
   "source": [
    "X = list(map(int, input().split()))\n",
    "Y = list(map(int, input().split()))\n",
    "for i in range(5):\n",
    "    X[i] += Y[i]\n",
    "print('Y' if X.count(1) == 5 else 'N')"
   ]
  },
  {
   "cell_type": "code",
   "execution_count": 4,
   "id": "norman-harvey",
   "metadata": {
    "ExecuteTime": {
     "end_time": "2021-02-18T02:42:19.380596Z",
     "start_time": "2021-02-18T02:42:15.834802Z"
    }
   },
   "outputs": [
    {
     "name": "stdout",
     "output_type": "stream",
     "text": [
      "1 0 0 1 0\n",
      "1 0 1 1 0\n",
      "N\n"
     ]
    }
   ],
   "source": [
    "X = list(map(int, input().split()))\n",
    "Y = list(map(int, input().split()))\n",
    "for i in range(5):\n",
    "    X[i] += Y[i]\n",
    "print('Y' if X.count(1) == 5 else 'N')"
   ]
  },
  {
   "cell_type": "code",
   "execution_count": null,
   "id": "decimal-transformation",
   "metadata": {},
   "outputs": [],
   "source": []
  }
 ],
 "metadata": {
  "kernelspec": {
   "display_name": "Python 3",
   "language": "python",
   "name": "python3"
  },
  "language_info": {
   "codemirror_mode": {
    "name": "ipython",
    "version": 3
   },
   "file_extension": ".py",
   "mimetype": "text/x-python",
   "name": "python",
   "nbconvert_exporter": "python",
   "pygments_lexer": "ipython3",
   "version": "3.7.9"
  },
  "toc": {
   "base_numbering": 1,
   "nav_menu": {},
   "number_sections": true,
   "sideBar": true,
   "skip_h1_title": false,
   "title_cell": "Table of Contents",
   "title_sidebar": "Contents",
   "toc_cell": false,
   "toc_position": {},
   "toc_section_display": true,
   "toc_window_display": false
  },
  "varInspector": {
   "cols": {
    "lenName": 16,
    "lenType": 16,
    "lenVar": 40
   },
   "kernels_config": {
    "python": {
     "delete_cmd_postfix": "",
     "delete_cmd_prefix": "del ",
     "library": "var_list.py",
     "varRefreshCmd": "print(var_dic_list())"
    },
    "r": {
     "delete_cmd_postfix": ") ",
     "delete_cmd_prefix": "rm(",
     "library": "var_list.r",
     "varRefreshCmd": "cat(var_dic_list()) "
    }
   },
   "types_to_exclude": [
    "module",
    "function",
    "builtin_function_or_method",
    "instance",
    "_Feature"
   ],
   "window_display": false
  }
 },
 "nbformat": 4,
 "nbformat_minor": 5
}
