{
 "cells": [
  {
   "cell_type": "code",
   "execution_count": 1,
   "metadata": {},
   "outputs": [
    {
     "name": "stdout",
     "output_type": "stream",
     "text": [
      "5 2\n",
      "10\n"
     ]
    }
   ],
   "source": [
    "import math\n",
    "n1, n2 = map(int, input().split())\n",
    "ans = math.factorial(n1) // math.factorial(n1-n2) // math.factorial(n2) \n",
    "print(ans%10007)"
   ]
  },
  {
   "cell_type": "code",
   "execution_count": 3,
   "metadata": {},
   "outputs": [
    {
     "name": "stdout",
     "output_type": "stream",
     "text": [
      "5 2\n",
      "10\n"
     ]
    }
   ],
   "source": [
    "li = [[0 for i in range(1001)] for j in range(1001)]\n",
    "li[0][0] = li[1][0] = li[1][1] = 1\n",
    "for i in range(2, 1001):\n",
    "    for j in range(i+1):\n",
    "        if j == 0 or i == j:\n",
    "            li[i][j] = 1\n",
    "        else:\n",
    "            li[i][j] = li[i-1][j-1] + li[i-1][j]\n",
    "n1, n2 = map(int, input().split())\n",
    "print(li[n1][n2] % 10007)"
   ]
  }
 ],
 "metadata": {
  "kernelspec": {
   "display_name": "Python 3",
   "language": "python",
   "name": "python3"
  },
  "language_info": {
   "codemirror_mode": {
    "name": "ipython",
    "version": 3
   },
   "file_extension": ".py",
   "mimetype": "text/x-python",
   "name": "python",
   "nbconvert_exporter": "python",
   "pygments_lexer": "ipython3",
   "version": "3.6.10"
  }
 },
 "nbformat": 4,
 "nbformat_minor": 2
}
