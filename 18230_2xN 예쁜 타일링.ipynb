{
 "cells": [
  {
   "cell_type": "code",
   "execution_count": 25,
   "metadata": {},
   "outputs": [
    {
     "name": "stdout",
     "output_type": "stream",
     "text": [
      "5 4 3\n",
      "1 2 3 4\n",
      "4 5 6\n",
      "15\n"
     ]
    }
   ],
   "source": [
    "n, a, b = map(int, input().split())\n",
    "li1 = sorted(list(map(int, input().split())), reverse=True)\n",
    "li2 = sorted(list(map(int, input().split())), reverse=True)\n",
    "ans = 0\n",
    "\n",
    "if n % 2 == 1:\n",
    "    ans += li1[0]\n",
    "    li1.pop(0)\n",
    "    n -= 1\n",
    "    \n",
    "for _ in range(0, n, 2):\n",
    "    t1, t2 = 0, 0\n",
    "    if len(li1) >= 2:\n",
    "        t1 = li1[0] + li1[1]\n",
    "    if len(li2) >= 1:\n",
    "        t2 = li2[0]\n",
    "        \n",
    "    if t1 > t2:\n",
    "        ans += t1\n",
    "        li1.pop(0); li1.pop(0)\n",
    "    else:\n",
    "        ans += t2\n",
    "        li2.pop(0)\n",
    "print(ans)"
   ]
  },
  {
   "cell_type": "code",
   "execution_count": 1,
   "metadata": {},
   "outputs": [
    {
     "name": "stdout",
     "output_type": "stream",
     "text": [
      "5 4 3\n",
      "1 2 3 4\n",
      "4 5 6\n",
      "15\n"
     ]
    }
   ],
   "source": [
    "n, a, b = map(int, input().split())\n",
    "li1 = sorted(list(map(int, input().split())))\n",
    "li2 = sorted(list(map(int, input().split())))\n",
    "ans = 0\n",
    "\n",
    "if n % 2 == 1:\n",
    "    ans += li1[-1]\n",
    "    li1.pop(-1)\n",
    "    n -= 1\n",
    "    \n",
    "for _ in range(0, n, 2):\n",
    "    t1, t2 = 0, 0\n",
    "    if len(li1) >= 2:\n",
    "        t1 = li1[-1] + li1[-2]\n",
    "    if len(li2) >= 1:\n",
    "        t2 = li2[-1]\n",
    "        \n",
    "    if t1 > t2:\n",
    "        ans += t1\n",
    "        li1.pop(); li1.pop()\n",
    "    else:\n",
    "        ans += t2\n",
    "        li2.pop()\n",
    "\n",
    "print(ans)"
   ]
  },
  {
   "cell_type": "code",
   "execution_count": null,
   "metadata": {},
   "outputs": [],
   "source": []
  }
 ],
 "metadata": {
  "kernelspec": {
   "display_name": "Python 3",
   "language": "python",
   "name": "python3"
  },
  "language_info": {
   "codemirror_mode": {
    "name": "ipython",
    "version": 3
   },
   "file_extension": ".py",
   "mimetype": "text/x-python",
   "name": "python",
   "nbconvert_exporter": "python",
   "pygments_lexer": "ipython3",
   "version": "3.6.10"
  }
 },
 "nbformat": 4,
 "nbformat_minor": 2
}
