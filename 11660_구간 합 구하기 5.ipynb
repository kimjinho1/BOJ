{
 "cells": [
  {
   "cell_type": "code",
   "execution_count": null,
   "metadata": {},
   "outputs": [],
   "source": [
    "import sys\n",
    "\n",
    "N, M = map(int, sys.stdin.readline().split())\n",
    "li = [list(map(int, sys.stdin.readline().split())) for _ in range(N)]\n",
    "dp = [[0]*(N+1) for _ in range(N+1)]\n",
    "for i in range(1, N+1):\n",
    "    for j in range(1, N+1):\n",
    "        dp[i][j] = li[i-1][j-1] + dp[i][j-1] + dp[i-1][j] - dp[i-1][j-1]\n",
    "for _ in range(M):\n",
    "    sy, sx, ey, ex = map(int, sys.stdin.readline().split())\n",
    "    res = dp[ey][ex] - dp[sy-1][ex] - dp[ey][sx-1] + dp[sy-1][sx-1]\n",
    "    print(res)"
   ]
  },
  {
   "cell_type": "code",
   "execution_count": 6,
   "metadata": {
    "ExecuteTime": {
     "end_time": "2021-03-20T06:55:05.608599Z",
     "start_time": "2021-03-20T06:54:53.619109Z"
    }
   },
   "outputs": [
    {
     "name": "stdout",
     "output_type": "stream",
     "text": [
      "4 3\n",
      "1 2 3 4\n",
      "2 3 4 5\n",
      "3 4 5 6\n",
      "4 5 6 7\n",
      "2 2 3 4\n",
      "27\n",
      "3 4 3 4\n",
      "6\n",
      "1 1 4 4\n",
      "64\n"
     ]
    }
   ],
   "source": [
    "N, M = map(int, input().split())\n",
    "li = [list(map(int, input().split())) for _ in range(N)]\n",
    "dp = [[0]*(N+1) for _ in range(N+1)]\n",
    "for i in range(1, N+1):\n",
    "    for j in range(1, N+1):\n",
    "        dp[i][j] = li[i-1][j-1] + dp[i][j-1] + dp[i-1][j] - dp[i-1][j-1]\n",
    "for _ in range(M):\n",
    "    sy, sx, ey, ex = map(int, input().split())\n",
    "    res = dp[ey][ex] - dp[sy-1][ex] - dp[ey][sx-1] + dp[sy-1][sx-1]\n",
    "    print(res)"
   ]
  },
  {
   "cell_type": "code",
   "execution_count": null,
   "metadata": {
    "ExecuteTime": {
     "end_time": "2021-03-20T06:39:04.259461Z",
     "start_time": "2021-03-20T06:39:03.978668Z"
    }
   },
   "outputs": [],
   "source": [
    "import sys\n",
    "\n",
    "N, M = map(int, sys.stdin.readline().split())\n",
    "li = [list(map(int, sys.stdin.readline().split())) for _ in range(N)]\n",
    "for i in range(N):\n",
    "    for j in range(1, N):\n",
    "        li[i][j] = li[i][j-1]+li[i][j]\n",
    "for _ in range(M):\n",
    "    sy, sx, ey, ex = map(int, sys.stdin.readline().split())\n",
    "    res = 0\n",
    "    for i in range(sy-1, ey):\n",
    "        if sx < ex:\n",
    "            res += (li[i][ex-1]-li[i][sx-2]) if sx > 1 else li[i][ex-1] \n",
    "        else:\n",
    "            res += li[i][sx-1]-li[i][sx-2] if sx > 1 else li[i][sx-1]\n",
    "    print(res)"
   ]
  },
  {
   "cell_type": "code",
   "execution_count": 4,
   "metadata": {
    "ExecuteTime": {
     "end_time": "2021-03-20T06:38:13.364333Z",
     "start_time": "2021-03-20T06:38:01.643640Z"
    }
   },
   "outputs": [
    {
     "name": "stdout",
     "output_type": "stream",
     "text": [
      "4 3\n",
      "1 2 3 4\n",
      "2 3 4 5\n",
      "3 4 5 6\n",
      "4 5 6 7\n",
      "2 2 3 4\n",
      "27\n",
      "3 4 3 4\n",
      "6\n",
      "1 1 4 4\n",
      "64\n"
     ]
    }
   ],
   "source": [
    "N, M = map(int, input().split())\n",
    "li = [list(map(int, input().split())) for _ in range(N)]\n",
    "for i in range(N):\n",
    "    for j in range(1, N):\n",
    "        li[i][j] = li[i][j-1]+li[i][j]\n",
    "for _ in range(M):\n",
    "    sy, sx, ey, ex = map(int, input().split())\n",
    "    res = 0\n",
    "    for i in range(sy-1, ey):\n",
    "        if sx < ex:\n",
    "            res += (li[i][ex-1]-li[i][sx-2]) if sx > 1 else li[i][ex-1] \n",
    "        else:\n",
    "            res += li[i][sx-1]-li[i][sx-2] if sx > 1 else li[i][sx-1]\n",
    "    print(res)"
   ]
  },
  {
   "cell_type": "code",
   "execution_count": null,
   "metadata": {},
   "outputs": [],
   "source": []
  }
 ],
 "metadata": {
  "kernelspec": {
   "display_name": "Python 3",
   "language": "python",
   "name": "python3"
  },
  "language_info": {
   "codemirror_mode": {
    "name": "ipython",
    "version": 3
   },
   "file_extension": ".py",
   "mimetype": "text/x-python",
   "name": "python",
   "nbconvert_exporter": "python",
   "pygments_lexer": "ipython3",
   "version": "3.8.5"
  },
  "toc": {
   "base_numbering": 1,
   "nav_menu": {},
   "number_sections": true,
   "sideBar": true,
   "skip_h1_title": false,
   "title_cell": "Table of Contents",
   "title_sidebar": "Contents",
   "toc_cell": false,
   "toc_position": {},
   "toc_section_display": true,
   "toc_window_display": false
  },
  "varInspector": {
   "cols": {
    "lenName": 16,
    "lenType": 16,
    "lenVar": 40
   },
   "kernels_config": {
    "python": {
     "delete_cmd_postfix": "",
     "delete_cmd_prefix": "del ",
     "library": "var_list.py",
     "varRefreshCmd": "print(var_dic_list())"
    },
    "r": {
     "delete_cmd_postfix": ") ",
     "delete_cmd_prefix": "rm(",
     "library": "var_list.r",
     "varRefreshCmd": "cat(var_dic_list()) "
    }
   },
   "types_to_exclude": [
    "module",
    "function",
    "builtin_function_or_method",
    "instance",
    "_Feature"
   ],
   "window_display": false
  }
 },
 "nbformat": 4,
 "nbformat_minor": 4
}
