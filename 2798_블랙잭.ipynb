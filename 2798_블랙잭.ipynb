{
 "cells": [
  {
   "cell_type": "code",
   "execution_count": 10,
   "metadata": {},
   "outputs": [
    {
     "name": "stdout",
     "output_type": "stream",
     "text": [
      "5 21\n",
      "5 6 7 8 9\n",
      "21\n"
     ]
    }
   ],
   "source": [
    "# 처음에 반복문에 그냥 i, j를 넣었다가 틀렸다.\n",
    "# i+1, j+1 부터 봐야 된다.\n",
    "N, M = map(int, input().split())\n",
    "li = list(map(int, input().split()))\n",
    "ans_li = []\n",
    "for i in range(N-2):\n",
    "    for j in range(i+1, N-1):\n",
    "        for k in range(j+1, N):\n",
    "            s = li[i] + li[j] + li[k]\n",
    "            if s <= M:\n",
    "                ans_li.append(s)\n",
    "ans_li.sort()\n",
    "print(ans_li[-1])"
   ]
  },
  {
   "cell_type": "code",
   "execution_count": null,
   "metadata": {},
   "outputs": [],
   "source": []
  }
 ],
 "metadata": {
  "kernelspec": {
   "display_name": "Python 3",
   "language": "python",
   "name": "python3"
  },
  "language_info": {
   "codemirror_mode": {
    "name": "ipython",
    "version": 3
   },
   "file_extension": ".py",
   "mimetype": "text/x-python",
   "name": "python",
   "nbconvert_exporter": "python",
   "pygments_lexer": "ipython3",
   "version": "3.6.8"
  }
 },
 "nbformat": 4,
 "nbformat_minor": 2
}
