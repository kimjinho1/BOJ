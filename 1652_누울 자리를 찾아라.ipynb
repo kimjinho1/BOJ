{
 "cells": [
  {
   "cell_type": "code",
   "execution_count": 13,
   "metadata": {},
   "outputs": [
    {
     "name": "stdout",
     "output_type": "stream",
     "text": [
      "5\n",
      "....X\n",
      "..XX.\n",
      ".....\n",
      ".XX..\n",
      "X....\n",
      "5 4\n"
     ]
    }
   ],
   "source": [
    "n = int(input())\n",
    "li = []\n",
    "r, c = 0, 0\n",
    "cnt = 0\n",
    "for i in range(n):\n",
    "    li.append(list(input()))\n",
    "for i in range(n):\n",
    "    cnt = 0\n",
    "    for j in range(n):\n",
    "        if li[i][j] == '.':\n",
    "            cnt += 1\n",
    "        else:\n",
    "            cnt = 0\n",
    "        if cnt == 2:\n",
    "            r += 1\n",
    "for i in range(n):\n",
    "    cnt = 0\n",
    "    for j in range(n):\n",
    "        if li[j][i] == '.':\n",
    "            cnt += 1\n",
    "        else:\n",
    "            cnt = 0\n",
    "        if cnt == 2:\n",
    "            c += 1\n",
    "print(r, c)"
   ]
  }
 ],
 "metadata": {
  "kernelspec": {
   "display_name": "Python 3",
   "language": "python",
   "name": "python3"
  },
  "language_info": {
   "codemirror_mode": {
    "name": "ipython",
    "version": 3
   },
   "file_extension": ".py",
   "mimetype": "text/x-python",
   "name": "python",
   "nbconvert_exporter": "python",
   "pygments_lexer": "ipython3",
   "version": "3.6.8"
  }
 },
 "nbformat": 4,
 "nbformat_minor": 2
}
