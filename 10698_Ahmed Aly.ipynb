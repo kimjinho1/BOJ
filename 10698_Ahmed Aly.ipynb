{
 "cells": [
  {
   "cell_type": "code",
   "execution_count": 2,
   "id": "exterior-groove",
   "metadata": {
    "ExecuteTime": {
     "end_time": "2021-02-21T18:35:32.109360Z",
     "start_time": "2021-02-21T18:35:14.570624Z"
    }
   },
   "outputs": [
    {
     "name": "stdout",
     "output_type": "stream",
     "text": [
      "4\n",
      "1 + 23 = 22\n",
      "Case 1: NO\n",
      "1 + 22 == 23\n",
      "Case 2: YES\n",
      "22 - 1 = 23\n",
      "Case 3: NO\n",
      "23 - 1 = 22\n",
      "Case 4: YES\n"
     ]
    }
   ],
   "source": [
    "for i in range(int(input())):\n",
    "    li = input().split()\n",
    "    res = \"NO\"\n",
    "    if li[1] == '+' and int(li[0])+int(li[2]) == int(li[4]):\n",
    "        res = \"YES\"\n",
    "    if li[1] == '-' and int(li[0])-int(li[2]) == int(li[4]):\n",
    "        res = \"YES\"\n",
    "    print(f\"Case {i+1}: {res}\")"
   ]
  },
  {
   "cell_type": "code",
   "execution_count": null,
   "id": "respected-bracelet",
   "metadata": {},
   "outputs": [],
   "source": []
  }
 ],
 "metadata": {
  "kernelspec": {
   "display_name": "Python 3",
   "language": "python",
   "name": "python3"
  },
  "language_info": {
   "codemirror_mode": {
    "name": "ipython",
    "version": 3
   },
   "file_extension": ".py",
   "mimetype": "text/x-python",
   "name": "python",
   "nbconvert_exporter": "python",
   "pygments_lexer": "ipython3",
   "version": "3.7.9"
  },
  "toc": {
   "base_numbering": 1,
   "nav_menu": {},
   "number_sections": true,
   "sideBar": true,
   "skip_h1_title": false,
   "title_cell": "Table of Contents",
   "title_sidebar": "Contents",
   "toc_cell": false,
   "toc_position": {},
   "toc_section_display": true,
   "toc_window_display": false
  },
  "varInspector": {
   "cols": {
    "lenName": 16,
    "lenType": 16,
    "lenVar": 40
   },
   "kernels_config": {
    "python": {
     "delete_cmd_postfix": "",
     "delete_cmd_prefix": "del ",
     "library": "var_list.py",
     "varRefreshCmd": "print(var_dic_list())"
    },
    "r": {
     "delete_cmd_postfix": ") ",
     "delete_cmd_prefix": "rm(",
     "library": "var_list.r",
     "varRefreshCmd": "cat(var_dic_list()) "
    }
   },
   "types_to_exclude": [
    "module",
    "function",
    "builtin_function_or_method",
    "instance",
    "_Feature"
   ],
   "window_display": false
  }
 },
 "nbformat": 4,
 "nbformat_minor": 5
}
