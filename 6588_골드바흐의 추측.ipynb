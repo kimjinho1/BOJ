{
 "cells": [
  {
   "cell_type": "code",
   "execution_count": null,
   "metadata": {
    "ExecuteTime": {
     "end_time": "2021-03-06T16:52:32.897816Z",
     "start_time": "2021-03-06T16:52:32.585393Z"
    }
   },
   "outputs": [],
   "source": [
    "import sys\n",
    "\n",
    "li = [1]*(1000001)\n",
    "for i in range(2, int(1000001**0.5) + 1):\n",
    "    if li[i] == 1:\n",
    "        for j in range(i+i, 1000001, i):\n",
    "            li[j] = 0\n",
    "\n",
    "while 1:\n",
    "    n = int(sys.stdin.readline())\n",
    "    if n == 0:\n",
    "        break\n",
    "    a = b = 0\n",
    "    for i in range(2, n//2+1):\n",
    "        if li[i] == 1 and li[n-i] == 1:\n",
    "            a, b = i, n-i\n",
    "            break\n",
    "    if a+b:\n",
    "        print(f\"{n} = {a} + {b}\")\n",
    "    else:\n",
    "        print(\"Goldbach's conjecture is wrong.\")"
   ]
  },
  {
   "cell_type": "code",
   "execution_count": 6,
   "metadata": {
    "ExecuteTime": {
     "end_time": "2021-03-06T16:51:56.490420Z",
     "start_time": "2021-03-06T16:51:54.064295Z"
    }
   },
   "outputs": [
    {
     "name": "stdout",
     "output_type": "stream",
     "text": [
      "8\n",
      "8 = 3 + 5\n",
      "20\n",
      "20 = 3 + 17\n",
      "42\n",
      "42 = 5 + 37\n",
      "0\n"
     ]
    }
   ],
   "source": [
    "li = [1]*(1000001)\n",
    "for i in range(2, int(1000001**0.5) + 1):\n",
    "    if li[i] == 1:\n",
    "        for j in range(i+i, 1000001, i):\n",
    "            li[j] = 0\n",
    "\n",
    "while 1:\n",
    "    n = int(input())\n",
    "    if n == 0:\n",
    "        break\n",
    "    a = b = 0\n",
    "    for i in range(2, n//2+1):\n",
    "        if li[i] == 1 and li[n-i] == 1:\n",
    "            a, b = i, n-i\n",
    "            break\n",
    "    if a+b:\n",
    "        print(f\"{n} = {a} + {b}\")\n",
    "    else:\n",
    "        print(\"Goldbach's conjecture is wrong.\")"
   ]
  },
  {
   "cell_type": "code",
   "execution_count": null,
   "metadata": {},
   "outputs": [],
   "source": []
  }
 ],
 "metadata": {
  "kernelspec": {
   "display_name": "Python 3",
   "language": "python",
   "name": "python3"
  },
  "language_info": {
   "codemirror_mode": {
    "name": "ipython",
    "version": 3
   },
   "file_extension": ".py",
   "mimetype": "text/x-python",
   "name": "python",
   "nbconvert_exporter": "python",
   "pygments_lexer": "ipython3",
   "version": "3.8.5"
  },
  "toc": {
   "base_numbering": 1,
   "nav_menu": {},
   "number_sections": true,
   "sideBar": true,
   "skip_h1_title": false,
   "title_cell": "Table of Contents",
   "title_sidebar": "Contents",
   "toc_cell": false,
   "toc_position": {},
   "toc_section_display": true,
   "toc_window_display": false
  },
  "varInspector": {
   "cols": {
    "lenName": 16,
    "lenType": 16,
    "lenVar": 40
   },
   "kernels_config": {
    "python": {
     "delete_cmd_postfix": "",
     "delete_cmd_prefix": "del ",
     "library": "var_list.py",
     "varRefreshCmd": "print(var_dic_list())"
    },
    "r": {
     "delete_cmd_postfix": ") ",
     "delete_cmd_prefix": "rm(",
     "library": "var_list.r",
     "varRefreshCmd": "cat(var_dic_list()) "
    }
   },
   "types_to_exclude": [
    "module",
    "function",
    "builtin_function_or_method",
    "instance",
    "_Feature"
   ],
   "window_display": false
  }
 },
 "nbformat": 4,
 "nbformat_minor": 4
}
