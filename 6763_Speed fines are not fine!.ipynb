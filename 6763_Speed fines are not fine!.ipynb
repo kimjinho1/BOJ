{
 "cells": [
  {
   "cell_type": "code",
   "execution_count": 2,
   "metadata": {
    "ExecuteTime": {
     "end_time": "2021-02-04T03:17:02.564094Z",
     "start_time": "2021-02-04T03:17:01.057552Z"
    }
   },
   "outputs": [
    {
     "name": "stdout",
     "output_type": "stream",
     "text": [
      "100\n",
      "131\n",
      "You are speeding and your fine is $500.\n"
     ]
    }
   ],
   "source": [
    "limit = int(input())\n",
    "speed = int(input())\n",
    "d = speed - limit\n",
    "if d <= 0:\n",
    "    print(\"Congratulations, you are within the speed limit!\")\n",
    "elif d >= 1 and d <= 20:\n",
    "    print(\"You are speeding and your fine is ${}.\".format(100))\n",
    "elif d >= 21 and d <= 30:\n",
    "    print(\"You are speeding and your fine is ${}.\".format(270))\n",
    "elif d >= 31:\n",
    "    print(\"You are speeding and your fine is ${}.\".format(500))"
   ]
  },
  {
   "cell_type": "code",
   "execution_count": 3,
   "metadata": {
    "ExecuteTime": {
     "end_time": "2021-02-04T03:17:11.929507Z",
     "start_time": "2021-02-04T03:17:10.037680Z"
    }
   },
   "outputs": [
    {
     "name": "stdout",
     "output_type": "stream",
     "text": [
      "40\n",
      "39\n",
      "Congratulations, you are within the speed limit!\n"
     ]
    }
   ],
   "source": [
    "limit = int(input())\n",
    "speed = int(input())\n",
    "d = speed - limit\n",
    "if d <= 0:\n",
    "    print(\"Congratulations, you are within the speed limit!\")\n",
    "elif d >= 1 and d <= 20:\n",
    "    print(\"You are speeding and your fine is ${}.\".format(100))\n",
    "elif d >= 21 and d <= 30:\n",
    "    print(\"You are speeding and your fine is ${}.\".format(270))\n",
    "elif d >= 31:\n",
    "    print(\"You are speeding and your fine is ${}.\".format(500))"
   ]
  },
  {
   "cell_type": "code",
   "execution_count": 4,
   "metadata": {
    "ExecuteTime": {
     "end_time": "2021-02-04T03:17:18.454206Z",
     "start_time": "2021-02-04T03:17:14.370659Z"
    }
   },
   "outputs": [
    {
     "name": "stdout",
     "output_type": "stream",
     "text": [
      "100\n",
      "120\n",
      "You are speeding and your fine is $100.\n"
     ]
    }
   ],
   "source": [
    "limit = int(input())\n",
    "speed = int(input())\n",
    "d = speed - limit\n",
    "if d <= 0:\n",
    "    print(\"Congratulations, you are within the speed limit!\")\n",
    "elif d >= 1 and d <= 20:\n",
    "    print(\"You are speeding and your fine is ${}.\".format(100))\n",
    "elif d >= 21 and d <= 30:\n",
    "    print(\"You are speeding and your fine is ${}.\".format(270))\n",
    "elif d >= 31:\n",
    "    print(\"You are speeding and your fine is ${}.\".format(500))"
   ]
  },
  {
   "cell_type": "code",
   "execution_count": null,
   "metadata": {},
   "outputs": [],
   "source": []
  }
 ],
 "metadata": {
  "kernelspec": {
   "display_name": "Python 3",
   "language": "python",
   "name": "python3"
  },
  "language_info": {
   "codemirror_mode": {
    "name": "ipython",
    "version": 3
   },
   "file_extension": ".py",
   "mimetype": "text/x-python",
   "name": "python",
   "nbconvert_exporter": "python",
   "pygments_lexer": "ipython3",
   "version": "3.6.10"
  },
  "toc": {
   "base_numbering": 1,
   "nav_menu": {},
   "number_sections": true,
   "sideBar": true,
   "skip_h1_title": false,
   "title_cell": "Table of Contents",
   "title_sidebar": "Contents",
   "toc_cell": false,
   "toc_position": {},
   "toc_section_display": true,
   "toc_window_display": false
  },
  "varInspector": {
   "cols": {
    "lenName": 16,
    "lenType": 16,
    "lenVar": 40
   },
   "kernels_config": {
    "python": {
     "delete_cmd_postfix": "",
     "delete_cmd_prefix": "del ",
     "library": "var_list.py",
     "varRefreshCmd": "print(var_dic_list())"
    },
    "r": {
     "delete_cmd_postfix": ") ",
     "delete_cmd_prefix": "rm(",
     "library": "var_list.r",
     "varRefreshCmd": "cat(var_dic_list()) "
    }
   },
   "types_to_exclude": [
    "module",
    "function",
    "builtin_function_or_method",
    "instance",
    "_Feature"
   ],
   "window_display": false
  }
 },
 "nbformat": 4,
 "nbformat_minor": 4
}
