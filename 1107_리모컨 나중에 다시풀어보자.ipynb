{
 "cells": [
  {
   "cell_type": "code",
   "execution_count": 22,
   "metadata": {},
   "outputs": [
    {
     "name": "stdout",
     "output_type": "stream",
     "text": [
      "500000\n",
      "3\n",
      "0 2 3 4 6 7 8 9\n",
      "11117\n"
     ]
    }
   ],
   "source": [
    "# 예제 입력들도 다 맞고, 다른 경우도 다 맞게 나오는 것 같다.\n",
    "# 왜 런타임에러가 뜰까? 내일와서 조져보자.\n",
    "# 버튼이 전부다 고장났을 경우 때문에 런타임에러가 나온거였다. 고쳐보자\n",
    "# 내가 푼 방식이 틀리지는 않았는데, 다른 경우의 코드를 중간에 추가해야 된다.\n",
    "# 그런데 이게 상당히 복잡해진다. 아예 다른 방식으로 접근하는게 좋을 것 같다.\n",
    "N = input()\n",
    "n = int(input())\n",
    "li = []\n",
    "if n > 0:\n",
    "    li = list(map(int, input().split()))\n",
    "n_li = [0,1,2,3,4,5,6,7,8,9]\n",
    "for n in li:\n",
    "    n_li.remove(n)\n",
    "r_li = []\n",
    "if len(n_li) > 0:\n",
    "    for l in N:\n",
    "        t = []\n",
    "        for i in range(len(n_li)):\n",
    "            t.append(abs(int(l)-n_li[i]))\n",
    "        r_li.append(str(n_li[t.index(min(t))]))\n",
    "    r = int(''.join(r_li))\n",
    "    ans = min(abs(int(N)-r)+len(N), abs(int(N)-100))\n",
    "else:\n",
    "    ans = abs(int(N)-100)\n",
    "print(ans)"
   ]
  },
  {
   "cell_type": "code",
   "execution_count": 21,
   "metadata": {},
   "outputs": [
    {
     "name": "stdout",
     "output_type": "stream",
     "text": [
      "500000\n",
      "8\n",
      "0 2 3 4 6 7 8 9\n",
      "11117\n"
     ]
    }
   ],
   "source": [
    "# 생각보다 단순하게 풀 수 있었다. 위의 코드를 정상적으로 완성하면 압도적으로 빠르겠지만\n",
    "# 아직은 하기 힘든 것 같다. 나중에 다시 풀어보자.\n",
    "N = input()\n",
    "num = int(input())\n",
    "li = []\n",
    "if num > 0:\n",
    "    li = input().split()\n",
    "n_li = ['0','1','2','3','4','5','6','7','8','9']\n",
    "for n in li:\n",
    "    n_li.remove(n)\n",
    "    \n",
    "ans = abs(int(N)-100)\n",
    "if len(n_li) > 0:\n",
    "    for i in range(1000001):\n",
    "        ok = True\n",
    "        for n in str(i):\n",
    "            if n not in n_li:\n",
    "                ok = False\n",
    "        if ok:\n",
    "            ans = min(ans, abs(int(N)-i)+len(str(i)))        \n",
    "print(ans)"
   ]
  },
  {
   "cell_type": "code",
   "execution_count": null,
   "metadata": {},
   "outputs": [],
   "source": []
  }
 ],
 "metadata": {
  "kernelspec": {
   "display_name": "Python 3",
   "language": "python",
   "name": "python3"
  },
  "language_info": {
   "codemirror_mode": {
    "name": "ipython",
    "version": 3
   },
   "file_extension": ".py",
   "mimetype": "text/x-python",
   "name": "python",
   "nbconvert_exporter": "python",
   "pygments_lexer": "ipython3",
   "version": "3.6.8"
  }
 },
 "nbformat": 4,
 "nbformat_minor": 2
}
