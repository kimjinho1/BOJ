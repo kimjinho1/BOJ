{
 "cells": [
  {
   "cell_type": "code",
   "execution_count": 1,
   "metadata": {
    "ExecuteTime": {
     "end_time": "2021-02-06T03:09:32.634137Z",
     "start_time": "2021-02-06T03:09:28.332157Z"
    }
   },
   "outputs": [
    {
     "name": "stdout",
     "output_type": "stream",
     "text": [
      "10\n",
      "20\n",
      "30\n",
      "80\n"
     ]
    }
   ],
   "source": [
    "A1 = int(input())\n",
    "A2 = int(input())\n",
    "A3 = int(input())\n",
    "r1 = A2*2 + A3*4\n",
    "r2 = A1*2 + A3*2\n",
    "r3 = A1*4 + A2*2\n",
    "print(min(r1, r2, r3))"
   ]
  },
  {
   "cell_type": "code",
   "execution_count": 2,
   "metadata": {
    "ExecuteTime": {
     "end_time": "2021-02-06T03:09:37.592504Z",
     "start_time": "2021-02-06T03:09:35.551695Z"
    }
   },
   "outputs": [
    {
     "name": "stdout",
     "output_type": "stream",
     "text": [
      "10\n",
      "30\n",
      "20\n",
      "60\n"
     ]
    }
   ],
   "source": [
    "A1 = int(input())\n",
    "A2 = int(input())\n",
    "A3 = int(input())\n",
    "r1 = A2*2 + A3*4\n",
    "r2 = A1*2 + A3*2\n",
    "r3 = A1*4 + A2*2\n",
    "print(min(r1, r2, r3))"
   ]
  },
  {
   "cell_type": "code",
   "execution_count": 5,
   "metadata": {
    "ExecuteTime": {
     "end_time": "2021-02-06T03:09:48.757420Z",
     "start_time": "2021-02-06T03:09:46.905782Z"
    }
   },
   "outputs": [
    {
     "name": "stdout",
     "output_type": "stream",
     "text": [
      "30\n",
      "10\n",
      "20\n",
      "100\n"
     ]
    }
   ],
   "source": [
    "A1 = int(input())\n",
    "A2 = int(input())\n",
    "A3 = int(input())\n",
    "r1 = A2*2 + A3*4\n",
    "r2 = A1*2 + A3*2\n",
    "r3 = A1*4 + A2*2\n",
    "print(min(r1, r2, r3))"
   ]
  },
  {
   "cell_type": "code",
   "execution_count": null,
   "metadata": {},
   "outputs": [],
   "source": []
  }
 ],
 "metadata": {
  "kernelspec": {
   "display_name": "Python 3",
   "language": "python",
   "name": "python3"
  },
  "language_info": {
   "codemirror_mode": {
    "name": "ipython",
    "version": 3
   },
   "file_extension": ".py",
   "mimetype": "text/x-python",
   "name": "python",
   "nbconvert_exporter": "python",
   "pygments_lexer": "ipython3",
   "version": "3.6.10"
  },
  "toc": {
   "base_numbering": 1,
   "nav_menu": {},
   "number_sections": true,
   "sideBar": true,
   "skip_h1_title": false,
   "title_cell": "Table of Contents",
   "title_sidebar": "Contents",
   "toc_cell": false,
   "toc_position": {},
   "toc_section_display": true,
   "toc_window_display": false
  },
  "varInspector": {
   "cols": {
    "lenName": 16,
    "lenType": 16,
    "lenVar": 40
   },
   "kernels_config": {
    "python": {
     "delete_cmd_postfix": "",
     "delete_cmd_prefix": "del ",
     "library": "var_list.py",
     "varRefreshCmd": "print(var_dic_list())"
    },
    "r": {
     "delete_cmd_postfix": ") ",
     "delete_cmd_prefix": "rm(",
     "library": "var_list.r",
     "varRefreshCmd": "cat(var_dic_list()) "
    }
   },
   "types_to_exclude": [
    "module",
    "function",
    "builtin_function_or_method",
    "instance",
    "_Feature"
   ],
   "window_display": false
  }
 },
 "nbformat": 4,
 "nbformat_minor": 4
}
