{
 "cells": [
  {
   "cell_type": "code",
   "execution_count": 36,
   "id": "going-arcade",
   "metadata": {
    "ExecuteTime": {
     "end_time": "2021-02-10T01:31:49.012910Z",
     "start_time": "2021-02-10T01:31:44.944994Z"
    }
   },
   "outputs": [
    {
     "name": "stdout",
     "output_type": "stream",
     "text": [
      "2 5 7\n",
      "7\n"
     ]
    }
   ],
   "source": [
    "N, L, D = map(int, input().split())\n",
    "res = ok = 0\n",
    "i = 1\n",
    "while i*D <= N*(L+5) - 5:\n",
    "    if L <= i*D % (L+5) <= L+4:\n",
    "        res = i*D\n",
    "        ok = 1\n",
    "        break\n",
    "    i += 1\n",
    "print(res if ok else ((N*(L+5) - 5)//D + 1) * D)"
   ]
  },
  {
   "cell_type": "code",
   "execution_count": null,
   "id": "steady-cover",
   "metadata": {},
   "outputs": [],
   "source": []
  }
 ],
 "metadata": {
  "kernelspec": {
   "display_name": "Python 3",
   "language": "python",
   "name": "python3"
  },
  "language_info": {
   "codemirror_mode": {
    "name": "ipython",
    "version": 3
   },
   "file_extension": ".py",
   "mimetype": "text/x-python",
   "name": "python",
   "nbconvert_exporter": "python",
   "pygments_lexer": "ipython3",
   "version": "3.7.9"
  },
  "toc": {
   "base_numbering": 1,
   "nav_menu": {},
   "number_sections": true,
   "sideBar": true,
   "skip_h1_title": false,
   "title_cell": "Table of Contents",
   "title_sidebar": "Contents",
   "toc_cell": false,
   "toc_position": {},
   "toc_section_display": true,
   "toc_window_display": false
  },
  "varInspector": {
   "cols": {
    "lenName": 16,
    "lenType": 16,
    "lenVar": 40
   },
   "kernels_config": {
    "python": {
     "delete_cmd_postfix": "",
     "delete_cmd_prefix": "del ",
     "library": "var_list.py",
     "varRefreshCmd": "print(var_dic_list())"
    },
    "r": {
     "delete_cmd_postfix": ") ",
     "delete_cmd_prefix": "rm(",
     "library": "var_list.r",
     "varRefreshCmd": "cat(var_dic_list()) "
    }
   },
   "types_to_exclude": [
    "module",
    "function",
    "builtin_function_or_method",
    "instance",
    "_Feature"
   ],
   "window_display": false
  }
 },
 "nbformat": 4,
 "nbformat_minor": 5
}
