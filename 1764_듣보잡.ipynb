{
 "cells": [
  {
   "cell_type": "markdown",
   "metadata": {},
   "source": [
    "# 집합"
   ]
  },
  {
   "cell_type": "code",
   "execution_count": 2,
   "metadata": {
    "ExecuteTime": {
     "end_time": "2021-01-27T17:05:08.280601Z",
     "start_time": "2021-01-27T17:04:46.058012Z"
    }
   },
   "outputs": [
    {
     "name": "stdout",
     "output_type": "stream",
     "text": [
      "3 4\n",
      "ohhenrie\n",
      "charlie\n",
      "baesangwook\n",
      "obama\n",
      "baesangwook\n",
      "ohhenrie\n",
      "clinton\n",
      "2\n",
      "baesangwook\n",
      "ohhenrie\n"
     ]
    }
   ],
   "source": [
    "a, b = map(int, input().split())\n",
    "s1, s2 = set(), set()\n",
    "for _ in range(a):\n",
    "    s1.add(input())\n",
    "for _ in range(b):\n",
    "    s2.add(input())\n",
    "li = sorted(s1 & s2)\n",
    "\n",
    "print(len(li))\n",
    "for s in li:\n",
    "    print(s)"
   ]
  },
  {
   "cell_type": "markdown",
   "metadata": {},
   "source": [
    "# 이진 탐색"
   ]
  },
  {
   "cell_type": "code",
   "execution_count": 9,
   "metadata": {
    "ExecuteTime": {
     "end_time": "2021-01-27T17:13:36.152720Z",
     "start_time": "2021-01-27T17:13:36.144629Z"
    }
   },
   "outputs": [],
   "source": [
    "def binarySearch(li, n):\n",
    "    s, e = 0, len(li)-1\n",
    "    while s <= e:\n",
    "        m = (s + e) // 2 \n",
    "        if li[m] == n:\n",
    "            return 1\n",
    "        if n > li[m]:\n",
    "            s = m + 1\n",
    "        else:\n",
    "            e = m - 1\n",
    "    return 0"
   ]
  },
  {
   "cell_type": "markdown",
   "metadata": {},
   "source": [
    "## 통과는 되는데 좀 느림"
   ]
  },
  {
   "cell_type": "code",
   "execution_count": 15,
   "metadata": {
    "ExecuteTime": {
     "end_time": "2021-01-27T17:20:43.179997Z",
     "start_time": "2021-01-27T17:20:29.739395Z"
    },
    "scrolled": true
   },
   "outputs": [
    {
     "name": "stdout",
     "output_type": "stream",
     "text": [
      "3 4\n",
      "ohhenrie\n",
      "charlie\n",
      "baesangwook\n",
      "obama\n",
      "baesangwook\n",
      "ohhenrie\n",
      "clinton\n",
      "2\n",
      "baesangwook\n",
      "ohhenrie\n"
     ]
    }
   ],
   "source": [
    "a, b = map(int, input().split())\n",
    "result = []\n",
    "li1 = sorted([input() for _ in range(a)])\n",
    "li2 = sorted([input() for _ in range(b)])\n",
    "for s in li2:\n",
    "    if binarySearch(li1, s):\n",
    "        result.append(s)\n",
    "\n",
    "print(len(result))\n",
    "for c in sorted(result):\n",
    "    print(c)"
   ]
  },
  {
   "cell_type": "markdown",
   "metadata": {},
   "source": [
    "## 엄청 빠름"
   ]
  },
  {
   "cell_type": "code",
   "execution_count": 16,
   "metadata": {
    "ExecuteTime": {
     "end_time": "2021-01-27T17:21:42.355908Z",
     "start_time": "2021-01-27T17:21:42.348959Z"
    }
   },
   "outputs": [
    {
     "name": "stdout",
     "output_type": "stream",
     "text": [
      "2\n",
      "baesangwook\n",
      "ohhenrie\n"
     ]
    }
   ],
   "source": [
    "from sys import stdin\n",
    "\n",
    "a, b = map(int, input().split())\n",
    "result = []\n",
    "li1 = sorted([stdin.readline().rstrip() for _ in range(a)])\n",
    "li2 = sorted([stdin.readline().rstrip() for _ in range(b)])\n",
    "for s in li2:\n",
    "    if binarySearch(li1, s):\n",
    "        result.append(s)\n",
    "\n",
    "print(len(result))\n",
    "for c in sorted(result):\n",
    "    print(c)"
   ]
  },
  {
   "cell_type": "code",
   "execution_count": null,
   "metadata": {},
   "outputs": [],
   "source": []
  }
 ],
 "metadata": {
  "kernelspec": {
   "display_name": "Python 3",
   "language": "python",
   "name": "python3"
  },
  "language_info": {
   "codemirror_mode": {
    "name": "ipython",
    "version": 3
   },
   "file_extension": ".py",
   "mimetype": "text/x-python",
   "name": "python",
   "nbconvert_exporter": "python",
   "pygments_lexer": "ipython3",
   "version": "3.7.9"
  },
  "toc": {
   "base_numbering": 1,
   "nav_menu": {},
   "number_sections": true,
   "sideBar": true,
   "skip_h1_title": false,
   "title_cell": "Table of Contents",
   "title_sidebar": "Contents",
   "toc_cell": false,
   "toc_position": {},
   "toc_section_display": true,
   "toc_window_display": false
  },
  "varInspector": {
   "cols": {
    "lenName": 16,
    "lenType": 16,
    "lenVar": 40
   },
   "kernels_config": {
    "python": {
     "delete_cmd_postfix": "",
     "delete_cmd_prefix": "del ",
     "library": "var_list.py",
     "varRefreshCmd": "print(var_dic_list())"
    },
    "r": {
     "delete_cmd_postfix": ") ",
     "delete_cmd_prefix": "rm(",
     "library": "var_list.r",
     "varRefreshCmd": "cat(var_dic_list()) "
    }
   },
   "types_to_exclude": [
    "module",
    "function",
    "builtin_function_or_method",
    "instance",
    "_Feature"
   ],
   "window_display": false
  }
 },
 "nbformat": 4,
 "nbformat_minor": 2
}
