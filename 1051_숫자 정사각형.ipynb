{
 "cells": [
  {
   "cell_type": "code",
   "execution_count": 18,
   "metadata": {},
   "outputs": [
    {
     "name": "stdout",
     "output_type": "stream",
     "text": [
      "3 5\n",
      "42101\n",
      "22100\n",
      "22101\n",
      "9\n"
     ]
    }
   ],
   "source": [
    "N, M = map(int, input().split())\n",
    "m = min(N, M)\n",
    "li = []\n",
    "for _ in range(N):\n",
    "    li.append(list(map(int, list(input()))))\n",
    "ok = False\n",
    "\n",
    "for l in range(m, 0, -1):\n",
    "    if ok:\n",
    "        break\n",
    "    for i in range(N+1-l):\n",
    "        if ok:\n",
    "            break\n",
    "        for j in range(M+1-l):\n",
    "            if li[i][j] == li[i+l-1][j] == li[i+l-1][j+l-1] == li[i][j+l-1]:\n",
    "                ans = l\n",
    "                ok = True\n",
    "                break\n",
    "        \n",
    "print(ans**2)"
   ]
  },
  {
   "cell_type": "code",
   "execution_count": null,
   "metadata": {},
   "outputs": [],
   "source": []
  }
 ],
 "metadata": {
  "kernelspec": {
   "display_name": "Python 3",
   "language": "python",
   "name": "python3"
  },
  "language_info": {
   "codemirror_mode": {
    "name": "ipython",
    "version": 3
   },
   "file_extension": ".py",
   "mimetype": "text/x-python",
   "name": "python",
   "nbconvert_exporter": "python",
   "pygments_lexer": "ipython3",
   "version": "3.6.8"
  }
 },
 "nbformat": 4,
 "nbformat_minor": 2
}
