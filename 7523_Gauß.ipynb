{
 "cells": [
  {
   "cell_type": "code",
   "execution_count": 5,
   "id": "personal-placement",
   "metadata": {
    "ExecuteTime": {
     "end_time": "2021-02-17T05:01:52.204084Z",
     "start_time": "2021-02-17T05:01:42.558796Z"
    },
    "scrolled": true
   },
   "outputs": [
    {
     "name": "stdout",
     "output_type": "stream",
     "text": [
      "3 \n",
      "1 100\n",
      "Scenario #1:\n",
      "5050\n",
      "\n",
      "-11 10\n",
      "Scenario #2:\n",
      "-11\n",
      "\n",
      "-89173 938749341\n",
      "Scenario #3:\n",
      "440625159107385260\n",
      "\n"
     ]
    }
   ],
   "source": [
    "for i in range(int(input())):\n",
    "    a, b = map(int, input().split())\n",
    "    res = (b-a+1) * (a+b)//2\n",
    "    print(f\"Scenario #{i+1}:\")\n",
    "    print(f\"{res}\\n\")"
   ]
  },
  {
   "cell_type": "code",
   "execution_count": null,
   "id": "devoted-rider",
   "metadata": {},
   "outputs": [],
   "source": []
  }
 ],
 "metadata": {
  "kernelspec": {
   "display_name": "Python 3",
   "language": "python",
   "name": "python3"
  },
  "language_info": {
   "codemirror_mode": {
    "name": "ipython",
    "version": 3
   },
   "file_extension": ".py",
   "mimetype": "text/x-python",
   "name": "python",
   "nbconvert_exporter": "python",
   "pygments_lexer": "ipython3",
   "version": "3.7.9"
  },
  "toc": {
   "base_numbering": 1,
   "nav_menu": {},
   "number_sections": true,
   "sideBar": true,
   "skip_h1_title": false,
   "title_cell": "Table of Contents",
   "title_sidebar": "Contents",
   "toc_cell": false,
   "toc_position": {},
   "toc_section_display": true,
   "toc_window_display": false
  },
  "varInspector": {
   "cols": {
    "lenName": 16,
    "lenType": 16,
    "lenVar": 40
   },
   "kernels_config": {
    "python": {
     "delete_cmd_postfix": "",
     "delete_cmd_prefix": "del ",
     "library": "var_list.py",
     "varRefreshCmd": "print(var_dic_list())"
    },
    "r": {
     "delete_cmd_postfix": ") ",
     "delete_cmd_prefix": "rm(",
     "library": "var_list.r",
     "varRefreshCmd": "cat(var_dic_list()) "
    }
   },
   "types_to_exclude": [
    "module",
    "function",
    "builtin_function_or_method",
    "instance",
    "_Feature"
   ],
   "window_display": false
  }
 },
 "nbformat": 4,
 "nbformat_minor": 5
}
