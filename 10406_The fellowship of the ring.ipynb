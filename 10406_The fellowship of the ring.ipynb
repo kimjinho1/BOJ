{
 "cells": [
  {
   "cell_type": "code",
   "execution_count": 1,
   "id": "formal-anime",
   "metadata": {
    "ExecuteTime": {
     "end_time": "2021-02-18T02:36:05.763110Z",
     "start_time": "2021-02-18T02:35:59.277064Z"
    }
   },
   "outputs": [
    {
     "name": "stdout",
     "output_type": "stream",
     "text": [
      "80 150 3\n",
      "10 100 160\n",
      "1\n"
     ]
    }
   ],
   "source": [
    "w, n, p = map(int, input().split())\n",
    "li = list(map(int, input().split()))\n",
    "cnt = 0\n",
    "for h in li:\n",
    "    if w <= h <= n:\n",
    "        cnt += 1\n",
    "print(cnt)"
   ]
  },
  {
   "cell_type": "code",
   "execution_count": 2,
   "id": "hollywood-pearl",
   "metadata": {
    "ExecuteTime": {
     "end_time": "2021-02-18T02:36:14.855873Z",
     "start_time": "2021-02-18T02:36:09.220286Z"
    }
   },
   "outputs": [
    {
     "name": "stdout",
     "output_type": "stream",
     "text": [
      "80 150 3\n",
      "80 100 150\n",
      "3\n"
     ]
    }
   ],
   "source": [
    "w, n, p = map(int, input().split())\n",
    "li = list(map(int, input().split()))\n",
    "cnt = 0\n",
    "for h in li:\n",
    "    if w <= h <= n:\n",
    "        cnt += 1\n",
    "print(cnt)"
   ]
  },
  {
   "cell_type": "code",
   "execution_count": 3,
   "id": "exciting-newport",
   "metadata": {
    "ExecuteTime": {
     "end_time": "2021-02-18T02:36:23.253989Z",
     "start_time": "2021-02-18T02:36:19.040978Z"
    }
   },
   "outputs": [
    {
     "name": "stdout",
     "output_type": "stream",
     "text": [
      "2 199 5\n",
      "2 1 200 199 1\n",
      "2\n"
     ]
    }
   ],
   "source": [
    "w, n, p = map(int, input().split())\n",
    "li = list(map(int, input().split()))\n",
    "cnt = 0\n",
    "for h in li:\n",
    "    if w <= h <= n:\n",
    "        cnt += 1\n",
    "print(cnt)"
   ]
  },
  {
   "cell_type": "code",
   "execution_count": null,
   "id": "opposite-brick",
   "metadata": {},
   "outputs": [],
   "source": []
  }
 ],
 "metadata": {
  "kernelspec": {
   "display_name": "Python 3",
   "language": "python",
   "name": "python3"
  },
  "language_info": {
   "codemirror_mode": {
    "name": "ipython",
    "version": 3
   },
   "file_extension": ".py",
   "mimetype": "text/x-python",
   "name": "python",
   "nbconvert_exporter": "python",
   "pygments_lexer": "ipython3",
   "version": "3.7.9"
  },
  "toc": {
   "base_numbering": 1,
   "nav_menu": {},
   "number_sections": true,
   "sideBar": true,
   "skip_h1_title": false,
   "title_cell": "Table of Contents",
   "title_sidebar": "Contents",
   "toc_cell": false,
   "toc_position": {},
   "toc_section_display": true,
   "toc_window_display": false
  },
  "varInspector": {
   "cols": {
    "lenName": 16,
    "lenType": 16,
    "lenVar": 40
   },
   "kernels_config": {
    "python": {
     "delete_cmd_postfix": "",
     "delete_cmd_prefix": "del ",
     "library": "var_list.py",
     "varRefreshCmd": "print(var_dic_list())"
    },
    "r": {
     "delete_cmd_postfix": ") ",
     "delete_cmd_prefix": "rm(",
     "library": "var_list.r",
     "varRefreshCmd": "cat(var_dic_list()) "
    }
   },
   "types_to_exclude": [
    "module",
    "function",
    "builtin_function_or_method",
    "instance",
    "_Feature"
   ],
   "window_display": false
  }
 },
 "nbformat": 4,
 "nbformat_minor": 5
}
