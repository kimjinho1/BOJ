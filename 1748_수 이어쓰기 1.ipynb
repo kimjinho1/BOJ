{
 "cells": [
  {
   "cell_type": "code",
   "execution_count": 7,
   "metadata": {},
   "outputs": [
    {
     "name": "stdout",
     "output_type": "stream",
     "text": [
      "120\n",
      "252\n"
     ]
    }
   ],
   "source": [
    "N = int(input())\n",
    "n = 9\n",
    "a = 1\n",
    "ans = 0\n",
    "\n",
    "while(N != 0):\n",
    "    if N - n > 0:\n",
    "        ans += a*n\n",
    "        N -= n\n",
    "        n = n*10\n",
    "        a += 1\n",
    "    else:\n",
    "        ans += a*N\n",
    "        break\n",
    "    \n",
    "print(ans)"
   ]
  },
  {
   "cell_type": "code",
   "execution_count": null,
   "metadata": {},
   "outputs": [],
   "source": []
  }
 ],
 "metadata": {
  "kernelspec": {
   "display_name": "Python 3",
   "language": "python",
   "name": "python3"
  },
  "language_info": {
   "codemirror_mode": {
    "name": "ipython",
    "version": 3
   },
   "file_extension": ".py",
   "mimetype": "text/x-python",
   "name": "python",
   "nbconvert_exporter": "python",
   "pygments_lexer": "ipython3",
   "version": "3.6.8"
  }
 },
 "nbformat": 4,
 "nbformat_minor": 2
}
