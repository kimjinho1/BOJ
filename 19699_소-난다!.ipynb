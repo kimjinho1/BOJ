{
 "cells": [
  {
   "cell_type": "code",
   "execution_count": 14,
   "metadata": {
    "ExecuteTime": {
     "end_time": "2021-03-23T09:27:29.256137Z",
     "start_time": "2021-03-23T09:27:27.109317Z"
    }
   },
   "outputs": [
    {
     "name": "stdout",
     "output_type": "stream",
     "text": [
      "5 3\n",
      "2 4 10 5 8\n",
      "11 17 19 23 "
     ]
    }
   ],
   "source": [
    "def dfs(depth):\n",
    "    if depth == M:\n",
    "        s.add(sum(li))\n",
    "    for i in range(N):\n",
    "        if check[i]:\n",
    "            continue\n",
    "        li.append(nums[i])\n",
    "        check[i] = 1\n",
    "        dfs(depth+1)\n",
    "        li.pop()\n",
    "        for j in range(i+1, N):\n",
    "            check[j] = 0\n",
    "\n",
    "def prime(n):\n",
    "    li = [1]*(n+1)\n",
    "    for i in range(2, int(n**0.5)+1):\n",
    "        if li[i]:\n",
    "            for j in range(i+i, n+1, i):\n",
    "                li[j] = 0\n",
    "    p = [i for i in range(2, n+1) if li[i]]\n",
    "    return p\n",
    "\n",
    "N, M = map(int, input().split())\n",
    "nums = list(map(int, input().split()))\n",
    "s = set()\n",
    "li = []\n",
    "check = [0]*N\n",
    "dfs(0)\n",
    "p = prime(1000*M)\n",
    "ok = 0\n",
    "if s:\n",
    "    for n in sorted(s):\n",
    "        if n in p:\n",
    "            ok = 1\n",
    "            print(n, end=' ')\n",
    "if ok == 0:\n",
    "    print(-1)"
   ]
  },
  {
   "cell_type": "code",
   "execution_count": null,
   "metadata": {},
   "outputs": [],
   "source": []
  }
 ],
 "metadata": {
  "kernelspec": {
   "display_name": "Python 3",
   "language": "python",
   "name": "python3"
  },
  "language_info": {
   "codemirror_mode": {
    "name": "ipython",
    "version": 3
   },
   "file_extension": ".py",
   "mimetype": "text/x-python",
   "name": "python",
   "nbconvert_exporter": "python",
   "pygments_lexer": "ipython3",
   "version": "3.8.5"
  },
  "toc": {
   "base_numbering": 1,
   "nav_menu": {},
   "number_sections": true,
   "sideBar": true,
   "skip_h1_title": false,
   "title_cell": "Table of Contents",
   "title_sidebar": "Contents",
   "toc_cell": false,
   "toc_position": {},
   "toc_section_display": true,
   "toc_window_display": false
  },
  "varInspector": {
   "cols": {
    "lenName": 16,
    "lenType": 16,
    "lenVar": 40
   },
   "kernels_config": {
    "python": {
     "delete_cmd_postfix": "",
     "delete_cmd_prefix": "del ",
     "library": "var_list.py",
     "varRefreshCmd": "print(var_dic_list())"
    },
    "r": {
     "delete_cmd_postfix": ") ",
     "delete_cmd_prefix": "rm(",
     "library": "var_list.r",
     "varRefreshCmd": "cat(var_dic_list()) "
    }
   },
   "types_to_exclude": [
    "module",
    "function",
    "builtin_function_or_method",
    "instance",
    "_Feature"
   ],
   "window_display": false
  }
 },
 "nbformat": 4,
 "nbformat_minor": 4
}
