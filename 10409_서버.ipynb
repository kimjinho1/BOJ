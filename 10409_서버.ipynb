{
 "cells": [
  {
   "cell_type": "code",
   "execution_count": 12,
   "id": "decimal-acceptance",
   "metadata": {
    "ExecuteTime": {
     "end_time": "2021-02-18T02:30:42.821897Z",
     "start_time": "2021-02-18T02:30:41.177302Z"
    }
   },
   "outputs": [
    {
     "name": "stdout",
     "output_type": "stream",
     "text": [
      "6 180\n",
      "45 30 55 20 80 20\n",
      "4\n"
     ]
    }
   ],
   "source": [
    "n, T = map(int, input().split())\n",
    "li = list(map(int, input().split()))\n",
    "for i in range(n):\n",
    "    if sum(li[:i+1]) > T:\n",
    "        print(i)\n",
    "        break\n",
    "    elif i == n-1:\n",
    "        print(n)"
   ]
  },
  {
   "cell_type": "code",
   "execution_count": 11,
   "id": "south-sarah",
   "metadata": {
    "ExecuteTime": {
     "end_time": "2021-02-18T02:30:24.138095Z",
     "start_time": "2021-02-18T02:29:50.125648Z"
    }
   },
   "outputs": [
    {
     "name": "stdout",
     "output_type": "stream",
     "text": [
      "10 60\n",
      "20 7 10 8 10 27 2 3 10 5\n",
      "5\n"
     ]
    }
   ],
   "source": [
    "n, T = map(int, input().split())\n",
    "li = list(map(int, input().split()))\n",
    "for i in range(n):\n",
    "    if sum(li[:i+1]) > T:\n",
    "        print(i)\n",
    "        break\n",
    "    elif i == n-1:\n",
    "        print(n)"
   ]
  },
  {
   "cell_type": "code",
   "execution_count": null,
   "id": "constitutional-basement",
   "metadata": {},
   "outputs": [],
   "source": []
  }
 ],
 "metadata": {
  "kernelspec": {
   "display_name": "Python 3",
   "language": "python",
   "name": "python3"
  },
  "language_info": {
   "codemirror_mode": {
    "name": "ipython",
    "version": 3
   },
   "file_extension": ".py",
   "mimetype": "text/x-python",
   "name": "python",
   "nbconvert_exporter": "python",
   "pygments_lexer": "ipython3",
   "version": "3.7.9"
  },
  "toc": {
   "base_numbering": 1,
   "nav_menu": {},
   "number_sections": true,
   "sideBar": true,
   "skip_h1_title": false,
   "title_cell": "Table of Contents",
   "title_sidebar": "Contents",
   "toc_cell": false,
   "toc_position": {},
   "toc_section_display": true,
   "toc_window_display": false
  },
  "varInspector": {
   "cols": {
    "lenName": 16,
    "lenType": 16,
    "lenVar": 40
   },
   "kernels_config": {
    "python": {
     "delete_cmd_postfix": "",
     "delete_cmd_prefix": "del ",
     "library": "var_list.py",
     "varRefreshCmd": "print(var_dic_list())"
    },
    "r": {
     "delete_cmd_postfix": ") ",
     "delete_cmd_prefix": "rm(",
     "library": "var_list.r",
     "varRefreshCmd": "cat(var_dic_list()) "
    }
   },
   "types_to_exclude": [
    "module",
    "function",
    "builtin_function_or_method",
    "instance",
    "_Feature"
   ],
   "window_display": false
  }
 },
 "nbformat": 4,
 "nbformat_minor": 5
}
