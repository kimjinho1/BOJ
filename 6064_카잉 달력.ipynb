{
 "cells": [
  {
   "cell_type": "code",
   "execution_count": 3,
   "metadata": {},
   "outputs": [
    {
     "name": "stdout",
     "output_type": "stream",
     "text": [
      "3\n",
      "10 12 3 9\n",
      "33\n",
      "10 12 7 2\n",
      "-1\n",
      "13 11 5 6\n",
      "83\n"
     ]
    }
   ],
   "source": [
    "for _ in range(int(input())):\n",
    "    M, N, x, y = map(int, input().split())\n",
    "    f = 1\n",
    "    while(x <= M*N):\n",
    "        if x%N == y%N:\n",
    "            print(x)\n",
    "            f = 0\n",
    "            break\n",
    "        x += M\n",
    "    if f:\n",
    "        print(-1)"
   ]
  },
  {
   "cell_type": "code",
   "execution_count": null,
   "metadata": {},
   "outputs": [],
   "source": []
  }
 ],
 "metadata": {
  "kernelspec": {
   "display_name": "Python 3",
   "language": "python",
   "name": "python3"
  },
  "language_info": {
   "codemirror_mode": {
    "name": "ipython",
    "version": 3
   },
   "file_extension": ".py",
   "mimetype": "text/x-python",
   "name": "python",
   "nbconvert_exporter": "python",
   "pygments_lexer": "ipython3",
   "version": "3.6.8"
  }
 },
 "nbformat": 4,
 "nbformat_minor": 2
}
