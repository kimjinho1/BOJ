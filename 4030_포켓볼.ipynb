{
 "cells": [
  {
   "cell_type": "code",
   "execution_count": 18,
   "metadata": {
    "ExecuteTime": {
     "end_time": "2021-03-01T13:28:05.729861Z",
     "start_time": "2021-03-01T13:27:57.897084Z"
    }
   },
   "outputs": [
    {
     "name": "stdout",
     "output_type": "stream",
     "text": [
      "15 17\n",
      "Case 1: 1\n",
      "14 16\n",
      "Case 2: 0\n",
      "1 20\n",
      "Case 3: 2\n",
      "0 0\n"
     ]
    }
   ],
   "source": [
    "case = 1\n",
    "while 1:\n",
    "    a, b = map(int, input().split())\n",
    "    if a == b == 0:\n",
    "        break\n",
    "    cnt = i = 0\n",
    "    while (i+1)*i // 2 < a:\n",
    "        i += 1\n",
    "    while (i+1)*i // 2 < b-1:\n",
    "        t = (i+1)*i // 2 + 1\n",
    "        if t**0.5 == int(t**0.5):\n",
    "            cnt += 1\n",
    "        i += 1\n",
    "    print(f\"Case {case}: {cnt}\")\n",
    "    case += 1"
   ]
  },
  {
   "cell_type": "code",
   "execution_count": null,
   "metadata": {},
   "outputs": [],
   "source": []
  }
 ],
 "metadata": {
  "kernelspec": {
   "display_name": "Python 3",
   "language": "python",
   "name": "python3"
  },
  "language_info": {
   "codemirror_mode": {
    "name": "ipython",
    "version": 3
   },
   "file_extension": ".py",
   "mimetype": "text/x-python",
   "name": "python",
   "nbconvert_exporter": "python",
   "pygments_lexer": "ipython3",
   "version": "3.8.5"
  },
  "toc": {
   "base_numbering": 1,
   "nav_menu": {},
   "number_sections": true,
   "sideBar": true,
   "skip_h1_title": false,
   "title_cell": "Table of Contents",
   "title_sidebar": "Contents",
   "toc_cell": false,
   "toc_position": {},
   "toc_section_display": true,
   "toc_window_display": false
  },
  "varInspector": {
   "cols": {
    "lenName": 16,
    "lenType": 16,
    "lenVar": 40
   },
   "kernels_config": {
    "python": {
     "delete_cmd_postfix": "",
     "delete_cmd_prefix": "del ",
     "library": "var_list.py",
     "varRefreshCmd": "print(var_dic_list())"
    },
    "r": {
     "delete_cmd_postfix": ") ",
     "delete_cmd_prefix": "rm(",
     "library": "var_list.r",
     "varRefreshCmd": "cat(var_dic_list()) "
    }
   },
   "types_to_exclude": [
    "module",
    "function",
    "builtin_function_or_method",
    "instance",
    "_Feature"
   ],
   "window_display": false
  }
 },
 "nbformat": 4,
 "nbformat_minor": 4
}
