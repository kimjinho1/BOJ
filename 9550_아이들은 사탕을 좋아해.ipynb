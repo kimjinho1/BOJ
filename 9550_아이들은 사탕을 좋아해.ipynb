{
 "cells": [
  {
   "cell_type": "code",
   "execution_count": 5,
   "metadata": {},
   "outputs": [
    {
     "name": "stdout",
     "output_type": "stream",
     "text": [
      "2 \n",
      "3 2 \n",
      "4 5 7\n",
      "7\n",
      "3 8\n",
      "4 5 7\n",
      "0\n"
     ]
    }
   ],
   "source": [
    "for i in range(int(input())):\n",
    "    N, K = map(int, input().split())\n",
    "    li = list(map(int, input().split()))\n",
    "    ans = 0\n",
    "    for i in li:\n",
    "        ans += i//K\n",
    "    print(ans)"
   ]
  },
  {
   "cell_type": "code",
   "execution_count": null,
   "metadata": {},
   "outputs": [],
   "source": []
  }
 ],
 "metadata": {
  "kernelspec": {
   "display_name": "Python 3",
   "language": "python",
   "name": "python3"
  },
  "language_info": {
   "codemirror_mode": {
    "name": "ipython",
    "version": 3
   },
   "file_extension": ".py",
   "mimetype": "text/x-python",
   "name": "python",
   "nbconvert_exporter": "python",
   "pygments_lexer": "ipython3",
   "version": "3.6.8"
  }
 },
 "nbformat": 4,
 "nbformat_minor": 2
}
