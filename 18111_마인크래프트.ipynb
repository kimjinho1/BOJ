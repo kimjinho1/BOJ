{
 "cells": [
  {
   "cell_type": "code",
   "execution_count": null,
   "metadata": {
    "ExecuteTime": {
     "end_time": "2021-03-05T11:20:11.588860Z",
     "start_time": "2021-03-05T11:20:11.341514Z"
    }
   },
   "outputs": [],
   "source": [
    "import sys\n",
    "\n",
    "N, M, B = map(int, sys.stdin.readline().split())\n",
    "li = [list(map(int, sys.stdin.readline().split())) for _ in range(N)]\n",
    "time, height = 9223372036854775807, 0\n",
    "for h in range(257):\n",
    "    bot = top = 0\n",
    "    for i in range(N):\n",
    "        for j in range(M):\n",
    "            if li[i][j] < h:\n",
    "                bot += h-li[i][j]\n",
    "            else:\n",
    "                top += li[i][j]-h\n",
    "    if bot > top + B:\n",
    "        continue\n",
    "    t = bot + top*2\n",
    "    if t <= time:\n",
    "        time = t\n",
    "        height = h\n",
    "print(time, height)"
   ]
  },
  {
   "cell_type": "code",
   "execution_count": 1,
   "metadata": {
    "ExecuteTime": {
     "end_time": "2021-03-05T11:19:28.541244Z",
     "start_time": "2021-03-05T11:19:23.932670Z"
    }
   },
   "outputs": [
    {
     "name": "stdout",
     "output_type": "stream",
     "text": [
      "3 4 99\n",
      "0 0 0 0\n",
      "0 0 0 0\n",
      "0 0 0 1\n",
      "2 0\n"
     ]
    }
   ],
   "source": [
    "N, M, B = map(int, input().split())\n",
    "li = [list(map(int, input().split())) for _ in range(N)]\n",
    "time, height = 9223372036854775807, 0\n",
    "for h in range(257):\n",
    "    bot = top = 0\n",
    "    for i in range(N):\n",
    "        for j in range(M):\n",
    "            if li[i][j] < h:\n",
    "                bot += h-li[i][j]\n",
    "            else:\n",
    "                top += li[i][j]-h\n",
    "    if bot > top + B:\n",
    "        continue\n",
    "    t = bot + top*2\n",
    "    if t <= time:\n",
    "        time = t\n",
    "        height = h\n",
    "print(time, height)"
   ]
  },
  {
   "cell_type": "code",
   "execution_count": 2,
   "metadata": {
    "ExecuteTime": {
     "end_time": "2021-03-05T11:19:38.493736Z",
     "start_time": "2021-03-05T11:19:32.223696Z"
    }
   },
   "outputs": [
    {
     "name": "stdout",
     "output_type": "stream",
     "text": [
      "3 4 1\n",
      "64 64 64 64\n",
      "64 64 64 64\n",
      "64 64 64 63\n",
      "1 64\n"
     ]
    }
   ],
   "source": [
    "N, M, B = map(int, input().split())\n",
    "li = [list(map(int, input().split())) for _ in range(N)]\n",
    "time, height = 9223372036854775807, 0\n",
    "for h in range(257):\n",
    "    bot = top = 0\n",
    "    for i in range(N):\n",
    "        for j in range(M):\n",
    "            if li[i][j] < h:\n",
    "                bot += h-li[i][j]\n",
    "            else:\n",
    "                top += li[i][j]-h\n",
    "    if bot > top + B:\n",
    "        continue\n",
    "    t = bot + top*2\n",
    "    if t <= time:\n",
    "        time = t\n",
    "        height = h\n",
    "print(time, height)"
   ]
  },
  {
   "cell_type": "code",
   "execution_count": null,
   "metadata": {},
   "outputs": [],
   "source": []
  }
 ],
 "metadata": {
  "kernelspec": {
   "display_name": "Python 3",
   "language": "python",
   "name": "python3"
  },
  "language_info": {
   "codemirror_mode": {
    "name": "ipython",
    "version": 3
   },
   "file_extension": ".py",
   "mimetype": "text/x-python",
   "name": "python",
   "nbconvert_exporter": "python",
   "pygments_lexer": "ipython3",
   "version": "3.8.5"
  },
  "toc": {
   "base_numbering": 1,
   "nav_menu": {},
   "number_sections": true,
   "sideBar": true,
   "skip_h1_title": false,
   "title_cell": "Table of Contents",
   "title_sidebar": "Contents",
   "toc_cell": false,
   "toc_position": {},
   "toc_section_display": true,
   "toc_window_display": false
  },
  "varInspector": {
   "cols": {
    "lenName": 16,
    "lenType": 16,
    "lenVar": 40
   },
   "kernels_config": {
    "python": {
     "delete_cmd_postfix": "",
     "delete_cmd_prefix": "del ",
     "library": "var_list.py",
     "varRefreshCmd": "print(var_dic_list())"
    },
    "r": {
     "delete_cmd_postfix": ") ",
     "delete_cmd_prefix": "rm(",
     "library": "var_list.r",
     "varRefreshCmd": "cat(var_dic_list()) "
    }
   },
   "types_to_exclude": [
    "module",
    "function",
    "builtin_function_or_method",
    "instance",
    "_Feature"
   ],
   "window_display": false
  }
 },
 "nbformat": 4,
 "nbformat_minor": 4
}
