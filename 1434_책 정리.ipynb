{
 "cells": [
  {
   "cell_type": "code",
   "execution_count": 13,
   "id": "suited-employer",
   "metadata": {
    "ExecuteTime": {
     "end_time": "2021-02-15T21:27:48.304359Z",
     "start_time": "2021-02-15T21:27:46.020300Z"
    }
   },
   "outputs": [
    {
     "name": "stdout",
     "output_type": "stream",
     "text": [
      "3 3\n",
      "5 5 5\n",
      "5 5 5\n",
      "0\n"
     ]
    }
   ],
   "source": [
    "N, M = map(int, input().split())\n",
    "box = list(map(int, input().split()))\n",
    "book = list(map(int, input().split()))\n",
    "i = j = t = in_box = 0\n",
    "while i < N and j < M:\n",
    "    if box[i] < t+book[j]:\n",
    "        t = 0\n",
    "        i += 1\n",
    "    else:\n",
    "        in_box += book[j]\n",
    "        t += book[j]\n",
    "        j += 1\n",
    "print(sum(box)-in_box)    "
   ]
  },
  {
   "cell_type": "code",
   "execution_count": 14,
   "id": "vocal-league",
   "metadata": {
    "ExecuteTime": {
     "end_time": "2021-02-15T21:27:54.233746Z",
     "start_time": "2021-02-15T21:27:50.966534Z"
    }
   },
   "outputs": [
    {
     "name": "stdout",
     "output_type": "stream",
     "text": [
      "3 3\n",
      "5 6 7\n",
      "5 5 5\n",
      "3\n"
     ]
    }
   ],
   "source": [
    "N, M = map(int, input().split())\n",
    "box = list(map(int, input().split()))\n",
    "book = list(map(int, input().split()))\n",
    "i = j = t = in_box = 0\n",
    "while i < N and j < M:\n",
    "    if box[i] < t+book[j]:\n",
    "        t = 0\n",
    "        i += 1\n",
    "    else:\n",
    "        in_box += book[j]\n",
    "        t += book[j]\n",
    "        j += 1\n",
    "print(sum(box)-in_box)    "
   ]
  },
  {
   "cell_type": "code",
   "execution_count": 15,
   "id": "seven-going",
   "metadata": {
    "ExecuteTime": {
     "end_time": "2021-02-15T21:28:01.043412Z",
     "start_time": "2021-02-15T21:27:59.285368Z"
    }
   },
   "outputs": [
    {
     "name": "stdout",
     "output_type": "stream",
     "text": [
      "3 1\n",
      "2 3 5\n",
      "3\n",
      "7\n"
     ]
    }
   ],
   "source": [
    "N, M = map(int, input().split())\n",
    "box = list(map(int, input().split()))\n",
    "book = list(map(int, input().split()))\n",
    "i = j = t = in_box = 0\n",
    "while i < N and j < M:\n",
    "    if box[i] < t+book[j]:\n",
    "        t = 0\n",
    "        i += 1\n",
    "    else:\n",
    "        in_box += book[j]\n",
    "        t += book[j]\n",
    "        j += 1\n",
    "print(sum(box)-in_box)    "
   ]
  },
  {
   "cell_type": "code",
   "execution_count": 12,
   "id": "sonic-socket",
   "metadata": {
    "ExecuteTime": {
     "end_time": "2021-02-15T21:27:13.788256Z",
     "start_time": "2021-02-15T21:27:10.355032Z"
    }
   },
   "outputs": [
    {
     "name": "stdout",
     "output_type": "stream",
     "text": [
      "4 5\n",
      "3 4 5 6\n",
      "3 3 3 3 3\n",
      "3\n"
     ]
    }
   ],
   "source": [
    "N, M = map(int, input().split())\n",
    "box = list(map(int, input().split()))\n",
    "book = list(map(int, input().split()))\n",
    "i = j = t = in_box = 0\n",
    "while i < N and j < M:\n",
    "    if box[i] < t+book[j]:\n",
    "        t = 0\n",
    "        i += 1\n",
    "    else:\n",
    "        in_box += book[j]\n",
    "        t += book[j]\n",
    "        j += 1\n",
    "print(sum(box)-in_box)    "
   ]
  },
  {
   "cell_type": "code",
   "execution_count": null,
   "id": "criminal-japan",
   "metadata": {},
   "outputs": [],
   "source": []
  }
 ],
 "metadata": {
  "kernelspec": {
   "display_name": "Python 3",
   "language": "python",
   "name": "python3"
  },
  "language_info": {
   "codemirror_mode": {
    "name": "ipython",
    "version": 3
   },
   "file_extension": ".py",
   "mimetype": "text/x-python",
   "name": "python",
   "nbconvert_exporter": "python",
   "pygments_lexer": "ipython3",
   "version": "3.7.9"
  },
  "toc": {
   "base_numbering": 1,
   "nav_menu": {},
   "number_sections": true,
   "sideBar": true,
   "skip_h1_title": false,
   "title_cell": "Table of Contents",
   "title_sidebar": "Contents",
   "toc_cell": false,
   "toc_position": {},
   "toc_section_display": true,
   "toc_window_display": false
  },
  "varInspector": {
   "cols": {
    "lenName": 16,
    "lenType": 16,
    "lenVar": 40
   },
   "kernels_config": {
    "python": {
     "delete_cmd_postfix": "",
     "delete_cmd_prefix": "del ",
     "library": "var_list.py",
     "varRefreshCmd": "print(var_dic_list())"
    },
    "r": {
     "delete_cmd_postfix": ") ",
     "delete_cmd_prefix": "rm(",
     "library": "var_list.r",
     "varRefreshCmd": "cat(var_dic_list()) "
    }
   },
   "types_to_exclude": [
    "module",
    "function",
    "builtin_function_or_method",
    "instance",
    "_Feature"
   ],
   "window_display": false
  }
 },
 "nbformat": 4,
 "nbformat_minor": 5
}
