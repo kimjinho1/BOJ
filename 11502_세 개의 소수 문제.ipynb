{
 "cells": [
  {
   "cell_type": "code",
   "execution_count": 2,
   "metadata": {
    "ExecuteTime": {
     "end_time": "2021-03-23T07:10:47.413049Z",
     "start_time": "2021-03-23T07:10:44.532114Z"
    }
   },
   "outputs": [
    {
     "name": "stdout",
     "output_type": "stream",
     "text": [
      "3\n",
      "7\n",
      "2 2 3\n",
      "11\n",
      "2 2 7\n",
      "25\n",
      "3 3 19\n"
     ]
    }
   ],
   "source": [
    "def f(K, prime):\n",
    "    for i in prime:\n",
    "        for j in prime:\n",
    "            for k in prime:\n",
    "                if i+j+k == K:\n",
    "                    print(i, j, k)\n",
    "                    return ;\n",
    "    print(0)\n",
    "\n",
    "li = [1]*1001\n",
    "for i in range(2, int(1000**0.5)+1):\n",
    "    if li[i]:\n",
    "        for j in range(i+i, 1001, i):\n",
    "            li[j] = 0\n",
    "prime = [i for i in range(2, 1001) if li[i]]\n",
    "\n",
    "for _ in range(int(input())):\n",
    "    K = int(input())\n",
    "    f(K, prime)"
   ]
  },
  {
   "cell_type": "code",
   "execution_count": null,
   "metadata": {},
   "outputs": [],
   "source": []
  }
 ],
 "metadata": {
  "kernelspec": {
   "display_name": "Python 3",
   "language": "python",
   "name": "python3"
  },
  "language_info": {
   "codemirror_mode": {
    "name": "ipython",
    "version": 3
   },
   "file_extension": ".py",
   "mimetype": "text/x-python",
   "name": "python",
   "nbconvert_exporter": "python",
   "pygments_lexer": "ipython3",
   "version": "3.8.5"
  },
  "toc": {
   "base_numbering": 1,
   "nav_menu": {},
   "number_sections": true,
   "sideBar": true,
   "skip_h1_title": false,
   "title_cell": "Table of Contents",
   "title_sidebar": "Contents",
   "toc_cell": false,
   "toc_position": {},
   "toc_section_display": true,
   "toc_window_display": false
  },
  "varInspector": {
   "cols": {
    "lenName": 16,
    "lenType": 16,
    "lenVar": 40
   },
   "kernels_config": {
    "python": {
     "delete_cmd_postfix": "",
     "delete_cmd_prefix": "del ",
     "library": "var_list.py",
     "varRefreshCmd": "print(var_dic_list())"
    },
    "r": {
     "delete_cmd_postfix": ") ",
     "delete_cmd_prefix": "rm(",
     "library": "var_list.r",
     "varRefreshCmd": "cat(var_dic_list()) "
    }
   },
   "types_to_exclude": [
    "module",
    "function",
    "builtin_function_or_method",
    "instance",
    "_Feature"
   ],
   "window_display": false
  }
 },
 "nbformat": 4,
 "nbformat_minor": 4
}
