{
 "cells": [
  {
   "cell_type": "code",
   "execution_count": 4,
   "id": "verified-welcome",
   "metadata": {
    "ExecuteTime": {
     "end_time": "2021-02-09T10:33:57.231305Z",
     "start_time": "2021-02-09T10:33:55.569569Z"
    }
   },
   "outputs": [
    {
     "name": "stdout",
     "output_type": "stream",
     "text": [
      "0/5/3\n",
      "hasu\n"
     ]
    }
   ],
   "source": [
    "K, D, A = map(int, input().split('/'))\n",
    "print(\"hasu\" if K+A < D or D == 0 else \"gosu\")"
   ]
  },
  {
   "cell_type": "code",
   "execution_count": 1,
   "id": "lasting-arthritis",
   "metadata": {
    "ExecuteTime": {
     "end_time": "2021-02-09T10:32:39.900111Z",
     "start_time": "2021-02-09T10:32:33.076040Z"
    }
   },
   "outputs": [
    {
     "name": "stdout",
     "output_type": "stream",
     "text": [
      "0/5/3\n",
      "hasu\n"
     ]
    }
   ],
   "source": [
    "K, D, A = map(int, input().split('/'))\n",
    "if K+A < D or D == 0:\n",
    "    print(\"hasu\")\n",
    "else:\n",
    "    print(\"gosu\")"
   ]
  },
  {
   "cell_type": "code",
   "execution_count": 2,
   "id": "dated-hughes",
   "metadata": {
    "ExecuteTime": {
     "end_time": "2021-02-09T10:32:50.060673Z",
     "start_time": "2021-02-09T10:32:49.689149Z"
    }
   },
   "outputs": [
    {
     "name": "stdout",
     "output_type": "stream",
     "text": [
      "12/4/5\n",
      "gosu\n"
     ]
    }
   ],
   "source": [
    "K, D, A = map(int, input().split('/'))\n",
    "if K+A < D or D == 0:\n",
    "    print(\"hasu\")\n",
    "else:\n",
    "    print(\"gosu\")"
   ]
  },
  {
   "cell_type": "code",
   "execution_count": 3,
   "id": "chinese-palmer",
   "metadata": {
    "ExecuteTime": {
     "end_time": "2021-02-09T10:32:55.448175Z",
     "start_time": "2021-02-09T10:32:55.086143Z"
    }
   },
   "outputs": [
    {
     "name": "stdout",
     "output_type": "stream",
     "text": [
      "0/0/1\n",
      "hasu\n"
     ]
    }
   ],
   "source": [
    "K, D, A = map(int, input().split('/'))\n",
    "if K+A < D or D == 0:\n",
    "    print(\"hasu\")\n",
    "else:\n",
    "    print(\"gosu\")"
   ]
  },
  {
   "cell_type": "code",
   "execution_count": null,
   "id": "strategic-integrity",
   "metadata": {},
   "outputs": [],
   "source": []
  }
 ],
 "metadata": {
  "kernelspec": {
   "display_name": "Python 3",
   "language": "python",
   "name": "python3"
  },
  "language_info": {
   "codemirror_mode": {
    "name": "ipython",
    "version": 3
   },
   "file_extension": ".py",
   "mimetype": "text/x-python",
   "name": "python",
   "nbconvert_exporter": "python",
   "pygments_lexer": "ipython3",
   "version": "3.7.9"
  },
  "toc": {
   "base_numbering": 1,
   "nav_menu": {},
   "number_sections": true,
   "sideBar": true,
   "skip_h1_title": false,
   "title_cell": "Table of Contents",
   "title_sidebar": "Contents",
   "toc_cell": false,
   "toc_position": {},
   "toc_section_display": true,
   "toc_window_display": false
  },
  "varInspector": {
   "cols": {
    "lenName": 16,
    "lenType": 16,
    "lenVar": 40
   },
   "kernels_config": {
    "python": {
     "delete_cmd_postfix": "",
     "delete_cmd_prefix": "del ",
     "library": "var_list.py",
     "varRefreshCmd": "print(var_dic_list())"
    },
    "r": {
     "delete_cmd_postfix": ") ",
     "delete_cmd_prefix": "rm(",
     "library": "var_list.r",
     "varRefreshCmd": "cat(var_dic_list()) "
    }
   },
   "types_to_exclude": [
    "module",
    "function",
    "builtin_function_or_method",
    "instance",
    "_Feature"
   ],
   "window_display": false
  }
 },
 "nbformat": 4,
 "nbformat_minor": 5
}
