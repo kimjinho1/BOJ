{
 "cells": [
  {
   "cell_type": "code",
   "execution_count": 4,
   "id": "orange-bargain",
   "metadata": {
    "ExecuteTime": {
     "end_time": "2021-02-10T07:28:09.927935Z",
     "start_time": "2021-02-10T07:28:08.066652Z"
    }
   },
   "outputs": [
    {
     "name": "stdout",
     "output_type": "stream",
     "text": [
      "143 11\n",
      "GOOD\n"
     ]
    }
   ],
   "source": [
    "L, K = map(int, input().split())\n",
    "m = L\n",
    "for n in range(2, int(L**0.5)+1):\n",
    "    if L%n == 0:\n",
    "        if n < m:\n",
    "            m = n\n",
    "        if min(n, L//n) < K:\n",
    "            break\n",
    "print(\"GOOD\" if m >= K else f\"BAD {m}\")"
   ]
  },
  {
   "cell_type": "code",
   "execution_count": 5,
   "id": "basic-speaker",
   "metadata": {
    "ExecuteTime": {
     "end_time": "2021-02-10T07:28:13.970767Z",
     "start_time": "2021-02-10T07:28:12.665892Z"
    }
   },
   "outputs": [
    {
     "name": "stdout",
     "output_type": "stream",
     "text": [
      "143 12\n",
      "BAD 11\n"
     ]
    }
   ],
   "source": [
    "L, K = map(int, input().split())\n",
    "m = L\n",
    "for n in range(2, int(L**0.5)+1):\n",
    "    if L%n == 0:\n",
    "        if n < m:\n",
    "            m = n\n",
    "        if min(n, L//n) < K:\n",
    "            break\n",
    "print(\"GOOD\" if m >= K else f\"BAD {m}\")"
   ]
  },
  {
   "cell_type": "code",
   "execution_count": null,
   "id": "helpful-davis",
   "metadata": {},
   "outputs": [],
   "source": []
  }
 ],
 "metadata": {
  "kernelspec": {
   "display_name": "Python 3",
   "language": "python",
   "name": "python3"
  },
  "language_info": {
   "codemirror_mode": {
    "name": "ipython",
    "version": 3
   },
   "file_extension": ".py",
   "mimetype": "text/x-python",
   "name": "python",
   "nbconvert_exporter": "python",
   "pygments_lexer": "ipython3",
   "version": "3.7.9"
  },
  "toc": {
   "base_numbering": 1,
   "nav_menu": {},
   "number_sections": true,
   "sideBar": true,
   "skip_h1_title": false,
   "title_cell": "Table of Contents",
   "title_sidebar": "Contents",
   "toc_cell": false,
   "toc_position": {},
   "toc_section_display": true,
   "toc_window_display": false
  },
  "varInspector": {
   "cols": {
    "lenName": 16,
    "lenType": 16,
    "lenVar": 40
   },
   "kernels_config": {
    "python": {
     "delete_cmd_postfix": "",
     "delete_cmd_prefix": "del ",
     "library": "var_list.py",
     "varRefreshCmd": "print(var_dic_list())"
    },
    "r": {
     "delete_cmd_postfix": ") ",
     "delete_cmd_prefix": "rm(",
     "library": "var_list.r",
     "varRefreshCmd": "cat(var_dic_list()) "
    }
   },
   "types_to_exclude": [
    "module",
    "function",
    "builtin_function_or_method",
    "instance",
    "_Feature"
   ],
   "window_display": false
  }
 },
 "nbformat": 4,
 "nbformat_minor": 5
}
