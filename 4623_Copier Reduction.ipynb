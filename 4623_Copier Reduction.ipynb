{
 "cells": [
  {
   "cell_type": "code",
   "execution_count": 23,
   "id": "unlimited-accordance",
   "metadata": {
    "ExecuteTime": {
     "end_time": "2021-02-13T10:28:57.098445Z",
     "start_time": "2021-02-13T10:28:40.655063Z"
    }
   },
   "outputs": [
    {
     "name": "stdout",
     "output_type": "stream",
     "text": [
      "560 400 218 280\n",
      "50%\n",
      "10 25 88 10\n",
      "100%\n",
      "8 13 5 1\n",
      "12%\n",
      "9 13 10 6\n",
      "66%\n",
      "199 333 40 2\n",
      "1%\n",
      "75 90 218 280\n",
      "100%\n",
      "999 99 1 10\n",
      "1%\n",
      "0 0 0 0\n"
     ]
    }
   ],
   "source": [
    "while 1:\n",
    "    A, B, C, D = map(int, input().split())\n",
    "    if A == B == C == D == 0:\n",
    "        break\n",
    "    if A < B: \n",
    "        A, B = B, A\n",
    "    if C < D: \n",
    "        C, D = D, C\n",
    "    s, e = 1, 100\n",
    "\n",
    "    while s <= e:\n",
    "        mid = (s + e) // 2\n",
    "        a, b = A*mid/100, B*mid/100\n",
    "        ok = 0 if a > C or b > D else 1\n",
    "        if ok: \n",
    "            s = mid+1\n",
    "            ans = mid\n",
    "        else: \n",
    "            e = mid-1\n",
    "    print(f\"{ans}%\")"
   ]
  },
  {
   "cell_type": "code",
   "execution_count": 18,
   "id": "third-serbia",
   "metadata": {
    "ExecuteTime": {
     "end_time": "2021-02-13T10:16:31.101381Z",
     "start_time": "2021-02-13T10:15:54.933746Z"
    }
   },
   "outputs": [
    {
     "name": "stdout",
     "output_type": "stream",
     "text": [
      "560 400 218 280\n",
      "50%\n",
      "10 25 88 10\n",
      "100%\n",
      "8 13 5 1\n",
      "12%\n",
      "9 13 10 6\n",
      "66%\n",
      "199 333 40 2\n",
      "1%\n",
      "75 90 218 280\n",
      "100%\n",
      "999 99 1 10\n",
      "1%\n",
      "0 0 0 0\n"
     ]
    }
   ],
   "source": [
    "while 1:\n",
    "    A, B, C, D = map(int, input().split())\n",
    "    if A == B == C == D == 0:\n",
    "        break\n",
    "    s1 = max(A, B)/max(C, D)\n",
    "    s2 = min(A, B)/min(C, D)\n",
    "    s = max(s1, s2)\n",
    "    if s < 1:\n",
    "        res = 100\n",
    "    elif s > 100:\n",
    "        res = 1\n",
    "    else:\n",
    "        res = int(100//s)\n",
    "    print(f\"{res}%\")"
   ]
  },
  {
   "cell_type": "code",
   "execution_count": null,
   "id": "speaking-proportion",
   "metadata": {},
   "outputs": [],
   "source": []
  }
 ],
 "metadata": {
  "kernelspec": {
   "display_name": "Python 3",
   "language": "python",
   "name": "python3"
  },
  "language_info": {
   "codemirror_mode": {
    "name": "ipython",
    "version": 3
   },
   "file_extension": ".py",
   "mimetype": "text/x-python",
   "name": "python",
   "nbconvert_exporter": "python",
   "pygments_lexer": "ipython3",
   "version": "3.7.9"
  },
  "toc": {
   "base_numbering": 1,
   "nav_menu": {},
   "number_sections": true,
   "sideBar": true,
   "skip_h1_title": false,
   "title_cell": "Table of Contents",
   "title_sidebar": "Contents",
   "toc_cell": false,
   "toc_position": {},
   "toc_section_display": true,
   "toc_window_display": false
  },
  "varInspector": {
   "cols": {
    "lenName": 16,
    "lenType": 16,
    "lenVar": 40
   },
   "kernels_config": {
    "python": {
     "delete_cmd_postfix": "",
     "delete_cmd_prefix": "del ",
     "library": "var_list.py",
     "varRefreshCmd": "print(var_dic_list())"
    },
    "r": {
     "delete_cmd_postfix": ") ",
     "delete_cmd_prefix": "rm(",
     "library": "var_list.r",
     "varRefreshCmd": "cat(var_dic_list()) "
    }
   },
   "types_to_exclude": [
    "module",
    "function",
    "builtin_function_or_method",
    "instance",
    "_Feature"
   ],
   "window_display": false
  }
 },
 "nbformat": 4,
 "nbformat_minor": 5
}
