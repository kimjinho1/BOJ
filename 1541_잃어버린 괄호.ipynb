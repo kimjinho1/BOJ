{
 "cells": [
  {
   "cell_type": "code",
   "execution_count": 28,
   "metadata": {},
   "outputs": [
    {
     "name": "stdout",
     "output_type": "stream",
     "text": [
      "55-50+40\n",
      "-35\n"
     ]
    }
   ],
   "source": [
    "ex = input()\n",
    "li = []\n",
    "f = 0\n",
    "ans = 0\n",
    "check = 0\n",
    "for i in range(len(ex)):\n",
    "    if ex[i] in '+-':\n",
    "        li.append(int(ex[f:i]))\n",
    "        f = i\n",
    "li.append(int(ex[f:]))\n",
    "for n in li:\n",
    "    if str(n)[0] == '-':\n",
    "        check = 1\n",
    "        ans += n\n",
    "    elif str(n)[0] != '-' and check == 1:\n",
    "        ans -= n\n",
    "    else:\n",
    "        ans += n\n",
    "        check = 0\n",
    "print(ans)"
   ]
  },
  {
   "cell_type": "code",
   "execution_count": null,
   "metadata": {},
   "outputs": [],
   "source": []
  }
 ],
 "metadata": {
  "kernelspec": {
   "display_name": "Python 3",
   "language": "python",
   "name": "python3"
  },
  "language_info": {
   "codemirror_mode": {
    "name": "ipython",
    "version": 3
   },
   "file_extension": ".py",
   "mimetype": "text/x-python",
   "name": "python",
   "nbconvert_exporter": "python",
   "pygments_lexer": "ipython3",
   "version": "3.6.8"
  }
 },
 "nbformat": 4,
 "nbformat_minor": 2
}
