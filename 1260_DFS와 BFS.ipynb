{
 "cells": [
  {
   "cell_type": "code",
   "execution_count": 29,
   "metadata": {
    "ExecuteTime": {
     "end_time": "2021-03-09T11:09:44.050986Z",
     "start_time": "2021-03-09T11:09:31.166537Z"
    },
    "scrolled": true
   },
   "outputs": [
    {
     "name": "stdout",
     "output_type": "stream",
     "text": [
      "4 5 1\n",
      "1 2\n",
      "1 3\n",
      "1 4\n",
      "2 4\n",
      "3 4\n",
      "1 2 4 3 \n",
      "1 2 3 4 "
     ]
    }
   ],
   "source": [
    "from collections import deque\n",
    "\n",
    "def dfs(node):\n",
    "    if check[node] == 0:\n",
    "        print(node, end=' ')\n",
    "        check[node] = 1\n",
    "        for n in sorted(li[node]):\n",
    "            dfs(n)\n",
    "\n",
    "def bfs(start):\n",
    "    queue = deque([start])\n",
    "    while queue:\n",
    "        node = queue.popleft()\n",
    "        print(node, end=' ')\n",
    "        check[node] = 1\n",
    "        for n in sorted(li[node]):\n",
    "            if check[n] == 0:\n",
    "                queue.append(n)\n",
    "                check[n] = 1 \n",
    "\n",
    "N, M, V = map(int, input().split())\n",
    "li = [[] for _ in range(N+1)]\n",
    "for _ in range(M):\n",
    "    a, b = map(int, input().split())\n",
    "    li[a].append(b)\n",
    "    li[b].append(a)\n",
    "check = [0]*(N+1)\n",
    "dfs(V)\n",
    "print()\n",
    "check = [0]*(N+1)\n",
    "bfs(V)"
   ]
  },
  {
   "cell_type": "code",
   "execution_count": 30,
   "metadata": {
    "ExecuteTime": {
     "end_time": "2021-03-09T11:09:53.814227Z",
     "start_time": "2021-03-09T11:09:48.806683Z"
    },
    "code_folding": []
   },
   "outputs": [
    {
     "name": "stdout",
     "output_type": "stream",
     "text": [
      "5 5 3\n",
      "5 4\n",
      "5 2\n",
      "1 2\n",
      "3 4\n",
      "3 1\n",
      "3 1 2 5 4 \n",
      "3 1 4 2 5 "
     ]
    }
   ],
   "source": [
    "from collections import deque\n",
    "\n",
    "def dfs(node):\n",
    "    if check[node] == 0:\n",
    "        print(node, end=' ')\n",
    "        check[node] = 1\n",
    "        for n in sorted(li[node]):\n",
    "            dfs(n)\n",
    "\n",
    "def bfs(start):\n",
    "    queue = deque([start])\n",
    "    while queue:\n",
    "        node = queue.popleft()\n",
    "        print(node, end=' ')\n",
    "        check[node] = 1\n",
    "        for n in sorted(li[node]):\n",
    "            if check[n] == 0:\n",
    "                queue.append(n)\n",
    "                check[n] = 1 \n",
    "\n",
    "N, M, V = map(int, input().split())\n",
    "li = [[] for _ in range(N+1)]\n",
    "for _ in range(M):\n",
    "    a, b = map(int, input().split())\n",
    "    li[a].append(b)\n",
    "    li[b].append(a)\n",
    "check = [0]*(N+1)\n",
    "dfs(V)\n",
    "print()\n",
    "check = [0]*(N+1)\n",
    "bfs(V)"
   ]
  },
  {
   "cell_type": "code",
   "execution_count": 31,
   "metadata": {
    "ExecuteTime": {
     "end_time": "2021-03-09T11:10:00.965784Z",
     "start_time": "2021-03-09T11:09:56.261559Z"
    },
    "scrolled": true
   },
   "outputs": [
    {
     "name": "stdout",
     "output_type": "stream",
     "text": [
      "1000 1 1000\n",
      "999 1000\n",
      "1000 999 \n",
      "1000 999 "
     ]
    }
   ],
   "source": [
    "from collections import deque\n",
    "\n",
    "def dfs(node):\n",
    "    if check[node] == 0:\n",
    "        print(node, end=' ')\n",
    "        check[node] = 1\n",
    "        for n in sorted(li[node]):\n",
    "            dfs(n)\n",
    "\n",
    "def bfs(start):\n",
    "    queue = deque([start])\n",
    "    while queue:\n",
    "        node = queue.popleft()\n",
    "        print(node, end=' ')\n",
    "        check[node] = 1\n",
    "        for n in sorted(li[node]):\n",
    "            if check[n] == 0:\n",
    "                queue.append(n)\n",
    "                check[n] = 1 \n",
    "\n",
    "N, M, V = map(int, input().split())\n",
    "li = [[] for _ in range(N+1)]\n",
    "for _ in range(M):\n",
    "    a, b = map(int, input().split())\n",
    "    li[a].append(b)\n",
    "    li[b].append(a)\n",
    "check = [0]*(N+1)\n",
    "dfs(V)\n",
    "print()\n",
    "check = [0]*(N+1)\n",
    "bfs(V)"
   ]
  },
  {
   "cell_type": "code",
   "execution_count": null,
   "metadata": {},
   "outputs": [],
   "source": []
  }
 ],
 "metadata": {
  "kernelspec": {
   "display_name": "Python 3",
   "language": "python",
   "name": "python3"
  },
  "language_info": {
   "codemirror_mode": {
    "name": "ipython",
    "version": 3
   },
   "file_extension": ".py",
   "mimetype": "text/x-python",
   "name": "python",
   "nbconvert_exporter": "python",
   "pygments_lexer": "ipython3",
   "version": "3.8.5"
  },
  "toc": {
   "base_numbering": 1,
   "nav_menu": {},
   "number_sections": true,
   "sideBar": true,
   "skip_h1_title": false,
   "title_cell": "Table of Contents",
   "title_sidebar": "Contents",
   "toc_cell": false,
   "toc_position": {},
   "toc_section_display": true,
   "toc_window_display": false
  },
  "varInspector": {
   "cols": {
    "lenName": 16,
    "lenType": 16,
    "lenVar": 40
   },
   "kernels_config": {
    "python": {
     "delete_cmd_postfix": "",
     "delete_cmd_prefix": "del ",
     "library": "var_list.py",
     "varRefreshCmd": "print(var_dic_list())"
    },
    "r": {
     "delete_cmd_postfix": ") ",
     "delete_cmd_prefix": "rm(",
     "library": "var_list.r",
     "varRefreshCmd": "cat(var_dic_list()) "
    }
   },
   "types_to_exclude": [
    "module",
    "function",
    "builtin_function_or_method",
    "instance",
    "_Feature"
   ],
   "window_display": false
  }
 },
 "nbformat": 4,
 "nbformat_minor": 4
}
