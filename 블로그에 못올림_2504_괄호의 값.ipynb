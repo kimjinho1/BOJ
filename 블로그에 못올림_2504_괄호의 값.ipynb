{
 "cells": [
  {
   "cell_type": "code",
   "execution_count": null,
   "metadata": {},
   "outputs": [],
   "source": [
    "X = input()\n",
    "\n",
    "chk_brackets = ('(', '[')\n",
    "stack = []\n",
    "#print(X)\n",
    "\n",
    "def loop(IN_X):\n",
    "    if len(IN_X) > 30:\n",
    "        return 0\n",
    "    value = 0\n",
    "    count = 0\n",
    "    for x in IN_X:\n",
    "        if count == 0 and x not in chk_brackets:\n",
    "            return 0\n",
    "        if x in chk_brackets:\n",
    "            stack.append(x)\n",
    "        else:\n",
    "            if len(stack) > 0:\n",
    "                pop_bracket = stack.pop()\n",
    "                if pop_bracket == '(' and x == ')':\n",
    "                    stack.append(2)\n",
    "                elif pop_bracket == '[' and x == ']':\n",
    "                    stack.append(3)\n",
    "                else:\n",
    "                    stack.append(pop_bracket)\n",
    "                    while True:\n",
    "                        if len(stack) > 0:\n",
    "                            v = stack.pop()\n",
    "                            if isinstance(v, int):\n",
    "                                value += v\n",
    "                            else:\n",
    "                                if v == '(' and x == ')':\n",
    "                                    value *= 2\n",
    "                                elif v =='[' and x == ']':\n",
    "                                    value *= 3\n",
    "                                else:\n",
    "                                    return 0\n",
    "                                stack.append(value)\n",
    "                                break\n",
    "                        else:\n",
    "                            return 0\n",
    "                    value = 0\n",
    "        #print(x)\n",
    "        #print(stack)\n",
    "        count += 1\n",
    "    value = 0\n",
    "    if len(stack) > 0:\n",
    "        for s in stack:\n",
    "            if isinstance(s, str):\n",
    "                return 0\n",
    "            else:\n",
    "                value+=s\n",
    "    return value\n",
    "\n",
    "print(loop(X))"
   ]
  }
 ],
 "metadata": {
  "kernelspec": {
   "display_name": "Python 3",
   "language": "python",
   "name": "python3"
  },
  "language_info": {
   "codemirror_mode": {
    "name": "ipython",
    "version": 3
   },
   "file_extension": ".py",
   "mimetype": "text/x-python",
   "name": "python",
   "nbconvert_exporter": "python",
   "pygments_lexer": "ipython3",
   "version": "3.6.8"
  }
 },
 "nbformat": 4,
 "nbformat_minor": 2
}
