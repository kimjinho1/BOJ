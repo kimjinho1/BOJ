{
 "cells": [
  {
   "cell_type": "code",
   "execution_count": 9,
   "metadata": {},
   "outputs": [
    {
     "name": "stdout",
     "output_type": "stream",
     "text": [
      "7\n",
      "pop\n",
      "-1\n",
      "top\n",
      "-1\n",
      "push 123\n",
      "top\n",
      "123\n",
      "pop\n",
      "123\n",
      "top\n",
      "-1\n",
      "pop\n",
      "-1\n"
     ]
    }
   ],
   "source": [
    "class Stack:\n",
    "    def __init__(self):\n",
    "        self.len = 0\n",
    "        self.li = []\n",
    "    \n",
    "    def push(self, n):\n",
    "        self.li.append(n)\n",
    "    \n",
    "    def pop(self):\n",
    "        if len(self.li) > 0:\n",
    "            return self.li.pop(-1)\n",
    "        else:\n",
    "            return -1\n",
    "    \n",
    "    def size(self):\n",
    "        return len(self.li)\n",
    "    \n",
    "    def empty(self):\n",
    "        if len(self.li) == 0:\n",
    "            return 1\n",
    "        else:\n",
    "            return 0\n",
    "    \n",
    "    def top(self):\n",
    "        if len(self.li) > 0:\n",
    "            return self.li[-1]\n",
    "        else:\n",
    "            return -1\n",
    "        \n",
    "stack = Stack()\n",
    "for _ in range(int(input())):\n",
    "    ins = input().split()\n",
    "    if ins[0] == 'push':\n",
    "        stack.push(ins[1])\n",
    "    elif ins[0] == 'pop':\n",
    "        print(stack.pop())\n",
    "    elif ins[0] == 'size':\n",
    "        print(stack.size())\n",
    "    elif ins[0] == 'empty':\n",
    "        print(stack.empty())\n",
    "    elif ins[0] == 'top':\n",
    "        print(stack.top())"
   ]
  },
  {
   "cell_type": "code",
   "execution_count": null,
   "metadata": {},
   "outputs": [],
   "source": []
  }
 ],
 "metadata": {
  "kernelspec": {
   "display_name": "Python 3",
   "language": "python",
   "name": "python3"
  },
  "language_info": {
   "codemirror_mode": {
    "name": "ipython",
    "version": 3
   },
   "file_extension": ".py",
   "mimetype": "text/x-python",
   "name": "python",
   "nbconvert_exporter": "python",
   "pygments_lexer": "ipython3",
   "version": "3.6.8"
  }
 },
 "nbformat": 4,
 "nbformat_minor": 2
}
