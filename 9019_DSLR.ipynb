{
 "cells": [
  {
   "cell_type": "code",
   "execution_count": 2,
   "metadata": {
    "ExecuteTime": {
     "end_time": "2021-03-18T03:25:50.589905Z",
     "start_time": "2021-03-18T03:25:43.752054Z"
    }
   },
   "outputs": [
    {
     "name": "stdout",
     "output_type": "stream",
     "text": [
      "3\n",
      "1234 3412\n",
      "LL\n",
      "1000 1\n",
      "L\n",
      "1 16\n",
      "DDDD\n"
     ]
    }
   ],
   "source": [
    "from collections import deque\n",
    "\n",
    "def bfs(A, B):\n",
    "    q = deque()\n",
    "    q.append((A, \"\"))\n",
    "    while q:\n",
    "        n, res = q.popleft()\n",
    "        D = n*2 % 10000\n",
    "        if D == B: return res+'D'\n",
    "        elif check[D] == 0:\n",
    "            check[D] = 1\n",
    "            q.append((D, res+'D'))\n",
    "        S = n-1 if n > 0 else 9999\n",
    "        if S == B: return res+'S'\n",
    "        elif check[S] == 0:\n",
    "            check[S] = 1\n",
    "            q.append((S, res+'S'))\n",
    "        L = (n%1000)*10 + n//1000\n",
    "        if L == B: return res+'L'\n",
    "        elif check[L] == 0:\n",
    "            check[L] = 1\n",
    "            q.append((L, res+'L'))\n",
    "        R = (n%10)*1000 + n//10\n",
    "        if R == B: return res+'R'\n",
    "        elif check[R] == 0:\n",
    "            check[R] = 1\n",
    "            q.append((R, res+'R'))\n",
    "\n",
    "for _ in range(int(input())):\n",
    "    A, B = map(int, input().split())\n",
    "    check = [0]*10000\n",
    "    print(bfs(A, B))"
   ]
  },
  {
   "cell_type": "code",
   "execution_count": null,
   "metadata": {},
   "outputs": [],
   "source": []
  }
 ],
 "metadata": {
  "kernelspec": {
   "display_name": "Python 3",
   "language": "python",
   "name": "python3"
  },
  "language_info": {
   "codemirror_mode": {
    "name": "ipython",
    "version": 3
   },
   "file_extension": ".py",
   "mimetype": "text/x-python",
   "name": "python",
   "nbconvert_exporter": "python",
   "pygments_lexer": "ipython3",
   "version": "3.8.5"
  },
  "toc": {
   "base_numbering": 1,
   "nav_menu": {},
   "number_sections": true,
   "sideBar": true,
   "skip_h1_title": false,
   "title_cell": "Table of Contents",
   "title_sidebar": "Contents",
   "toc_cell": false,
   "toc_position": {},
   "toc_section_display": true,
   "toc_window_display": false
  },
  "varInspector": {
   "cols": {
    "lenName": 16,
    "lenType": 16,
    "lenVar": 40
   },
   "kernels_config": {
    "python": {
     "delete_cmd_postfix": "",
     "delete_cmd_prefix": "del ",
     "library": "var_list.py",
     "varRefreshCmd": "print(var_dic_list())"
    },
    "r": {
     "delete_cmd_postfix": ") ",
     "delete_cmd_prefix": "rm(",
     "library": "var_list.r",
     "varRefreshCmd": "cat(var_dic_list()) "
    }
   },
   "types_to_exclude": [
    "module",
    "function",
    "builtin_function_or_method",
    "instance",
    "_Feature"
   ],
   "window_display": false
  }
 },
 "nbformat": 4,
 "nbformat_minor": 4
}
