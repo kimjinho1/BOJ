{
 "cells": [
  {
   "cell_type": "code",
   "execution_count": 32,
   "metadata": {
    "ExecuteTime": {
     "end_time": "2021-03-13T16:54:00.863216Z",
     "start_time": "2021-03-13T16:53:49.516488Z"
    },
    "scrolled": true
   },
   "outputs": [
    {
     "name": "stdout",
     "output_type": "stream",
     "text": [
      "6 6\n",
      "..S...\n",
      "..S.W.\n",
      ".S....\n",
      "..W...\n",
      "...W..\n",
      "......\n",
      "1\n",
      "..S.D.\n",
      "..SDWD\n",
      ".SD.D.\n",
      ".DWD..\n",
      "..DWD.\n",
      "...D..\n"
     ]
    }
   ],
   "source": [
    "from collections import deque\n",
    "\n",
    "def bfs(y, x):\n",
    "    for dy, dx in d:\n",
    "        Y, X = y+dy, x+dx\n",
    "        if (0 <= Y < R) and (0 <= X < C):\n",
    "            if graph[Y][X] == 'S':\n",
    "                return False\n",
    "            if graph[Y][X] == '.':\n",
    "                graph[Y][X] = 'D'\n",
    "    return True\n",
    "\n",
    "R, C = map(int, input().split())\n",
    "graph = [list(input()) for _ in range(R)]\n",
    "d = [(-1, 0), (1, 0), (0, -1), (0, 1)]\n",
    "for i in range(R):\n",
    "    for j in range(C):\n",
    "        t = True\n",
    "        if graph[i][j] == 'W':\n",
    "            t = bfs(i, j)\n",
    "            if t == False:\n",
    "                print(0)\n",
    "                break\n",
    "if t:\n",
    "    print(1)\n",
    "    for line in graph:\n",
    "        print(''.join(line))"
   ]
  },
  {
   "cell_type": "code",
   "execution_count": 31,
   "metadata": {
    "ExecuteTime": {
     "end_time": "2021-03-13T16:53:35.791357Z",
     "start_time": "2021-03-13T16:53:33.831252Z"
    }
   },
   "outputs": [
    {
     "name": "stdout",
     "output_type": "stream",
     "text": [
      "1 2\n",
      "SW\n",
      "0\n"
     ]
    }
   ],
   "source": [
    "from collections import deque\n",
    "\n",
    "def bfs(y, x):\n",
    "    for dy, dx in d:\n",
    "        Y, X = y+dy, x+dx\n",
    "        if (0 <= Y < R) and (0 <= X < C):\n",
    "            if graph[Y][X] == 'S':\n",
    "                return False\n",
    "            if graph[Y][X] == '.':\n",
    "                graph[Y][X] = 'D'\n",
    "    return True\n",
    "\n",
    "R, C = map(int, input().split())\n",
    "graph = [list(input()) for _ in range(R)]\n",
    "d = [(-1, 0), (1, 0), (0, -1), (0, 1)]\n",
    "for i in range(R):\n",
    "    for j in range(C):\n",
    "        t = True\n",
    "        if graph[i][j] == 'W':\n",
    "            t = bfs(i, j)\n",
    "            if t == False:\n",
    "                print(0)\n",
    "                break\n",
    "if t:\n",
    "    print(1)\n",
    "    for line in graph:\n",
    "        print(''.join(line))"
   ]
  },
  {
   "cell_type": "code",
   "execution_count": 30,
   "metadata": {
    "ExecuteTime": {
     "end_time": "2021-03-13T16:52:21.627323Z",
     "start_time": "2021-03-13T16:52:14.720020Z"
    }
   },
   "outputs": [
    {
     "name": "stdout",
     "output_type": "stream",
     "text": [
      "5 5\n",
      ".S...\n",
      "...S.\n",
      "S....\n",
      "...S.\n",
      ".S...\n",
      "1\n",
      ".S...\n",
      "...S.\n",
      "S....\n",
      "...S.\n",
      ".S...\n"
     ]
    }
   ],
   "source": [
    "from collections import deque\n",
    "\n",
    "def bfs(y, x):\n",
    "    for dy, dx in d:\n",
    "        Y, X = y+dy, x+dx\n",
    "        if (0 <= Y < R) and (0 <= X < C):\n",
    "            if graph[Y][X] == 'S':\n",
    "                return False\n",
    "            if graph[Y][X] == '.':\n",
    "                graph[Y][X] = 'D'\n",
    "    return True\n",
    "\n",
    "R, C = map(int, input().split())\n",
    "graph = [list(input()) for _ in range(R)]\n",
    "d = [(-1, 0), (1, 0), (0, -1), (0, 1)]\n",
    "for i in range(R):\n",
    "    for j in range(C):\n",
    "        t = True\n",
    "        if graph[i][j] == 'W':\n",
    "            t = bfs(i, j)\n",
    "            if t == False:\n",
    "                print(0)\n",
    "                break\n",
    "if t:\n",
    "    print(1)\n",
    "    for line in graph:\n",
    "        print(''.join(line))"
   ]
  },
  {
   "cell_type": "code",
   "execution_count": null,
   "metadata": {},
   "outputs": [],
   "source": []
  }
 ],
 "metadata": {
  "kernelspec": {
   "display_name": "Python 3",
   "language": "python",
   "name": "python3"
  },
  "language_info": {
   "codemirror_mode": {
    "name": "ipython",
    "version": 3
   },
   "file_extension": ".py",
   "mimetype": "text/x-python",
   "name": "python",
   "nbconvert_exporter": "python",
   "pygments_lexer": "ipython3",
   "version": "3.8.5"
  },
  "toc": {
   "base_numbering": 1,
   "nav_menu": {},
   "number_sections": true,
   "sideBar": true,
   "skip_h1_title": false,
   "title_cell": "Table of Contents",
   "title_sidebar": "Contents",
   "toc_cell": false,
   "toc_position": {},
   "toc_section_display": true,
   "toc_window_display": false
  },
  "varInspector": {
   "cols": {
    "lenName": 16,
    "lenType": 16,
    "lenVar": 40
   },
   "kernels_config": {
    "python": {
     "delete_cmd_postfix": "",
     "delete_cmd_prefix": "del ",
     "library": "var_list.py",
     "varRefreshCmd": "print(var_dic_list())"
    },
    "r": {
     "delete_cmd_postfix": ") ",
     "delete_cmd_prefix": "rm(",
     "library": "var_list.r",
     "varRefreshCmd": "cat(var_dic_list()) "
    }
   },
   "types_to_exclude": [
    "module",
    "function",
    "builtin_function_or_method",
    "instance",
    "_Feature"
   ],
   "window_display": false
  }
 },
 "nbformat": 4,
 "nbformat_minor": 4
}
