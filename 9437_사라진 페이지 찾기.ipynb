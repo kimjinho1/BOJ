{
 "cells": [
  {
   "cell_type": "code",
   "execution_count": 4,
   "id": "aggregate-feature",
   "metadata": {
    "ExecuteTime": {
     "end_time": "2021-02-20T11:43:47.046782Z",
     "start_time": "2021-02-20T11:43:42.888181Z"
    }
   },
   "outputs": [
    {
     "name": "stdout",
     "output_type": "stream",
     "text": [
      "12 2\n",
      "1 11 12\n",
      "12 9\n",
      "3 4 10\n",
      "8 3\n",
      "4 5 6\n",
      "0\n"
     ]
    }
   ],
   "source": [
    "while 1:\n",
    "    t = list(map(int, input().split()))\n",
    "    if t == [0]:\n",
    "        break\n",
    "    for i in range(t[0]//4):\n",
    "        li = [2*i+1, 2*i+2, t[0]-2*i-1, t[0]-2*i]\n",
    "        if t[1] in li:\n",
    "            li.remove(t[1])\n",
    "            print(*li)"
   ]
  },
  {
   "cell_type": "code",
   "execution_count": null,
   "id": "adapted-stake",
   "metadata": {},
   "outputs": [],
   "source": []
  }
 ],
 "metadata": {
  "kernelspec": {
   "display_name": "Python 3",
   "language": "python",
   "name": "python3"
  },
  "language_info": {
   "codemirror_mode": {
    "name": "ipython",
    "version": 3
   },
   "file_extension": ".py",
   "mimetype": "text/x-python",
   "name": "python",
   "nbconvert_exporter": "python",
   "pygments_lexer": "ipython3",
   "version": "3.7.9"
  },
  "toc": {
   "base_numbering": 1,
   "nav_menu": {},
   "number_sections": true,
   "sideBar": true,
   "skip_h1_title": false,
   "title_cell": "Table of Contents",
   "title_sidebar": "Contents",
   "toc_cell": false,
   "toc_position": {},
   "toc_section_display": true,
   "toc_window_display": false
  },
  "varInspector": {
   "cols": {
    "lenName": 16,
    "lenType": 16,
    "lenVar": 40
   },
   "kernels_config": {
    "python": {
     "delete_cmd_postfix": "",
     "delete_cmd_prefix": "del ",
     "library": "var_list.py",
     "varRefreshCmd": "print(var_dic_list())"
    },
    "r": {
     "delete_cmd_postfix": ") ",
     "delete_cmd_prefix": "rm(",
     "library": "var_list.r",
     "varRefreshCmd": "cat(var_dic_list()) "
    }
   },
   "types_to_exclude": [
    "module",
    "function",
    "builtin_function_or_method",
    "instance",
    "_Feature"
   ],
   "window_display": false
  }
 },
 "nbformat": 4,
 "nbformat_minor": 5
}
