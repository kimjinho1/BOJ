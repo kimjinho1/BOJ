{
 "cells": [
  {
   "cell_type": "markdown",
   "metadata": {},
   "source": [
    "# 이진 탐색"
   ]
  },
  {
   "cell_type": "code",
   "execution_count": 20,
   "metadata": {
    "ExecuteTime": {
     "end_time": "2021-01-27T16:10:33.327809Z",
     "start_time": "2021-01-27T16:10:33.318062Z"
    }
   },
   "outputs": [],
   "source": [
    "def binarySearch(li, n):\n",
    "    s, e = 0, len(li)-1\n",
    "    while s <= e:\n",
    "        m = (s + e) // 2 \n",
    "        if li[m] == n:\n",
    "            return li[s:e+1].count(n)\n",
    "        if n > li[m]:\n",
    "            s = m + 1\n",
    "        else:\n",
    "            e = m - 1\n",
    "    return 0"
   ]
  },
  {
   "cell_type": "code",
   "execution_count": 21,
   "metadata": {
    "ExecuteTime": {
     "end_time": "2021-01-27T16:10:43.813750Z",
     "start_time": "2021-01-27T16:10:33.543320Z"
    }
   },
   "outputs": [
    {
     "name": "stdout",
     "output_type": "stream",
     "text": [
      "10\n",
      "6 3 2 10 10 10 -10 -10 7 3\n",
      "8\n",
      "10 9 -5 2 3 4 5 -10\n",
      "3 0 0 1 2 0 0 2\n"
     ]
    }
   ],
   "source": [
    "N = int(input())\n",
    "li1 = sorted(map(int, input().split()))\n",
    "M = int(input())\n",
    "li2 = list(map(int, input().split()))\n",
    "result = []\n",
    "\n",
    "for n in li2:\n",
    "    result.append(binarySearch(li1, n))\n",
    "print(*result)"
   ]
  },
  {
   "cell_type": "code",
   "execution_count": 38,
   "metadata": {
    "ExecuteTime": {
     "end_time": "2021-01-27T16:33:58.147312Z",
     "start_time": "2021-01-27T16:33:51.395148Z"
    }
   },
   "outputs": [
    {
     "name": "stdout",
     "output_type": "stream",
     "text": [
      "10\n",
      "6 3 2 10 10 10 -10 -10 7 3\n",
      "8\n",
      "10 9 -5 2 3 4 5 -10\n",
      "3 0 0 1 2 0 0 2\n"
     ]
    }
   ],
   "source": [
    "N = int(input())\n",
    "li1 = sorted(map(int, input().split()))\n",
    "M = int(input())\n",
    "li2 = list(map(int, input().split()))\n",
    "\n",
    "d = {}\n",
    "for n in li1:\n",
    "    if n not in d:\n",
    "        d[n] = binarySearch(li1, n)\n",
    "        \n",
    "print(' '.join(str(d[m]) if m in d else '0' for m in li2))"
   ]
  },
  {
   "cell_type": "markdown",
   "metadata": {},
   "source": [
    "# 딕셔너리"
   ]
  },
  {
   "cell_type": "code",
   "execution_count": 19,
   "metadata": {
    "ExecuteTime": {
     "end_time": "2021-01-27T16:07:48.301596Z",
     "start_time": "2021-01-27T16:07:40.910087Z"
    }
   },
   "outputs": [
    {
     "name": "stdout",
     "output_type": "stream",
     "text": [
      "10\n",
      "6 3 2 10 10 10 -10 -10 7 3\n",
      "8\n",
      "10 9 -5 2 3 4 5 -10\n",
      "3 0 0 1 2 0 0 2\n"
     ]
    }
   ],
   "source": [
    "N = int(input())\n",
    "li1 = list(map(int, input().split()))\n",
    "M = int(input())\n",
    "li2 = list(map(int, input().split()))\n",
    "d = {}\n",
    "\n",
    "for n in li1:\n",
    "    d[n] = d.get(n, 0) + 1\n",
    "print(' '.join(str(d[m]) if m in d else '0' for m in li2))"
   ]
  }
 ],
 "metadata": {
  "kernelspec": {
   "display_name": "Python 3",
   "language": "python",
   "name": "python3"
  },
  "language_info": {
   "codemirror_mode": {
    "name": "ipython",
    "version": 3
   },
   "file_extension": ".py",
   "mimetype": "text/x-python",
   "name": "python",
   "nbconvert_exporter": "python",
   "pygments_lexer": "ipython3",
   "version": "3.7.9"
  },
  "toc": {
   "base_numbering": 1,
   "nav_menu": {},
   "number_sections": true,
   "sideBar": true,
   "skip_h1_title": false,
   "title_cell": "Table of Contents",
   "title_sidebar": "Contents",
   "toc_cell": false,
   "toc_position": {},
   "toc_section_display": true,
   "toc_window_display": false
  },
  "varInspector": {
   "cols": {
    "lenName": 16,
    "lenType": 16,
    "lenVar": 40
   },
   "kernels_config": {
    "python": {
     "delete_cmd_postfix": "",
     "delete_cmd_prefix": "del ",
     "library": "var_list.py",
     "varRefreshCmd": "print(var_dic_list())"
    },
    "r": {
     "delete_cmd_postfix": ") ",
     "delete_cmd_prefix": "rm(",
     "library": "var_list.r",
     "varRefreshCmd": "cat(var_dic_list()) "
    }
   },
   "types_to_exclude": [
    "module",
    "function",
    "builtin_function_or_method",
    "instance",
    "_Feature"
   ],
   "window_display": false
  }
 },
 "nbformat": 4,
 "nbformat_minor": 4
}
