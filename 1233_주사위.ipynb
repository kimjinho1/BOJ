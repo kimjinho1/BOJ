{
 "cells": [
  {
   "cell_type": "code",
   "execution_count": 21,
   "id": "judicial-johnston",
   "metadata": {
    "ExecuteTime": {
     "end_time": "2021-02-15T19:41:11.858523Z",
     "start_time": "2021-02-15T19:41:10.513911Z"
    }
   },
   "outputs": [
    {
     "name": "stdout",
     "output_type": "stream",
     "text": [
      "3 2 3\n",
      "5\n"
     ]
    }
   ],
   "source": [
    "s1, s2, s3 = map(int, input().split())\n",
    "d = {}\n",
    "for i in range(1, s1+1):\n",
    "    for j in range(1, s2+1):\n",
    "        for k in range(1, s3+1):\n",
    "            d[i+j+k] = d.get(i+j+k, 0) + 1\n",
    "li = sorted(d.items(), key=lambda x:x[0])\n",
    "li = sorted(li, key=lambda x:x[1], reverse=True)\n",
    "print(li[0][0])"
   ]
  },
  {
   "cell_type": "code",
   "execution_count": 24,
   "id": "bottom-green",
   "metadata": {
    "ExecuteTime": {
     "end_time": "2021-02-15T19:43:05.829328Z",
     "start_time": "2021-02-15T19:43:04.782102Z"
    }
   },
   "outputs": [
    {
     "name": "stdout",
     "output_type": "stream",
     "text": [
      "3 2 3\n",
      "5\n"
     ]
    }
   ],
   "source": [
    "s1, s2, s3 = map(int, input().split())\n",
    "li = [0]*81\n",
    "for i in range(1, s1+1):\n",
    "    for j in range(1, s2+1):\n",
    "        for k in range(1, s3+1):\n",
    "            li[i+j+k] += 1\n",
    "print(li.index(max(li)))"
   ]
  },
  {
   "cell_type": "code",
   "execution_count": null,
   "id": "talented-briefing",
   "metadata": {},
   "outputs": [],
   "source": []
  }
 ],
 "metadata": {
  "kernelspec": {
   "display_name": "Python 3",
   "language": "python",
   "name": "python3"
  },
  "language_info": {
   "codemirror_mode": {
    "name": "ipython",
    "version": 3
   },
   "file_extension": ".py",
   "mimetype": "text/x-python",
   "name": "python",
   "nbconvert_exporter": "python",
   "pygments_lexer": "ipython3",
   "version": "3.7.9"
  },
  "toc": {
   "base_numbering": 1,
   "nav_menu": {},
   "number_sections": true,
   "sideBar": true,
   "skip_h1_title": false,
   "title_cell": "Table of Contents",
   "title_sidebar": "Contents",
   "toc_cell": false,
   "toc_position": {},
   "toc_section_display": true,
   "toc_window_display": false
  },
  "varInspector": {
   "cols": {
    "lenName": 16,
    "lenType": 16,
    "lenVar": 40
   },
   "kernels_config": {
    "python": {
     "delete_cmd_postfix": "",
     "delete_cmd_prefix": "del ",
     "library": "var_list.py",
     "varRefreshCmd": "print(var_dic_list())"
    },
    "r": {
     "delete_cmd_postfix": ") ",
     "delete_cmd_prefix": "rm(",
     "library": "var_list.r",
     "varRefreshCmd": "cat(var_dic_list()) "
    }
   },
   "types_to_exclude": [
    "module",
    "function",
    "builtin_function_or_method",
    "instance",
    "_Feature"
   ],
   "window_display": false
  }
 },
 "nbformat": 4,
 "nbformat_minor": 5
}
