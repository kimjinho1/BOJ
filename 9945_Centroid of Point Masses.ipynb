{
 "cells": [
  {
   "cell_type": "code",
   "execution_count": 4,
   "id": "veterinary-recommendation",
   "metadata": {
    "ExecuteTime": {
     "end_time": "2021-02-21T18:23:10.676840Z",
     "start_time": "2021-02-21T18:22:53.947235Z"
    }
   },
   "outputs": [
    {
     "name": "stdout",
     "output_type": "stream",
     "text": [
      "3\n",
      "1 1 10\n",
      "22 1 10\n",
      "1 31 10\n",
      "Case 1: 8.00 11.00\n",
      "\n",
      "3\n",
      "10 10 100\n",
      "20 20 50\n",
      "10 40 30\n",
      "Case 2: 12.78 17.78\n",
      "\n",
      "-4\n"
     ]
    }
   ],
   "source": [
    "i = 1\n",
    "while 1:\n",
    "    n = int(input())\n",
    "    if n < 0:\n",
    "        break\n",
    "    X = Y = M = 0\n",
    "    for _ in range(n):\n",
    "        x, y, m = map(int, input().split())\n",
    "        X += x*m; Y += y*m; M += m\n",
    "    print(\"Case %d: %.2f %.2f\" % (i, X/M, Y/M))\n",
    "    i += 1\n",
    "    t = input()"
   ]
  },
  {
   "cell_type": "code",
   "execution_count": null,
   "id": "scientific-cincinnati",
   "metadata": {},
   "outputs": [],
   "source": []
  }
 ],
 "metadata": {
  "kernelspec": {
   "display_name": "Python 3",
   "language": "python",
   "name": "python3"
  },
  "language_info": {
   "codemirror_mode": {
    "name": "ipython",
    "version": 3
   },
   "file_extension": ".py",
   "mimetype": "text/x-python",
   "name": "python",
   "nbconvert_exporter": "python",
   "pygments_lexer": "ipython3",
   "version": "3.7.9"
  },
  "toc": {
   "base_numbering": 1,
   "nav_menu": {},
   "number_sections": true,
   "sideBar": true,
   "skip_h1_title": false,
   "title_cell": "Table of Contents",
   "title_sidebar": "Contents",
   "toc_cell": false,
   "toc_position": {},
   "toc_section_display": true,
   "toc_window_display": false
  },
  "varInspector": {
   "cols": {
    "lenName": 16,
    "lenType": 16,
    "lenVar": 40
   },
   "kernels_config": {
    "python": {
     "delete_cmd_postfix": "",
     "delete_cmd_prefix": "del ",
     "library": "var_list.py",
     "varRefreshCmd": "print(var_dic_list())"
    },
    "r": {
     "delete_cmd_postfix": ") ",
     "delete_cmd_prefix": "rm(",
     "library": "var_list.r",
     "varRefreshCmd": "cat(var_dic_list()) "
    }
   },
   "types_to_exclude": [
    "module",
    "function",
    "builtin_function_or_method",
    "instance",
    "_Feature"
   ],
   "window_display": false
  }
 },
 "nbformat": 4,
 "nbformat_minor": 5
}
