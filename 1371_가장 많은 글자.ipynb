{
 "cells": [
  {
   "cell_type": "code",
   "execution_count": null,
   "id": "together-sculpture",
   "metadata": {},
   "outputs": [],
   "source": [
    "import sys\n",
    "\n",
    "s = sys.stdin.read()\n",
    "li = [0]*26\n",
    "for c in s:\n",
    "    if c.islower():\n",
    "        li[ord(c)-97] += 1\n",
    "for i in range(26):\n",
    "    if li[i] == max(li):\n",
    "        print(chr(97+i), end='')"
   ]
  },
  {
   "cell_type": "code",
   "execution_count": 15,
   "id": "documentary-arthur",
   "metadata": {
    "ExecuteTime": {
     "end_time": "2021-02-15T20:26:46.263171Z",
     "start_time": "2021-02-15T20:26:46.252210Z"
    }
   },
   "outputs": [
    {
     "name": "stdout",
     "output_type": "stream",
     "text": [
      "a"
     ]
    }
   ],
   "source": [
    "import sys\n",
    "\n",
    "f = open(\"input.txt\")\n",
    "lines = f.readlines()\n",
    "li = [0]*26\n",
    "for line in lines:\n",
    "    for c in line:\n",
    "        if ord(c) < 97 or ord(c) > 122:\n",
    "            continue\n",
    "        li[ord(c)-97] += 1\n",
    "for i in range(26):\n",
    "    if li[i] == max(li):\n",
    "        print(chr(97+i), end='')"
   ]
  },
  {
   "cell_type": "code",
   "execution_count": null,
   "id": "every-textbook",
   "metadata": {},
   "outputs": [],
   "source": []
  }
 ],
 "metadata": {
  "kernelspec": {
   "display_name": "Python 3",
   "language": "python",
   "name": "python3"
  },
  "language_info": {
   "codemirror_mode": {
    "name": "ipython",
    "version": 3
   },
   "file_extension": ".py",
   "mimetype": "text/x-python",
   "name": "python",
   "nbconvert_exporter": "python",
   "pygments_lexer": "ipython3",
   "version": "3.7.9"
  },
  "toc": {
   "base_numbering": 1,
   "nav_menu": {},
   "number_sections": true,
   "sideBar": true,
   "skip_h1_title": false,
   "title_cell": "Table of Contents",
   "title_sidebar": "Contents",
   "toc_cell": false,
   "toc_position": {},
   "toc_section_display": true,
   "toc_window_display": false
  },
  "varInspector": {
   "cols": {
    "lenName": 16,
    "lenType": 16,
    "lenVar": 40
   },
   "kernels_config": {
    "python": {
     "delete_cmd_postfix": "",
     "delete_cmd_prefix": "del ",
     "library": "var_list.py",
     "varRefreshCmd": "print(var_dic_list())"
    },
    "r": {
     "delete_cmd_postfix": ") ",
     "delete_cmd_prefix": "rm(",
     "library": "var_list.r",
     "varRefreshCmd": "cat(var_dic_list()) "
    }
   },
   "types_to_exclude": [
    "module",
    "function",
    "builtin_function_or_method",
    "instance",
    "_Feature"
   ],
   "window_display": false
  }
 },
 "nbformat": 4,
 "nbformat_minor": 5
}
