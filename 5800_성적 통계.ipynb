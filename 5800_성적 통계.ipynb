{
 "cells": [
  {
   "cell_type": "code",
   "execution_count": 16,
   "id": "basic-immunology",
   "metadata": {
    "ExecuteTime": {
     "end_time": "2021-02-22T19:13:40.229728Z",
     "start_time": "2021-02-22T19:13:37.326494Z"
    }
   },
   "outputs": [
    {
     "name": "stdout",
     "output_type": "stream",
     "text": [
      "2\n",
      "5 30 25 76 23 78\n",
      "Class 1\n",
      "Max 78, Min 23, Largest gap 46\n",
      "6 25 50 70 99 70 90\n",
      "Class 2\n",
      "Max 99, Min 25, Largest gap 25\n"
     ]
    }
   ],
   "source": [
    "for case in range(int(input())):\n",
    "    t = list(map(int, input().split()))\n",
    "    n, li = t[0], sorted(t[1:])\n",
    "    Min = li[0]; Max = li[-1]\n",
    "    g = max([li[i+1]-li[i] for i in range(n-1)])\n",
    "    print(\"Class\", case+1)\n",
    "    print(f\"Max {Max}, Min {Min}, Largest gap {g}\")"
   ]
  },
  {
   "cell_type": "code",
   "execution_count": null,
   "id": "scenic-submission",
   "metadata": {},
   "outputs": [],
   "source": []
  }
 ],
 "metadata": {
  "kernelspec": {
   "display_name": "Python 3",
   "language": "python",
   "name": "python3"
  },
  "language_info": {
   "codemirror_mode": {
    "name": "ipython",
    "version": 3
   },
   "file_extension": ".py",
   "mimetype": "text/x-python",
   "name": "python",
   "nbconvert_exporter": "python",
   "pygments_lexer": "ipython3",
   "version": "3.7.9"
  },
  "toc": {
   "base_numbering": 1,
   "nav_menu": {},
   "number_sections": true,
   "sideBar": true,
   "skip_h1_title": false,
   "title_cell": "Table of Contents",
   "title_sidebar": "Contents",
   "toc_cell": false,
   "toc_position": {},
   "toc_section_display": true,
   "toc_window_display": false
  },
  "varInspector": {
   "cols": {
    "lenName": 16,
    "lenType": 16,
    "lenVar": 40
   },
   "kernels_config": {
    "python": {
     "delete_cmd_postfix": "",
     "delete_cmd_prefix": "del ",
     "library": "var_list.py",
     "varRefreshCmd": "print(var_dic_list())"
    },
    "r": {
     "delete_cmd_postfix": ") ",
     "delete_cmd_prefix": "rm(",
     "library": "var_list.r",
     "varRefreshCmd": "cat(var_dic_list()) "
    }
   },
   "types_to_exclude": [
    "module",
    "function",
    "builtin_function_or_method",
    "instance",
    "_Feature"
   ],
   "window_display": false
  }
 },
 "nbformat": 4,
 "nbformat_minor": 5
}
