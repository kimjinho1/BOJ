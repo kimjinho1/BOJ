{
 "cells": [
  {
   "cell_type": "code",
   "execution_count": 32,
   "metadata": {
    "ExecuteTime": {
     "end_time": "2021-03-14T10:20:03.090046Z",
     "start_time": "2021-03-14T10:19:48.796635Z"
    }
   },
   "outputs": [
    {
     "name": "stdout",
     "output_type": "stream",
     "text": [
      "6 16\n",
      "................\n",
      "..XXXX....XXX...\n",
      "...XXXX....XX...\n",
      ".XXXX......XXX..\n",
      "........XXXXX...\n",
      ".........XXX....\n",
      "3\n"
     ]
    }
   ],
   "source": [
    "from collections import deque\n",
    "from copy import deepcopy\n",
    "\n",
    "def bfs(y, x, n):\n",
    "    q = deque()\n",
    "    q.append((y, x))\n",
    "    graph[y][x] = n\n",
    "    while q:\n",
    "        y, x = q.popleft()\n",
    "        for dy, dx in d:\n",
    "            Y, X = y+dy, x+dx\n",
    "            if (0 <= Y < N) and (0 <= X < M) and graph[Y][X] == 'X':\n",
    "                q.append((Y, X))\n",
    "                graph[Y][X] = n\n",
    "                \n",
    "def bfs2(y, x):\n",
    "    q = deque()\n",
    "    q.append((y, x))\n",
    "    a[y][x] = 0\n",
    "    while q:\n",
    "        y, x = q.popleft()\n",
    "        for dy, dx in d:\n",
    "            Y, X = y+dy, x+dx\n",
    "            if (0 <= Y < N) and (0 <= X < M):\n",
    "                if a[Y][X] == '2':\n",
    "                    return a[y][x]\n",
    "                if a[Y][X] == '.':\n",
    "                    q.append((Y, X))\n",
    "                    a[Y][X] = a[y][x]+1\n",
    "    return -1\n",
    "\n",
    "N, M = map(int, input().split())\n",
    "graph = [list(input()) for _ in range(N)]\n",
    "d = [(-1, 0), (1, 0), (0, -1), (0, 1)]\n",
    "cnt = 1\n",
    "for i in range(N):\n",
    "    for j in range(M):\n",
    "        if graph[i][j] == 'X':\n",
    "            bfs(i, j, str(cnt))\n",
    "            cnt += 1\n",
    "res = N*M\n",
    "for i in range(N):\n",
    "    for j in range(M):\n",
    "        if graph[i][j] == '1':\n",
    "            a = deepcopy(graph)\n",
    "            t = bfs2(i, j)\n",
    "            if t > -1:\n",
    "                res = min(res, t)\n",
    "print(res)"
   ]
  },
  {
   "cell_type": "code",
   "execution_count": null,
   "metadata": {},
   "outputs": [],
   "source": []
  }
 ],
 "metadata": {
  "kernelspec": {
   "display_name": "Python 3",
   "language": "python",
   "name": "python3"
  },
  "language_info": {
   "codemirror_mode": {
    "name": "ipython",
    "version": 3
   },
   "file_extension": ".py",
   "mimetype": "text/x-python",
   "name": "python",
   "nbconvert_exporter": "python",
   "pygments_lexer": "ipython3",
   "version": "3.8.5"
  },
  "toc": {
   "base_numbering": 1,
   "nav_menu": {},
   "number_sections": true,
   "sideBar": true,
   "skip_h1_title": false,
   "title_cell": "Table of Contents",
   "title_sidebar": "Contents",
   "toc_cell": false,
   "toc_position": {},
   "toc_section_display": true,
   "toc_window_display": false
  },
  "varInspector": {
   "cols": {
    "lenName": 16,
    "lenType": 16,
    "lenVar": 40
   },
   "kernels_config": {
    "python": {
     "delete_cmd_postfix": "",
     "delete_cmd_prefix": "del ",
     "library": "var_list.py",
     "varRefreshCmd": "print(var_dic_list())"
    },
    "r": {
     "delete_cmd_postfix": ") ",
     "delete_cmd_prefix": "rm(",
     "library": "var_list.r",
     "varRefreshCmd": "cat(var_dic_list()) "
    }
   },
   "types_to_exclude": [
    "module",
    "function",
    "builtin_function_or_method",
    "instance",
    "_Feature"
   ],
   "window_display": false
  }
 },
 "nbformat": 4,
 "nbformat_minor": 4
}
