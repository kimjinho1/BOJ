{
 "cells": [
  {
   "cell_type": "code",
   "execution_count": 9,
   "metadata": {
    "ExecuteTime": {
     "end_time": "2021-03-09T18:07:06.505531Z",
     "start_time": "2021-03-09T18:07:02.320438Z"
    },
    "scrolled": true
   },
   "outputs": [
    {
     "name": "stdout",
     "output_type": "stream",
     "text": [
      "3 4 5\n",
      "3 2\n",
      "2 2\n",
      "3 1\n",
      "2 3\n",
      "1 1\n",
      "4\n"
     ]
    }
   ],
   "source": [
    "from collections import deque\n",
    "\n",
    "def bfs(i, j):\n",
    "    queue = deque()\n",
    "    queue.append((i, j))\n",
    "    d = [(-1, 0), (1, 0), (0, -1), (0, 1)]\n",
    "    cnt = 1\n",
    "    while queue:\n",
    "        y, x = queue.popleft()\n",
    "        for dy, dx in d:\n",
    "            Y, X = y+dy, x+dx\n",
    "            if (0 <= Y < N) and (0 <= X < M) and graph[Y][X] == 1:\n",
    "                queue.append((Y, X))\n",
    "                graph[Y][X] = 0\n",
    "                cnt += 1\n",
    "    return cnt\n",
    "            \n",
    "N, M, K = map(int, input().split())\n",
    "graph = [[0]*M for _ in range(N)]\n",
    "for _ in range(K):\n",
    "    y, x = map(int, input().split())\n",
    "    graph[y-1][x-1] = 1\n",
    "res = []\n",
    "for i in range(N):\n",
    "    for j in range(M):\n",
    "        if graph[i][j] == 1:\n",
    "            graph[i][j] = 0\n",
    "            res.append(bfs(i, j))\n",
    "print(max(res))"
   ]
  },
  {
   "cell_type": "code",
   "execution_count": 20,
   "metadata": {
    "ExecuteTime": {
     "end_time": "2021-03-09T18:16:51.737075Z",
     "start_time": "2021-03-09T18:16:46.218787Z"
    }
   },
   "outputs": [
    {
     "name": "stdout",
     "output_type": "stream",
     "text": [
      "3 4 5\n",
      "3 2\n",
      "2 2\n",
      "3 1\n",
      "2 3\n",
      "1 1\n",
      "4\n"
     ]
    }
   ],
   "source": [
    "import sys\n",
    "sys.setrecursionlimit(10000) \n",
    "\n",
    "def dfs(y, x, cnt):\n",
    "    d = [(-1, 0), (1, 0), (0, -1), (0, 1)]\n",
    "    graph[y][x] = 0\n",
    "    for dy, dx in d:\n",
    "        Y, X = y+dy, x+dx\n",
    "        if (0 <= Y < N) and (0 <= X < M) and graph[Y][X] == 1:\n",
    "            cnt = dfs(Y, X, cnt+1)\n",
    "    return cnt\n",
    "            \n",
    "N, M, K = map(int, input().split())\n",
    "graph = [[0]*M for _ in range(N)]\n",
    "for _ in range(K):\n",
    "    y, x = map(int, input().split())\n",
    "    graph[y-1][x-1] = 1\n",
    "res = []\n",
    "for i in range(N):\n",
    "    for j in range(M):\n",
    "        if graph[i][j] == 1:\n",
    "            res.append(dfs(i, j, 1))\n",
    "print(max(res))"
   ]
  },
  {
   "cell_type": "code",
   "execution_count": null,
   "metadata": {},
   "outputs": [],
   "source": []
  }
 ],
 "metadata": {
  "kernelspec": {
   "display_name": "Python 3",
   "language": "python",
   "name": "python3"
  },
  "language_info": {
   "codemirror_mode": {
    "name": "ipython",
    "version": 3
   },
   "file_extension": ".py",
   "mimetype": "text/x-python",
   "name": "python",
   "nbconvert_exporter": "python",
   "pygments_lexer": "ipython3",
   "version": "3.8.5"
  },
  "toc": {
   "base_numbering": 1,
   "nav_menu": {},
   "number_sections": true,
   "sideBar": true,
   "skip_h1_title": false,
   "title_cell": "Table of Contents",
   "title_sidebar": "Contents",
   "toc_cell": false,
   "toc_position": {},
   "toc_section_display": true,
   "toc_window_display": false
  },
  "varInspector": {
   "cols": {
    "lenName": 16,
    "lenType": 16,
    "lenVar": 40
   },
   "kernels_config": {
    "python": {
     "delete_cmd_postfix": "",
     "delete_cmd_prefix": "del ",
     "library": "var_list.py",
     "varRefreshCmd": "print(var_dic_list())"
    },
    "r": {
     "delete_cmd_postfix": ") ",
     "delete_cmd_prefix": "rm(",
     "library": "var_list.r",
     "varRefreshCmd": "cat(var_dic_list()) "
    }
   },
   "types_to_exclude": [
    "module",
    "function",
    "builtin_function_or_method",
    "instance",
    "_Feature"
   ],
   "window_display": false
  }
 },
 "nbformat": 4,
 "nbformat_minor": 4
}
