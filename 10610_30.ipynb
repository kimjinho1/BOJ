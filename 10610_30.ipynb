{
 "cells": [
  {
   "cell_type": "code",
   "execution_count": 6,
   "id": "comprehensive-husband",
   "metadata": {
    "ExecuteTime": {
     "end_time": "2021-02-20T09:52:52.539504Z",
     "start_time": "2021-02-20T09:52:48.416637Z"
    }
   },
   "outputs": [
    {
     "name": "stdout",
     "output_type": "stream",
     "text": [
      "30\n",
      "30\n"
     ]
    }
   ],
   "source": [
    "s = sorted(input(), reverse=True)\n",
    "n = int(''.join(s))\n",
    "print(n if n % 30 == 0 else -1)"
   ]
  },
  {
   "cell_type": "code",
   "execution_count": 8,
   "id": "objective-contact",
   "metadata": {
    "ExecuteTime": {
     "end_time": "2021-02-20T09:52:56.787473Z",
     "start_time": "2021-02-20T09:52:56.228962Z"
    }
   },
   "outputs": [
    {
     "name": "stdout",
     "output_type": "stream",
     "text": [
      "102\n",
      "210\n"
     ]
    }
   ],
   "source": [
    "s = sorted(input(), reverse=True)\n",
    "n = int(''.join(s))\n",
    "print(n if n % 30 == 0 else -1)"
   ]
  },
  {
   "cell_type": "code",
   "execution_count": 9,
   "id": "chinese-listening",
   "metadata": {
    "ExecuteTime": {
     "end_time": "2021-02-20T09:53:02.136124Z",
     "start_time": "2021-02-20T09:53:01.584960Z"
    }
   },
   "outputs": [
    {
     "name": "stdout",
     "output_type": "stream",
     "text": [
      "2931\n",
      "-1\n"
     ]
    }
   ],
   "source": [
    "s = sorted(input(), reverse=True)\n",
    "n = int(''.join(s))\n",
    "print(n if n % 30 == 0 else -1)"
   ]
  },
  {
   "cell_type": "code",
   "execution_count": 10,
   "id": "emotional-robertson",
   "metadata": {
    "ExecuteTime": {
     "end_time": "2021-02-20T09:53:10.966281Z",
     "start_time": "2021-02-20T09:53:10.475577Z"
    }
   },
   "outputs": [
    {
     "name": "stdout",
     "output_type": "stream",
     "text": [
      "80875542\n",
      "88755420\n"
     ]
    }
   ],
   "source": [
    "s = sorted(input(), reverse=True)\n",
    "n = int(''.join(s))\n",
    "print(n if n % 30 == 0 else -1)"
   ]
  },
  {
   "cell_type": "code",
   "execution_count": null,
   "id": "simplified-picking",
   "metadata": {},
   "outputs": [],
   "source": []
  }
 ],
 "metadata": {
  "kernelspec": {
   "display_name": "Python 3",
   "language": "python",
   "name": "python3"
  },
  "language_info": {
   "codemirror_mode": {
    "name": "ipython",
    "version": 3
   },
   "file_extension": ".py",
   "mimetype": "text/x-python",
   "name": "python",
   "nbconvert_exporter": "python",
   "pygments_lexer": "ipython3",
   "version": "3.7.9"
  },
  "toc": {
   "base_numbering": 1,
   "nav_menu": {},
   "number_sections": true,
   "sideBar": true,
   "skip_h1_title": false,
   "title_cell": "Table of Contents",
   "title_sidebar": "Contents",
   "toc_cell": false,
   "toc_position": {},
   "toc_section_display": true,
   "toc_window_display": false
  },
  "varInspector": {
   "cols": {
    "lenName": 16,
    "lenType": 16,
    "lenVar": 40
   },
   "kernels_config": {
    "python": {
     "delete_cmd_postfix": "",
     "delete_cmd_prefix": "del ",
     "library": "var_list.py",
     "varRefreshCmd": "print(var_dic_list())"
    },
    "r": {
     "delete_cmd_postfix": ") ",
     "delete_cmd_prefix": "rm(",
     "library": "var_list.r",
     "varRefreshCmd": "cat(var_dic_list()) "
    }
   },
   "types_to_exclude": [
    "module",
    "function",
    "builtin_function_or_method",
    "instance",
    "_Feature"
   ],
   "window_display": false
  }
 },
 "nbformat": 4,
 "nbformat_minor": 5
}
