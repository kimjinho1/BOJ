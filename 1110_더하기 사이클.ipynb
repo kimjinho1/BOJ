{
 "cells": [
  {
   "cell_type": "code",
   "execution_count": 5,
   "metadata": {},
   "outputs": [
    {
     "name": "stdout",
     "output_type": "stream",
     "text": [
      "1\n",
      "60\n"
     ]
    }
   ],
   "source": [
    "n = input()\n",
    "check = n\n",
    "cnt = 0\n",
    "while(True):\n",
    "    if len(n) == 1:\n",
    "        n = str(int(n)*10 + int(n))\n",
    "    else:\n",
    "        n = str(int(n[1])*10 + int(str(int(n[0])+int(n[1]))[-1]))\n",
    "    cnt += 1\n",
    "    if n == check:\n",
    "        break\n",
    "print(cnt)"
   ]
  },
  {
   "cell_type": "code",
   "execution_count": null,
   "metadata": {},
   "outputs": [],
   "source": []
  },
  {
   "cell_type": "code",
   "execution_count": null,
   "metadata": {},
   "outputs": [],
   "source": []
  }
 ],
 "metadata": {
  "kernelspec": {
   "display_name": "Python 3",
   "language": "python",
   "name": "python3"
  },
  "language_info": {
   "codemirror_mode": {
    "name": "ipython",
    "version": 3
   },
   "file_extension": ".py",
   "mimetype": "text/x-python",
   "name": "python",
   "nbconvert_exporter": "python",
   "pygments_lexer": "ipython3",
   "version": "3.6.8"
  }
 },
 "nbformat": 4,
 "nbformat_minor": 2
}
