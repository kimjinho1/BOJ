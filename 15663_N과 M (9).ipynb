{
 "cells": [
  {
   "cell_type": "markdown",
   "metadata": {},
   "source": [
    "# 딕셔너리(해시)로 백트래킹(통과)"
   ]
  },
  {
   "cell_type": "code",
   "execution_count": 27,
   "metadata": {
    "ExecuteTime": {
     "end_time": "2021-03-24T13:10:39.436297Z",
     "start_time": "2021-03-24T13:10:37.619310Z"
    }
   },
   "outputs": [
    {
     "name": "stdout",
     "output_type": "stream",
     "text": [
      "4 2\n",
      "9 7 9 1\n",
      "1 7\n",
      "1 9\n",
      "7 1\n",
      "7 9\n",
      "9 1\n",
      "9 7\n",
      "9 9\n"
     ]
    }
   ],
   "source": [
    "def dfs(depth):\n",
    "    if depth == M:\n",
    "        s = ' '.join(map(str, li))\n",
    "        if s not in d:\n",
    "            d[s] = 1\n",
    "            print(s)\n",
    "        return ;\n",
    "    for i in range(N):\n",
    "        if check[i]:\n",
    "            continue\n",
    "        li.append(nums[i])\n",
    "        check[i] = 1\n",
    "        dfs(depth+1)\n",
    "        li.pop()\n",
    "        check[i] = 0\n",
    "\n",
    "N, M = map(int, input().split())\n",
    "nums = sorted(map(int, input().split()))\n",
    "d = {}; li = []\n",
    "check = [0]*N\n",
    "dfs(0)"
   ]
  },
  {
   "cell_type": "code",
   "execution_count": 28,
   "metadata": {
    "ExecuteTime": {
     "end_time": "2021-03-24T13:11:30.792147Z",
     "start_time": "2021-03-24T13:11:28.364213Z"
    }
   },
   "outputs": [
    {
     "name": "stdout",
     "output_type": "stream",
     "text": [
      "4 4\n",
      "1 1 1 1\n",
      "1 1 1 1\n"
     ]
    }
   ],
   "source": [
    "def dfs(depth):\n",
    "    if depth == M:\n",
    "        s = ' '.join(map(str, li))\n",
    "        if s not in d:\n",
    "            d[s] = 1\n",
    "            print(s)\n",
    "        return ;\n",
    "    for i in range(N):\n",
    "        if check[i]:\n",
    "            continue\n",
    "        li.append(nums[i])\n",
    "        check[i] = 1\n",
    "        dfs(depth+1)\n",
    "        li.pop()\n",
    "        check[i] = 0\n",
    "\n",
    "N, M = map(int, input().split())\n",
    "nums = sorted(map(int, input().split()))\n",
    "d = {}; li = []\n",
    "check = [0]*N\n",
    "dfs(0)"
   ]
  },
  {
   "cell_type": "markdown",
   "metadata": {},
   "source": [
    "# 리스트로 백트래킹(시간 초과)"
   ]
  },
  {
   "cell_type": "code",
   "execution_count": 7,
   "metadata": {
    "ExecuteTime": {
     "end_time": "2021-03-24T12:54:21.820840Z",
     "start_time": "2021-03-24T12:54:20.018144Z"
    }
   },
   "outputs": [
    {
     "name": "stdout",
     "output_type": "stream",
     "text": [
      "4 2\n",
      "9 7 9 1\n",
      "1 7\n",
      "1 9\n",
      "7 1\n",
      "7 9\n",
      "9 1\n",
      "9 7\n",
      "9 9\n"
     ]
    }
   ],
   "source": [
    "def dfs(depth):\n",
    "    if depth == M:\n",
    "        if li not in s:\n",
    "            s.append(list(li))\n",
    "            print(*li)\n",
    "        return ;\n",
    "    for i in range(N):\n",
    "        if check[i]:\n",
    "            continue\n",
    "        li.append(nums[i])\n",
    "        check[i] = 1\n",
    "        dfs(depth+1)\n",
    "        li.pop()\n",
    "        check[i] = 0\n",
    "\n",
    "N, M = map(int, input().split())\n",
    "nums = sorted(map(int, input().split()))\n",
    "s = []; li = []\n",
    "check = [0]*N\n",
    "dfs(0)"
   ]
  },
  {
   "cell_type": "code",
   "execution_count": 9,
   "metadata": {
    "ExecuteTime": {
     "end_time": "2021-03-24T12:54:40.845368Z",
     "start_time": "2021-03-24T12:54:39.464585Z"
    }
   },
   "outputs": [
    {
     "name": "stdout",
     "output_type": "stream",
     "text": [
      "4 4\n",
      "1 1 1 1\n",
      "1 1 1 1\n"
     ]
    }
   ],
   "source": [
    "def dfs(depth):\n",
    "    if depth == M:\n",
    "        if li not in s:\n",
    "            s.append(list(li))\n",
    "            print(*li)\n",
    "        return ;\n",
    "    for i in range(N):\n",
    "        if check[i]:\n",
    "            continue\n",
    "        li.append(nums[i])\n",
    "        check[i] = 1\n",
    "        dfs(depth+1)\n",
    "        li.pop()\n",
    "        check[i] = 0\n",
    "\n",
    "N, M = map(int, input().split())\n",
    "nums = sorted(map(int, input().split()))\n",
    "s = []; li = []\n",
    "check = [0]*N\n",
    "dfs(0)"
   ]
  },
  {
   "cell_type": "code",
   "execution_count": null,
   "metadata": {},
   "outputs": [],
   "source": []
  }
 ],
 "metadata": {
  "kernelspec": {
   "display_name": "Python 3",
   "language": "python",
   "name": "python3"
  },
  "language_info": {
   "codemirror_mode": {
    "name": "ipython",
    "version": 3
   },
   "file_extension": ".py",
   "mimetype": "text/x-python",
   "name": "python",
   "nbconvert_exporter": "python",
   "pygments_lexer": "ipython3",
   "version": "3.8.5"
  },
  "toc": {
   "base_numbering": 1,
   "nav_menu": {},
   "number_sections": true,
   "sideBar": true,
   "skip_h1_title": false,
   "title_cell": "Table of Contents",
   "title_sidebar": "Contents",
   "toc_cell": false,
   "toc_position": {},
   "toc_section_display": true,
   "toc_window_display": false
  },
  "varInspector": {
   "cols": {
    "lenName": 16,
    "lenType": 16,
    "lenVar": 40
   },
   "kernels_config": {
    "python": {
     "delete_cmd_postfix": "",
     "delete_cmd_prefix": "del ",
     "library": "var_list.py",
     "varRefreshCmd": "print(var_dic_list())"
    },
    "r": {
     "delete_cmd_postfix": ") ",
     "delete_cmd_prefix": "rm(",
     "library": "var_list.r",
     "varRefreshCmd": "cat(var_dic_list()) "
    }
   },
   "types_to_exclude": [
    "module",
    "function",
    "builtin_function_or_method",
    "instance",
    "_Feature"
   ],
   "window_display": false
  }
 },
 "nbformat": 4,
 "nbformat_minor": 4
}
