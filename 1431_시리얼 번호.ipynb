{
 "cells": [
  {
   "cell_type": "code",
   "execution_count": 21,
   "id": "express-local",
   "metadata": {
    "ExecuteTime": {
     "end_time": "2021-02-20T16:00:01.661640Z",
     "start_time": "2021-02-20T15:59:54.789007Z"
    }
   },
   "outputs": [
    {
     "name": "stdout",
     "output_type": "stream",
     "text": [
      "5\n",
      "ABCD\n",
      "145C\n",
      "A\n",
      "A910\n",
      "Z321\n",
      "A\n",
      "ABCD\n",
      "Z321\n",
      "145C\n",
      "A910\n"
     ]
    }
   ],
   "source": [
    "def num(s):\n",
    "    return sum([int(c) for c in s if '0' <= c <= '9'])\n",
    "\n",
    "N = int(input())\n",
    "li = []\n",
    "for _ in range(N):\n",
    "    s = input()\n",
    "    li.append([len(s), num(s) , s])\n",
    "li.sort(key=lambda x:(x[0], x[1], x[2]))\n",
    "for t in li:\n",
    "    print(t[-1])"
   ]
  },
  {
   "cell_type": "code",
   "execution_count": 15,
   "id": "adopted-thermal",
   "metadata": {
    "ExecuteTime": {
     "end_time": "2021-02-20T15:52:38.161489Z",
     "start_time": "2021-02-20T15:52:29.178518Z"
    }
   },
   "outputs": [
    {
     "name": "stdout",
     "output_type": "stream",
     "text": [
      "5\n",
      "ABCD\n",
      "145C\n",
      "A\n",
      "A910\n",
      "Z321\n",
      "A\n",
      "ABCD\n",
      "Z321\n",
      "145C\n",
      "A910\n"
     ]
    }
   ],
   "source": [
    "def num(s):\n",
    "    res = 0\n",
    "    for c in s:\n",
    "        if '0' <= c <= '9':\n",
    "            res += int(c)\n",
    "    return res\n",
    "\n",
    "N = int(input())\n",
    "li = []\n",
    "for _ in range(N):\n",
    "    s = input()\n",
    "    li.append([len(s), num(s) , s])\n",
    "li.sort(key=lambda x:x[2])\n",
    "li.sort(key=lambda x:x[1])\n",
    "li.sort(key=lambda x:x[0])\n",
    "for t in li:\n",
    "    print(t[-1])"
   ]
  },
  {
   "cell_type": "code",
   "execution_count": null,
   "id": "legendary-radar",
   "metadata": {},
   "outputs": [],
   "source": []
  }
 ],
 "metadata": {
  "kernelspec": {
   "display_name": "Python 3",
   "language": "python",
   "name": "python3"
  },
  "language_info": {
   "codemirror_mode": {
    "name": "ipython",
    "version": 3
   },
   "file_extension": ".py",
   "mimetype": "text/x-python",
   "name": "python",
   "nbconvert_exporter": "python",
   "pygments_lexer": "ipython3",
   "version": "3.7.9"
  },
  "toc": {
   "base_numbering": 1,
   "nav_menu": {},
   "number_sections": true,
   "sideBar": true,
   "skip_h1_title": false,
   "title_cell": "Table of Contents",
   "title_sidebar": "Contents",
   "toc_cell": false,
   "toc_position": {},
   "toc_section_display": true,
   "toc_window_display": false
  },
  "varInspector": {
   "cols": {
    "lenName": 16,
    "lenType": 16,
    "lenVar": 40
   },
   "kernels_config": {
    "python": {
     "delete_cmd_postfix": "",
     "delete_cmd_prefix": "del ",
     "library": "var_list.py",
     "varRefreshCmd": "print(var_dic_list())"
    },
    "r": {
     "delete_cmd_postfix": ") ",
     "delete_cmd_prefix": "rm(",
     "library": "var_list.r",
     "varRefreshCmd": "cat(var_dic_list()) "
    }
   },
   "types_to_exclude": [
    "module",
    "function",
    "builtin_function_or_method",
    "instance",
    "_Feature"
   ],
   "window_display": false
  }
 },
 "nbformat": 4,
 "nbformat_minor": 5
}
