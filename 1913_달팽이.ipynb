{
 "cells": [
  {
   "cell_type": "code",
   "execution_count": 52,
   "metadata": {},
   "outputs": [
    {
     "name": "stdout",
     "output_type": "stream",
     "text": [
      "7\n",
      "35\n",
      "49 26 27 28 29 30 31 \n",
      "48 25 10 11 12 13 32 \n",
      "47 24 9 2 3 14 33 \n",
      "46 23 8 1 4 15 34 \n",
      "45 22 7 6 5 16 35 \n",
      "44 21 20 19 18 17 36 \n",
      "43 42 41 40 39 38 37 \n",
      "5 7\n"
     ]
    }
   ],
   "source": [
    "import pprint as p\n",
    "N = int(input())\n",
    "w = int(input())\n",
    "li = [[0 for i in range(N)] for j in range(N)]\n",
    "n = 1\n",
    "    \n",
    "x = y = N // 2\n",
    "check = 2 \n",
    "li[x][y] = n\n",
    "i = 0\n",
    "j = 0\n",
    "while li[0][0] != N**2:\n",
    "    x -= 1\n",
    "    for i in range(check):\n",
    "        n += 1\n",
    "        li[x][y+i] = n\n",
    "        if n == w:\n",
    "            ans = [x+1, y+i+1]\n",
    "    y += i\n",
    "    for i in range(1, check+1):\n",
    "        n += 1\n",
    "        li[x+i][y] = n\n",
    "        if n == w:\n",
    "            ans = [x+i+1, y+1]\n",
    "    x += i\n",
    "    for i in range(1, check+1):\n",
    "        n += 1\n",
    "        li[x][y-i] = n\n",
    "        if n == w:\n",
    "            ans = [x+1, y-i+1]\n",
    "    y -= i\n",
    "    for i in range(1, check+1):\n",
    "        n += 1\n",
    "        li[x-i][y] = n\n",
    "        if n == w:\n",
    "            ans = [x-i+1, y+1]\n",
    "    x -= i\n",
    "    check += 2\n",
    "\n",
    "for i in range(N):\n",
    "    for j in range(N):\n",
    "        print(li[i][j], end = ' ')\n",
    "    print()\n",
    "print(*ans)"
   ]
  },
  {
   "cell_type": "code",
   "execution_count": null,
   "metadata": {},
   "outputs": [],
   "source": []
  }
 ],
 "metadata": {
  "kernelspec": {
   "display_name": "Python 3",
   "language": "python",
   "name": "python3"
  },
  "language_info": {
   "codemirror_mode": {
    "name": "ipython",
    "version": 3
   },
   "file_extension": ".py",
   "mimetype": "text/x-python",
   "name": "python",
   "nbconvert_exporter": "python",
   "pygments_lexer": "ipython3",
   "version": "3.6.8"
  }
 },
 "nbformat": 4,
 "nbformat_minor": 2
}
