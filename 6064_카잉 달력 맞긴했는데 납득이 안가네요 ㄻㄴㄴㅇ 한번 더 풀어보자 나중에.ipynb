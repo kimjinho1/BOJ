{
 "cells": [
  {
   "cell_type": "code",
   "execution_count": 15,
   "metadata": {},
   "outputs": [
    {
     "name": "stdout",
     "output_type": "stream",
     "text": [
      "3\n",
      "10 12 3 9\n",
      "33\n",
      "10 12 7 2\n",
      "-1\n",
      "13 11 5 6\n",
      "83\n"
     ]
    }
   ],
   "source": [
    "# 이 코드는 통과됬다. 아래 코드는 왜 오답일까? 차이가 없는 것 같은데...\n",
    "for _ in range(int(input())):\n",
    "    M, N, x, y = map(int, input().split())\n",
    "    not_ok = 1\n",
    "    while(x <= M*N):\n",
    "        if (x-y)%N == 0:\n",
    "            print(x)\n",
    "            not_ok = 0\n",
    "            break\n",
    "        x += M\n",
    "    if not_ok:\n",
    "        print(-1)"
   ]
  },
  {
   "cell_type": "code",
   "execution_count": 17,
   "metadata": {},
   "outputs": [
    {
     "name": "stdout",
     "output_type": "stream",
     "text": [
      "3\n",
      "10 12 3 9\n",
      "33\n",
      "10 12 7 2\n",
      "-1\n",
      "13 11 5 6\n",
      "83\n"
     ]
    }
   ],
   "source": [
    "# 처음에 짠 코드다. 정답이라고 생각하는데 오답이다. 왜일까?\n",
    "for _ in range(int(input())):\n",
    "    M, N, x, y = map(int, input().split())\n",
    "    d = x\n",
    "    not_ok = 1\n",
    "    while(x <= M*N):\n",
    "        if d == y:\n",
    "            print(x)\n",
    "            not_ok = 0\n",
    "            break\n",
    "        d += M\n",
    "        if d >= N:\n",
    "            d %= N\n",
    "        x += M\n",
    "    if not_ok:\n",
    "        print(-1)"
   ]
  },
  {
   "cell_type": "code",
   "execution_count": null,
   "metadata": {},
   "outputs": [],
   "source": []
  }
 ],
 "metadata": {
  "kernelspec": {
   "display_name": "Python 3",
   "language": "python",
   "name": "python3"
  },
  "language_info": {
   "codemirror_mode": {
    "name": "ipython",
    "version": 3
   },
   "file_extension": ".py",
   "mimetype": "text/x-python",
   "name": "python",
   "nbconvert_exporter": "python",
   "pygments_lexer": "ipython3",
   "version": "3.6.8"
  }
 },
 "nbformat": 4,
 "nbformat_minor": 2
}
