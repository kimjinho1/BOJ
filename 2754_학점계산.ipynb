{
 "cells": [
  {
   "cell_type": "code",
   "execution_count": 8,
   "id": "computational-contribution",
   "metadata": {
    "ExecuteTime": {
     "end_time": "2021-02-11T09:52:33.144238Z",
     "start_time": "2021-02-11T09:52:31.276062Z"
    }
   },
   "outputs": [
    {
     "name": "stdout",
     "output_type": "stream",
     "text": [
      "A0\n",
      "4.0\n"
     ]
    }
   ],
   "source": [
    "d = {\"A+\": 4.3, \"A0\": 4.0, \"A-\": 3.7,  \"B+\": 3.3,  \n",
    "     \"B0\": 3.0, \"B-\": 2.7, \"C+\": 2.3, \"C0\": 2.0, \"C-\": 1.7, \n",
    "     \"D+\": 1.3, \"D0\": 1.0, \"D-\": 0.7, \"F\": 0.0}\n",
    "print(d[input()])"
   ]
  },
  {
   "cell_type": "code",
   "execution_count": null,
   "id": "invalid-chicken",
   "metadata": {},
   "outputs": [],
   "source": []
  }
 ],
 "metadata": {
  "kernelspec": {
   "display_name": "Python 3",
   "language": "python",
   "name": "python3"
  },
  "language_info": {
   "codemirror_mode": {
    "name": "ipython",
    "version": 3
   },
   "file_extension": ".py",
   "mimetype": "text/x-python",
   "name": "python",
   "nbconvert_exporter": "python",
   "pygments_lexer": "ipython3",
   "version": "3.7.9"
  },
  "toc": {
   "base_numbering": 1,
   "nav_menu": {},
   "number_sections": true,
   "sideBar": true,
   "skip_h1_title": false,
   "title_cell": "Table of Contents",
   "title_sidebar": "Contents",
   "toc_cell": false,
   "toc_position": {},
   "toc_section_display": true,
   "toc_window_display": false
  },
  "varInspector": {
   "cols": {
    "lenName": 16,
    "lenType": 16,
    "lenVar": 40
   },
   "kernels_config": {
    "python": {
     "delete_cmd_postfix": "",
     "delete_cmd_prefix": "del ",
     "library": "var_list.py",
     "varRefreshCmd": "print(var_dic_list())"
    },
    "r": {
     "delete_cmd_postfix": ") ",
     "delete_cmd_prefix": "rm(",
     "library": "var_list.r",
     "varRefreshCmd": "cat(var_dic_list()) "
    }
   },
   "types_to_exclude": [
    "module",
    "function",
    "builtin_function_or_method",
    "instance",
    "_Feature"
   ],
   "window_display": false
  }
 },
 "nbformat": 4,
 "nbformat_minor": 5
}
