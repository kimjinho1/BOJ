{
 "cells": [
  {
   "cell_type": "code",
   "execution_count": 32,
   "metadata": {},
   "outputs": [
    {
     "name": "stdout",
     "output_type": "stream",
     "text": [
      "2\n",
      "10\n",
      "15\n",
      "20\n"
     ]
    }
   ],
   "source": [
    "# 처음에는 이런식으로 풀었으나 생각해보니 정답이 아닌데도 불구하고 중간에 break하는 경우가 생기는 것 같다.\n",
    "N = int(input())\n",
    "li = []\n",
    "for i in range(N):\n",
    "    li.append(int(input()))\n",
    "li.sort(reverse=True)\n",
    "n1 = li[0]\n",
    "n2 = 0\n",
    "for i in range(1, N):\n",
    "    n2 = li[i]*(i+1)\n",
    "    if n1 > n2:\n",
    "        break\n",
    "    n1 = n2\n",
    "print(n1)"
   ]
  },
  {
   "cell_type": "code",
   "execution_count": 33,
   "metadata": {},
   "outputs": [
    {
     "name": "stdout",
     "output_type": "stream",
     "text": [
      "2\n",
      "10\n",
      "15\n",
      "20\n"
     ]
    }
   ],
   "source": [
    "# 아래와 같이 간단하게 변경했고 바로 통과했다.\n",
    "# 전체 경우를 다 봐야 되는게 맞다.\n",
    "N = int(input())\n",
    "li = []\n",
    "for i in range(N):\n",
    "    li.append(int(input()))\n",
    "li.sort(reverse=True)\n",
    "ans = 0\n",
    "for i in range(0, N):\n",
    "    ans = max(ans, li[i]*(i+1))\n",
    "print(ans)"
   ]
  },
  {
   "cell_type": "code",
   "execution_count": null,
   "metadata": {},
   "outputs": [],
   "source": []
  }
 ],
 "metadata": {
  "kernelspec": {
   "display_name": "Python 3",
   "language": "python",
   "name": "python3"
  },
  "language_info": {
   "codemirror_mode": {
    "name": "ipython",
    "version": 3
   },
   "file_extension": ".py",
   "mimetype": "text/x-python",
   "name": "python",
   "nbconvert_exporter": "python",
   "pygments_lexer": "ipython3",
   "version": "3.6.8"
  }
 },
 "nbformat": 4,
 "nbformat_minor": 2
}
