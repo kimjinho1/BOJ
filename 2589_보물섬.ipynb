{
 "cells": [
  {
   "cell_type": "code",
   "execution_count": 36,
   "metadata": {
    "ExecuteTime": {
     "end_time": "2021-03-11T15:53:34.349192Z",
     "start_time": "2021-03-11T15:53:20.973547Z"
    }
   },
   "outputs": [
    {
     "name": "stdout",
     "output_type": "stream",
     "text": [
      "5 7\n",
      "WLLWWWL\n",
      "LLLWLLL\n",
      "LWLWLWW\n",
      "LWLWLLL\n",
      "WLLWLWW\n",
      "8\n"
     ]
    }
   ],
   "source": [
    "from collections import deque\n",
    "from copy import deepcopy\n",
    "\n",
    "def bfs(y, x):\n",
    "    queue = deque()\n",
    "    queue.append((y, x))\n",
    "    while queue:\n",
    "        y, x = queue.popleft()\n",
    "        for dy, dx in d:\n",
    "            Y, X = y+dy, x+dx\n",
    "            if (0 <= Y < N) and (0 <= X < M) and a[Y][X] == 0:\n",
    "                a[Y][X] = a[y][x] + 1\n",
    "                queue.append((Y, X))\n",
    "    \n",
    "N, M = map(int, input().split())\n",
    "graph = []\n",
    "for _ in range(N):\n",
    "    li = list(input())\n",
    "    for i in range(M):\n",
    "        li[i] = 0 if li[i] == 'L' else -1\n",
    "    graph.append(li)\n",
    "d = [(-1, 0), (1, 0), (0, -1), (0, 1)]\n",
    "res = 0\n",
    "for i in range(N):\n",
    "    for j in range(M):\n",
    "        a = deepcopy(graph)\n",
    "        if a[i][j] == 0:\n",
    "            a[i][j] = 1\n",
    "            bfs(i, j)\n",
    "            t = max(map(max, a))-1\n",
    "            res = max(res, t)\n",
    "print(res)"
   ]
  },
  {
   "cell_type": "code",
   "execution_count": 33,
   "metadata": {
    "ExecuteTime": {
     "end_time": "2021-03-11T15:52:53.198265Z",
     "start_time": "2021-03-11T15:52:50.543486Z"
    }
   },
   "outputs": [
    {
     "name": "stdout",
     "output_type": "stream",
     "text": [
      "2 2\n",
      "WW\n",
      "LL\n",
      "1\n"
     ]
    }
   ],
   "source": [
    "from collections import deque\n",
    "from copy import deepcopy\n",
    "\n",
    "def bfs(y, x):\n",
    "    queue = deque()\n",
    "    queue.append((y, x))\n",
    "    while queue:\n",
    "        y, x = queue.popleft()\n",
    "        for dy, dx in d:\n",
    "            Y, X = y+dy, x+dx\n",
    "            if (0 <= Y < N) and (0 <= X < M) and a[Y][X] == 0:\n",
    "                a[Y][X] = a[y][x] + 1\n",
    "                queue.append((Y, X))\n",
    "    \n",
    "N, M = map(int, input().split())\n",
    "graph = []\n",
    "for _ in range(N):\n",
    "    li = list(input())\n",
    "    for i in range(M):\n",
    "        li[i] = 0 if li[i] == 'L' else -1\n",
    "    graph.append(li)\n",
    "d = [(-1, 0), (1, 0), (0, -1), (0, 1)]\n",
    "res = 0\n",
    "for i in range(N):\n",
    "    for j in range(M):\n",
    "        a = deepcopy(graph)\n",
    "        if a[i][j] == 0:\n",
    "            a[i][j] = 1\n",
    "            bfs(i, j)\n",
    "            t = max(map(max, a))-1\n",
    "            res = max(res, t)\n",
    "print(res)"
   ]
  },
  {
   "cell_type": "code",
   "execution_count": null,
   "metadata": {},
   "outputs": [],
   "source": []
  }
 ],
 "metadata": {
  "kernelspec": {
   "display_name": "Python 3",
   "language": "python",
   "name": "python3"
  },
  "language_info": {
   "codemirror_mode": {
    "name": "ipython",
    "version": 3
   },
   "file_extension": ".py",
   "mimetype": "text/x-python",
   "name": "python",
   "nbconvert_exporter": "python",
   "pygments_lexer": "ipython3",
   "version": "3.8.5"
  },
  "toc": {
   "base_numbering": 1,
   "nav_menu": {},
   "number_sections": true,
   "sideBar": true,
   "skip_h1_title": false,
   "title_cell": "Table of Contents",
   "title_sidebar": "Contents",
   "toc_cell": false,
   "toc_position": {},
   "toc_section_display": true,
   "toc_window_display": false
  },
  "varInspector": {
   "cols": {
    "lenName": 16,
    "lenType": 16,
    "lenVar": 40
   },
   "kernels_config": {
    "python": {
     "delete_cmd_postfix": "",
     "delete_cmd_prefix": "del ",
     "library": "var_list.py",
     "varRefreshCmd": "print(var_dic_list())"
    },
    "r": {
     "delete_cmd_postfix": ") ",
     "delete_cmd_prefix": "rm(",
     "library": "var_list.r",
     "varRefreshCmd": "cat(var_dic_list()) "
    }
   },
   "types_to_exclude": [
    "module",
    "function",
    "builtin_function_or_method",
    "instance",
    "_Feature"
   ],
   "window_display": false
  }
 },
 "nbformat": 4,
 "nbformat_minor": 4
}
