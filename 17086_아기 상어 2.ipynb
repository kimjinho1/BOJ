{
 "cells": [
  {
   "cell_type": "code",
   "execution_count": 23,
   "metadata": {
    "ExecuteTime": {
     "end_time": "2021-03-13T17:57:54.647351Z",
     "start_time": "2021-03-13T17:57:46.899262Z"
    }
   },
   "outputs": [
    {
     "name": "stdout",
     "output_type": "stream",
     "text": [
      "5 4\n",
      "0 0 1 0\n",
      "0 0 0 0\n",
      "1 0 0 0\n",
      "0 0 0 0\n",
      "0 0 0 1\n",
      "2\n"
     ]
    }
   ],
   "source": [
    "from collections import deque\n",
    "from copy import deepcopy\n",
    "\n",
    "def bfs(y, x):\n",
    "    q = deque()\n",
    "    q.append((y, x))\n",
    "    a[y][x] = 0\n",
    "    while q:\n",
    "        y, x = q.popleft()\n",
    "        for dy, dx in d:\n",
    "            Y, X = y+dy, x+dx\n",
    "            if (0 <= Y < N) and (0 <= X < M) and a[Y][X] == -1:\n",
    "                q.append((Y, X))\n",
    "                a[Y][X] = a[y][x]+1\n",
    "                if graph[Y][X] == 1:\n",
    "                    return a[Y][X]\n",
    "    return a[y][x]\n",
    "\n",
    "N, M = map(int, input().split())\n",
    "graph = [list(map(int, input().split())) for _ in range(N)]\n",
    "d = [(-1, -1), (-1, 1), (1, -1), (1, 1), (-1, 0), (1, 0), (0, -1), (0, 1)]\n",
    "check = [[-1]*M for _ in range(N)]\n",
    "res = 0\n",
    "for i in range(N):\n",
    "    for j in range(M):\n",
    "        if graph[i][j] == 0:\n",
    "            a = deepcopy(check)\n",
    "            res = max(res, bfs(i, j))\n",
    "print(res)"
   ]
  },
  {
   "cell_type": "code",
   "execution_count": null,
   "metadata": {},
   "outputs": [],
   "source": []
  }
 ],
 "metadata": {
  "kernelspec": {
   "display_name": "Python 3",
   "language": "python",
   "name": "python3"
  },
  "language_info": {
   "codemirror_mode": {
    "name": "ipython",
    "version": 3
   },
   "file_extension": ".py",
   "mimetype": "text/x-python",
   "name": "python",
   "nbconvert_exporter": "python",
   "pygments_lexer": "ipython3",
   "version": "3.8.5"
  },
  "toc": {
   "base_numbering": 1,
   "nav_menu": {},
   "number_sections": true,
   "sideBar": true,
   "skip_h1_title": false,
   "title_cell": "Table of Contents",
   "title_sidebar": "Contents",
   "toc_cell": false,
   "toc_position": {},
   "toc_section_display": true,
   "toc_window_display": false
  },
  "varInspector": {
   "cols": {
    "lenName": 16,
    "lenType": 16,
    "lenVar": 40
   },
   "kernels_config": {
    "python": {
     "delete_cmd_postfix": "",
     "delete_cmd_prefix": "del ",
     "library": "var_list.py",
     "varRefreshCmd": "print(var_dic_list())"
    },
    "r": {
     "delete_cmd_postfix": ") ",
     "delete_cmd_prefix": "rm(",
     "library": "var_list.r",
     "varRefreshCmd": "cat(var_dic_list()) "
    }
   },
   "types_to_exclude": [
    "module",
    "function",
    "builtin_function_or_method",
    "instance",
    "_Feature"
   ],
   "window_display": false
  }
 },
 "nbformat": 4,
 "nbformat_minor": 4
}
