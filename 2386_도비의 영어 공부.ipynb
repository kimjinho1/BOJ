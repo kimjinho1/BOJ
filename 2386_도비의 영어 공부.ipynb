{
 "cells": [
  {
   "cell_type": "code",
   "execution_count": 17,
   "metadata": {},
   "outputs": [
    {
     "name": "stdin",
     "output_type": "stream",
     "text": [
      " g Programming Contest\n"
     ]
    },
    {
     "name": "stdout",
     "output_type": "stream",
     "text": [
      "g 2\n"
     ]
    },
    {
     "name": "stdin",
     "output_type": "stream",
     "text": [
      " n New Zealand\n"
     ]
    },
    {
     "name": "stdout",
     "output_type": "stream",
     "text": [
      "n 2\n"
     ]
    },
    {
     "name": "stdin",
     "output_type": "stream",
     "text": [
      " x This is quite a simple problem.\n"
     ]
    },
    {
     "name": "stdout",
     "output_type": "stream",
     "text": [
      "x 0\n"
     ]
    },
    {
     "name": "stdin",
     "output_type": "stream",
     "text": [
      " #\n"
     ]
    }
   ],
   "source": [
    "while 42:\n",
    "    t = input()\n",
    "    if t == '#':\n",
    "        break\n",
    "    li = t.split()\n",
    "    alpha_upper = li[0].upper()\n",
    "    alpha_lower = li[0].lower()\n",
    "    s = \" \".join(li[1:])\n",
    "    cnt = s.count(alpha_upper) + s.count(alpha_lower)\n",
    "    print(\"{0} {1}\".format(alpha_lower, cnt))"
   ]
  },
  {
   "cell_type": "code",
   "execution_count": null,
   "metadata": {},
   "outputs": [],
   "source": []
  }
 ],
 "metadata": {
  "kernelspec": {
   "display_name": "Python 3",
   "language": "python",
   "name": "python3"
  },
  "language_info": {
   "codemirror_mode": {
    "name": "ipython",
    "version": 3
   },
   "file_extension": ".py",
   "mimetype": "text/x-python",
   "name": "python",
   "nbconvert_exporter": "python",
   "pygments_lexer": "ipython3",
   "version": "3.7.3"
  }
 },
 "nbformat": 4,
 "nbformat_minor": 4
}
