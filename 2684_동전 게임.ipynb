{
 "cells": [
  {
   "cell_type": "code",
   "execution_count": 11,
   "id": "second-calculation",
   "metadata": {
    "ExecuteTime": {
     "end_time": "2021-02-24T12:52:42.164311Z",
     "start_time": "2021-02-24T12:52:23.343262Z"
    }
   },
   "outputs": [
    {
     "name": "stdout",
     "output_type": "stream",
     "text": [
      "4\n",
      "HHHHHHHHHHHHHHHHHHHHHHHHHHHHHHHHHHHHHHHH\n",
      "0 0 0 0 0 0 0 38 \n",
      "TTTTTTTTTTTTTTTTTTTTTTTTTTTTTTTTTTTTTTTT\n",
      "38 0 0 0 0 0 0 0 \n",
      "HHTTTHHTTTHTHHTHHTTHTTTHHHTHTTHTTHTTTHTH\n",
      "4 7 6 4 7 4 5 1 \n",
      "HTHTHHHTHHHTHTHHHHTTTHTTTTTHHTTTTHTHHHHT\n",
      "6 3 4 5 3 6 5 6 \n"
     ]
    }
   ],
   "source": [
    "for _ in range(int(input())):\n",
    "    d = {\"TTT\": 0, \"TTH\": 0, \"THT\": 0, \"THH\": 0, \"HTT\": 0, \"HTH\": 0, \"HHT\": 0, \"HHH\": 0}\n",
    "    s = input()\n",
    "    for i in range(38):\n",
    "        d[s[i:i+3]] += 1\n",
    "    for t, n in d.items():\n",
    "        print(n, end=' ')\n",
    "    print()"
   ]
  },
  {
   "cell_type": "code",
   "execution_count": null,
   "id": "comparative-parade",
   "metadata": {},
   "outputs": [],
   "source": []
  }
 ],
 "metadata": {
  "kernelspec": {
   "display_name": "Python 3",
   "language": "python",
   "name": "python3"
  },
  "language_info": {
   "codemirror_mode": {
    "name": "ipython",
    "version": 3
   },
   "file_extension": ".py",
   "mimetype": "text/x-python",
   "name": "python",
   "nbconvert_exporter": "python",
   "pygments_lexer": "ipython3",
   "version": "3.7.9"
  },
  "toc": {
   "base_numbering": 1,
   "nav_menu": {},
   "number_sections": true,
   "sideBar": true,
   "skip_h1_title": false,
   "title_cell": "Table of Contents",
   "title_sidebar": "Contents",
   "toc_cell": false,
   "toc_position": {},
   "toc_section_display": true,
   "toc_window_display": false
  },
  "varInspector": {
   "cols": {
    "lenName": 16,
    "lenType": 16,
    "lenVar": 40
   },
   "kernels_config": {
    "python": {
     "delete_cmd_postfix": "",
     "delete_cmd_prefix": "del ",
     "library": "var_list.py",
     "varRefreshCmd": "print(var_dic_list())"
    },
    "r": {
     "delete_cmd_postfix": ") ",
     "delete_cmd_prefix": "rm(",
     "library": "var_list.r",
     "varRefreshCmd": "cat(var_dic_list()) "
    }
   },
   "types_to_exclude": [
    "module",
    "function",
    "builtin_function_or_method",
    "instance",
    "_Feature"
   ],
   "window_display": false
  }
 },
 "nbformat": 4,
 "nbformat_minor": 5
}
