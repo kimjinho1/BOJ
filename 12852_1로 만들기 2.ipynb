{
 "cells": [
  {
   "cell_type": "markdown",
   "metadata": {},
   "source": [
    "# DP"
   ]
  },
  {
   "cell_type": "code",
   "execution_count": 4,
   "metadata": {
    "ExecuteTime": {
     "end_time": "2021-03-20T14:00:55.342326Z",
     "start_time": "2021-03-20T14:00:54.670387Z"
    }
   },
   "outputs": [
    {
     "name": "stdout",
     "output_type": "stream",
     "text": [
      "2\n",
      "1\n",
      "2 1\n"
     ]
    }
   ],
   "source": [
    "N = int(input())\n",
    "dp = [[0, []] for _ in range(N+1)]\n",
    "dp[1][0] = 0\n",
    "dp[1][1] = [1]\n",
    "for i in range(2, N+1):\n",
    "    dp[i][0] = dp[i-1][0] + 1\n",
    "    dp[i][1] = dp[i-1][1] + [i]\n",
    "    if i%2 == 0 and dp[i//2][0]+1 < dp[i][0]:\n",
    "        dp[i][0] = dp[i//2][0] + 1\n",
    "        dp[i][1] = dp[i//2][1] + [i]\n",
    "    if i%3 == 0 and dp[i//3][0]+1 < dp[i][0]:\n",
    "        dp[i][0] = dp[i//3][0] + 1\n",
    "        dp[i][1] = dp[i//3][1] + [i]\n",
    "print(dp[-1][0])\n",
    "print(*dp[-1][1][::-1])"
   ]
  },
  {
   "cell_type": "code",
   "execution_count": 5,
   "metadata": {
    "ExecuteTime": {
     "end_time": "2021-03-20T14:00:58.066119Z",
     "start_time": "2021-03-20T14:00:57.536629Z"
    }
   },
   "outputs": [
    {
     "name": "stdout",
     "output_type": "stream",
     "text": [
      "10\n",
      "3\n",
      "10 9 3 1\n"
     ]
    }
   ],
   "source": [
    "N = int(input())\n",
    "dp = [[0, []] for _ in range(N+1)]\n",
    "dp[1][0] = 0\n",
    "dp[1][1] = [1]\n",
    "for i in range(2, N+1):\n",
    "    dp[i][0] = dp[i-1][0] + 1\n",
    "    dp[i][1] = dp[i-1][1] + [i]\n",
    "    if i%2 == 0 and dp[i//2][0]+1 < dp[i][0]:\n",
    "        dp[i][0] = dp[i//2][0] + 1\n",
    "        dp[i][1] = dp[i//2][1] + [i]\n",
    "    if i%3 == 0 and dp[i//3][0]+1 < dp[i][0]:\n",
    "        dp[i][0] = dp[i//3][0] + 1\n",
    "        dp[i][1] = dp[i//3][1] + [i]\n",
    "print(dp[-1][0])\n",
    "print(*dp[-1][1][::-1])"
   ]
  },
  {
   "cell_type": "markdown",
   "metadata": {},
   "source": [
    "# BFS"
   ]
  },
  {
   "cell_type": "code",
   "execution_count": 11,
   "metadata": {
    "ExecuteTime": {
     "end_time": "2021-03-20T14:02:09.948284Z",
     "start_time": "2021-03-20T14:02:09.375775Z"
    }
   },
   "outputs": [
    {
     "name": "stdout",
     "output_type": "stream",
     "text": [
      "2\n",
      "1\n",
      "2 1\n"
     ]
    }
   ],
   "source": [
    "from collections import deque\n",
    "\n",
    "def bfs(node, dp):\n",
    "    q = deque()\n",
    "    q.append((node, dp))\n",
    "    while q:\n",
    "        node, dp = q.popleft()\n",
    "        for n in [node+1, node*2, node*3]:\n",
    "            if n <= N and check[n] == 0:\n",
    "                if n == N:\n",
    "                    return check[node]+1, dp+[n]\n",
    "                q.append((n, dp+[n]))\n",
    "                check[n] = check[node]+1\n",
    "\n",
    "N = int(input())\n",
    "if N == 1:\n",
    "    print(0)\n",
    "    print(1)\n",
    "else:\n",
    "    check = [0]*(N+1)\n",
    "    cnt, dp = bfs(1, [1])\n",
    "    print(cnt)\n",
    "    print(*dp[::-1])"
   ]
  },
  {
   "cell_type": "code",
   "execution_count": 12,
   "metadata": {
    "ExecuteTime": {
     "end_time": "2021-03-20T14:02:12.651376Z",
     "start_time": "2021-03-20T14:02:12.057991Z"
    }
   },
   "outputs": [
    {
     "name": "stdout",
     "output_type": "stream",
     "text": [
      "10\n",
      "3\n",
      "10 9 3 1\n"
     ]
    }
   ],
   "source": [
    "from collections import deque\n",
    "\n",
    "def bfs(node, dp):\n",
    "    q = deque()\n",
    "    q.append((node, dp))\n",
    "    while q:\n",
    "        node, dp = q.popleft()\n",
    "        for n in [node+1, node*2, node*3]:\n",
    "            if n <= N and check[n] == 0:\n",
    "                if n == N:\n",
    "                    return check[node]+1, dp+[n]\n",
    "                q.append((n, dp+[n]))\n",
    "                check[n] = check[node]+1\n",
    "\n",
    "N = int(input())\n",
    "if N == 1:\n",
    "    print(0)\n",
    "    print(1)\n",
    "else:\n",
    "    check = [0]*(N+1)\n",
    "    cnt, dp = bfs(1, [1])\n",
    "    print(cnt)\n",
    "    print(*dp[::-1])"
   ]
  },
  {
   "cell_type": "code",
   "execution_count": 10,
   "metadata": {
    "ExecuteTime": {
     "end_time": "2021-03-20T14:02:04.134245Z",
     "start_time": "2021-03-20T14:02:03.591640Z"
    }
   },
   "outputs": [
    {
     "name": "stdout",
     "output_type": "stream",
     "text": [
      "1\n",
      "0\n",
      "1\n"
     ]
    }
   ],
   "source": [
    "from collections import deque\n",
    "\n",
    "def bfs(node, dp):\n",
    "    q = deque()\n",
    "    q.append((node, dp))\n",
    "    while q:\n",
    "        node, dp = q.popleft()\n",
    "        for n in [node+1, node*2, node*3]:\n",
    "            if n <= N and check[n] == 0:\n",
    "                if n == N:\n",
    "                    return check[node]+1, dp+[n]\n",
    "                q.append((n, dp+[n]))\n",
    "                check[n] = check[node]+1\n",
    "\n",
    "N = int(input())\n",
    "if N == 1:\n",
    "    print(0)\n",
    "    print(1)\n",
    "else:\n",
    "    check = [0]*(N+1)\n",
    "    cnt, dp = bfs(1, [1])\n",
    "    print(cnt)\n",
    "    print(*dp[::-1])"
   ]
  },
  {
   "cell_type": "code",
   "execution_count": null,
   "metadata": {},
   "outputs": [],
   "source": []
  }
 ],
 "metadata": {
  "kernelspec": {
   "display_name": "Python 3",
   "language": "python",
   "name": "python3"
  },
  "language_info": {
   "codemirror_mode": {
    "name": "ipython",
    "version": 3
   },
   "file_extension": ".py",
   "mimetype": "text/x-python",
   "name": "python",
   "nbconvert_exporter": "python",
   "pygments_lexer": "ipython3",
   "version": "3.8.5"
  },
  "toc": {
   "base_numbering": 1,
   "nav_menu": {},
   "number_sections": true,
   "sideBar": true,
   "skip_h1_title": false,
   "title_cell": "Table of Contents",
   "title_sidebar": "Contents",
   "toc_cell": false,
   "toc_position": {},
   "toc_section_display": true,
   "toc_window_display": false
  },
  "varInspector": {
   "cols": {
    "lenName": 16,
    "lenType": 16,
    "lenVar": 40
   },
   "kernels_config": {
    "python": {
     "delete_cmd_postfix": "",
     "delete_cmd_prefix": "del ",
     "library": "var_list.py",
     "varRefreshCmd": "print(var_dic_list())"
    },
    "r": {
     "delete_cmd_postfix": ") ",
     "delete_cmd_prefix": "rm(",
     "library": "var_list.r",
     "varRefreshCmd": "cat(var_dic_list()) "
    }
   },
   "types_to_exclude": [
    "module",
    "function",
    "builtin_function_or_method",
    "instance",
    "_Feature"
   ],
   "window_display": false
  }
 },
 "nbformat": 4,
 "nbformat_minor": 4
}
