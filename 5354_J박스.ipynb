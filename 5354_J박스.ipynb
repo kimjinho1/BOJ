{
 "cells": [
  {
   "cell_type": "code",
   "execution_count": 3,
   "metadata": {},
   "outputs": [
    {
     "name": "stdout",
     "output_type": "stream",
     "text": [
      "3\n",
      "1\n",
      "#\n",
      "\n",
      "2\n",
      "##\n",
      "##\n",
      "\n",
      "3\n",
      "###\n",
      "#J#\n",
      "### \n",
      "\n"
     ]
    }
   ],
   "source": [
    "for _ in range(int(input())):\n",
    "    n = int(input())\n",
    "    if n < 3:\n",
    "        for i in range(n):\n",
    "            print('#'*n)\n",
    "        print()\n",
    "    else:\n",
    "        print('#'*n)\n",
    "        for i in range(n-2):\n",
    "            print('#' + 'J'*(n-2) + '#')\n",
    "        print('#'*n, '\\n')"
   ]
  },
  {
   "cell_type": "code",
   "execution_count": null,
   "metadata": {},
   "outputs": [],
   "source": []
  }
 ],
 "metadata": {
  "kernelspec": {
   "display_name": "Python 3",
   "language": "python",
   "name": "python3"
  },
  "language_info": {
   "codemirror_mode": {
    "name": "ipython",
    "version": 3
   },
   "file_extension": ".py",
   "mimetype": "text/x-python",
   "name": "python",
   "nbconvert_exporter": "python",
   "pygments_lexer": "ipython3",
   "version": "3.6.8"
  }
 },
 "nbformat": 4,
 "nbformat_minor": 2
}
