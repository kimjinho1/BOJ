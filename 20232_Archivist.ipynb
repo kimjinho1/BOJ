{
 "cells": [
  {
   "cell_type": "code",
   "execution_count": 1,
   "metadata": {
    "ExecuteTime": {
     "end_time": "2021-02-09T04:05:46.709665Z",
     "start_time": "2021-02-09T04:05:41.180454Z"
    }
   },
   "outputs": [
    {
     "name": "stdout",
     "output_type": "stream",
     "text": [
      "2006\n",
      "PetrSU, ITMO\n"
     ]
    }
   ],
   "source": [
    "y = int(input())\n",
    "d = {1995: \"ITMO\", 1996: \"SPbSU\", 1997: \"SPbSU\", 1998: \"ITMO\", \\\n",
    "     1999: \"ITMO\", 2000: \"SPbSU\", 2001: \"ITMO\", 2002: \"ITMO\", \\\n",
    "     2003: \"ITMO\", 2004: \"ITMO\", 2005: \"ITMO\", 2006: \"PetrSU, ITMO\", \\\n",
    "     2007: \"SPbSU\", 2008: \"SPbSU\", 2009: \"ITMO\", 2010: 'ITMO', \\\n",
    "     2011: 'ITMO', 2012: 'ITMO', 2013: \"SPbSU\", 2014: \"ITMO\", \\\n",
    "     2015: \"ITMO\", 2016: \"ITMO\", 2017: \"ITMO\", 2018: \"SPbSU\", 2019: \"ITMO\"}\n",
    "print(d[y])"
   ]
  },
  {
   "cell_type": "code",
   "execution_count": 3,
   "metadata": {
    "ExecuteTime": {
     "end_time": "2021-02-09T04:05:58.050347Z",
     "start_time": "2021-02-09T04:05:57.181671Z"
    }
   },
   "outputs": [
    {
     "name": "stdout",
     "output_type": "stream",
     "text": [
      "2019\n",
      "ITMO\n"
     ]
    }
   ],
   "source": [
    "y = int(input())\n",
    "d = {1995: \"ITMO\", 1996: \"SPbSU\", 1997: \"SPbSU\", 1998: \"ITMO\", \\\n",
    "     1999: \"ITMO\", 2000: \"SPbSU\", 2001: \"ITMO\", 2002: \"ITMO\", \\\n",
    "     2003: \"ITMO\", 2004: \"ITMO\", 2005: \"ITMO\", 2006: \"PetrSU, ITMO\", \\\n",
    "     2007: \"SPbSU\", 2008: \"SPbSU\", 2009: \"ITMO\", 2010: 'ITMO', \\\n",
    "     2011: 'ITMO', 2012: 'ITMO', 2013: \"SPbSU\", 2014: \"ITMO\", \\\n",
    "     2015: \"ITMO\", 2016: \"ITMO\", 2017: \"ITMO\", 2018: \"SPbSU\", 2019: \"ITMO\"}\n",
    "print(d[y])"
   ]
  },
  {
   "cell_type": "code",
   "execution_count": 4,
   "metadata": {
    "ExecuteTime": {
     "end_time": "2021-02-09T04:06:00.416022Z",
     "start_time": "2021-02-09T04:05:59.459579Z"
    }
   },
   "outputs": [
    {
     "name": "stdout",
     "output_type": "stream",
     "text": [
      "2018\n",
      "SPbSU\n"
     ]
    }
   ],
   "source": [
    "y = int(input())\n",
    "d = {1995: \"ITMO\", 1996: \"SPbSU\", 1997: \"SPbSU\", 1998: \"ITMO\", \\\n",
    "     1999: \"ITMO\", 2000: \"SPbSU\", 2001: \"ITMO\", 2002: \"ITMO\", \\\n",
    "     2003: \"ITMO\", 2004: \"ITMO\", 2005: \"ITMO\", 2006: \"PetrSU, ITMO\", \\\n",
    "     2007: \"SPbSU\", 2008: \"SPbSU\", 2009: \"ITMO\", 2010: 'ITMO', \\\n",
    "     2011: 'ITMO', 2012: 'ITMO', 2013: \"SPbSU\", 2014: \"ITMO\", \\\n",
    "     2015: \"ITMO\", 2016: \"ITMO\", 2017: \"ITMO\", 2018: \"SPbSU\", 2019: \"ITMO\"}\n",
    "print(d[y])"
   ]
  },
  {
   "cell_type": "code",
   "execution_count": 5,
   "metadata": {
    "ExecuteTime": {
     "end_time": "2021-02-09T04:06:02.532398Z",
     "start_time": "2021-02-09T04:06:01.736491Z"
    }
   },
   "outputs": [
    {
     "name": "stdout",
     "output_type": "stream",
     "text": [
      "2003\n",
      "ITMO\n"
     ]
    }
   ],
   "source": [
    "y = int(input())\n",
    "d = {1995: \"ITMO\", 1996: \"SPbSU\", 1997: \"SPbSU\", 1998: \"ITMO\", \\\n",
    "     1999: \"ITMO\", 2000: \"SPbSU\", 2001: \"ITMO\", 2002: \"ITMO\", \\\n",
    "     2003: \"ITMO\", 2004: \"ITMO\", 2005: \"ITMO\", 2006: \"PetrSU, ITMO\", \\\n",
    "     2007: \"SPbSU\", 2008: \"SPbSU\", 2009: \"ITMO\", 2010: 'ITMO', \\\n",
    "     2011: 'ITMO', 2012: 'ITMO', 2013: \"SPbSU\", 2014: \"ITMO\", \\\n",
    "     2015: \"ITMO\", 2016: \"ITMO\", 2017: \"ITMO\", 2018: \"SPbSU\", 2019: \"ITMO\"}\n",
    "print(d[y])"
   ]
  },
  {
   "cell_type": "code",
   "execution_count": null,
   "metadata": {},
   "outputs": [],
   "source": []
  }
 ],
 "metadata": {
  "kernelspec": {
   "display_name": "Python 3",
   "language": "python",
   "name": "python3"
  },
  "language_info": {
   "codemirror_mode": {
    "name": "ipython",
    "version": 3
   },
   "file_extension": ".py",
   "mimetype": "text/x-python",
   "name": "python",
   "nbconvert_exporter": "python",
   "pygments_lexer": "ipython3",
   "version": "3.8.5"
  },
  "toc": {
   "base_numbering": 1,
   "nav_menu": {},
   "number_sections": true,
   "sideBar": true,
   "skip_h1_title": false,
   "title_cell": "Table of Contents",
   "title_sidebar": "Contents",
   "toc_cell": false,
   "toc_position": {},
   "toc_section_display": true,
   "toc_window_display": false
  },
  "varInspector": {
   "cols": {
    "lenName": 16,
    "lenType": 16,
    "lenVar": 40
   },
   "kernels_config": {
    "python": {
     "delete_cmd_postfix": "",
     "delete_cmd_prefix": "del ",
     "library": "var_list.py",
     "varRefreshCmd": "print(var_dic_list())"
    },
    "r": {
     "delete_cmd_postfix": ") ",
     "delete_cmd_prefix": "rm(",
     "library": "var_list.r",
     "varRefreshCmd": "cat(var_dic_list()) "
    }
   },
   "types_to_exclude": [
    "module",
    "function",
    "builtin_function_or_method",
    "instance",
    "_Feature"
   ],
   "window_display": false
  }
 },
 "nbformat": 4,
 "nbformat_minor": 4
}
