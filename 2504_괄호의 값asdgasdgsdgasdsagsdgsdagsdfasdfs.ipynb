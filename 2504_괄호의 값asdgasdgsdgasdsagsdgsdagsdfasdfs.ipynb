{
 "cells": [
  {
   "cell_type": "code",
   "execution_count": 9,
   "metadata": {},
   "outputs": [
    {
     "name": "stdout",
     "output_type": "stream",
     "text": [
      "(()[[]])([])\n",
      "28\n"
     ]
    }
   ],
   "source": [
    "# 답은 맞게나오지만 속도가 너무 느려 시간초과가 뜬다.\n",
    "# 확실히 느린 코드이긴 하다. 문제 자체가 어렵기도 해서 나중에 다시 도전해야 될 것 같다.\n",
    "a = input()\n",
    "copy = a\n",
    "while '()' in a or '[]' in a:\n",
    "    a = a.replace('()', '2')\n",
    "    a = a.replace('[]', '3')\n",
    "    copy = copy.replace('()','')\n",
    "    copy = copy.replace('()','')\n",
    "if len(copy) == 0:\n",
    "    print(0)\n",
    "else:\n",
    "    a = list(a)\n",
    "    while len(a) > 1:\n",
    "        if a[-2].isdigit() and a[-1].isdigit():\n",
    "                a[-2] = str(int(a[-2]) + int(a[-1]))\n",
    "                a.pop(-1)\n",
    "                break\n",
    "        for i in range(len(a)-2):\n",
    "            if a[i].isdigit() and a[i+1].isdigit():\n",
    "                a[i] = str(int(a[i]) + int(a[i+1]))\n",
    "                a.pop(i+1)\n",
    "                break\n",
    "            if a[i] == '(' and a[i+1].isdigit() and a[i+2] == ')':\n",
    "                a.pop(i+2)\n",
    "                a[i] = str(int(a[i+1])*2)\n",
    "                a.pop(i+1)\n",
    "                break\n",
    "            if a[i] == '[' and a[i+1].isdigit() and a[i+2] == ']':\n",
    "                a.pop(i+2)\n",
    "                a[i] = str(int(a[i+1])*3)\n",
    "                a.pop(i+1)\n",
    "                break      \n",
    "    print(*a)"
   ]
  },
  {
   "cell_type": "code",
   "execution_count": null,
   "metadata": {},
   "outputs": [],
   "source": []
  }
 ],
 "metadata": {
  "kernelspec": {
   "display_name": "Python 3",
   "language": "python",
   "name": "python3"
  },
  "language_info": {
   "codemirror_mode": {
    "name": "ipython",
    "version": 3
   },
   "file_extension": ".py",
   "mimetype": "text/x-python",
   "name": "python",
   "nbconvert_exporter": "python",
   "pygments_lexer": "ipython3",
   "version": "3.6.8"
  }
 },
 "nbformat": 4,
 "nbformat_minor": 2
}
