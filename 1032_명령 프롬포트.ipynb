{
 "cells": [
  {
   "cell_type": "code",
   "execution_count": 2,
   "metadata": {},
   "outputs": [
    {
     "name": "stdout",
     "output_type": "stream",
     "text": [
      "3\n",
      "config.sys\n",
      "config.inf\n",
      "configures\n",
      "config????\n"
     ]
    }
   ],
   "source": [
    "n = int(input())\n",
    "a = list(input())\n",
    "l = len(a)\n",
    "for _ in range(n-1):\n",
    "    b = list(input())\n",
    "    for i in range(l):\n",
    "        if a[i] != b[i]:\n",
    "            a[i] = '?'\n",
    "print(''.join(a))"
   ]
  },
  {
   "cell_type": "code",
   "execution_count": null,
   "metadata": {},
   "outputs": [],
   "source": []
  }
 ],
 "metadata": {
  "kernelspec": {
   "display_name": "Python 3",
   "language": "python",
   "name": "python3"
  },
  "language_info": {
   "codemirror_mode": {
    "name": "ipython",
    "version": 3
   },
   "file_extension": ".py",
   "mimetype": "text/x-python",
   "name": "python",
   "nbconvert_exporter": "python",
   "pygments_lexer": "ipython3",
   "version": "3.6.8"
  }
 },
 "nbformat": 4,
 "nbformat_minor": 2
}
