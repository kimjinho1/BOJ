{
 "cells": [
  {
   "cell_type": "code",
   "execution_count": 34,
   "metadata": {
    "ExecuteTime": {
     "end_time": "2021-03-07T17:30:28.205278Z",
     "start_time": "2021-03-07T17:30:26.095808Z"
    }
   },
   "outputs": [
    {
     "name": "stdout",
     "output_type": "stream",
     "text": [
      "4 2 3 10\n",
      "18\n"
     ]
    }
   ],
   "source": [
    "X, Y, W, S = map(int, input().split())\n",
    "X, Y = min(X, Y), max(X, Y)\n",
    "if S < W*2:\n",
    "    s, b = min(X, Y), max(X, Y)\n",
    "    if S <= W:\n",
    "        m = (X+Y)%2\n",
    "        print((Y-m)*S + m*W)\n",
    "    else:\n",
    "        print(X*S + (Y-X)*W)\n",
    "else:\n",
    "    print((X+Y)*W)"
   ]
  },
  {
   "cell_type": "code",
   "execution_count": 23,
   "metadata": {
    "ExecuteTime": {
     "end_time": "2021-03-07T17:17:59.523048Z",
     "start_time": "2021-03-07T17:17:53.102053Z"
    }
   },
   "outputs": [
    {
     "name": "stdout",
     "output_type": "stream",
     "text": [
      "4 2 3 10\n",
      "18\n"
     ]
    }
   ],
   "source": [
    "X, Y, W, S = map(int, input().split())\n",
    "X, Y = min(X, Y), max(X, Y)\n",
    "m = (X+Y)%2\n",
    "print(min((X+Y)*W, X*S + (Y-X)*W, (Y-m)*S + m*W))"
   ]
  },
  {
   "cell_type": "code",
   "execution_count": null,
   "metadata": {},
   "outputs": [],
   "source": []
  }
 ],
 "metadata": {
  "kernelspec": {
   "display_name": "Python 3",
   "language": "python",
   "name": "python3"
  },
  "language_info": {
   "codemirror_mode": {
    "name": "ipython",
    "version": 3
   },
   "file_extension": ".py",
   "mimetype": "text/x-python",
   "name": "python",
   "nbconvert_exporter": "python",
   "pygments_lexer": "ipython3",
   "version": "3.8.5"
  },
  "toc": {
   "base_numbering": 1,
   "nav_menu": {},
   "number_sections": true,
   "sideBar": true,
   "skip_h1_title": false,
   "title_cell": "Table of Contents",
   "title_sidebar": "Contents",
   "toc_cell": false,
   "toc_position": {},
   "toc_section_display": true,
   "toc_window_display": false
  },
  "varInspector": {
   "cols": {
    "lenName": 16,
    "lenType": 16,
    "lenVar": 40
   },
   "kernels_config": {
    "python": {
     "delete_cmd_postfix": "",
     "delete_cmd_prefix": "del ",
     "library": "var_list.py",
     "varRefreshCmd": "print(var_dic_list())"
    },
    "r": {
     "delete_cmd_postfix": ") ",
     "delete_cmd_prefix": "rm(",
     "library": "var_list.r",
     "varRefreshCmd": "cat(var_dic_list()) "
    }
   },
   "types_to_exclude": [
    "module",
    "function",
    "builtin_function_or_method",
    "instance",
    "_Feature"
   ],
   "window_display": false
  }
 },
 "nbformat": 4,
 "nbformat_minor": 4
}
