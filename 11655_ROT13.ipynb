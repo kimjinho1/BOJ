{
 "cells": [
  {
   "cell_type": "code",
   "execution_count": 19,
   "id": "serial-narrow",
   "metadata": {
    "ExecuteTime": {
     "end_time": "2021-02-20T12:19:17.066149Z",
     "start_time": "2021-02-20T12:19:16.237683Z"
    }
   },
   "outputs": [
    {
     "name": "stdout",
     "output_type": "stream",
     "text": [
      "Baekjoon Online Judge\n",
      "Onrxwbba Bayvar Whqtr\n"
     ]
    }
   ],
   "source": [
    "s = input()\n",
    "res = ''\n",
    "for c in s:\n",
    "    if 'a' <= c <= 'z':\n",
    "        res += chr((ord(c)+13) if c <= 'm' else ord(c)-13)\n",
    "    elif 'A' <= c <= 'Z':\n",
    "        res += chr((ord(c)+13) if c <= 'M' else ord(c)-13)\n",
    "    else:\n",
    "        res += c\n",
    "print(res)"
   ]
  },
  {
   "cell_type": "code",
   "execution_count": 20,
   "id": "widespread-guitar",
   "metadata": {
    "ExecuteTime": {
     "end_time": "2021-02-20T12:19:25.073364Z",
     "start_time": "2021-02-20T12:19:24.668565Z"
    }
   },
   "outputs": [
    {
     "name": "stdout",
     "output_type": "stream",
     "text": [
      "One is 1\n",
      "Bar vf 1\n"
     ]
    }
   ],
   "source": [
    "s = input()\n",
    "res = ''\n",
    "for c in s:\n",
    "    if 'a' <= c <= 'z':\n",
    "        res += chr((ord(c)+13) if c <= 'm' else ord(c)-13)\n",
    "    elif 'A' <= c <= 'Z':\n",
    "        res += chr((ord(c)+13) if c <= 'M' else ord(c)-13)\n",
    "    else:\n",
    "        res += c\n",
    "print(res)"
   ]
  },
  {
   "cell_type": "code",
   "execution_count": null,
   "id": "identified-assault",
   "metadata": {},
   "outputs": [],
   "source": []
  }
 ],
 "metadata": {
  "kernelspec": {
   "display_name": "Python 3",
   "language": "python",
   "name": "python3"
  },
  "language_info": {
   "codemirror_mode": {
    "name": "ipython",
    "version": 3
   },
   "file_extension": ".py",
   "mimetype": "text/x-python",
   "name": "python",
   "nbconvert_exporter": "python",
   "pygments_lexer": "ipython3",
   "version": "3.7.9"
  },
  "toc": {
   "base_numbering": 1,
   "nav_menu": {},
   "number_sections": true,
   "sideBar": true,
   "skip_h1_title": false,
   "title_cell": "Table of Contents",
   "title_sidebar": "Contents",
   "toc_cell": false,
   "toc_position": {},
   "toc_section_display": true,
   "toc_window_display": false
  },
  "varInspector": {
   "cols": {
    "lenName": 16,
    "lenType": 16,
    "lenVar": 40
   },
   "kernels_config": {
    "python": {
     "delete_cmd_postfix": "",
     "delete_cmd_prefix": "del ",
     "library": "var_list.py",
     "varRefreshCmd": "print(var_dic_list())"
    },
    "r": {
     "delete_cmd_postfix": ") ",
     "delete_cmd_prefix": "rm(",
     "library": "var_list.r",
     "varRefreshCmd": "cat(var_dic_list()) "
    }
   },
   "types_to_exclude": [
    "module",
    "function",
    "builtin_function_or_method",
    "instance",
    "_Feature"
   ],
   "window_display": false
  }
 },
 "nbformat": 4,
 "nbformat_minor": 5
}
