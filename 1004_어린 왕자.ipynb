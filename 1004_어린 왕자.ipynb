{
 "cells": [
  {
   "cell_type": "code",
   "execution_count": 13,
   "metadata": {},
   "outputs": [
    {
     "name": "stdout",
     "output_type": "stream",
     "text": [
      "2\n",
      "-5 1 12 1\n",
      "7\n",
      "1 1 8\n",
      "True False\n",
      "-3 -1 -1\n",
      "False False\n",
      "2 2 2\n",
      "False False\n",
      "5 5 1\n",
      "False False\n",
      "-4 5 1\n",
      "False False\n",
      "12 1 1\n",
      "False True\n",
      "12 1 2\n",
      "False True\n",
      "3\n",
      "-5 1 5 1\n",
      "1\n",
      "0 0 2\n",
      "False False\n",
      "0\n"
     ]
    }
   ],
   "source": [
    "from math import sqrt\n",
    "\n",
    "for _ in range(int(input())):\n",
    "    x1, y1, x2, y2 = map(int, input().split())\n",
    "    s, e = [x1, y1], [x2, y2]\n",
    "    ans = 0\n",
    "    for i in range(int(input())):\n",
    "        x, y, r = map(int, input().split())\n",
    "        d1 = sqrt((x-x1)**2 + (y-y1)**2)\n",
    "        d2 = sqrt((x-x2)**2 + (y-y2)**2)\n",
    "        if (d1 < r) ^ (d2 < r):\n",
    "            ans += 1\n",
    "    print(ans)"
   ]
  },
  {
   "cell_type": "code",
   "execution_count": null,
   "metadata": {},
   "outputs": [],
   "source": []
  }
 ],
 "metadata": {
  "kernelspec": {
   "display_name": "Python 3",
   "language": "python",
   "name": "python3"
  },
  "language_info": {
   "codemirror_mode": {
    "name": "ipython",
    "version": 3
   },
   "file_extension": ".py",
   "mimetype": "text/x-python",
   "name": "python",
   "nbconvert_exporter": "python",
   "pygments_lexer": "ipython3",
   "version": "3.6.8"
  }
 },
 "nbformat": 4,
 "nbformat_minor": 2
}
