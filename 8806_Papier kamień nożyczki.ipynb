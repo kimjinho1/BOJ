{
 "cells": [
  {
   "cell_type": "code",
   "execution_count": 6,
   "id": "premium-kruger",
   "metadata": {
    "ExecuteTime": {
     "end_time": "2021-02-20T11:28:32.995695Z",
     "start_time": "2021-02-20T11:28:17.657362Z"
    }
   },
   "outputs": [
    {
     "name": "stdout",
     "output_type": "stream",
     "text": [
      "3\n",
      "0.34 0.33 0.33\n",
      "0 0 1\n",
      "GOSIA\n",
      "0.5 0.5 0\n",
      "0.33 0.33 0.34\n",
      "=\n",
      "1 0 0\n",
      "0 1 0\n",
      "ADAM\n"
     ]
    }
   ],
   "source": [
    "for _ in range(int(input())):\n",
    "    li1 = list(map(float, input().split()))\n",
    "    li2 = list(map(float, input().split()))\n",
    "    a = li1[0]*li2[1] + li1[1]*li2[2] + li1[2]*li2[0]\n",
    "    g = li2[0]*li1[1] + li2[1]*li1[2] + li2[2]*li1[0]\n",
    "    if a == g:\n",
    "        print('=')\n",
    "    elif a > g:\n",
    "        print(\"ADAM\")\n",
    "    else:\n",
    "        print(\"GOSIA\")"
   ]
  },
  {
   "cell_type": "code",
   "execution_count": null,
   "id": "sought-english",
   "metadata": {},
   "outputs": [],
   "source": []
  }
 ],
 "metadata": {
  "kernelspec": {
   "display_name": "Python 3",
   "language": "python",
   "name": "python3"
  },
  "language_info": {
   "codemirror_mode": {
    "name": "ipython",
    "version": 3
   },
   "file_extension": ".py",
   "mimetype": "text/x-python",
   "name": "python",
   "nbconvert_exporter": "python",
   "pygments_lexer": "ipython3",
   "version": "3.7.9"
  },
  "toc": {
   "base_numbering": 1,
   "nav_menu": {},
   "number_sections": true,
   "sideBar": true,
   "skip_h1_title": false,
   "title_cell": "Table of Contents",
   "title_sidebar": "Contents",
   "toc_cell": false,
   "toc_position": {},
   "toc_section_display": true,
   "toc_window_display": false
  },
  "varInspector": {
   "cols": {
    "lenName": 16,
    "lenType": 16,
    "lenVar": 40
   },
   "kernels_config": {
    "python": {
     "delete_cmd_postfix": "",
     "delete_cmd_prefix": "del ",
     "library": "var_list.py",
     "varRefreshCmd": "print(var_dic_list())"
    },
    "r": {
     "delete_cmd_postfix": ") ",
     "delete_cmd_prefix": "rm(",
     "library": "var_list.r",
     "varRefreshCmd": "cat(var_dic_list()) "
    }
   },
   "types_to_exclude": [
    "module",
    "function",
    "builtin_function_or_method",
    "instance",
    "_Feature"
   ],
   "window_display": false
  }
 },
 "nbformat": 4,
 "nbformat_minor": 5
}
