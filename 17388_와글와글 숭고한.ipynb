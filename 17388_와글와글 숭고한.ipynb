{
 "cells": [
  {
   "cell_type": "code",
   "execution_count": 9,
   "metadata": {
    "ExecuteTime": {
     "end_time": "2021-02-09T00:50:14.545723Z",
     "start_time": "2021-02-09T00:50:12.733569Z"
    }
   },
   "outputs": [
    {
     "name": "stdout",
     "output_type": "stream",
     "text": [
      "31 41 59\n",
      "OK\n"
     ]
    }
   ],
   "source": [
    "S, K, H = map(int, input().split())\n",
    "d = {S: \"Soongsil\", K: \"Korea\", H: \"Hanyang\"}\n",
    "if sum(d) >= 100:\n",
    "    print(\"OK\")\n",
    "else:\n",
    "    print(d[min(d)])"
   ]
  },
  {
   "cell_type": "code",
   "execution_count": 10,
   "metadata": {
    "ExecuteTime": {
     "end_time": "2021-02-09T00:50:17.715250Z",
     "start_time": "2021-02-09T00:50:16.698003Z"
    }
   },
   "outputs": [
    {
     "name": "stdout",
     "output_type": "stream",
     "text": [
      "1 2 3\n",
      "Soongsil\n"
     ]
    }
   ],
   "source": [
    "S, K, H = map(int, input().split())\n",
    "d = {S: \"Soongsil\", K: \"Korea\", H: \"Hanyang\"}\n",
    "if sum(d) >= 100:\n",
    "    print(\"OK\")\n",
    "else:\n",
    "    print(d[min(d)])"
   ]
  },
  {
   "cell_type": "code",
   "execution_count": 11,
   "metadata": {
    "ExecuteTime": {
     "end_time": "2021-02-09T00:50:24.599842Z",
     "start_time": "2021-02-09T00:50:23.222524Z"
    }
   },
   "outputs": [
    {
     "name": "stdout",
     "output_type": "stream",
     "text": [
      "19 8 9\n",
      "Korea\n"
     ]
    }
   ],
   "source": [
    "S, K, H = map(int, input().split())\n",
    "d = {S: \"Soongsil\", K: \"Korea\", H: \"Hanyang\"}\n",
    "if sum(d) >= 100:\n",
    "    print(\"OK\")\n",
    "else:\n",
    "    print(d[min(d)])"
   ]
  },
  {
   "cell_type": "code",
   "execution_count": 12,
   "metadata": {
    "ExecuteTime": {
     "end_time": "2021-02-09T00:50:35.058905Z",
     "start_time": "2021-02-09T00:50:32.096796Z"
    }
   },
   "outputs": [
    {
     "name": "stdout",
     "output_type": "stream",
     "text": [
      "45 33 21\n",
      "Hanyang\n"
     ]
    }
   ],
   "source": [
    "S, K, H = map(int, input().split())\n",
    "d = {S: \"Soongsil\", K: \"Korea\", H: \"Hanyang\"}\n",
    "if sum(d) >= 100:\n",
    "    print(\"OK\")\n",
    "else:\n",
    "    print(d[min(d)])"
   ]
  },
  {
   "cell_type": "code",
   "execution_count": null,
   "metadata": {},
   "outputs": [],
   "source": []
  }
 ],
 "metadata": {
  "kernelspec": {
   "display_name": "Python 3",
   "language": "python",
   "name": "python3"
  },
  "language_info": {
   "codemirror_mode": {
    "name": "ipython",
    "version": 3
   },
   "file_extension": ".py",
   "mimetype": "text/x-python",
   "name": "python",
   "nbconvert_exporter": "python",
   "pygments_lexer": "ipython3",
   "version": "3.8.5"
  },
  "toc": {
   "base_numbering": 1,
   "nav_menu": {},
   "number_sections": true,
   "sideBar": true,
   "skip_h1_title": false,
   "title_cell": "Table of Contents",
   "title_sidebar": "Contents",
   "toc_cell": false,
   "toc_position": {},
   "toc_section_display": true,
   "toc_window_display": false
  },
  "varInspector": {
   "cols": {
    "lenName": 16,
    "lenType": 16,
    "lenVar": 40
   },
   "kernels_config": {
    "python": {
     "delete_cmd_postfix": "",
     "delete_cmd_prefix": "del ",
     "library": "var_list.py",
     "varRefreshCmd": "print(var_dic_list())"
    },
    "r": {
     "delete_cmd_postfix": ") ",
     "delete_cmd_prefix": "rm(",
     "library": "var_list.r",
     "varRefreshCmd": "cat(var_dic_list()) "
    }
   },
   "types_to_exclude": [
    "module",
    "function",
    "builtin_function_or_method",
    "instance",
    "_Feature"
   ],
   "window_display": false
  }
 },
 "nbformat": 4,
 "nbformat_minor": 4
}
