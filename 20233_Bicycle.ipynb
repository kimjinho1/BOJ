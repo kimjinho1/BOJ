{
 "cells": [
  {
   "cell_type": "code",
   "execution_count": 5,
   "metadata": {
    "ExecuteTime": {
     "end_time": "2021-02-09T04:14:30.903960Z",
     "start_time": "2021-02-09T04:14:28.292944Z"
    }
   },
   "outputs": [
    {
     "name": "stdout",
     "output_type": "stream",
     "text": [
      "10\n",
      "1\n",
      "20\n",
      "5\n",
      "50\n",
      "430 545\n"
     ]
    }
   ],
   "source": [
    "a = int(input())\n",
    "x = int(input())\n",
    "b = int(input())\n",
    "y = int(input())\n",
    "T = int(input())\n",
    "A = a + max(T-30, 0)*x*21\n",
    "B = b + max(T-45, 0)*y*21\n",
    "print(A, B)"
   ]
  },
  {
   "cell_type": "code",
   "execution_count": 6,
   "metadata": {
    "ExecuteTime": {
     "end_time": "2021-02-09T04:14:50.305087Z",
     "start_time": "2021-02-09T04:14:47.035827Z"
    }
   },
   "outputs": [
    {
     "name": "stdout",
     "output_type": "stream",
     "text": [
      "10\n",
      "10\n",
      "10\n",
      "10\n",
      "42\n",
      "2530 10\n"
     ]
    }
   ],
   "source": [
    "a = int(input())\n",
    "x = int(input())\n",
    "b = int(input())\n",
    "y = int(input())\n",
    "T = int(input())\n",
    "A = a + max(T-30, 0)*x*21\n",
    "B = b + max(T-45, 0)*y*21\n",
    "print(A, B)"
   ]
  },
  {
   "cell_type": "code",
   "execution_count": 7,
   "metadata": {
    "ExecuteTime": {
     "end_time": "2021-02-09T04:14:58.875173Z",
     "start_time": "2021-02-09T04:14:55.847269Z"
    }
   },
   "outputs": [
    {
     "name": "stdout",
     "output_type": "stream",
     "text": [
      "10\n",
      "10\n",
      "10\n",
      "10\n",
      "27\n",
      "10 10\n"
     ]
    }
   ],
   "source": [
    "a = int(input())\n",
    "x = int(input())\n",
    "b = int(input())\n",
    "y = int(input())\n",
    "T = int(input())\n",
    "A = a + max(T-30, 0)*x*21\n",
    "B = b + max(T-45, 0)*y*21\n",
    "print(A, B)"
   ]
  },
  {
   "cell_type": "code",
   "execution_count": null,
   "metadata": {},
   "outputs": [],
   "source": []
  }
 ],
 "metadata": {
  "kernelspec": {
   "display_name": "Python 3",
   "language": "python",
   "name": "python3"
  },
  "language_info": {
   "codemirror_mode": {
    "name": "ipython",
    "version": 3
   },
   "file_extension": ".py",
   "mimetype": "text/x-python",
   "name": "python",
   "nbconvert_exporter": "python",
   "pygments_lexer": "ipython3",
   "version": "3.8.5"
  },
  "toc": {
   "base_numbering": 1,
   "nav_menu": {},
   "number_sections": true,
   "sideBar": true,
   "skip_h1_title": false,
   "title_cell": "Table of Contents",
   "title_sidebar": "Contents",
   "toc_cell": false,
   "toc_position": {},
   "toc_section_display": true,
   "toc_window_display": false
  },
  "varInspector": {
   "cols": {
    "lenName": 16,
    "lenType": 16,
    "lenVar": 40
   },
   "kernels_config": {
    "python": {
     "delete_cmd_postfix": "",
     "delete_cmd_prefix": "del ",
     "library": "var_list.py",
     "varRefreshCmd": "print(var_dic_list())"
    },
    "r": {
     "delete_cmd_postfix": ") ",
     "delete_cmd_prefix": "rm(",
     "library": "var_list.r",
     "varRefreshCmd": "cat(var_dic_list()) "
    }
   },
   "types_to_exclude": [
    "module",
    "function",
    "builtin_function_or_method",
    "instance",
    "_Feature"
   ],
   "window_display": false
  }
 },
 "nbformat": 4,
 "nbformat_minor": 4
}
