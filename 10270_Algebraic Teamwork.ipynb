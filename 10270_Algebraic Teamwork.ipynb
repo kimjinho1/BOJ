{
 "cells": [
  {
   "cell_type": "code",
   "execution_count": 5,
   "id": "stretch-quebec",
   "metadata": {
    "ExecuteTime": {
     "end_time": "2021-02-18T02:58:30.016018Z",
     "start_time": "2021-02-18T02:58:26.628088Z"
    }
   },
   "outputs": [
    {
     "name": "stdout",
     "output_type": "stream",
     "text": [
      "3\n",
      "1\n",
      "0\n",
      "2\n",
      "1\n",
      "2171\n",
      "6425\n"
     ]
    }
   ],
   "source": [
    "from math import factorial\n",
    "\n",
    "for _ in range(int(input())):\n",
    "    n = int(input())\n",
    "    res = factorial(n)\n",
    "    print((res-1) % (10**9 + 7))"
   ]
  },
  {
   "cell_type": "code",
   "execution_count": null,
   "id": "celtic-accused",
   "metadata": {},
   "outputs": [],
   "source": [
    "from sys import stdin\n",
    "from math import factorial\n",
    "\n",
    "for _ in range(int(stdin.readline())):\n",
    "    n = int(stdin.readline())\n",
    "    res = factorial(n)\n",
    "    print((res-1) % (10**9 + 7))"
   ]
  },
  {
   "cell_type": "code",
   "execution_count": null,
   "id": "cloudy-tribute",
   "metadata": {},
   "outputs": [],
   "source": []
  }
 ],
 "metadata": {
  "kernelspec": {
   "display_name": "Python 3",
   "language": "python",
   "name": "python3"
  },
  "language_info": {
   "codemirror_mode": {
    "name": "ipython",
    "version": 3
   },
   "file_extension": ".py",
   "mimetype": "text/x-python",
   "name": "python",
   "nbconvert_exporter": "python",
   "pygments_lexer": "ipython3",
   "version": "3.7.9"
  },
  "toc": {
   "base_numbering": 1,
   "nav_menu": {},
   "number_sections": true,
   "sideBar": true,
   "skip_h1_title": false,
   "title_cell": "Table of Contents",
   "title_sidebar": "Contents",
   "toc_cell": false,
   "toc_position": {},
   "toc_section_display": true,
   "toc_window_display": false
  },
  "varInspector": {
   "cols": {
    "lenName": 16,
    "lenType": 16,
    "lenVar": 40
   },
   "kernels_config": {
    "python": {
     "delete_cmd_postfix": "",
     "delete_cmd_prefix": "del ",
     "library": "var_list.py",
     "varRefreshCmd": "print(var_dic_list())"
    },
    "r": {
     "delete_cmd_postfix": ") ",
     "delete_cmd_prefix": "rm(",
     "library": "var_list.r",
     "varRefreshCmd": "cat(var_dic_list()) "
    }
   },
   "types_to_exclude": [
    "module",
    "function",
    "builtin_function_or_method",
    "instance",
    "_Feature"
   ],
   "window_display": false
  }
 },
 "nbformat": 4,
 "nbformat_minor": 5
}
