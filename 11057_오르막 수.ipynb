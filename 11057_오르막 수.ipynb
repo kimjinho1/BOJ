{
 "cells": [
  {
   "cell_type": "code",
   "execution_count": 15,
   "metadata": {
    "ExecuteTime": {
     "end_time": "2021-03-21T04:30:11.295738Z",
     "start_time": "2021-03-21T04:30:11.002295Z"
    }
   },
   "outputs": [
    {
     "name": "stdout",
     "output_type": "stream",
     "text": [
      "1\n",
      "10\n"
     ]
    }
   ],
   "source": [
    "N = int(input())\n",
    "dp = [[0]*10 for _ in range(N+1)]\n",
    "for i in range(10):\n",
    "    dp[1][i] = 1\n",
    "for i in range(2, N+1):\n",
    "    for j in range(10):\n",
    "        for k in range(j+1):\n",
    "            dp[i][j] += dp[i-1][k]\n",
    "print(sum(dp[N])%10007)"
   ]
  },
  {
   "cell_type": "code",
   "execution_count": 16,
   "metadata": {
    "ExecuteTime": {
     "end_time": "2021-03-21T04:30:12.990587Z",
     "start_time": "2021-03-21T04:30:12.759108Z"
    }
   },
   "outputs": [
    {
     "name": "stdout",
     "output_type": "stream",
     "text": [
      "2\n",
      "55\n"
     ]
    }
   ],
   "source": [
    "N = int(input())\n",
    "dp = [[0]*10 for _ in range(N+1)]\n",
    "for i in range(10):\n",
    "    dp[1][i] = 1\n",
    "for i in range(2, N+1):\n",
    "    for j in range(10):\n",
    "        for k in range(j+1):\n",
    "            dp[i][j] += dp[i-1][k]\n",
    "print(sum(dp[N])%10007)"
   ]
  },
  {
   "cell_type": "code",
   "execution_count": 17,
   "metadata": {
    "ExecuteTime": {
     "end_time": "2021-03-21T04:30:17.568447Z",
     "start_time": "2021-03-21T04:30:17.275947Z"
    }
   },
   "outputs": [
    {
     "name": "stdout",
     "output_type": "stream",
     "text": [
      "3\n",
      "220\n"
     ]
    }
   ],
   "source": [
    "N = int(input())\n",
    "dp = [[0]*10 for _ in range(N+1)]\n",
    "for i in range(10):\n",
    "    dp[1][i] = 1\n",
    "for i in range(2, N+1):\n",
    "    for j in range(10):\n",
    "        for k in range(j+1):\n",
    "            dp[i][j] += dp[i-1][k]\n",
    "print(sum(dp[N])%10007)"
   ]
  },
  {
   "cell_type": "code",
   "execution_count": null,
   "metadata": {},
   "outputs": [],
   "source": []
  }
 ],
 "metadata": {
  "kernelspec": {
   "display_name": "Python 3",
   "language": "python",
   "name": "python3"
  },
  "language_info": {
   "codemirror_mode": {
    "name": "ipython",
    "version": 3
   },
   "file_extension": ".py",
   "mimetype": "text/x-python",
   "name": "python",
   "nbconvert_exporter": "python",
   "pygments_lexer": "ipython3",
   "version": "3.8.5"
  },
  "toc": {
   "base_numbering": 1,
   "nav_menu": {},
   "number_sections": true,
   "sideBar": true,
   "skip_h1_title": false,
   "title_cell": "Table of Contents",
   "title_sidebar": "Contents",
   "toc_cell": false,
   "toc_position": {},
   "toc_section_display": true,
   "toc_window_display": false
  },
  "varInspector": {
   "cols": {
    "lenName": 16,
    "lenType": 16,
    "lenVar": 40
   },
   "kernels_config": {
    "python": {
     "delete_cmd_postfix": "",
     "delete_cmd_prefix": "del ",
     "library": "var_list.py",
     "varRefreshCmd": "print(var_dic_list())"
    },
    "r": {
     "delete_cmd_postfix": ") ",
     "delete_cmd_prefix": "rm(",
     "library": "var_list.r",
     "varRefreshCmd": "cat(var_dic_list()) "
    }
   },
   "types_to_exclude": [
    "module",
    "function",
    "builtin_function_or_method",
    "instance",
    "_Feature"
   ],
   "window_display": false
  }
 },
 "nbformat": 4,
 "nbformat_minor": 4
}
