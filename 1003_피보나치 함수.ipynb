{
 "cells": [
  {
   "cell_type": "code",
   "execution_count": 21,
   "metadata": {},
   "outputs": [
    {
     "name": "stdout",
     "output_type": "stream",
     "text": [
      "3\n",
      "0\n",
      "1 0\n",
      "1\n",
      "0 1\n",
      "3\n",
      "1 2\n"
     ]
    }
   ],
   "source": [
    "def s(a, b):\n",
    "    t1 = a[0] + b[0]\n",
    "    t2 = a[1] + b[1]\n",
    "    return [t1, t2]\n",
    "\n",
    "for _ in range(int(input())):\n",
    "    a, b = [0, 1], [1, 0]\n",
    "    n = int(input())\n",
    "    if n == 0:\n",
    "        print(*b)\n",
    "    elif n == 1:\n",
    "        print(*a)\n",
    "    else:\n",
    "        for i in range(n-1):\n",
    "            a, b = s(a, b), a\n",
    "        print(*a)"
   ]
  },
  {
   "cell_type": "code",
   "execution_count": null,
   "metadata": {},
   "outputs": [],
   "source": []
  }
 ],
 "metadata": {
  "kernelspec": {
   "display_name": "Python 3",
   "language": "python",
   "name": "python3"
  },
  "language_info": {
   "codemirror_mode": {
    "name": "ipython",
    "version": 3
   },
   "file_extension": ".py",
   "mimetype": "text/x-python",
   "name": "python",
   "nbconvert_exporter": "python",
   "pygments_lexer": "ipython3",
   "version": "3.6.8"
  }
 },
 "nbformat": 4,
 "nbformat_minor": 2
}
