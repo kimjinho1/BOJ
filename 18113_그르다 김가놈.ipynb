{
 "cells": [
  {
   "cell_type": "code",
   "execution_count": null,
   "metadata": {
    "ExecuteTime": {
     "end_time": "2021-03-07T15:40:38.816438Z",
     "start_time": "2021-03-07T15:40:34.818497Z"
    }
   },
   "outputs": [],
   "source": [
    "import sys\n",
    "\n",
    "def count(li, m):\n",
    "    t = 0\n",
    "    for n in li:\n",
    "        if n <= K:\n",
    "            continue\n",
    "        elif n < 2*K:\n",
    "            n -= K\n",
    "        else:\n",
    "            n -= 2*K\n",
    "        t += n//m\n",
    "    return t\n",
    "    \n",
    "N, K, M = map(int, sys.stdin.readline().split())\n",
    "li = [int(sys.stdin.readline()) for _ in range(N)]\n",
    "s, e = 1, max(li)\n",
    "res = 0\n",
    "while s <= e:\n",
    "    m = (s+e)//2\n",
    "    if count(li, m) >= M:\n",
    "        res = m\n",
    "        s = m+1\n",
    "    else:\n",
    "        e = m-1\n",
    "print(res if res else -1)"
   ]
  },
  {
   "cell_type": "code",
   "execution_count": 22,
   "metadata": {
    "ExecuteTime": {
     "end_time": "2021-03-07T15:54:23.354826Z",
     "start_time": "2021-03-07T15:54:09.901884Z"
    }
   },
   "outputs": [
    {
     "name": "stdout",
     "output_type": "stream",
     "text": [
      "3 6 4\n",
      "20\n",
      "10\n",
      "3\n",
      "2\n"
     ]
    }
   ],
   "source": [
    "def count(li, m):\n",
    "    t = 0\n",
    "    for n in li:\n",
    "        if n <= K:\n",
    "            continue\n",
    "        elif n < 2*K:\n",
    "            n -= K\n",
    "        else:\n",
    "            n -= 2*K\n",
    "        t += n//m\n",
    "    return t\n",
    "    \n",
    "N, K, M = map(int, input().split())\n",
    "li = [int(input()) for _ in range(N)]\n",
    "s, e = 1, max(li)\n",
    "res = 0\n",
    "while s <= e:\n",
    "    m = (s+e)//2\n",
    "    if count(li, m) >= M:\n",
    "        res = m\n",
    "        s = m+1\n",
    "    else:\n",
    "        e = m-1\n",
    "print(res if res else -1)"
   ]
  },
  {
   "cell_type": "code",
   "execution_count": 23,
   "metadata": {
    "ExecuteTime": {
     "end_time": "2021-03-07T15:54:28.793518Z",
     "start_time": "2021-03-07T15:54:25.492712Z"
    }
   },
   "outputs": [
    {
     "name": "stdout",
     "output_type": "stream",
     "text": [
      "3 8 1\n",
      "16\n",
      "7\n",
      "8\n",
      "-1\n"
     ]
    }
   ],
   "source": [
    "def count(li, m):\n",
    "    t = 0\n",
    "    for n in li:\n",
    "        if n <= K:\n",
    "            continue\n",
    "        elif n < 2*K:\n",
    "            n -= K\n",
    "        else:\n",
    "            n -= 2*K\n",
    "        t += n//m\n",
    "    return t\n",
    "    \n",
    "N, K, M = map(int, input().split())\n",
    "li = [int(input()) for _ in range(N)]\n",
    "s, e = 1, max(li)\n",
    "res = 0\n",
    "while s <= e:\n",
    "    m = (s+e)//2\n",
    "    if count(li, m) >= M:\n",
    "        res = m\n",
    "        s = m+1\n",
    "    else:\n",
    "        e = m-1\n",
    "print(res if res else -1)"
   ]
  },
  {
   "cell_type": "code",
   "execution_count": null,
   "metadata": {},
   "outputs": [],
   "source": []
  }
 ],
 "metadata": {
  "kernelspec": {
   "display_name": "Python 3",
   "language": "python",
   "name": "python3"
  },
  "language_info": {
   "codemirror_mode": {
    "name": "ipython",
    "version": 3
   },
   "file_extension": ".py",
   "mimetype": "text/x-python",
   "name": "python",
   "nbconvert_exporter": "python",
   "pygments_lexer": "ipython3",
   "version": "3.8.5"
  },
  "toc": {
   "base_numbering": 1,
   "nav_menu": {},
   "number_sections": true,
   "sideBar": true,
   "skip_h1_title": false,
   "title_cell": "Table of Contents",
   "title_sidebar": "Contents",
   "toc_cell": false,
   "toc_position": {},
   "toc_section_display": true,
   "toc_window_display": false
  },
  "varInspector": {
   "cols": {
    "lenName": 16,
    "lenType": 16,
    "lenVar": 40
   },
   "kernels_config": {
    "python": {
     "delete_cmd_postfix": "",
     "delete_cmd_prefix": "del ",
     "library": "var_list.py",
     "varRefreshCmd": "print(var_dic_list())"
    },
    "r": {
     "delete_cmd_postfix": ") ",
     "delete_cmd_prefix": "rm(",
     "library": "var_list.r",
     "varRefreshCmd": "cat(var_dic_list()) "
    }
   },
   "types_to_exclude": [
    "module",
    "function",
    "builtin_function_or_method",
    "instance",
    "_Feature"
   ],
   "window_display": false
  }
 },
 "nbformat": 4,
 "nbformat_minor": 4
}
