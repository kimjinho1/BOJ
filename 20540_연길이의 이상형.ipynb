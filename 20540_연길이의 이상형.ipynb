{
 "cells": [
  {
   "cell_type": "code",
   "execution_count": 2,
   "id": "loved-moscow",
   "metadata": {
    "ExecuteTime": {
     "end_time": "2021-03-16T19:36:28.298997Z",
     "start_time": "2021-03-16T19:36:22.637496Z"
    }
   },
   "outputs": [
    {
     "name": "stdout",
     "output_type": "stream",
     "text": [
      "ESTJ\n",
      "INFP\n"
     ]
    }
   ],
   "source": [
    "s = input()\n",
    "li = ['E', 'I', 'S', 'N', 'T', 'F', 'J', 'P']\n",
    "for c in s:\n",
    "    li.remove(c)\n",
    "res = ''.join(li)\n",
    "print(res)"
   ]
  },
  {
   "cell_type": "code",
   "execution_count": 3,
   "id": "happy-evans",
   "metadata": {
    "ExecuteTime": {
     "end_time": "2021-03-16T19:36:35.640988Z",
     "start_time": "2021-03-16T19:36:35.131347Z"
    }
   },
   "outputs": [
    {
     "name": "stdout",
     "output_type": "stream",
     "text": [
      "INFP\n",
      "ESTJ\n"
     ]
    }
   ],
   "source": [
    "s = input()\n",
    "li = ['E', 'I', 'S', 'N', 'T', 'F', 'J', 'P']\n",
    "for c in s:\n",
    "    li.remove(c)\n",
    "res = ''.join(li)\n",
    "print(res)"
   ]
  },
  {
   "cell_type": "code",
   "execution_count": null,
   "id": "hearing-standing",
   "metadata": {},
   "outputs": [],
   "source": []
  }
 ],
 "metadata": {
  "kernelspec": {
   "display_name": "Python 3",
   "language": "python",
   "name": "python3"
  },
  "language_info": {
   "codemirror_mode": {
    "name": "ipython",
    "version": 3
   },
   "file_extension": ".py",
   "mimetype": "text/x-python",
   "name": "python",
   "nbconvert_exporter": "python",
   "pygments_lexer": "ipython3",
   "version": "3.6.12"
  },
  "toc": {
   "base_numbering": 1,
   "nav_menu": {},
   "number_sections": true,
   "sideBar": true,
   "skip_h1_title": false,
   "title_cell": "Table of Contents",
   "title_sidebar": "Contents",
   "toc_cell": false,
   "toc_position": {},
   "toc_section_display": true,
   "toc_window_display": false
  },
  "varInspector": {
   "cols": {
    "lenName": 16,
    "lenType": 16,
    "lenVar": 40
   },
   "kernels_config": {
    "python": {
     "delete_cmd_postfix": "",
     "delete_cmd_prefix": "del ",
     "library": "var_list.py",
     "varRefreshCmd": "print(var_dic_list())"
    },
    "r": {
     "delete_cmd_postfix": ") ",
     "delete_cmd_prefix": "rm(",
     "library": "var_list.r",
     "varRefreshCmd": "cat(var_dic_list()) "
    }
   },
   "types_to_exclude": [
    "module",
    "function",
    "builtin_function_or_method",
    "instance",
    "_Feature"
   ],
   "window_display": false
  }
 },
 "nbformat": 4,
 "nbformat_minor": 5
}
