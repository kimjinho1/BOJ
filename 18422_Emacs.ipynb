{
 "cells": [
  {
   "cell_type": "code",
   "execution_count": 1,
   "id": "chronic-skirt",
   "metadata": {
    "ExecuteTime": {
     "end_time": "2021-03-16T17:29:57.308195Z",
     "start_time": "2021-03-16T17:29:34.223735Z"
    }
   },
   "outputs": [
    {
     "name": "stdout",
     "output_type": "stream",
     "text": [
      "6 7\n",
      "***....\n",
      "***..**\n",
      ".....**\n",
      ".***.**\n",
      ".***...\n",
      ".***...\n",
      "3\n"
     ]
    }
   ],
   "source": [
    "from collections import deque\n",
    "\n",
    "def bfs(y, x):\n",
    "    q = deque()\n",
    "    q.append((y, x))\n",
    "    graph[y][x] = '.'\n",
    "    while q:\n",
    "        y, x = q.popleft()\n",
    "        for dy, dx in d:\n",
    "            Y, X = y+dy, x+dx\n",
    "            if (0 <= Y < r) and (0 <= X < c) and graph[Y][X] == '*':\n",
    "                q.append((Y, X))\n",
    "                graph[Y][X] = '.'\n",
    "\n",
    "r, c = map(int, input().split())\n",
    "graph = [list(input()) for _ in range(r)]\n",
    "d = [(-1, 0), (1, 0), (0, -1), (0, 1)]\n",
    "cnt = 0\n",
    "for i in range(r):\n",
    "    for j in range(c):\n",
    "        if graph[i][j] == '*':\n",
    "            bfs(i, j)\n",
    "            cnt += 1\n",
    "print(cnt)"
   ]
  },
  {
   "cell_type": "code",
   "execution_count": 2,
   "id": "vocational-appointment",
   "metadata": {
    "ExecuteTime": {
     "end_time": "2021-03-16T17:30:37.125604Z",
     "start_time": "2021-03-16T17:30:30.631807Z"
    }
   },
   "outputs": [
    {
     "name": "stdout",
     "output_type": "stream",
     "text": [
      "3 3\n",
      "*.*\n",
      "...\n",
      "*.*\n",
      "4\n"
     ]
    }
   ],
   "source": [
    "from collections import deque\n",
    "\n",
    "def bfs(y, x):\n",
    "    q = deque()\n",
    "    q.append((y, x))\n",
    "    graph[y][x] = '.'\n",
    "    while q:\n",
    "        y, x = q.popleft()\n",
    "        for dy, dx in d:\n",
    "            Y, X = y+dy, x+dx\n",
    "            if (0 <= Y < r) and (0 <= X < c) and graph[Y][X] == '*':\n",
    "                q.append((Y, X))\n",
    "                graph[Y][X] = '.'\n",
    "\n",
    "r, c = map(int, input().split())\n",
    "graph = [list(input()) for _ in range(r)]\n",
    "d = [(-1, 0), (1, 0), (0, -1), (0, 1)]\n",
    "cnt = 0\n",
    "for i in range(r):\n",
    "    for j in range(c):\n",
    "        if graph[i][j] == '*':\n",
    "            bfs(i, j)\n",
    "            cnt += 1\n",
    "print(cnt)"
   ]
  },
  {
   "cell_type": "code",
   "execution_count": 3,
   "id": "entire-vector",
   "metadata": {
    "ExecuteTime": {
     "end_time": "2021-03-16T17:30:44.496932Z",
     "start_time": "2021-03-16T17:30:40.262135Z"
    }
   },
   "outputs": [
    {
     "name": "stdout",
     "output_type": "stream",
     "text": [
      "1 10\n",
      ".*.**.***.\n",
      "3\n"
     ]
    }
   ],
   "source": [
    "from collections import deque\n",
    "\n",
    "def bfs(y, x):\n",
    "    q = deque()\n",
    "    q.append((y, x))\n",
    "    graph[y][x] = '.'\n",
    "    while q:\n",
    "        y, x = q.popleft()\n",
    "        for dy, dx in d:\n",
    "            Y, X = y+dy, x+dx\n",
    "            if (0 <= Y < r) and (0 <= X < c) and graph[Y][X] == '*':\n",
    "                q.append((Y, X))\n",
    "                graph[Y][X] = '.'\n",
    "\n",
    "r, c = map(int, input().split())\n",
    "graph = [list(input()) for _ in range(r)]\n",
    "d = [(-1, 0), (1, 0), (0, -1), (0, 1)]\n",
    "cnt = 0\n",
    "for i in range(r):\n",
    "    for j in range(c):\n",
    "        if graph[i][j] == '*':\n",
    "            bfs(i, j)\n",
    "            cnt += 1\n",
    "print(cnt)"
   ]
  },
  {
   "cell_type": "code",
   "execution_count": null,
   "id": "unlimited-mixture",
   "metadata": {},
   "outputs": [],
   "source": []
  }
 ],
 "metadata": {
  "kernelspec": {
   "display_name": "Python 3",
   "language": "python",
   "name": "python3"
  },
  "language_info": {
   "codemirror_mode": {
    "name": "ipython",
    "version": 3
   },
   "file_extension": ".py",
   "mimetype": "text/x-python",
   "name": "python",
   "nbconvert_exporter": "python",
   "pygments_lexer": "ipython3",
   "version": "3.6.12"
  },
  "toc": {
   "base_numbering": 1,
   "nav_menu": {},
   "number_sections": true,
   "sideBar": true,
   "skip_h1_title": false,
   "title_cell": "Table of Contents",
   "title_sidebar": "Contents",
   "toc_cell": false,
   "toc_position": {},
   "toc_section_display": true,
   "toc_window_display": false
  },
  "varInspector": {
   "cols": {
    "lenName": 16,
    "lenType": 16,
    "lenVar": 40
   },
   "kernels_config": {
    "python": {
     "delete_cmd_postfix": "",
     "delete_cmd_prefix": "del ",
     "library": "var_list.py",
     "varRefreshCmd": "print(var_dic_list())"
    },
    "r": {
     "delete_cmd_postfix": ") ",
     "delete_cmd_prefix": "rm(",
     "library": "var_list.r",
     "varRefreshCmd": "cat(var_dic_list()) "
    }
   },
   "types_to_exclude": [
    "module",
    "function",
    "builtin_function_or_method",
    "instance",
    "_Feature"
   ],
   "window_display": false
  }
 },
 "nbformat": 4,
 "nbformat_minor": 5
}
