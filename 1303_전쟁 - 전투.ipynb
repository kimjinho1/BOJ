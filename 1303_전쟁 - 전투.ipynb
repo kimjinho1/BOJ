{
 "cells": [
  {
   "cell_type": "code",
   "execution_count": 12,
   "metadata": {
    "ExecuteTime": {
     "end_time": "2021-03-13T17:38:30.542599Z",
     "start_time": "2021-03-13T17:38:24.090272Z"
    }
   },
   "outputs": [
    {
     "name": "stdout",
     "output_type": "stream",
     "text": [
      "5 5\n",
      "WBWWW\n",
      "WWWWW\n",
      "BBBBB\n",
      "BBBWW\n",
      "WWWWW\n",
      "130 65\n"
     ]
    }
   ],
   "source": [
    "import sys\n",
    "sys.setrecursionlimit(3000000)\n",
    "\n",
    "def dfs(y, x, cnt):\n",
    "    c = graph[y][x]\n",
    "    graph[y][x] = 1\n",
    "    for dy, dx in d:\n",
    "        Y, X = y+dy, x+dx\n",
    "        if (0 <= Y < M) and (0 <= X < N) and graph[Y][X] == c:\n",
    "            cnt = dfs(Y, X, cnt+1)\n",
    "    return cnt\n",
    "\n",
    "N, M = map(int, input().split())\n",
    "graph = [list(input()) for _ in range(M)]\n",
    "d = [(-1, 0), (1, 0), (0, -1), (0, 1)]\n",
    "w = b = 0\n",
    "for i in range(M):\n",
    "    for j in range(N):\n",
    "        if graph[i][j] == 'W':\n",
    "            w += dfs(i, j, 1)**2\n",
    "        elif graph[i][j] == 'B':\n",
    "            b += dfs(i, j, 1)**2\n",
    "print(w, b)"
   ]
  },
  {
   "cell_type": "code",
   "execution_count": 13,
   "metadata": {
    "ExecuteTime": {
     "end_time": "2021-03-13T17:38:59.714447Z",
     "start_time": "2021-03-13T17:38:47.893204Z"
    },
    "scrolled": true
   },
   "outputs": [
    {
     "name": "stdout",
     "output_type": "stream",
     "text": [
      "5 5\n",
      "WBWWW\n",
      "WWWWW\n",
      "BBBBB\n",
      "BBBWW\n",
      "WWWWW\n",
      "130 65\n"
     ]
    }
   ],
   "source": [
    "from collections import deque\n",
    "\n",
    "def bfs(y, x):\n",
    "    q = deque()\n",
    "    q.append((y, x))\n",
    "    c = graph[y][x]\n",
    "    graph[y][x] = 1\n",
    "    cnt = 0\n",
    "    while q:\n",
    "        y, x = q.popleft()\n",
    "        cnt += 1\n",
    "        for dy, dx in d:\n",
    "            Y, X = y+dy, x+dx\n",
    "            if (0 <= Y < M) and (0 <= X < N) and graph[Y][X] == c:\n",
    "                q.append((Y, X))\n",
    "                graph[Y][X] = 1\n",
    "    return cnt\n",
    "\n",
    "N, M = map(int, input().split())\n",
    "graph = [list(input()) for _ in range(M)]\n",
    "d = [(-1, 0), (1, 0), (0, -1), (0, 1)]\n",
    "w = b = 0\n",
    "for i in range(M):\n",
    "    for j in range(N):\n",
    "        if graph[i][j] == 'W':\n",
    "            w += bfs(i, j)**2\n",
    "        elif graph[i][j] == 'B':\n",
    "            b += bfs(i, j)**2\n",
    "print(w, b)"
   ]
  },
  {
   "cell_type": "code",
   "execution_count": null,
   "metadata": {},
   "outputs": [],
   "source": []
  }
 ],
 "metadata": {
  "kernelspec": {
   "display_name": "Python 3",
   "language": "python",
   "name": "python3"
  },
  "language_info": {
   "codemirror_mode": {
    "name": "ipython",
    "version": 3
   },
   "file_extension": ".py",
   "mimetype": "text/x-python",
   "name": "python",
   "nbconvert_exporter": "python",
   "pygments_lexer": "ipython3",
   "version": "3.8.5"
  },
  "toc": {
   "base_numbering": 1,
   "nav_menu": {},
   "number_sections": true,
   "sideBar": true,
   "skip_h1_title": false,
   "title_cell": "Table of Contents",
   "title_sidebar": "Contents",
   "toc_cell": false,
   "toc_position": {},
   "toc_section_display": true,
   "toc_window_display": false
  },
  "varInspector": {
   "cols": {
    "lenName": 16,
    "lenType": 16,
    "lenVar": 40
   },
   "kernels_config": {
    "python": {
     "delete_cmd_postfix": "",
     "delete_cmd_prefix": "del ",
     "library": "var_list.py",
     "varRefreshCmd": "print(var_dic_list())"
    },
    "r": {
     "delete_cmd_postfix": ") ",
     "delete_cmd_prefix": "rm(",
     "library": "var_list.r",
     "varRefreshCmd": "cat(var_dic_list()) "
    }
   },
   "types_to_exclude": [
    "module",
    "function",
    "builtin_function_or_method",
    "instance",
    "_Feature"
   ],
   "window_display": false
  }
 },
 "nbformat": 4,
 "nbformat_minor": 4
}
