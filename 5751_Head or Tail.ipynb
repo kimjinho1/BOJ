{
 "cells": [
  {
   "cell_type": "code",
   "execution_count": 2,
   "id": "vertical-vienna",
   "metadata": {
    "ExecuteTime": {
     "end_time": "2021-02-14T11:01:14.303614Z",
     "start_time": "2021-02-14T11:01:06.826879Z"
    }
   },
   "outputs": [
    {
     "name": "stdout",
     "output_type": "stream",
     "text": [
      "5\n",
      "0 0 1 0 1\n",
      "Mary won 3 times and John won 2 times\n",
      "6\n",
      "0 0 0 0 0 1\n",
      "Mary won 5 times and John won 1 times\n",
      "0\n"
     ]
    }
   ],
   "source": [
    "while 1:\n",
    "    N = int(input())\n",
    "    if N == 0:\n",
    "        break\n",
    "    li = list(map(int, input().split()))\n",
    "    j = m = 0\n",
    "    for n in li:\n",
    "        if n == 1:\n",
    "            j += 1\n",
    "        else:\n",
    "            m += 1\n",
    "    print(f\"Mary won {m} times and John won {j} times\")"
   ]
  },
  {
   "cell_type": "code",
   "execution_count": null,
   "id": "current-details",
   "metadata": {},
   "outputs": [],
   "source": []
  }
 ],
 "metadata": {
  "kernelspec": {
   "display_name": "Python 3",
   "language": "python",
   "name": "python3"
  },
  "language_info": {
   "codemirror_mode": {
    "name": "ipython",
    "version": 3
   },
   "file_extension": ".py",
   "mimetype": "text/x-python",
   "name": "python",
   "nbconvert_exporter": "python",
   "pygments_lexer": "ipython3",
   "version": "3.7.9"
  },
  "toc": {
   "base_numbering": 1,
   "nav_menu": {},
   "number_sections": true,
   "sideBar": true,
   "skip_h1_title": false,
   "title_cell": "Table of Contents",
   "title_sidebar": "Contents",
   "toc_cell": false,
   "toc_position": {},
   "toc_section_display": true,
   "toc_window_display": false
  },
  "varInspector": {
   "cols": {
    "lenName": 16,
    "lenType": 16,
    "lenVar": 40
   },
   "kernels_config": {
    "python": {
     "delete_cmd_postfix": "",
     "delete_cmd_prefix": "del ",
     "library": "var_list.py",
     "varRefreshCmd": "print(var_dic_list())"
    },
    "r": {
     "delete_cmd_postfix": ") ",
     "delete_cmd_prefix": "rm(",
     "library": "var_list.r",
     "varRefreshCmd": "cat(var_dic_list()) "
    }
   },
   "types_to_exclude": [
    "module",
    "function",
    "builtin_function_or_method",
    "instance",
    "_Feature"
   ],
   "window_display": false
  }
 },
 "nbformat": 4,
 "nbformat_minor": 5
}
