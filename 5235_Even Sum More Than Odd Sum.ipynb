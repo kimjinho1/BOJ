{
 "cells": [
  {
   "cell_type": "code",
   "execution_count": 8,
   "id": "hungarian-clothing",
   "metadata": {
    "ExecuteTime": {
     "end_time": "2021-02-13T16:18:39.569355Z",
     "start_time": "2021-02-13T16:18:27.881803Z"
    }
   },
   "outputs": [
    {
     "name": "stdout",
     "output_type": "stream",
     "text": [
      "4\n",
      "8 5 7 2 1 10 13 6 12\n",
      "EVEN\n",
      "4 5 2 3 4\n",
      "ODD\n",
      "8 1 2 1 2 1 1 1 1 \n",
      "ODD\n",
      "6 1 1 2 3 5 8\n",
      "TIE\n"
     ]
    }
   ],
   "source": [
    "for _ in range(int(input())):\n",
    "    li = list(map(int, input().split()))[1:]\n",
    "    odd = even = 0\n",
    "    for n in li:\n",
    "        if n%2 == 1:\n",
    "            odd += n\n",
    "        else:\n",
    "            even += n\n",
    "    if odd == even:\n",
    "        print(\"TIE\")\n",
    "    elif odd > even:\n",
    "        print(\"ODD\")\n",
    "    else:\n",
    "        print(\"EVEN\")"
   ]
  },
  {
   "cell_type": "code",
   "execution_count": null,
   "id": "infinite-grove",
   "metadata": {},
   "outputs": [],
   "source": []
  }
 ],
 "metadata": {
  "kernelspec": {
   "display_name": "Python 3",
   "language": "python",
   "name": "python3"
  },
  "language_info": {
   "codemirror_mode": {
    "name": "ipython",
    "version": 3
   },
   "file_extension": ".py",
   "mimetype": "text/x-python",
   "name": "python",
   "nbconvert_exporter": "python",
   "pygments_lexer": "ipython3",
   "version": "3.7.9"
  },
  "toc": {
   "base_numbering": 1,
   "nav_menu": {},
   "number_sections": true,
   "sideBar": true,
   "skip_h1_title": false,
   "title_cell": "Table of Contents",
   "title_sidebar": "Contents",
   "toc_cell": false,
   "toc_position": {},
   "toc_section_display": true,
   "toc_window_display": false
  },
  "varInspector": {
   "cols": {
    "lenName": 16,
    "lenType": 16,
    "lenVar": 40
   },
   "kernels_config": {
    "python": {
     "delete_cmd_postfix": "",
     "delete_cmd_prefix": "del ",
     "library": "var_list.py",
     "varRefreshCmd": "print(var_dic_list())"
    },
    "r": {
     "delete_cmd_postfix": ") ",
     "delete_cmd_prefix": "rm(",
     "library": "var_list.r",
     "varRefreshCmd": "cat(var_dic_list()) "
    }
   },
   "types_to_exclude": [
    "module",
    "function",
    "builtin_function_or_method",
    "instance",
    "_Feature"
   ],
   "window_display": false
  }
 },
 "nbformat": 4,
 "nbformat_minor": 5
}
