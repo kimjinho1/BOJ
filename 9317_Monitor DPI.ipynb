{
 "cells": [
  {
   "cell_type": "code",
   "execution_count": 6,
   "id": "surrounded-glory",
   "metadata": {
    "ExecuteTime": {
     "end_time": "2021-02-19T04:28:00.121695Z",
     "start_time": "2021-02-19T04:27:52.589236Z"
    }
   },
   "outputs": [
    {
     "name": "stdout",
     "output_type": "stream",
     "text": [
      "15.6 1920 1080\n",
      "Horizontal DPI: 141.21\n",
      "Vertical DPI: 141.21\n",
      "11.0 1024 768\n",
      "Horizontal DPI: 106.81\n",
      "Vertical DPI: 142.41\n",
      "0 0 0\n"
     ]
    }
   ],
   "source": [
    "while 1:\n",
    "    d, rh, rv = map(float, input().split())\n",
    "    if d == rh == rv == 0:\n",
    "        break\n",
    "    w = 16 * d / 337**0.5 \n",
    "    h = w * 9/16\n",
    "    print('Horizontal DPI: %.2f'%(rh/w))\n",
    "    print('Vertical DPI: %.2f'%(rv/h))"
   ]
  },
  {
   "cell_type": "code",
   "execution_count": null,
   "id": "several-edgar",
   "metadata": {},
   "outputs": [],
   "source": []
  }
 ],
 "metadata": {
  "kernelspec": {
   "display_name": "Python 3",
   "language": "python",
   "name": "python3"
  },
  "language_info": {
   "codemirror_mode": {
    "name": "ipython",
    "version": 3
   },
   "file_extension": ".py",
   "mimetype": "text/x-python",
   "name": "python",
   "nbconvert_exporter": "python",
   "pygments_lexer": "ipython3",
   "version": "3.7.9"
  },
  "toc": {
   "base_numbering": 1,
   "nav_menu": {},
   "number_sections": true,
   "sideBar": true,
   "skip_h1_title": false,
   "title_cell": "Table of Contents",
   "title_sidebar": "Contents",
   "toc_cell": false,
   "toc_position": {},
   "toc_section_display": true,
   "toc_window_display": false
  },
  "varInspector": {
   "cols": {
    "lenName": 16,
    "lenType": 16,
    "lenVar": 40
   },
   "kernels_config": {
    "python": {
     "delete_cmd_postfix": "",
     "delete_cmd_prefix": "del ",
     "library": "var_list.py",
     "varRefreshCmd": "print(var_dic_list())"
    },
    "r": {
     "delete_cmd_postfix": ") ",
     "delete_cmd_prefix": "rm(",
     "library": "var_list.r",
     "varRefreshCmd": "cat(var_dic_list()) "
    }
   },
   "types_to_exclude": [
    "module",
    "function",
    "builtin_function_or_method",
    "instance",
    "_Feature"
   ],
   "window_display": false
  }
 },
 "nbformat": 4,
 "nbformat_minor": 5
}
