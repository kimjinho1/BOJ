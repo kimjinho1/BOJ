{
 "cells": [
  {
   "cell_type": "code",
   "execution_count": 10,
   "metadata": {
    "ExecuteTime": {
     "end_time": "2021-03-21T05:35:57.517265Z",
     "start_time": "2021-03-21T05:35:53.258452Z"
    }
   },
   "outputs": [
    {
     "name": "stdout",
     "output_type": "stream",
     "text": [
      "9\n",
      "1 2 2 4 4 5 7 7 2\n",
      "8\n"
     ]
    }
   ],
   "source": [
    "N = int(input())\n",
    "li = list(map(int, input().split()))\n",
    "dp1, dp2 = [1]*N, [1]*N\n",
    "for i in range(1, N):\n",
    "    if li[i] <= li[i-1]:\n",
    "        dp1[i] = max(dp1[i], dp1[i-1]+1)\n",
    "    if li[i] >= li[i-1]:\n",
    "        dp2[i] = max(dp2[i], dp2[i-1]+1)\n",
    "print(max(max(dp1), max(dp2)))"
   ]
  },
  {
   "cell_type": "code",
   "execution_count": 11,
   "metadata": {
    "ExecuteTime": {
     "end_time": "2021-03-21T05:36:04.084207Z",
     "start_time": "2021-03-21T05:36:02.907073Z"
    }
   },
   "outputs": [
    {
     "name": "stdout",
     "output_type": "stream",
     "text": [
      "9\n",
      "4 1 3 3 2 2 9 2 3\n",
      "4\n"
     ]
    }
   ],
   "source": [
    "N = int(input())\n",
    "li = list(map(int, input().split()))\n",
    "dp1, dp2 = [1]*N, [1]*N\n",
    "for i in range(1, N):\n",
    "    if li[i] <= li[i-1]:\n",
    "        dp1[i] = max(dp1[i], dp1[i-1]+1)\n",
    "    if li[i] >= li[i-1]:\n",
    "        dp2[i] = max(dp2[i], dp2[i-1]+1)\n",
    "print(max(max(dp1), max(dp2)))"
   ]
  },
  {
   "cell_type": "code",
   "execution_count": 12,
   "metadata": {
    "ExecuteTime": {
     "end_time": "2021-03-21T05:36:11.094196Z",
     "start_time": "2021-03-21T05:36:10.160485Z"
    }
   },
   "outputs": [
    {
     "name": "stdout",
     "output_type": "stream",
     "text": [
      "11\n",
      "1 5 3 6 4 7 1 3 2 9 5\n",
      "2\n"
     ]
    }
   ],
   "source": [
    "N = int(input())\n",
    "li = list(map(int, input().split()))\n",
    "dp1, dp2 = [1]*N, [1]*N\n",
    "for i in range(1, N):\n",
    "    if li[i] <= li[i-1]:\n",
    "        dp1[i] = max(dp1[i], dp1[i-1]+1)\n",
    "    if li[i] >= li[i-1]:\n",
    "        dp2[i] = max(dp2[i], dp2[i-1]+1)\n",
    "print(max(max(dp1), max(dp2)))"
   ]
  },
  {
   "cell_type": "code",
   "execution_count": null,
   "metadata": {},
   "outputs": [],
   "source": []
  }
 ],
 "metadata": {
  "kernelspec": {
   "display_name": "Python 3",
   "language": "python",
   "name": "python3"
  },
  "language_info": {
   "codemirror_mode": {
    "name": "ipython",
    "version": 3
   },
   "file_extension": ".py",
   "mimetype": "text/x-python",
   "name": "python",
   "nbconvert_exporter": "python",
   "pygments_lexer": "ipython3",
   "version": "3.8.5"
  },
  "toc": {
   "base_numbering": 1,
   "nav_menu": {},
   "number_sections": true,
   "sideBar": true,
   "skip_h1_title": false,
   "title_cell": "Table of Contents",
   "title_sidebar": "Contents",
   "toc_cell": false,
   "toc_position": {},
   "toc_section_display": true,
   "toc_window_display": false
  },
  "varInspector": {
   "cols": {
    "lenName": 16,
    "lenType": 16,
    "lenVar": 40
   },
   "kernels_config": {
    "python": {
     "delete_cmd_postfix": "",
     "delete_cmd_prefix": "del ",
     "library": "var_list.py",
     "varRefreshCmd": "print(var_dic_list())"
    },
    "r": {
     "delete_cmd_postfix": ") ",
     "delete_cmd_prefix": "rm(",
     "library": "var_list.r",
     "varRefreshCmd": "cat(var_dic_list()) "
    }
   },
   "types_to_exclude": [
    "module",
    "function",
    "builtin_function_or_method",
    "instance",
    "_Feature"
   ],
   "window_display": false
  }
 },
 "nbformat": 4,
 "nbformat_minor": 4
}
