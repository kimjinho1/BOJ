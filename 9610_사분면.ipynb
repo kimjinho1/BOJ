{
 "cells": [
  {
   "cell_type": "code",
   "execution_count": 5,
   "id": "interested-advocate",
   "metadata": {
    "ExecuteTime": {
     "end_time": "2021-02-21T17:29:28.815736Z",
     "start_time": "2021-02-21T17:29:23.282311Z"
    }
   },
   "outputs": [
    {
     "name": "stdout",
     "output_type": "stream",
     "text": [
      "5\n",
      "0 0\n",
      "0 1\n",
      "1 1\n",
      "3 -3\n",
      "2 2\n",
      "Q1: 2\n",
      "Q2: 0\n",
      "Q3: 0\n",
      "Q4: 1\n",
      "AXIS: 2\n"
     ]
    }
   ],
   "source": [
    "li = [0]*5\n",
    "for _ in range(int(input())):\n",
    "    x, y = map(int, input().split())\n",
    "    if x == 0 or y == 0:\n",
    "        li[4] += 1\n",
    "    elif x > 0 and y > 0:\n",
    "        li[0] += 1\n",
    "    elif x < 0 and y > 0:\n",
    "        li[1] += 1\n",
    "    elif x < 0 and y < 0:\n",
    "        li[2] += 1\n",
    "    else:\n",
    "        li[3] += 1\n",
    "for i in range(4):\n",
    "    print(f\"Q{i+1}: {li[i]}\")\n",
    "print(f\"AXIS: {li[4]}\")"
   ]
  },
  {
   "cell_type": "code",
   "execution_count": null,
   "id": "endangered-amber",
   "metadata": {},
   "outputs": [],
   "source": []
  }
 ],
 "metadata": {
  "kernelspec": {
   "display_name": "Python 3",
   "language": "python",
   "name": "python3"
  },
  "language_info": {
   "codemirror_mode": {
    "name": "ipython",
    "version": 3
   },
   "file_extension": ".py",
   "mimetype": "text/x-python",
   "name": "python",
   "nbconvert_exporter": "python",
   "pygments_lexer": "ipython3",
   "version": "3.7.9"
  },
  "toc": {
   "base_numbering": 1,
   "nav_menu": {},
   "number_sections": true,
   "sideBar": true,
   "skip_h1_title": false,
   "title_cell": "Table of Contents",
   "title_sidebar": "Contents",
   "toc_cell": false,
   "toc_position": {},
   "toc_section_display": true,
   "toc_window_display": false
  },
  "varInspector": {
   "cols": {
    "lenName": 16,
    "lenType": 16,
    "lenVar": 40
   },
   "kernels_config": {
    "python": {
     "delete_cmd_postfix": "",
     "delete_cmd_prefix": "del ",
     "library": "var_list.py",
     "varRefreshCmd": "print(var_dic_list())"
    },
    "r": {
     "delete_cmd_postfix": ") ",
     "delete_cmd_prefix": "rm(",
     "library": "var_list.r",
     "varRefreshCmd": "cat(var_dic_list()) "
    }
   },
   "types_to_exclude": [
    "module",
    "function",
    "builtin_function_or_method",
    "instance",
    "_Feature"
   ],
   "window_display": false
  }
 },
 "nbformat": 4,
 "nbformat_minor": 5
}
