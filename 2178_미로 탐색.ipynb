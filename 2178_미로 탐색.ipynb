{
 "cells": [
  {
   "cell_type": "code",
   "execution_count": 14,
   "metadata": {
    "ExecuteTime": {
     "end_time": "2021-03-09T12:25:37.132186Z",
     "start_time": "2021-03-09T12:25:28.839709Z"
    }
   },
   "outputs": [
    {
     "name": "stdout",
     "output_type": "stream",
     "text": [
      "4 6\n",
      "101111\n",
      "101010\n",
      "101011\n",
      "111011\n",
      "15\n"
     ]
    }
   ],
   "source": [
    "from collections import deque\n",
    "\n",
    "def bfs():\n",
    "    queue = deque()\n",
    "    queue.append((0, 0))\n",
    "    d = [(0, 1), (0, -1), (1, 0), (-1, 0)]\n",
    "    while queue:\n",
    "        y, x = queue.popleft()\n",
    "        for dy, dx in d:\n",
    "            Y, X = y+dy, x+dx\n",
    "            if (0 <= Y < N) and (0 <= X < M) and graph[Y][X] == 1:\n",
    "                graph[Y][X] = graph[y][x] + 1\n",
    "                queue.append((Y, X))\n",
    "\n",
    "N, M = map(int, input().split())\n",
    "graph = [list(map(int, list(input()))) for _ in range(N)]\n",
    "bfs()\n",
    "print(graph[N-1][M-1])"
   ]
  },
  {
   "cell_type": "code",
   "execution_count": 16,
   "metadata": {
    "ExecuteTime": {
     "end_time": "2021-03-09T12:26:05.543856Z",
     "start_time": "2021-03-09T12:25:58.069932Z"
    }
   },
   "outputs": [
    {
     "name": "stdout",
     "output_type": "stream",
     "text": [
      "4 6\n",
      "110110\n",
      "110110\n",
      "111111\n",
      "111101\n",
      "9\n"
     ]
    }
   ],
   "source": [
    "N, M = map(int, input().split())\n",
    "graph = [list(map(int, list(input()))) for _ in range(N)]\n",
    "bfs()\n",
    "print(graph[N-1][M-1])"
   ]
  },
  {
   "cell_type": "code",
   "execution_count": 17,
   "metadata": {
    "ExecuteTime": {
     "end_time": "2021-03-09T12:26:14.569460Z",
     "start_time": "2021-03-09T12:26:09.787332Z"
    }
   },
   "outputs": [
    {
     "name": "stdout",
     "output_type": "stream",
     "text": [
      "2 25\n",
      "1011101110111011101110111\n",
      "1110111011101110111011101\n",
      "38\n"
     ]
    }
   ],
   "source": [
    "N, M = map(int, input().split())\n",
    "graph = [list(map(int, list(input()))) for _ in range(N)]\n",
    "bfs()\n",
    "print(graph[N-1][M-1])"
   ]
  },
  {
   "cell_type": "code",
   "execution_count": 18,
   "metadata": {
    "ExecuteTime": {
     "end_time": "2021-03-09T12:26:31.279371Z",
     "start_time": "2021-03-09T12:26:19.520714Z"
    }
   },
   "outputs": [
    {
     "name": "stdout",
     "output_type": "stream",
     "text": [
      "7 7\n",
      "1011111\n",
      "1110001\n",
      "1000001\n",
      "1000001\n",
      "1000001\n",
      "1000001\n",
      "1111111\n",
      "13\n"
     ]
    }
   ],
   "source": [
    "N, M = map(int, input().split())\n",
    "graph = [list(map(int, list(input()))) for _ in range(N)]\n",
    "bfs()\n",
    "print(graph[N-1][M-1])"
   ]
  },
  {
   "cell_type": "code",
   "execution_count": null,
   "metadata": {},
   "outputs": [],
   "source": []
  }
 ],
 "metadata": {
  "kernelspec": {
   "display_name": "Python 3",
   "language": "python",
   "name": "python3"
  },
  "language_info": {
   "codemirror_mode": {
    "name": "ipython",
    "version": 3
   },
   "file_extension": ".py",
   "mimetype": "text/x-python",
   "name": "python",
   "nbconvert_exporter": "python",
   "pygments_lexer": "ipython3",
   "version": "3.8.5"
  },
  "toc": {
   "base_numbering": 1,
   "nav_menu": {},
   "number_sections": true,
   "sideBar": true,
   "skip_h1_title": false,
   "title_cell": "Table of Contents",
   "title_sidebar": "Contents",
   "toc_cell": false,
   "toc_position": {},
   "toc_section_display": true,
   "toc_window_display": false
  },
  "varInspector": {
   "cols": {
    "lenName": 16,
    "lenType": 16,
    "lenVar": 40
   },
   "kernels_config": {
    "python": {
     "delete_cmd_postfix": "",
     "delete_cmd_prefix": "del ",
     "library": "var_list.py",
     "varRefreshCmd": "print(var_dic_list())"
    },
    "r": {
     "delete_cmd_postfix": ") ",
     "delete_cmd_prefix": "rm(",
     "library": "var_list.r",
     "varRefreshCmd": "cat(var_dic_list()) "
    }
   },
   "types_to_exclude": [
    "module",
    "function",
    "builtin_function_or_method",
    "instance",
    "_Feature"
   ],
   "window_display": false
  }
 },
 "nbformat": 4,
 "nbformat_minor": 4
}
