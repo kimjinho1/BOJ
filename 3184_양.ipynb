{
 "cells": [
  {
   "cell_type": "code",
   "execution_count": 21,
   "metadata": {
    "ExecuteTime": {
     "end_time": "2021-03-12T05:40:38.739624Z",
     "start_time": "2021-03-12T05:40:26.857479Z"
    },
    "scrolled": true
   },
   "outputs": [
    {
     "name": "stdout",
     "output_type": "stream",
     "text": [
      "6 6\n",
      "...#..\n",
      ".##v#.\n",
      "#v.#.#\n",
      "#.o#.#\n",
      ".###.#\n",
      "...###\n",
      "0 2\n"
     ]
    }
   ],
   "source": [
    "from collections import deque\n",
    "\n",
    "def bfs(y, x):\n",
    "    queue = deque()\n",
    "    queue.append((y, x))\n",
    "    s = w = 0\n",
    "    while queue:\n",
    "        y, x = queue.popleft()\n",
    "        for dy, dx in d:\n",
    "            Y, X = y+dy, x+dx\n",
    "            if (0 <= Y < R) and (0 <= X < C) and graph[Y][X] != '#' and check[Y][X] == 0:\n",
    "                if graph[Y][X] == 'o':\n",
    "                    s += 1\n",
    "                elif graph[Y][X] == 'v':\n",
    "                    w += 1\n",
    "                check[Y][X] = 1\n",
    "                queue.append((Y, X))\n",
    "    return s, w\n",
    "\n",
    "R, C = map(int, input().split())\n",
    "graph = [list(input()) for _ in range(R)]\n",
    "check = [[0]*(C) for _ in range(R)]\n",
    "d = [(-1, 0), (1, 0), (0, -1), (0, 1)]\n",
    "S = W = 0\n",
    "for i in range(R):\n",
    "    for j in range(C):\n",
    "        if graph[i][j] != '#' and check[i][j] == 0:\n",
    "            s = w = 0    \n",
    "            if graph[i][j] == 'o':\n",
    "                s += 1\n",
    "            elif graph[i][j] == 'v':\n",
    "                w += 1\n",
    "            check[i][j] = 1\n",
    "            a, b = bfs(i, j)\n",
    "            s, w = s+a, w+b\n",
    "            if s > w:\n",
    "                w = 0\n",
    "            else:\n",
    "                s = 0\n",
    "            S += s\n",
    "            W += w\n",
    "print(S, W)"
   ]
  },
  {
   "cell_type": "code",
   "execution_count": 18,
   "metadata": {
    "ExecuteTime": {
     "end_time": "2021-03-12T05:38:56.704267Z",
     "start_time": "2021-03-12T05:38:39.649577Z"
    }
   },
   "outputs": [
    {
     "name": "stdout",
     "output_type": "stream",
     "text": [
      "8 8\n",
      ".######.\n",
      "#..o...#\n",
      "#.####.#\n",
      "#.#v.#.#\n",
      "#.#.o#o#\n",
      "#o.##..#\n",
      "#.v..v.#\n",
      ".######.\n",
      "3 1\n"
     ]
    }
   ],
   "source": [
    "from collections import deque\n",
    "\n",
    "def bfs(y, x):\n",
    "    queue = deque()\n",
    "    queue.append((y, x))\n",
    "    s = w = 0\n",
    "    while queue:\n",
    "        y, x = queue.popleft()\n",
    "        for dy, dx in d:\n",
    "            Y, X = y+dy, x+dx\n",
    "            if (0 <= Y < R) and (0 <= X < C) and graph[Y][X] != '#' and check[Y][X] == 0:\n",
    "                if graph[Y][X] == 'o':\n",
    "                    s += 1\n",
    "                elif graph[Y][X] == 'v':\n",
    "                    w += 1\n",
    "                check[Y][X] = 1\n",
    "                queue.append((Y, X))\n",
    "    return s, w\n",
    "\n",
    "R, C = map(int, input().split())\n",
    "graph = [list(input()) for _ in range(R)]\n",
    "check = [[0]*(C) for _ in range(R)]\n",
    "d = [(-1, 0), (1, 0), (0, -1), (0, 1)]\n",
    "S = W = 0\n",
    "for i in range(R):\n",
    "    for j in range(C):\n",
    "        if graph[i][j] != '#' and check[i][j] == 0:\n",
    "            s = w = 0    \n",
    "            if graph[i][j] == 'o':\n",
    "                s += 1\n",
    "            elif graph[i][j] == 'v':\n",
    "                w += 1\n",
    "            check[i][j] = 1\n",
    "            a, b = bfs(i, j)\n",
    "            s, w = s+a, w+b\n",
    "            if s > w:\n",
    "                w = 0\n",
    "            else:\n",
    "                s = 0\n",
    "            S += s\n",
    "            W += w\n",
    "print(S, W)"
   ]
  },
  {
   "cell_type": "code",
   "execution_count": 20,
   "metadata": {
    "ExecuteTime": {
     "end_time": "2021-03-12T05:39:40.643186Z",
     "start_time": "2021-03-12T05:39:17.956063Z"
    }
   },
   "outputs": [
    {
     "name": "stdout",
     "output_type": "stream",
     "text": [
      "9 12\n",
      ".###.#####..\n",
      "#.oo#...#v#.\n",
      "#..o#.#.#.#.\n",
      "#..##o#...#.\n",
      "#.#v#o###.#.\n",
      "#..#v#....#.\n",
      "#...v#v####.\n",
      ".####.#vv.o#\n",
      ".......####.\n",
      "3 5\n"
     ]
    }
   ],
   "source": [
    "from collections import deque\n",
    "\n",
    "def bfs(y, x):\n",
    "    queue = deque()\n",
    "    queue.append((y, x))\n",
    "    s = w = 0\n",
    "    while queue:\n",
    "        y, x = queue.popleft()\n",
    "        for dy, dx in d:\n",
    "            Y, X = y+dy, x+dx\n",
    "            if (0 <= Y < R) and (0 <= X < C) and graph[Y][X] != '#' and check[Y][X] == 0:\n",
    "                if graph[Y][X] == 'o':\n",
    "                    s += 1\n",
    "                elif graph[Y][X] == 'v':\n",
    "                    w += 1\n",
    "                check[Y][X] = 1\n",
    "                queue.append((Y, X))\n",
    "    return s, w\n",
    "\n",
    "R, C = map(int, input().split())\n",
    "graph = [list(input()) for _ in range(R)]\n",
    "check = [[0]*(C) for _ in range(R)]\n",
    "d = [(-1, 0), (1, 0), (0, -1), (0, 1)]\n",
    "S = W = 0\n",
    "for i in range(R):\n",
    "    for j in range(C):\n",
    "        if graph[i][j] != '#' and check[i][j] == 0:\n",
    "            s = w = 0    \n",
    "            if graph[i][j] == 'o':\n",
    "                s += 1\n",
    "            elif graph[i][j] == 'v':\n",
    "                w += 1\n",
    "            check[i][j] = 1\n",
    "            a, b = bfs(i, j)\n",
    "            s, w = s+a, w+b\n",
    "            if s > w:\n",
    "                w = 0\n",
    "            else:\n",
    "                s = 0\n",
    "            S += s\n",
    "            W += w\n",
    "print(S, W)"
   ]
  },
  {
   "cell_type": "code",
   "execution_count": null,
   "metadata": {},
   "outputs": [],
   "source": []
  }
 ],
 "metadata": {
  "kernelspec": {
   "display_name": "Python 3",
   "language": "python",
   "name": "python3"
  },
  "language_info": {
   "codemirror_mode": {
    "name": "ipython",
    "version": 3
   },
   "file_extension": ".py",
   "mimetype": "text/x-python",
   "name": "python",
   "nbconvert_exporter": "python",
   "pygments_lexer": "ipython3",
   "version": "3.8.5"
  },
  "toc": {
   "base_numbering": 1,
   "nav_menu": {},
   "number_sections": true,
   "sideBar": true,
   "skip_h1_title": false,
   "title_cell": "Table of Contents",
   "title_sidebar": "Contents",
   "toc_cell": false,
   "toc_position": {},
   "toc_section_display": true,
   "toc_window_display": false
  },
  "varInspector": {
   "cols": {
    "lenName": 16,
    "lenType": 16,
    "lenVar": 40
   },
   "kernels_config": {
    "python": {
     "delete_cmd_postfix": "",
     "delete_cmd_prefix": "del ",
     "library": "var_list.py",
     "varRefreshCmd": "print(var_dic_list())"
    },
    "r": {
     "delete_cmd_postfix": ") ",
     "delete_cmd_prefix": "rm(",
     "library": "var_list.r",
     "varRefreshCmd": "cat(var_dic_list()) "
    }
   },
   "types_to_exclude": [
    "module",
    "function",
    "builtin_function_or_method",
    "instance",
    "_Feature"
   ],
   "window_display": false
  }
 },
 "nbformat": 4,
 "nbformat_minor": 4
}
