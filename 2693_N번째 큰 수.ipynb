{
 "cells": [
  {
   "cell_type": "code",
   "execution_count": 1,
   "id": "arranged-affect",
   "metadata": {
    "ExecuteTime": {
     "end_time": "2021-02-20T09:39:14.394814Z",
     "start_time": "2021-02-20T09:38:59.227115Z"
    }
   },
   "outputs": [
    {
     "name": "stdout",
     "output_type": "stream",
     "text": [
      "4\n",
      "1 2 3 4 5 6 7 8 9 1000\n",
      "8\n",
      "338 304 619 95 343 496 489 116 98 127\n",
      "489\n",
      "931 240 986 894 826 640 965 833 136 138\n",
      "931\n",
      "940 955 364 188 133 254 501 122 768 408\n",
      "768\n"
     ]
    }
   ],
   "source": [
    "for _ in range(int(input())):\n",
    "    li = sorted(list(map(int, input().split())))\n",
    "    print(li[-3])"
   ]
  },
  {
   "cell_type": "code",
   "execution_count": null,
   "id": "complicated-adult",
   "metadata": {},
   "outputs": [],
   "source": []
  }
 ],
 "metadata": {
  "kernelspec": {
   "display_name": "Python 3",
   "language": "python",
   "name": "python3"
  },
  "language_info": {
   "codemirror_mode": {
    "name": "ipython",
    "version": 3
   },
   "file_extension": ".py",
   "mimetype": "text/x-python",
   "name": "python",
   "nbconvert_exporter": "python",
   "pygments_lexer": "ipython3",
   "version": "3.7.9"
  },
  "toc": {
   "base_numbering": 1,
   "nav_menu": {},
   "number_sections": true,
   "sideBar": true,
   "skip_h1_title": false,
   "title_cell": "Table of Contents",
   "title_sidebar": "Contents",
   "toc_cell": false,
   "toc_position": {},
   "toc_section_display": true,
   "toc_window_display": false
  },
  "varInspector": {
   "cols": {
    "lenName": 16,
    "lenType": 16,
    "lenVar": 40
   },
   "kernels_config": {
    "python": {
     "delete_cmd_postfix": "",
     "delete_cmd_prefix": "del ",
     "library": "var_list.py",
     "varRefreshCmd": "print(var_dic_list())"
    },
    "r": {
     "delete_cmd_postfix": ") ",
     "delete_cmd_prefix": "rm(",
     "library": "var_list.r",
     "varRefreshCmd": "cat(var_dic_list()) "
    }
   },
   "types_to_exclude": [
    "module",
    "function",
    "builtin_function_or_method",
    "instance",
    "_Feature"
   ],
   "window_display": false
  }
 },
 "nbformat": 4,
 "nbformat_minor": 5
}
